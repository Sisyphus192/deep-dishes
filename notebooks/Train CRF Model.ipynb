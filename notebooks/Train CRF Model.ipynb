{
 "cells": [
  {
   "cell_type": "code",
   "execution_count": 1,
   "metadata": {},
   "outputs": [],
   "source": [
    "%matplotlib inline\n",
    "import matplotlib.pyplot as plt\n",
    "plt.style.use('ggplot')"
   ]
  },
  {
   "cell_type": "code",
   "execution_count": 2,
   "metadata": {},
   "outputs": [],
   "source": [
    "from itertools import chain\n",
    "import csv\n",
    "\n",
    "import pandas as pd\n",
    "import sklearn\n",
    "import scipy.stats\n",
    "from sklearn.metrics import make_scorer\n",
    "from sklearn.model_selection import cross_val_score, RandomizedSearchCV\n",
    "from sklearn.model_selection import train_test_split\n",
    "\n",
    "import sklearn_crfsuite\n",
    "from sklearn_crfsuite import scorers\n",
    "from sklearn_crfsuite import metrics"
   ]
  },
  {
   "cell_type": "markdown",
   "metadata": {},
   "source": [
    "## Load training data"
   ]
  },
  {
   "cell_type": "code",
   "execution_count": 3,
   "metadata": {},
   "outputs": [],
   "source": [
    "features = pd.read_pickle(\"../data/interim/crf_training_features.pickle\")\n",
    "lables = pd.read_pickle(\"../data/interim/crf_training_labels.pickle\")\n",
    "\n",
    "\n",
    "#X_train, X_test, y_train, y_test = train_test_split(features, lables, test_size=0.2)\n",
    "#X_test = pd.read_pickle(\"../data/interim/crf_test_features.pickle\")\n",
    "#y_test = pd.read_pickle(\"../data/interim/crf_test_labels.pickle\")"
   ]
  },
  {
   "cell_type": "code",
   "execution_count": 4,
   "metadata": {},
   "outputs": [
    {
     "ename": "NameError",
     "evalue": "name 'X_train' is not defined",
     "output_type": "error",
     "traceback": [
      "\u001b[0;31m---------------------------------------------------------------------------\u001b[0m",
      "\u001b[0;31mNameError\u001b[0m                                 Traceback (most recent call last)",
      "\u001b[0;32m<ipython-input-4-691b4934c597>\u001b[0m in \u001b[0;36m<module>\u001b[0;34m\u001b[0m\n\u001b[0;32m----> 1\u001b[0;31m \u001b[0mX_train\u001b[0m\u001b[0;34m[\u001b[0m\u001b[0;36m0\u001b[0m\u001b[0;34m]\u001b[0m\u001b[0;34m\u001b[0m\u001b[0;34m\u001b[0m\u001b[0m\n\u001b[0m",
      "\u001b[0;31mNameError\u001b[0m: name 'X_train' is not defined"
     ]
    }
   ],
   "source": [
    "X_train[0]"
   ]
  },
  {
   "cell_type": "code",
   "execution_count": null,
   "metadata": {},
   "outputs": [],
   "source": [
    "y_train[0]"
   ]
  },
  {
   "cell_type": "markdown",
   "metadata": {},
   "source": [
    "## Training"
   ]
  },
  {
   "cell_type": "code",
   "execution_count": 5,
   "metadata": {},
   "outputs": [
    {
     "name": "stdout",
     "output_type": "stream",
     "text": [
      "CPU times: user 4min 20s, sys: 5.15 s, total: 4min 25s\n",
      "Wall time: 4min 47s\n"
     ]
    },
    {
     "data": {
      "text/plain": [
       "CRF(algorithm='lbfgs', all_possible_states=True, all_possible_transitions=True,\n",
       "    averaging=None, c=None, c1=0.43, c2=0.012, calibration_candidates=None,\n",
       "    calibration_eta=None, calibration_max_trials=None, calibration_rate=None,\n",
       "    calibration_samples=None, delta=None, epsilon=None, error_sensitive=None,\n",
       "    gamma=None, keep_tempfiles=None, linesearch='StrongBacktracking',\n",
       "    max_iterations=100, max_linesearch=None, min_freq=None, model_filename=None,\n",
       "    num_memories=None, pa_type=None, period=None, trainer_cls=None,\n",
       "    variance=None, verbose=False)"
      ]
     },
     "execution_count": 5,
     "metadata": {},
     "output_type": "execute_result"
    }
   ],
   "source": [
    "%%time\n",
    "crf = sklearn_crfsuite.CRF(\n",
    "    algorithm='lbfgs',\n",
    "    c1=0.43,\n",
    "    c2=0.012,\n",
    "    max_iterations=100,\n",
    "    all_possible_states= True,\n",
    "    all_possible_transitions = True,\n",
    "    linesearch =  'StrongBacktracking'\n",
    ")\n",
    "crf.fit(features, lables)"
   ]
  },
  {
   "cell_type": "markdown",
   "metadata": {},
   "source": [
    "## Evaluation "
   ]
  },
  {
   "cell_type": "code",
   "execution_count": null,
   "metadata": {},
   "outputs": [],
   "source": [
    "labels = list(crf.classes_)"
   ]
  },
  {
   "cell_type": "code",
   "execution_count": null,
   "metadata": {},
   "outputs": [],
   "source": [
    "y_pred = crf.predict(X_test)\n",
    "metrics.flat_f1_score(y_test, y_pred,\n",
    "                      average='weighted', labels=labels)"
   ]
  },
  {
   "cell_type": "markdown",
   "metadata": {},
   "source": [
    "Inspect per-class results in more detail:"
   ]
  },
  {
   "cell_type": "code",
   "execution_count": null,
   "metadata": {},
   "outputs": [],
   "source": [
    "# group B and I results\n",
    "sorted_labels = sorted(\n",
    "    labels,\n",
    "    key=lambda name: (name[1:], name[0])\n",
    ")\n",
    "print(metrics.flat_classification_report(\n",
    "    y_test, y_pred, labels=sorted_labels, digits=3\n",
    "))"
   ]
  },
  {
   "cell_type": "markdown",
   "metadata": {},
   "source": [
    "## Hyperparameter Optimization"
   ]
  },
  {
   "cell_type": "markdown",
   "metadata": {},
   "source": [
    "To improve quality try to select regularization parameters using randomized search and 3-fold cross-validation.\n",
    "\n",
    "It takes quite a lot of CPU time and RAM, so grab a tea and be patient, or reduce n_iter in RandomizedSearchCV, or fit model only on a subset of training data."
   ]
  },
  {
   "cell_type": "code",
   "execution_count": null,
   "metadata": {
    "scrolled": true
   },
   "outputs": [],
   "source": [
    "%%time\n",
    "# define fixed parameters and parameters to search\n",
    "crf = sklearn_crfsuite.CRF(\n",
    "    algorithm='lbfgs',\n",
    "    max_iterations=100,\n",
    "    all_possible_transitions=True,\n",
    "    all_possible_states = True,\n",
    "    linesearch =  'StrongBacktracking'\n",
    ")\n",
    "params_space = {\n",
    "    'c1': scipy.stats.expon(scale=0.5),\n",
    "    'c2': scipy.stats.expon(scale=0.05),\n",
    "}\n",
    "\n",
    "# use the same metric for evaluation\n",
    "f1_scorer = make_scorer(metrics.flat_f1_score,\n",
    "                        average='weighted', labels=labels)\n",
    "\n",
    "# search\n",
    "rs = RandomizedSearchCV(crf, params_space,\n",
    "                        cv=3,\n",
    "                        verbose=1,\n",
    "                        n_jobs=-1,\n",
    "                        n_iter=50,\n",
    "                        scoring=f1_scorer)\n",
    "rs.fit(X_train, y_train)"
   ]
  },
  {
   "cell_type": "markdown",
   "metadata": {},
   "source": [
    "Best result:"
   ]
  },
  {
   "cell_type": "code",
   "execution_count": null,
   "metadata": {},
   "outputs": [],
   "source": [
    "print('best params:', rs.best_params_)\n",
    "print('best CV score:', rs.best_score_)\n",
    "print('model size: {:0.2f}M'.format(rs.best_estimator_.size_ / 1000000))"
   ]
  },
  {
   "cell_type": "markdown",
   "metadata": {},
   "source": [
    "## Check parameter space "
   ]
  },
  {
   "cell_type": "markdown",
   "metadata": {},
   "source": [
    "A chart which shows which c1 and c2 values have RandomizedSearchCV checked. Red color means better results, blue means worse."
   ]
  },
  {
   "cell_type": "code",
   "execution_count": null,
   "metadata": {},
   "outputs": [],
   "source": [
    "_x = rs.cv_results_[\"param_c1\"]\n",
    "_y = rs.cv_results_[\"param_c2\"]\n",
    "_c = rs.cv_results_[\"mean_test_score\"]\n",
    "\n",
    "fig = plt.figure()\n",
    "fig.set_size_inches(12, 12)\n",
    "ax = plt.gca()\n",
    "ax.set_yscale('log')\n",
    "ax.set_xscale('log')\n",
    "ax.set_xlabel('C1')\n",
    "ax.set_ylabel('C2')\n",
    "ax.set_title(\"Randomized Hyperparameter Search CV Results (min={:0.3}, max={:0.3})\".format(\n",
    "    min(_c), max(_c)\n",
    "))\n",
    "\n",
    "ax.scatter(_x, _y, c=_c, s=60, alpha=0.9, edgecolors=[0,0,0])\n",
    "\n",
    "print(\"Dark blue => {:0.4}, dark red => {:0.4}\".format(min(_c), max(_c)))\n"
   ]
  },
  {
   "cell_type": "markdown",
   "metadata": {},
   "source": [
    "## Check best estimator on our test data "
   ]
  },
  {
   "cell_type": "markdown",
   "metadata": {},
   "source": [
    "As you can see, quality is improved."
   ]
  },
  {
   "cell_type": "code",
   "execution_count": null,
   "metadata": {},
   "outputs": [],
   "source": [
    "#crf = rs.best_estimator_\n",
    "y_pred = crf.predict(X_test)\n",
    "print(metrics.flat_classification_report(\n",
    "    y_test, y_pred, labels=sorted_labels, digits=3\n",
    "))"
   ]
  },
  {
   "cell_type": "markdown",
   "metadata": {},
   "source": [
    "## Let's check what classifier learned"
   ]
  },
  {
   "cell_type": "code",
   "execution_count": 6,
   "metadata": {},
   "outputs": [
    {
     "name": "stdout",
     "output_type": "stream",
     "text": [
      "Top likely transitions:\n",
      "I-NAME -> I-NAME  2.571770\n",
      "I-COMMENT -> I-COMMENT 2.508770\n",
      "B-NAME -> I-NAME  2.489292\n",
      "B-COMMENT -> I-COMMENT 2.381683\n",
      "B-NAME -> B-COMMENT 1.242102\n",
      "B-UNIT -> B-COMMENT 1.171713\n",
      "B-COMMENT -> B-NAME  1.041518\n",
      "B-QTY  -> B-UNIT  0.977503\n",
      "I-NAME -> B-COMMENT 0.890107\n",
      "B-UNIT -> B-NAME  0.887822\n",
      "B-QTY  -> B-NAME  0.818354\n",
      "I-COMMENT -> B-NAME  0.322757\n",
      "B-QTY  -> B-COMMENT 0.205802\n",
      "I-COMMENT -> B-QTY   -0.000600\n",
      "B-NAME -> B-UNIT  -0.042445\n",
      "B-COMMENT -> B-UNIT  -0.549676\n",
      "B-COMMENT -> B-QTY   -0.588682\n",
      "I-COMMENT -> B-UNIT  -0.633832\n",
      "I-NAME -> B-UNIT  -0.886721\n",
      "B-QTY  -> B-QTY   -2.596278\n",
      "\n",
      "Top unlikely transitions:\n",
      "B-COMMENT -> B-QTY   -0.588682\n",
      "I-COMMENT -> B-UNIT  -0.633832\n",
      "I-NAME -> B-UNIT  -0.886721\n",
      "B-QTY  -> B-QTY   -2.596278\n",
      "B-NAME -> B-QTY   -4.537193\n",
      "I-NAME -> B-QTY   -4.753589\n",
      "B-UNIT -> B-QTY   -6.100325\n",
      "B-NAME -> I-COMMENT -9.074924\n",
      "B-COMMENT -> B-COMMENT -9.166639\n",
      "I-NAME -> B-NAME  -9.197420\n",
      "I-NAME -> I-COMMENT -9.213901\n",
      "B-COMMENT -> I-NAME  -9.807339\n",
      "I-COMMENT -> B-COMMENT -9.841815\n",
      "B-NAME -> B-NAME  -10.193238\n",
      "B-QTY  -> I-COMMENT -10.414533\n",
      "B-QTY  -> I-NAME  -10.505616\n",
      "B-UNIT -> B-UNIT  -10.612000\n",
      "I-COMMENT -> I-NAME  -11.150148\n",
      "B-UNIT -> I-NAME  -11.483836\n",
      "B-UNIT -> I-COMMENT -11.661579\n"
     ]
    }
   ],
   "source": [
    "from collections import Counter\n",
    "\n",
    "def print_transitions(trans_features):\n",
    "    for (label_from, label_to), weight in trans_features:\n",
    "        print(\"%-6s -> %-7s %0.6f\" % (label_from, label_to, weight))\n",
    "\n",
    "print(\"Top likely transitions:\")\n",
    "print_transitions(Counter(crf.transition_features_).most_common(20))\n",
    "\n",
    "print(\"\\nTop unlikely transitions:\")\n",
    "print_transitions(Counter(crf.transition_features_).most_common()[-20:])"
   ]
  },
  {
   "cell_type": "markdown",
   "metadata": {},
   "source": [
    "Check the state features:"
   ]
  },
  {
   "cell_type": "code",
   "execution_count": 7,
   "metadata": {},
   "outputs": [
    {
     "name": "stdout",
     "output_type": "stream",
     "text": [
      "Top positive:\n",
      "7.183379 B-UNIT   lemma:quart\n",
      "7.119389 B-UNIT   lemma:pint\n",
      "6.847831 B-COMMENT -1:lemma:ranchero\n",
      "6.652601 B-NAME   +2:lemma:Pimm\n",
      "6.403273 B-COMMENT lemma:lot\n",
      "6.367340 I-COMMENT -1:shape:xxx/ddd\n",
      "6.239520 B-UNIT   lemma:ounce\n",
      "6.199581 B-UNIT   lemma:sprig\n",
      "6.088236 B-NAME   -1:lemma:tablespoons/21\n",
      "6.052733 B-NAME   -2:lemma:ingredient\n",
      "5.998698 B-UNIT   lemma:ounces\n",
      "5.920678 B-UNIT   lemma:pinch\n",
      "5.918084 B-UNIT   lemma:teaspoon\n",
      "5.898419 B-UNIT   lemma:tablespoon\n",
      "5.850259 B-UNIT   lemma:cups\n",
      "5.777448 B-UNIT   lemma:bunche\n",
      "5.728816 B-UNIT   lemma:quarts\n",
      "5.700073 B-UNIT   lemma:cup\n",
      "5.689977 I-COMMENT -1:shape:xxxx/d\n",
      "5.592567 B-UNIT   lemma:stalk\n",
      "5.505698 B-UNIT   lemma:gallon\n",
      "5.465947 B-UNIT   -2:lemma:jarred\n",
      "5.408447 I-COMMENT -1:shape:xxxx/ddd\n",
      "5.408415 B-NAME   -1:lemma:flatbread\n",
      "5.359547 B-UNIT   lemma:fillet\n",
      "5.281059 B-UNIT   lemma:envelope\n",
      "5.265977 I-COMMENT +2:lemma:bakery\n",
      "5.242218 B-UNIT   lemma:loaf\n",
      "5.208715 I-COMMENT lemma:lengthwise\n",
      "5.123494 B-UNIT   lemma:bar\n",
      "\n",
      "Top negative:\n",
      "-5.038601 B-NAME   lemma:slice\n",
      "-5.070150 I-COMMENT lemma:tequila\n",
      "-5.105488 I-COMMENT -2:lemma:filter\n",
      "-5.230956 B-UNIT   lemma:inch\n",
      "-5.233739 B-NAME   -2:lemma:plus\n",
      "-5.266884 B-NAME   lemma:piece\n",
      "-5.268116 B-NAME   lemma:pinch\n",
      "-5.274362 B-NAME   lemma:each\n",
      "-5.282686 B-NAME   -2:lemma:Smith\n",
      "-5.372644 B-NAME   lemma:bunch\n",
      "-5.584657 B-NAME   lemma:teaspoon\n",
      "-5.716690 I-NAME   -1:lemma:onion\n",
      "-5.719146 B-NAME   -1:lemma:to\n",
      "-5.762972 B-UNIT   +2:lemma:plus\n",
      "-5.781226 B-UNIT   is_title\n",
      "-5.806528 B-UNIT   lemma:fresh\n",
      "-5.876578 B-NAME   lemma:package\n",
      "-5.963699 B-UNIT   lemma:small\n",
      "-6.088592 B-UNIT   lemma:whole\n",
      "-6.152724 B-UNIT   lemma:large\n",
      "-6.294785 B-UNIT   lemma:medium\n",
      "-6.708524 B-NAME   lemma:pound\n",
      "-6.783210 B-NAME   lemma:cup\n",
      "-7.393213 B-NAME   lemma:ounce\n",
      "-7.440921 B-NAME   lemma:tablespoon\n",
      "-7.536150 B-COMMENT -1:lemma:extra\n",
      "-8.435711 B-QTY    is_alpha\n",
      "-8.451161 B-NAME   lemma:gram\n",
      "-9.648797 I-NAME   BOS\n",
      "-9.936344 I-COMMENT BOS\n"
     ]
    }
   ],
   "source": [
    "def print_state_features(state_features):\n",
    "    for (attr, label), weight in state_features:\n",
    "        print(\"%0.6f %-8s %s\" % (weight, label, attr))    \n",
    "\n",
    "print(\"Top positive:\")\n",
    "print_state_features(Counter(crf.state_features_).most_common(30))\n",
    "\n",
    "print(\"\\nTop negative:\")\n",
    "print_state_features(Counter(crf.state_features_).most_common()[-30:])"
   ]
  },
  {
   "cell_type": "code",
   "execution_count": 8,
   "metadata": {},
   "outputs": [
    {
     "data": {
      "text/plain": [
       "['../models/crf_model.joblib']"
      ]
     },
     "execution_count": 8,
     "metadata": {},
     "output_type": "execute_result"
    }
   ],
   "source": [
    "from joblib import dump, load\n",
    "dump(crf, '../models/crf_model.joblib') "
   ]
  },
  {
   "cell_type": "code",
   "execution_count": null,
   "metadata": {},
   "outputs": [],
   "source": []
  }
 ],
 "metadata": {
  "kernelspec": {
   "display_name": "Python 3",
   "language": "python",
   "name": "python3"
  },
  "language_info": {
   "codemirror_mode": {
    "name": "ipython",
    "version": 3
   },
   "file_extension": ".py",
   "mimetype": "text/x-python",
   "name": "python",
   "nbconvert_exporter": "python",
   "pygments_lexer": "ipython3",
   "version": "3.7.4"
  }
 },
 "nbformat": 4,
 "nbformat_minor": 2
}
