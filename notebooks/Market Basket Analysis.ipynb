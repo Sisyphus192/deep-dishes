{
 "cells": [
  {
   "cell_type": "code",
   "execution_count": 1,
   "metadata": {},
   "outputs": [],
   "source": [
    "import pandas as pd\n",
    "import numpy as np\n",
    "import uuid\n",
    "from collections import Counter\n",
    "import math\n",
    "from progressbar import ProgressBar, AdaptiveETA, Percentage, Bar, RotatingMarker"
   ]
  },
  {
   "cell_type": "code",
   "execution_count": 2,
   "metadata": {},
   "outputs": [],
   "source": [
    "df = pd.read_hdf('../data/processed/epi_vector.h5')"
   ]
  },
  {
   "cell_type": "code",
   "execution_count": 3,
   "metadata": {},
   "outputs": [],
   "source": [
    "dat = df.values[:,:-8]"
   ]
  },
  {
   "cell_type": "code",
   "execution_count": 4,
   "metadata": {},
   "outputs": [
    {
     "name": "stdout",
     "output_type": "stream",
     "text": [
      "[0.0 0.0 0.0 ... 0.0 0.0 0.0]\n"
     ]
    }
   ],
   "source": [
    "columns = list(df)\n",
    "print(dat[0])\n",
    "new_vec = []\n",
    "for recipe in dat:\n",
    "    ind = uuid.uuid4().hex\n",
    "    for i in range(len(recipe)):\n",
    "        if recipe[i] != 0:\n",
    "            new_vec.append([ind, columns[i]])"
   ]
  },
  {
   "cell_type": "code",
   "execution_count": 5,
   "metadata": {},
   "outputs": [
    {
     "data": {
      "text/html": [
       "<div>\n",
       "<style scoped>\n",
       "    .dataframe tbody tr th:only-of-type {\n",
       "        vertical-align: middle;\n",
       "    }\n",
       "\n",
       "    .dataframe tbody tr th {\n",
       "        vertical-align: top;\n",
       "    }\n",
       "\n",
       "    .dataframe thead th {\n",
       "        text-align: right;\n",
       "    }\n",
       "</style>\n",
       "<table border=\"1\" class=\"dataframe\">\n",
       "  <thead>\n",
       "    <tr style=\"text-align: right;\">\n",
       "      <th></th>\n",
       "      <th>name</th>\n",
       "    </tr>\n",
       "    <tr>\n",
       "      <th>index</th>\n",
       "      <th></th>\n",
       "    </tr>\n",
       "  </thead>\n",
       "  <tbody>\n",
       "    <tr>\n",
       "      <th>2038b17f6fb44f05932fd8a923b12f1f</th>\n",
       "      <td>coarsely grated sharp Cheddar</td>\n",
       "    </tr>\n",
       "    <tr>\n",
       "      <th>2038b17f6fb44f05932fd8a923b12f1f</th>\n",
       "      <td>garlic clove</td>\n",
       "    </tr>\n",
       "    <tr>\n",
       "      <th>b1389fafb4034eb9a6ca9df00a2e56e8</th>\n",
       "      <td>almond</td>\n",
       "    </tr>\n",
       "    <tr>\n",
       "      <th>b1389fafb4034eb9a6ca9df00a2e56e8</th>\n",
       "      <td>apricot jam</td>\n",
       "    </tr>\n",
       "    <tr>\n",
       "      <th>b1389fafb4034eb9a6ca9df00a2e56e8</th>\n",
       "      <td>brandy</td>\n",
       "    </tr>\n",
       "  </tbody>\n",
       "</table>\n",
       "</div>"
      ],
      "text/plain": [
       "                                                           name\n",
       "index                                                          \n",
       "2038b17f6fb44f05932fd8a923b12f1f  coarsely grated sharp Cheddar\n",
       "2038b17f6fb44f05932fd8a923b12f1f                   garlic clove\n",
       "b1389fafb4034eb9a6ca9df00a2e56e8                         almond\n",
       "b1389fafb4034eb9a6ca9df00a2e56e8                    apricot jam\n",
       "b1389fafb4034eb9a6ca9df00a2e56e8                         brandy"
      ]
     },
     "execution_count": 5,
     "metadata": {},
     "output_type": "execute_result"
    }
   ],
   "source": [
    "basketized = pd.DataFrame(new_vec, columns=[\"index\", \"name\"]).set_index('index', drop=False)\n",
    "del basketized[\"index\"]\n",
    "basketized.head()"
   ]
  },
  {
   "cell_type": "code",
   "execution_count": 6,
   "metadata": {},
   "outputs": [],
   "source": [
    "def generate_candidate_set(size, L):\n",
    "    candidate_set = set()\n",
    "    for i in range(len(L)):\n",
    "        for j in range(i+1, len(L)):\n",
    "            diff = L[i].difference(L[j])\n",
    "            if len(diff) == 1:\n",
    "                candidate_set.add(frozenset(L[i].union(L[j])))\n",
    "    return candidate_set\n",
    "\n",
    "def apriori(frame, support_per):\n",
    "    candidate_sets = []\n",
    "    frequent_sets = []\n",
    "    thresh = math.floor(len(frame.groupby(level=0))*support_per)\n",
    "    \n",
    "    C1 = Counter()\n",
    "    for ind, basket in frame.groupby(level=0):\n",
    "        for item in basket.values:\n",
    "            C1[item[0]] += 1\n",
    "    \n",
    "    L1 = []\n",
    "    for item in C1.most_common():\n",
    "        if item[1] > thresh:\n",
    "            L1.append(set([item[0]]))\n",
    "    print(L1)\n",
    "    \n",
    "    count = Counter()\n",
    "    candidate = generate_candidate_set(2, L1)\n",
    "    frequent = []\n",
    "    size = 2\n",
    "    while len(candidate) != 0:\n",
    "        widgets = ['Counting C{}: '.format(size), Percentage(), ' ', Bar(marker=RotatingMarker()), ' ', AdaptiveETA()]\n",
    "        pbar = ProgressBar(widgets=widgets)\n",
    "        for ind, basket in pbar(frame.groupby(level=0)):\n",
    "            for c in candidate:\n",
    "                if basket[\"name\"].isin(c).sum() == len(c):\n",
    "                    count[c] += 1\n",
    "        for item in count.most_common():\n",
    "            if item[1] > thresh:\n",
    "                frequent.append(set([item[0]]))\n",
    "        candidate_sets.append(candidate)\n",
    "        frequent_sets.append(frequent)\n",
    "        size += 1\n",
    "        count = Counter()\n",
    "        candidate = generate_candidate_set(size, frequent)\n",
    "        frequent = []\n",
    "        \n",
    "    return candidate_sets, frequent_sets"
   ]
  },
  {
   "cell_type": "code",
   "execution_count": 7,
   "metadata": {},
   "outputs": [
    {
     "name": "stdout",
     "output_type": "stream",
     "text": [
      "[{'salt'}, {'olive oil'}, {'sugar'}, {'egg'}, {'garlic'}, {'unsalted butter'}, {'onion'}, {'water'}, {'lemon juice'}, {'black pepper'}, {'all - purpose flour'}, {'vegetable oil'}, {'unsalte butter'}, {'milk'}, {'butter'}, {'vanilla extract'}, {'ginger'}, {'shallot'}, {'chicken broth'}, {'garlic clove'}, {'cinnamon'}, {'thyme'}, {'carrot'}, {'baking powder'}, {'tomato'}, {'lime juice'}, {'all purpose flour'}, {'parsley'}]\n"
     ]
    },
    {
     "name": "stderr",
     "output_type": "stream",
     "text": [
      "Counting C2: 100% ||||||||||||||||||||||||||||||||||||||||||||||| Time: 0:43:01\n",
      "Counting C3: 100% ||||||||||||||||||||||||||||||||||||||||||||||| Time: 0:13:54\n"
     ]
    }
   ],
   "source": [
    "c_sets, f_sets = apriori(basketized, 0.05)"
   ]
  },
  {
   "cell_type": "code",
   "execution_count": 8,
   "metadata": {},
   "outputs": [
    {
     "name": "stdout",
     "output_type": "stream",
     "text": [
      "[{frozenset({'egg', 'salt'})}, {frozenset({'egg', 'sugar'})}, {frozenset({'olive oil', 'garlic'})}, {frozenset({'sugar', 'salt'})}, {frozenset({'egg', 'unsalted butter'})}, {frozenset({'salt', 'unsalted butter'})}, {frozenset({'sugar', 'unsalted butter'})}, {frozenset({'onion', 'garlic'})}, {frozenset({'onion', 'olive oil'})}, {frozenset({'black pepper', 'salt'})}, {frozenset({'olive oil', 'salt'})}, {frozenset({'water', 'salt'})}, {frozenset({'water', 'sugar'})}, {frozenset({'all - purpose flour', 'salt'})}, {frozenset({'all - purpose flour', 'egg'})}, {frozenset({'vanilla extract', 'egg'})}]\n",
      "[]\n"
     ]
    }
   ],
   "source": [
    "for f in f_sets:\n",
    "    print(f)"
   ]
  }
 ],
 "metadata": {
  "kernelspec": {
   "display_name": "Python 3",
   "language": "python",
   "name": "python3"
  },
  "language_info": {
   "codemirror_mode": {
    "name": "ipython",
    "version": 3
   },
   "file_extension": ".py",
   "mimetype": "text/x-python",
   "name": "python",
   "nbconvert_exporter": "python",
   "pygments_lexer": "ipython3",
   "version": "3.6.8"
  },
  "varInspector": {
   "cols": {
    "lenName": 16,
    "lenType": 16,
    "lenVar": 40
   },
   "kernels_config": {
    "python": {
     "delete_cmd_postfix": "",
     "delete_cmd_prefix": "del ",
     "library": "var_list.py",
     "varRefreshCmd": "print(var_dic_list())"
    },
    "r": {
     "delete_cmd_postfix": ") ",
     "delete_cmd_prefix": "rm(",
     "library": "var_list.r",
     "varRefreshCmd": "cat(var_dic_list()) "
    }
   },
   "types_to_exclude": [
    "module",
    "function",
    "builtin_function_or_method",
    "instance",
    "_Feature"
   ],
   "window_display": false
  }
 },
 "nbformat": 4,
 "nbformat_minor": 2
}
