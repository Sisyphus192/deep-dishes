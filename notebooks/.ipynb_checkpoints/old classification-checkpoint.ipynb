{
 "cells": [
  {
   "cell_type": "code",
   "execution_count": 3,
   "metadata": {},
   "outputs": [],
   "source": [
    "import numpy as np\n",
    "import pandas as pd\n",
    "import matplotlib.pyplot as plt\n",
    "from collections import Counter\n",
    "from sklearn import svm\n",
    "from sklearn.naive_bayes import GaussianNB\n",
    "\n",
    "from sklearn.utils import class_weight\n",
    "from sklearn.model_selection import train_test_split\n",
    "import seaborn as sns\n",
    "from sklearn.metrics import classification_report\n",
    "import collections\n",
    "from sklearn.metrics import classification_report\n"
   ]
  },
  {
   "cell_type": "code",
   "execution_count": 4,
   "metadata": {},
   "outputs": [],
   "source": [
    "epi_data_df = pd.read_hdf('../data/processed/recipe_vectors.h5')"
   ]
  },
  {
   "cell_type": "code",
   "execution_count": 5,
   "metadata": {},
   "outputs": [
    {
     "data": {
      "text/plain": [
       "(48817, 4756)"
      ]
     },
     "execution_count": 5,
     "metadata": {},
     "output_type": "execute_result"
    }
   ],
   "source": [
    "epi_data_df.shape"
   ]
  },
  {
   "cell_type": "markdown",
   "metadata": {},
   "source": [
    "## Helper functions"
   ]
  },
  {
   "cell_type": "code",
   "execution_count": 47,
   "metadata": {},
   "outputs": [],
   "source": [
    "def countTags(sample_df):\n",
    "    '''\n",
    "    Takes in DF and get counts of tags using python Counter. \n",
    "    \n",
    "    count: DataFrame\n",
    "        DF to stores count. \n",
    "    indexNames: list\n",
    "        Goes through DF and keeps index of count values less than 30. \n",
    "        We then drop columns in count DF.\n",
    "    Return:\n",
    "    ------\n",
    "    count: Counter() value\n",
    "    '''\n",
    "\n",
    "    c = Counter()  \n",
    "    sample_df[\"tags\"].apply(lambda x: c.update(x))\n",
    "\n",
    "    count = pd.DataFrame()\n",
    "    count['tags_count'] = [c[i] for i in c]\n",
    "    count['tag'] = [i for i in c]\n",
    "    count = count.sort_values(by='tags_count',ascending=False)\n",
    "\n",
    "    indexNames = count[ count['tags_count'] <= 30 ].index\n",
    "\n",
    "    count.drop(indexNames , inplace=True)\n",
    "    return count\n"
   ]
  },
  {
   "cell_type": "code",
   "execution_count": 48,
   "metadata": {},
   "outputs": [],
   "source": [
    "def getallergyTags(count):\n",
    "    '''\n",
    "    Takes in count of tags and get any tags that ends with word 'Free'.\n",
    "    \n",
    "    Returns:\n",
    "    Pandas DF with allergy tags and it's count.\n",
    "    '''\n",
    "    count['allergy_tags'] = count['tag'].str.endswith('Free')\n",
    "\n",
    "    allergy_df = count[count['allergy_tags'] == True]\n",
    "    return allergy_df"
   ]
  },
  {
   "cell_type": "code",
   "execution_count": 49,
   "metadata": {},
   "outputs": [],
   "source": [
    "# Create column in sample_df for allergy tags\n",
    "def addallergytoDF(allergy_df,df):\n",
    "    '''\n",
    "    Takes in DF with allergy tags and loops through it and add column of boolean in df.\n",
    "    \n",
    "    Returns:\n",
    "    -------\n",
    "    updated df with allergy columns added.\n",
    "    '''\n",
    "    for i in allergy_df.tag:\n",
    "        df[i] = [i in tags for tags in df.tags]\n",
    "    return df"
   ]
  },
  {
   "cell_type": "code",
   "execution_count": null,
   "metadata": {},
   "outputs": [],
   "source": []
  },
  {
   "cell_type": "code",
   "execution_count": 50,
   "metadata": {},
   "outputs": [],
   "source": [
    "\n",
    "def loadCuisineType():\n",
    "    '''\n",
    "    It read cuisinetype,usa_city and states file, cleans data read from it. \n",
    "    \n",
    "    Returns:\n",
    "    A list of usa_cuisine and non_usa_cuisine.\n",
    "    '''\n",
    "    cuisinetype = pd.read_csv('cuisinetype.txt',header=None)\n",
    "    cuisinetype = cuisinetype.transpose()\n",
    "    cuisinetype = np.array(cuisinetype[0])\n",
    "    cuisinetype = [x.replace('\\'','') for x in cuisinetype]\n",
    "    cuisinetype = [x.replace('[','') for x in cuisinetype]\n",
    "    cuisinetype = [x.replace(']','') for x in cuisinetype]\n",
    "    cuisinetype = [x.lstrip() for x in cuisinetype]\n",
    "    \n",
    "    states = pd.read_csv('states.csv',header=None)\n",
    "    states = states.transpose()\n",
    "    states = np.array(states[0])\n",
    "    states = [x.lstrip() for x in states]\n",
    "    \n",
    "\n",
    "    city = pd.read_csv('usa_city.csv',header=None)\n",
    "    city = city.transpose()\n",
    "    city = np.array(city[0])\n",
    "    city = [x.replace('\\'','') for x in city]\n",
    "    city = [x.replace('[','') for x in city]\n",
    "    city = [x.replace(']','') for x in city]\n",
    "    city = [x.lstrip() for x in city]\n",
    "    usa_cuisine =states+city\n",
    "    \n",
    "    non_usa_cuisine = []\n",
    "    for i in cuisinetype:\n",
    "        if i not in usa_cuisine:\n",
    "            non_usa_cuisine.append(i)\n",
    "    return usa_cuisine,non_usa_cuisine\n",
    "    "
   ]
  },
  {
   "cell_type": "code",
   "execution_count": 51,
   "metadata": {},
   "outputs": [],
   "source": [
    "def addCuisinetypesToDF(sample_df,usa_cuisine,non_usa_cuisine):\n",
    "    '''\n",
    "    It loops through sample_df and add boolean value based on whether tags contains usa cities \n",
    "    and states or non-usa or none of both.\n",
    "    \n",
    "    returns:\n",
    "    --------\n",
    "    update sample_df with usa_cuisine column\n",
    "    '''\n",
    "    tags_value=[]\n",
    "    for tags in sample_df['tags']:\n",
    "        if(set(tags).intersection(usa_cuisine)):\n",
    "            tags_value.append(1)\n",
    "            continue\n",
    "        else:\n",
    "            if(set(tags).intersection(non_usa_cuisine)):\n",
    "                tags_value.append(0)\n",
    "            else:\n",
    "                tags_value.append(2)\n",
    "    sample_df['usa_cuisine'] = tags_value\n",
    "    return sample_df"
   ]
  },
  {
   "cell_type": "code",
   "execution_count": 54,
   "metadata": {},
   "outputs": [],
   "source": [
    "def dropZeroColumns(sample_df):\n",
    "    '''\n",
    "    Takes in a DF and drops all the row with only zeros value. \n",
    "    \n",
    "    Returns\n",
    "    -------\n",
    "    Reduced row DF\n",
    "    '''\n",
    "    sample_df = sample_df.loc[:, (sample_df != 0).any(axis=0)]\n",
    "    return sample_df"
   ]
  },
  {
   "cell_type": "code",
   "execution_count": 55,
   "metadata": {},
   "outputs": [],
   "source": [
    "def dropColumn(sample_df,col):\n",
    "    '''\n",
    "    Drops colums with infinite values. \n",
    "    \n",
    "    Returns\n",
    "    -------\n",
    "    reduced column DF\n",
    "    '''\n",
    "    sample_df = sample_df[(sample_df != np.inf).all(axis=1)]\n",
    "    sample_df = sample_df.drop(columns=col,axis=1)\n",
    "\n",
    "    return sample_df"
   ]
  },
  {
   "cell_type": "code",
   "execution_count": 56,
   "metadata": {},
   "outputs": [],
   "source": [
    "\n",
    "def getTrianData(sample_df,label_column):\n",
    "    '''Seperate data and label to classify, \n",
    "    X are attribute columns used to classify, Y is the label\n",
    "    first delete all infinity values in data. It also drop columns that are not needed.\n",
    "    \n",
    "    Returns\n",
    "    -------\n",
    "    \n",
    "    data Df and label DF\n",
    "    '''\n",
    "    data = sample_df.drop(columns=label_column, axis=1)\n",
    "    label = sample_df[label_column]\n",
    "    return data,label\n"
   ]
  },
  {
   "cell_type": "code",
   "execution_count": 70,
   "metadata": {},
   "outputs": [],
   "source": [
    "def addSeasontypesToDF(sample_df,season,label):\n",
    "    '''\n",
    "    Adds yearly seasons to sample_df\n",
    "    \n",
    "    season column value association:\n",
    "    1 ==> spring, 2 ==> summer, 3 ==> fall, 4 ==> winter, 0 ==> NA\n",
    "    Returns:\n",
    "    update sample_df\n",
    "    '''\n",
    "    tags_value=[]\n",
    "    for tags in sample_df['tags']:\n",
    "        if(season[0] in set(tags)): \n",
    "            tags_value.append(1)\n",
    "        elif(season[1] in set(tags)): \n",
    "            tags_value.append(2)\n",
    "        elif(season[2] in set(tags)): \n",
    "            tags_value.append(3)\n",
    "        elif(season[3] in set(tags)): \n",
    "            tags_value.append(4)\n",
    "        else:\n",
    "            tags_value.append(0) \n",
    "    sample_df[label] = tags_value\n",
    "    return sample_df"
   ]
  },
  {
   "cell_type": "code",
   "execution_count": 57,
   "metadata": {},
   "outputs": [],
   "source": [
    "class SVCmodel(object):\n",
    "    def __init__(self):\n",
    "        pass\n",
    "    def getSupport(self,model):\n",
    "        '''Indices of support vectors'''\n",
    "        return model.support_\n",
    "    def getClassWeight(self,model):\n",
    "        '''Support vectors'''\n",
    "        return model.class_weight_\n",
    "    def getNsupport(self,model):\n",
    "        '''# of support vector for each class'''\n",
    "        return model.n_support_\n",
    "    def getsupportcoef(self,model):\n",
    "        '''related to support vector in the decision function.'''\n",
    "        return model.dual_coef_\n",
    "    def getfeaturesweight(self,model):\n",
    "        '''weight assigned to the features'''\n",
    "        return model.coef_\n",
    "    def getintercept(self,model):\n",
    "        '''constants in decision function'''\n",
    "        return model.intercept_\n",
    "    def getfitstatus(self,model):\n",
    "        '''0 if correctly fitted, 1 otherwise(will raise warning)'''\n",
    "        return model.fit_status_\n",
    "    def getclasses(self,model):\n",
    "        '''The class label'''\n",
    "        return model.classes_\n",
    "    def getprobA(self,model):\n",
    "        '''array type, shape = [n_class*(n_classes-1)/2]'''\n",
    "        return model.probA_\n",
    "    def getprobB(self,model):\n",
    "        '''array type, shape = [n_class*(n_classes-1)/2].\n",
    "        If probability=True, it corresponds to the parameters \n",
    "        learned in Platt scaling to produce probability estimates \n",
    "        from decision values. If probability=False, it’s an empty array. \n",
    "        Platt scaling uses the logistic function \n",
    "        1 / (1 + exp(decision_value * probA_ + probB_)) \n",
    "        where probA_ and probB_ are learned from the dataset \n",
    "        '''\n",
    "        return model.probA_\n",
    "    def getclassweight(self,model):\n",
    "        '''multipliers of parameter C for each class.'''\n",
    "        return model.class_weight_\n",
    "    def getshapefit(self,model):\n",
    "        return model.shape_fit_"
   ]
  },
  {
   "cell_type": "markdown",
   "metadata": {},
   "source": [
    "## Data Preparation for Classification"
   ]
  },
  {
   "cell_type": "code",
   "execution_count": 367,
   "metadata": {},
   "outputs": [
    {
     "name": "stdout",
     "output_type": "stream",
     "text": [
      "CPU times: user 4.28 s, sys: 1.02 s, total: 5.3 s\n",
      "Wall time: 6.01 s\n"
     ]
    }
   ],
   "source": [
    "%%time\n",
    "# Cuisine Types: usa_cuisine ==> 1, non_usa_cuisine ==> 1, no_tags ==> 2\n",
    "tags_count = countTags(epi_data_df)\n",
    "usa_cuisine,non_usa_cuisine = loadCuisineType()\n",
    "allergy_tags = getallergyTags(tags_count)\n",
    "sample_df = epi_data_df.head(20000)\n",
    "sample_df = addCuisinetypesToDF(sample_df,usa_cuisine,non_usa_cuisine)\n",
    "cuisine_df = sample_df\n",
    "sample_df = addallergytoDF(allergy_tags,sample_df)\n",
    "sample_df = dropZeroColumns(sample_df)\n"
   ]
  },
  {
   "cell_type": "code",
   "execution_count": 369,
   "metadata": {
    "scrolled": false
   },
   "outputs": [
    {
     "data": {
      "text/html": [
       "<div>\n",
       "<style scoped>\n",
       "    .dataframe tbody tr th:only-of-type {\n",
       "        vertical-align: middle;\n",
       "    }\n",
       "\n",
       "    .dataframe tbody tr th {\n",
       "        vertical-align: top;\n",
       "    }\n",
       "\n",
       "    .dataframe thead th {\n",
       "        text-align: right;\n",
       "    }\n",
       "</style>\n",
       "<table border=\"1\" class=\"dataframe\">\n",
       "  <thead>\n",
       "    <tr style=\"text-align: right;\">\n",
       "      <th></th>\n",
       "      <th>Aleppo chili</th>\n",
       "      <th>Aleppo chili flake</th>\n",
       "      <th>Aleppo pepper</th>\n",
       "      <th>Amaretto</th>\n",
       "      <th>Amaretto liqueur</th>\n",
       "      <th>Amaro Montenegro</th>\n",
       "      <th>Amontillado sherry</th>\n",
       "      <th>Anaheim chili</th>\n",
       "      <th>Anaheim pepper</th>\n",
       "      <th>Ancho Chili Sauce</th>\n",
       "      <th>...</th>\n",
       "      <th>num_reviews</th>\n",
       "      <th>tags</th>\n",
       "      <th>title</th>\n",
       "      <th>usa_cuisine</th>\n",
       "      <th>Peanut Free</th>\n",
       "      <th>Soy Free</th>\n",
       "      <th>Tree Nut Free</th>\n",
       "      <th>Wheat/Gluten-Free</th>\n",
       "      <th>Dairy Free</th>\n",
       "      <th>Fat Free</th>\n",
       "    </tr>\n",
       "  </thead>\n",
       "  <tbody>\n",
       "    <tr>\n",
       "      <th>http://www.epicurious.com/recipes/food/views/-adult-pimiento-cheese-100852</th>\n",
       "      <td>0.0</td>\n",
       "      <td>0.0</td>\n",
       "      <td>0.0</td>\n",
       "      <td>0.0</td>\n",
       "      <td>0.0</td>\n",
       "      <td>0.0</td>\n",
       "      <td>0.0</td>\n",
       "      <td>0.0</td>\n",
       "      <td>0.0</td>\n",
       "      <td>0.0</td>\n",
       "      <td>...</td>\n",
       "      <td>25.0</td>\n",
       "      <td>[Cheese, Vegetable, No-Cook, Vegetarian, Quick...</td>\n",
       "      <td>\"Adult\" Pimiento Cheese</td>\n",
       "      <td>1</td>\n",
       "      <td>False</td>\n",
       "      <td>False</td>\n",
       "      <td>False</td>\n",
       "      <td>False</td>\n",
       "      <td>False</td>\n",
       "      <td>False</td>\n",
       "    </tr>\n",
       "    <tr>\n",
       "      <th>http://www.epicurious.com/recipes/food/views/-an-apple-a-day-51133430</th>\n",
       "      <td>0.0</td>\n",
       "      <td>0.0</td>\n",
       "      <td>0.0</td>\n",
       "      <td>0.0</td>\n",
       "      <td>0.0</td>\n",
       "      <td>0.0</td>\n",
       "      <td>0.0</td>\n",
       "      <td>0.0</td>\n",
       "      <td>0.0</td>\n",
       "      <td>0.0</td>\n",
       "      <td>...</td>\n",
       "      <td>3.0</td>\n",
       "      <td>[Ginger, Dessert, Bake, Apple, Almond, Fall, R...</td>\n",
       "      <td>\"An Apple a Day\"</td>\n",
       "      <td>2</td>\n",
       "      <td>True</td>\n",
       "      <td>True</td>\n",
       "      <td>False</td>\n",
       "      <td>False</td>\n",
       "      <td>False</td>\n",
       "      <td>False</td>\n",
       "    </tr>\n",
       "  </tbody>\n",
       "</table>\n",
       "<p>2 rows × 3883 columns</p>\n",
       "</div>"
      ],
      "text/plain": [
       "                                                    Aleppo chili  \\\n",
       "http://www.epicurious.com/recipes/food/views/-a...           0.0   \n",
       "http://www.epicurious.com/recipes/food/views/-a...           0.0   \n",
       "\n",
       "                                                    Aleppo chili flake  \\\n",
       "http://www.epicurious.com/recipes/food/views/-a...                 0.0   \n",
       "http://www.epicurious.com/recipes/food/views/-a...                 0.0   \n",
       "\n",
       "                                                    Aleppo pepper  Amaretto  \\\n",
       "http://www.epicurious.com/recipes/food/views/-a...            0.0       0.0   \n",
       "http://www.epicurious.com/recipes/food/views/-a...            0.0       0.0   \n",
       "\n",
       "                                                    Amaretto liqueur  \\\n",
       "http://www.epicurious.com/recipes/food/views/-a...               0.0   \n",
       "http://www.epicurious.com/recipes/food/views/-a...               0.0   \n",
       "\n",
       "                                                    Amaro Montenegro  \\\n",
       "http://www.epicurious.com/recipes/food/views/-a...               0.0   \n",
       "http://www.epicurious.com/recipes/food/views/-a...               0.0   \n",
       "\n",
       "                                                    Amontillado sherry  \\\n",
       "http://www.epicurious.com/recipes/food/views/-a...                 0.0   \n",
       "http://www.epicurious.com/recipes/food/views/-a...                 0.0   \n",
       "\n",
       "                                                    Anaheim chili  \\\n",
       "http://www.epicurious.com/recipes/food/views/-a...            0.0   \n",
       "http://www.epicurious.com/recipes/food/views/-a...            0.0   \n",
       "\n",
       "                                                    Anaheim pepper  \\\n",
       "http://www.epicurious.com/recipes/food/views/-a...             0.0   \n",
       "http://www.epicurious.com/recipes/food/views/-a...             0.0   \n",
       "\n",
       "                                                    Ancho Chili Sauce  ...  \\\n",
       "http://www.epicurious.com/recipes/food/views/-a...                0.0  ...   \n",
       "http://www.epicurious.com/recipes/food/views/-a...                0.0  ...   \n",
       "\n",
       "                                                    num_reviews  \\\n",
       "http://www.epicurious.com/recipes/food/views/-a...         25.0   \n",
       "http://www.epicurious.com/recipes/food/views/-a...          3.0   \n",
       "\n",
       "                                                                                                 tags  \\\n",
       "http://www.epicurious.com/recipes/food/views/-a...  [Cheese, Vegetable, No-Cook, Vegetarian, Quick...   \n",
       "http://www.epicurious.com/recipes/food/views/-a...  [Ginger, Dessert, Bake, Apple, Almond, Fall, R...   \n",
       "\n",
       "                                                                       title  \\\n",
       "http://www.epicurious.com/recipes/food/views/-a...  \"Adult\" Pimiento Cheese    \n",
       "http://www.epicurious.com/recipes/food/views/-a...         \"An Apple a Day\"    \n",
       "\n",
       "                                                    usa_cuisine  Peanut Free  \\\n",
       "http://www.epicurious.com/recipes/food/views/-a...            1        False   \n",
       "http://www.epicurious.com/recipes/food/views/-a...            2         True   \n",
       "\n",
       "                                                    Soy Free  Tree Nut Free  \\\n",
       "http://www.epicurious.com/recipes/food/views/-a...     False          False   \n",
       "http://www.epicurious.com/recipes/food/views/-a...      True          False   \n",
       "\n",
       "                                                    Wheat/Gluten-Free  \\\n",
       "http://www.epicurious.com/recipes/food/views/-a...              False   \n",
       "http://www.epicurious.com/recipes/food/views/-a...              False   \n",
       "\n",
       "                                                    Dairy Free  Fat Free  \n",
       "http://www.epicurious.com/recipes/food/views/-a...       False     False  \n",
       "http://www.epicurious.com/recipes/food/views/-a...       False     False  \n",
       "\n",
       "[2 rows x 3883 columns]"
      ]
     },
     "execution_count": 369,
     "metadata": {},
     "output_type": "execute_result"
    }
   ],
   "source": [
    "sample_df.head(2)"
   ]
  },
  {
   "cell_type": "code",
   "execution_count": 380,
   "metadata": {},
   "outputs": [
    {
     "data": {
      "text/plain": [
       "(20000, 3901)"
      ]
     },
     "execution_count": 380,
     "metadata": {},
     "output_type": "execute_result"
    }
   ],
   "source": [
    "sample_df.shape"
   ]
  },
  {
   "cell_type": "code",
   "execution_count": 390,
   "metadata": {
    "scrolled": false
   },
   "outputs": [
    {
     "name": "stdout",
     "output_type": "stream",
     "text": [
      "Tags list Containing Peanut Ingredient, but not Peanut Free tag 157\n"
     ]
    },
    {
     "data": {
      "text/plain": [
       "[('Peanut', 157),\n",
       " ('Tree Nut Free', 82),\n",
       " ('Soy Free', 76),\n",
       " ('Vegetarian', 72),\n",
       " ('Bon Appétit', 68),\n",
       " ('Pescatarian', 66),\n",
       " ('Kosher', 66),\n",
       " ('Dessert', 61),\n",
       " ('Gourmet', 54),\n",
       " ('Kid-Friendly', 50)]"
      ]
     },
     "execution_count": 390,
     "metadata": {},
     "output_type": "execute_result"
    }
   ],
   "source": [
    "s = Counter()\n",
    "tags_list = []\n",
    "count = 0\n",
    "for tags in sample_df['tags']:\n",
    "    if('Peanut' in tags):\n",
    "#         print(tags)\n",
    "        count +=1\n",
    "        for i in tags:\n",
    "            tags_list.append(i)\n",
    "\n",
    "print(\"Tags list Containing Peanut Ingredient, but not Peanut Free tag\",count)\n",
    "s.update(tags_list)\n",
    "s.most_common(10)"
   ]
  },
  {
   "cell_type": "code",
   "execution_count": 391,
   "metadata": {},
   "outputs": [
    {
     "data": {
      "text/html": [
       "<div>\n",
       "<style scoped>\n",
       "    .dataframe tbody tr th:only-of-type {\n",
       "        vertical-align: middle;\n",
       "    }\n",
       "\n",
       "    .dataframe tbody tr th {\n",
       "        vertical-align: top;\n",
       "    }\n",
       "\n",
       "    .dataframe thead th {\n",
       "        text-align: right;\n",
       "    }\n",
       "</style>\n",
       "<table border=\"1\" class=\"dataframe\">\n",
       "  <thead>\n",
       "    <tr style=\"text-align: right;\">\n",
       "      <th></th>\n",
       "      <th>tags_count</th>\n",
       "      <th>tag</th>\n",
       "      <th>allergy_tags</th>\n",
       "    </tr>\n",
       "  </thead>\n",
       "  <tbody>\n",
       "    <tr>\n",
       "      <th>19</th>\n",
       "      <td>16565</td>\n",
       "      <td>Peanut Free</td>\n",
       "      <td>True</td>\n",
       "    </tr>\n",
       "    <tr>\n",
       "      <th>20</th>\n",
       "      <td>16131</td>\n",
       "      <td>Soy Free</td>\n",
       "      <td>True</td>\n",
       "    </tr>\n",
       "    <tr>\n",
       "      <th>17</th>\n",
       "      <td>15512</td>\n",
       "      <td>Bon Appétit</td>\n",
       "      <td>False</td>\n",
       "    </tr>\n",
       "    <tr>\n",
       "      <th>34</th>\n",
       "      <td>14049</td>\n",
       "      <td>Tree Nut Free</td>\n",
       "      <td>True</td>\n",
       "    </tr>\n",
       "    <tr>\n",
       "      <th>3</th>\n",
       "      <td>13552</td>\n",
       "      <td>Vegetarian</td>\n",
       "      <td>False</td>\n",
       "    </tr>\n",
       "  </tbody>\n",
       "</table>\n",
       "</div>"
      ],
      "text/plain": [
       "    tags_count            tag  allergy_tags\n",
       "19       16565    Peanut Free          True\n",
       "20       16131       Soy Free          True\n",
       "17       15512    Bon Appétit         False\n",
       "34       14049  Tree Nut Free          True\n",
       "3        13552     Vegetarian         False"
      ]
     },
     "execution_count": 391,
     "metadata": {},
     "output_type": "execute_result"
    }
   ],
   "source": [
    "tags_count.head()"
   ]
  },
  {
   "cell_type": "code",
   "execution_count": 392,
   "metadata": {},
   "outputs": [
    {
     "data": {
      "text/html": [
       "<div>\n",
       "<style scoped>\n",
       "    .dataframe tbody tr th:only-of-type {\n",
       "        vertical-align: middle;\n",
       "    }\n",
       "\n",
       "    .dataframe tbody tr th {\n",
       "        vertical-align: top;\n",
       "    }\n",
       "\n",
       "    .dataframe thead th {\n",
       "        text-align: right;\n",
       "    }\n",
       "</style>\n",
       "<table border=\"1\" class=\"dataframe\">\n",
       "  <thead>\n",
       "    <tr style=\"text-align: right;\">\n",
       "      <th></th>\n",
       "      <th>tags_count</th>\n",
       "      <th>tag</th>\n",
       "      <th>allergy_tags</th>\n",
       "    </tr>\n",
       "  </thead>\n",
       "  <tbody>\n",
       "    <tr>\n",
       "      <th>19</th>\n",
       "      <td>16565</td>\n",
       "      <td>Peanut Free</td>\n",
       "      <td>True</td>\n",
       "    </tr>\n",
       "    <tr>\n",
       "      <th>20</th>\n",
       "      <td>16131</td>\n",
       "      <td>Soy Free</td>\n",
       "      <td>True</td>\n",
       "    </tr>\n",
       "    <tr>\n",
       "      <th>17</th>\n",
       "      <td>15512</td>\n",
       "      <td>Bon Appétit</td>\n",
       "      <td>False</td>\n",
       "    </tr>\n",
       "    <tr>\n",
       "      <th>34</th>\n",
       "      <td>14049</td>\n",
       "      <td>Tree Nut Free</td>\n",
       "      <td>True</td>\n",
       "    </tr>\n",
       "    <tr>\n",
       "      <th>3</th>\n",
       "      <td>13552</td>\n",
       "      <td>Vegetarian</td>\n",
       "      <td>False</td>\n",
       "    </tr>\n",
       "    <tr>\n",
       "      <th>...</th>\n",
       "      <td>...</td>\n",
       "      <td>...</td>\n",
       "      <td>...</td>\n",
       "    </tr>\n",
       "    <tr>\n",
       "      <th>3437</th>\n",
       "      <td>31</td>\n",
       "      <td>dumpling</td>\n",
       "      <td>False</td>\n",
       "    </tr>\n",
       "    <tr>\n",
       "      <th>4774</th>\n",
       "      <td>31</td>\n",
       "      <td>cocktail ingredients</td>\n",
       "      <td>False</td>\n",
       "    </tr>\n",
       "    <tr>\n",
       "      <th>821</th>\n",
       "      <td>31</td>\n",
       "      <td>jalapenos</td>\n",
       "      <td>False</td>\n",
       "    </tr>\n",
       "    <tr>\n",
       "      <th>4385</th>\n",
       "      <td>31</td>\n",
       "      <td>buttercream</td>\n",
       "      <td>False</td>\n",
       "    </tr>\n",
       "    <tr>\n",
       "      <th>1493</th>\n",
       "      <td>31</td>\n",
       "      <td>entertaining</td>\n",
       "      <td>False</td>\n",
       "    </tr>\n",
       "  </tbody>\n",
       "</table>\n",
       "<p>881 rows × 3 columns</p>\n",
       "</div>"
      ],
      "text/plain": [
       "      tags_count                   tag  allergy_tags\n",
       "19         16565           Peanut Free          True\n",
       "20         16131              Soy Free          True\n",
       "17         15512           Bon Appétit         False\n",
       "34         14049         Tree Nut Free          True\n",
       "3          13552            Vegetarian         False\n",
       "...          ...                   ...           ...\n",
       "3437          31              dumpling         False\n",
       "4774          31  cocktail ingredients         False\n",
       "821           31             jalapenos         False\n",
       "4385          31           buttercream         False\n",
       "1493          31          entertaining         False\n",
       "\n",
       "[881 rows x 3 columns]"
      ]
     },
     "execution_count": 392,
     "metadata": {},
     "output_type": "execute_result"
    }
   ],
   "source": [
    "tags_count"
   ]
  },
  {
   "cell_type": "markdown",
   "metadata": {},
   "source": [
    "### Deletes Not used columns for Classification"
   ]
  },
  {
   "cell_type": "code",
   "execution_count": 420,
   "metadata": {},
   "outputs": [],
   "source": [
    "drop_column = ['avg_rating','best_rating','prepare_again_rating','num_reviews','usa_cuisine','tags','title','season']\n",
    "label_column = ['Peanut Free','Soy Free','Tree Nut Free','Wheat/Gluten-Free','Dairy Free','Fat Free']\n",
    "\n",
    "# copy1 = sample_df\n",
    "# copy2 = sample_df\n",
    "# usa_tag_df = deleterows(copy1,'usa_cuisine',2,'',True)\n",
    "# no_cuisine_tag_df = deleterows(copy2,'usa_cuisine',1,0,False)\n"
   ]
  },
  {
   "cell_type": "code",
   "execution_count": 421,
   "metadata": {},
   "outputs": [
    {
     "data": {
      "text/html": [
       "<div>\n",
       "<style scoped>\n",
       "    .dataframe tbody tr th:only-of-type {\n",
       "        vertical-align: middle;\n",
       "    }\n",
       "\n",
       "    .dataframe tbody tr th {\n",
       "        vertical-align: top;\n",
       "    }\n",
       "\n",
       "    .dataframe thead th {\n",
       "        text-align: right;\n",
       "    }\n",
       "</style>\n",
       "<table border=\"1\" class=\"dataframe\">\n",
       "  <thead>\n",
       "    <tr style=\"text-align: right;\">\n",
       "      <th></th>\n",
       "      <th>Aleppo chili</th>\n",
       "      <th>Aleppo chili flake</th>\n",
       "      <th>Aleppo pepper</th>\n",
       "      <th>Amaretto</th>\n",
       "      <th>Amaretto liqueur</th>\n",
       "      <th>Amaro Montenegro</th>\n",
       "      <th>Amontillado sherry</th>\n",
       "      <th>Anaheim chili</th>\n",
       "      <th>Anaheim pepper</th>\n",
       "      <th>Ancho Chili Sauce</th>\n",
       "      <th>...</th>\n",
       "      <th>Dinner</th>\n",
       "      <th>Kidney Friendly</th>\n",
       "      <th>Winter</th>\n",
       "      <th>Fall</th>\n",
       "      <th>Sugar Conscious</th>\n",
       "      <th>Kid-Friendly</th>\n",
       "      <th>Healthy</th>\n",
       "      <th>Small Plates</th>\n",
       "      <th>Vegan</th>\n",
       "      <th>season</th>\n",
       "    </tr>\n",
       "  </thead>\n",
       "  <tbody>\n",
       "    <tr>\n",
       "      <th>http://www.epicurious.com/recipes/food/views/-adult-pimiento-cheese-100852</th>\n",
       "      <td>0.0</td>\n",
       "      <td>0.0</td>\n",
       "      <td>0.0</td>\n",
       "      <td>0.0</td>\n",
       "      <td>0.0</td>\n",
       "      <td>0.0</td>\n",
       "      <td>0.0</td>\n",
       "      <td>0.0</td>\n",
       "      <td>0.0</td>\n",
       "      <td>0.0</td>\n",
       "      <td>...</td>\n",
       "      <td>0</td>\n",
       "      <td>0</td>\n",
       "      <td>1</td>\n",
       "      <td>0</td>\n",
       "      <td>0</td>\n",
       "      <td>0</td>\n",
       "      <td>0</td>\n",
       "      <td>0</td>\n",
       "      <td>0</td>\n",
       "      <td>4</td>\n",
       "    </tr>\n",
       "    <tr>\n",
       "      <th>http://www.epicurious.com/recipes/food/views/-an-apple-a-day-51133430</th>\n",
       "      <td>0.0</td>\n",
       "      <td>0.0</td>\n",
       "      <td>0.0</td>\n",
       "      <td>0.0</td>\n",
       "      <td>0.0</td>\n",
       "      <td>0.0</td>\n",
       "      <td>0.0</td>\n",
       "      <td>0.0</td>\n",
       "      <td>0.0</td>\n",
       "      <td>0.0</td>\n",
       "      <td>...</td>\n",
       "      <td>0</td>\n",
       "      <td>0</td>\n",
       "      <td>0</td>\n",
       "      <td>1</td>\n",
       "      <td>0</td>\n",
       "      <td>0</td>\n",
       "      <td>0</td>\n",
       "      <td>0</td>\n",
       "      <td>0</td>\n",
       "      <td>3</td>\n",
       "    </tr>\n",
       "    <tr>\n",
       "      <th>http://www.epicurious.com/recipes/food/views/-blanketed-eggplant-305</th>\n",
       "      <td>0.0</td>\n",
       "      <td>0.0</td>\n",
       "      <td>0.0</td>\n",
       "      <td>0.0</td>\n",
       "      <td>0.0</td>\n",
       "      <td>0.0</td>\n",
       "      <td>0.0</td>\n",
       "      <td>0.0</td>\n",
       "      <td>0.0</td>\n",
       "      <td>0.0</td>\n",
       "      <td>...</td>\n",
       "      <td>0</td>\n",
       "      <td>0</td>\n",
       "      <td>0</td>\n",
       "      <td>0</td>\n",
       "      <td>0</td>\n",
       "      <td>0</td>\n",
       "      <td>0</td>\n",
       "      <td>0</td>\n",
       "      <td>1</td>\n",
       "      <td>0</td>\n",
       "    </tr>\n",
       "    <tr>\n",
       "      <th>http://www.epicurious.com/recipes/food/views/-bloody-mary-tomato-toast-with-celery-and-horseradish-56389813</th>\n",
       "      <td>0.0</td>\n",
       "      <td>0.0</td>\n",
       "      <td>0.0</td>\n",
       "      <td>0.0</td>\n",
       "      <td>0.0</td>\n",
       "      <td>0.0</td>\n",
       "      <td>0.0</td>\n",
       "      <td>0.0</td>\n",
       "      <td>0.0</td>\n",
       "      <td>0.0</td>\n",
       "      <td>...</td>\n",
       "      <td>0</td>\n",
       "      <td>0</td>\n",
       "      <td>0</td>\n",
       "      <td>0</td>\n",
       "      <td>0</td>\n",
       "      <td>1</td>\n",
       "      <td>0</td>\n",
       "      <td>1</td>\n",
       "      <td>0</td>\n",
       "      <td>1</td>\n",
       "    </tr>\n",
       "    <tr>\n",
       "      <th>http://www.epicurious.com/recipes/food/views/-bow-tie-pasta-with-zucchini-101932</th>\n",
       "      <td>0.0</td>\n",
       "      <td>0.0</td>\n",
       "      <td>0.0</td>\n",
       "      <td>0.0</td>\n",
       "      <td>0.0</td>\n",
       "      <td>0.0</td>\n",
       "      <td>0.0</td>\n",
       "      <td>0.0</td>\n",
       "      <td>0.0</td>\n",
       "      <td>0.0</td>\n",
       "      <td>...</td>\n",
       "      <td>1</td>\n",
       "      <td>0</td>\n",
       "      <td>0</td>\n",
       "      <td>0</td>\n",
       "      <td>0</td>\n",
       "      <td>0</td>\n",
       "      <td>0</td>\n",
       "      <td>0</td>\n",
       "      <td>0</td>\n",
       "      <td>2</td>\n",
       "    </tr>\n",
       "  </tbody>\n",
       "</table>\n",
       "<p>5 rows × 3902 columns</p>\n",
       "</div>"
      ],
      "text/plain": [
       "                                                    Aleppo chili  \\\n",
       "http://www.epicurious.com/recipes/food/views/-a...           0.0   \n",
       "http://www.epicurious.com/recipes/food/views/-a...           0.0   \n",
       "http://www.epicurious.com/recipes/food/views/-b...           0.0   \n",
       "http://www.epicurious.com/recipes/food/views/-b...           0.0   \n",
       "http://www.epicurious.com/recipes/food/views/-b...           0.0   \n",
       "\n",
       "                                                    Aleppo chili flake  \\\n",
       "http://www.epicurious.com/recipes/food/views/-a...                 0.0   \n",
       "http://www.epicurious.com/recipes/food/views/-a...                 0.0   \n",
       "http://www.epicurious.com/recipes/food/views/-b...                 0.0   \n",
       "http://www.epicurious.com/recipes/food/views/-b...                 0.0   \n",
       "http://www.epicurious.com/recipes/food/views/-b...                 0.0   \n",
       "\n",
       "                                                    Aleppo pepper  Amaretto  \\\n",
       "http://www.epicurious.com/recipes/food/views/-a...            0.0       0.0   \n",
       "http://www.epicurious.com/recipes/food/views/-a...            0.0       0.0   \n",
       "http://www.epicurious.com/recipes/food/views/-b...            0.0       0.0   \n",
       "http://www.epicurious.com/recipes/food/views/-b...            0.0       0.0   \n",
       "http://www.epicurious.com/recipes/food/views/-b...            0.0       0.0   \n",
       "\n",
       "                                                    Amaretto liqueur  \\\n",
       "http://www.epicurious.com/recipes/food/views/-a...               0.0   \n",
       "http://www.epicurious.com/recipes/food/views/-a...               0.0   \n",
       "http://www.epicurious.com/recipes/food/views/-b...               0.0   \n",
       "http://www.epicurious.com/recipes/food/views/-b...               0.0   \n",
       "http://www.epicurious.com/recipes/food/views/-b...               0.0   \n",
       "\n",
       "                                                    Amaro Montenegro  \\\n",
       "http://www.epicurious.com/recipes/food/views/-a...               0.0   \n",
       "http://www.epicurious.com/recipes/food/views/-a...               0.0   \n",
       "http://www.epicurious.com/recipes/food/views/-b...               0.0   \n",
       "http://www.epicurious.com/recipes/food/views/-b...               0.0   \n",
       "http://www.epicurious.com/recipes/food/views/-b...               0.0   \n",
       "\n",
       "                                                    Amontillado sherry  \\\n",
       "http://www.epicurious.com/recipes/food/views/-a...                 0.0   \n",
       "http://www.epicurious.com/recipes/food/views/-a...                 0.0   \n",
       "http://www.epicurious.com/recipes/food/views/-b...                 0.0   \n",
       "http://www.epicurious.com/recipes/food/views/-b...                 0.0   \n",
       "http://www.epicurious.com/recipes/food/views/-b...                 0.0   \n",
       "\n",
       "                                                    Anaheim chili  \\\n",
       "http://www.epicurious.com/recipes/food/views/-a...            0.0   \n",
       "http://www.epicurious.com/recipes/food/views/-a...            0.0   \n",
       "http://www.epicurious.com/recipes/food/views/-b...            0.0   \n",
       "http://www.epicurious.com/recipes/food/views/-b...            0.0   \n",
       "http://www.epicurious.com/recipes/food/views/-b...            0.0   \n",
       "\n",
       "                                                    Anaheim pepper  \\\n",
       "http://www.epicurious.com/recipes/food/views/-a...             0.0   \n",
       "http://www.epicurious.com/recipes/food/views/-a...             0.0   \n",
       "http://www.epicurious.com/recipes/food/views/-b...             0.0   \n",
       "http://www.epicurious.com/recipes/food/views/-b...             0.0   \n",
       "http://www.epicurious.com/recipes/food/views/-b...             0.0   \n",
       "\n",
       "                                                    Ancho Chili Sauce  ...  \\\n",
       "http://www.epicurious.com/recipes/food/views/-a...                0.0  ...   \n",
       "http://www.epicurious.com/recipes/food/views/-a...                0.0  ...   \n",
       "http://www.epicurious.com/recipes/food/views/-b...                0.0  ...   \n",
       "http://www.epicurious.com/recipes/food/views/-b...                0.0  ...   \n",
       "http://www.epicurious.com/recipes/food/views/-b...                0.0  ...   \n",
       "\n",
       "                                                    Dinner  Kidney Friendly  \\\n",
       "http://www.epicurious.com/recipes/food/views/-a...       0                0   \n",
       "http://www.epicurious.com/recipes/food/views/-a...       0                0   \n",
       "http://www.epicurious.com/recipes/food/views/-b...       0                0   \n",
       "http://www.epicurious.com/recipes/food/views/-b...       0                0   \n",
       "http://www.epicurious.com/recipes/food/views/-b...       1                0   \n",
       "\n",
       "                                                    Winter  Fall  \\\n",
       "http://www.epicurious.com/recipes/food/views/-a...       1     0   \n",
       "http://www.epicurious.com/recipes/food/views/-a...       0     1   \n",
       "http://www.epicurious.com/recipes/food/views/-b...       0     0   \n",
       "http://www.epicurious.com/recipes/food/views/-b...       0     0   \n",
       "http://www.epicurious.com/recipes/food/views/-b...       0     0   \n",
       "\n",
       "                                                    Sugar Conscious  \\\n",
       "http://www.epicurious.com/recipes/food/views/-a...                0   \n",
       "http://www.epicurious.com/recipes/food/views/-a...                0   \n",
       "http://www.epicurious.com/recipes/food/views/-b...                0   \n",
       "http://www.epicurious.com/recipes/food/views/-b...                0   \n",
       "http://www.epicurious.com/recipes/food/views/-b...                0   \n",
       "\n",
       "                                                    Kid-Friendly  Healthy  \\\n",
       "http://www.epicurious.com/recipes/food/views/-a...             0        0   \n",
       "http://www.epicurious.com/recipes/food/views/-a...             0        0   \n",
       "http://www.epicurious.com/recipes/food/views/-b...             0        0   \n",
       "http://www.epicurious.com/recipes/food/views/-b...             1        0   \n",
       "http://www.epicurious.com/recipes/food/views/-b...             0        0   \n",
       "\n",
       "                                                    Small Plates  Vegan  \\\n",
       "http://www.epicurious.com/recipes/food/views/-a...             0      0   \n",
       "http://www.epicurious.com/recipes/food/views/-a...             0      0   \n",
       "http://www.epicurious.com/recipes/food/views/-b...             0      1   \n",
       "http://www.epicurious.com/recipes/food/views/-b...             1      0   \n",
       "http://www.epicurious.com/recipes/food/views/-b...             0      0   \n",
       "\n",
       "                                                    season  \n",
       "http://www.epicurious.com/recipes/food/views/-a...       4  \n",
       "http://www.epicurious.com/recipes/food/views/-a...       3  \n",
       "http://www.epicurious.com/recipes/food/views/-b...       0  \n",
       "http://www.epicurious.com/recipes/food/views/-b...       1  \n",
       "http://www.epicurious.com/recipes/food/views/-b...       2  \n",
       "\n",
       "[5 rows x 3902 columns]"
      ]
     },
     "execution_count": 421,
     "metadata": {},
     "output_type": "execute_result"
    }
   ],
   "source": [
    "sample_df.head()"
   ]
  },
  {
   "cell_type": "code",
   "execution_count": 422,
   "metadata": {},
   "outputs": [],
   "source": [
    "sample_df = dropColumn(sample_df,drop_column)"
   ]
  },
  {
   "cell_type": "code",
   "execution_count": 423,
   "metadata": {},
   "outputs": [
    {
     "data": {
      "text/html": [
       "<div>\n",
       "<style scoped>\n",
       "    .dataframe tbody tr th:only-of-type {\n",
       "        vertical-align: middle;\n",
       "    }\n",
       "\n",
       "    .dataframe tbody tr th {\n",
       "        vertical-align: top;\n",
       "    }\n",
       "\n",
       "    .dataframe thead th {\n",
       "        text-align: right;\n",
       "    }\n",
       "</style>\n",
       "<table border=\"1\" class=\"dataframe\">\n",
       "  <thead>\n",
       "    <tr style=\"text-align: right;\">\n",
       "      <th></th>\n",
       "      <th>Aleppo chili</th>\n",
       "      <th>Aleppo chili flake</th>\n",
       "      <th>Aleppo pepper</th>\n",
       "      <th>Amaretto</th>\n",
       "      <th>Amaretto liqueur</th>\n",
       "      <th>Amaro Montenegro</th>\n",
       "      <th>Amontillado sherry</th>\n",
       "      <th>Anaheim chili</th>\n",
       "      <th>Anaheim pepper</th>\n",
       "      <th>Ancho Chili Sauce</th>\n",
       "      <th>...</th>\n",
       "      <th>Side</th>\n",
       "      <th>Dinner</th>\n",
       "      <th>Kidney Friendly</th>\n",
       "      <th>Winter</th>\n",
       "      <th>Fall</th>\n",
       "      <th>Sugar Conscious</th>\n",
       "      <th>Kid-Friendly</th>\n",
       "      <th>Healthy</th>\n",
       "      <th>Small Plates</th>\n",
       "      <th>Vegan</th>\n",
       "    </tr>\n",
       "  </thead>\n",
       "  <tbody>\n",
       "    <tr>\n",
       "      <th>http://www.epicurious.com/recipes/food/views/-adult-pimiento-cheese-100852</th>\n",
       "      <td>0.0</td>\n",
       "      <td>0.0</td>\n",
       "      <td>0.0</td>\n",
       "      <td>0.0</td>\n",
       "      <td>0.0</td>\n",
       "      <td>0.0</td>\n",
       "      <td>0.0</td>\n",
       "      <td>0.0</td>\n",
       "      <td>0.0</td>\n",
       "      <td>0.0</td>\n",
       "      <td>...</td>\n",
       "      <td>0</td>\n",
       "      <td>0</td>\n",
       "      <td>0</td>\n",
       "      <td>1</td>\n",
       "      <td>0</td>\n",
       "      <td>0</td>\n",
       "      <td>0</td>\n",
       "      <td>0</td>\n",
       "      <td>0</td>\n",
       "      <td>0</td>\n",
       "    </tr>\n",
       "  </tbody>\n",
       "</table>\n",
       "<p>1 rows × 3894 columns</p>\n",
       "</div>"
      ],
      "text/plain": [
       "                                                    Aleppo chili  \\\n",
       "http://www.epicurious.com/recipes/food/views/-a...           0.0   \n",
       "\n",
       "                                                    Aleppo chili flake  \\\n",
       "http://www.epicurious.com/recipes/food/views/-a...                 0.0   \n",
       "\n",
       "                                                    Aleppo pepper  Amaretto  \\\n",
       "http://www.epicurious.com/recipes/food/views/-a...            0.0       0.0   \n",
       "\n",
       "                                                    Amaretto liqueur  \\\n",
       "http://www.epicurious.com/recipes/food/views/-a...               0.0   \n",
       "\n",
       "                                                    Amaro Montenegro  \\\n",
       "http://www.epicurious.com/recipes/food/views/-a...               0.0   \n",
       "\n",
       "                                                    Amontillado sherry  \\\n",
       "http://www.epicurious.com/recipes/food/views/-a...                 0.0   \n",
       "\n",
       "                                                    Anaheim chili  \\\n",
       "http://www.epicurious.com/recipes/food/views/-a...            0.0   \n",
       "\n",
       "                                                    Anaheim pepper  \\\n",
       "http://www.epicurious.com/recipes/food/views/-a...             0.0   \n",
       "\n",
       "                                                    Ancho Chili Sauce  ...  \\\n",
       "http://www.epicurious.com/recipes/food/views/-a...                0.0  ...   \n",
       "\n",
       "                                                    Side  Dinner  \\\n",
       "http://www.epicurious.com/recipes/food/views/-a...     0       0   \n",
       "\n",
       "                                                    Kidney Friendly  Winter  \\\n",
       "http://www.epicurious.com/recipes/food/views/-a...                0       1   \n",
       "\n",
       "                                                    Fall  Sugar Conscious  \\\n",
       "http://www.epicurious.com/recipes/food/views/-a...     0                0   \n",
       "\n",
       "                                                    Kid-Friendly  Healthy  \\\n",
       "http://www.epicurious.com/recipes/food/views/-a...             0        0   \n",
       "\n",
       "                                                    Small Plates  Vegan  \n",
       "http://www.epicurious.com/recipes/food/views/-a...             0      0  \n",
       "\n",
       "[1 rows x 3894 columns]"
      ]
     },
     "execution_count": 423,
     "metadata": {},
     "output_type": "execute_result"
    }
   ],
   "source": [
    "sample_df.head(1)"
   ]
  },
  {
   "cell_type": "code",
   "execution_count": 425,
   "metadata": {},
   "outputs": [],
   "source": [
    "# usa_tag_df\n",
    "# label_column"
   ]
  },
  {
   "cell_type": "code",
   "execution_count": 427,
   "metadata": {},
   "outputs": [],
   "source": [
    "training_data,testing_data = train_test_split(sample_df,test_size= 0.2)\n",
    "train_data,train_label = getTrianData(training_data,label_column)\n",
    "test_data,test_label = getTrianData(testing_data,label_column)"
   ]
  },
  {
   "cell_type": "code",
   "execution_count": 428,
   "metadata": {},
   "outputs": [],
   "source": [
    "# train_data,train_label = getTrianData(training_data,label_column)\n",
    "# test_data,test_label = getTrianData(test_data,label_column)"
   ]
  },
  {
   "cell_type": "code",
   "execution_count": 429,
   "metadata": {},
   "outputs": [
    {
     "data": {
      "text/html": [
       "<div>\n",
       "<style scoped>\n",
       "    .dataframe tbody tr th:only-of-type {\n",
       "        vertical-align: middle;\n",
       "    }\n",
       "\n",
       "    .dataframe tbody tr th {\n",
       "        vertical-align: top;\n",
       "    }\n",
       "\n",
       "    .dataframe thead th {\n",
       "        text-align: right;\n",
       "    }\n",
       "</style>\n",
       "<table border=\"1\" class=\"dataframe\">\n",
       "  <thead>\n",
       "    <tr style=\"text-align: right;\">\n",
       "      <th></th>\n",
       "      <th>Aleppo chili</th>\n",
       "      <th>Aleppo chili flake</th>\n",
       "      <th>Aleppo pepper</th>\n",
       "      <th>Amaretto</th>\n",
       "      <th>Amaretto liqueur</th>\n",
       "      <th>Amaro Montenegro</th>\n",
       "      <th>Amontillado sherry</th>\n",
       "      <th>Anaheim chili</th>\n",
       "      <th>Anaheim pepper</th>\n",
       "      <th>Ancho Chili Sauce</th>\n",
       "      <th>...</th>\n",
       "      <th>Side</th>\n",
       "      <th>Dinner</th>\n",
       "      <th>Kidney Friendly</th>\n",
       "      <th>Winter</th>\n",
       "      <th>Fall</th>\n",
       "      <th>Sugar Conscious</th>\n",
       "      <th>Kid-Friendly</th>\n",
       "      <th>Healthy</th>\n",
       "      <th>Small Plates</th>\n",
       "      <th>Vegan</th>\n",
       "    </tr>\n",
       "  </thead>\n",
       "  <tbody>\n",
       "    <tr>\n",
       "      <th>http://www.epicurious.com/recipes/food/views/chilled-avocado-cucumber-soup-14234</th>\n",
       "      <td>0.0</td>\n",
       "      <td>0.0</td>\n",
       "      <td>0.0</td>\n",
       "      <td>0.0</td>\n",
       "      <td>0.0</td>\n",
       "      <td>0.0</td>\n",
       "      <td>0.0</td>\n",
       "      <td>0.0</td>\n",
       "      <td>0.0</td>\n",
       "      <td>0.0</td>\n",
       "      <td>...</td>\n",
       "      <td>0</td>\n",
       "      <td>0</td>\n",
       "      <td>0</td>\n",
       "      <td>0</td>\n",
       "      <td>0</td>\n",
       "      <td>0</td>\n",
       "      <td>0</td>\n",
       "      <td>0</td>\n",
       "      <td>0</td>\n",
       "      <td>0</td>\n",
       "    </tr>\n",
       "    <tr>\n",
       "      <th>http://www.epicurious.com/recipes/food/views/chicken-orecchiette-soup-with-cilantro-and-lemon-101398</th>\n",
       "      <td>0.0</td>\n",
       "      <td>0.0</td>\n",
       "      <td>0.0</td>\n",
       "      <td>0.0</td>\n",
       "      <td>0.0</td>\n",
       "      <td>0.0</td>\n",
       "      <td>0.0</td>\n",
       "      <td>0.0</td>\n",
       "      <td>0.0</td>\n",
       "      <td>0.0</td>\n",
       "      <td>...</td>\n",
       "      <td>0</td>\n",
       "      <td>0</td>\n",
       "      <td>0</td>\n",
       "      <td>0</td>\n",
       "      <td>0</td>\n",
       "      <td>0</td>\n",
       "      <td>0</td>\n",
       "      <td>0</td>\n",
       "      <td>0</td>\n",
       "      <td>0</td>\n",
       "    </tr>\n",
       "  </tbody>\n",
       "</table>\n",
       "<p>2 rows × 3888 columns</p>\n",
       "</div>"
      ],
      "text/plain": [
       "                                                    Aleppo chili  \\\n",
       "http://www.epicurious.com/recipes/food/views/ch...           0.0   \n",
       "http://www.epicurious.com/recipes/food/views/ch...           0.0   \n",
       "\n",
       "                                                    Aleppo chili flake  \\\n",
       "http://www.epicurious.com/recipes/food/views/ch...                 0.0   \n",
       "http://www.epicurious.com/recipes/food/views/ch...                 0.0   \n",
       "\n",
       "                                                    Aleppo pepper  Amaretto  \\\n",
       "http://www.epicurious.com/recipes/food/views/ch...            0.0       0.0   \n",
       "http://www.epicurious.com/recipes/food/views/ch...            0.0       0.0   \n",
       "\n",
       "                                                    Amaretto liqueur  \\\n",
       "http://www.epicurious.com/recipes/food/views/ch...               0.0   \n",
       "http://www.epicurious.com/recipes/food/views/ch...               0.0   \n",
       "\n",
       "                                                    Amaro Montenegro  \\\n",
       "http://www.epicurious.com/recipes/food/views/ch...               0.0   \n",
       "http://www.epicurious.com/recipes/food/views/ch...               0.0   \n",
       "\n",
       "                                                    Amontillado sherry  \\\n",
       "http://www.epicurious.com/recipes/food/views/ch...                 0.0   \n",
       "http://www.epicurious.com/recipes/food/views/ch...                 0.0   \n",
       "\n",
       "                                                    Anaheim chili  \\\n",
       "http://www.epicurious.com/recipes/food/views/ch...            0.0   \n",
       "http://www.epicurious.com/recipes/food/views/ch...            0.0   \n",
       "\n",
       "                                                    Anaheim pepper  \\\n",
       "http://www.epicurious.com/recipes/food/views/ch...             0.0   \n",
       "http://www.epicurious.com/recipes/food/views/ch...             0.0   \n",
       "\n",
       "                                                    Ancho Chili Sauce  ...  \\\n",
       "http://www.epicurious.com/recipes/food/views/ch...                0.0  ...   \n",
       "http://www.epicurious.com/recipes/food/views/ch...                0.0  ...   \n",
       "\n",
       "                                                    Side  Dinner  \\\n",
       "http://www.epicurious.com/recipes/food/views/ch...     0       0   \n",
       "http://www.epicurious.com/recipes/food/views/ch...     0       0   \n",
       "\n",
       "                                                    Kidney Friendly  Winter  \\\n",
       "http://www.epicurious.com/recipes/food/views/ch...                0       0   \n",
       "http://www.epicurious.com/recipes/food/views/ch...                0       0   \n",
       "\n",
       "                                                    Fall  Sugar Conscious  \\\n",
       "http://www.epicurious.com/recipes/food/views/ch...     0                0   \n",
       "http://www.epicurious.com/recipes/food/views/ch...     0                0   \n",
       "\n",
       "                                                    Kid-Friendly  Healthy  \\\n",
       "http://www.epicurious.com/recipes/food/views/ch...             0        0   \n",
       "http://www.epicurious.com/recipes/food/views/ch...             0        0   \n",
       "\n",
       "                                                    Small Plates  Vegan  \n",
       "http://www.epicurious.com/recipes/food/views/ch...             0      0  \n",
       "http://www.epicurious.com/recipes/food/views/ch...             0      0  \n",
       "\n",
       "[2 rows x 3888 columns]"
      ]
     },
     "execution_count": 429,
     "metadata": {},
     "output_type": "execute_result"
    }
   ],
   "source": [
    "train_data.head(2)"
   ]
  },
  {
   "cell_type": "code",
   "execution_count": 430,
   "metadata": {},
   "outputs": [
    {
     "data": {
      "text/html": [
       "<div>\n",
       "<style scoped>\n",
       "    .dataframe tbody tr th:only-of-type {\n",
       "        vertical-align: middle;\n",
       "    }\n",
       "\n",
       "    .dataframe tbody tr th {\n",
       "        vertical-align: top;\n",
       "    }\n",
       "\n",
       "    .dataframe thead th {\n",
       "        text-align: right;\n",
       "    }\n",
       "</style>\n",
       "<table border=\"1\" class=\"dataframe\">\n",
       "  <thead>\n",
       "    <tr style=\"text-align: right;\">\n",
       "      <th></th>\n",
       "      <th>Peanut Free</th>\n",
       "      <th>Soy Free</th>\n",
       "      <th>Tree Nut Free</th>\n",
       "      <th>Wheat/Gluten-Free</th>\n",
       "      <th>Dairy Free</th>\n",
       "      <th>Fat Free</th>\n",
       "    </tr>\n",
       "  </thead>\n",
       "  <tbody>\n",
       "    <tr>\n",
       "      <th>http://www.epicurious.com/recipes/food/views/chilled-avocado-cucumber-soup-14234</th>\n",
       "      <td>0</td>\n",
       "      <td>0</td>\n",
       "      <td>0</td>\n",
       "      <td>0</td>\n",
       "      <td>0</td>\n",
       "      <td>0</td>\n",
       "    </tr>\n",
       "    <tr>\n",
       "      <th>http://www.epicurious.com/recipes/food/views/chicken-orecchiette-soup-with-cilantro-and-lemon-101398</th>\n",
       "      <td>0</td>\n",
       "      <td>0</td>\n",
       "      <td>0</td>\n",
       "      <td>0</td>\n",
       "      <td>0</td>\n",
       "      <td>0</td>\n",
       "    </tr>\n",
       "  </tbody>\n",
       "</table>\n",
       "</div>"
      ],
      "text/plain": [
       "                                                    Peanut Free  Soy Free  \\\n",
       "http://www.epicurious.com/recipes/food/views/ch...            0         0   \n",
       "http://www.epicurious.com/recipes/food/views/ch...            0         0   \n",
       "\n",
       "                                                    Tree Nut Free  \\\n",
       "http://www.epicurious.com/recipes/food/views/ch...              0   \n",
       "http://www.epicurious.com/recipes/food/views/ch...              0   \n",
       "\n",
       "                                                    Wheat/Gluten-Free  \\\n",
       "http://www.epicurious.com/recipes/food/views/ch...                  0   \n",
       "http://www.epicurious.com/recipes/food/views/ch...                  0   \n",
       "\n",
       "                                                    Dairy Free  Fat Free  \n",
       "http://www.epicurious.com/recipes/food/views/ch...           0         0  \n",
       "http://www.epicurious.com/recipes/food/views/ch...           0         0  "
      ]
     },
     "execution_count": 430,
     "metadata": {},
     "output_type": "execute_result"
    }
   ],
   "source": [
    "train_label.head(2)"
   ]
  },
  {
   "cell_type": "code",
   "execution_count": 431,
   "metadata": {},
   "outputs": [
    {
     "data": {
      "text/html": [
       "<div>\n",
       "<style scoped>\n",
       "    .dataframe tbody tr th:only-of-type {\n",
       "        vertical-align: middle;\n",
       "    }\n",
       "\n",
       "    .dataframe tbody tr th {\n",
       "        vertical-align: top;\n",
       "    }\n",
       "\n",
       "    .dataframe thead th {\n",
       "        text-align: right;\n",
       "    }\n",
       "</style>\n",
       "<table border=\"1\" class=\"dataframe\">\n",
       "  <thead>\n",
       "    <tr style=\"text-align: right;\">\n",
       "      <th></th>\n",
       "      <th>Aleppo chili</th>\n",
       "      <th>Aleppo chili flake</th>\n",
       "      <th>Aleppo pepper</th>\n",
       "      <th>Amaretto</th>\n",
       "      <th>Amaretto liqueur</th>\n",
       "      <th>Amaro Montenegro</th>\n",
       "      <th>Amontillado sherry</th>\n",
       "      <th>Anaheim chili</th>\n",
       "      <th>Anaheim pepper</th>\n",
       "      <th>Ancho Chili Sauce</th>\n",
       "      <th>...</th>\n",
       "      <th>Side</th>\n",
       "      <th>Dinner</th>\n",
       "      <th>Kidney Friendly</th>\n",
       "      <th>Winter</th>\n",
       "      <th>Fall</th>\n",
       "      <th>Sugar Conscious</th>\n",
       "      <th>Kid-Friendly</th>\n",
       "      <th>Healthy</th>\n",
       "      <th>Small Plates</th>\n",
       "      <th>Vegan</th>\n",
       "    </tr>\n",
       "  </thead>\n",
       "  <tbody>\n",
       "    <tr>\n",
       "      <th>http://www.epicurious.com/recipes/food/views/gorgonzola-pears-and-walnuts-on-baguette-102917</th>\n",
       "      <td>0.0</td>\n",
       "      <td>0.0</td>\n",
       "      <td>0.0</td>\n",
       "      <td>0.0</td>\n",
       "      <td>0.0</td>\n",
       "      <td>0.0</td>\n",
       "      <td>0.0</td>\n",
       "      <td>0.0</td>\n",
       "      <td>0.0</td>\n",
       "      <td>0.0</td>\n",
       "      <td>...</td>\n",
       "      <td>0</td>\n",
       "      <td>0</td>\n",
       "      <td>0</td>\n",
       "      <td>0</td>\n",
       "      <td>1</td>\n",
       "      <td>0</td>\n",
       "      <td>0</td>\n",
       "      <td>0</td>\n",
       "      <td>0</td>\n",
       "      <td>0</td>\n",
       "    </tr>\n",
       "    <tr>\n",
       "      <th>http://www.epicurious.com/recipes/food/views/cornbread-with-caramelized-apples-and-onions-51198760</th>\n",
       "      <td>0.0</td>\n",
       "      <td>0.0</td>\n",
       "      <td>0.0</td>\n",
       "      <td>0.0</td>\n",
       "      <td>0.0</td>\n",
       "      <td>0.0</td>\n",
       "      <td>0.0</td>\n",
       "      <td>0.0</td>\n",
       "      <td>0.0</td>\n",
       "      <td>0.0</td>\n",
       "      <td>...</td>\n",
       "      <td>1</td>\n",
       "      <td>0</td>\n",
       "      <td>0</td>\n",
       "      <td>1</td>\n",
       "      <td>1</td>\n",
       "      <td>0</td>\n",
       "      <td>0</td>\n",
       "      <td>0</td>\n",
       "      <td>0</td>\n",
       "      <td>0</td>\n",
       "    </tr>\n",
       "  </tbody>\n",
       "</table>\n",
       "<p>2 rows × 3888 columns</p>\n",
       "</div>"
      ],
      "text/plain": [
       "                                                    Aleppo chili  \\\n",
       "http://www.epicurious.com/recipes/food/views/go...           0.0   \n",
       "http://www.epicurious.com/recipes/food/views/co...           0.0   \n",
       "\n",
       "                                                    Aleppo chili flake  \\\n",
       "http://www.epicurious.com/recipes/food/views/go...                 0.0   \n",
       "http://www.epicurious.com/recipes/food/views/co...                 0.0   \n",
       "\n",
       "                                                    Aleppo pepper  Amaretto  \\\n",
       "http://www.epicurious.com/recipes/food/views/go...            0.0       0.0   \n",
       "http://www.epicurious.com/recipes/food/views/co...            0.0       0.0   \n",
       "\n",
       "                                                    Amaretto liqueur  \\\n",
       "http://www.epicurious.com/recipes/food/views/go...               0.0   \n",
       "http://www.epicurious.com/recipes/food/views/co...               0.0   \n",
       "\n",
       "                                                    Amaro Montenegro  \\\n",
       "http://www.epicurious.com/recipes/food/views/go...               0.0   \n",
       "http://www.epicurious.com/recipes/food/views/co...               0.0   \n",
       "\n",
       "                                                    Amontillado sherry  \\\n",
       "http://www.epicurious.com/recipes/food/views/go...                 0.0   \n",
       "http://www.epicurious.com/recipes/food/views/co...                 0.0   \n",
       "\n",
       "                                                    Anaheim chili  \\\n",
       "http://www.epicurious.com/recipes/food/views/go...            0.0   \n",
       "http://www.epicurious.com/recipes/food/views/co...            0.0   \n",
       "\n",
       "                                                    Anaheim pepper  \\\n",
       "http://www.epicurious.com/recipes/food/views/go...             0.0   \n",
       "http://www.epicurious.com/recipes/food/views/co...             0.0   \n",
       "\n",
       "                                                    Ancho Chili Sauce  ...  \\\n",
       "http://www.epicurious.com/recipes/food/views/go...                0.0  ...   \n",
       "http://www.epicurious.com/recipes/food/views/co...                0.0  ...   \n",
       "\n",
       "                                                    Side  Dinner  \\\n",
       "http://www.epicurious.com/recipes/food/views/go...     0       0   \n",
       "http://www.epicurious.com/recipes/food/views/co...     1       0   \n",
       "\n",
       "                                                    Kidney Friendly  Winter  \\\n",
       "http://www.epicurious.com/recipes/food/views/go...                0       0   \n",
       "http://www.epicurious.com/recipes/food/views/co...                0       1   \n",
       "\n",
       "                                                    Fall  Sugar Conscious  \\\n",
       "http://www.epicurious.com/recipes/food/views/go...     1                0   \n",
       "http://www.epicurious.com/recipes/food/views/co...     1                0   \n",
       "\n",
       "                                                    Kid-Friendly  Healthy  \\\n",
       "http://www.epicurious.com/recipes/food/views/go...             0        0   \n",
       "http://www.epicurious.com/recipes/food/views/co...             0        0   \n",
       "\n",
       "                                                    Small Plates  Vegan  \n",
       "http://www.epicurious.com/recipes/food/views/go...             0      0  \n",
       "http://www.epicurious.com/recipes/food/views/co...             0      0  \n",
       "\n",
       "[2 rows x 3888 columns]"
      ]
     },
     "execution_count": 431,
     "metadata": {},
     "output_type": "execute_result"
    }
   ],
   "source": [
    "test_data.head(2)"
   ]
  },
  {
   "cell_type": "markdown",
   "metadata": {},
   "source": [
    "## Support Vector Classifier"
   ]
  },
  {
   "cell_type": "markdown",
   "metadata": {},
   "source": [
    "https://scikit-learn.org/stable/modules/generated/sklearn.svm.SVC.html\n",
    "\n",
    "Below website gives good explaination on reading result from SVC\n",
    "\n",
    "https://www.datacamp.com/community/tutorials/svm-classification-scikit-learn-python"
   ]
  },
  {
   "cell_type": "markdown",
   "metadata": {},
   "source": [
    "### Fit model without weights"
   ]
  },
  {
   "cell_type": "markdown",
   "metadata": {},
   "source": [
    "Referenced example from this link: https://www.geeksforgeeks.org/classifying-data-using-support-vector-machinessvms-in-python/"
   ]
  },
  {
   "cell_type": "code",
   "execution_count": 432,
   "metadata": {},
   "outputs": [
    {
     "data": {
      "text/html": [
       "<div>\n",
       "<style scoped>\n",
       "    .dataframe tbody tr th:only-of-type {\n",
       "        vertical-align: middle;\n",
       "    }\n",
       "\n",
       "    .dataframe tbody tr th {\n",
       "        vertical-align: top;\n",
       "    }\n",
       "\n",
       "    .dataframe thead th {\n",
       "        text-align: right;\n",
       "    }\n",
       "</style>\n",
       "<table border=\"1\" class=\"dataframe\">\n",
       "  <thead>\n",
       "    <tr style=\"text-align: right;\">\n",
       "      <th></th>\n",
       "      <th>tags_count</th>\n",
       "      <th>tag</th>\n",
       "      <th>allergy_tags</th>\n",
       "    </tr>\n",
       "  </thead>\n",
       "  <tbody>\n",
       "    <tr>\n",
       "      <th>19</th>\n",
       "      <td>16565</td>\n",
       "      <td>Peanut Free</td>\n",
       "      <td>True</td>\n",
       "    </tr>\n",
       "    <tr>\n",
       "      <th>20</th>\n",
       "      <td>16131</td>\n",
       "      <td>Soy Free</td>\n",
       "      <td>True</td>\n",
       "    </tr>\n",
       "    <tr>\n",
       "      <th>17</th>\n",
       "      <td>15512</td>\n",
       "      <td>Bon Appétit</td>\n",
       "      <td>False</td>\n",
       "    </tr>\n",
       "    <tr>\n",
       "      <th>34</th>\n",
       "      <td>14049</td>\n",
       "      <td>Tree Nut Free</td>\n",
       "      <td>True</td>\n",
       "    </tr>\n",
       "    <tr>\n",
       "      <th>3</th>\n",
       "      <td>13552</td>\n",
       "      <td>Vegetarian</td>\n",
       "      <td>False</td>\n",
       "    </tr>\n",
       "    <tr>\n",
       "      <th>...</th>\n",
       "      <td>...</td>\n",
       "      <td>...</td>\n",
       "      <td>...</td>\n",
       "    </tr>\n",
       "    <tr>\n",
       "      <th>3437</th>\n",
       "      <td>31</td>\n",
       "      <td>dumpling</td>\n",
       "      <td>False</td>\n",
       "    </tr>\n",
       "    <tr>\n",
       "      <th>4774</th>\n",
       "      <td>31</td>\n",
       "      <td>cocktail ingredients</td>\n",
       "      <td>False</td>\n",
       "    </tr>\n",
       "    <tr>\n",
       "      <th>821</th>\n",
       "      <td>31</td>\n",
       "      <td>jalapenos</td>\n",
       "      <td>False</td>\n",
       "    </tr>\n",
       "    <tr>\n",
       "      <th>4385</th>\n",
       "      <td>31</td>\n",
       "      <td>buttercream</td>\n",
       "      <td>False</td>\n",
       "    </tr>\n",
       "    <tr>\n",
       "      <th>1493</th>\n",
       "      <td>31</td>\n",
       "      <td>entertaining</td>\n",
       "      <td>False</td>\n",
       "    </tr>\n",
       "  </tbody>\n",
       "</table>\n",
       "<p>881 rows × 3 columns</p>\n",
       "</div>"
      ],
      "text/plain": [
       "      tags_count                   tag  allergy_tags\n",
       "19         16565           Peanut Free          True\n",
       "20         16131              Soy Free          True\n",
       "17         15512           Bon Appétit         False\n",
       "34         14049         Tree Nut Free          True\n",
       "3          13552            Vegetarian         False\n",
       "...          ...                   ...           ...\n",
       "3437          31              dumpling         False\n",
       "4774          31  cocktail ingredients         False\n",
       "821           31             jalapenos         False\n",
       "4385          31           buttercream         False\n",
       "1493          31          entertaining         False\n",
       "\n",
       "[881 rows x 3 columns]"
      ]
     },
     "execution_count": 432,
     "metadata": {},
     "output_type": "execute_result"
    }
   ],
   "source": [
    "tags_count"
   ]
  },
  {
   "cell_type": "code",
   "execution_count": 433,
   "metadata": {},
   "outputs": [
    {
     "data": {
      "text/html": [
       "<div>\n",
       "<style scoped>\n",
       "    .dataframe tbody tr th:only-of-type {\n",
       "        vertical-align: middle;\n",
       "    }\n",
       "\n",
       "    .dataframe tbody tr th {\n",
       "        vertical-align: top;\n",
       "    }\n",
       "\n",
       "    .dataframe thead th {\n",
       "        text-align: right;\n",
       "    }\n",
       "</style>\n",
       "<table border=\"1\" class=\"dataframe\">\n",
       "  <thead>\n",
       "    <tr style=\"text-align: right;\">\n",
       "      <th></th>\n",
       "      <th>tags_count</th>\n",
       "      <th>tag</th>\n",
       "      <th>allergy_tags</th>\n",
       "    </tr>\n",
       "  </thead>\n",
       "  <tbody>\n",
       "    <tr>\n",
       "      <th>19</th>\n",
       "      <td>16565</td>\n",
       "      <td>Peanut Free</td>\n",
       "      <td>True</td>\n",
       "    </tr>\n",
       "  </tbody>\n",
       "</table>\n",
       "</div>"
      ],
      "text/plain": [
       "    tags_count          tag  allergy_tags\n",
       "19       16565  Peanut Free          True"
      ]
     },
     "execution_count": 433,
     "metadata": {},
     "output_type": "execute_result"
    }
   ],
   "source": [
    "tags_count.head(1)"
   ]
  },
  {
   "cell_type": "code",
   "execution_count": 434,
   "metadata": {},
   "outputs": [
    {
     "data": {
      "image/png": "[encoded data removed]",
      "text/plain": [
       "<Figure size 432x288 with 1 Axes>"
      ]
     },
     "metadata": {
      "needs_background": "light"
     },
     "output_type": "display_data"
    }
   ],
   "source": [
    "tags_count[tags_count['tags_count'] >= 3000].plot(kind='bar',y='tags_count',x='tag')\n",
    "plt.savefig('plots/tags_freq.png',bbox_inches='tight')\n",
    "plt.show()"
   ]
  },
  {
   "cell_type": "code",
   "execution_count": 435,
   "metadata": {},
   "outputs": [],
   "source": [
    "svc = svm.SVC(kernel='linear')\n",
    "# w_svc = svm.NuSVC(nu = 0.1, gamma='auto',class_weight={0:weight_ratio[0][0]},kernel='linear')\n"
   ]
  },
  {
   "cell_type": "code",
   "execution_count": 436,
   "metadata": {},
   "outputs": [
    {
     "data": {
      "text/html": [
       "<div>\n",
       "<style scoped>\n",
       "    .dataframe tbody tr th:only-of-type {\n",
       "        vertical-align: middle;\n",
       "    }\n",
       "\n",
       "    .dataframe tbody tr th {\n",
       "        vertical-align: top;\n",
       "    }\n",
       "\n",
       "    .dataframe thead th {\n",
       "        text-align: right;\n",
       "    }\n",
       "</style>\n",
       "<table border=\"1\" class=\"dataframe\">\n",
       "  <thead>\n",
       "    <tr style=\"text-align: right;\">\n",
       "      <th></th>\n",
       "      <th>Peanut Free</th>\n",
       "      <th>Soy Free</th>\n",
       "      <th>Tree Nut Free</th>\n",
       "      <th>Wheat/Gluten-Free</th>\n",
       "      <th>Dairy Free</th>\n",
       "      <th>Fat Free</th>\n",
       "    </tr>\n",
       "  </thead>\n",
       "  <tbody>\n",
       "    <tr>\n",
       "      <th>http://www.epicurious.com/recipes/food/views/chilled-avocado-cucumber-soup-14234</th>\n",
       "      <td>0</td>\n",
       "      <td>0</td>\n",
       "      <td>0</td>\n",
       "      <td>0</td>\n",
       "      <td>0</td>\n",
       "      <td>0</td>\n",
       "    </tr>\n",
       "  </tbody>\n",
       "</table>\n",
       "</div>"
      ],
      "text/plain": [
       "                                                    Peanut Free  Soy Free  \\\n",
       "http://www.epicurious.com/recipes/food/views/ch...            0         0   \n",
       "\n",
       "                                                    Tree Nut Free  \\\n",
       "http://www.epicurious.com/recipes/food/views/ch...              0   \n",
       "\n",
       "                                                    Wheat/Gluten-Free  \\\n",
       "http://www.epicurious.com/recipes/food/views/ch...                  0   \n",
       "\n",
       "                                                    Dairy Free  Fat Free  \n",
       "http://www.epicurious.com/recipes/food/views/ch...           0         0  "
      ]
     },
     "execution_count": 436,
     "metadata": {},
     "output_type": "execute_result"
    }
   ],
   "source": [
    "train_label.head(1)"
   ]
  },
  {
   "cell_type": "code",
   "execution_count": 437,
   "metadata": {
    "scrolled": true
   },
   "outputs": [
    {
     "data": {
      "text/plain": [
       "array([[0, 0, 0, 0, 0, 0],\n",
       "       [0, 0, 0, 0, 0, 0],\n",
       "       [1, 1, 1, 0, 0, 0],\n",
       "       ...,\n",
       "       [0, 0, 0, 0, 0, 0],\n",
       "       [0, 0, 0, 0, 0, 0],\n",
       "       [0, 0, 0, 0, 0, 0]], dtype=int64)"
      ]
     },
     "execution_count": 437,
     "metadata": {},
     "output_type": "execute_result"
    }
   ],
   "source": [
    "new_labels = np.asarray(train_label.values)\n",
    "new_labels"
   ]
  },
  {
   "cell_type": "code",
   "execution_count": 438,
   "metadata": {},
   "outputs": [
    {
     "data": {
      "text/plain": [
       "(4000, 3888)"
      ]
     },
     "execution_count": 438,
     "metadata": {},
     "output_type": "execute_result"
    }
   ],
   "source": [
    "test_data.shape"
   ]
  },
  {
   "cell_type": "code",
   "execution_count": 440,
   "metadata": {},
   "outputs": [
    {
     "ename": "NotFittedError",
     "evalue": "This SVC instance is not fitted yet. Call 'fit' with appropriate arguments before using this method.",
     "output_type": "error",
     "traceback": [
      "\u001b[0;31m---------------------------------------------------------------------------\u001b[0m",
      "\u001b[0;31mNotFittedError\u001b[0m                            Traceback (most recent call last)",
      "\u001b[0;32m<ipython-input-440-f6ab513e8c21>\u001b[0m in \u001b[0;36m<module>\u001b[0;34m\u001b[0m\n\u001b[0;32m----> 1\u001b[0;31m \u001b[0mp\u001b[0m \u001b[0;34m=\u001b[0m \u001b[0msvc\u001b[0m\u001b[0;34m.\u001b[0m\u001b[0mpredict\u001b[0m\u001b[0;34m(\u001b[0m\u001b[0mtest_data\u001b[0m\u001b[0;34m)\u001b[0m\u001b[0;34m\u001b[0m\u001b[0m\n\u001b[0m",
      "\u001b[0;32m/Library/Frameworks/Python.framework/Versions/3.6/lib/python3.6/site-packages/sklearn/svm/base.py\u001b[0m in \u001b[0;36mpredict\u001b[0;34m(self, X)\u001b[0m\n\u001b[1;32m    572\u001b[0m             \u001b[0mClass\u001b[0m \u001b[0mlabels\u001b[0m \u001b[0;32mfor\u001b[0m \u001b[0msamples\u001b[0m \u001b[0;32min\u001b[0m \u001b[0mX\u001b[0m\u001b[0;34m.\u001b[0m\u001b[0;34m\u001b[0m\u001b[0m\n\u001b[1;32m    573\u001b[0m         \"\"\"\n\u001b[0;32m--> 574\u001b[0;31m         \u001b[0my\u001b[0m \u001b[0;34m=\u001b[0m \u001b[0msuper\u001b[0m\u001b[0;34m(\u001b[0m\u001b[0;34m)\u001b[0m\u001b[0;34m.\u001b[0m\u001b[0mpredict\u001b[0m\u001b[0;34m(\u001b[0m\u001b[0mX\u001b[0m\u001b[0;34m)\u001b[0m\u001b[0;34m\u001b[0m\u001b[0m\n\u001b[0m\u001b[1;32m    575\u001b[0m         \u001b[0;32mreturn\u001b[0m \u001b[0mself\u001b[0m\u001b[0;34m.\u001b[0m\u001b[0mclasses_\u001b[0m\u001b[0;34m.\u001b[0m\u001b[0mtake\u001b[0m\u001b[0;34m(\u001b[0m\u001b[0mnp\u001b[0m\u001b[0;34m.\u001b[0m\u001b[0masarray\u001b[0m\u001b[0;34m(\u001b[0m\u001b[0my\u001b[0m\u001b[0;34m,\u001b[0m \u001b[0mdtype\u001b[0m\u001b[0;34m=\u001b[0m\u001b[0mnp\u001b[0m\u001b[0;34m.\u001b[0m\u001b[0mintp\u001b[0m\u001b[0;34m)\u001b[0m\u001b[0;34m)\u001b[0m\u001b[0;34m\u001b[0m\u001b[0m\n\u001b[1;32m    576\u001b[0m \u001b[0;34m\u001b[0m\u001b[0m\n",
      "\u001b[0;32m/Library/Frameworks/Python.framework/Versions/3.6/lib/python3.6/site-packages/sklearn/svm/base.py\u001b[0m in \u001b[0;36mpredict\u001b[0;34m(self, X)\u001b[0m\n\u001b[1;32m    320\u001b[0m         \u001b[0my_pred\u001b[0m \u001b[0;34m:\u001b[0m \u001b[0marray\u001b[0m\u001b[0;34m,\u001b[0m \u001b[0mshape\u001b[0m \u001b[0;34m(\u001b[0m\u001b[0mn_samples\u001b[0m\u001b[0;34m,\u001b[0m\u001b[0;34m)\u001b[0m\u001b[0;34m\u001b[0m\u001b[0m\n\u001b[1;32m    321\u001b[0m         \"\"\"\n\u001b[0;32m--> 322\u001b[0;31m         \u001b[0mX\u001b[0m \u001b[0;34m=\u001b[0m \u001b[0mself\u001b[0m\u001b[0;34m.\u001b[0m\u001b[0m_validate_for_predict\u001b[0m\u001b[0;34m(\u001b[0m\u001b[0mX\u001b[0m\u001b[0;34m)\u001b[0m\u001b[0;34m\u001b[0m\u001b[0m\n\u001b[0m\u001b[1;32m    323\u001b[0m         \u001b[0mpredict\u001b[0m \u001b[0;34m=\u001b[0m \u001b[0mself\u001b[0m\u001b[0;34m.\u001b[0m\u001b[0m_sparse_predict\u001b[0m \u001b[0;32mif\u001b[0m \u001b[0mself\u001b[0m\u001b[0;34m.\u001b[0m\u001b[0m_sparse\u001b[0m \u001b[0;32melse\u001b[0m \u001b[0mself\u001b[0m\u001b[0;34m.\u001b[0m\u001b[0m_dense_predict\u001b[0m\u001b[0;34m\u001b[0m\u001b[0m\n\u001b[1;32m    324\u001b[0m         \u001b[0;32mreturn\u001b[0m \u001b[0mpredict\u001b[0m\u001b[0;34m(\u001b[0m\u001b[0mX\u001b[0m\u001b[0;34m)\u001b[0m\u001b[0;34m\u001b[0m\u001b[0m\n",
      "\u001b[0;32m/Library/Frameworks/Python.framework/Versions/3.6/lib/python3.6/site-packages/sklearn/svm/base.py\u001b[0m in \u001b[0;36m_validate_for_predict\u001b[0;34m(self, X)\u001b[0m\n\u001b[1;32m    449\u001b[0m \u001b[0;34m\u001b[0m\u001b[0m\n\u001b[1;32m    450\u001b[0m     \u001b[0;32mdef\u001b[0m \u001b[0m_validate_for_predict\u001b[0m\u001b[0;34m(\u001b[0m\u001b[0mself\u001b[0m\u001b[0;34m,\u001b[0m \u001b[0mX\u001b[0m\u001b[0;34m)\u001b[0m\u001b[0;34m:\u001b[0m\u001b[0;34m\u001b[0m\u001b[0m\n\u001b[0;32m--> 451\u001b[0;31m         \u001b[0mcheck_is_fitted\u001b[0m\u001b[0;34m(\u001b[0m\u001b[0mself\u001b[0m\u001b[0;34m,\u001b[0m \u001b[0;34m'support_'\u001b[0m\u001b[0;34m)\u001b[0m\u001b[0;34m\u001b[0m\u001b[0m\n\u001b[0m\u001b[1;32m    452\u001b[0m \u001b[0;34m\u001b[0m\u001b[0m\n\u001b[1;32m    453\u001b[0m         X = check_array(X, accept_sparse='csr', dtype=np.float64, order=\"C\",\n",
      "\u001b[0;32m/Library/Frameworks/Python.framework/Versions/3.6/lib/python3.6/site-packages/sklearn/utils/validation.py\u001b[0m in \u001b[0;36mcheck_is_fitted\u001b[0;34m(estimator, attributes, msg, all_or_any)\u001b[0m\n\u001b[1;32m    912\u001b[0m \u001b[0;34m\u001b[0m\u001b[0m\n\u001b[1;32m    913\u001b[0m     \u001b[0;32mif\u001b[0m \u001b[0;32mnot\u001b[0m \u001b[0mall_or_any\u001b[0m\u001b[0;34m(\u001b[0m\u001b[0;34m[\u001b[0m\u001b[0mhasattr\u001b[0m\u001b[0;34m(\u001b[0m\u001b[0mestimator\u001b[0m\u001b[0;34m,\u001b[0m \u001b[0mattr\u001b[0m\u001b[0;34m)\u001b[0m \u001b[0;32mfor\u001b[0m \u001b[0mattr\u001b[0m \u001b[0;32min\u001b[0m \u001b[0mattributes\u001b[0m\u001b[0;34m]\u001b[0m\u001b[0;34m)\u001b[0m\u001b[0;34m:\u001b[0m\u001b[0;34m\u001b[0m\u001b[0m\n\u001b[0;32m--> 914\u001b[0;31m         \u001b[0;32mraise\u001b[0m \u001b[0mNotFittedError\u001b[0m\u001b[0;34m(\u001b[0m\u001b[0mmsg\u001b[0m \u001b[0;34m%\u001b[0m \u001b[0;34m{\u001b[0m\u001b[0;34m'name'\u001b[0m\u001b[0;34m:\u001b[0m \u001b[0mtype\u001b[0m\u001b[0;34m(\u001b[0m\u001b[0mestimator\u001b[0m\u001b[0;34m)\u001b[0m\u001b[0;34m.\u001b[0m\u001b[0m__name__\u001b[0m\u001b[0;34m}\u001b[0m\u001b[0;34m)\u001b[0m\u001b[0;34m\u001b[0m\u001b[0m\n\u001b[0m\u001b[1;32m    915\u001b[0m \u001b[0;34m\u001b[0m\u001b[0m\n\u001b[1;32m    916\u001b[0m \u001b[0;34m\u001b[0m\u001b[0m\n",
      "\u001b[0;31mNotFittedError\u001b[0m: This SVC instance is not fitted yet. Call 'fit' with appropriate arguments before using this method."
     ]
    }
   ],
   "source": [
    "p = svc.predict(test_data)"
   ]
  },
  {
   "cell_type": "code",
   "execution_count": 174,
   "metadata": {},
   "outputs": [
    {
     "name": "stdout",
     "output_type": "stream",
     "text": [
      "SVC-No Weight\n",
      "Actual label count  Counter({0: 2131, 1: 1869})\n"
     ]
    },
    {
     "ename": "NameError",
     "evalue": "name 'p' is not defined",
     "output_type": "error",
     "traceback": [
      "\u001b[0;31m---------------------------------------------------------------------------\u001b[0m",
      "\u001b[0;31mNameError\u001b[0m                                 Traceback (most recent call last)",
      "\u001b[0;32m<ipython-input-174-6144dd4e2844>\u001b[0m in \u001b[0;36m<module>\u001b[0;34m\u001b[0m\n\u001b[1;32m      4\u001b[0m \u001b[0mprint\u001b[0m\u001b[0;34m(\u001b[0m\u001b[0;34m\"Actual label count \"\u001b[0m\u001b[0;34m,\u001b[0m\u001b[0mc\u001b[0m\u001b[0;34m)\u001b[0m\u001b[0;34m\u001b[0m\u001b[0m\n\u001b[1;32m      5\u001b[0m \u001b[0mc\u001b[0m \u001b[0;34m=\u001b[0m \u001b[0mCounter\u001b[0m\u001b[0;34m(\u001b[0m\u001b[0;34m)\u001b[0m\u001b[0;34m\u001b[0m\u001b[0m\n\u001b[0;32m----> 6\u001b[0;31m \u001b[0mc\u001b[0m\u001b[0;34m.\u001b[0m\u001b[0mupdate\u001b[0m\u001b[0;34m(\u001b[0m\u001b[0mp\u001b[0m\u001b[0;34m)\u001b[0m\u001b[0;34m\u001b[0m\u001b[0m\n\u001b[0m\u001b[1;32m      7\u001b[0m \u001b[0mprint\u001b[0m\u001b[0;34m(\u001b[0m\u001b[0;34m\"prediction label count \"\u001b[0m\u001b[0;34m,\u001b[0m\u001b[0mc\u001b[0m\u001b[0;34m)\u001b[0m\u001b[0;34m\u001b[0m\u001b[0m\n",
      "\u001b[0;31mNameError\u001b[0m: name 'p' is not defined"
     ]
    }
   ],
   "source": [
    "c = Counter()\n",
    "c.update(test_label['Peanut Free'])\n",
    "print(\"SVC-No Weight\")\n",
    "print(\"Actual label count \",c)\n",
    "c = Counter()\n",
    "c.update(p)\n",
    "print(\"prediction label count \",c)"
   ]
  },
  {
   "cell_type": "code",
   "execution_count": null,
   "metadata": {},
   "outputs": [],
   "source": [
    "print(\"\\n\\n          SVC Classificatin Report-No Weight\\n\\n\")\n",
    "print(classification_report(test_label['Peanut Free'],p))"
   ]
  },
  {
   "cell_type": "code",
   "execution_count": null,
   "metadata": {},
   "outputs": [],
   "source": [
    "train_size = 1000"
   ]
  },
  {
   "cell_type": "code",
   "execution_count": null,
   "metadata": {
    "scrolled": false
   },
   "outputs": [],
   "source": [
    "%%time\n",
    "from yellowbrick.classifier import ClassificationReport\n",
    "visualizer = ClassificationReport(svc, classes=['Peanut Free','Not Peanut Free'], support=True)\n",
    "visualizer.fit(train_data.iloc[:train_size], train_label['Peanut Free'].iloc[:train_size])        # Fit the visualizer and the model\n",
    "visualizer.score(test_data.iloc[:train_size], test_label['Peanut Free'].iloc[:train_size])        # Evaluate the model on the test data\n",
    "plt.title(\"SVC Classification Report-Peanut\")\n",
    "plt.savefig('no_weight_peanut_svc_result.png')\n",
    "visualizer.show() "
   ]
  },
  {
   "cell_type": "code",
   "execution_count": null,
   "metadata": {},
   "outputs": [],
   "source": [
    "%%time\n",
    "from yellowbrick.classifier import ClassificationReport\n",
    "visualizer = ClassificationReport(svc, classes=['Soy Free','Not Soy Free'], support=True)\n",
    "visualizer.fit(train_data.iloc[:train_size], train_label['Soy Free'].iloc[:train_size])        # Fit the visualizer and the model\n",
    "visualizer.score(test_data.iloc[:train_size], test_label['Soy Free'].iloc[:train_size])        # Evaluate the model on the test data\n",
    "plt.title(\"SVC Classification Report-Soy\")\n",
    "plt.savefig('no_weight_soy_svc_result.png')\n",
    "visualizer.show() "
   ]
  },
  {
   "cell_type": "code",
   "execution_count": null,
   "metadata": {},
   "outputs": [],
   "source": [
    "%%time\n",
    "from yellowbrick.classifier import ClassificationReport\n",
    "visualizer = ClassificationReport(svc, classes=['Tree Nut Free','Not Tree Nut Free'], support=True)\n",
    "visualizer.fit(train_data.iloc[:train_size], train_label['Tree Nut Free'].iloc[:train_size])        # Fit the visualizer and the model\n",
    "visualizer.score(test_data.iloc[:train_size], test_label['Tree Nut Free'].iloc[:train_size])        # Evaluate the model on the test data\n",
    "plt.title(\"SVC Classification Report-Tree Nut\")\n",
    "plt.savefig('no_weight_treenut_svc_result.png')\n",
    "visualizer.show() "
   ]
  },
  {
   "cell_type": "code",
   "execution_count": null,
   "metadata": {},
   "outputs": [],
   "source": [
    "%%time\n",
    "from yellowbrick.classifier import ClassificationReport\n",
    "visualizer = ClassificationReport(svc, classes=['Dairy Free','Not Dairy Free'], support=True)\n",
    "visualizer.fit(train_data.iloc[:train_size], train_label['Dairy Free'].iloc[:train_size])        # Fit the visualizer and the model\n",
    "visualizer.score(test_data.iloc[:train_size], test_label['Dairy Free'].iloc[:train_size])        # Evaluate the model on the test data\n",
    "plt.title(\"SVC Classification Report-Dairy\")\n",
    "plt.savefig('no_weight_dairy_svc_result.png')\n",
    "visualizer.show() "
   ]
  },
  {
   "cell_type": "code",
   "execution_count": null,
   "metadata": {
    "scrolled": false
   },
   "outputs": [],
   "source": [
    "%%time\n",
    "from yellowbrick.classifier import ClassificationReport\n",
    "visualizer = ClassificationReport(svc, classes=['Fat Free','Not Fat Free'], support=True)\n",
    "visualizer.fit(train_data.iloc[:train_size], train_label['Fat Free'].iloc[:train_size])        # Fit the visualizer and the model\n",
    "visualizer.score(test_data.iloc[:train_size], test_label['Fat Free'].iloc[:train_size])        # Evaluate the model on the test data\n",
    "plt.title(\"SVC Classification Report-Fat\")\n",
    "plt.savefig('no_weight_fat_svc_result.png')\n",
    "visualizer.show() "
   ]
  },
  {
   "cell_type": "code",
   "execution_count": null,
   "metadata": {
    "scrolled": true
   },
   "outputs": [],
   "source": [
    "%%time\n",
    "peanut.predict(test_data)"
   ]
  },
  {
   "cell_type": "code",
   "execution_count": null,
   "metadata": {},
   "outputs": [],
   "source": []
  },
  {
   "cell_type": "code",
   "execution_count": null,
   "metadata": {},
   "outputs": [],
   "source": [
    "# val = []\n",
    "# for i in train_label:\n",
    "#     v = i.replace(' ','')\n",
    "#     val.append(v)\n",
    "# val"
   ]
  },
  {
   "cell_type": "code",
   "execution_count": null,
   "metadata": {
    "scrolled": true
   },
   "outputs": [],
   "source": [
    "# allergy_predict = []\n",
    "# j = 0\n",
    "# for i in train_label:\n",
    "#     print(val[j])\n",
    "#     val[j] = svc.fit(train_data.iloc[:train_size], np.asarray(train_label[i].iloc[:train_size].values)) \n",
    "#     allergy_predict.append(val[j])\n",
    "#     j +=1\n",
    "# allergy_predict"
   ]
  },
  {
   "cell_type": "markdown",
   "metadata": {},
   "source": [
    "### Fit model with weights"
   ]
  },
  {
   "cell_type": "markdown",
   "metadata": {},
   "source": [
    "#### Calculate Weight"
   ]
  },
  {
   "cell_type": "markdown",
   "metadata": {},
   "source": [
    "* sample_weight is to be applied to individual samples (rows in your data). So the length of sample_weight must match the number of samples in your X.\n",
    "\n",
    "* class_weight is to make the classifier give more importance and attention to the classes. So the length of class_weight must match the number of classes in your targets."
   ]
  },
  {
   "cell_type": "code",
   "execution_count": null,
   "metadata": {},
   "outputs": [],
   "source": [
    "count1 = len(cuisine_df.loc[cuisine_df['usa_cuisine'] == 1]) # true\n",
    "count2 = len(cuisine_df.loc[cuisine_df['usa_cuisine'] == 0]) # false\n",
    "count3 = len(cuisine_df.loc[cuisine_df['usa_cuisine'] == 2]) # NA\n",
    "print(\"Neither USA Cuisine or non-USA Cuisine: \",count3)\n",
    "print(\"USA Cuisine: \",count1)\n",
    "print(\"Non-USA Cuisine: \",count2)"
   ]
  },
  {
   "cell_type": "code",
   "execution_count": null,
   "metadata": {},
   "outputs": [],
   "source": [
    "print(len(train_label))"
   ]
  },
  {
   "cell_type": "code",
   "execution_count": null,
   "metadata": {},
   "outputs": [],
   "source": [
    "weight_ratio = []\n",
    "for i in train_label:\n",
    "    max_v = [int(train_label[i][train_label[i] == 0].value_counts())/len(train_label),int(train_label[i][train_label[i] == 1].value_counts())/len(train_label)]\n",
    "    print(max_v)\n",
    "    weight_ratio.append(max_v)\n",
    "weight_ratio"
   ]
  },
  {
   "cell_type": "code",
   "execution_count": null,
   "metadata": {},
   "outputs": [],
   "source": [
    "weight_ratio[0][0]"
   ]
  },
  {
   "cell_type": "code",
   "execution_count": null,
   "metadata": {},
   "outputs": [],
   "source": [
    "degree = [1, 1, 2, 3, 4, 1, 1, 1, 1, 2, 3, 4, 1, 1, 1, 1, 2]\n",
    "degree\n",
    "kernel =['linear', 'poly', 'poly', 'poly', 'poly', 'rbf', 'sigmoid',\n",
    "        'linear', 'poly', 'poly', 'poly', 'poly', 'rbf', 'sigmoid',\n",
    "        'linear', 'poly', 'poly']\n",
    "nu = [0.05, 0.05, 0.05, 0.05, 0.05, 0.05, 0.05, 0.1 , 0.1 , 0.1 , 0.1 ,\n",
    "        0.1 , 0.1 , 0.1 , 0.15, 0.15, 0.15]\n",
    "acc_list = [0.90653153, 0.90728228, 0.61473974, 0.56681682, 0.53440941,\n",
    "        0.75525526, 0.50287788, 0.90840841, 0.90578078, 0.60047548,\n",
    "        0.56881882, 0.53553554, 0.75575576, 0.5289039 , 0.90515516,\n",
    "        0.90302803, 0.5701952 ]\n",
    "# degree,kernel,nu,acc_list"
   ]
  },
  {
   "cell_type": "code",
   "execution_count": null,
   "metadata": {},
   "outputs": [],
   "source": [
    "svc_df = pd.DataFrame()\n",
    "svc_df['Degree'] = degree\n",
    "svc_df['Kernel'] = kernel\n",
    "svc_df['Nu'] = nu\n",
    "svc_df['Accuracy'] = acc_list\n",
    "svc_df"
   ]
  },
  {
   "cell_type": "code",
   "execution_count": null,
   "metadata": {},
   "outputs": [],
   "source": [
    "import mplcursors"
   ]
  },
  {
   "cell_type": "code",
   "execution_count": null,
   "metadata": {
    "scrolled": true
   },
   "outputs": [],
   "source": [
    "plt.scatter(degree,acc_list,alpha=0.5,color='red',label='Degree')\n",
    "plt.scatter(kernel,acc_list,alpha=0.4,color='blue',label='Kernel')\n",
    "plt.scatter(nu,acc_list,alpha=0.4,color='green',label='Nu')\n",
    "plt.legend()\n",
    "mplcursors.cursor(hover=True)\n",
    "plt.title(\"SVC accuracy based on Input Parameters\")\n",
    "plt.savefig(\"svc_accury_by_parameters.png\")\n",
    "plt.show()"
   ]
  },
  {
   "cell_type": "code",
   "execution_count": null,
   "metadata": {
    "scrolled": true
   },
   "outputs": [],
   "source": [
    "plt.scatter(kernel,acc_list,alpha=0.4)\n",
    "plt.title(\"SVC accuracy based on Kernel\")\n",
    "plt.savefig(\"accuracy_by_kernel.png\")\n",
    "plt.show()"
   ]
  },
  {
   "cell_type": "code",
   "execution_count": null,
   "metadata": {},
   "outputs": [],
   "source": [
    "plt.scatter(nu,acc_list,alpha=0.4)\n",
    "plt.title(\"SVC accuracy based on Nu\")\n",
    "plt.savefig(\"accuracy_by_nu.png\")\n",
    "plt.show()"
   ]
  },
  {
   "cell_type": "markdown",
   "metadata": {},
   "source": [
    "## Single Class Classification"
   ]
  },
  {
   "cell_type": "code",
   "execution_count": null,
   "metadata": {},
   "outputs": [],
   "source": [
    "train_size"
   ]
  },
  {
   "cell_type": "code",
   "execution_count": null,
   "metadata": {},
   "outputs": [],
   "source": [
    "%%time\n",
    "w_svc = svm.NuSVC(nu = 0.1, gamma='auto',class_weight={0:weight_ratio[0][0]},kernel='linear')\n",
    "w_svc.fit(train_data.iloc[:train_size], train_label['Peanut Free'][:train_size])#,sample_weight=cal_w) "
   ]
  },
  {
   "cell_type": "code",
   "execution_count": null,
   "metadata": {},
   "outputs": [],
   "source": [
    "test_data.head()"
   ]
  },
  {
   "cell_type": "code",
   "execution_count": null,
   "metadata": {},
   "outputs": [],
   "source": [
    "train_size = 1000"
   ]
  },
  {
   "cell_type": "code",
   "execution_count": null,
   "metadata": {
    "scrolled": true
   },
   "outputs": [],
   "source": [
    "%%time\n",
    "from yellowbrick.classifier import ClassificationReport\n",
    "visualizer = ClassificationReport(w_svc, classes=['Peanut Free','Not Peanut Free'], support=True)\n",
    "visualizer.fit(train_data.iloc[:train_size], train_label['Peanut Free'].iloc[:train_size])        # Fit the visualizer and the model\n",
    "visualizer.score(test_data.iloc[:train_size], test_label['Peanut Free'].iloc[:train_size])        # Evaluate the model on the test data\n",
    "visualizer.show() "
   ]
  },
  {
   "cell_type": "code",
   "execution_count": null,
   "metadata": {},
   "outputs": [],
   "source": [
    "%%time\n",
    "from yellowbrick.classifier import ClassificationReport\n",
    "visualizer = ClassificationReport(w_svc, classes=['Soy Free','Not Soy Free'], support=True)\n",
    "visualizer.fit(train_data.iloc[:train_size], train_label['Soy Free'].iloc[:train_size])        # Fit the visualizer and the model\n",
    "visualizer.score(test_data.iloc[:train_size], test_label['Soy Free'].iloc[:train_size])        # Evaluate the model on the test data\n",
    "visualizer.show() "
   ]
  },
  {
   "cell_type": "code",
   "execution_count": null,
   "metadata": {},
   "outputs": [],
   "source": [
    "%%time\n",
    "from yellowbrick.classifier import ClassificationReport\n",
    "visualizer = ClassificationReport(w_svc, classes=['Tree Nut Free','Not Tree Nut Free'], support=True)\n",
    "visualizer.fit(train_data.iloc[:train_size], train_label['Tree Nut Free'].iloc[:train_size])        # Fit the visualizer and the model\n",
    "visualizer.score(test_data.iloc[:train_size], test_label['Tree Nut Free'].iloc[:train_size])        # Evaluate the model on the test data\n",
    "visualizer.show() "
   ]
  },
  {
   "cell_type": "code",
   "execution_count": null,
   "metadata": {},
   "outputs": [],
   "source": [
    "%%time\n",
    "from yellowbrick.classifier import ClassificationReport\n",
    "visualizer = ClassificationReport(w_svc, classes=['Dairy Free','Not Dairy Free'], support=True)\n",
    "visualizer.fit(train_data.iloc[:train_size], train_label['Dairy Free'].iloc[:train_size])        # Fit the visualizer and the model\n",
    "visualizer.score(test_data.iloc[:train_size], test_label['Dairy Free'].iloc[:train_size])        # Evaluate the model on the test data\n",
    "visualizer.show() "
   ]
  },
  {
   "cell_type": "code",
   "execution_count": null,
   "metadata": {
    "scrolled": false
   },
   "outputs": [],
   "source": [
    "%%time\n",
    "from yellowbrick.classifier import ClassificationReport\n",
    "visualizer = ClassificationReport(w_svc, classes=['Fat Free','Not Fat Free'], support=True)\n",
    "visualizer.fit(train_data.iloc[:train_size], train_label['Fat Free'].iloc[:train_size])        # Fit the visualizer and the model\n",
    "visualizer.score(test_data.iloc[:train_size], test_label['Fat Free'].iloc[:train_size])        # Evaluate the model on the test data\n",
    "visualizer.show() "
   ]
  },
  {
   "cell_type": "code",
   "execution_count": null,
   "metadata": {},
   "outputs": [],
   "source": [
    "%%time\n",
    "p = w_svc.predict(test_data)"
   ]
  },
  {
   "cell_type": "code",
   "execution_count": null,
   "metadata": {},
   "outputs": [],
   "source": []
  },
  {
   "cell_type": "code",
   "execution_count": null,
   "metadata": {
    "scrolled": true
   },
   "outputs": [],
   "source": [
    "print(\"\\n\\n          SVC Classificatin Report-With Weight\\n\\n\")\n",
    "\n",
    "print(classification_report(test_label['Peanut Free'],p))"
   ]
  },
  {
   "cell_type": "code",
   "execution_count": null,
   "metadata": {},
   "outputs": [],
   "source": [
    "c = Counter()\n",
    "c.update(test_label['Peanut Free'])\n",
    "print(\"SVC - With Weight\")\n",
    "print(\"actual label count:\",c)\n",
    "c = Counter()\n",
    "c.update(p)\n",
    "print(\"prediction label count:\",c)"
   ]
  },
  {
   "cell_type": "code",
   "execution_count": null,
   "metadata": {},
   "outputs": [],
   "source": [
    "c = Counter()\n",
    "c.update(p)\n",
    "print(\"prediction label count \",c)"
   ]
  },
  {
   "cell_type": "markdown",
   "metadata": {},
   "source": [
    "## Naive Bayes Classifier"
   ]
  },
  {
   "cell_type": "code",
   "execution_count": null,
   "metadata": {},
   "outputs": [],
   "source": [
    "# # create a guassian classifier\n",
    "bayes_model = GaussianNB()\n",
    "bayes_model.fit(train_data,train_label['Peanut Free'])\n",
    "print(bayes_model.epsilon_)"
   ]
  },
  {
   "cell_type": "code",
   "execution_count": null,
   "metadata": {},
   "outputs": [],
   "source": [
    "p = bayes_model.predict(test_data)"
   ]
  },
  {
   "cell_type": "code",
   "execution_count": null,
   "metadata": {},
   "outputs": [],
   "source": [
    "print(\"\\n\\n          Naive Bayes Classificatin Report\\n\\n\")\n",
    "\n",
    "print(classification_report(test_label['Peanut Free'],p))"
   ]
  },
  {
   "cell_type": "code",
   "execution_count": null,
   "metadata": {},
   "outputs": [],
   "source": [
    "c = Counter()\n",
    "c.update(test_label['Peanut Free'])\n",
    "print(\"Naive Bayes Classifier\")\n",
    "print(\"actual label count:\",c)\n",
    "c = Counter()\n",
    "c.update(bayes_model.predict(test_data))\n",
    "print(\"prediction label count:\",c)"
   ]
  },
  {
   "cell_type": "code",
   "execution_count": null,
   "metadata": {
    "scrolled": true
   },
   "outputs": [],
   "source": [
    "c = Counter()\n",
    "c.update(bayes_model.predict(test_data))\n",
    "print(\"prediction label count \",c)"
   ]
  },
  {
   "cell_type": "markdown",
   "metadata": {},
   "source": [
    "Example of computing class_weight\n",
    "\n",
    "https://programtalk.com/python-examples/sklearn.utils.class_weight.compute_class_weight/"
   ]
  },
  {
   "cell_type": "code",
   "execution_count": null,
   "metadata": {},
   "outputs": [],
   "source": [
    "# %%time \n",
    "# best_nu = -1\n",
    "# best_acc = -1\n",
    "# best_degree = -1\n",
    "# best_kernel = ''\n",
    "# w = -1\n",
    "\n",
    "# nu = []\n",
    "# degree = []\n",
    "# kernel = []\n",
    "# acc_list = []\n",
    "# for n in range(1,9):\n",
    "#     nu_v = 0.1*n\n",
    "#     w += 1\n",
    "#     for k in [\"linear\", \"poly\", \"rbf\", \"sigmoid\"]:\n",
    "#         for d in range(1,10):\n",
    "#             avg_acc = 0\n",
    "#             for i in range(10):\n",
    "#                 training_data,test_data = train_test_split(sample_df,test_size= 0.2)\n",
    "#                 train_data,train_label = getTrianData(training_data,label_column[0])\n",
    "#                 test_data,test_label = getTrianData(test_data,label_column[0])\n",
    "# #                 new_labels = np.asarray(train_label.values)\n",
    "# #                 c = Counter()\n",
    "# #                 c.update(new_labels)\n",
    "# #                       #degree_v = 0.05*i\n",
    "#                 w_svc = svm.NuSVC(nu = nu_v, kernel=k, gamma='auto',degree = d, class_weight={0:weight_ratio[0][0]},probability=True)\n",
    "# #                 print(\"fitting model\")\n",
    "#                 w_svc.fit(train_data.iloc[:train_size], train_label.iloc[:train_size])#,sample_weight=cal_w) \n",
    "# #                 print(\"predicting now\")\n",
    "#                 y_pred = w_svc.predict(test_data)\n",
    "#                 acc = 0\n",
    "#                 for idx, val in enumerate(y_pred):\n",
    "#                     #print(test_label)\n",
    "#                     if val == test_label.values[idx]:\n",
    "#                         acc += 1\n",
    "#                 acc /= len(y_pred)\n",
    "#                 avg_acc += acc\n",
    "#                 print('{}: {}'.format(i,acc))\n",
    "#             avg_acc /= 4\n",
    "#             print('Kernel: {}, nu: {}, Degree: {} , Avg Acc: {} '.format(k,nu_v, d, avg_acc))\n",
    "#             if avg_acc > best_acc:\n",
    "#                 degree.append(d)\n",
    "#                 kernel.append(k)\n",
    "#                 nu.append(nu_v)\n",
    "#                 acc_list.append(avg_acc)\n",
    "#             if k != \"poly\":\n",
    "#                 break\n",
    "\n",
    "                "
   ]
  },
  {
   "cell_type": "code",
   "execution_count": null,
   "metadata": {},
   "outputs": [],
   "source": [
    "# svc_para = pd.DataFrame()\n",
    "# svc_para['best_degree'] = degree\n",
    "# svc_para['best_kernel'] = kernel\n",
    "# svc_para['best_nu'] = nu\n",
    "# svc_para['best_acc'] = acc_list"
   ]
  },
  {
   "cell_type": "code",
   "execution_count": null,
   "metadata": {
    "scrolled": true
   },
   "outputs": [],
   "source": [
    "# svc_para"
   ]
  },
  {
   "cell_type": "code",
   "execution_count": null,
   "metadata": {},
   "outputs": [],
   "source": [
    "# # gca stands for 'get current axis'\n",
    "# ax = plt.gca()\n",
    "\n",
    "# svc_para.plot(kind='line',x='best_acc',y='best_degree',ax=ax)\n",
    "# # svc_para.plot(kind='line',x='best_acc',y='best_kernel', color='red', ax=ax)\n",
    "# svc_para.plot(kind='line',x='best_acc',y='best_nu', color='yellow', ax=ax)\n",
    "\n",
    "# plt.show()"
   ]
  },
  {
   "cell_type": "code",
   "execution_count": null,
   "metadata": {
    "scrolled": true
   },
   "outputs": [],
   "source": [
    "# svc_para.plot.bar(x=['best_acc'],y=['best_degree','best_kernel','best_nu'],alpha=0.4)\n",
    "# plt.title(\"SVC accuracy based on Nu\")\n",
    "# plt.show()"
   ]
  },
  {
   "cell_type": "code",
   "execution_count": null,
   "metadata": {},
   "outputs": [],
   "source": []
  },
  {
   "cell_type": "markdown",
   "metadata": {},
   "source": [
    "## Not Used Code"
   ]
  },
  {
   "cell_type": "code",
   "execution_count": null,
   "metadata": {},
   "outputs": [],
   "source": [
    "# uncomment below lines to replace column with number greater than 0 to 1 to make it binary.\n",
    "# columns = ['avg_rating','best_rating','worst_rating','prepare_again_rating','num_reviews','total_time', 'tags', 'title']\n",
    "# df = sample_df.copy()\n",
    "# for col in sample_df.columns:\n",
    "#     if col not in columns:\n",
    "#         df.loc[df[col] > 0, col] = 1\n",
    "# df.head(25)"
   ]
  },
  {
   "cell_type": "code",
   "execution_count": null,
   "metadata": {},
   "outputs": [],
   "source": [
    "# len(sample_df[[\"Breakfast\" in x for x in sample_df.tags]])"
   ]
  },
  {
   "cell_type": "code",
   "execution_count": null,
   "metadata": {},
   "outputs": [],
   "source": [
    "# Uncomment below if need to encode data into unique value \n",
    "\n",
    "\n",
    "# from sklearn import preprocessing\n",
    "# # label encoder\n",
    "# le = preprocessing.LabelEncoder()\n",
    "\n",
    "# # Converting string labels into numbers\n",
    "# label = le.fit_transform(Y) # 0 ==> False, 1 ==> True\n",
    "# label\n",
    "\n",
    "# Uncomment below if need to convert X data into encoder and turn it into tuple list\n",
    "#data.apply(le.fit_transform)\n",
    "#data = [tuple(r) for r in data.values.tolist()]"
   ]
  },
  {
   "cell_type": "code",
   "execution_count": null,
   "metadata": {},
   "outputs": [],
   "source": [
    "# uncomment below if need to look for inf value in data \n",
    "# for col in X.columns:\n",
    "#     print(X.loc[X[col] > 100000, col])"
   ]
  },
  {
   "cell_type": "markdown",
   "metadata": {},
   "source": [
    "### Example from Sklearn Website\n",
    "\n",
    "https://scikit-learn.org/stable/auto_examples/svm/plot_weighted_samples.html"
   ]
  },
  {
   "cell_type": "code",
   "execution_count": null,
   "metadata": {},
   "outputs": [],
   "source": [
    "print(__doc__)\n",
    "\n",
    "def plot_decision_function(classifier, sample_weight, axis, title):\n",
    "    # plot the decision function\n",
    "    xx, yy = np.meshgrid(np.linspace(-4, 5, 500), np.linspace(-4, 5, 500))\n",
    "\n",
    "    Z = classifier.decision_function(np.c_[xx.ravel(), yy.ravel()])\n",
    "    Z = Z.reshape(xx.shape)\n",
    "\n",
    "    # plot the line, the points, and the nearest vectors to the plane\n",
    "    axis.contourf(xx, yy, Z, alpha=0.75, cmap=plt.cm.bone)\n",
    "    axis.scatter(X[:, 0], X[:, 1], c=y, s=100 * sample_weight, alpha=0.9,\n",
    "                 cmap=plt.cm.bone, edgecolors='black')\n",
    "\n",
    "    axis.axis('off')\n",
    "    axis.set_title(title)\n",
    "\n",
    "\n",
    "# we create 20 points\n",
    "np.random.seed(0)\n",
    "X = np.r_[np.random.randn(10, 2) + [1, 1], np.random.randn(10, 2)]\n",
    "y = [1] * 10 + [-1] * 10\n",
    "sample_weight_last_ten = abs(np.random.randn(len(X)))\n",
    "sample_weight_constant = np.ones(len(X))\n",
    "# and bigger weights to some outliers\n",
    "sample_weight_last_ten[15:] *= 5\n",
    "sample_weight_last_ten[9] *= 15\n",
    "\n",
    "# for reference, first fit without sample weights\n",
    "print(sample_weight_last_ten)\n",
    "# fit the model\n",
    "clf_weights = svm.SVC(gamma=1)\n",
    "clf_weights.fit(X, y, sample_weight=sample_weight_last_ten)\n",
    "\n",
    "clf_no_weights = svm.SVC(gamma=1)\n",
    "clf_no_weights.fit(X, y)\n",
    "\n",
    "fig, axes = plt.subplots(1, 2, figsize=(14, 6))\n",
    "plot_decision_function(clf_no_weights, sample_weight_constant, axes[0],\n",
    "                       \"Constant weights\")\n",
    "plot_decision_function(clf_weights, sample_weight_last_ten, axes[1],\n",
    "                       \"Modified weights\")\n",
    "\n",
    "plt.show()"
   ]
  },
  {
   "cell_type": "code",
   "execution_count": null,
   "metadata": {},
   "outputs": [],
   "source": [
    "# a = -class_weight[0] / class_weight[1]\n",
    "\n",
    "# xx = np.linspace(0,50)\n",
    "# yy = a * xx - feature_weight[0].max() / class_weight[1]\n",
    "# print(xx.min(),yy.max())\n",
    "# h0 = plt.plot(xx, yy, 'k-', label=\"non weighted div\")\n",
    "\n",
    "# plt.scatter(x, y,c=y)\n",
    "# plt.ylim(yy.min(),50)\n",
    "# plt.xlim(xx.min(),50)\n",
    "# plt.legend()\n",
    "# plt.show()"
   ]
  },
  {
   "cell_type": "code",
   "execution_count": null,
   "metadata": {},
   "outputs": [],
   "source": [
    "\n",
    "# import numpy as np\n",
    "# import matplotlib.pyplot as plt\n",
    "# from sklearn import svm, datasets\n",
    "\n",
    "# # import some data to play with\n",
    "# iris = datasets.load_iris()\n",
    "# X = data.iloc[:1000, :100]  # we only take the first two features. We could\n",
    "#                       # avoid this ugly slicing by using a two-dim dataset\n",
    "# y = label.iloc[:1000]\n",
    "\n",
    "# h = .02  # step size in the mesh\n",
    "\n",
    "# # we create an instance of SVM and fit out data. We do not scale our\n",
    "# # data since we want to plot the support vectors\n",
    "# C = 1.0  # SVM regularization parameter\n",
    "# svc = svm.SVC(kernel='linear', C=C).fit(X, y)\n",
    "# rbf_svc = svm.SVC(kernel='rbf', gamma=0.7, C=C).fit(X, y)\n",
    "# poly_svc = svm.SVC(kernel='poly', degree=3, C=C).fit(X, y)\n",
    "# lin_svc = svm.LinearSVC(C=C).fit(X, y)\n",
    "\n",
    "# # create a mesh to plot in\n",
    "# x_min, x_max = X.iloc[:, 0].min() - 1, X.iloc[:, 0].max() + 1\n",
    "# y_min, y_max = X.iloc[:, 100].min() - 1, X.iloc[:, 100].max() + 1\n",
    "# xx, yy = np.meshgrid(np.arange(x_min, x_max, h),\n",
    "#                      np.arange(y_min, y_max, h))\n",
    "\n",
    "# # title for the plots\n",
    "# titles = ['SVC with linear kernel',\n",
    "#           'LinearSVC (linear kernel)',\n",
    "#           'SVC with RBF kernel',\n",
    "#           'SVC with polynomial (degree 3) kernel']\n",
    "\n",
    "\n",
    "# for i, clf in enumerate((svc, lin_svc, rbf_svc, poly_svc)):\n",
    "#     # Plot the decision boundary. For that, we will assign a color to each\n",
    "#     # point in the mesh [x_min, x_max]x[y_min, y_max].\n",
    "#     plt.subplot(2, 2, i + 1)\n",
    "#     plt.subplots_adjust(wspace=0.4, hspace=0.4)\n",
    "\n",
    "#     Z = clf.predict(np.c_[xx.ravel(), yy.ravel()])\n",
    "\n",
    "#     # Put the result into a color plot\n",
    "#     Z = Z.reshape(xx.shape)\n",
    "#     plt.contourf(xx, yy, Z, cmap=plt.cm.coolwarm, alpha=0.8)\n",
    "\n",
    "#     # Plot also the training points\n",
    "#     plt.scatter(X.iloc[:, 0], X.iloc[:, 1], c=y, cmap=plt.cm.coolwarm)\n",
    "#     plt.xlabel('Sepal length')\n",
    "#     plt.ylabel('Sepal width')\n",
    "#     plt.xlim(xx.min(), xx.max())\n",
    "#     plt.ylim(yy.min(), yy.max())\n",
    "#     plt.xticks(())\n",
    "#     plt.yticks(())\n",
    "#     plt.title(titles[i])\n",
    "\n",
    "# plt.show()"
   ]
  },
  {
   "cell_type": "code",
   "execution_count": null,
   "metadata": {},
   "outputs": [],
   "source": [
    "# plot_decision_function(clf,clf.class_weight_,axes[0],'SVC without weights')"
   ]
  },
  {
   "cell_type": "code",
   "execution_count": null,
   "metadata": {},
   "outputs": [],
   "source": [
    "# from sklearn.datasets.samples_generator import make_blobs \n",
    "\n",
    "# x,y = make_blobs(n_samples=100,centers=3,n_features=3)\n",
    "# plt.scatter(x[:, 0], x[:, 1], c=y, s=50, cmap='spring'); \n",
    "# plt.show()  "
   ]
  }
 ],
 "metadata": {
  "kernelspec": {
   "display_name": "Python 3",
   "language": "python",
   "name": "python3"
  },
  "language_info": {
   "codemirror_mode": {
    "name": "ipython",
    "version": 3
   },
   "file_extension": ".py",
   "mimetype": "text/x-python",
   "name": "python",
   "nbconvert_exporter": "python",
   "pygments_lexer": "ipython3",
   "version": "3.7.4"
  }
 },
 "nbformat": 4,
 "nbformat_minor": 2
}
