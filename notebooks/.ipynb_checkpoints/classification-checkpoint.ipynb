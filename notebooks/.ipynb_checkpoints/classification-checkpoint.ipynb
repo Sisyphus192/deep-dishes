{
 "cells": [
  {
   "cell_type": "code",
   "execution_count": 1,
   "metadata": {},
   "outputs": [],
   "source": [
    "import numpy as np\n",
    "import pandas as pd\n",
    "import matplotlib.pyplot as plt\n",
    "from collections import Counter\n",
    "from sklearn import svm\n",
    "from sklearn.naive_bayes import GaussianNB\n",
    "\n",
    "from sklearn.utils import class_weight\n",
    "from sklearn.model_selection import train_test_split\n",
    "import seaborn as sns\n",
    "from sklearn.metrics import classification_report\n",
    "import collections\n",
    "from sklearn.metrics import classification_report\n"
   ]
  },
  {
   "cell_type": "code",
   "execution_count": 2,
   "metadata": {},
   "outputs": [],
   "source": [
    "epi_data_df = pd.read_hdf('../data/processed/recipe_vectors.h5')"
   ]
  },
  {
   "cell_type": "code",
   "execution_count": 3,
   "metadata": {},
   "outputs": [
    {
     "data": {
      "text/plain": [
       "(48817, 4756)"
      ]
     },
     "execution_count": 3,
     "metadata": {},
     "output_type": "execute_result"
    }
   ],
   "source": [
    "epi_data_df.shape"
   ]
  },
  {
   "cell_type": "markdown",
   "metadata": {},
   "source": [
    "## Helper functions"
   ]
  },
  {
   "cell_type": "code",
   "execution_count": 4,
   "metadata": {},
   "outputs": [],
   "source": [
    "def countTags(sample_df):\n",
    "    '''\n",
    "    Takes in DF and get counts of tags using python Counter. \n",
    "    \n",
    "    count: DataFrame\n",
    "        DF to stores count. \n",
    "    indexNames: list\n",
    "        Goes through DF and keeps index of count values less than 30. \n",
    "        We then drop columns in count DF.\n",
    "    Return:\n",
    "    ------\n",
    "    count: Counter() value\n",
    "    '''\n",
    "\n",
    "    c = Counter()  \n",
    "    sample_df[\"tags\"].apply(lambda x: c.update(x))\n",
    "\n",
    "    count = pd.DataFrame()\n",
    "    count['tags_count'] = [c[i] for i in c]\n",
    "    count['tag'] = [i for i in c]\n",
    "    count = count.sort_values(by='tags_count',ascending=False)\n",
    "\n",
    "    indexNames = count[ count['tags_count'] <= 30 ].index\n",
    "\n",
    "    count.drop(indexNames , inplace=True)\n",
    "    return count\n"
   ]
  },
  {
   "cell_type": "code",
   "execution_count": 5,
   "metadata": {},
   "outputs": [],
   "source": [
    "def getallergyTags(count):\n",
    "    '''\n",
    "    Takes in count of tags and get any tags that ends with word 'Free'.\n",
    "    \n",
    "    Returns:\n",
    "    Pandas DF with allergy tags and it's count.\n",
    "    '''\n",
    "    count['allergy_tags'] = count['tag'].str.endswith('Free')\n",
    "\n",
    "    allergy_df = count[count['allergy_tags'] == True]\n",
    "    return allergy_df"
   ]
  },
  {
   "cell_type": "code",
   "execution_count": 6,
   "metadata": {},
   "outputs": [],
   "source": [
    "# Create column in sample_df for allergy tags\n",
    "def addallergytoDF(allergy_df,df):\n",
    "    '''\n",
    "    Takes in DF with allergy tags and loops through it and add column of boolean in df.\n",
    "    \n",
    "    Returns:\n",
    "    -------\n",
    "    updated df with allergy columns added.\n",
    "    '''\n",
    "    for i in allergy_df.tag:\n",
    "        df[i] = [i in tags for tags in df.tags]\n",
    "    return df"
   ]
  },
  {
   "cell_type": "code",
   "execution_count": 7,
   "metadata": {},
   "outputs": [],
   "source": [
    "\n",
    "def loadCuisineType():\n",
    "    '''\n",
    "    It read cuisinetype,usa_city and states file, cleans data read from it. \n",
    "    \n",
    "    Returns:\n",
    "    A list of usa_cuisine and non_usa_cuisine.\n",
    "    '''\n",
    "    cuisinetype = pd.read_csv('cuisinetype.txt',header=None)\n",
    "    cuisinetype = cuisinetype.transpose()\n",
    "    cuisinetype = np.array(cuisinetype[0])\n",
    "    cuisinetype = [x.replace('\\'','') for x in cuisinetype]\n",
    "    cuisinetype = [x.replace('[','') for x in cuisinetype]\n",
    "    cuisinetype = [x.replace(']','') for x in cuisinetype]\n",
    "    cuisinetype = [x.lstrip() for x in cuisinetype]\n",
    "    \n",
    "    states = pd.read_csv('states.csv',header=None)\n",
    "    states = states.transpose()\n",
    "    states = np.array(states[0])\n",
    "    states = [x.lstrip() for x in states]\n",
    "    \n",
    "\n",
    "    city = pd.read_csv('usa_city.csv',header=None)\n",
    "    city = city.transpose()\n",
    "    city = np.array(city[0])\n",
    "    city = [x.replace('\\'','') for x in city]\n",
    "    city = [x.replace('[','') for x in city]\n",
    "    city = [x.replace(']','') for x in city]\n",
    "    city = [x.lstrip() for x in city]\n",
    "    usa_cuisine =states+city\n",
    "    \n",
    "    non_usa_cuisine = []\n",
    "    for i in cuisinetype:\n",
    "        if i not in usa_cuisine:\n",
    "            non_usa_cuisine.append(i)\n",
    "    return usa_cuisine,non_usa_cuisine\n",
    "    "
   ]
  },
  {
   "cell_type": "code",
   "execution_count": 8,
   "metadata": {},
   "outputs": [],
   "source": [
    "def addCuisinetypesToDF(sample_df,usa_cuisine,non_usa_cuisine):\n",
    "    '''\n",
    "    It loops through sample_df and add boolean value based on whether tags contains usa cities \n",
    "    and states or non-usa or none of both.\n",
    "    \n",
    "    returns:\n",
    "    --------\n",
    "    update sample_df with usa_cuisine column\n",
    "    '''\n",
    "    tags_value=[]\n",
    "    for tags in sample_df['tags']:\n",
    "        if(set(tags).intersection(usa_cuisine)):\n",
    "            tags_value.append(1)\n",
    "            continue\n",
    "        else:\n",
    "            if(set(tags).intersection(non_usa_cuisine)):\n",
    "                tags_value.append(0)\n",
    "            else:\n",
    "                tags_value.append(2)\n",
    "    sample_df['usa_cuisine'] = tags_value\n",
    "    return sample_df"
   ]
  },
  {
   "cell_type": "code",
   "execution_count": 9,
   "metadata": {},
   "outputs": [],
   "source": [
    "def dropZeroColumns(sample_df):\n",
    "    '''\n",
    "    Takes in a DF and drops all the row with only zeros value. \n",
    "    \n",
    "    Returns\n",
    "    -------\n",
    "    Reduced row DF\n",
    "    '''\n",
    "    sample_df = sample_df.loc[:, (sample_df != 0).any(axis=0)]\n",
    "    return sample_df"
   ]
  },
  {
   "cell_type": "code",
   "execution_count": 10,
   "metadata": {},
   "outputs": [],
   "source": [
    "def dropColumn(sample_df,col):\n",
    "    '''\n",
    "    Drops colums with infinite values. \n",
    "    \n",
    "    Returns\n",
    "    -------\n",
    "    reduced column DF\n",
    "    '''\n",
    "    sample_df = sample_df[(sample_df != np.inf).all(axis=1)]\n",
    "    sample_df = sample_df.drop(columns=col,axis=1)\n",
    "\n",
    "    return sample_df"
   ]
  },
  {
   "cell_type": "code",
   "execution_count": 11,
   "metadata": {},
   "outputs": [],
   "source": [
    "\n",
    "def getTrianData(sample_df,label_column):\n",
    "    '''Seperate data and label to classify, \n",
    "    X are attribute columns used to classify, Y is the label\n",
    "    first delete all infinity values in data. It also drop columns that are not needed.\n",
    "    \n",
    "    Returns\n",
    "    -------\n",
    "    \n",
    "    data Df and label DF\n",
    "    '''\n",
    "    data = sample_df.drop(columns=label_column, axis=1)\n",
    "    label = sample_df[label_column]\n",
    "    return data,label\n"
   ]
  },
  {
   "cell_type": "code",
   "execution_count": 12,
   "metadata": {},
   "outputs": [],
   "source": [
    "def addSeasontypesToDF(sample_df,season,label):\n",
    "    '''\n",
    "    Adds yearly seasons to sample_df\n",
    "    \n",
    "    season column value association:\n",
    "    1 ==> spring, 2 ==> summer, 3 ==> fall, 4 ==> winter, 0 ==> NA\n",
    "    Returns:\n",
    "    update sample_df\n",
    "    '''\n",
    "    tags_value=[]\n",
    "    for tags in sample_df['tags']:\n",
    "        if(season[0] in set(tags)): \n",
    "            tags_value.append(1)\n",
    "        elif(season[1] in set(tags)): \n",
    "            tags_value.append(2)\n",
    "        elif(season[2] in set(tags)): \n",
    "            tags_value.append(3)\n",
    "        elif(season[3] in set(tags)): \n",
    "            tags_value.append(4)\n",
    "        else:\n",
    "            tags_value.append(0) # for non-season food\n",
    "    sample_df[label] = tags_value\n",
    "    return sample_df"
   ]
  },
  {
   "cell_type": "code",
   "execution_count": 13,
   "metadata": {},
   "outputs": [],
   "source": [
    "class SVCmodel(object):\n",
    "    def __init__(self):\n",
    "        pass\n",
    "    def getSupport(self,model):\n",
    "        '''Indices of support vectors'''\n",
    "        return model.support_\n",
    "    def getClassWeight(self,model):\n",
    "        '''Support vectors'''\n",
    "        return model.class_weight_\n",
    "    def getNsupport(self,model):\n",
    "        '''# of support vector for each class'''\n",
    "        return model.n_support_\n",
    "    def getsupportcoef(self,model):\n",
    "        '''related to support vector in the decision function.'''\n",
    "        return model.dual_coef_\n",
    "    def getfeaturesweight(self,model):\n",
    "        '''weight assigned to the features'''\n",
    "        return model.coef_\n",
    "    def getintercept(self,model):\n",
    "        '''constants in decision function'''\n",
    "        return model.intercept_\n",
    "    def getfitstatus(self,model):\n",
    "        '''0 if correctly fitted, 1 otherwise(will raise warning)'''\n",
    "        return model.fit_status_\n",
    "    def getclasses(self,model):\n",
    "        '''The class label'''\n",
    "        return model.classes_\n",
    "    def getprobA(self,model):\n",
    "        '''array type, shape = [n_class*(n_classes-1)/2]'''\n",
    "        return model.probA_\n",
    "    def getprobB(self,model):\n",
    "        '''array type, shape = [n_class*(n_classes-1)/2].\n",
    "        If probability=True, it corresponds to the parameters \n",
    "        learned in Platt scaling to produce probability estimates \n",
    "        from decision values. If probability=False, it’s an empty array. \n",
    "        Platt scaling uses the logistic function \n",
    "        1 / (1 + exp(decision_value * probA_ + probB_)) \n",
    "        where probA_ and probB_ are learned from the dataset \n",
    "        '''\n",
    "        return model.probA_\n",
    "    def getclassweight(self,model):\n",
    "        '''multipliers of parameter C for each class.'''\n",
    "        return model.class_weight_\n",
    "    def getshapefit(self,model):\n",
    "        return model.shape_fit_"
   ]
  },
  {
   "cell_type": "markdown",
   "metadata": {},
   "source": [
    "## Data Preparation for Classification"
   ]
  },
  {
   "cell_type": "code",
   "execution_count": 14,
   "metadata": {},
   "outputs": [
    {
     "name": "stderr",
     "output_type": "stream",
     "text": [
      "/usr/local/anaconda3/lib/python3.7/site-packages/ipykernel_launcher.py:20: SettingWithCopyWarning: \n",
      "A value is trying to be set on a copy of a slice from a DataFrame.\n",
      "Try using .loc[row_indexer,col_indexer] = value instead\n",
      "\n",
      "See the caveats in the documentation: http://pandas.pydata.org/pandas-docs/stable/user_guide/indexing.html#returning-a-view-versus-a-copy\n",
      "/usr/local/anaconda3/lib/python3.7/site-packages/ipykernel_launcher.py:11: SettingWithCopyWarning: \n",
      "A value is trying to be set on a copy of a slice from a DataFrame.\n",
      "Try using .loc[row_indexer,col_indexer] = value instead\n",
      "\n",
      "See the caveats in the documentation: http://pandas.pydata.org/pandas-docs/stable/user_guide/indexing.html#returning-a-view-versus-a-copy\n",
      "  # This is added back by InteractiveShellApp.init_path()\n"
     ]
    },
    {
     "name": "stdout",
     "output_type": "stream",
     "text": [
      "CPU times: user 2.41 s, sys: 301 ms, total: 2.71 s\n",
      "Wall time: 2.7 s\n"
     ]
    }
   ],
   "source": [
    "%%time\n",
    "# Cuisine Types: usa_cuisine ==> 1, non_usa_cuisine ==> 1, no_tags ==> 2\n",
    "tags_count = countTags(epi_data_df)\n",
    "usa_cuisine,non_usa_cuisine = loadCuisineType()\n",
    "allergy_tags = getallergyTags(tags_count)\n",
    "sample_df = epi_data_df.head(10000)\n",
    "sample_df = addCuisinetypesToDF(sample_df,usa_cuisine,non_usa_cuisine)\n",
    "cuisine_df = sample_df\n",
    "sample_df = addallergytoDF(allergy_tags,sample_df)\n",
    "sample_df = dropZeroColumns(sample_df)\n"
   ]
  },
  {
   "cell_type": "code",
   "execution_count": 15,
   "metadata": {
    "scrolled": false
   },
   "outputs": [
    {
     "data": {
      "text/html": [
       "<div>\n",
       "<style scoped>\n",
       "    .dataframe tbody tr th:only-of-type {\n",
       "        vertical-align: middle;\n",
       "    }\n",
       "\n",
       "    .dataframe tbody tr th {\n",
       "        vertical-align: top;\n",
       "    }\n",
       "\n",
       "    .dataframe thead th {\n",
       "        text-align: right;\n",
       "    }\n",
       "</style>\n",
       "<table border=\"1\" class=\"dataframe\">\n",
       "  <thead>\n",
       "    <tr style=\"text-align: right;\">\n",
       "      <th></th>\n",
       "      <th>Aleppo chili flake</th>\n",
       "      <th>Aleppo pepper</th>\n",
       "      <th>Amaretto</th>\n",
       "      <th>Amaretto liqueur</th>\n",
       "      <th>Amontillado sherry</th>\n",
       "      <th>Anaheim chili</th>\n",
       "      <th>Anaheim pepper</th>\n",
       "      <th>Angostura Bitters</th>\n",
       "      <th>Angostura bitter</th>\n",
       "      <th>Angostura or orange bitter</th>\n",
       "      <th>...</th>\n",
       "      <th>num_reviews</th>\n",
       "      <th>tags</th>\n",
       "      <th>title</th>\n",
       "      <th>usa_cuisine</th>\n",
       "      <th>Peanut Free</th>\n",
       "      <th>Soy Free</th>\n",
       "      <th>Tree Nut Free</th>\n",
       "      <th>Wheat/Gluten-Free</th>\n",
       "      <th>Dairy Free</th>\n",
       "      <th>Fat Free</th>\n",
       "    </tr>\n",
       "  </thead>\n",
       "  <tbody>\n",
       "    <tr>\n",
       "      <td>http://www.epicurious.com/recipes/food/views/-adult-pimiento-cheese-100852</td>\n",
       "      <td>0.0</td>\n",
       "      <td>0.0</td>\n",
       "      <td>0.0</td>\n",
       "      <td>0.0</td>\n",
       "      <td>0.0</td>\n",
       "      <td>0.0</td>\n",
       "      <td>0.0</td>\n",
       "      <td>0.0</td>\n",
       "      <td>0.0</td>\n",
       "      <td>0.0</td>\n",
       "      <td>...</td>\n",
       "      <td>25.0</td>\n",
       "      <td>[Cheese, Vegetable, No-Cook, Vegetarian, Quick...</td>\n",
       "      <td>\"Adult\" Pimiento Cheese</td>\n",
       "      <td>1</td>\n",
       "      <td>False</td>\n",
       "      <td>False</td>\n",
       "      <td>False</td>\n",
       "      <td>False</td>\n",
       "      <td>False</td>\n",
       "      <td>False</td>\n",
       "    </tr>\n",
       "    <tr>\n",
       "      <td>http://www.epicurious.com/recipes/food/views/-an-apple-a-day-51133430</td>\n",
       "      <td>0.0</td>\n",
       "      <td>0.0</td>\n",
       "      <td>0.0</td>\n",
       "      <td>0.0</td>\n",
       "      <td>0.0</td>\n",
       "      <td>0.0</td>\n",
       "      <td>0.0</td>\n",
       "      <td>0.0</td>\n",
       "      <td>0.0</td>\n",
       "      <td>0.0</td>\n",
       "      <td>...</td>\n",
       "      <td>3.0</td>\n",
       "      <td>[Ginger, Dessert, Bake, Apple, Almond, Fall, R...</td>\n",
       "      <td>\"An Apple a Day\"</td>\n",
       "      <td>2</td>\n",
       "      <td>True</td>\n",
       "      <td>True</td>\n",
       "      <td>False</td>\n",
       "      <td>False</td>\n",
       "      <td>False</td>\n",
       "      <td>False</td>\n",
       "    </tr>\n",
       "  </tbody>\n",
       "</table>\n",
       "<p>2 rows × 3119 columns</p>\n",
       "</div>"
      ],
      "text/plain": [
       "                                                    Aleppo chili flake  \\\n",
       "http://www.epicurious.com/recipes/food/views/-a...                 0.0   \n",
       "http://www.epicurious.com/recipes/food/views/-a...                 0.0   \n",
       "\n",
       "                                                    Aleppo pepper  Amaretto  \\\n",
       "http://www.epicurious.com/recipes/food/views/-a...            0.0       0.0   \n",
       "http://www.epicurious.com/recipes/food/views/-a...            0.0       0.0   \n",
       "\n",
       "                                                    Amaretto liqueur  \\\n",
       "http://www.epicurious.com/recipes/food/views/-a...               0.0   \n",
       "http://www.epicurious.com/recipes/food/views/-a...               0.0   \n",
       "\n",
       "                                                    Amontillado sherry  \\\n",
       "http://www.epicurious.com/recipes/food/views/-a...                 0.0   \n",
       "http://www.epicurious.com/recipes/food/views/-a...                 0.0   \n",
       "\n",
       "                                                    Anaheim chili  \\\n",
       "http://www.epicurious.com/recipes/food/views/-a...            0.0   \n",
       "http://www.epicurious.com/recipes/food/views/-a...            0.0   \n",
       "\n",
       "                                                    Anaheim pepper  \\\n",
       "http://www.epicurious.com/recipes/food/views/-a...             0.0   \n",
       "http://www.epicurious.com/recipes/food/views/-a...             0.0   \n",
       "\n",
       "                                                    Angostura Bitters  \\\n",
       "http://www.epicurious.com/recipes/food/views/-a...                0.0   \n",
       "http://www.epicurious.com/recipes/food/views/-a...                0.0   \n",
       "\n",
       "                                                    Angostura bitter  \\\n",
       "http://www.epicurious.com/recipes/food/views/-a...               0.0   \n",
       "http://www.epicurious.com/recipes/food/views/-a...               0.0   \n",
       "\n",
       "                                                    Angostura or orange bitter  \\\n",
       "http://www.epicurious.com/recipes/food/views/-a...                         0.0   \n",
       "http://www.epicurious.com/recipes/food/views/-a...                         0.0   \n",
       "\n",
       "                                                    ...  num_reviews  \\\n",
       "http://www.epicurious.com/recipes/food/views/-a...  ...         25.0   \n",
       "http://www.epicurious.com/recipes/food/views/-a...  ...          3.0   \n",
       "\n",
       "                                                                                                 tags  \\\n",
       "http://www.epicurious.com/recipes/food/views/-a...  [Cheese, Vegetable, No-Cook, Vegetarian, Quick...   \n",
       "http://www.epicurious.com/recipes/food/views/-a...  [Ginger, Dessert, Bake, Apple, Almond, Fall, R...   \n",
       "\n",
       "                                                                       title  \\\n",
       "http://www.epicurious.com/recipes/food/views/-a...  \"Adult\" Pimiento Cheese    \n",
       "http://www.epicurious.com/recipes/food/views/-a...         \"An Apple a Day\"    \n",
       "\n",
       "                                                    usa_cuisine  Peanut Free  \\\n",
       "http://www.epicurious.com/recipes/food/views/-a...            1        False   \n",
       "http://www.epicurious.com/recipes/food/views/-a...            2         True   \n",
       "\n",
       "                                                    Soy Free  Tree Nut Free  \\\n",
       "http://www.epicurious.com/recipes/food/views/-a...     False          False   \n",
       "http://www.epicurious.com/recipes/food/views/-a...      True          False   \n",
       "\n",
       "                                                    Wheat/Gluten-Free  \\\n",
       "http://www.epicurious.com/recipes/food/views/-a...              False   \n",
       "http://www.epicurious.com/recipes/food/views/-a...              False   \n",
       "\n",
       "                                                    Dairy Free  Fat Free  \n",
       "http://www.epicurious.com/recipes/food/views/-a...       False     False  \n",
       "http://www.epicurious.com/recipes/food/views/-a...       False     False  \n",
       "\n",
       "[2 rows x 3119 columns]"
      ]
     },
     "execution_count": 15,
     "metadata": {},
     "output_type": "execute_result"
    }
   ],
   "source": [
    "sample_df.head(2)"
   ]
  },
  {
   "cell_type": "code",
   "execution_count": 16,
   "metadata": {},
   "outputs": [
    {
     "name": "stderr",
     "output_type": "stream",
     "text": [
      "/usr/local/anaconda3/lib/python3.7/site-packages/pandas/core/frame.py:3494: SettingWithCopyWarning: \n",
      "A value is trying to be set on a copy of a slice from a DataFrame.\n",
      "Try using .loc[row_indexer,col_indexer] = value instead\n",
      "\n",
      "See the caveats in the documentation: http://pandas.pydata.org/pandas-docs/stable/user_guide/indexing.html#returning-a-view-versus-a-copy\n",
      "  self[k1] = value[k2]\n"
     ]
    },
    {
     "data": {
      "text/html": [
       "<div>\n",
       "<style scoped>\n",
       "    .dataframe tbody tr th:only-of-type {\n",
       "        vertical-align: middle;\n",
       "    }\n",
       "\n",
       "    .dataframe tbody tr th {\n",
       "        vertical-align: top;\n",
       "    }\n",
       "\n",
       "    .dataframe thead th {\n",
       "        text-align: right;\n",
       "    }\n",
       "</style>\n",
       "<table border=\"1\" class=\"dataframe\">\n",
       "  <thead>\n",
       "    <tr style=\"text-align: right;\">\n",
       "      <th></th>\n",
       "      <th>Aleppo chili flake</th>\n",
       "      <th>Aleppo pepper</th>\n",
       "      <th>Amaretto</th>\n",
       "      <th>Amaretto liqueur</th>\n",
       "      <th>Amontillado sherry</th>\n",
       "      <th>Anaheim chili</th>\n",
       "      <th>Anaheim pepper</th>\n",
       "      <th>Angostura Bitters</th>\n",
       "      <th>Angostura bitter</th>\n",
       "      <th>Angostura or orange bitter</th>\n",
       "      <th>...</th>\n",
       "      <th>num_reviews</th>\n",
       "      <th>tags</th>\n",
       "      <th>title</th>\n",
       "      <th>usa_cuisine</th>\n",
       "      <th>Peanut Free</th>\n",
       "      <th>Soy Free</th>\n",
       "      <th>Tree Nut Free</th>\n",
       "      <th>Wheat/Gluten-Free</th>\n",
       "      <th>Dairy Free</th>\n",
       "      <th>Fat Free</th>\n",
       "    </tr>\n",
       "  </thead>\n",
       "  <tbody>\n",
       "    <tr>\n",
       "      <td>http://www.epicurious.com/recipes/food/views/-adult-pimiento-cheese-100852</td>\n",
       "      <td>0.0</td>\n",
       "      <td>0.0</td>\n",
       "      <td>0.0</td>\n",
       "      <td>0.0</td>\n",
       "      <td>0.0</td>\n",
       "      <td>0.0</td>\n",
       "      <td>0.0</td>\n",
       "      <td>0.0</td>\n",
       "      <td>0.0</td>\n",
       "      <td>0.0</td>\n",
       "      <td>...</td>\n",
       "      <td>25.0</td>\n",
       "      <td>[Cheese, Vegetable, No-Cook, Vegetarian, Quick...</td>\n",
       "      <td>\"Adult\" Pimiento Cheese</td>\n",
       "      <td>1</td>\n",
       "      <td>0</td>\n",
       "      <td>0</td>\n",
       "      <td>0</td>\n",
       "      <td>0</td>\n",
       "      <td>0</td>\n",
       "      <td>0</td>\n",
       "    </tr>\n",
       "    <tr>\n",
       "      <td>http://www.epicurious.com/recipes/food/views/-an-apple-a-day-51133430</td>\n",
       "      <td>0.0</td>\n",
       "      <td>0.0</td>\n",
       "      <td>0.0</td>\n",
       "      <td>0.0</td>\n",
       "      <td>0.0</td>\n",
       "      <td>0.0</td>\n",
       "      <td>0.0</td>\n",
       "      <td>0.0</td>\n",
       "      <td>0.0</td>\n",
       "      <td>0.0</td>\n",
       "      <td>...</td>\n",
       "      <td>3.0</td>\n",
       "      <td>[Ginger, Dessert, Bake, Apple, Almond, Fall, R...</td>\n",
       "      <td>\"An Apple a Day\"</td>\n",
       "      <td>2</td>\n",
       "      <td>1</td>\n",
       "      <td>1</td>\n",
       "      <td>0</td>\n",
       "      <td>0</td>\n",
       "      <td>0</td>\n",
       "      <td>0</td>\n",
       "    </tr>\n",
       "  </tbody>\n",
       "</table>\n",
       "<p>2 rows × 3119 columns</p>\n",
       "</div>"
      ],
      "text/plain": [
       "                                                    Aleppo chili flake  \\\n",
       "http://www.epicurious.com/recipes/food/views/-a...                 0.0   \n",
       "http://www.epicurious.com/recipes/food/views/-a...                 0.0   \n",
       "\n",
       "                                                    Aleppo pepper  Amaretto  \\\n",
       "http://www.epicurious.com/recipes/food/views/-a...            0.0       0.0   \n",
       "http://www.epicurious.com/recipes/food/views/-a...            0.0       0.0   \n",
       "\n",
       "                                                    Amaretto liqueur  \\\n",
       "http://www.epicurious.com/recipes/food/views/-a...               0.0   \n",
       "http://www.epicurious.com/recipes/food/views/-a...               0.0   \n",
       "\n",
       "                                                    Amontillado sherry  \\\n",
       "http://www.epicurious.com/recipes/food/views/-a...                 0.0   \n",
       "http://www.epicurious.com/recipes/food/views/-a...                 0.0   \n",
       "\n",
       "                                                    Anaheim chili  \\\n",
       "http://www.epicurious.com/recipes/food/views/-a...            0.0   \n",
       "http://www.epicurious.com/recipes/food/views/-a...            0.0   \n",
       "\n",
       "                                                    Anaheim pepper  \\\n",
       "http://www.epicurious.com/recipes/food/views/-a...             0.0   \n",
       "http://www.epicurious.com/recipes/food/views/-a...             0.0   \n",
       "\n",
       "                                                    Angostura Bitters  \\\n",
       "http://www.epicurious.com/recipes/food/views/-a...                0.0   \n",
       "http://www.epicurious.com/recipes/food/views/-a...                0.0   \n",
       "\n",
       "                                                    Angostura bitter  \\\n",
       "http://www.epicurious.com/recipes/food/views/-a...               0.0   \n",
       "http://www.epicurious.com/recipes/food/views/-a...               0.0   \n",
       "\n",
       "                                                    Angostura or orange bitter  \\\n",
       "http://www.epicurious.com/recipes/food/views/-a...                         0.0   \n",
       "http://www.epicurious.com/recipes/food/views/-a...                         0.0   \n",
       "\n",
       "                                                    ...  num_reviews  \\\n",
       "http://www.epicurious.com/recipes/food/views/-a...  ...         25.0   \n",
       "http://www.epicurious.com/recipes/food/views/-a...  ...          3.0   \n",
       "\n",
       "                                                                                                 tags  \\\n",
       "http://www.epicurious.com/recipes/food/views/-a...  [Cheese, Vegetable, No-Cook, Vegetarian, Quick...   \n",
       "http://www.epicurious.com/recipes/food/views/-a...  [Ginger, Dessert, Bake, Apple, Almond, Fall, R...   \n",
       "\n",
       "                                                                       title  \\\n",
       "http://www.epicurious.com/recipes/food/views/-a...  \"Adult\" Pimiento Cheese    \n",
       "http://www.epicurious.com/recipes/food/views/-a...         \"An Apple a Day\"    \n",
       "\n",
       "                                                    usa_cuisine  Peanut Free  \\\n",
       "http://www.epicurious.com/recipes/food/views/-a...            1            0   \n",
       "http://www.epicurious.com/recipes/food/views/-a...            2            1   \n",
       "\n",
       "                                                    Soy Free  Tree Nut Free  \\\n",
       "http://www.epicurious.com/recipes/food/views/-a...         0              0   \n",
       "http://www.epicurious.com/recipes/food/views/-a...         1              0   \n",
       "\n",
       "                                                    Wheat/Gluten-Free  \\\n",
       "http://www.epicurious.com/recipes/food/views/-a...                  0   \n",
       "http://www.epicurious.com/recipes/food/views/-a...                  0   \n",
       "\n",
       "                                                    Dairy Free  Fat Free  \n",
       "http://www.epicurious.com/recipes/food/views/-a...           0         0  \n",
       "http://www.epicurious.com/recipes/food/views/-a...           0         0  \n",
       "\n",
       "[2 rows x 3119 columns]"
      ]
     },
     "execution_count": 16,
     "metadata": {},
     "output_type": "execute_result"
    }
   ],
   "source": [
    "allergy = ['Peanut Free','Soy Free','Tree Nut Free','Wheat/Gluten-Free','Dairy Free','Fat Free']\n",
    "sample_df[allergy] *= 1\n",
    "sample_df.head(2)"
   ]
  },
  {
   "cell_type": "code",
   "execution_count": 17,
   "metadata": {},
   "outputs": [
    {
     "data": {
      "text/plain": [
       "(10000, 3119)"
      ]
     },
     "execution_count": 17,
     "metadata": {},
     "output_type": "execute_result"
    }
   ],
   "source": [
    "sample_df.shape"
   ]
  },
  {
   "cell_type": "code",
   "execution_count": 18,
   "metadata": {
    "scrolled": false
   },
   "outputs": [
    {
     "name": "stdout",
     "output_type": "stream",
     "text": [
      "Tags list Containing Peanut Ingredient, but not Peanut Free tag 84\n"
     ]
    },
    {
     "data": {
      "text/plain": [
       "[('Peanut', 84),\n",
       " ('Tree Nut Free', 47),\n",
       " ('Vegetarian', 44),\n",
       " ('Soy Free', 42),\n",
       " ('Bon Appétit', 40),\n",
       " ('Kosher', 39),\n",
       " ('Dessert', 37),\n",
       " ('Pescatarian', 35),\n",
       " ('Kid-Friendly', 28),\n",
       " ('Gourmet', 27)]"
      ]
     },
     "execution_count": 18,
     "metadata": {},
     "output_type": "execute_result"
    }
   ],
   "source": [
    "s = Counter()\n",
    "tags_list = []\n",
    "count = 0\n",
    "for tags in sample_df['tags']:\n",
    "    if('Peanut' in tags):\n",
    "#         print(tags)\n",
    "        count +=1\n",
    "        for i in tags:\n",
    "            tags_list.append(i)\n",
    "\n",
    "print(\"Tags list Containing Peanut Ingredient, but not Peanut Free tag\",count)\n",
    "s.update(tags_list)\n",
    "s.most_common(10)"
   ]
  },
  {
   "cell_type": "code",
   "execution_count": 19,
   "metadata": {},
   "outputs": [
    {
     "data": {
      "text/html": [
       "<div>\n",
       "<style scoped>\n",
       "    .dataframe tbody tr th:only-of-type {\n",
       "        vertical-align: middle;\n",
       "    }\n",
       "\n",
       "    .dataframe tbody tr th {\n",
       "        vertical-align: top;\n",
       "    }\n",
       "\n",
       "    .dataframe thead th {\n",
       "        text-align: right;\n",
       "    }\n",
       "</style>\n",
       "<table border=\"1\" class=\"dataframe\">\n",
       "  <thead>\n",
       "    <tr style=\"text-align: right;\">\n",
       "      <th></th>\n",
       "      <th>tags_count</th>\n",
       "      <th>tag</th>\n",
       "      <th>allergy_tags</th>\n",
       "    </tr>\n",
       "  </thead>\n",
       "  <tbody>\n",
       "    <tr>\n",
       "      <td>19</td>\n",
       "      <td>16565</td>\n",
       "      <td>Peanut Free</td>\n",
       "      <td>True</td>\n",
       "    </tr>\n",
       "    <tr>\n",
       "      <td>20</td>\n",
       "      <td>16131</td>\n",
       "      <td>Soy Free</td>\n",
       "      <td>True</td>\n",
       "    </tr>\n",
       "    <tr>\n",
       "      <td>17</td>\n",
       "      <td>15512</td>\n",
       "      <td>Bon Appétit</td>\n",
       "      <td>False</td>\n",
       "    </tr>\n",
       "    <tr>\n",
       "      <td>34</td>\n",
       "      <td>14049</td>\n",
       "      <td>Tree Nut Free</td>\n",
       "      <td>True</td>\n",
       "    </tr>\n",
       "    <tr>\n",
       "      <td>3</td>\n",
       "      <td>13552</td>\n",
       "      <td>Vegetarian</td>\n",
       "      <td>False</td>\n",
       "    </tr>\n",
       "  </tbody>\n",
       "</table>\n",
       "</div>"
      ],
      "text/plain": [
       "    tags_count            tag  allergy_tags\n",
       "19       16565    Peanut Free          True\n",
       "20       16131       Soy Free          True\n",
       "17       15512    Bon Appétit         False\n",
       "34       14049  Tree Nut Free          True\n",
       "3        13552     Vegetarian         False"
      ]
     },
     "execution_count": 19,
     "metadata": {},
     "output_type": "execute_result"
    }
   ],
   "source": [
    "tags_count.head()"
   ]
  },
  {
   "cell_type": "markdown",
   "metadata": {},
   "source": [
    "### Deletes Not used columns for Classification"
   ]
  },
  {
   "cell_type": "code",
   "execution_count": 20,
   "metadata": {},
   "outputs": [],
   "source": [
    "drop_column = ['avg_rating','best_rating','prepare_again_rating','num_reviews','usa_cuisine','tags','title']\n",
    "label_column = ['Peanut Free','Soy Free','Tree Nut Free','Wheat/Gluten-Free','Dairy Free','Fat Free']\n",
    "\n",
    "# copy1 = sample_df\n",
    "# copy2 = sample_df\n",
    "# usa_tag_df = deleterows(copy1,'usa_cuisine',2,'',True)\n",
    "# no_cuisine_tag_df = deleterows(copy2,'usa_cuisine',1,0,False)\n"
   ]
  },
  {
   "cell_type": "code",
   "execution_count": 21,
   "metadata": {},
   "outputs": [
    {
     "data": {
      "text/html": [
       "<div>\n",
       "<style scoped>\n",
       "    .dataframe tbody tr th:only-of-type {\n",
       "        vertical-align: middle;\n",
       "    }\n",
       "\n",
       "    .dataframe tbody tr th {\n",
       "        vertical-align: top;\n",
       "    }\n",
       "\n",
       "    .dataframe thead th {\n",
       "        text-align: right;\n",
       "    }\n",
       "</style>\n",
       "<table border=\"1\" class=\"dataframe\">\n",
       "  <thead>\n",
       "    <tr style=\"text-align: right;\">\n",
       "      <th></th>\n",
       "      <th>Aleppo chili flake</th>\n",
       "      <th>Aleppo pepper</th>\n",
       "      <th>Amaretto</th>\n",
       "      <th>Amaretto liqueur</th>\n",
       "      <th>Amontillado sherry</th>\n",
       "      <th>Anaheim chili</th>\n",
       "      <th>Anaheim pepper</th>\n",
       "      <th>Angostura Bitters</th>\n",
       "      <th>Angostura bitter</th>\n",
       "      <th>Angostura or orange bitter</th>\n",
       "      <th>...</th>\n",
       "      <th>num_reviews</th>\n",
       "      <th>tags</th>\n",
       "      <th>title</th>\n",
       "      <th>usa_cuisine</th>\n",
       "      <th>Peanut Free</th>\n",
       "      <th>Soy Free</th>\n",
       "      <th>Tree Nut Free</th>\n",
       "      <th>Wheat/Gluten-Free</th>\n",
       "      <th>Dairy Free</th>\n",
       "      <th>Fat Free</th>\n",
       "    </tr>\n",
       "  </thead>\n",
       "  <tbody>\n",
       "    <tr>\n",
       "      <td>http://www.epicurious.com/recipes/food/views/-adult-pimiento-cheese-100852</td>\n",
       "      <td>0.0</td>\n",
       "      <td>0.0</td>\n",
       "      <td>0.0</td>\n",
       "      <td>0.0</td>\n",
       "      <td>0.0</td>\n",
       "      <td>0.0</td>\n",
       "      <td>0.0</td>\n",
       "      <td>0.0</td>\n",
       "      <td>0.0</td>\n",
       "      <td>0.0</td>\n",
       "      <td>...</td>\n",
       "      <td>25.0</td>\n",
       "      <td>[Cheese, Vegetable, No-Cook, Vegetarian, Quick...</td>\n",
       "      <td>\"Adult\" Pimiento Cheese</td>\n",
       "      <td>1</td>\n",
       "      <td>0</td>\n",
       "      <td>0</td>\n",
       "      <td>0</td>\n",
       "      <td>0</td>\n",
       "      <td>0</td>\n",
       "      <td>0</td>\n",
       "    </tr>\n",
       "    <tr>\n",
       "      <td>http://www.epicurious.com/recipes/food/views/-an-apple-a-day-51133430</td>\n",
       "      <td>0.0</td>\n",
       "      <td>0.0</td>\n",
       "      <td>0.0</td>\n",
       "      <td>0.0</td>\n",
       "      <td>0.0</td>\n",
       "      <td>0.0</td>\n",
       "      <td>0.0</td>\n",
       "      <td>0.0</td>\n",
       "      <td>0.0</td>\n",
       "      <td>0.0</td>\n",
       "      <td>...</td>\n",
       "      <td>3.0</td>\n",
       "      <td>[Ginger, Dessert, Bake, Apple, Almond, Fall, R...</td>\n",
       "      <td>\"An Apple a Day\"</td>\n",
       "      <td>2</td>\n",
       "      <td>1</td>\n",
       "      <td>1</td>\n",
       "      <td>0</td>\n",
       "      <td>0</td>\n",
       "      <td>0</td>\n",
       "      <td>0</td>\n",
       "    </tr>\n",
       "  </tbody>\n",
       "</table>\n",
       "<p>2 rows × 3119 columns</p>\n",
       "</div>"
      ],
      "text/plain": [
       "                                                    Aleppo chili flake  \\\n",
       "http://www.epicurious.com/recipes/food/views/-a...                 0.0   \n",
       "http://www.epicurious.com/recipes/food/views/-a...                 0.0   \n",
       "\n",
       "                                                    Aleppo pepper  Amaretto  \\\n",
       "http://www.epicurious.com/recipes/food/views/-a...            0.0       0.0   \n",
       "http://www.epicurious.com/recipes/food/views/-a...            0.0       0.0   \n",
       "\n",
       "                                                    Amaretto liqueur  \\\n",
       "http://www.epicurious.com/recipes/food/views/-a...               0.0   \n",
       "http://www.epicurious.com/recipes/food/views/-a...               0.0   \n",
       "\n",
       "                                                    Amontillado sherry  \\\n",
       "http://www.epicurious.com/recipes/food/views/-a...                 0.0   \n",
       "http://www.epicurious.com/recipes/food/views/-a...                 0.0   \n",
       "\n",
       "                                                    Anaheim chili  \\\n",
       "http://www.epicurious.com/recipes/food/views/-a...            0.0   \n",
       "http://www.epicurious.com/recipes/food/views/-a...            0.0   \n",
       "\n",
       "                                                    Anaheim pepper  \\\n",
       "http://www.epicurious.com/recipes/food/views/-a...             0.0   \n",
       "http://www.epicurious.com/recipes/food/views/-a...             0.0   \n",
       "\n",
       "                                                    Angostura Bitters  \\\n",
       "http://www.epicurious.com/recipes/food/views/-a...                0.0   \n",
       "http://www.epicurious.com/recipes/food/views/-a...                0.0   \n",
       "\n",
       "                                                    Angostura bitter  \\\n",
       "http://www.epicurious.com/recipes/food/views/-a...               0.0   \n",
       "http://www.epicurious.com/recipes/food/views/-a...               0.0   \n",
       "\n",
       "                                                    Angostura or orange bitter  \\\n",
       "http://www.epicurious.com/recipes/food/views/-a...                         0.0   \n",
       "http://www.epicurious.com/recipes/food/views/-a...                         0.0   \n",
       "\n",
       "                                                    ...  num_reviews  \\\n",
       "http://www.epicurious.com/recipes/food/views/-a...  ...         25.0   \n",
       "http://www.epicurious.com/recipes/food/views/-a...  ...          3.0   \n",
       "\n",
       "                                                                                                 tags  \\\n",
       "http://www.epicurious.com/recipes/food/views/-a...  [Cheese, Vegetable, No-Cook, Vegetarian, Quick...   \n",
       "http://www.epicurious.com/recipes/food/views/-a...  [Ginger, Dessert, Bake, Apple, Almond, Fall, R...   \n",
       "\n",
       "                                                                       title  \\\n",
       "http://www.epicurious.com/recipes/food/views/-a...  \"Adult\" Pimiento Cheese    \n",
       "http://www.epicurious.com/recipes/food/views/-a...         \"An Apple a Day\"    \n",
       "\n",
       "                                                    usa_cuisine  Peanut Free  \\\n",
       "http://www.epicurious.com/recipes/food/views/-a...            1            0   \n",
       "http://www.epicurious.com/recipes/food/views/-a...            2            1   \n",
       "\n",
       "                                                    Soy Free  Tree Nut Free  \\\n",
       "http://www.epicurious.com/recipes/food/views/-a...         0              0   \n",
       "http://www.epicurious.com/recipes/food/views/-a...         1              0   \n",
       "\n",
       "                                                    Wheat/Gluten-Free  \\\n",
       "http://www.epicurious.com/recipes/food/views/-a...                  0   \n",
       "http://www.epicurious.com/recipes/food/views/-a...                  0   \n",
       "\n",
       "                                                    Dairy Free  Fat Free  \n",
       "http://www.epicurious.com/recipes/food/views/-a...           0         0  \n",
       "http://www.epicurious.com/recipes/food/views/-a...           0         0  \n",
       "\n",
       "[2 rows x 3119 columns]"
      ]
     },
     "execution_count": 21,
     "metadata": {},
     "output_type": "execute_result"
    }
   ],
   "source": [
    "sample_df.head(2)"
   ]
  },
  {
   "cell_type": "code",
   "execution_count": 22,
   "metadata": {},
   "outputs": [],
   "source": [
    "sample_df = dropColumn(sample_df,drop_column)"
   ]
  },
  {
   "cell_type": "code",
   "execution_count": 23,
   "metadata": {},
   "outputs": [
    {
     "data": {
      "text/html": [
       "<div>\n",
       "<style scoped>\n",
       "    .dataframe tbody tr th:only-of-type {\n",
       "        vertical-align: middle;\n",
       "    }\n",
       "\n",
       "    .dataframe tbody tr th {\n",
       "        vertical-align: top;\n",
       "    }\n",
       "\n",
       "    .dataframe thead th {\n",
       "        text-align: right;\n",
       "    }\n",
       "</style>\n",
       "<table border=\"1\" class=\"dataframe\">\n",
       "  <thead>\n",
       "    <tr style=\"text-align: right;\">\n",
       "      <th></th>\n",
       "      <th>Aleppo chili flake</th>\n",
       "      <th>Aleppo pepper</th>\n",
       "      <th>Amaretto</th>\n",
       "      <th>Amaretto liqueur</th>\n",
       "      <th>Amontillado sherry</th>\n",
       "      <th>Anaheim chili</th>\n",
       "      <th>Anaheim pepper</th>\n",
       "      <th>Angostura Bitters</th>\n",
       "      <th>Angostura bitter</th>\n",
       "      <th>Angostura or orange bitter</th>\n",
       "      <th>...</th>\n",
       "      <th>ziti pasta</th>\n",
       "      <th>zucchini</th>\n",
       "      <th>zucchini flower</th>\n",
       "      <th>zucchini squash</th>\n",
       "      <th>Peanut Free</th>\n",
       "      <th>Soy Free</th>\n",
       "      <th>Tree Nut Free</th>\n",
       "      <th>Wheat/Gluten-Free</th>\n",
       "      <th>Dairy Free</th>\n",
       "      <th>Fat Free</th>\n",
       "    </tr>\n",
       "  </thead>\n",
       "  <tbody>\n",
       "    <tr>\n",
       "      <td>http://www.epicurious.com/recipes/food/views/-adult-pimiento-cheese-100852</td>\n",
       "      <td>0.0</td>\n",
       "      <td>0.0</td>\n",
       "      <td>0.0</td>\n",
       "      <td>0.0</td>\n",
       "      <td>0.0</td>\n",
       "      <td>0.0</td>\n",
       "      <td>0.0</td>\n",
       "      <td>0.0</td>\n",
       "      <td>0.0</td>\n",
       "      <td>0.0</td>\n",
       "      <td>...</td>\n",
       "      <td>0.0</td>\n",
       "      <td>0.0</td>\n",
       "      <td>0.0</td>\n",
       "      <td>0.0</td>\n",
       "      <td>0</td>\n",
       "      <td>0</td>\n",
       "      <td>0</td>\n",
       "      <td>0</td>\n",
       "      <td>0</td>\n",
       "      <td>0</td>\n",
       "    </tr>\n",
       "    <tr>\n",
       "      <td>http://www.epicurious.com/recipes/food/views/-an-apple-a-day-51133430</td>\n",
       "      <td>0.0</td>\n",
       "      <td>0.0</td>\n",
       "      <td>0.0</td>\n",
       "      <td>0.0</td>\n",
       "      <td>0.0</td>\n",
       "      <td>0.0</td>\n",
       "      <td>0.0</td>\n",
       "      <td>0.0</td>\n",
       "      <td>0.0</td>\n",
       "      <td>0.0</td>\n",
       "      <td>...</td>\n",
       "      <td>0.0</td>\n",
       "      <td>0.0</td>\n",
       "      <td>0.0</td>\n",
       "      <td>0.0</td>\n",
       "      <td>1</td>\n",
       "      <td>1</td>\n",
       "      <td>0</td>\n",
       "      <td>0</td>\n",
       "      <td>0</td>\n",
       "      <td>0</td>\n",
       "    </tr>\n",
       "  </tbody>\n",
       "</table>\n",
       "<p>2 rows × 3112 columns</p>\n",
       "</div>"
      ],
      "text/plain": [
       "                                                    Aleppo chili flake  \\\n",
       "http://www.epicurious.com/recipes/food/views/-a...                 0.0   \n",
       "http://www.epicurious.com/recipes/food/views/-a...                 0.0   \n",
       "\n",
       "                                                    Aleppo pepper  Amaretto  \\\n",
       "http://www.epicurious.com/recipes/food/views/-a...            0.0       0.0   \n",
       "http://www.epicurious.com/recipes/food/views/-a...            0.0       0.0   \n",
       "\n",
       "                                                    Amaretto liqueur  \\\n",
       "http://www.epicurious.com/recipes/food/views/-a...               0.0   \n",
       "http://www.epicurious.com/recipes/food/views/-a...               0.0   \n",
       "\n",
       "                                                    Amontillado sherry  \\\n",
       "http://www.epicurious.com/recipes/food/views/-a...                 0.0   \n",
       "http://www.epicurious.com/recipes/food/views/-a...                 0.0   \n",
       "\n",
       "                                                    Anaheim chili  \\\n",
       "http://www.epicurious.com/recipes/food/views/-a...            0.0   \n",
       "http://www.epicurious.com/recipes/food/views/-a...            0.0   \n",
       "\n",
       "                                                    Anaheim pepper  \\\n",
       "http://www.epicurious.com/recipes/food/views/-a...             0.0   \n",
       "http://www.epicurious.com/recipes/food/views/-a...             0.0   \n",
       "\n",
       "                                                    Angostura Bitters  \\\n",
       "http://www.epicurious.com/recipes/food/views/-a...                0.0   \n",
       "http://www.epicurious.com/recipes/food/views/-a...                0.0   \n",
       "\n",
       "                                                    Angostura bitter  \\\n",
       "http://www.epicurious.com/recipes/food/views/-a...               0.0   \n",
       "http://www.epicurious.com/recipes/food/views/-a...               0.0   \n",
       "\n",
       "                                                    Angostura or orange bitter  \\\n",
       "http://www.epicurious.com/recipes/food/views/-a...                         0.0   \n",
       "http://www.epicurious.com/recipes/food/views/-a...                         0.0   \n",
       "\n",
       "                                                    ...  ziti pasta  zucchini  \\\n",
       "http://www.epicurious.com/recipes/food/views/-a...  ...         0.0       0.0   \n",
       "http://www.epicurious.com/recipes/food/views/-a...  ...         0.0       0.0   \n",
       "\n",
       "                                                    zucchini flower  \\\n",
       "http://www.epicurious.com/recipes/food/views/-a...              0.0   \n",
       "http://www.epicurious.com/recipes/food/views/-a...              0.0   \n",
       "\n",
       "                                                    zucchini squash  \\\n",
       "http://www.epicurious.com/recipes/food/views/-a...              0.0   \n",
       "http://www.epicurious.com/recipes/food/views/-a...              0.0   \n",
       "\n",
       "                                                    Peanut Free  Soy Free  \\\n",
       "http://www.epicurious.com/recipes/food/views/-a...            0         0   \n",
       "http://www.epicurious.com/recipes/food/views/-a...            1         1   \n",
       "\n",
       "                                                    Tree Nut Free  \\\n",
       "http://www.epicurious.com/recipes/food/views/-a...              0   \n",
       "http://www.epicurious.com/recipes/food/views/-a...              0   \n",
       "\n",
       "                                                    Wheat/Gluten-Free  \\\n",
       "http://www.epicurious.com/recipes/food/views/-a...                  0   \n",
       "http://www.epicurious.com/recipes/food/views/-a...                  0   \n",
       "\n",
       "                                                    Dairy Free  Fat Free  \n",
       "http://www.epicurious.com/recipes/food/views/-a...           0         0  \n",
       "http://www.epicurious.com/recipes/food/views/-a...           0         0  \n",
       "\n",
       "[2 rows x 3112 columns]"
      ]
     },
     "execution_count": 23,
     "metadata": {},
     "output_type": "execute_result"
    }
   ],
   "source": [
    "sample_df.head(2)"
   ]
  },
  {
   "cell_type": "code",
   "execution_count": 24,
   "metadata": {},
   "outputs": [],
   "source": [
    "training_data,testing_data = train_test_split(sample_df,test_size= 0.2)\n",
    "train_data,train_label = getTrianData(training_data,label_column)\n",
    "test_data,test_label = getTrianData(testing_data,label_column)"
   ]
  },
  {
   "cell_type": "code",
   "execution_count": 25,
   "metadata": {},
   "outputs": [],
   "source": [
    "# train_data,train_label = getTrianData(training_data,label_column)\n",
    "# test_data,test_label = getTrianData(test_data,label_column)"
   ]
  },
  {
   "cell_type": "code",
   "execution_count": 26,
   "metadata": {},
   "outputs": [
    {
     "data": {
      "text/html": [
       "<div>\n",
       "<style scoped>\n",
       "    .dataframe tbody tr th:only-of-type {\n",
       "        vertical-align: middle;\n",
       "    }\n",
       "\n",
       "    .dataframe tbody tr th {\n",
       "        vertical-align: top;\n",
       "    }\n",
       "\n",
       "    .dataframe thead th {\n",
       "        text-align: right;\n",
       "    }\n",
       "</style>\n",
       "<table border=\"1\" class=\"dataframe\">\n",
       "  <thead>\n",
       "    <tr style=\"text-align: right;\">\n",
       "      <th></th>\n",
       "      <th>Aleppo chili flake</th>\n",
       "      <th>Aleppo pepper</th>\n",
       "      <th>Amaretto</th>\n",
       "      <th>Amaretto liqueur</th>\n",
       "      <th>Amontillado sherry</th>\n",
       "      <th>Anaheim chili</th>\n",
       "      <th>Anaheim pepper</th>\n",
       "      <th>Angostura Bitters</th>\n",
       "      <th>Angostura bitter</th>\n",
       "      <th>Angostura or orange bitter</th>\n",
       "      <th>...</th>\n",
       "      <th>za'atar</th>\n",
       "      <th>zest lemon</th>\n",
       "      <th>zest lime</th>\n",
       "      <th>zest navel orange</th>\n",
       "      <th>zest orange</th>\n",
       "      <th>ziti</th>\n",
       "      <th>ziti pasta</th>\n",
       "      <th>zucchini</th>\n",
       "      <th>zucchini flower</th>\n",
       "      <th>zucchini squash</th>\n",
       "    </tr>\n",
       "  </thead>\n",
       "  <tbody>\n",
       "    <tr>\n",
       "      <td>http://www.epicurious.com/recipes/food/views/autumn-gin-sour-51193080</td>\n",
       "      <td>0.0</td>\n",
       "      <td>0.0</td>\n",
       "      <td>0.0</td>\n",
       "      <td>0.0</td>\n",
       "      <td>0.0</td>\n",
       "      <td>0.0</td>\n",
       "      <td>0.0</td>\n",
       "      <td>0.0</td>\n",
       "      <td>0.0</td>\n",
       "      <td>0.0</td>\n",
       "      <td>...</td>\n",
       "      <td>0.0</td>\n",
       "      <td>0.0</td>\n",
       "      <td>0.0</td>\n",
       "      <td>0.0</td>\n",
       "      <td>0.0</td>\n",
       "      <td>0.0</td>\n",
       "      <td>0.0</td>\n",
       "      <td>0.0</td>\n",
       "      <td>0.0</td>\n",
       "      <td>0.0</td>\n",
       "    </tr>\n",
       "    <tr>\n",
       "      <td>http://www.epicurious.com/recipes/food/views/apple-pie-230139</td>\n",
       "      <td>0.0</td>\n",
       "      <td>0.0</td>\n",
       "      <td>0.0</td>\n",
       "      <td>0.0</td>\n",
       "      <td>0.0</td>\n",
       "      <td>0.0</td>\n",
       "      <td>0.0</td>\n",
       "      <td>0.0</td>\n",
       "      <td>0.0</td>\n",
       "      <td>0.0</td>\n",
       "      <td>...</td>\n",
       "      <td>0.0</td>\n",
       "      <td>0.0</td>\n",
       "      <td>0.0</td>\n",
       "      <td>0.0</td>\n",
       "      <td>0.0</td>\n",
       "      <td>0.0</td>\n",
       "      <td>0.0</td>\n",
       "      <td>0.0</td>\n",
       "      <td>0.0</td>\n",
       "      <td>0.0</td>\n",
       "    </tr>\n",
       "  </tbody>\n",
       "</table>\n",
       "<p>2 rows × 3106 columns</p>\n",
       "</div>"
      ],
      "text/plain": [
       "                                                    Aleppo chili flake  \\\n",
       "http://www.epicurious.com/recipes/food/views/au...                 0.0   \n",
       "http://www.epicurious.com/recipes/food/views/ap...                 0.0   \n",
       "\n",
       "                                                    Aleppo pepper  Amaretto  \\\n",
       "http://www.epicurious.com/recipes/food/views/au...            0.0       0.0   \n",
       "http://www.epicurious.com/recipes/food/views/ap...            0.0       0.0   \n",
       "\n",
       "                                                    Amaretto liqueur  \\\n",
       "http://www.epicurious.com/recipes/food/views/au...               0.0   \n",
       "http://www.epicurious.com/recipes/food/views/ap...               0.0   \n",
       "\n",
       "                                                    Amontillado sherry  \\\n",
       "http://www.epicurious.com/recipes/food/views/au...                 0.0   \n",
       "http://www.epicurious.com/recipes/food/views/ap...                 0.0   \n",
       "\n",
       "                                                    Anaheim chili  \\\n",
       "http://www.epicurious.com/recipes/food/views/au...            0.0   \n",
       "http://www.epicurious.com/recipes/food/views/ap...            0.0   \n",
       "\n",
       "                                                    Anaheim pepper  \\\n",
       "http://www.epicurious.com/recipes/food/views/au...             0.0   \n",
       "http://www.epicurious.com/recipes/food/views/ap...             0.0   \n",
       "\n",
       "                                                    Angostura Bitters  \\\n",
       "http://www.epicurious.com/recipes/food/views/au...                0.0   \n",
       "http://www.epicurious.com/recipes/food/views/ap...                0.0   \n",
       "\n",
       "                                                    Angostura bitter  \\\n",
       "http://www.epicurious.com/recipes/food/views/au...               0.0   \n",
       "http://www.epicurious.com/recipes/food/views/ap...               0.0   \n",
       "\n",
       "                                                    Angostura or orange bitter  \\\n",
       "http://www.epicurious.com/recipes/food/views/au...                         0.0   \n",
       "http://www.epicurious.com/recipes/food/views/ap...                         0.0   \n",
       "\n",
       "                                                    ...  za'atar  zest lemon  \\\n",
       "http://www.epicurious.com/recipes/food/views/au...  ...      0.0         0.0   \n",
       "http://www.epicurious.com/recipes/food/views/ap...  ...      0.0         0.0   \n",
       "\n",
       "                                                    zest lime  \\\n",
       "http://www.epicurious.com/recipes/food/views/au...        0.0   \n",
       "http://www.epicurious.com/recipes/food/views/ap...        0.0   \n",
       "\n",
       "                                                    zest navel orange  \\\n",
       "http://www.epicurious.com/recipes/food/views/au...                0.0   \n",
       "http://www.epicurious.com/recipes/food/views/ap...                0.0   \n",
       "\n",
       "                                                    zest orange  ziti  \\\n",
       "http://www.epicurious.com/recipes/food/views/au...          0.0   0.0   \n",
       "http://www.epicurious.com/recipes/food/views/ap...          0.0   0.0   \n",
       "\n",
       "                                                    ziti pasta  zucchini  \\\n",
       "http://www.epicurious.com/recipes/food/views/au...         0.0       0.0   \n",
       "http://www.epicurious.com/recipes/food/views/ap...         0.0       0.0   \n",
       "\n",
       "                                                    zucchini flower  \\\n",
       "http://www.epicurious.com/recipes/food/views/au...              0.0   \n",
       "http://www.epicurious.com/recipes/food/views/ap...              0.0   \n",
       "\n",
       "                                                    zucchini squash  \n",
       "http://www.epicurious.com/recipes/food/views/au...              0.0  \n",
       "http://www.epicurious.com/recipes/food/views/ap...              0.0  \n",
       "\n",
       "[2 rows x 3106 columns]"
      ]
     },
     "execution_count": 26,
     "metadata": {},
     "output_type": "execute_result"
    }
   ],
   "source": [
    "train_data.head(2)"
   ]
  },
  {
   "cell_type": "code",
   "execution_count": 27,
   "metadata": {},
   "outputs": [
    {
     "data": {
      "text/plain": [
       "(8000, 3106)"
      ]
     },
     "execution_count": 27,
     "metadata": {},
     "output_type": "execute_result"
    }
   ],
   "source": [
    "train_data.shape"
   ]
  },
  {
   "cell_type": "code",
   "execution_count": 28,
   "metadata": {},
   "outputs": [
    {
     "data": {
      "text/html": [
       "<div>\n",
       "<style scoped>\n",
       "    .dataframe tbody tr th:only-of-type {\n",
       "        vertical-align: middle;\n",
       "    }\n",
       "\n",
       "    .dataframe tbody tr th {\n",
       "        vertical-align: top;\n",
       "    }\n",
       "\n",
       "    .dataframe thead th {\n",
       "        text-align: right;\n",
       "    }\n",
       "</style>\n",
       "<table border=\"1\" class=\"dataframe\">\n",
       "  <thead>\n",
       "    <tr style=\"text-align: right;\">\n",
       "      <th></th>\n",
       "      <th>Aleppo chili flake</th>\n",
       "      <th>Aleppo pepper</th>\n",
       "      <th>Amaretto</th>\n",
       "      <th>Amaretto liqueur</th>\n",
       "      <th>Amontillado sherry</th>\n",
       "      <th>Anaheim chili</th>\n",
       "      <th>Anaheim pepper</th>\n",
       "      <th>Angostura Bitters</th>\n",
       "      <th>Angostura bitter</th>\n",
       "      <th>Angostura or orange bitter</th>\n",
       "      <th>...</th>\n",
       "      <th>za'atar</th>\n",
       "      <th>zest lemon</th>\n",
       "      <th>zest lime</th>\n",
       "      <th>zest navel orange</th>\n",
       "      <th>zest orange</th>\n",
       "      <th>ziti</th>\n",
       "      <th>ziti pasta</th>\n",
       "      <th>zucchini</th>\n",
       "      <th>zucchini flower</th>\n",
       "      <th>zucchini squash</th>\n",
       "    </tr>\n",
       "  </thead>\n",
       "  <tbody>\n",
       "    <tr>\n",
       "      <td>http://www.epicurious.com/recipes/food/views/benne-seed-pita-toasts-108111</td>\n",
       "      <td>0.0</td>\n",
       "      <td>0.0</td>\n",
       "      <td>0.0</td>\n",
       "      <td>0.0</td>\n",
       "      <td>0.0</td>\n",
       "      <td>0.0</td>\n",
       "      <td>0.0</td>\n",
       "      <td>0.0</td>\n",
       "      <td>0.0</td>\n",
       "      <td>0.0</td>\n",
       "      <td>...</td>\n",
       "      <td>0.0</td>\n",
       "      <td>0.0</td>\n",
       "      <td>0.0</td>\n",
       "      <td>0.0</td>\n",
       "      <td>0.0</td>\n",
       "      <td>0.0</td>\n",
       "      <td>0.0</td>\n",
       "      <td>0.0</td>\n",
       "      <td>0.0</td>\n",
       "      <td>0.0</td>\n",
       "    </tr>\n",
       "    <tr>\n",
       "      <td>http://www.epicurious.com/recipes/food/views/chicken-vindaloo-201</td>\n",
       "      <td>0.0</td>\n",
       "      <td>0.0</td>\n",
       "      <td>0.0</td>\n",
       "      <td>0.0</td>\n",
       "      <td>0.0</td>\n",
       "      <td>0.0</td>\n",
       "      <td>0.0</td>\n",
       "      <td>0.0</td>\n",
       "      <td>0.0</td>\n",
       "      <td>0.0</td>\n",
       "      <td>...</td>\n",
       "      <td>0.0</td>\n",
       "      <td>0.0</td>\n",
       "      <td>0.0</td>\n",
       "      <td>0.0</td>\n",
       "      <td>0.0</td>\n",
       "      <td>0.0</td>\n",
       "      <td>0.0</td>\n",
       "      <td>0.0</td>\n",
       "      <td>0.0</td>\n",
       "      <td>0.0</td>\n",
       "    </tr>\n",
       "    <tr>\n",
       "      <td>http://www.epicurious.com/recipes/food/views/carrots-vichy-100847</td>\n",
       "      <td>0.0</td>\n",
       "      <td>0.0</td>\n",
       "      <td>0.0</td>\n",
       "      <td>0.0</td>\n",
       "      <td>0.0</td>\n",
       "      <td>0.0</td>\n",
       "      <td>0.0</td>\n",
       "      <td>0.0</td>\n",
       "      <td>0.0</td>\n",
       "      <td>0.0</td>\n",
       "      <td>...</td>\n",
       "      <td>0.0</td>\n",
       "      <td>0.0</td>\n",
       "      <td>0.0</td>\n",
       "      <td>0.0</td>\n",
       "      <td>0.0</td>\n",
       "      <td>0.0</td>\n",
       "      <td>0.0</td>\n",
       "      <td>0.0</td>\n",
       "      <td>0.0</td>\n",
       "      <td>0.0</td>\n",
       "    </tr>\n",
       "    <tr>\n",
       "      <td>http://www.epicurious.com/recipes/food/views/angel-wings-362731</td>\n",
       "      <td>0.0</td>\n",
       "      <td>0.0</td>\n",
       "      <td>0.0</td>\n",
       "      <td>0.0</td>\n",
       "      <td>0.0</td>\n",
       "      <td>0.0</td>\n",
       "      <td>0.0</td>\n",
       "      <td>0.0</td>\n",
       "      <td>0.0</td>\n",
       "      <td>0.0</td>\n",
       "      <td>...</td>\n",
       "      <td>0.0</td>\n",
       "      <td>0.0</td>\n",
       "      <td>0.0</td>\n",
       "      <td>0.0</td>\n",
       "      <td>0.0</td>\n",
       "      <td>0.0</td>\n",
       "      <td>0.0</td>\n",
       "      <td>0.0</td>\n",
       "      <td>0.0</td>\n",
       "      <td>0.0</td>\n",
       "    </tr>\n",
       "    <tr>\n",
       "      <td>http://www.epicurious.com/recipes/food/views/cinnamon-and-clove-cranberry-sauce-236534</td>\n",
       "      <td>0.0</td>\n",
       "      <td>0.0</td>\n",
       "      <td>0.0</td>\n",
       "      <td>0.0</td>\n",
       "      <td>0.0</td>\n",
       "      <td>0.0</td>\n",
       "      <td>0.0</td>\n",
       "      <td>0.0</td>\n",
       "      <td>0.0</td>\n",
       "      <td>0.0</td>\n",
       "      <td>...</td>\n",
       "      <td>0.0</td>\n",
       "      <td>0.0</td>\n",
       "      <td>0.0</td>\n",
       "      <td>0.0</td>\n",
       "      <td>0.0</td>\n",
       "      <td>0.0</td>\n",
       "      <td>0.0</td>\n",
       "      <td>0.0</td>\n",
       "      <td>0.0</td>\n",
       "      <td>0.0</td>\n",
       "    </tr>\n",
       "    <tr>\n",
       "      <td>...</td>\n",
       "      <td>...</td>\n",
       "      <td>...</td>\n",
       "      <td>...</td>\n",
       "      <td>...</td>\n",
       "      <td>...</td>\n",
       "      <td>...</td>\n",
       "      <td>...</td>\n",
       "      <td>...</td>\n",
       "      <td>...</td>\n",
       "      <td>...</td>\n",
       "      <td>...</td>\n",
       "      <td>...</td>\n",
       "      <td>...</td>\n",
       "      <td>...</td>\n",
       "      <td>...</td>\n",
       "      <td>...</td>\n",
       "      <td>...</td>\n",
       "      <td>...</td>\n",
       "      <td>...</td>\n",
       "      <td>...</td>\n",
       "      <td>...</td>\n",
       "    </tr>\n",
       "    <tr>\n",
       "      <td>http://www.epicurious.com/recipes/food/views/braised-red-cabbage-with-vinegar-361255</td>\n",
       "      <td>0.0</td>\n",
       "      <td>0.0</td>\n",
       "      <td>0.0</td>\n",
       "      <td>0.0</td>\n",
       "      <td>0.0</td>\n",
       "      <td>0.0</td>\n",
       "      <td>0.0</td>\n",
       "      <td>0.0</td>\n",
       "      <td>0.0</td>\n",
       "      <td>0.0</td>\n",
       "      <td>...</td>\n",
       "      <td>0.0</td>\n",
       "      <td>0.0</td>\n",
       "      <td>0.0</td>\n",
       "      <td>0.0</td>\n",
       "      <td>0.0</td>\n",
       "      <td>0.0</td>\n",
       "      <td>0.0</td>\n",
       "      <td>0.0</td>\n",
       "      <td>0.0</td>\n",
       "      <td>0.0</td>\n",
       "    </tr>\n",
       "    <tr>\n",
       "      <td>http://www.epicurious.com/recipes/food/views/abinsthe-frappe-350799</td>\n",
       "      <td>0.0</td>\n",
       "      <td>0.0</td>\n",
       "      <td>0.0</td>\n",
       "      <td>0.0</td>\n",
       "      <td>0.0</td>\n",
       "      <td>0.0</td>\n",
       "      <td>0.0</td>\n",
       "      <td>0.0</td>\n",
       "      <td>0.0</td>\n",
       "      <td>0.0</td>\n",
       "      <td>...</td>\n",
       "      <td>0.0</td>\n",
       "      <td>0.0</td>\n",
       "      <td>0.0</td>\n",
       "      <td>0.0</td>\n",
       "      <td>0.0</td>\n",
       "      <td>0.0</td>\n",
       "      <td>0.0</td>\n",
       "      <td>0.0</td>\n",
       "      <td>0.0</td>\n",
       "      <td>0.0</td>\n",
       "    </tr>\n",
       "    <tr>\n",
       "      <td>http://www.epicurious.com/recipes/food/views/bacon-wrapped-trout-stuffed-with-balsamic-onion-compote-in-rosemary-cream-sauce-10049</td>\n",
       "      <td>0.0</td>\n",
       "      <td>0.0</td>\n",
       "      <td>0.0</td>\n",
       "      <td>0.0</td>\n",
       "      <td>0.0</td>\n",
       "      <td>0.0</td>\n",
       "      <td>0.0</td>\n",
       "      <td>0.0</td>\n",
       "      <td>0.0</td>\n",
       "      <td>0.0</td>\n",
       "      <td>...</td>\n",
       "      <td>0.0</td>\n",
       "      <td>0.0</td>\n",
       "      <td>0.0</td>\n",
       "      <td>0.0</td>\n",
       "      <td>0.0</td>\n",
       "      <td>0.0</td>\n",
       "      <td>0.0</td>\n",
       "      <td>0.0</td>\n",
       "      <td>0.0</td>\n",
       "      <td>0.0</td>\n",
       "    </tr>\n",
       "    <tr>\n",
       "      <td>http://www.epicurious.com/recipes/food/views/croque-madame-107184</td>\n",
       "      <td>0.0</td>\n",
       "      <td>0.0</td>\n",
       "      <td>0.0</td>\n",
       "      <td>0.0</td>\n",
       "      <td>0.0</td>\n",
       "      <td>0.0</td>\n",
       "      <td>0.0</td>\n",
       "      <td>0.0</td>\n",
       "      <td>0.0</td>\n",
       "      <td>0.0</td>\n",
       "      <td>...</td>\n",
       "      <td>0.0</td>\n",
       "      <td>0.0</td>\n",
       "      <td>0.0</td>\n",
       "      <td>0.0</td>\n",
       "      <td>0.0</td>\n",
       "      <td>0.0</td>\n",
       "      <td>0.0</td>\n",
       "      <td>0.0</td>\n",
       "      <td>0.0</td>\n",
       "      <td>0.0</td>\n",
       "    </tr>\n",
       "    <tr>\n",
       "      <td>http://www.epicurious.com/recipes/food/views/apple-cream-cheese-torte-101024</td>\n",
       "      <td>0.0</td>\n",
       "      <td>0.0</td>\n",
       "      <td>0.0</td>\n",
       "      <td>0.0</td>\n",
       "      <td>0.0</td>\n",
       "      <td>0.0</td>\n",
       "      <td>0.0</td>\n",
       "      <td>0.0</td>\n",
       "      <td>0.0</td>\n",
       "      <td>0.0</td>\n",
       "      <td>...</td>\n",
       "      <td>0.0</td>\n",
       "      <td>0.0</td>\n",
       "      <td>0.0</td>\n",
       "      <td>0.0</td>\n",
       "      <td>0.0</td>\n",
       "      <td>0.0</td>\n",
       "      <td>0.0</td>\n",
       "      <td>0.0</td>\n",
       "      <td>0.0</td>\n",
       "      <td>0.0</td>\n",
       "    </tr>\n",
       "  </tbody>\n",
       "</table>\n",
       "<p>2000 rows × 3106 columns</p>\n",
       "</div>"
      ],
      "text/plain": [
       "                                                    Aleppo chili flake  \\\n",
       "http://www.epicurious.com/recipes/food/views/be...                 0.0   \n",
       "http://www.epicurious.com/recipes/food/views/ch...                 0.0   \n",
       "http://www.epicurious.com/recipes/food/views/ca...                 0.0   \n",
       "http://www.epicurious.com/recipes/food/views/an...                 0.0   \n",
       "http://www.epicurious.com/recipes/food/views/ci...                 0.0   \n",
       "...                                                                ...   \n",
       "http://www.epicurious.com/recipes/food/views/br...                 0.0   \n",
       "http://www.epicurious.com/recipes/food/views/ab...                 0.0   \n",
       "http://www.epicurious.com/recipes/food/views/ba...                 0.0   \n",
       "http://www.epicurious.com/recipes/food/views/cr...                 0.0   \n",
       "http://www.epicurious.com/recipes/food/views/ap...                 0.0   \n",
       "\n",
       "                                                    Aleppo pepper  Amaretto  \\\n",
       "http://www.epicurious.com/recipes/food/views/be...            0.0       0.0   \n",
       "http://www.epicurious.com/recipes/food/views/ch...            0.0       0.0   \n",
       "http://www.epicurious.com/recipes/food/views/ca...            0.0       0.0   \n",
       "http://www.epicurious.com/recipes/food/views/an...            0.0       0.0   \n",
       "http://www.epicurious.com/recipes/food/views/ci...            0.0       0.0   \n",
       "...                                                           ...       ...   \n",
       "http://www.epicurious.com/recipes/food/views/br...            0.0       0.0   \n",
       "http://www.epicurious.com/recipes/food/views/ab...            0.0       0.0   \n",
       "http://www.epicurious.com/recipes/food/views/ba...            0.0       0.0   \n",
       "http://www.epicurious.com/recipes/food/views/cr...            0.0       0.0   \n",
       "http://www.epicurious.com/recipes/food/views/ap...            0.0       0.0   \n",
       "\n",
       "                                                    Amaretto liqueur  \\\n",
       "http://www.epicurious.com/recipes/food/views/be...               0.0   \n",
       "http://www.epicurious.com/recipes/food/views/ch...               0.0   \n",
       "http://www.epicurious.com/recipes/food/views/ca...               0.0   \n",
       "http://www.epicurious.com/recipes/food/views/an...               0.0   \n",
       "http://www.epicurious.com/recipes/food/views/ci...               0.0   \n",
       "...                                                              ...   \n",
       "http://www.epicurious.com/recipes/food/views/br...               0.0   \n",
       "http://www.epicurious.com/recipes/food/views/ab...               0.0   \n",
       "http://www.epicurious.com/recipes/food/views/ba...               0.0   \n",
       "http://www.epicurious.com/recipes/food/views/cr...               0.0   \n",
       "http://www.epicurious.com/recipes/food/views/ap...               0.0   \n",
       "\n",
       "                                                    Amontillado sherry  \\\n",
       "http://www.epicurious.com/recipes/food/views/be...                 0.0   \n",
       "http://www.epicurious.com/recipes/food/views/ch...                 0.0   \n",
       "http://www.epicurious.com/recipes/food/views/ca...                 0.0   \n",
       "http://www.epicurious.com/recipes/food/views/an...                 0.0   \n",
       "http://www.epicurious.com/recipes/food/views/ci...                 0.0   \n",
       "...                                                                ...   \n",
       "http://www.epicurious.com/recipes/food/views/br...                 0.0   \n",
       "http://www.epicurious.com/recipes/food/views/ab...                 0.0   \n",
       "http://www.epicurious.com/recipes/food/views/ba...                 0.0   \n",
       "http://www.epicurious.com/recipes/food/views/cr...                 0.0   \n",
       "http://www.epicurious.com/recipes/food/views/ap...                 0.0   \n",
       "\n",
       "                                                    Anaheim chili  \\\n",
       "http://www.epicurious.com/recipes/food/views/be...            0.0   \n",
       "http://www.epicurious.com/recipes/food/views/ch...            0.0   \n",
       "http://www.epicurious.com/recipes/food/views/ca...            0.0   \n",
       "http://www.epicurious.com/recipes/food/views/an...            0.0   \n",
       "http://www.epicurious.com/recipes/food/views/ci...            0.0   \n",
       "...                                                           ...   \n",
       "http://www.epicurious.com/recipes/food/views/br...            0.0   \n",
       "http://www.epicurious.com/recipes/food/views/ab...            0.0   \n",
       "http://www.epicurious.com/recipes/food/views/ba...            0.0   \n",
       "http://www.epicurious.com/recipes/food/views/cr...            0.0   \n",
       "http://www.epicurious.com/recipes/food/views/ap...            0.0   \n",
       "\n",
       "                                                    Anaheim pepper  \\\n",
       "http://www.epicurious.com/recipes/food/views/be...             0.0   \n",
       "http://www.epicurious.com/recipes/food/views/ch...             0.0   \n",
       "http://www.epicurious.com/recipes/food/views/ca...             0.0   \n",
       "http://www.epicurious.com/recipes/food/views/an...             0.0   \n",
       "http://www.epicurious.com/recipes/food/views/ci...             0.0   \n",
       "...                                                            ...   \n",
       "http://www.epicurious.com/recipes/food/views/br...             0.0   \n",
       "http://www.epicurious.com/recipes/food/views/ab...             0.0   \n",
       "http://www.epicurious.com/recipes/food/views/ba...             0.0   \n",
       "http://www.epicurious.com/recipes/food/views/cr...             0.0   \n",
       "http://www.epicurious.com/recipes/food/views/ap...             0.0   \n",
       "\n",
       "                                                    Angostura Bitters  \\\n",
       "http://www.epicurious.com/recipes/food/views/be...                0.0   \n",
       "http://www.epicurious.com/recipes/food/views/ch...                0.0   \n",
       "http://www.epicurious.com/recipes/food/views/ca...                0.0   \n",
       "http://www.epicurious.com/recipes/food/views/an...                0.0   \n",
       "http://www.epicurious.com/recipes/food/views/ci...                0.0   \n",
       "...                                                               ...   \n",
       "http://www.epicurious.com/recipes/food/views/br...                0.0   \n",
       "http://www.epicurious.com/recipes/food/views/ab...                0.0   \n",
       "http://www.epicurious.com/recipes/food/views/ba...                0.0   \n",
       "http://www.epicurious.com/recipes/food/views/cr...                0.0   \n",
       "http://www.epicurious.com/recipes/food/views/ap...                0.0   \n",
       "\n",
       "                                                    Angostura bitter  \\\n",
       "http://www.epicurious.com/recipes/food/views/be...               0.0   \n",
       "http://www.epicurious.com/recipes/food/views/ch...               0.0   \n",
       "http://www.epicurious.com/recipes/food/views/ca...               0.0   \n",
       "http://www.epicurious.com/recipes/food/views/an...               0.0   \n",
       "http://www.epicurious.com/recipes/food/views/ci...               0.0   \n",
       "...                                                              ...   \n",
       "http://www.epicurious.com/recipes/food/views/br...               0.0   \n",
       "http://www.epicurious.com/recipes/food/views/ab...               0.0   \n",
       "http://www.epicurious.com/recipes/food/views/ba...               0.0   \n",
       "http://www.epicurious.com/recipes/food/views/cr...               0.0   \n",
       "http://www.epicurious.com/recipes/food/views/ap...               0.0   \n",
       "\n",
       "                                                    Angostura or orange bitter  \\\n",
       "http://www.epicurious.com/recipes/food/views/be...                         0.0   \n",
       "http://www.epicurious.com/recipes/food/views/ch...                         0.0   \n",
       "http://www.epicurious.com/recipes/food/views/ca...                         0.0   \n",
       "http://www.epicurious.com/recipes/food/views/an...                         0.0   \n",
       "http://www.epicurious.com/recipes/food/views/ci...                         0.0   \n",
       "...                                                                        ...   \n",
       "http://www.epicurious.com/recipes/food/views/br...                         0.0   \n",
       "http://www.epicurious.com/recipes/food/views/ab...                         0.0   \n",
       "http://www.epicurious.com/recipes/food/views/ba...                         0.0   \n",
       "http://www.epicurious.com/recipes/food/views/cr...                         0.0   \n",
       "http://www.epicurious.com/recipes/food/views/ap...                         0.0   \n",
       "\n",
       "                                                    ...  za'atar  zest lemon  \\\n",
       "http://www.epicurious.com/recipes/food/views/be...  ...      0.0         0.0   \n",
       "http://www.epicurious.com/recipes/food/views/ch...  ...      0.0         0.0   \n",
       "http://www.epicurious.com/recipes/food/views/ca...  ...      0.0         0.0   \n",
       "http://www.epicurious.com/recipes/food/views/an...  ...      0.0         0.0   \n",
       "http://www.epicurious.com/recipes/food/views/ci...  ...      0.0         0.0   \n",
       "...                                                 ...      ...         ...   \n",
       "http://www.epicurious.com/recipes/food/views/br...  ...      0.0         0.0   \n",
       "http://www.epicurious.com/recipes/food/views/ab...  ...      0.0         0.0   \n",
       "http://www.epicurious.com/recipes/food/views/ba...  ...      0.0         0.0   \n",
       "http://www.epicurious.com/recipes/food/views/cr...  ...      0.0         0.0   \n",
       "http://www.epicurious.com/recipes/food/views/ap...  ...      0.0         0.0   \n",
       "\n",
       "                                                    zest lime  \\\n",
       "http://www.epicurious.com/recipes/food/views/be...        0.0   \n",
       "http://www.epicurious.com/recipes/food/views/ch...        0.0   \n",
       "http://www.epicurious.com/recipes/food/views/ca...        0.0   \n",
       "http://www.epicurious.com/recipes/food/views/an...        0.0   \n",
       "http://www.epicurious.com/recipes/food/views/ci...        0.0   \n",
       "...                                                       ...   \n",
       "http://www.epicurious.com/recipes/food/views/br...        0.0   \n",
       "http://www.epicurious.com/recipes/food/views/ab...        0.0   \n",
       "http://www.epicurious.com/recipes/food/views/ba...        0.0   \n",
       "http://www.epicurious.com/recipes/food/views/cr...        0.0   \n",
       "http://www.epicurious.com/recipes/food/views/ap...        0.0   \n",
       "\n",
       "                                                    zest navel orange  \\\n",
       "http://www.epicurious.com/recipes/food/views/be...                0.0   \n",
       "http://www.epicurious.com/recipes/food/views/ch...                0.0   \n",
       "http://www.epicurious.com/recipes/food/views/ca...                0.0   \n",
       "http://www.epicurious.com/recipes/food/views/an...                0.0   \n",
       "http://www.epicurious.com/recipes/food/views/ci...                0.0   \n",
       "...                                                               ...   \n",
       "http://www.epicurious.com/recipes/food/views/br...                0.0   \n",
       "http://www.epicurious.com/recipes/food/views/ab...                0.0   \n",
       "http://www.epicurious.com/recipes/food/views/ba...                0.0   \n",
       "http://www.epicurious.com/recipes/food/views/cr...                0.0   \n",
       "http://www.epicurious.com/recipes/food/views/ap...                0.0   \n",
       "\n",
       "                                                    zest orange  ziti  \\\n",
       "http://www.epicurious.com/recipes/food/views/be...          0.0   0.0   \n",
       "http://www.epicurious.com/recipes/food/views/ch...          0.0   0.0   \n",
       "http://www.epicurious.com/recipes/food/views/ca...          0.0   0.0   \n",
       "http://www.epicurious.com/recipes/food/views/an...          0.0   0.0   \n",
       "http://www.epicurious.com/recipes/food/views/ci...          0.0   0.0   \n",
       "...                                                         ...   ...   \n",
       "http://www.epicurious.com/recipes/food/views/br...          0.0   0.0   \n",
       "http://www.epicurious.com/recipes/food/views/ab...          0.0   0.0   \n",
       "http://www.epicurious.com/recipes/food/views/ba...          0.0   0.0   \n",
       "http://www.epicurious.com/recipes/food/views/cr...          0.0   0.0   \n",
       "http://www.epicurious.com/recipes/food/views/ap...          0.0   0.0   \n",
       "\n",
       "                                                    ziti pasta  zucchini  \\\n",
       "http://www.epicurious.com/recipes/food/views/be...         0.0       0.0   \n",
       "http://www.epicurious.com/recipes/food/views/ch...         0.0       0.0   \n",
       "http://www.epicurious.com/recipes/food/views/ca...         0.0       0.0   \n",
       "http://www.epicurious.com/recipes/food/views/an...         0.0       0.0   \n",
       "http://www.epicurious.com/recipes/food/views/ci...         0.0       0.0   \n",
       "...                                                        ...       ...   \n",
       "http://www.epicurious.com/recipes/food/views/br...         0.0       0.0   \n",
       "http://www.epicurious.com/recipes/food/views/ab...         0.0       0.0   \n",
       "http://www.epicurious.com/recipes/food/views/ba...         0.0       0.0   \n",
       "http://www.epicurious.com/recipes/food/views/cr...         0.0       0.0   \n",
       "http://www.epicurious.com/recipes/food/views/ap...         0.0       0.0   \n",
       "\n",
       "                                                    zucchini flower  \\\n",
       "http://www.epicurious.com/recipes/food/views/be...              0.0   \n",
       "http://www.epicurious.com/recipes/food/views/ch...              0.0   \n",
       "http://www.epicurious.com/recipes/food/views/ca...              0.0   \n",
       "http://www.epicurious.com/recipes/food/views/an...              0.0   \n",
       "http://www.epicurious.com/recipes/food/views/ci...              0.0   \n",
       "...                                                             ...   \n",
       "http://www.epicurious.com/recipes/food/views/br...              0.0   \n",
       "http://www.epicurious.com/recipes/food/views/ab...              0.0   \n",
       "http://www.epicurious.com/recipes/food/views/ba...              0.0   \n",
       "http://www.epicurious.com/recipes/food/views/cr...              0.0   \n",
       "http://www.epicurious.com/recipes/food/views/ap...              0.0   \n",
       "\n",
       "                                                    zucchini squash  \n",
       "http://www.epicurious.com/recipes/food/views/be...              0.0  \n",
       "http://www.epicurious.com/recipes/food/views/ch...              0.0  \n",
       "http://www.epicurious.com/recipes/food/views/ca...              0.0  \n",
       "http://www.epicurious.com/recipes/food/views/an...              0.0  \n",
       "http://www.epicurious.com/recipes/food/views/ci...              0.0  \n",
       "...                                                             ...  \n",
       "http://www.epicurious.com/recipes/food/views/br...              0.0  \n",
       "http://www.epicurious.com/recipes/food/views/ab...              0.0  \n",
       "http://www.epicurious.com/recipes/food/views/ba...              0.0  \n",
       "http://www.epicurious.com/recipes/food/views/cr...              0.0  \n",
       "http://www.epicurious.com/recipes/food/views/ap...              0.0  \n",
       "\n",
       "[2000 rows x 3106 columns]"
      ]
     },
     "execution_count": 28,
     "metadata": {},
     "output_type": "execute_result"
    }
   ],
   "source": [
    "test_data"
   ]
  },
  {
   "cell_type": "markdown",
   "metadata": {},
   "source": [
    "## Support Vector Classifier"
   ]
  },
  {
   "cell_type": "markdown",
   "metadata": {},
   "source": [
    "https://scikit-learn.org/stable/modules/generated/sklearn.svm.SVC.html\n",
    "\n",
    "Below website gives good explaination on reading result from SVC\n",
    "\n",
    "https://www.datacamp.com/community/tutorials/svm-classification-scikit-learn-python"
   ]
  },
  {
   "cell_type": "markdown",
   "metadata": {},
   "source": [
    "### Fit model without weights"
   ]
  },
  {
   "cell_type": "markdown",
   "metadata": {},
   "source": [
    "Referenced example from this link: https://www.geeksforgeeks.org/classifying-data-using-support-vector-machinessvms-in-python/"
   ]
  },
  {
   "cell_type": "code",
   "execution_count": null,
   "metadata": {},
   "outputs": [],
   "source": [
    "train_size = 1000"
   ]
  },
  {
   "cell_type": "code",
   "execution_count": 29,
   "metadata": {},
   "outputs": [
    {
     "name": "stdout",
     "output_type": "stream",
     "text": [
      "CPU times: user 2min 24s, sys: 1.01 s, total: 2min 25s\n",
      "Wall time: 2min 35s\n"
     ]
    },
    {
     "data": {
      "text/plain": [
       "SVC(C=1.0, cache_size=200, class_weight=None, coef0=0.0,\n",
       "    decision_function_shape='ovr', degree=3, gamma='auto_deprecated',\n",
       "    kernel='linear', max_iter=-1, probability=False, random_state=None,\n",
       "    shrinking=True, tol=0.001, verbose=False)"
      ]
     },
     "execution_count": 29,
     "metadata": {},
     "output_type": "execute_result"
    }
   ],
   "source": [
    "%%time\n",
    "svc = svm.SVC(kernel='linear')\n",
    "svc.fit(train_data.iloc[:train_size],train_label['Peanut Free'].iloc[:train_size]) #train\n",
    "p = svc.predict(test_data) #predict"
   ]
  },
  {
   "cell_type": "code",
   "execution_count": 31,
   "metadata": {},
   "outputs": [
    {
     "name": "stdout",
     "output_type": "stream",
     "text": [
      "SVC-No Weight\n",
      "Actual label count  Counter({0: 1008, 1: 992})\n",
      "prediction label count  Counter({0: 1046, 1: 954})\n"
     ]
    }
   ],
   "source": [
    "c = Counter()\n",
    "c.update(test_label['Peanut Free'])\n",
    "print(\"SVC-No Weight\")\n",
    "print(\"Actual label count \",c)\n",
    "c = Counter()\n",
    "c.update(p)\n",
    "print(\"prediction label count \",c)"
   ]
  },
  {
   "cell_type": "code",
   "execution_count": 32,
   "metadata": {},
   "outputs": [
    {
     "name": "stdout",
     "output_type": "stream",
     "text": [
      "\n",
      "\n",
      "          SVC Classificatin Report-No Weight\n",
      "\n",
      "\n",
      "              precision    recall  f1-score   support\n",
      "\n",
      "           0       0.55      0.57      0.56      1008\n",
      "           1       0.54      0.52      0.53       992\n",
      "\n",
      "    accuracy                           0.55      2000\n",
      "   macro avg       0.54      0.54      0.54      2000\n",
      "weighted avg       0.54      0.55      0.54      2000\n",
      "\n"
     ]
    }
   ],
   "source": [
    "print(\"\\n\\n          SVC Classificatin Report-No Weight\\n\\n\")\n",
    "print(classification_report(test_label['Peanut Free'],p))"
   ]
  },
  {
   "cell_type": "code",
   "execution_count": 34,
   "metadata": {
    "scrolled": false
   },
   "outputs": [
    {
     "data": {
      "image/png": "[encoded data removed]",
      "text/plain": [
       "<Figure size 576x396 with 2 Axes>"
      ]
     },
     "metadata": {},
     "output_type": "display_data"
    },
    {
     "name": "stdout",
     "output_type": "stream",
     "text": [
      "CPU times: user 4 s, sys: 109 ms, total: 4.11 s\n",
      "Wall time: 6.18 s\n"
     ]
    },
    {
     "data": {
      "text/plain": [
       "<matplotlib.axes._subplots.AxesSubplot at 0x11850f210>"
      ]
     },
     "execution_count": 34,
     "metadata": {},
     "output_type": "execute_result"
    }
   ],
   "source": [
    "%%time\n",
    "from yellowbrick.classifier import ClassificationReport\n",
    "visualizer = ClassificationReport(svc, classes=['Peanut Free','Not Peanut Free'], support=True)\n",
    "visualizer.fit(train_data.iloc[:train_size], train_label['Peanut Free'].iloc[:train_size])        # Fit the visualizer and the model\n",
    "visualizer.score(test_data.iloc[:train_size], test_label['Peanut Free'].iloc[:train_size])        # Evaluate the model on the test data\n",
    "plt.title(\"SVC Classification Report-Peanut\")\n",
    "plt.savefig('plots/no_weight_peanut_svc_result.png')\n",
    "visualizer.show() "
   ]
  },
  {
   "cell_type": "code",
   "execution_count": 35,
   "metadata": {},
   "outputs": [
    {
     "data": {
      "image/png": "[encoded data removed]",
      "text/plain": [
       "<Figure size 576x396 with 2 Axes>"
      ]
     },
     "metadata": {},
     "output_type": "display_data"
    },
    {
     "name": "stdout",
     "output_type": "stream",
     "text": [
      "CPU times: user 4.03 s, sys: 47.7 ms, total: 4.07 s\n",
      "Wall time: 4.43 s\n"
     ]
    },
    {
     "data": {
      "text/plain": [
       "<matplotlib.axes._subplots.AxesSubplot at 0x1a1c5f9150>"
      ]
     },
     "execution_count": 35,
     "metadata": {},
     "output_type": "execute_result"
    }
   ],
   "source": [
    "%%time\n",
    "from yellowbrick.classifier import ClassificationReport\n",
    "visualizer = ClassificationReport(svc, classes=['Soy Free','Not Soy Free'], support=True)\n",
    "visualizer.fit(train_data.iloc[:train_size], train_label['Soy Free'].iloc[:train_size])        # Fit the visualizer and the model\n",
    "visualizer.score(test_data.iloc[:train_size], test_label['Soy Free'].iloc[:train_size])        # Evaluate the model on the test data\n",
    "plt.title(\"SVC Classification Report-Soy\")\n",
    "plt.savefig('plots/no_weight_soy_svc_result.png')\n",
    "visualizer.show() "
   ]
  },
  {
   "cell_type": "code",
   "execution_count": 36,
   "metadata": {},
   "outputs": [
    {
     "data": {
      "image/png": "[encoded data removed]",
      "text/plain": [
       "<Figure size 576x396 with 2 Axes>"
      ]
     },
     "metadata": {},
     "output_type": "display_data"
    },
    {
     "name": "stdout",
     "output_type": "stream",
     "text": [
      "CPU times: user 3.89 s, sys: 35.9 ms, total: 3.92 s\n",
      "Wall time: 4.1 s\n"
     ]
    },
    {
     "data": {
      "text/plain": [
       "<matplotlib.axes._subplots.AxesSubplot at 0x1a8c0aad10>"
      ]
     },
     "execution_count": 36,
     "metadata": {},
     "output_type": "execute_result"
    }
   ],
   "source": [
    "%%time\n",
    "from yellowbrick.classifier import ClassificationReport\n",
    "visualizer = ClassificationReport(svc, classes=['Tree Nut Free','Not Tree Nut Free'], support=True)\n",
    "visualizer.fit(train_data.iloc[:train_size], train_label['Tree Nut Free'].iloc[:train_size])        # Fit the visualizer and the model\n",
    "visualizer.score(test_data.iloc[:train_size], test_label['Tree Nut Free'].iloc[:train_size])        # Evaluate the model on the test data\n",
    "plt.title(\"SVC Classification Report-Tree Nut\")\n",
    "plt.savefig('plots/no_weight_treenut_svc_result.png')\n",
    "visualizer.show() "
   ]
  },
  {
   "cell_type": "code",
   "execution_count": 37,
   "metadata": {},
   "outputs": [
    {
     "data": {
      "image/png": "[encoded data removed]",
      "text/plain": [
       "<Figure size 576x396 with 2 Axes>"
      ]
     },
     "metadata": {},
     "output_type": "display_data"
    },
    {
     "name": "stdout",
     "output_type": "stream",
     "text": [
      "CPU times: user 3.96 s, sys: 36.9 ms, total: 4 s\n",
      "Wall time: 4.2 s\n"
     ]
    },
    {
     "data": {
      "text/plain": [
       "<matplotlib.axes._subplots.AxesSubplot at 0x1a8c0cbe10>"
      ]
     },
     "execution_count": 37,
     "metadata": {},
     "output_type": "execute_result"
    }
   ],
   "source": [
    "%%time\n",
    "from yellowbrick.classifier import ClassificationReport\n",
    "visualizer = ClassificationReport(svc, classes=['Dairy Free','Not Dairy Free'], support=True)\n",
    "visualizer.fit(train_data.iloc[:train_size], train_label['Dairy Free'].iloc[:train_size])        # Fit the visualizer and the model\n",
    "visualizer.score(test_data.iloc[:train_size], test_label['Dairy Free'].iloc[:train_size])        # Evaluate the model on the test data\n",
    "plt.title(\"SVC Classification Report-Dairy\")\n",
    "plt.savefig('plots/no_weight_dairy_svc_result.png')\n",
    "visualizer.show() "
   ]
  },
  {
   "cell_type": "code",
   "execution_count": 38,
   "metadata": {
    "scrolled": false
   },
   "outputs": [
    {
     "data": {
      "image/png": "[encoded data removed]",
      "text/plain": [
       "<Figure size 576x396 with 2 Axes>"
      ]
     },
     "metadata": {},
     "output_type": "display_data"
    },
    {
     "name": "stdout",
     "output_type": "stream",
     "text": [
      "CPU times: user 3.91 s, sys: 36 ms, total: 3.94 s\n",
      "Wall time: 4.22 s\n"
     ]
    },
    {
     "data": {
      "text/plain": [
       "<matplotlib.axes._subplots.AxesSubplot at 0x1a8de48090>"
      ]
     },
     "execution_count": 38,
     "metadata": {},
     "output_type": "execute_result"
    }
   ],
   "source": [
    "%%time\n",
    "from yellowbrick.classifier import ClassificationReport\n",
    "visualizer = ClassificationReport(svc, classes=['Fat Free','Not Fat Free'], support=True)\n",
    "visualizer.fit(train_data.iloc[:train_size], train_label['Fat Free'].iloc[:train_size])        # Fit the visualizer and the model\n",
    "visualizer.score(test_data.iloc[:train_size], test_label['Fat Free'].iloc[:train_size])        # Evaluate the model on the test data\n",
    "plt.title(\"SVC Classification Report-Fat\")\n",
    "plt.savefig('plots/no_weight_fat_svc_result.png')\n",
    "visualizer.show() "
   ]
  },
  {
   "cell_type": "markdown",
   "metadata": {},
   "source": [
    "### Fit model with weights"
   ]
  },
  {
   "cell_type": "markdown",
   "metadata": {},
   "source": [
    "Before we fit models with weight, we also wanted to find best parameters to improve performance. We used below commentted cell to loop through and store parameters and accuracy values. In there, we also sampled test and trian data again to get better result. It takes long time to run and complete. Therefore, we only did for few loops."
   ]
  },
  {
   "cell_type": "code",
   "execution_count": null,
   "metadata": {},
   "outputs": [],
   "source": [
    "# %%time \n",
    "# best_nu = -1\n",
    "# best_acc = -1\n",
    "# best_degree = -1\n",
    "# best_kernel = ''\n",
    "# w = -1\n",
    "\n",
    "# nu = []\n",
    "# degree = []\n",
    "# kernel = []\n",
    "# acc_list = []\n",
    "# for n in range(1,9):\n",
    "#     nu_v = 0.1*n\n",
    "#     w += 1\n",
    "#     for k in [\"linear\", \"poly\", \"rbf\", \"sigmoid\"]:\n",
    "#         for d in range(1,10):\n",
    "#             avg_acc = 0\n",
    "#             for i in range(10):\n",
    "#                 training_data,test_data = train_test_split(sample_df,test_size= 0.2)\n",
    "#                 train_data,train_label = getTrianData(training_data,label_column[0])\n",
    "#                 test_data,test_label = getTrianData(test_data,label_column[0])\n",
    "# #                 new_labels = np.asarray(train_label.values)\n",
    "# #                 c = Counter()\n",
    "# #                 c.update(new_labels)\n",
    "# #                       #degree_v = 0.05*i\n",
    "#                 w_svc = svm.NuSVC(nu = nu_v, kernel=k, gamma='auto',degree = d, class_weight={0:weight_ratio[0][0]},probability=True)\n",
    "# #                 print(\"fitting model\")\n",
    "#                 w_svc.fit(train_data.iloc[:train_size], train_label.iloc[:train_size])#,sample_weight=cal_w) \n",
    "# #                 print(\"predicting now\")\n",
    "#                 y_pred = w_svc.predict(test_data)\n",
    "#                 acc = 0\n",
    "#                 for idx, val in enumerate(y_pred):\n",
    "#                     #print(test_label)\n",
    "#                     if val == test_label.values[idx]:\n",
    "#                         acc += 1\n",
    "#                 acc /= len(y_pred)\n",
    "#                 avg_acc += acc\n",
    "#                 print('{}: {}'.format(i,acc))\n",
    "#             avg_acc /= 4\n",
    "#             print('Kernel: {}, nu: {}, Degree: {} , Avg Acc: {} '.format(k,nu_v, d, avg_acc))\n",
    "#             if avg_acc > best_acc:\n",
    "#                 degree.append(d)\n",
    "#                 kernel.append(k)\n",
    "#                 nu.append(nu_v)\n",
    "#                 acc_list.append(avg_acc)\n",
    "#             if k != \"poly\":\n",
    "#                 break\n",
    "\n",
    "                "
   ]
  },
  {
   "cell_type": "markdown",
   "metadata": {},
   "source": [
    "Below are the values we got after running above code."
   ]
  },
  {
   "cell_type": "code",
   "execution_count": 42,
   "metadata": {},
   "outputs": [],
   "source": [
    "degree = [1, 1, 2, 3, 4, 1, 1, 1, 1, 2, 3, 4, 1, 1, 1, 1, 2]\n",
    "degree\n",
    "kernel =['linear', 'poly', 'poly', 'poly', 'poly', 'rbf', 'sigmoid',\n",
    "        'linear', 'poly', 'poly', 'poly', 'poly', 'rbf', 'sigmoid',\n",
    "        'linear', 'poly', 'poly']\n",
    "nu = [0.05, 0.05, 0.05, 0.05, 0.05, 0.05, 0.05, 0.1 , 0.1 , 0.1 , 0.1 ,\n",
    "        0.1 , 0.1 , 0.1 , 0.15, 0.15, 0.15]\n",
    "acc_list = [0.90653153, 0.90728228, 0.61473974, 0.56681682, 0.53440941,\n",
    "        0.75525526, 0.50287788, 0.90840841, 0.90578078, 0.60047548,\n",
    "        0.56881882, 0.53553554, 0.75575576, 0.5289039 , 0.90515516,\n",
    "        0.90302803, 0.5701952 ]\n",
    "# degree,kernel,nu,acc_list"
   ]
  },
  {
   "cell_type": "code",
   "execution_count": 43,
   "metadata": {},
   "outputs": [
    {
     "data": {
      "text/html": [
       "<div>\n",
       "<style scoped>\n",
       "    .dataframe tbody tr th:only-of-type {\n",
       "        vertical-align: middle;\n",
       "    }\n",
       "\n",
       "    .dataframe tbody tr th {\n",
       "        vertical-align: top;\n",
       "    }\n",
       "\n",
       "    .dataframe thead th {\n",
       "        text-align: right;\n",
       "    }\n",
       "</style>\n",
       "<table border=\"1\" class=\"dataframe\">\n",
       "  <thead>\n",
       "    <tr style=\"text-align: right;\">\n",
       "      <th></th>\n",
       "      <th>Degree</th>\n",
       "      <th>Kernel</th>\n",
       "      <th>Nu</th>\n",
       "      <th>Accuracy</th>\n",
       "    </tr>\n",
       "  </thead>\n",
       "  <tbody>\n",
       "    <tr>\n",
       "      <td>0</td>\n",
       "      <td>1</td>\n",
       "      <td>linear</td>\n",
       "      <td>0.05</td>\n",
       "      <td>0.906532</td>\n",
       "    </tr>\n",
       "    <tr>\n",
       "      <td>1</td>\n",
       "      <td>1</td>\n",
       "      <td>poly</td>\n",
       "      <td>0.05</td>\n",
       "      <td>0.907282</td>\n",
       "    </tr>\n",
       "    <tr>\n",
       "      <td>2</td>\n",
       "      <td>2</td>\n",
       "      <td>poly</td>\n",
       "      <td>0.05</td>\n",
       "      <td>0.614740</td>\n",
       "    </tr>\n",
       "    <tr>\n",
       "      <td>3</td>\n",
       "      <td>3</td>\n",
       "      <td>poly</td>\n",
       "      <td>0.05</td>\n",
       "      <td>0.566817</td>\n",
       "    </tr>\n",
       "    <tr>\n",
       "      <td>4</td>\n",
       "      <td>4</td>\n",
       "      <td>poly</td>\n",
       "      <td>0.05</td>\n",
       "      <td>0.534409</td>\n",
       "    </tr>\n",
       "    <tr>\n",
       "      <td>5</td>\n",
       "      <td>1</td>\n",
       "      <td>rbf</td>\n",
       "      <td>0.05</td>\n",
       "      <td>0.755255</td>\n",
       "    </tr>\n",
       "    <tr>\n",
       "      <td>6</td>\n",
       "      <td>1</td>\n",
       "      <td>sigmoid</td>\n",
       "      <td>0.05</td>\n",
       "      <td>0.502878</td>\n",
       "    </tr>\n",
       "    <tr>\n",
       "      <td>7</td>\n",
       "      <td>1</td>\n",
       "      <td>linear</td>\n",
       "      <td>0.10</td>\n",
       "      <td>0.908408</td>\n",
       "    </tr>\n",
       "    <tr>\n",
       "      <td>8</td>\n",
       "      <td>1</td>\n",
       "      <td>poly</td>\n",
       "      <td>0.10</td>\n",
       "      <td>0.905781</td>\n",
       "    </tr>\n",
       "    <tr>\n",
       "      <td>9</td>\n",
       "      <td>2</td>\n",
       "      <td>poly</td>\n",
       "      <td>0.10</td>\n",
       "      <td>0.600475</td>\n",
       "    </tr>\n",
       "    <tr>\n",
       "      <td>10</td>\n",
       "      <td>3</td>\n",
       "      <td>poly</td>\n",
       "      <td>0.10</td>\n",
       "      <td>0.568819</td>\n",
       "    </tr>\n",
       "    <tr>\n",
       "      <td>11</td>\n",
       "      <td>4</td>\n",
       "      <td>poly</td>\n",
       "      <td>0.10</td>\n",
       "      <td>0.535536</td>\n",
       "    </tr>\n",
       "    <tr>\n",
       "      <td>12</td>\n",
       "      <td>1</td>\n",
       "      <td>rbf</td>\n",
       "      <td>0.10</td>\n",
       "      <td>0.755756</td>\n",
       "    </tr>\n",
       "    <tr>\n",
       "      <td>13</td>\n",
       "      <td>1</td>\n",
       "      <td>sigmoid</td>\n",
       "      <td>0.10</td>\n",
       "      <td>0.528904</td>\n",
       "    </tr>\n",
       "    <tr>\n",
       "      <td>14</td>\n",
       "      <td>1</td>\n",
       "      <td>linear</td>\n",
       "      <td>0.15</td>\n",
       "      <td>0.905155</td>\n",
       "    </tr>\n",
       "    <tr>\n",
       "      <td>15</td>\n",
       "      <td>1</td>\n",
       "      <td>poly</td>\n",
       "      <td>0.15</td>\n",
       "      <td>0.903028</td>\n",
       "    </tr>\n",
       "    <tr>\n",
       "      <td>16</td>\n",
       "      <td>2</td>\n",
       "      <td>poly</td>\n",
       "      <td>0.15</td>\n",
       "      <td>0.570195</td>\n",
       "    </tr>\n",
       "  </tbody>\n",
       "</table>\n",
       "</div>"
      ],
      "text/plain": [
       "    Degree   Kernel    Nu  Accuracy\n",
       "0        1   linear  0.05  0.906532\n",
       "1        1     poly  0.05  0.907282\n",
       "2        2     poly  0.05  0.614740\n",
       "3        3     poly  0.05  0.566817\n",
       "4        4     poly  0.05  0.534409\n",
       "5        1      rbf  0.05  0.755255\n",
       "6        1  sigmoid  0.05  0.502878\n",
       "7        1   linear  0.10  0.908408\n",
       "8        1     poly  0.10  0.905781\n",
       "9        2     poly  0.10  0.600475\n",
       "10       3     poly  0.10  0.568819\n",
       "11       4     poly  0.10  0.535536\n",
       "12       1      rbf  0.10  0.755756\n",
       "13       1  sigmoid  0.10  0.528904\n",
       "14       1   linear  0.15  0.905155\n",
       "15       1     poly  0.15  0.903028\n",
       "16       2     poly  0.15  0.570195"
      ]
     },
     "execution_count": 43,
     "metadata": {},
     "output_type": "execute_result"
    }
   ],
   "source": [
    "svc_df = pd.DataFrame()\n",
    "svc_df['Degree'] = degree\n",
    "svc_df['Kernel'] = kernel\n",
    "svc_df['Nu'] = nu\n",
    "svc_df['Accuracy'] = acc_list\n",
    "svc_df"
   ]
  },
  {
   "cell_type": "code",
   "execution_count": 45,
   "metadata": {},
   "outputs": [],
   "source": [
    "import mplcursors"
   ]
  },
  {
   "cell_type": "code",
   "execution_count": 46,
   "metadata": {
    "scrolled": true
   },
   "outputs": [
    {
     "data": {
      "image/png": "[encoded data removed]",
      "text/plain": [
       "<Figure size 576x396 with 1 Axes>"
      ]
     },
     "metadata": {},
     "output_type": "display_data"
    }
   ],
   "source": [
    "plt.scatter(degree,acc_list,alpha=0.5,color='red',label='Degree')\n",
    "plt.scatter(kernel,acc_list,alpha=0.4,color='blue',label='Kernel')\n",
    "plt.scatter(nu,acc_list,alpha=0.4,color='green',label='Nu')\n",
    "plt.legend()\n",
    "mplcursors.cursor(hover=True)\n",
    "plt.title(\"SVC accuracy based on Input Parameters\")\n",
    "plt.savefig(\"plots/svc_accury_by_parameters.png\")\n",
    "plt.show()"
   ]
  },
  {
   "cell_type": "code",
   "execution_count": 47,
   "metadata": {
    "scrolled": true
   },
   "outputs": [
    {
     "data": {
      "image/png": "[encoded data removed]",
      "text/plain": [
       "<Figure size 576x396 with 1 Axes>"
      ]
     },
     "metadata": {},
     "output_type": "display_data"
    }
   ],
   "source": [
    "plt.scatter(kernel,acc_list,alpha=0.4)\n",
    "plt.title(\"SVC accuracy based on Kernel\")\n",
    "plt.savefig(\"plots/accuracy_by_kernel.png\")\n",
    "plt.show()"
   ]
  },
  {
   "cell_type": "code",
   "execution_count": 48,
   "metadata": {},
   "outputs": [
    {
     "data": {
      "image/png": "[encoded data removed]",
      "text/plain": [
       "<Figure size 576x396 with 1 Axes>"
      ]
     },
     "metadata": {},
     "output_type": "display_data"
    }
   ],
   "source": [
    "plt.scatter(nu,acc_list,alpha=0.4)\n",
    "plt.title(\"SVC accuracy based on Nu\")\n",
    "plt.savefig(\"plots/accuracy_by_nu.png\")\n",
    "plt.show()"
   ]
  },
  {
   "cell_type": "markdown",
   "metadata": {},
   "source": [
    "#### Calculate Weight"
   ]
  },
  {
   "cell_type": "markdown",
   "metadata": {},
   "source": [
    "we calculate weight ration for True/False by counting True/False and divide by total. Then we store the ratio as tuple, (False_label_ration, True_label_ration), in weight_ration list. "
   ]
  },
  {
   "cell_type": "code",
   "execution_count": 40,
   "metadata": {},
   "outputs": [
    {
     "data": {
      "text/plain": [
       "[[0.518, 0.482],\n",
       " [0.528375, 0.471625],\n",
       " [0.606375, 0.393625],\n",
       " [0.73975, 0.26025],\n",
       " [0.846125, 0.153875],\n",
       " [0.9805, 0.0195]]"
      ]
     },
     "execution_count": 40,
     "metadata": {},
     "output_type": "execute_result"
    }
   ],
   "source": [
    "weight_ratio = []\n",
    "for i in train_label:\n",
    "    max_v = [int(train_label[i][train_label[i] == 0].value_counts())/len(train_label),int(train_label[i][train_label[i] == 1].value_counts())/len(train_label)]\n",
    "    weight_ratio.append(max_v)\n",
    "weight_ratio"
   ]
  },
  {
   "cell_type": "markdown",
   "metadata": {},
   "source": [
    "Weight Ratio for 'Peanut Free' tags."
   ]
  },
  {
   "cell_type": "code",
   "execution_count": 41,
   "metadata": {},
   "outputs": [
    {
     "data": {
      "text/plain": [
       "0.518"
      ]
     },
     "execution_count": 41,
     "metadata": {},
     "output_type": "execute_result"
    }
   ],
   "source": [
    "weight_ratio[0][0]"
   ]
  },
  {
   "cell_type": "markdown",
   "metadata": {},
   "source": [
    "## Single Class Classification"
   ]
  },
  {
   "cell_type": "code",
   "execution_count": 49,
   "metadata": {},
   "outputs": [
    {
     "data": {
      "text/plain": [
       "1000"
      ]
     },
     "execution_count": 49,
     "metadata": {},
     "output_type": "execute_result"
    }
   ],
   "source": [
    "train_size"
   ]
  },
  {
   "cell_type": "code",
   "execution_count": 50,
   "metadata": {},
   "outputs": [
    {
     "name": "stdout",
     "output_type": "stream",
     "text": [
      "CPU times: user 1min 45s, sys: 422 ms, total: 1min 45s\n",
      "Wall time: 1min 53s\n"
     ]
    },
    {
     "data": {
      "text/plain": [
       "NuSVC(cache_size=200, class_weight={0: 0.518}, coef0=0.0,\n",
       "      decision_function_shape='ovr', degree=3, gamma='auto', kernel='linear',\n",
       "      max_iter=-1, nu=0.1, probability=False, random_state=None, shrinking=True,\n",
       "      tol=0.001, verbose=False)"
      ]
     },
     "execution_count": 50,
     "metadata": {},
     "output_type": "execute_result"
    }
   ],
   "source": [
    "%%time\n",
    "w_svc = svm.NuSVC(nu = 0.1, gamma='auto',class_weight={0:weight_ratio[0][0]},kernel='linear')\n",
    "w_svc.fit(train_data.iloc[:train_size], train_label['Peanut Free'][:train_size])\n",
    "p = svc.predict(test_data) #predict"
   ]
  },
  {
   "cell_type": "code",
   "execution_count": 56,
   "metadata": {},
   "outputs": [
    {
     "name": "stdout",
     "output_type": "stream",
     "text": [
      "CPU times: user 4.12 s, sys: 33.6 ms, total: 4.16 s\n",
      "Wall time: 4.84 s\n"
     ]
    }
   ],
   "source": [
    "%%time\n",
    "p = w_svc.predict(test_data)"
   ]
  },
  {
   "cell_type": "code",
   "execution_count": 57,
   "metadata": {
    "scrolled": true
   },
   "outputs": [
    {
     "name": "stdout",
     "output_type": "stream",
     "text": [
      "\n",
      "\n",
      "          SVC Classificatin Report-With Weight\n",
      "\n",
      "\n",
      "              precision    recall  f1-score   support\n",
      "\n",
      "           0       0.54      0.59      0.57      1008\n",
      "           1       0.54      0.50      0.52       992\n",
      "\n",
      "    accuracy                           0.54      2000\n",
      "   macro avg       0.54      0.54      0.54      2000\n",
      "weighted avg       0.54      0.54      0.54      2000\n",
      "\n"
     ]
    }
   ],
   "source": [
    "print(\"\\n\\n          SVC Classificatin Report-With Weight\\n\\n\")\n",
    "\n",
    "print(classification_report(test_label['Peanut Free'],p))"
   ]
  },
  {
   "cell_type": "code",
   "execution_count": 51,
   "metadata": {
    "scrolled": false
   },
   "outputs": [
    {
     "data": {
      "image/png": "[encoded data removed]",
      "text/plain": [
       "<Figure size 576x396 with 2 Axes>"
      ]
     },
     "metadata": {},
     "output_type": "display_data"
    },
    {
     "name": "stdout",
     "output_type": "stream",
     "text": [
      "CPU times: user 4.43 s, sys: 43.2 ms, total: 4.47 s\n",
      "Wall time: 5.35 s\n"
     ]
    },
    {
     "data": {
      "text/plain": [
       "<matplotlib.axes._subplots.AxesSubplot at 0x1a8e534290>"
      ]
     },
     "execution_count": 51,
     "metadata": {},
     "output_type": "execute_result"
    }
   ],
   "source": [
    "%%time\n",
    "from yellowbrick.classifier import ClassificationReport\n",
    "visualizer = ClassificationReport(w_svc, classes=['Peanut Free','Not Peanut Free'], support=True)\n",
    "visualizer.fit(train_data.iloc[:train_size], train_label['Peanut Free'].iloc[:train_size])        # Fit the visualizer and the model\n",
    "visualizer.score(test_data.iloc[:train_size], test_label['Peanut Free'].iloc[:train_size])        # Evaluate the model on the test data\n",
    "visualizer.show() "
   ]
  },
  {
   "cell_type": "code",
   "execution_count": 52,
   "metadata": {},
   "outputs": [
    {
     "data": {
      "image/png": "[encoded data removed]",
      "text/plain": [
       "<Figure size 576x396 with 2 Axes>"
      ]
     },
     "metadata": {},
     "output_type": "display_data"
    },
    {
     "name": "stdout",
     "output_type": "stream",
     "text": [
      "CPU times: user 4.39 s, sys: 41.3 ms, total: 4.43 s\n",
      "Wall time: 5.22 s\n"
     ]
    },
    {
     "data": {
      "text/plain": [
       "<matplotlib.axes._subplots.AxesSubplot at 0x1a8e2a0610>"
      ]
     },
     "execution_count": 52,
     "metadata": {},
     "output_type": "execute_result"
    }
   ],
   "source": [
    "%%time\n",
    "from yellowbrick.classifier import ClassificationReport\n",
    "visualizer = ClassificationReport(w_svc, classes=['Soy Free','Not Soy Free'], support=True)\n",
    "visualizer.fit(train_data.iloc[:train_size], train_label['Soy Free'].iloc[:train_size])        # Fit the visualizer and the model\n",
    "visualizer.score(test_data.iloc[:train_size], test_label['Soy Free'].iloc[:train_size])        # Evaluate the model on the test data\n",
    "visualizer.show() "
   ]
  },
  {
   "cell_type": "code",
   "execution_count": 53,
   "metadata": {},
   "outputs": [
    {
     "data": {
      "image/png": "[encoded data removed]",
      "text/plain": [
       "<Figure size 576x396 with 2 Axes>"
      ]
     },
     "metadata": {},
     "output_type": "display_data"
    },
    {
     "name": "stdout",
     "output_type": "stream",
     "text": [
      "CPU times: user 4.55 s, sys: 49.6 ms, total: 4.6 s\n",
      "Wall time: 5.89 s\n"
     ]
    },
    {
     "data": {
      "text/plain": [
       "<matplotlib.axes._subplots.AxesSubplot at 0x1a8e650450>"
      ]
     },
     "execution_count": 53,
     "metadata": {},
     "output_type": "execute_result"
    }
   ],
   "source": [
    "%%time\n",
    "from yellowbrick.classifier import ClassificationReport\n",
    "visualizer = ClassificationReport(w_svc, classes=['Tree Nut Free','Not Tree Nut Free'], support=True)\n",
    "visualizer.fit(train_data.iloc[:train_size], train_label['Tree Nut Free'].iloc[:train_size])        # Fit the visualizer and the model\n",
    "visualizer.score(test_data.iloc[:train_size], test_label['Tree Nut Free'].iloc[:train_size])        # Evaluate the model on the test data\n",
    "visualizer.show() "
   ]
  },
  {
   "cell_type": "code",
   "execution_count": 54,
   "metadata": {},
   "outputs": [
    {
     "data": {
      "image/png": "[encoded data removed]",
      "text/plain": [
       "<Figure size 576x396 with 2 Axes>"
      ]
     },
     "metadata": {},
     "output_type": "display_data"
    },
    {
     "name": "stdout",
     "output_type": "stream",
     "text": [
      "CPU times: user 4.22 s, sys: 41 ms, total: 4.26 s\n",
      "Wall time: 4.5 s\n"
     ]
    },
    {
     "data": {
      "text/plain": [
       "<matplotlib.axes._subplots.AxesSubplot at 0x1a8e46cbd0>"
      ]
     },
     "execution_count": 54,
     "metadata": {},
     "output_type": "execute_result"
    }
   ],
   "source": [
    "%%time\n",
    "from yellowbrick.classifier import ClassificationReport\n",
    "visualizer = ClassificationReport(w_svc, classes=['Dairy Free','Not Dairy Free'], support=True)\n",
    "visualizer.fit(train_data.iloc[:train_size], train_label['Dairy Free'].iloc[:train_size])        # Fit the visualizer and the model\n",
    "visualizer.score(test_data.iloc[:train_size], test_label['Dairy Free'].iloc[:train_size])        # Evaluate the model on the test data\n",
    "visualizer.show() "
   ]
  },
  {
   "cell_type": "code",
   "execution_count": 55,
   "metadata": {
    "scrolled": false
   },
   "outputs": [
    {
     "data": {
      "image/png": "[encoded data removed]",
      "text/plain": [
       "<Figure size 576x396 with 2 Axes>"
      ]
     },
     "metadata": {},
     "output_type": "display_data"
    },
    {
     "name": "stdout",
     "output_type": "stream",
     "text": [
      "CPU times: user 4.5 s, sys: 52.9 ms, total: 4.55 s\n",
      "Wall time: 5.38 s\n"
     ]
    },
    {
     "data": {
      "text/plain": [
       "<matplotlib.axes._subplots.AxesSubplot at 0x1a8f2e7510>"
      ]
     },
     "execution_count": 55,
     "metadata": {},
     "output_type": "execute_result"
    }
   ],
   "source": [
    "%%time\n",
    "from yellowbrick.classifier import ClassificationReport\n",
    "visualizer = ClassificationReport(w_svc, classes=['Fat Free','Not Fat Free'], support=True)\n",
    "visualizer.fit(train_data.iloc[:train_size], train_label['Fat Free'].iloc[:train_size])        # Fit the visualizer and the model\n",
    "visualizer.score(test_data.iloc[:train_size], test_label['Fat Free'].iloc[:train_size])        # Evaluate the model on the test data\n",
    "visualizer.show() "
   ]
  },
  {
   "cell_type": "code",
   "execution_count": 58,
   "metadata": {},
   "outputs": [
    {
     "name": "stdout",
     "output_type": "stream",
     "text": [
      "SVC - With Weight\n",
      "actual label count: Counter({0: 1008, 1: 992})\n",
      "prediction label count: Counter({0: 1093, 1: 907})\n"
     ]
    }
   ],
   "source": [
    "c = Counter()\n",
    "c.update(test_label['Peanut Free'])\n",
    "print(\"SVC - With Weight\")\n",
    "print(\"actual label count:\",c)\n",
    "c = Counter()\n",
    "c.update(p)\n",
    "print(\"prediction label count:\",c)"
   ]
  },
  {
   "cell_type": "code",
   "execution_count": 59,
   "metadata": {},
   "outputs": [
    {
     "name": "stdout",
     "output_type": "stream",
     "text": [
      "prediction label count  Counter({0: 1093, 1: 907})\n"
     ]
    }
   ],
   "source": [
    "c = Counter()\n",
    "c.update(p)\n",
    "print(\"prediction label count \",c)"
   ]
  },
  {
   "cell_type": "markdown",
   "metadata": {},
   "source": [
    "## Naive Bayes Classifier"
   ]
  },
  {
   "cell_type": "code",
   "execution_count": 61,
   "metadata": {},
   "outputs": [
    {
     "name": "stdout",
     "output_type": "stream",
     "text": [
      "0.0001736101934365018\n"
     ]
    }
   ],
   "source": [
    "# # create a guassian classifier\n",
    "bayes_model = GaussianNB()\n",
    "bayes_model.fit(train_data,train_label['Peanut Free'])\n",
    "print(bayes_model.epsilon_)"
   ]
  },
  {
   "cell_type": "code",
   "execution_count": 62,
   "metadata": {},
   "outputs": [],
   "source": [
    "p = bayes_model.predict(test_data)"
   ]
  },
  {
   "cell_type": "code",
   "execution_count": 63,
   "metadata": {},
   "outputs": [
    {
     "name": "stdout",
     "output_type": "stream",
     "text": [
      "\n",
      "\n",
      "          Naive Bayes Classificatin Report\n",
      "\n",
      "\n",
      "              precision    recall  f1-score   support\n",
      "\n",
      "           0       0.65      0.32      0.43      1008\n",
      "           1       0.54      0.82      0.65       992\n",
      "\n",
      "    accuracy                           0.57      2000\n",
      "   macro avg       0.60      0.57      0.54      2000\n",
      "weighted avg       0.60      0.57      0.54      2000\n",
      "\n"
     ]
    }
   ],
   "source": [
    "print(\"\\n\\n          Naive Bayes Classificatin Report\\n\\n\")\n",
    "\n",
    "print(classification_report(test_label['Peanut Free'],p))"
   ]
  },
  {
   "cell_type": "code",
   "execution_count": 64,
   "metadata": {},
   "outputs": [
    {
     "name": "stdout",
     "output_type": "stream",
     "text": [
      "Naive Bayes Classifier\n",
      "actual label count: Counter({0: 1008, 1: 992})\n",
      "prediction label count: Counter({1: 1506, 0: 494})\n"
     ]
    }
   ],
   "source": [
    "c = Counter()\n",
    "c.update(test_label['Peanut Free'])\n",
    "print(\"Naive Bayes Classifier\")\n",
    "print(\"actual label count:\",c)\n",
    "c = Counter()\n",
    "c.update(bayes_model.predict(test_data))\n",
    "print(\"prediction label count:\",c)"
   ]
  },
  {
   "cell_type": "code",
   "execution_count": 65,
   "metadata": {
    "scrolled": true
   },
   "outputs": [
    {
     "name": "stdout",
     "output_type": "stream",
     "text": [
      "prediction label count  Counter({1: 1506, 0: 494})\n"
     ]
    }
   ],
   "source": [
    "c = Counter()\n",
    "c.update(bayes_model.predict(test_data))\n",
    "print(\"prediction label count \",c)"
   ]
  },
  {
   "cell_type": "markdown",
   "metadata": {},
   "source": [
    "## Future Work\n",
    "\n",
    "Having visual representation of data and it's result is very important to interprete. We wanted to try what they have done below. But due to time constraint, we could not do it. This would be something we would love to do in the future or if we had more time. "
   ]
  },
  {
   "cell_type": "markdown",
   "metadata": {},
   "source": [
    "#### Example from Sklearn Website\n",
    "\n",
    "https://scikit-learn.org/stable/auto_examples/svm/plot_weighted_samples.html"
   ]
  },
  {
   "cell_type": "code",
   "execution_count": 66,
   "metadata": {},
   "outputs": [
    {
     "name": "stdout",
     "output_type": "stream",
     "text": [
      "Automatically created module for IPython interactive environment\n",
      "[1.04855297 1.42001794 1.70627019 1.9507754  0.50965218 0.4380743\n",
      " 1.25279536 0.77749036 1.61389785 3.1911042  0.89546656 0.3869025\n",
      " 0.51080514 1.18063218 0.02818223 2.14165935 0.33258611 1.51235949\n",
      " 3.17161047 1.81370583]\n"
     ]
    },
    {
     "data": {
      "image/png": "[encoded data removed]",
      "text/plain": [
       "<Figure size 1008x432 with 2 Axes>"
      ]
     },
     "metadata": {},
     "output_type": "display_data"
    }
   ],
   "source": [
    "print(__doc__)\n",
    "\n",
    "def plot_decision_function(classifier, sample_weight, axis, title):\n",
    "    # plot the decision function\n",
    "    xx, yy = np.meshgrid(np.linspace(-4, 5, 500), np.linspace(-4, 5, 500))\n",
    "\n",
    "    Z = classifier.decision_function(np.c_[xx.ravel(), yy.ravel()])\n",
    "    Z = Z.reshape(xx.shape)\n",
    "\n",
    "    # plot the line, the points, and the nearest vectors to the plane\n",
    "    axis.contourf(xx, yy, Z, alpha=0.75, cmap=plt.cm.bone)\n",
    "    axis.scatter(X[:, 0], X[:, 1], c=y, s=100 * sample_weight, alpha=0.9,\n",
    "                 cmap=plt.cm.bone, edgecolors='black')\n",
    "\n",
    "    axis.axis('off')\n",
    "    axis.set_title(title)\n",
    "\n",
    "\n",
    "# we create 20 points\n",
    "np.random.seed(0)\n",
    "X = np.r_[np.random.randn(10, 2) + [1, 1], np.random.randn(10, 2)]\n",
    "y = [1] * 10 + [-1] * 10\n",
    "sample_weight_last_ten = abs(np.random.randn(len(X)))\n",
    "sample_weight_constant = np.ones(len(X))\n",
    "# and bigger weights to some outliers\n",
    "sample_weight_last_ten[15:] *= 5\n",
    "sample_weight_last_ten[9] *= 15\n",
    "\n",
    "# for reference, first fit without sample weights\n",
    "print(sample_weight_last_ten)\n",
    "# fit the model\n",
    "clf_weights = svm.SVC(gamma=1)\n",
    "clf_weights.fit(X, y, sample_weight=sample_weight_last_ten)\n",
    "\n",
    "clf_no_weights = svm.SVC(gamma=1)\n",
    "clf_no_weights.fit(X, y)\n",
    "\n",
    "fig, axes = plt.subplots(1, 2, figsize=(14, 6))\n",
    "plot_decision_function(clf_no_weights, sample_weight_constant, axes[0],\n",
    "                       \"Constant weights\")\n",
    "plot_decision_function(clf_weights, sample_weight_last_ten, axes[1],\n",
    "                       \"Modified weights\")\n",
    "\n",
    "plt.show()"
   ]
  },
  {
   "cell_type": "markdown",
   "metadata": {},
   "source": [
    "Below example is from this website: https://scikit-learn.org/0.18/auto_examples/svm/plot_iris.html"
   ]
  },
  {
   "cell_type": "code",
   "execution_count": 68,
   "metadata": {},
   "outputs": [
    {
     "name": "stdout",
     "output_type": "stream",
     "text": [
      "Automatically created module for IPython interactive environment\n"
     ]
    },
    {
     "name": "stderr",
     "output_type": "stream",
     "text": [
      "/usr/local/anaconda3/lib/python3.7/site-packages/sklearn/svm/base.py:193: FutureWarning: The default value of gamma will change from 'auto' to 'scale' in version 0.22 to account better for unscaled features. Set gamma explicitly to 'auto' or 'scale' to avoid this warning.\n",
      "  \"avoid this warning.\", FutureWarning)\n",
      "/usr/local/anaconda3/lib/python3.7/site-packages/sklearn/svm/base.py:929: ConvergenceWarning: Liblinear failed to converge, increase the number of iterations.\n",
      "  \"the number of iterations.\", ConvergenceWarning)\n"
     ]
    },
    {
     "data": {
      "image/png": "[encoded data removed]",
      "text/plain": [
       "<Figure size 576x396 with 4 Axes>"
      ]
     },
     "metadata": {},
     "output_type": "display_data"
    }
   ],
   "source": [
    "print(__doc__)\n",
    "\n",
    "import numpy as np\n",
    "import matplotlib.pyplot as plt\n",
    "from sklearn import svm, datasets\n",
    "\n",
    "# import some data to play with\n",
    "iris = datasets.load_iris()\n",
    "X = iris.data[:, :2]  # we only take the first two features. We could\n",
    "                      # avoid this ugly slicing by using a two-dim dataset\n",
    "y = iris.target\n",
    "\n",
    "h = .02  # step size in the mesh\n",
    "\n",
    "# we create an instance of SVM and fit out data. We do not scale our\n",
    "# data since we want to plot the support vectors\n",
    "C = 1.0  # SVM regularization parameter\n",
    "svc = svm.SVC(kernel='linear', C=C).fit(X, y)\n",
    "rbf_svc = svm.SVC(kernel='rbf', gamma=0.7, C=C).fit(X, y)\n",
    "poly_svc = svm.SVC(kernel='poly', degree=3, C=C).fit(X, y)\n",
    "lin_svc = svm.LinearSVC(C=C).fit(X, y)\n",
    "\n",
    "# create a mesh to plot in\n",
    "x_min, x_max = X[:, 0].min() - 1, X[:, 0].max() + 1\n",
    "y_min, y_max = X[:, 1].min() - 1, X[:, 1].max() + 1\n",
    "xx, yy = np.meshgrid(np.arange(x_min, x_max, h),\n",
    "                     np.arange(y_min, y_max, h))\n",
    "\n",
    "# title for the plots\n",
    "titles = ['SVC with linear kernel',\n",
    "          'LinearSVC (linear kernel)',\n",
    "          'SVC with RBF kernel',\n",
    "          'SVC with polynomial (degree 3) kernel']\n",
    "\n",
    "\n",
    "for i, clf in enumerate((svc, lin_svc, rbf_svc, poly_svc)):\n",
    "    # Plot the decision boundary. For that, we will assign a color to each\n",
    "    # point in the mesh [x_min, x_max]x[y_min, y_max].\n",
    "    plt.subplot(2, 2, i + 1)\n",
    "    plt.subplots_adjust(wspace=0.4, hspace=0.4)\n",
    "\n",
    "    Z = clf.predict(np.c_[xx.ravel(), yy.ravel()])\n",
    "\n",
    "    # Put the result into a color plot\n",
    "    Z = Z.reshape(xx.shape)\n",
    "    plt.contourf(xx, yy, Z, cmap=plt.cm.coolwarm, alpha=0.8)\n",
    "\n",
    "    # Plot also the training points\n",
    "    plt.scatter(X[:, 0], X[:, 1], c=y, cmap=plt.cm.coolwarm)\n",
    "    plt.xlabel('Sepal length')\n",
    "    plt.ylabel('Sepal width')\n",
    "    plt.xlim(xx.min(), xx.max())\n",
    "    plt.ylim(yy.min(), yy.max())\n",
    "    plt.xticks(())\n",
    "    plt.yticks(())\n",
    "    plt.title(titles[i])\n",
    "\n",
    "plt.show()"
   ]
  }
 ],
 "metadata": {
  "kernelspec": {
   "display_name": "Python 3",
   "language": "python",
   "name": "python3"
  },
  "language_info": {
   "codemirror_mode": {
    "name": "ipython",
    "version": 3
   },
   "file_extension": ".py",
   "mimetype": "text/x-python",
   "name": "python",
   "nbconvert_exporter": "python",
   "pygments_lexer": "ipython3",
   "version": "3.7.4"
  }
 },
 "nbformat": 4,
 "nbformat_minor": 2
}
