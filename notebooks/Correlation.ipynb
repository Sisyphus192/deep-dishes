{
 "cells": [
  {
   "cell_type": "code",
   "execution_count": 1,
   "metadata": {},
   "outputs": [],
   "source": [
    "from joblib import load\n",
    "import numpy as np\n",
    "import pandas as pd\n",
    "import spacy\n",
    "import re\n",
    "from fractions import Fraction\n",
    "from decimal import Decimal, InvalidOperation\n",
    "import unicodedata\n",
    "import sys\n",
    "sys.path.append(\"..\")\n",
    "from src.data import data_cleaning_util\n",
    "from src.features import create_features\n",
    "import matplotlib.pyplot as plt"
   ]
  },
  {
   "cell_type": "markdown",
   "metadata": {},
   "source": [
    "### Plots of data"
   ]
  },
  {
   "cell_type": "code",
   "execution_count": 8,
   "metadata": {},
   "outputs": [],
   "source": [
    "epi_data_df = pd.read_pickle('../data/interim/epi_data.pickle')\n"
   ]
  },
  {
   "cell_type": "markdown",
   "metadata": {},
   "source": [
    "### Random data"
   ]
  },
  {
   "cell_type": "code",
   "execution_count": 25,
   "metadata": {},
   "outputs": [
    {
     "data": {
      "text/html": [
       "<div>\n",
       "<style scoped>\n",
       "    .dataframe tbody tr th:only-of-type {\n",
       "        vertical-align: middle;\n",
       "    }\n",
       "\n",
       "    .dataframe tbody tr th {\n",
       "        vertical-align: top;\n",
       "    }\n",
       "\n",
       "    .dataframe thead th {\n",
       "        text-align: right;\n",
       "    }\n",
       "</style>\n",
       "<table border=\"1\" class=\"dataframe\">\n",
       "  <thead>\n",
       "    <tr style=\"text-align: right;\">\n",
       "      <th></th>\n",
       "      <th>Weather Condition</th>\n",
       "      <th>Driver Condition</th>\n",
       "      <th>Traffic Violation</th>\n",
       "      <th>Seat Belt</th>\n",
       "      <th>Crash Severity</th>\n",
       "    </tr>\n",
       "  </thead>\n",
       "  <tbody>\n",
       "    <tr>\n",
       "      <th>0</th>\n",
       "      <td>Bad</td>\n",
       "      <td>Sober</td>\n",
       "      <td>Exceed speed limit</td>\n",
       "      <td>yes</td>\n",
       "      <td>no</td>\n",
       "    </tr>\n",
       "    <tr>\n",
       "      <th>1</th>\n",
       "      <td>Bad</td>\n",
       "      <td>Sober</td>\n",
       "      <td>Disobey stop sign</td>\n",
       "      <td>no</td>\n",
       "      <td>no</td>\n",
       "    </tr>\n",
       "    <tr>\n",
       "      <th>2</th>\n",
       "      <td>Good</td>\n",
       "      <td>Alcohol-impaired</td>\n",
       "      <td>Disobey traffic signal</td>\n",
       "      <td>yes</td>\n",
       "      <td>yes</td>\n",
       "    </tr>\n",
       "    <tr>\n",
       "      <th>3</th>\n",
       "      <td>Bad</td>\n",
       "      <td>Alcohol-impaired</td>\n",
       "      <td>Exceed speed limit</td>\n",
       "      <td>yes</td>\n",
       "      <td>yes</td>\n",
       "    </tr>\n",
       "    <tr>\n",
       "      <th>4</th>\n",
       "      <td>Bad</td>\n",
       "      <td>Sober</td>\n",
       "      <td>Disobey stop sign</td>\n",
       "      <td>no</td>\n",
       "      <td>yes</td>\n",
       "    </tr>\n",
       "    <tr>\n",
       "      <th>...</th>\n",
       "      <td>...</td>\n",
       "      <td>...</td>\n",
       "      <td>...</td>\n",
       "      <td>...</td>\n",
       "      <td>...</td>\n",
       "    </tr>\n",
       "    <tr>\n",
       "      <th>995</th>\n",
       "      <td>Good</td>\n",
       "      <td>Sober</td>\n",
       "      <td>None</td>\n",
       "      <td>yes</td>\n",
       "      <td>no</td>\n",
       "    </tr>\n",
       "    <tr>\n",
       "      <th>996</th>\n",
       "      <td>Good</td>\n",
       "      <td>Alcohol-impaired</td>\n",
       "      <td>Exceed speed limit</td>\n",
       "      <td>yes</td>\n",
       "      <td>yes</td>\n",
       "    </tr>\n",
       "    <tr>\n",
       "      <th>997</th>\n",
       "      <td>Bad</td>\n",
       "      <td>Sober</td>\n",
       "      <td>Disobey stop sign</td>\n",
       "      <td>yes</td>\n",
       "      <td>yes</td>\n",
       "    </tr>\n",
       "    <tr>\n",
       "      <th>998</th>\n",
       "      <td>Bad</td>\n",
       "      <td>Sober</td>\n",
       "      <td>Exceed speed limit</td>\n",
       "      <td>no</td>\n",
       "      <td>yes</td>\n",
       "    </tr>\n",
       "    <tr>\n",
       "      <th>999</th>\n",
       "      <td>Good</td>\n",
       "      <td>Alcohol-impaired</td>\n",
       "      <td>Disobey stop sign</td>\n",
       "      <td>no</td>\n",
       "      <td>no</td>\n",
       "    </tr>\n",
       "  </tbody>\n",
       "</table>\n",
       "<p>1000 rows × 5 columns</p>\n",
       "</div>"
      ],
      "text/plain": [
       "    Weather Condition  Driver Condition       Traffic Violation Seat Belt  \\\n",
       "0                 Bad             Sober      Exceed speed limit       yes   \n",
       "1                 Bad             Sober       Disobey stop sign        no   \n",
       "2                Good  Alcohol-impaired  Disobey traffic signal       yes   \n",
       "3                 Bad  Alcohol-impaired      Exceed speed limit       yes   \n",
       "4                 Bad             Sober       Disobey stop sign        no   \n",
       "..                ...               ...                     ...       ...   \n",
       "995              Good             Sober                    None       yes   \n",
       "996              Good  Alcohol-impaired      Exceed speed limit       yes   \n",
       "997               Bad             Sober       Disobey stop sign       yes   \n",
       "998               Bad             Sober      Exceed speed limit        no   \n",
       "999              Good  Alcohol-impaired       Disobey stop sign        no   \n",
       "\n",
       "    Crash Severity  \n",
       "0               no  \n",
       "1               no  \n",
       "2              yes  \n",
       "3              yes  \n",
       "4              yes  \n",
       "..             ...  \n",
       "995             no  \n",
       "996            yes  \n",
       "997            yes  \n",
       "998            yes  \n",
       "999             no  \n",
       "\n",
       "[1000 rows x 5 columns]"
      ]
     },
     "execution_count": 25,
     "metadata": {},
     "output_type": "execute_result"
    }
   ],
   "source": [
    "import random\n",
    "df = pd.DataFrame()\n",
    "wc = ['Bad','Good']\n",
    "dc = ['Sober','Alcohol-impaired']\n",
    "tv = ['None','Disobey stop sign','Exceed speed limit','Disobey traffic signal']\n",
    "sb = ['yes','no']\n",
    "cs = ['Minor','Major']\n",
    "df['Weather Condition'] = np.random.choice(wc,1000,p=[0.4,0.6]) \n",
    "df['Driver Condition'] = np.random.choice(dc,1000,p=[0.5,0.5]) \n",
    "df['Traffic Violation'] = np.random.choice(tv,1000,p=[0.1,0.4,0.3,0.2])\n",
    "df['Seat Belt'] = np.random.choice(sb,1000,p=[0.7,0.3])\n",
    "df['Crash Severity'] = np.random.choice(sb,1000,p=[0.6,0.4])\n",
    "# df.loc[df['Weather Condition']=='Good']\n",
    "df"
   ]
  },
  {
   "cell_type": "code",
   "execution_count": 30,
   "metadata": {
    "scrolled": true
   },
   "outputs": [
    {
     "data": {
      "text/plain": [
       "0       no\n",
       "1       no\n",
       "2      yes\n",
       "3      yes\n",
       "4      yes\n",
       "      ... \n",
       "995     no\n",
       "996    yes\n",
       "997    yes\n",
       "998    yes\n",
       "999     no\n",
       "Name: Crash Severity, Length: 1000, dtype: object"
      ]
     },
     "execution_count": 30,
     "metadata": {},
     "output_type": "execute_result"
    }
   ],
   "source": [
    "# Seperate data from attribute we will used to classify, which is class.\n",
    "X = df.drop('Crash Severity', axis=1)\n",
    "Y = df['Crash Severity']\n",
    "Y"
   ]
  },
  {
   "cell_type": "code",
   "execution_count": 31,
   "metadata": {},
   "outputs": [],
   "source": [
    "from sklearn.model_selection import train_test_split\n"
   ]
  },
  {
   "cell_type": "code",
   "execution_count": 32,
   "metadata": {},
   "outputs": [],
   "source": [
    "# plt.scatter(df['Weather Condition'],df['Crash Severity'])\n",
    "# df['Weather Condition'].corr(df['Crash Severity'])"
   ]
  },
  {
   "cell_type": "code",
   "execution_count": 9,
   "metadata": {},
   "outputs": [],
   "source": [
    "# epi_data_df.describe()\n",
    "# epi_data_df.shape()"
   ]
  },
  {
   "cell_type": "code",
   "execution_count": 10,
   "metadata": {},
   "outputs": [],
   "source": [
    "# Can't read epi_features.pickle\n",
    "# epi_features_df = pd.read_pickle('../data/interim/epi_features.pickle')\n"
   ]
  },
  {
   "cell_type": "code",
   "execution_count": 11,
   "metadata": {},
   "outputs": [],
   "source": [
    "epi_ingredients = pd.read_pickle('../data/interim/epi_ingredients.pickle')"
   ]
  },
  {
   "cell_type": "code",
   "execution_count": 12,
   "metadata": {},
   "outputs": [],
   "source": [
    "# plt.scatter(epi_data_df[:1000]['title'],epi_data_df[:1000]['num_reviews'].sort_values(ascending=False))\n",
    "# plt.show()"
   ]
  },
  {
   "cell_type": "code",
   "execution_count": null,
   "metadata": {},
   "outputs": [],
   "source": []
  },
  {
   "cell_type": "code",
   "execution_count": null,
   "metadata": {},
   "outputs": [],
   "source": []
  }
 ],
 "metadata": {
  "kernelspec": {
   "display_name": "Python 3",
   "language": "python",
   "name": "python3"
  },
  "language_info": {
   "codemirror_mode": {
    "name": "ipython",
    "version": 3
   },
   "file_extension": ".py",
   "mimetype": "text/x-python",
   "name": "python",
   "nbconvert_exporter": "python",
   "pygments_lexer": "ipython3",
   "version": "3.6.6rc1"
  }
 },
 "nbformat": 4,
 "nbformat_minor": 2
}
