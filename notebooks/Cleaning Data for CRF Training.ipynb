{
 "cells": [
  {
   "cell_type": "markdown",
   "metadata": {},
   "source": [
    "# Cleaning The NYT Data for CRF Training "
   ]
  },
  {
   "cell_type": "markdown",
   "metadata": {},
   "source": [
    "In order to parse recipe data into a useable vector representation, we need a way of labeling the different parts of the natural language of the recipe ingredients, e.g. Ingredient name, unit of measurement, quantity, etc.\n",
    "\n",
    "To do this we chose to use Conditional Random Fields (https://en.wikipedia.org/wiki/Conditional_random_field), throught the use of pycrfsuite. \n",
    "\n",
    "To train the model we will use labelled ingredient data published by the New York Times, that they used for their own internal CRF model to label ingredients. That data can be found here: https://github.com/nytimes/ingredient-phrase-tagger.\n",
    "\n",
    "Unfortunately, the quality of the labels is very poor, and it needs fixing, cleaning, and standardizing.\n",
    "So lets take a look."
   ]
  },
  {
   "cell_type": "code",
   "execution_count": 1,
   "metadata": {},
   "outputs": [
    {
     "name": "stdout",
     "output_type": "stream",
     "text": [
      "Pretty printing has been turned OFF\n"
     ]
    }
   ],
   "source": [
    "from collections import Counter\n",
    "import decimal\n",
    "import re\n",
    "from fractions import Fraction\n",
    "import string\n",
    "import sys\n",
    "import unicodedata\n",
    "import pandas as pd\n",
    "from sklearn.model_selection import train_test_split\n",
    "import unidecode\n",
    "%pprint"
   ]
  },
  {
   "cell_type": "markdown",
   "metadata": {},
   "source": [
    "This is what the labeled NYT data looks like."
   ]
  },
  {
   "cell_type": "code",
   "execution_count": 2,
   "metadata": {},
   "outputs": [
    {
     "data": {
      "text/html": [
       "<div>\n",
       "<style scoped>\n",
       "    .dataframe tbody tr th:only-of-type {\n",
       "        vertical-align: middle;\n",
       "    }\n",
       "\n",
       "    .dataframe tbody tr th {\n",
       "        vertical-align: top;\n",
       "    }\n",
       "\n",
       "    .dataframe thead th {\n",
       "        text-align: right;\n",
       "    }\n",
       "</style>\n",
       "<table border=\"1\" class=\"dataframe\">\n",
       "  <thead>\n",
       "    <tr style=\"text-align: right;\">\n",
       "      <th></th>\n",
       "      <th>input</th>\n",
       "      <th>name</th>\n",
       "      <th>qty</th>\n",
       "      <th>unit</th>\n",
       "      <th>comment</th>\n",
       "    </tr>\n",
       "    <tr>\n",
       "      <th>index</th>\n",
       "      <th></th>\n",
       "      <th></th>\n",
       "      <th></th>\n",
       "      <th></th>\n",
       "      <th></th>\n",
       "    </tr>\n",
       "  </thead>\n",
       "  <tbody>\n",
       "    <tr>\n",
       "      <th>0</th>\n",
       "      <td>1 1/4 cups cooked and pureed fresh butternut s...</td>\n",
       "      <td>butternut squash</td>\n",
       "      <td>1.25</td>\n",
       "      <td>cup</td>\n",
       "      <td>cooked and pureed fresh, or 1 10-ounce package...</td>\n",
       "    </tr>\n",
       "    <tr>\n",
       "      <th>1</th>\n",
       "      <td>1 cup peeled and cooked fresh chestnuts (about...</td>\n",
       "      <td>chestnuts</td>\n",
       "      <td>1.00</td>\n",
       "      <td>cup</td>\n",
       "      <td>peeled and cooked fresh (about 20), or 1 cup c...</td>\n",
       "    </tr>\n",
       "    <tr>\n",
       "      <th>2</th>\n",
       "      <td>1 medium-size onion, peeled and chopped</td>\n",
       "      <td>onion</td>\n",
       "      <td>1.00</td>\n",
       "      <td>NaN</td>\n",
       "      <td>medium-size, peeled and chopped</td>\n",
       "    </tr>\n",
       "    <tr>\n",
       "      <th>3</th>\n",
       "      <td>2 stalks celery, chopped coarse</td>\n",
       "      <td>celery</td>\n",
       "      <td>2.00</td>\n",
       "      <td>stalk</td>\n",
       "      <td>chopped coarse</td>\n",
       "    </tr>\n",
       "    <tr>\n",
       "      <th>4</th>\n",
       "      <td>1 1/2 tablespoons vegetable oil</td>\n",
       "      <td>vegetable oil</td>\n",
       "      <td>1.50</td>\n",
       "      <td>tablespoon</td>\n",
       "      <td>NaN</td>\n",
       "    </tr>\n",
       "  </tbody>\n",
       "</table>\n",
       "</div>"
      ],
      "text/plain": [
       "                                                   input              name  \\\n",
       "index                                                                        \n",
       "0      1 1/4 cups cooked and pureed fresh butternut s...  butternut squash   \n",
       "1      1 cup peeled and cooked fresh chestnuts (about...         chestnuts   \n",
       "2                1 medium-size onion, peeled and chopped             onion   \n",
       "3                        2 stalks celery, chopped coarse            celery   \n",
       "4                        1 1/2 tablespoons vegetable oil     vegetable oil   \n",
       "\n",
       "        qty        unit                                            comment  \n",
       "index                                                                       \n",
       "0      1.25         cup  cooked and pureed fresh, or 1 10-ounce package...  \n",
       "1      1.00         cup  peeled and cooked fresh (about 20), or 1 cup c...  \n",
       "2      1.00         NaN                    medium-size, peeled and chopped  \n",
       "3      2.00       stalk                                     chopped coarse  \n",
       "4      1.50  tablespoon                                                NaN  "
      ]
     },
     "execution_count": 2,
     "metadata": {},
     "output_type": "execute_result"
    }
   ],
   "source": [
    "# Load raw data\n",
    "input_data = pd.read_csv(\n",
    "    \"../data/raw/nyt-ingredients-snapshot-2015.csv\", index_col=\"index\"\n",
    ")\n",
    "# The NYT has a column to label ingredient quantity ranges, e.g. 2-3 apples.\n",
    "# We use the average of a range and so dont need to keep track of range end points\n",
    "input_data = input_data.drop(columns=\"range_end\")\n",
    "input_data.head()"
   ]
  },
  {
   "cell_type": "markdown",
   "metadata": {},
   "source": [
    "Lets take a look at the characters present and see if theres anything we wouldn't expect in a recipe, e.g. unescaped unicode, bizare punctuation, etc."
   ]
  },
  {
   "cell_type": "code",
   "execution_count": 3,
   "metadata": {},
   "outputs": [
    {
     "data": {
      "text/plain": [
       "[' ', '!', '\"', '#', '%', '&', \"'\", '(', ')', '*', '+', ',', '-', '.', '/', ':', ';', '<', '=', '>', '?', '@', '[', '\\\\', ']', '_', '`', '|', '\\x90', '\\xa0', '¼', '½', '¾', '×', '–', '—', '‘', '’', '“', '”', '\\u2028', '⁄', '⅓']"
      ]
     },
     "execution_count": 3,
     "metadata": {},
     "output_type": "execute_result"
    }
   ],
   "source": [
    "c = Counter()\n",
    "for col in [\"input\", \"name\", \"unit\", \"comment\"]:\n",
    "    input_data[col].apply(lambda x: c.update(list(str(x))))\n",
    "\n",
    "# We expect alphabet, digit, and punctuation characters so lets remove them\n",
    "for i in list(c):\n",
    "    if i.isalpha() or i.isdigit():\n",
    "        del c[i] \n",
    "sorted(c.keys())"
   ]
  },
  {
   "cell_type": "markdown",
   "metadata": {},
   "source": [
    "Ok so we have unescaped unicode, non-standard hyphens, quotes, as well as unicode fractions. Lets fix this."
   ]
  },
  {
   "cell_type": "code",
   "execution_count": 6,
   "metadata": {},
   "outputs": [],
   "source": [
    "def fix_characters(string):\n",
    "    if string == string:\n",
    "        if \"\\xa0\" in string:\n",
    "            string = string.replace(\"\\xa0\", \" \")\n",
    "        if \"\\x90\" in string:\n",
    "            string = string.replace(\"\\x90\", \"\")\n",
    "        if \"×\" in string:\n",
    "            string = string.replace(\"×\", \"x\")\n",
    "        string = re.sub(r\"–|—|‐|‑\", \"-\", string)\n",
    "        if \"‘\" in string:\n",
    "            string = string.replace(\"‘\", \"'\")\n",
    "        if \"’\" in string:\n",
    "            string = string.replace(\"’\", \"'\")\n",
    "        string = re.sub(r\"“|”|″|‟\", '\"', string)\n",
    "        if \"\\u2028\" in string:\n",
    "            string = string.replace(\"\\u2028\", \"\")\n",
    "        if \"⁄\" in string:\n",
    "            string = string.replace(\"⁄\", \"/\")\n",
    "        # The following characters only appear a very small number of times each in the data and are removed\n",
    "        if \"|\" in string:\n",
    "            string = string.replace(\"|\", \"\")\n",
    "        if \"`\" in string:\n",
    "            string = string.replace(\"`\", \"\")\n",
    "        if \"@\" in string:\n",
    "            string = string.replace(\"@\", \"\")\n",
    "        if \"+\" in string:\n",
    "            string = re.sub(r\"\\+{2,}\", \"\", string)\n",
    "        if \"[\" in string:\n",
    "            string = string.replace(\"[\", \"\")\n",
    "        if \"]\" in string:\n",
    "            string = string.replace(\"]\", \"\")\n",
    "        if \"?\" in string:\n",
    "            string = string.replace(\"?\", \"\")\n",
    "        if \"�\" in string:\n",
    "            string = string.replace(\"™\", \"\")\n",
    "        if \"™\" in string:\n",
    "            string = string.replace(\"™\", \"\")\n",
    "        if \"‿\" in string:\n",
    "            string = string.replace(\"‿\", \"\")\n",
    "        # for whatever reason the n in jalepeno is scraped as this character\n",
    "        if \"‱\" in string:\n",
    "            string = string.replace(\"‱\", \"n\")\n",
    "        if \"•\" in string:\n",
    "            string = string.replace(\"•\", \"\")\n",
    "        if \"®\" in string:\n",
    "            string = string.replace(\"®\", \"\")\n",
    "        if \"§\" in string:\n",
    "            string = string.replace(\"§\", \"\")\n",
    "        if \"¤\" in string:\n",
    "            string = string.replace(\"¤\", \"\")\n",
    "        if \"-\" in string:\n",
    "            string = re.sub(r\"(\\d+)\\-(\\w)\", r\"\\1 - \\2\", string)\n",
    "\n",
    "    return string"
   ]
  },
  {
   "cell_type": "code",
   "execution_count": 7,
   "metadata": {},
   "outputs": [],
   "source": [
    "for col in [\"input\", \"name\", \"unit\", \"comment\"]:\n",
    "    input_data[col] = input_data[col].apply(fix_characters)"
   ]
  },
  {
   "cell_type": "markdown",
   "metadata": {},
   "source": [
    "Now we fix various spelling errors and standardise spelling"
   ]
  },
  {
   "cell_type": "code",
   "execution_count": 8,
   "metadata": {},
   "outputs": [],
   "source": [
    "def fix_spelling(string):\n",
    "    if string == string:\n",
    "        string = re.sub(r\"([Cc])(hipolte|hipottle)\", r\"\\1hipotle\", string)\n",
    "        string = re.sub(r\"([Ff])(ritata|rittatta|ritatta|ritartar)\", r\"\\1rittata\", string)\n",
    "        string = re.sub(r\"([Cc])reme\\s[Ff](resh|raishe)\", r\"\\1reme fraiche\", string)\n",
    "        string = re.sub(r\"([Mm])(ascapone|ascaprone)\", r\"\\1ascarpone\", string)\n",
    "        string = re.sub(r\"([Bb])(russel|russle)\\s[Ss]prout\", r\"\\1russels sprout\", string)\n",
    "        string = re.sub(r\"([Gg])nocci\", r\"\\1nocchi\", string)\n",
    "        string = re.sub(r\"([Mm])(accaroni|acarroni)\", r\"\\1acaroni\", string)\n",
    "        string = re.sub(r\"([Mm])(acaroon|accaron|acarron)\", r\"\\1acaron\", string)\n",
    "        string = re.sub(r\"([Ff])(ettuccini|ettucine|ettucchine)\", r\"\\1ettuccine\", string)\n",
    "        string = re.sub(r\"([Ee])xpresso\", r\"\\1spresso\", string)\n",
    "        string = re.sub(r\"([Mm])(ozzarrella|ozarela|ozzarela )\", r\"\\1ozzarella\", string)\n",
    "        string = re.sub(r\"([Ss])herbert\", r\"\\1herbet\", string)\n",
    "        string = re.sub(r\"([Cc])ardamon\", r\"\\1ardamom\", string)\n",
    "        string = re.sub(r\"([Ll])inguini\", r\"\\1inguine\", string)\n",
    "        string = re.sub(r\"([Ll])iquer\", r\"\\1iqueur\", string)\n",
    "        string = re.sub(r\"([Ww])on\\ston\", r\"\\1onton\", string)\n",
    "        string = re.sub(r\"([Cc])hile\", r\"\\1hili\", string)\n",
    "        string = re.sub(r\"([Cc])hilies\", r\"\\1hilis\", string)\n",
    "        string = re.sub(r\"(\\&amp\\;|\\&)e(acute|grave)\\;\", \"e\", string)\n",
    "        string = re.sub(r\"(\\&amp\\;|\\&)icirc\\;\", \"i\", string)\n",
    "        string = re.sub(r\"(\\&amp\\;|\\&)ucirc\\;\", \"u\", string)\n",
    "        string = re.sub(r\"(\\&amp\\;|\\&)\\#231\\;\", \"c\", string)\n",
    "        string = re.sub(r\"(\\&amp\\;|\\&)rsquo\\;\", \"'\", string)\n",
    "        string = re.sub(r\"(\\&amp\\;|\\&)ntilde\\;\", \"n\", string)\n",
    "        # Handling misc edge case\n",
    "        string = re.sub(r\"1\\#3\", \"1/3\", string)\n",
    "        string = re.sub(r\"1\\#12\", \"1 12\", string)\n",
    "\n",
    "    return string"
   ]
  },
  {
   "cell_type": "code",
   "execution_count": 9,
   "metadata": {},
   "outputs": [],
   "source": [
    "for col in [\"input\", \"name\", \"unit\", \"comment\"]:\n",
    "    input_data[col] = input_data[col].apply(fix_spelling)"
   ]
  },
  {
   "cell_type": "markdown",
   "metadata": {},
   "source": [
    "Next up, there are leftover html tags and markup that needs to be removed, this has the added benefit of stripping out the extraneous \"see recipe\" from both input and comment."
   ]
  },
  {
   "cell_type": "code",
   "execution_count": 10,
   "metadata": {},
   "outputs": [],
   "source": [
    "def clean_nyt_html(row, verbose=False):\n",
    "    \"\"\"\n",
    "    This will replace all html tags that were not stripped\n",
    "    from the NYT data\n",
    "    \"\"\"\n",
    "    columns = [\"input\", \"name\", \"comment\"]\n",
    "    for col in columns:\n",
    "        # This filters out NaN values so they wont get caught in the try except\n",
    "        if row[col] == row[col]:\n",
    "            try:\n",
    "                # this will remove all: <a href=...>see recipe</a>\n",
    "                match = re.findall(r\"\\(?<.*see\\s*recipe.*>\\)?\", row[col])\n",
    "                if match:\n",
    "                    for m in match:\n",
    "                        row[col] = re.sub(r\"\\(?<.*see\\s*recipe.*>\\)?\", \"\", row[col])\n",
    "                        if col == \"input\" and row[\"comment\"] == row[\"comment\"]:\n",
    "                            row[\"comment\"] = re.sub(r\"\\(?see recipe\\)?\", \"\", row[\"comment\"])\n",
    "            except TypeError:\n",
    "                print(\"ERROR: Removing <see recipe>, \" + col + \" \", row)\n",
    "            try:\n",
    "                # this will remove all: see <a href=...>recipe</a>\n",
    "                match = re.findall(r\"\\(?\\s*(see)\\s*?<.*recipe.*>\\)?\", row[col])\n",
    "                if match:\n",
    "                    for m in match:\n",
    "                        row[col] = re.sub(\n",
    "                            r\"\\(?\\s*(see)\\s*?<.*recipe.*>\\)?\", \"\", row[col]\n",
    "                        )\n",
    "                        if col == \"input\" and row[\"comment\"] == row[\"comment\"]:\n",
    "                            row[\"comment\"] = re.sub(r\"\\(?see recipe\\)?\", \"\", row[\"comment\"])\n",
    "            except TypeError:\n",
    "                print(\"ERROR: Removing see <recipe>, \" + col + \" \", row)\n",
    "\n",
    "            # This will remove all <span> and misc <a href=...>...</a>\n",
    "            match = re.findall(r\"<.*?>\", row[col])\n",
    "            if match:\n",
    "                for m in match:\n",
    "                    row[col] = re.sub(r\"<.*?>\", \"\", row[col])\n",
    "            # this will remove all un-escapped '\\n' from the original html\n",
    "            match = re.findall(r\"\\\\n\", row[col])\n",
    "            if match:\n",
    "                for m in match:\n",
    "                    row[col] = re.sub(r\"\\\\n\", \" \", row[col])\n",
    "            # this will remove all un-escapped '\\t' from the original html\n",
    "            match = re.findall(r\"\\\\t\", row[col])\n",
    "            if match:\n",
    "                for m in match:\n",
    "                    row[col] = re.sub(r\"\\\\t\", \" \", row[col])\n",
    "            # if the column is now blank becasue of what we removed, set it\n",
    "            # to NaN so pandas can handle it easier\n",
    "            if not row[col]:\n",
    "                row[col] = \"\"\n",
    "            else:\n",
    "                row[col] = row[col].strip()\n",
    "    return row"
   ]
  },
  {
   "cell_type": "code",
   "execution_count": 11,
   "metadata": {
    "scrolled": true
   },
   "outputs": [],
   "source": [
    "cleaned_html = input_data.apply(clean_nyt_html, axis=1)"
   ]
  },
  {
   "cell_type": "code",
   "execution_count": 12,
   "metadata": {},
   "outputs": [
    {
     "name": "stdout",
     "output_type": "stream",
     "text": [
      "(179207, 5)\n",
      "(179063, 5)\n"
     ]
    }
   ],
   "source": [
    "print(cleaned_html.shape)\n",
    "# There are over 100 lines missing an input, these are worthless and are dropped.\n",
    "cleaned_html.dropna(axis=0, subset=[\"input\"], inplace=True)\n",
    "print(cleaned_html.shape)\n",
    "dropped_missing = cleaned_html\n"
   ]
  },
  {
   "cell_type": "markdown",
   "metadata": {},
   "source": [
    "All unit labels are words and the training of the crf model cant associate oz. with ounce, so we need to fix all abbreviations here. On top of this the NYT data is missing labels we can easily and accuratly assign here."
   ]
  },
  {
   "cell_type": "code",
   "execution_count": 13,
   "metadata": {},
   "outputs": [],
   "source": [
    "def fix_abbreviations(row):\n",
    "    \"\"\"\n",
    "    Converts instances of oz., ml., and g. to ounce and gram respectively\n",
    "    \"\"\"\n",
    "    columns = [\"input\", \"unit\", \"comment\"]\n",
    "    for col in columns:\n",
    "        # replace oz. with ounce\n",
    "        if row[col] == row[col]:\n",
    "            match = re.findall(r\"([^\\w])oz\\.?([^\\w])?\", row[col])\n",
    "            if match:\n",
    "                for m in match:\n",
    "                    if len(m) == 1:\n",
    "                        row[col] = re.sub(\n",
    "                            r\"([^\\w])oz\\.?([^\\w])\", m[0] + \"ounce\", row[col], 1\n",
    "                        )\n",
    "                    else:\n",
    "                        row[col] = re.sub(\n",
    "                            r\"([^\\w])oz\\.?([^\\w])\", m[0] + \"ounce\" + m[1], row[col], 1\n",
    "                        )\n",
    "            # replace ml. with milliliter\n",
    "            match = re.findall(r\"([^\\w])ml\\.?([^\\w])?\", row[col])\n",
    "            if match:\n",
    "                for m in match:\n",
    "                    if len(m) == 1:\n",
    "                        row[col] = re.sub(\n",
    "                            r\"([^\\w])ml\\.?([^\\w])\", m[0] + \"milliliter\", row[col], 1\n",
    "                        )\n",
    "                    else:\n",
    "                        row[col] = re.sub(\n",
    "                            r\"([^\\w])ml\\.?([^\\w])\", m[0] + \"milliliter\" + m[1], row[col], 1\n",
    "                        )\n",
    "            # replace g. with gram\n",
    "            match = re.findall(r\"(\\d+)\\s?g\\.?([^\\w])\", row[col])\n",
    "            if match:\n",
    "                for m in match:\n",
    "                    row[col] = re.sub(\n",
    "                        r\"(\\d+)\\s?g\\.?([^\\w])\", m[0] + \" gram\" + m[1], row[col], 1\n",
    "                    )\n",
    "\n",
    "            # replace tbsp with tablespoon\n",
    "            match = re.findall(r\"[Tt]bsp\\.*\", row[col])\n",
    "            if match:\n",
    "                for m in match:\n",
    "                    row[col] = re.sub(r\"[Tt]bsp\\.*\", \"tablespoon\", row[col], 1)\n",
    "\n",
    "            # replace tsp with teaspoon\n",
    "            match = re.findall(r\"[Tt]sp\\.*\", row[col])\n",
    "            if match:\n",
    "                for m in match:\n",
    "                    row[col] = re.sub(r\"[Tt]sp\\.*\", \"teaspoon\", row[col], 1)\n",
    "                # there are a handful of instances when \"tsp.\"\" is present that the unit is either missing or incorrectly labeled: \"tablespoon\"\n",
    "                row[\"unit\"] = \"teaspoon\"\n",
    "    return row"
   ]
  },
  {
   "cell_type": "code",
   "execution_count": 14,
   "metadata": {},
   "outputs": [],
   "source": [
    "fixed_abr = dropped_missing.apply(fix_abbreviations, axis=1)"
   ]
  },
  {
   "cell_type": "markdown",
   "metadata": {},
   "source": [
    "So far we've only fixed various word and character level issues in the data, now we will start making larger but necessary changes to the data and the labels. First lets look at all the unique unit values."
   ]
  },
  {
   "cell_type": "code",
   "execution_count": 15,
   "metadata": {},
   "outputs": [
    {
     "data": {
      "text/plain": [
       "['1 - inch-thick slice', '1 - pound bag', '1 1/2 - pound', '1 inch', '1/2 inch', '1/4 - inch piece', '10 - pound piece', '12 - ounce bottle', '12 - ounce bottles', '12 - ounce cans', '12 - ounce piece', '12 - ounce piece filet', '14 - ounce can', '15 - ounce can', '15 - ounce cans', '15 - ounce container', '2 - inch piece', '2 - ounce piece', '2 - pound', '2 1/2 - pound', '2 by 4 inches', '20 - ounce can', '28 - ounce can', '28 - ounce cans', '3 - inch', '3 - inch piece', '3 - inch stick', '3 1/2 - pound', '3 1/2 pound', '3 1/2- to 4 - pound', '3- to 4 - pound', '3/4- inch-thick', '4 - inch round', '4 - inch stick', '4 inches long', '4- to 5 - pound', '46 - ounce', '48 - ounce can', '5 - to-7 - pound', '6 - ounce bag', '6 - pound', '7 - inch', '7 - ounce tube', '7 - pound', '7 1/2 -ounce packages', '750 - milliliter bottle', '8 - inch', '8 - ounce packages', '8 to 9 ounces', '8- to 10 - pound', 'Handful', 'Pinch', 'Scant pinch', 'Slice', 'Slices', 'Small piece', 'bag', 'ball', 'bar', 'basket', 'batch', 'bottle', 'bowl', 'box', 'branch', 'bulb', 'bulbs', 'bunch', 'bunches', 'bushy sprigs', 'cake', 'can', 'cans', 'chopped', 'chunk', 'chunks', 'clove', 'cloves', 'cluster', 'crushed', 'cube', 'cubes', 'cup', 'cups', 'dash', 'dashes', 'dozen', 'dozen medium', 'dried', 'drop', 'ear', 'ears', 'envelope', 'feet', 'fifth', 'fillet', 'fluid ounce', 'foot', 'fresh', 'full sprigs', 'gallon', 'glass', 'gram', 'grams', 'grind', 'half', 'handful', 'hatch', 'head', 'heads', 'heaping teaspoon', 'hunk', 'inch', 'inch long piece', 'inch-thick slice', 'inchlong piece', 'inchwide ball', 'jar', 'knob', 'large', 'large bunch', 'large can', 'large clove', 'large cloves', 'large ears', 'large knob', 'large pinch', 'large sprig', 'layer', 'leaf', 'leafy sprig', 'leaves', 'length', 'link', 'liter', 'liters', 'loaf', 'lobe', 'log', 'long', 'medium', 'medium cloves', 'medium slice', 'medium-size', 'medium-sized', 'medium-small', 'milliliter', 'nan', 'one-pound', 'ounce', 'ounces', 'ounces 1 stick', 'package', 'packet', 'pair', 'part', 'pat', 'piece', 'pieces', 'pinch', 'pinches', 'pint', 'pints', 'plate', 'pods', 'portion', 'pound', 'pounds', 'quart', 'quarts', 'rack', 'racks', 'rectangle', 'ribs', 'ripe', 'root', 'scant cups', 'scoop', 'segment', 'segments', 'serving', 'shake', 'sheet', 'shot', 'side', 'slab', 'slice', 'slices', 'sliver', 'small', 'small bunch', 'small chunk', 'small handfuls', 'small leaves', 'small pinch', 'small sprigs', 'small-to-medium', 'smoked', 'spiral', 'splash', 'sprig', 'sprigs', 'square', 'stalk', 'stalks', 'steak', 'stem', 'stems', 'stick', 'sticks', 'strip', 'tablespoon', 'tablespoons', 'teaspoon', 'teaspoons', 'thick slices', 'thin slices', 'thinly sliced', 'thread', 'thumb-size piece', 'twist', 'very large', 'very small', 'very small head', 'vial', 'wedge']"
      ]
     },
     "execution_count": 15,
     "metadata": {},
     "output_type": "execute_result"
    }
   ],
   "source": [
    "c = Counter()  \n",
    "c.update([str(x) for x in fixed_abr[\"unit\"].values])\n",
    "sorted(c.keys())"
   ]
  },
  {
   "cell_type": "markdown",
   "metadata": {},
   "source": [
    "This is a mess, while more obscure units like \"sprig\" or \"thread\" are fine many are just adjectives or adjective unit combinations, e.g. \"heaping teaspoon\". We will move all non unit of measure words to the the comment field."
   ]
  },
  {
   "cell_type": "code",
   "execution_count": 16,
   "metadata": {},
   "outputs": [],
   "source": [
    "def fix_units(row):\n",
    "    # If the unit is really just an adjective move it to the comment field and set unit to NaN\n",
    "    if row[\"unit\"] in [\"very large\", \"large\", \"medium\", \"medium-size\", \"medium-sized\", \"medium-small\", \"small-to-medium\", \"small\", \"very-small\", \"very small\", \"chopped\", \"crushed\", \"fresh\", \"thinly sliced\", \"ripe\", \"long\", \"smoked\", \"dried\", \"hatch\"]:\n",
    "        if row[\"comment\"] != row[\"comment\"]:\n",
    "            row[\"comment\"] = row[\"unit\"]\n",
    "        else:\n",
    "            row[\"comment\"] += \" \" + row[\"unit\"]\n",
    "        row[\"unit\"] = \"\"\n",
    "    # For some reason a dozen is a unit\n",
    "    if row[\"unit\"] == \"dozen\":\n",
    "        row[\"qty\"] *= 12\n",
    "        row[\"unit\"] = \"\"\n",
    "    if row[\"unit\"] == \"dozen medium\":\n",
    "        row[\"qty\"] *= 12\n",
    "        row[\"unit\"] = \"\"\n",
    "        row[\"comment\"] += \" \" + \"medium\"\n",
    "    # Find and replace adjective unit combinations\n",
    "    if row[\"unit\"] == row[\"unit\"]:\n",
    "        match = re.findall(r\"([Ss]mall|medium|large|full|bushy|leafy|heaping|[Ss]cant|thumb\\-size|thin|very\\ssmall|thick)\\s(sprigs?|leaves|bunch|cloves?|chunk|knob|teaspoon|can|pinch|handfuls|ears|piece|slices?|cups?|head)\", row[\"unit\"])\n",
    "        if match:\n",
    "            for m in match:\n",
    "                row[\"unit\"] = m[1]\n",
    "                if row[\"comment\"] != row[\"comment\"]:\n",
    "                    row[\"comment\"] = m[0]\n",
    "                else:\n",
    "                    row[\"comment\"] += \" \" + m[0]\n",
    "        \n",
    "        elif row[\"unit\"] not in [\"inch\", \"inches\", \"pinch\",\"Pinch\", \"pinches\"] and \"inch\" in row[\"unit\"]:\n",
    "            row[\"unit\"] = \"inch\"\n",
    "        elif row[\"unit\"] not in [\"ounce\", \"ounces\", \"fluid ounce\", \"fluid ounces\"] and \"ounce\" in row[\"unit\"]:\n",
    "            row[\"unit\"] = \"ounce\"\n",
    "        elif row[\"unit\"] not in [\"pound\", \"pounds\"] and \"pound\" in row[\"unit\"]:\n",
    "            row[\"unit\"] = \"pound\"\n",
    "        elif row[\"unit\"] != \"milliliter\" and \"milliliter\" in row[\"unit\"]:\n",
    "            row[\"unit\"] = \"milliliter\"\n",
    "        \n",
    "    return row\n"
   ]
  },
  {
   "cell_type": "code",
   "execution_count": 17,
   "metadata": {},
   "outputs": [],
   "source": [
    "fixed_units = fixed_abr.apply(fix_units, axis=1)"
   ]
  },
  {
   "cell_type": "code",
   "execution_count": 18,
   "metadata": {},
   "outputs": [
    {
     "data": {
      "text/plain": [
       "['', 'Handful', 'Pinch', 'Slice', 'Slices', 'bag', 'ball', 'bar', 'basket', 'batch', 'bottle', 'bowl', 'box', 'branch', 'bulb', 'bulbs', 'bunch', 'bunches', 'cake', 'can', 'cans', 'chunk', 'chunks', 'clove', 'cloves', 'cluster', 'cube', 'cubes', 'cup', 'cups', 'dash', 'dashes', 'drop', 'ear', 'ears', 'envelope', 'feet', 'fifth', 'fillet', 'fluid ounce', 'foot', 'gallon', 'glass', 'gram', 'grams', 'grind', 'half', 'handful', 'handfuls', 'head', 'heads', 'hunk', 'inch', 'jar', 'knob', 'layer', 'leaf', 'leaves', 'length', 'link', 'liter', 'liters', 'loaf', 'lobe', 'log', 'milliliter', 'nan', 'ounce', 'ounces', 'package', 'packet', 'pair', 'part', 'pat', 'piece', 'pieces', 'pinch', 'pinches', 'pint', 'pints', 'plate', 'pods', 'portion', 'pound', 'pounds', 'quart', 'quarts', 'rack', 'racks', 'rectangle', 'ribs', 'root', 'scoop', 'segment', 'segments', 'serving', 'shake', 'sheet', 'shot', 'side', 'slab', 'slice', 'slices', 'sliver', 'spiral', 'splash', 'sprig', 'sprigs', 'square', 'stalk', 'stalks', 'steak', 'stem', 'stems', 'stick', 'sticks', 'strip', 'tablespoon', 'tablespoons', 'teaspoon', 'teaspoons', 'thread', 'twist', 'vial', 'wedge']"
      ]
     },
     "execution_count": 18,
     "metadata": {},
     "output_type": "execute_result"
    }
   ],
   "source": [
    "c = Counter()  \n",
    "c.update([str(x) for x in fixed_units[\"unit\"].values])\n",
    "sorted(c.keys())"
   ]
  },
  {
   "cell_type": "markdown",
   "metadata": {},
   "source": [
    "Much better.\n",
    "\n",
    "In the following cells we will start modifying most of the numerical information in the input string.\n",
    "There exist the following problems:\n",
    "\n",
    "\n",
    "1. The source of 80% of the issues we will fix in the following cells is that the quantity label is a decimal number, but often the quantity in the input has a non-decimal representation. Which, because of how labels are assigned to the input, the CRF cannot learn the relationship between the two (among other issues). e.g. \"0.5 teaspoon cumin\" is fine, \"1/2 teaspoon cumin\" is not. Specific cases are as follows:\n",
    "\n",
    "2. The quantity is represented as a numeric word or phrase, e.g \"One stalk rhubarb\", \"one and one-half\". We convert theses words to their decimal equivalent.\n",
    "\n",
    "3. The quantity has a unicode fraction representation, e.g. ¾ or a mixed fraction e.g. 1¾, we convert these to 0.25 and 1.25 respectively.\n",
    "\n",
    "4. "
   ]
  },
  {
   "cell_type": "code",
   "execution_count": 19,
   "metadata": {},
   "outputs": [],
   "source": [
    "numbers = {\"one\":1, \"two\":2, \"three\":3, \"four\":4, \"five\":5, \"six\":6, \"seven\":7, \"eight\":8, \"nine\":9, \"ten\":10}\n",
    "\n",
    "def fix_numeric_words(row):\n",
    "    columns = [\"input\", \"unit\", \"name\",\"comment\"]\n",
    "    for col in columns:\n",
    "        if row[col] == row[col]:\n",
    "            row[col] = re.sub(r\"(\\sone and a half|\\sone and one-half)\", \" 1.5\", row[col])\n",
    "            row[col] = re.sub(r\"one and one-quarter\", \"1.25\", row[col])\n",
    "            row[col] = re.sub(r\"two and one-quarter\", \"2.25\", row[col])\n",
    "            row[col] = re.sub(r\"two and one-half\", \"2.5\", row[col])\n",
    "            row[col] = re.sub(r\"three and a half\", \"3.5\", row[col])\n",
    "            match = re.findall(r\"\\s(one|two|three|four|five|six|seven|eight|nine|ten)\\s\", row[col])\n",
    "            for m in match:\n",
    "                row[col] = re.sub(r\"\\s(one|two|three|four|five|six|seven|eight|nine|ten)\\s\", \" \" + str(numbers[m]) + \" \", row[col])\n",
    "    return row"
   ]
  },
  {
   "cell_type": "code",
   "execution_count": 20,
   "metadata": {},
   "outputs": [],
   "source": [
    "fixed_numeric = fixed_units.apply(fix_numeric_words, axis=1)"
   ]
  },
  {
   "cell_type": "code",
   "execution_count": 21,
   "metadata": {},
   "outputs": [
    {
     "data": {
      "text/plain": [
       "index\n",
       "652                               Grated zest of 1 lemon\n",
       "653                             1 tablespoon lemon juice\n",
       "654    1/2 cup goat cheese (chévre), (4 ounces), soft...\n",
       "655              1 cup cream cheese (8 ounces), softened\n",
       "656                                             1 nutmeg\n",
       "657                                       Pinch sea salt\n",
       "658                                   6 fresh egg whites\n",
       "659                                          1 cup cream\n",
       "660                                      1 1/2 cups milk\n",
       "661                          2 cups good quality bourbon\n",
       "Name: input, dtype: object"
      ]
     },
     "execution_count": 21,
     "metadata": {},
     "output_type": "execute_result"
    }
   ],
   "source": [
    "fixed_numeric.iloc[650:660].input"
   ]
  },
  {
   "cell_type": "code",
   "execution_count": 22,
   "metadata": {},
   "outputs": [],
   "source": [
    "# Qty in data are rounded up to two decimal places\n",
    "decimal.getcontext().rounding = decimal.ROUND_HALF_UP\n",
    "def clean_unicode_fractions(row):\n",
    "    \"\"\"\n",
    "    Replace unicode fractions with ascii representation, preceded by a\n",
    "    space.\n",
    "\n",
    "    \"1\\x215e\" => \"1 7/8\"\n",
    "    \"\"\"\n",
    "    columns = [\"input\", \"name\", \"comment\"]\n",
    "    for col in columns:\n",
    "        # This filters out NaN values so they wont get caught in the try except\n",
    "        if row[col] == row[col]:\n",
    "            # match all mixed fractions with a unicode fraction (e.g. 1 ¾ or 1¾) and add them together\n",
    "            # UNHANDLED EDGE CASE: There are a handful of ingredients in which the whole number is a quantity\n",
    "            # mulitplier and not part of the fraction, e.g. 2 1/4 in cinnamon sticks, should be 0.5 not 2.25\n",
    "            match = re.findall(r\"(\\d+\\s?)?([\\u2150-\\u215E\\u00BC-\\u00BE])\", row[col])\n",
    "            if match:\n",
    "                for m in match:\n",
    "                    if not m[0]: # single unicode fraction e.g. ¾\n",
    "                        num = float(Fraction(unicodedata.numeric(m[1])))\n",
    "                    else: # mixed unicode fraction e.g. 1¾\n",
    "                        num = float(m[0]) + float(Fraction(unicodedata.numeric(m[1])))\n",
    "                    num = decimal.Decimal(num)\n",
    "                    num = str(round(num, 2))\n",
    "                    row[col] = re.sub(\n",
    "                        r\"(\\d+\\s?)?([\\u2150-\\u215E\\u00BC-\\u00BE])\", num, row[col], 1\n",
    "                    )\n",
    "                # Many rows with unicode fractions don't have a quantity value, we assume that this ia the correct label\n",
    "                # (and in the majority of cases it is)\n",
    "                if not row[\"qty\"]:\n",
    "                    row['qty'] = num\n",
    "                # Many rows with mixed unicode fractions only have the whole number part or the fraction part\n",
    "                # in their qty, we correct this if the qty matches matches one of the two, (if it doesnt we assume \n",
    "                # a different part of the input is the quantity) \n",
    "                elif row['unit'] == row['unit'] and float(row[\"qty\"]) != float(num):\n",
    "                    if m[0] and float(m[0]) == float(row[\"qty\"]):\n",
    "                        row[\"qty\"] = num\n",
    "\n",
    "    return row"
   ]
  },
  {
   "cell_type": "code",
   "execution_count": 23,
   "metadata": {},
   "outputs": [],
   "source": [
    "# Unicode has numerous characters to represent fractions like ¾, we remove these\n",
    "cleaned_unicode = fixed_numeric.apply(clean_unicode_fractions, axis=1)"
   ]
  },
  {
   "cell_type": "markdown",
   "metadata": {},
   "source": [
    "Now that we've handled the unicode fractions, we will remove the remaining unicode characters (this is almost exclusively letters with accent marks). This, among other things, will standardize the spellings of things like creme fraiche and jalepeno."
   ]
  },
  {
   "cell_type": "code",
   "execution_count": 24,
   "metadata": {},
   "outputs": [
    {
     "data": {
      "text/plain": [
       "[' ', '!', '\"', '#', '%', '&', \"'\", '(', ')', '*', '+', ',', '-', '.', '/', '0', '1', '2', '3', '4', '5', '6', '7', '8', '9', ':', ';', 'A', 'B', 'C', 'D', 'E', 'F', 'G', 'H', 'I', 'J', 'K', 'L', 'M', 'N', 'O', 'P', 'Q', 'R', 'S', 'T', 'U', 'V', 'W', 'X', 'Y', 'Z', 'a', 'b', 'c', 'd', 'e', 'f', 'g', 'h', 'i', 'j', 'k', 'l', 'm', 'n', 'o', 'p', 'q', 'r', 's', 't', 'u', 'v', 'w', 'x', 'y', 'z']"
      ]
     },
     "execution_count": 24,
     "metadata": {},
     "output_type": "execute_result"
    }
   ],
   "source": [
    "c = Counter()\n",
    "for col in [\"input\", \"name\", \"comment\"]:\n",
    "    cleaned_unicode[col] = cleaned_unicode[col].apply(str).apply(unidecode.unidecode)        # remove all accent characters\n",
    "    cleaned_unicode[col].apply(lambda x: c.update(list(str(x))))\n",
    "sorted(c.keys())"
   ]
  },
  {
   "cell_type": "markdown",
   "metadata": {},
   "source": [
    "Beatiful."
   ]
  },
  {
   "cell_type": "code",
   "execution_count": null,
   "metadata": {},
   "outputs": [],
   "source": [
    "cleaned_unicode.iloc[650:660].input#.apply(unidecode.unidecode)"
   ]
  },
  {
   "cell_type": "code",
   "execution_count": null,
   "metadata": {},
   "outputs": [],
   "source": [
    "# Qty in data are rounded up to two decimal places\n",
    "decimal.getcontext().rounding = decimal.ROUND_HALF_UP\n",
    "def merge_fractions(row):\n",
    "    \"\"\"\n",
    "    Merges mixed fractions: 1 2/3 => 1.67\n",
    "    \"\"\"\n",
    "    columns = [\"input\", \"name\", \"comment\"]\n",
    "    for col in columns:\n",
    "        # This filters out NaN values so they wont get caught in the try except\n",
    "        if row[col] == row[col]:\n",
    "            match = re.findall(r\"(\\d+)[\\-\\s]?(\\d+\\/\\d+)\", row[col])\n",
    "            if match:\n",
    "                for m in match:\n",
    "                    num = float(m[0]) + float(Fraction(m[1]))\n",
    "                    num = decimal.Decimal(num)\n",
    "                    row[col] = re.sub(r\"(\\d+)[\\-\\s]?(\\d+\\/\\d+)\", str(round(num, 2)), row[col], 1)\n",
    "\n",
    "            match = re.findall(r\"(\\d+\\/\\d+)\", row[col])\n",
    "            if match:\n",
    "                for m in match:\n",
    "                    num = float(Fraction(m))\n",
    "                    num = decimal.Decimal(num)\n",
    "                    row[col] = re.sub(r\"(\\d+\\/\\d+)\", str(round(num, 2)), row[col], 1)\n",
    "\n",
    "    return row"
   ]
  },
  {
   "cell_type": "code",
   "execution_count": null,
   "metadata": {},
   "outputs": [],
   "source": [
    "# Many ingredient quantities are written as 1 1/2 to represent 1.5\n",
    "# The quantity label however is always written as 1.5 so we need to \n",
    "# convert these fractions so that the crf can match it\n",
    "merged_data = cleaned_unicode.apply(merge_fractions, axis=1)"
   ]
  },
  {
   "cell_type": "code",
   "execution_count": null,
   "metadata": {},
   "outputs": [],
   "source": [
    "merged_data.head()"
   ]
  },
  {
   "cell_type": "code",
   "execution_count": null,
   "metadata": {},
   "outputs": [],
   "source": [
    "decimal.getcontext().rounding = decimal.ROUND_HALF_UP\n",
    "def merge_quantities(row):\n",
    "    \"\"\"\n",
    "    Many ingredients are written in the form 2 8.5-ounce cans...\n",
    "    This is both tricky for the model to parse and made worse because\n",
    "    the labeled data incosistently labels the quanity as 2, 8.5, or 17.\n",
    "    We want to reuce all these to a single value:\n",
    "    2 8.5-ounce => 17.0-ounce\n",
    "    and update the quantity label as appropriate\n",
    "    \"\"\"\n",
    "    try:\n",
    "        columns = [\"input\", \"name\",\"comment\"]\n",
    "        for col in columns:\n",
    "            # This filters out NaN values so they wont get caught in the try except\n",
    "            if row[col] == row[col]:\n",
    "                # Ok first we need to average any number ranges, e.g. \"3 to 4 pounds\" becomes \"3.5 pounds\"\n",
    "                match = re.findall(r\"(\\d+\\.?\\d*)[\\s\\-]*[tor]+[\\s\\-]*(\\d+\\.?\\d*)\", row[col])\n",
    "                if match:\n",
    "                    for m in match:\n",
    "                        num = ((float(m[0])+float(m[1])) / 2)\n",
    "                        num = decimal.Decimal(num)\n",
    "                        row[col] = re.sub(r\"(\\d+\\.?\\d*)[\\s\\-]*[tor]+[\\s\\-]*(\\d+\\.?\\d*)\", str(round(num, 2)), row[col], 1)\n",
    "                        if float(m[0]) == row[\"qty\"] or float(m[1]) == row[\"qty\"] and col == \"input\":\n",
    "                            # probably a pretty good guess that the qty was only one of these two numbers, update it with the new num\n",
    "                            row[\"qty\"] = float(round(num, 2))\n",
    "                # now we do quantity multipliers\n",
    "                match = re.findall(r\"(\\d+)\\s+(\\d+\\.*\\d*)\", row[col])\n",
    "                if match:\n",
    "                    for m in match:\n",
    "                        num = float(m[0]) * float(m[1])\n",
    "                        num = decimal.Decimal(num)\n",
    "                        row[col] = re.sub(r\"(\\d+)\\s+(\\d+\\.*\\d*)\", str(round(num, 2)), row[col], 1)\n",
    "                        if float(m[0]) == row[\"qty\"] or float(m[1]) == row[\"qty\"] and col == \"name\":\n",
    "                            # probably a pretty good guess that the qty was one of these two numbers, update it with the new num\n",
    "                            row[\"qty\"] = float(round(num, 2))\n",
    "    except TypeError:\n",
    "        print(\"Error Merging Ranges: \", row)\n",
    "    return row\n",
    "    "
   ]
  },
  {
   "cell_type": "code",
   "execution_count": null,
   "metadata": {},
   "outputs": [],
   "source": [
    "merged_range = merged_data.apply(merge_quantities, axis=1)"
   ]
  },
  {
   "cell_type": "code",
   "execution_count": null,
   "metadata": {},
   "outputs": [],
   "source": []
  },
  {
   "cell_type": "markdown",
   "metadata": {},
   "source": [
    "Phase two of merging quantities going to start making some more assumptions\n",
    "Starting with everything in the name label after a comma should be a comment"
   ]
  },
  {
   "cell_type": "code",
   "execution_count": null,
   "metadata": {},
   "outputs": [],
   "source": [
    "merged_range[merged_range[\"name\"] != merged_range[\"name\"]]"
   ]
  },
  {
   "cell_type": "code",
   "execution_count": null,
   "metadata": {},
   "outputs": [],
   "source": [
    "def fix_names(row):\n",
    "    if row[\"name\"] == row[\"name\"]:\n",
    "        if ',' in row[\"name\"]:\n",
    "            temp = row[\"name\"].split(',')\n",
    "            row[\"name\"] = temp[0]\n",
    "            if row[\"comment\"] != row[\"comment\"]:\n",
    "                row[\"comment\"] = temp[1]\n",
    "            else:\n",
    "                row[\"comment\"] += temp[1]\n",
    "    return row            \n"
   ]
  },
  {
   "cell_type": "code",
   "execution_count": null,
   "metadata": {},
   "outputs": [],
   "source": [
    "fixed_names = merged_range.apply(fix_names, axis=1)"
   ]
  },
  {
   "cell_type": "code",
   "execution_count": null,
   "metadata": {},
   "outputs": [],
   "source": [
    "def replace_volume_with_weight(row):\n",
    "    \"\"\"\n",
    "    By default the NYT labelled the qty and unit using volume,\n",
    "    this changes those labels to weight if its in the ingredient input.\n",
    "    \"\"\"\n",
    "    match = re.findall(r\"\\((\\d+\\.*\\d*)\\s(ounces?|pounds?|grams?|milliliters?)\\)\", row[\"input\"])\n",
    "    for m in match:\n",
    "        if row[\"unit\"] == row[\"unit\"] and row[\"unit\"] != m[1]:\n",
    "            if row[\"comment\"] == row[\"comment\"]:\n",
    "                row[\"comment\"] = row[\"comment\"].replace(m[0], '')\n",
    "                row[\"comment\"] = row[\"comment\"].replace(m[1], '')\n",
    "                if row[\"qty\"] == row[\"qty\"]:\n",
    "                    if '.' in m[0]:\n",
    "                        row[\"comment\"] += \" \" + str(row[\"qty\"]) + \" \" + row[\"unit\"]\n",
    "                    else:\n",
    "                        row[\"comment\"] += \" \" + str(int(row[\"qty\"])) + \" \" + row[\"unit\"]\n",
    "                else:\n",
    "                    row[\"comment\"] += \" \" + row[\"unit\"]\n",
    "                row[\"unit\"] = m[1]\n",
    "                row[\"qty\"] = float(m[0])\n",
    "    return row"
   ]
  },
  {
   "cell_type": "code",
   "execution_count": null,
   "metadata": {},
   "outputs": [],
   "source": [
    "replaced_volume = fixed_names.apply(replace_volume_with_weight, axis=1)"
   ]
  },
  {
   "cell_type": "code",
   "execution_count": null,
   "metadata": {},
   "outputs": [],
   "source": [
    "replaced_volume.to_csv(\"../data/interim/nyt_partial_clean.csv\")"
   ]
  },
  {
   "cell_type": "code",
   "execution_count": null,
   "metadata": {},
   "outputs": [],
   "source": [
    "replaced_volume.to_pickle(\"../data/interim/crf_training_data.pickle\")"
   ]
  },
  {
   "cell_type": "code",
   "execution_count": null,
   "metadata": {},
   "outputs": [],
   "source": [
    "training_data, test_data = train_test_split(replaced_volume, test_size=0.2)"
   ]
  },
  {
   "cell_type": "code",
   "execution_count": null,
   "metadata": {},
   "outputs": [],
   "source": [
    "training_data.to_pickle(\"../data/interim/crf_training_data.pickle\")\n",
    "test_data.to_pickle(\"../data/interim/crf_test_data.pickle\")"
   ]
  }
 ],
 "metadata": {
  "kernelspec": {
   "display_name": "Python 3",
   "language": "python",
   "name": "python3"
  },
  "language_info": {
   "codemirror_mode": {
    "name": "ipython",
    "version": 3
   },
   "file_extension": ".py",
   "mimetype": "text/x-python",
   "name": "python",
   "nbconvert_exporter": "python",
   "pygments_lexer": "ipython3",
   "version": "3.7.4"
  }
 },
 "nbformat": 4,
 "nbformat_minor": 2
}
