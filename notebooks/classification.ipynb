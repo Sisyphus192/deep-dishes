{
 "cells": [
  {
   "cell_type": "code",
   "execution_count": 206,
   "metadata": {},
   "outputs": [],
   "source": [
    "import numpy as np\n",
    "import pandas as pd\n",
    "import matplotlib.pyplot as plt\n",
    "from collections import Counter\n",
    "from sklearn import svm\n",
    "from sklearn.naive_bayes import GaussianNB\n",
    "import plotly.express as px\n",
    "import cufflinks as cf\n",
    "from  plotly.offline import plot\n",
    "\n",
    "from sklearn.utils import class_weight\n",
    "from sklearn.model_selection import train_test_split\n",
    "import seaborn as sns\n",
    "from sklearn.metrics import classification_report\n",
    "import collections\n"
   ]
  },
  {
   "cell_type": "code",
   "execution_count": 2,
   "metadata": {},
   "outputs": [],
   "source": [
    "# importing class object that I created\n",
    "import sys  \n",
    "sys.path.insert(0, '../src/')\n",
    "import utils"
   ]
  },
  {
   "cell_type": "code",
   "execution_count": 3,
   "metadata": {},
   "outputs": [],
   "source": [
    "tools = utils.tools() # create object"
   ]
  },
  {
   "cell_type": "code",
   "execution_count": 4,
   "metadata": {},
   "outputs": [],
   "source": [
    "epi_data_df = tools.readfile('../data/processed/epi_vector.h5')\n",
    "epi_data_df = tools.df"
   ]
  },
  {
   "cell_type": "code",
   "execution_count": 112,
   "metadata": {},
   "outputs": [],
   "source": [
    "new_data_df = tools.readfile('../data/processed/recipe_vectors.pickle')"
   ]
  },
  {
   "cell_type": "code",
   "execution_count": 114,
   "metadata": {},
   "outputs": [],
   "source": [
    "new_data_df = tools.df"
   ]
  },
  {
   "cell_type": "code",
   "execution_count": 117,
   "metadata": {},
   "outputs": [
    {
     "data": {
      "text/html": [
       "<div>\n",
       "<style scoped>\n",
       "    .dataframe tbody tr th:only-of-type {\n",
       "        vertical-align: middle;\n",
       "    }\n",
       "\n",
       "    .dataframe tbody tr th {\n",
       "        vertical-align: top;\n",
       "    }\n",
       "\n",
       "    .dataframe thead th {\n",
       "        text-align: right;\n",
       "    }\n",
       "</style>\n",
       "<table border=\"1\" class=\"dataframe\">\n",
       "  <thead>\n",
       "    <tr style=\"text-align: right;\">\n",
       "      <th></th>\n",
       "      <th>\" 00 \" (soft wheat) flour * or cake flour</th>\n",
       "      <th>\" 00 \" flour</th>\n",
       "      <th>\" 00 \" flour, divide</th>\n",
       "      <th>\" &gt; chicken stock chicken broth</th>\n",
       "      <th>\" &gt; panko (japanese bread crumb bread crumb</th>\n",
       "      <th>\" baby \" Pattypan squash</th>\n",
       "      <th>\" biscuit cutter</th>\n",
       "      <th>\" brown candy \" sugar brown sugar</th>\n",
       "      <th>\" cauliflower floret (cut from 1 large head)</th>\n",
       "      <th>\" circular wire rack</th>\n",
       "      <th>...</th>\n",
       "      <th>ﬁne dry bread crumb</th>\n",
       "      <th>ﬁne salt</th>\n",
       "      <th>avg_rating</th>\n",
       "      <th>best_rating</th>\n",
       "      <th>worst_rating</th>\n",
       "      <th>prepare_again_rating</th>\n",
       "      <th>num_reviews</th>\n",
       "      <th>total_time</th>\n",
       "      <th>tags</th>\n",
       "      <th>title</th>\n",
       "    </tr>\n",
       "  </thead>\n",
       "  <tbody>\n",
       "    <tr>\n",
       "      <th>http://www.epicurious.com/recipes/food/views/zwetschgenkuchen-14600</th>\n",
       "      <td>0.0</td>\n",
       "      <td>0.0</td>\n",
       "      <td>0.0</td>\n",
       "      <td>0.0</td>\n",
       "      <td>0.0</td>\n",
       "      <td>0.0</td>\n",
       "      <td>0.0</td>\n",
       "      <td>0.0</td>\n",
       "      <td>0.0</td>\n",
       "      <td>0.0</td>\n",
       "      <td>...</td>\n",
       "      <td>0.0</td>\n",
       "      <td>0.0</td>\n",
       "      <td>3.0</td>\n",
       "      <td>4.0</td>\n",
       "      <td>0.0</td>\n",
       "      <td>0.83</td>\n",
       "      <td>6.0</td>\n",
       "      <td>0.0</td>\n",
       "      <td>[Cake, Fruit, Dessert, Rosh Hashanah/Yom Kippu...</td>\n",
       "      <td>Zwetschgenkuchen</td>\n",
       "    </tr>\n",
       "  </tbody>\n",
       "</table>\n",
       "<p>1 rows × 17972 columns</p>\n",
       "</div>"
      ],
      "text/plain": [
       "                                                    \" 00 \" (soft wheat) flour * or cake flour  \\\n",
       "http://www.epicurious.com/recipes/food/views/zw...                                        0.0   \n",
       "\n",
       "                                                    \" 00 \" flour  \\\n",
       "http://www.epicurious.com/recipes/food/views/zw...           0.0   \n",
       "\n",
       "                                                    \" 00 \" flour, divide  \\\n",
       "http://www.epicurious.com/recipes/food/views/zw...                   0.0   \n",
       "\n",
       "                                                    \" > chicken stock chicken broth  \\\n",
       "http://www.epicurious.com/recipes/food/views/zw...                              0.0   \n",
       "\n",
       "                                                    \" > panko (japanese bread crumb bread crumb  \\\n",
       "http://www.epicurious.com/recipes/food/views/zw...                                          0.0   \n",
       "\n",
       "                                                    \" baby \" Pattypan squash  \\\n",
       "http://www.epicurious.com/recipes/food/views/zw...                       0.0   \n",
       "\n",
       "                                                    \" biscuit cutter  \\\n",
       "http://www.epicurious.com/recipes/food/views/zw...               0.0   \n",
       "\n",
       "                                                    \" brown candy \" sugar brown sugar  \\\n",
       "http://www.epicurious.com/recipes/food/views/zw...                                0.0   \n",
       "\n",
       "                                                    \" cauliflower floret (cut from 1 large head)  \\\n",
       "http://www.epicurious.com/recipes/food/views/zw...                                           0.0   \n",
       "\n",
       "                                                    \" circular wire rack  ...  \\\n",
       "http://www.epicurious.com/recipes/food/views/zw...                   0.0  ...   \n",
       "\n",
       "                                                    ﬁne dry bread crumb  \\\n",
       "http://www.epicurious.com/recipes/food/views/zw...                  0.0   \n",
       "\n",
       "                                                    ﬁne salt  avg_rating  \\\n",
       "http://www.epicurious.com/recipes/food/views/zw...       0.0         3.0   \n",
       "\n",
       "                                                    best_rating  worst_rating  \\\n",
       "http://www.epicurious.com/recipes/food/views/zw...          4.0           0.0   \n",
       "\n",
       "                                                    prepare_again_rating  \\\n",
       "http://www.epicurious.com/recipes/food/views/zw...                  0.83   \n",
       "\n",
       "                                                    num_reviews  total_time  \\\n",
       "http://www.epicurious.com/recipes/food/views/zw...          6.0         0.0   \n",
       "\n",
       "                                                                                                 tags  \\\n",
       "http://www.epicurious.com/recipes/food/views/zw...  [Cake, Fruit, Dessert, Rosh Hashanah/Yom Kippu...   \n",
       "\n",
       "                                                                title  \n",
       "http://www.epicurious.com/recipes/food/views/zw...  Zwetschgenkuchen   \n",
       "\n",
       "[1 rows x 17972 columns]"
      ]
     },
     "execution_count": 117,
     "metadata": {},
     "output_type": "execute_result"
    }
   ],
   "source": [
    "new_data_df.tail(1)"
   ]
  },
  {
   "cell_type": "code",
   "execution_count": 8,
   "metadata": {},
   "outputs": [
    {
     "data": {
      "text/plain": [
       "(34626, 17972)"
      ]
     },
     "execution_count": 8,
     "metadata": {},
     "output_type": "execute_result"
    }
   ],
   "source": [
    "epi_data_df.shape"
   ]
  },
  {
   "cell_type": "markdown",
   "metadata": {},
   "source": [
    "## Helper functions"
   ]
  },
  {
   "cell_type": "code",
   "execution_count": 9,
   "metadata": {},
   "outputs": [
    {
     "data": {
      "text/plain": [
       "(34626, 17972)"
      ]
     },
     "execution_count": 9,
     "metadata": {},
     "output_type": "execute_result"
    }
   ],
   "source": [
    "epi_data_df.shape\n"
   ]
  },
  {
   "cell_type": "code",
   "execution_count": 10,
   "metadata": {},
   "outputs": [],
   "source": [
    "def countTags(sample_df):\n",
    "    # Get count of tags\n",
    "\n",
    "    c = Counter()  \n",
    "    sample_df[\"tags\"].apply(lambda x: c.update(x))\n",
    "    # store tag count in df\n",
    "    count = pd.DataFrame()\n",
    "    count['tags_count'] = [c[i] for i in c]\n",
    "    count['tag'] = [i for i in c]\n",
    "    count = count.sort_values(by='tags_count',ascending=False)\n",
    "\n",
    "    # delete row with value < n\n",
    "    indexNames = count[ count['tags_count'] <= 30 ].index\n",
    "\n",
    "    # Delete these row indexes from dataFrame\n",
    "    count.drop(indexNames , inplace=True)\n",
    "    return count\n"
   ]
  },
  {
   "cell_type": "code",
   "execution_count": 11,
   "metadata": {},
   "outputs": [],
   "source": [
    "def getallergyTags(count):\n",
    "    # look for ### Free tags\n",
    "    count['allergy_tags'] = count['tag'].str.endswith('Free')\n",
    "\n",
    "    allergy_df = count[count['allergy_tags'] == True]\n",
    "    return allergy_df"
   ]
  },
  {
   "cell_type": "code",
   "execution_count": 12,
   "metadata": {},
   "outputs": [],
   "source": [
    "# Create column in sample_df for allergy tags\n",
    "def addallergytoDF(allergy_df,df):\n",
    "    for i in allergy_df.tag:\n",
    "        df[i] = [i in tags for tags in df.tags]\n",
    "    return df"
   ]
  },
  {
   "cell_type": "code",
   "execution_count": null,
   "metadata": {},
   "outputs": [],
   "source": []
  },
  {
   "cell_type": "code",
   "execution_count": 13,
   "metadata": {},
   "outputs": [],
   "source": [
    "# I manually took out tags that are not recipe ingredients. And clean input. \n",
    "# Uncomment below if  cuisine type is needed\n",
    "def loadCuisineType():\n",
    "    cuisinetype = pd.read_csv('cuisinetype.txt',header=None)\n",
    "    cuisinetype = cuisinetype.transpose()\n",
    "    cuisinetype = np.array(cuisinetype[0])\n",
    "    cuisinetype = [x.replace('\\'','') for x in cuisinetype]\n",
    "    cuisinetype = [x.replace('[','') for x in cuisinetype]\n",
    "    cuisinetype = [x.replace(']','') for x in cuisinetype]\n",
    "    cuisinetype = [x.lstrip() for x in cuisinetype]\n",
    "    # print(cuisinetype)\n",
    "    \n",
    "    # Uncomment below if states are needed\n",
    "\n",
    "    states = pd.read_csv('states.csv',header=None)\n",
    "    states = states.transpose()\n",
    "    states = np.array(states[0])\n",
    "    states = [x.lstrip() for x in states]\n",
    "    # print(states)\n",
    "    \n",
    "    # Uncomment below if usa_cuisine is needed\n",
    "\n",
    "    city = pd.read_csv('usa_city.csv',header=None)\n",
    "    city = city.transpose()\n",
    "    city = np.array(city[0])\n",
    "    city = [x.replace('\\'','') for x in city]\n",
    "    city = [x.replace('[','') for x in city]\n",
    "    city = [x.replace(']','') for x in city]\n",
    "    city = [x.lstrip() for x in city]\n",
    "    usa_cuisine =states+city\n",
    "    # print(usa_cuisine)\n",
    "    \n",
    "    non_usa_cuisine = []\n",
    "    for i in cuisinetype:\n",
    "        if i not in usa_cuisine:\n",
    "            non_usa_cuisine.append(i)\n",
    "    return usa_cuisine,non_usa_cuisine\n",
    "    "
   ]
  },
  {
   "cell_type": "code",
   "execution_count": 163,
   "metadata": {},
   "outputs": [],
   "source": [
    "def addCuisinetypesToDF(sample_df,usa_cuisine,non_usa_cuisine):\n",
    "    tags_value=[]\n",
    "    for tags in sample_df['tags']:\n",
    "        if(set(tags).intersection(usa_cuisine)):\n",
    "            tags_value.append(1)\n",
    "            continue\n",
    "        else:\n",
    "            if(set(tags).intersection(non_usa_cuisine)):\n",
    "                tags_value.append(0)\n",
    "            else:\n",
    "                tags_value.append(2)\n",
    "    sample_df['usa_cuisine'] = tags_value\n",
    "    return sample_df"
   ]
  },
  {
   "cell_type": "code",
   "execution_count": 164,
   "metadata": {},
   "outputs": [],
   "source": [
    "# Drop column with all zeros\n",
    "def dropZeroColumns(sample_df):\n",
    "    sample_df = sample_df.loc[:, (sample_df != 0).any(axis=0)]\n",
    "    return sample_df"
   ]
  },
  {
   "cell_type": "code",
   "execution_count": 165,
   "metadata": {},
   "outputs": [],
   "source": [
    "def deleterows(df,column,value1,value2,yes):\n",
    "    if(yes): # deleted row based on two values\n",
    "        df = df.drop(df[df[column] == value1].index)\n",
    "        df = df.drop(df[df[column] == value2].index)\n",
    "    else:\n",
    "        df = df.drop(df [df[column] == value1].index)\n",
    "    return df"
   ]
  },
  {
   "cell_type": "code",
   "execution_count": 166,
   "metadata": {},
   "outputs": [],
   "source": [
    "# drop not relevent columns and drop rest of allergy column except one you are analyzing\n",
    "def dropColumn(sample_df,col):\n",
    "#     sample_df = sample_df.drop(columns=['avg_rating','best_rating','prepare_again_rating','num_reviews'],axis=0)\n",
    "    sample_df = sample_df[(sample_df != np.inf).all(axis=1)]\n",
    "    sample_df = sample_df.drop(columns=col,axis=1)\n",
    "\n",
    "    return sample_df"
   ]
  },
  {
   "cell_type": "code",
   "execution_count": 167,
   "metadata": {},
   "outputs": [],
   "source": [
    "\n",
    "def getTrianData(sample_df,label_column):\n",
    "    '''Seperate data and label to classify, \n",
    "    X are attribute columns used to classify, Y is the label\n",
    "    first delete all infinity values in data. It also drop columns that are not needed.'''\n",
    "    data = sample_df.drop(columns=label_column, axis=1)\n",
    "    label = sample_df[label_column]\n",
    "    return data,label\n"
   ]
  },
  {
   "cell_type": "code",
   "execution_count": 168,
   "metadata": {},
   "outputs": [],
   "source": [
    "class SVCmodel(object):\n",
    "    def __init__(self):\n",
    "        pass\n",
    "    def getSupport(self,model):\n",
    "        '''Indices of support vectors'''\n",
    "        return model.support_\n",
    "    def getClassWeight(self,model):\n",
    "        '''Support vectors'''\n",
    "        return model.class_weight_\n",
    "    def getNsupport(self,model):\n",
    "        '''# of support vector for each class'''\n",
    "        return model.n_support_\n",
    "    def getsupportcoef(self,model):\n",
    "        '''related to support vector in the decision function.'''\n",
    "        return model.dual_coef_\n",
    "    def getfeaturesweight(self,model):\n",
    "        '''weight assigned to the features'''\n",
    "        return model.coef_\n",
    "    def getintercept(self,model):\n",
    "        '''constants in decision function'''\n",
    "        return model.intercept_\n",
    "    def getfitstatus(self,model):\n",
    "        '''0 if correctly fitted, 1 otherwise(will raise warning)'''\n",
    "        return model.fit_status_\n",
    "    def getclasses(self,model):\n",
    "        '''The class label'''\n",
    "        return model.classes_\n",
    "    def getprobA(self,model):\n",
    "        '''array type, shape = [n_class*(n_classes-1)/2]'''\n",
    "        return model.probA_\n",
    "    def getprobB(self,model):\n",
    "        '''array type, shape = [n_class*(n_classes-1)/2].\n",
    "        If probability=True, it corresponds to the parameters \n",
    "        learned in Platt scaling to produce probability estimates \n",
    "        from decision values. If probability=False, it’s an empty array. \n",
    "        Platt scaling uses the logistic function \n",
    "        1 / (1 + exp(decision_value * probA_ + probB_)) \n",
    "        where probA_ and probB_ are learned from the dataset \n",
    "        '''\n",
    "        return model.probA_\n",
    "    def getclassweight(self,model):\n",
    "        '''multipliers of parameter C for each class.'''\n",
    "        return model.class_weight_\n",
    "    def getshapefit(self,model):\n",
    "        return model.shape_fit_"
   ]
  },
  {
   "cell_type": "markdown",
   "metadata": {},
   "source": [
    "## Data Preparation for Classification"
   ]
  },
  {
   "cell_type": "code",
   "execution_count": 169,
   "metadata": {},
   "outputs": [],
   "source": [
    "# Cuisine Types: usa_cuisine ==> 1, non_usa_cuisine ==> 1, no_tags ==> 2\n",
    "c = countTags(epi_data_df)\n",
    "usa_cuisine,non_usa_cuisine = loadCuisineType()\n",
    "allergy_tags = getallergyTags(c)\n",
    "sample_df = epi_data_df.head(10000)\n",
    "sample_df = addCuisinetypesToDF(sample_df,usa_cuisine,non_usa_cuisine)\n",
    "cuisine_df = sample_df\n",
    "sample_df = addallergytoDF(allergy_tags,sample_df)\n",
    "sample_df = dropZeroColumns(sample_df)\n"
   ]
  },
  {
   "cell_type": "code",
   "execution_count": 170,
   "metadata": {},
   "outputs": [
    {
     "data": {
      "text/html": [
       "<div>\n",
       "<style scoped>\n",
       "    .dataframe tbody tr th:only-of-type {\n",
       "        vertical-align: middle;\n",
       "    }\n",
       "\n",
       "    .dataframe tbody tr th {\n",
       "        vertical-align: top;\n",
       "    }\n",
       "\n",
       "    .dataframe thead th {\n",
       "        text-align: right;\n",
       "    }\n",
       "</style>\n",
       "<table border=\"1\" class=\"dataframe\">\n",
       "  <thead>\n",
       "    <tr style=\"text-align: right;\">\n",
       "      <th></th>\n",
       "      <th>\" &gt; panko (japanese bread crumb bread crumb</th>\n",
       "      <th>\" biscuit cutter</th>\n",
       "      <th>\" brown candy \" sugar brown sugar</th>\n",
       "      <th>\" cauliflower floret (cut from 1 large head)</th>\n",
       "      <th>\" cube salt pork</th>\n",
       "      <th>\" large \" egg</th>\n",
       "      <th>\" pie dish</th>\n",
       "      <th>\" piece (about 6 ounce) thick - cut smoke bacon</th>\n",
       "      <th>\" piece ginger, peel, finely grated</th>\n",
       "      <th>\" pita bread</th>\n",
       "      <th>...</th>\n",
       "      <th>num_reviews</th>\n",
       "      <th>tags</th>\n",
       "      <th>title</th>\n",
       "      <th>usa_cuisine</th>\n",
       "      <th>Peanut Free</th>\n",
       "      <th>Soy Free</th>\n",
       "      <th>Tree Nut Free</th>\n",
       "      <th>Wheat/Gluten-Free</th>\n",
       "      <th>Dairy Free</th>\n",
       "      <th>Fat Free</th>\n",
       "    </tr>\n",
       "  </thead>\n",
       "  <tbody>\n",
       "    <tr>\n",
       "      <th>http://www.epicurious.com/recipes/food/views/-adult-pimiento-cheese-100852</th>\n",
       "      <td>0.0</td>\n",
       "      <td>0.0</td>\n",
       "      <td>0.0</td>\n",
       "      <td>0.0</td>\n",
       "      <td>0.0</td>\n",
       "      <td>0.0</td>\n",
       "      <td>0.0</td>\n",
       "      <td>0.0</td>\n",
       "      <td>0.0</td>\n",
       "      <td>0.0</td>\n",
       "      <td>...</td>\n",
       "      <td>25.0</td>\n",
       "      <td>[Cheese, Vegetable, No-Cook, Vegetarian, Quick...</td>\n",
       "      <td>\"Adult\" Pimiento Cheese</td>\n",
       "      <td>1</td>\n",
       "      <td>False</td>\n",
       "      <td>False</td>\n",
       "      <td>False</td>\n",
       "      <td>False</td>\n",
       "      <td>False</td>\n",
       "      <td>False</td>\n",
       "    </tr>\n",
       "    <tr>\n",
       "      <th>http://www.epicurious.com/recipes/food/views/-an-apple-a-day-51133430</th>\n",
       "      <td>0.0</td>\n",
       "      <td>0.0</td>\n",
       "      <td>0.0</td>\n",
       "      <td>0.0</td>\n",
       "      <td>0.0</td>\n",
       "      <td>0.0</td>\n",
       "      <td>0.0</td>\n",
       "      <td>0.0</td>\n",
       "      <td>0.0</td>\n",
       "      <td>0.0</td>\n",
       "      <td>...</td>\n",
       "      <td>3.0</td>\n",
       "      <td>[Ginger, Dessert, Bake, Apple, Almond, Fall, R...</td>\n",
       "      <td>\"An Apple a Day\"</td>\n",
       "      <td>2</td>\n",
       "      <td>True</td>\n",
       "      <td>True</td>\n",
       "      <td>False</td>\n",
       "      <td>False</td>\n",
       "      <td>False</td>\n",
       "      <td>False</td>\n",
       "    </tr>\n",
       "  </tbody>\n",
       "</table>\n",
       "<p>2 rows × 7312 columns</p>\n",
       "</div>"
      ],
      "text/plain": [
       "                                                    \" > panko (japanese bread crumb bread crumb  \\\n",
       "http://www.epicurious.com/recipes/food/views/-a...                                          0.0   \n",
       "http://www.epicurious.com/recipes/food/views/-a...                                          0.0   \n",
       "\n",
       "                                                    \" biscuit cutter  \\\n",
       "http://www.epicurious.com/recipes/food/views/-a...               0.0   \n",
       "http://www.epicurious.com/recipes/food/views/-a...               0.0   \n",
       "\n",
       "                                                    \" brown candy \" sugar brown sugar  \\\n",
       "http://www.epicurious.com/recipes/food/views/-a...                                0.0   \n",
       "http://www.epicurious.com/recipes/food/views/-a...                                0.0   \n",
       "\n",
       "                                                    \" cauliflower floret (cut from 1 large head)  \\\n",
       "http://www.epicurious.com/recipes/food/views/-a...                                           0.0   \n",
       "http://www.epicurious.com/recipes/food/views/-a...                                           0.0   \n",
       "\n",
       "                                                    \" cube salt pork  \\\n",
       "http://www.epicurious.com/recipes/food/views/-a...               0.0   \n",
       "http://www.epicurious.com/recipes/food/views/-a...               0.0   \n",
       "\n",
       "                                                    \" large \" egg  \" pie dish  \\\n",
       "http://www.epicurious.com/recipes/food/views/-a...            0.0         0.0   \n",
       "http://www.epicurious.com/recipes/food/views/-a...            0.0         0.0   \n",
       "\n",
       "                                                    \" piece (about 6 ounce) thick - cut smoke bacon  \\\n",
       "http://www.epicurious.com/recipes/food/views/-a...                                              0.0   \n",
       "http://www.epicurious.com/recipes/food/views/-a...                                              0.0   \n",
       "\n",
       "                                                    \" piece ginger, peel, finely grated  \\\n",
       "http://www.epicurious.com/recipes/food/views/-a...                                  0.0   \n",
       "http://www.epicurious.com/recipes/food/views/-a...                                  0.0   \n",
       "\n",
       "                                                    \" pita bread  ...  \\\n",
       "http://www.epicurious.com/recipes/food/views/-a...           0.0  ...   \n",
       "http://www.epicurious.com/recipes/food/views/-a...           0.0  ...   \n",
       "\n",
       "                                                    num_reviews  \\\n",
       "http://www.epicurious.com/recipes/food/views/-a...         25.0   \n",
       "http://www.epicurious.com/recipes/food/views/-a...          3.0   \n",
       "\n",
       "                                                                                                 tags  \\\n",
       "http://www.epicurious.com/recipes/food/views/-a...  [Cheese, Vegetable, No-Cook, Vegetarian, Quick...   \n",
       "http://www.epicurious.com/recipes/food/views/-a...  [Ginger, Dessert, Bake, Apple, Almond, Fall, R...   \n",
       "\n",
       "                                                                       title  \\\n",
       "http://www.epicurious.com/recipes/food/views/-a...  \"Adult\" Pimiento Cheese    \n",
       "http://www.epicurious.com/recipes/food/views/-a...         \"An Apple a Day\"    \n",
       "\n",
       "                                                    usa_cuisine  Peanut Free  \\\n",
       "http://www.epicurious.com/recipes/food/views/-a...            1        False   \n",
       "http://www.epicurious.com/recipes/food/views/-a...            2         True   \n",
       "\n",
       "                                                    Soy Free  Tree Nut Free  \\\n",
       "http://www.epicurious.com/recipes/food/views/-a...     False          False   \n",
       "http://www.epicurious.com/recipes/food/views/-a...      True          False   \n",
       "\n",
       "                                                    Wheat/Gluten-Free  \\\n",
       "http://www.epicurious.com/recipes/food/views/-a...              False   \n",
       "http://www.epicurious.com/recipes/food/views/-a...              False   \n",
       "\n",
       "                                                    Dairy Free  Fat Free  \n",
       "http://www.epicurious.com/recipes/food/views/-a...       False     False  \n",
       "http://www.epicurious.com/recipes/food/views/-a...       False     False  \n",
       "\n",
       "[2 rows x 7312 columns]"
      ]
     },
     "execution_count": 170,
     "metadata": {},
     "output_type": "execute_result"
    }
   ],
   "source": [
    "sample_df.head(2)"
   ]
  },
  {
   "cell_type": "code",
   "execution_count": 276,
   "metadata": {},
   "outputs": [],
   "source": [
    "# c[c['tag'] == 'Peanut']"
   ]
  },
  {
   "cell_type": "code",
   "execution_count": 275,
   "metadata": {},
   "outputs": [],
   "source": [
    "# c[c['tag'] == 'Summer']\n",
    "# c[c['tag'] == 'Winter']\n",
    "# c[c['tag'] == 'Fall']\n",
    "# c[c['tag'] == 'Spring']\n"
   ]
  },
  {
   "cell_type": "code",
   "execution_count": 277,
   "metadata": {},
   "outputs": [],
   "source": [
    "def addSeasontypesToDF(sample_df,season,label):\n",
    "    tags_value=[]\n",
    "    print(season[0])\n",
    "    for tags in sample_df['tags']:\n",
    "        if(season[0] in set(tags)): #spring\n",
    "            tags_value.append(1)\n",
    "        elif(season[1] in set(tags)): #summer\n",
    "            tags_value.append(2)\n",
    "        elif(season[2] in set(tags)): #fall\n",
    "            tags_value.append(3)\n",
    "        elif(season[3] in set(tags)): #winter\n",
    "            tags_value.append(4)\n",
    "        else:\n",
    "            tags_value.append(0) # for non-season food\n",
    "    sample_df[label] = tags_value\n",
    "    return sample_df"
   ]
  },
  {
   "cell_type": "code",
   "execution_count": 279,
   "metadata": {},
   "outputs": [
    {
     "name": "stdout",
     "output_type": "stream",
     "text": [
      "Spring\n"
     ]
    },
    {
     "data": {
      "text/html": [
       "<div>\n",
       "<style scoped>\n",
       "    .dataframe tbody tr th:only-of-type {\n",
       "        vertical-align: middle;\n",
       "    }\n",
       "\n",
       "    .dataframe tbody tr th {\n",
       "        vertical-align: top;\n",
       "    }\n",
       "\n",
       "    .dataframe thead th {\n",
       "        text-align: right;\n",
       "    }\n",
       "</style>\n",
       "<table border=\"1\" class=\"dataframe\">\n",
       "  <thead>\n",
       "    <tr style=\"text-align: right;\">\n",
       "      <th></th>\n",
       "      <th>\" &gt; panko (japanese bread crumb bread crumb</th>\n",
       "      <th>\" biscuit cutter</th>\n",
       "      <th>\" brown candy \" sugar brown sugar</th>\n",
       "      <th>\" cauliflower floret (cut from 1 large head)</th>\n",
       "      <th>\" cube salt pork</th>\n",
       "      <th>\" large \" egg</th>\n",
       "      <th>\" pie dish</th>\n",
       "      <th>\" piece (about 6 ounce) thick - cut smoke bacon</th>\n",
       "      <th>\" piece ginger, peel, finely grated</th>\n",
       "      <th>\" pita bread</th>\n",
       "      <th>...</th>\n",
       "      <th>tags</th>\n",
       "      <th>title</th>\n",
       "      <th>usa_cuisine</th>\n",
       "      <th>Peanut Free</th>\n",
       "      <th>Soy Free</th>\n",
       "      <th>Tree Nut Free</th>\n",
       "      <th>Wheat/Gluten-Free</th>\n",
       "      <th>Dairy Free</th>\n",
       "      <th>Fat Free</th>\n",
       "      <th>season</th>\n",
       "    </tr>\n",
       "  </thead>\n",
       "  <tbody>\n",
       "    <tr>\n",
       "      <th>http://www.epicurious.com/recipes/food/views/-adult-pimiento-cheese-100852</th>\n",
       "      <td>0.0</td>\n",
       "      <td>0.0</td>\n",
       "      <td>0.0</td>\n",
       "      <td>0.0</td>\n",
       "      <td>0.0</td>\n",
       "      <td>0.0</td>\n",
       "      <td>0.0</td>\n",
       "      <td>0.0</td>\n",
       "      <td>0.0</td>\n",
       "      <td>0.0</td>\n",
       "      <td>...</td>\n",
       "      <td>[Cheese, Vegetable, No-Cook, Vegetarian, Quick...</td>\n",
       "      <td>\"Adult\" Pimiento Cheese</td>\n",
       "      <td>1</td>\n",
       "      <td>False</td>\n",
       "      <td>False</td>\n",
       "      <td>False</td>\n",
       "      <td>False</td>\n",
       "      <td>False</td>\n",
       "      <td>False</td>\n",
       "      <td>4</td>\n",
       "    </tr>\n",
       "    <tr>\n",
       "      <th>http://www.epicurious.com/recipes/food/views/-an-apple-a-day-51133430</th>\n",
       "      <td>0.0</td>\n",
       "      <td>0.0</td>\n",
       "      <td>0.0</td>\n",
       "      <td>0.0</td>\n",
       "      <td>0.0</td>\n",
       "      <td>0.0</td>\n",
       "      <td>0.0</td>\n",
       "      <td>0.0</td>\n",
       "      <td>0.0</td>\n",
       "      <td>0.0</td>\n",
       "      <td>...</td>\n",
       "      <td>[Ginger, Dessert, Bake, Apple, Almond, Fall, R...</td>\n",
       "      <td>\"An Apple a Day\"</td>\n",
       "      <td>2</td>\n",
       "      <td>True</td>\n",
       "      <td>True</td>\n",
       "      <td>False</td>\n",
       "      <td>False</td>\n",
       "      <td>False</td>\n",
       "      <td>False</td>\n",
       "      <td>3</td>\n",
       "    </tr>\n",
       "    <tr>\n",
       "      <th>http://www.epicurious.com/recipes/food/views/-blanketed-eggplant-305</th>\n",
       "      <td>0.0</td>\n",
       "      <td>0.0</td>\n",
       "      <td>0.0</td>\n",
       "      <td>0.0</td>\n",
       "      <td>0.0</td>\n",
       "      <td>0.0</td>\n",
       "      <td>0.0</td>\n",
       "      <td>0.0</td>\n",
       "      <td>0.0</td>\n",
       "      <td>0.0</td>\n",
       "      <td>...</td>\n",
       "      <td>[Tomato, Vegetable, Appetizer, Side, Vegetaria...</td>\n",
       "      <td>\"Blanketed\" Eggplant</td>\n",
       "      <td>2</td>\n",
       "      <td>False</td>\n",
       "      <td>False</td>\n",
       "      <td>False</td>\n",
       "      <td>False</td>\n",
       "      <td>False</td>\n",
       "      <td>False</td>\n",
       "      <td>0</td>\n",
       "    </tr>\n",
       "    <tr>\n",
       "      <th>http://www.epicurious.com/recipes/food/views/-bloody-mary-tomato-toast-with-celery-and-horseradish-56389813</th>\n",
       "      <td>0.0</td>\n",
       "      <td>0.0</td>\n",
       "      <td>0.0</td>\n",
       "      <td>0.0</td>\n",
       "      <td>0.0</td>\n",
       "      <td>0.0</td>\n",
       "      <td>0.0</td>\n",
       "      <td>0.0</td>\n",
       "      <td>0.0</td>\n",
       "      <td>0.0</td>\n",
       "      <td>...</td>\n",
       "      <td>[Condiment/Spread, Tomato, Appetizer, Kid-Frie...</td>\n",
       "      <td>\"Bloody Mary\" Tomato Toast with Celery and Hor...</td>\n",
       "      <td>2</td>\n",
       "      <td>True</td>\n",
       "      <td>True</td>\n",
       "      <td>True</td>\n",
       "      <td>False</td>\n",
       "      <td>True</td>\n",
       "      <td>False</td>\n",
       "      <td>1</td>\n",
       "    </tr>\n",
       "    <tr>\n",
       "      <th>http://www.epicurious.com/recipes/food/views/-bow-tie-pasta-with-zucchini-101932</th>\n",
       "      <td>0.0</td>\n",
       "      <td>0.0</td>\n",
       "      <td>0.0</td>\n",
       "      <td>0.0</td>\n",
       "      <td>0.0</td>\n",
       "      <td>0.0</td>\n",
       "      <td>0.0</td>\n",
       "      <td>0.0</td>\n",
       "      <td>0.0</td>\n",
       "      <td>0.0</td>\n",
       "      <td>...</td>\n",
       "      <td>[Pasta, Vegetarian, Quick &amp; Easy, Dinner, Basi...</td>\n",
       "      <td>\"Bow-Tie\" Pasta with Zucchini</td>\n",
       "      <td>2</td>\n",
       "      <td>True</td>\n",
       "      <td>True</td>\n",
       "      <td>True</td>\n",
       "      <td>False</td>\n",
       "      <td>False</td>\n",
       "      <td>False</td>\n",
       "      <td>2</td>\n",
       "    </tr>\n",
       "  </tbody>\n",
       "</table>\n",
       "<p>5 rows × 7313 columns</p>\n",
       "</div>"
      ],
      "text/plain": [
       "                                                    \" > panko (japanese bread crumb bread crumb  \\\n",
       "http://www.epicurious.com/recipes/food/views/-a...                                          0.0   \n",
       "http://www.epicurious.com/recipes/food/views/-a...                                          0.0   \n",
       "http://www.epicurious.com/recipes/food/views/-b...                                          0.0   \n",
       "http://www.epicurious.com/recipes/food/views/-b...                                          0.0   \n",
       "http://www.epicurious.com/recipes/food/views/-b...                                          0.0   \n",
       "\n",
       "                                                    \" biscuit cutter  \\\n",
       "http://www.epicurious.com/recipes/food/views/-a...               0.0   \n",
       "http://www.epicurious.com/recipes/food/views/-a...               0.0   \n",
       "http://www.epicurious.com/recipes/food/views/-b...               0.0   \n",
       "http://www.epicurious.com/recipes/food/views/-b...               0.0   \n",
       "http://www.epicurious.com/recipes/food/views/-b...               0.0   \n",
       "\n",
       "                                                    \" brown candy \" sugar brown sugar  \\\n",
       "http://www.epicurious.com/recipes/food/views/-a...                                0.0   \n",
       "http://www.epicurious.com/recipes/food/views/-a...                                0.0   \n",
       "http://www.epicurious.com/recipes/food/views/-b...                                0.0   \n",
       "http://www.epicurious.com/recipes/food/views/-b...                                0.0   \n",
       "http://www.epicurious.com/recipes/food/views/-b...                                0.0   \n",
       "\n",
       "                                                    \" cauliflower floret (cut from 1 large head)  \\\n",
       "http://www.epicurious.com/recipes/food/views/-a...                                           0.0   \n",
       "http://www.epicurious.com/recipes/food/views/-a...                                           0.0   \n",
       "http://www.epicurious.com/recipes/food/views/-b...                                           0.0   \n",
       "http://www.epicurious.com/recipes/food/views/-b...                                           0.0   \n",
       "http://www.epicurious.com/recipes/food/views/-b...                                           0.0   \n",
       "\n",
       "                                                    \" cube salt pork  \\\n",
       "http://www.epicurious.com/recipes/food/views/-a...               0.0   \n",
       "http://www.epicurious.com/recipes/food/views/-a...               0.0   \n",
       "http://www.epicurious.com/recipes/food/views/-b...               0.0   \n",
       "http://www.epicurious.com/recipes/food/views/-b...               0.0   \n",
       "http://www.epicurious.com/recipes/food/views/-b...               0.0   \n",
       "\n",
       "                                                    \" large \" egg  \" pie dish  \\\n",
       "http://www.epicurious.com/recipes/food/views/-a...            0.0         0.0   \n",
       "http://www.epicurious.com/recipes/food/views/-a...            0.0         0.0   \n",
       "http://www.epicurious.com/recipes/food/views/-b...            0.0         0.0   \n",
       "http://www.epicurious.com/recipes/food/views/-b...            0.0         0.0   \n",
       "http://www.epicurious.com/recipes/food/views/-b...            0.0         0.0   \n",
       "\n",
       "                                                    \" piece (about 6 ounce) thick - cut smoke bacon  \\\n",
       "http://www.epicurious.com/recipes/food/views/-a...                                              0.0   \n",
       "http://www.epicurious.com/recipes/food/views/-a...                                              0.0   \n",
       "http://www.epicurious.com/recipes/food/views/-b...                                              0.0   \n",
       "http://www.epicurious.com/recipes/food/views/-b...                                              0.0   \n",
       "http://www.epicurious.com/recipes/food/views/-b...                                              0.0   \n",
       "\n",
       "                                                    \" piece ginger, peel, finely grated  \\\n",
       "http://www.epicurious.com/recipes/food/views/-a...                                  0.0   \n",
       "http://www.epicurious.com/recipes/food/views/-a...                                  0.0   \n",
       "http://www.epicurious.com/recipes/food/views/-b...                                  0.0   \n",
       "http://www.epicurious.com/recipes/food/views/-b...                                  0.0   \n",
       "http://www.epicurious.com/recipes/food/views/-b...                                  0.0   \n",
       "\n",
       "                                                    \" pita bread  ...  \\\n",
       "http://www.epicurious.com/recipes/food/views/-a...           0.0  ...   \n",
       "http://www.epicurious.com/recipes/food/views/-a...           0.0  ...   \n",
       "http://www.epicurious.com/recipes/food/views/-b...           0.0  ...   \n",
       "http://www.epicurious.com/recipes/food/views/-b...           0.0  ...   \n",
       "http://www.epicurious.com/recipes/food/views/-b...           0.0  ...   \n",
       "\n",
       "                                                                                                 tags  \\\n",
       "http://www.epicurious.com/recipes/food/views/-a...  [Cheese, Vegetable, No-Cook, Vegetarian, Quick...   \n",
       "http://www.epicurious.com/recipes/food/views/-a...  [Ginger, Dessert, Bake, Apple, Almond, Fall, R...   \n",
       "http://www.epicurious.com/recipes/food/views/-b...  [Tomato, Vegetable, Appetizer, Side, Vegetaria...   \n",
       "http://www.epicurious.com/recipes/food/views/-b...  [Condiment/Spread, Tomato, Appetizer, Kid-Frie...   \n",
       "http://www.epicurious.com/recipes/food/views/-b...  [Pasta, Vegetarian, Quick & Easy, Dinner, Basi...   \n",
       "\n",
       "                                                                                                title  \\\n",
       "http://www.epicurious.com/recipes/food/views/-a...                           \"Adult\" Pimiento Cheese    \n",
       "http://www.epicurious.com/recipes/food/views/-a...                                  \"An Apple a Day\"    \n",
       "http://www.epicurious.com/recipes/food/views/-b...                              \"Blanketed\" Eggplant    \n",
       "http://www.epicurious.com/recipes/food/views/-b...  \"Bloody Mary\" Tomato Toast with Celery and Hor...   \n",
       "http://www.epicurious.com/recipes/food/views/-b...                     \"Bow-Tie\" Pasta with Zucchini    \n",
       "\n",
       "                                                    usa_cuisine  Peanut Free  \\\n",
       "http://www.epicurious.com/recipes/food/views/-a...            1        False   \n",
       "http://www.epicurious.com/recipes/food/views/-a...            2         True   \n",
       "http://www.epicurious.com/recipes/food/views/-b...            2        False   \n",
       "http://www.epicurious.com/recipes/food/views/-b...            2         True   \n",
       "http://www.epicurious.com/recipes/food/views/-b...            2         True   \n",
       "\n",
       "                                                    Soy Free  Tree Nut Free  \\\n",
       "http://www.epicurious.com/recipes/food/views/-a...     False          False   \n",
       "http://www.epicurious.com/recipes/food/views/-a...      True          False   \n",
       "http://www.epicurious.com/recipes/food/views/-b...     False          False   \n",
       "http://www.epicurious.com/recipes/food/views/-b...      True           True   \n",
       "http://www.epicurious.com/recipes/food/views/-b...      True           True   \n",
       "\n",
       "                                                    Wheat/Gluten-Free  \\\n",
       "http://www.epicurious.com/recipes/food/views/-a...              False   \n",
       "http://www.epicurious.com/recipes/food/views/-a...              False   \n",
       "http://www.epicurious.com/recipes/food/views/-b...              False   \n",
       "http://www.epicurious.com/recipes/food/views/-b...              False   \n",
       "http://www.epicurious.com/recipes/food/views/-b...              False   \n",
       "\n",
       "                                                    Dairy Free  Fat Free  \\\n",
       "http://www.epicurious.com/recipes/food/views/-a...       False     False   \n",
       "http://www.epicurious.com/recipes/food/views/-a...       False     False   \n",
       "http://www.epicurious.com/recipes/food/views/-b...       False     False   \n",
       "http://www.epicurious.com/recipes/food/views/-b...        True     False   \n",
       "http://www.epicurious.com/recipes/food/views/-b...       False     False   \n",
       "\n",
       "                                                    season  \n",
       "http://www.epicurious.com/recipes/food/views/-a...       4  \n",
       "http://www.epicurious.com/recipes/food/views/-a...       3  \n",
       "http://www.epicurious.com/recipes/food/views/-b...       0  \n",
       "http://www.epicurious.com/recipes/food/views/-b...       1  \n",
       "http://www.epicurious.com/recipes/food/views/-b...       2  \n",
       "\n",
       "[5 rows x 7313 columns]"
      ]
     },
     "execution_count": 279,
     "metadata": {},
     "output_type": "execute_result"
    }
   ],
   "source": [
    "addSeasontypesToDF(sample_df,['Spring','Summer','Fall','Winter'],'season').head()"
   ]
  },
  {
   "cell_type": "code",
   "execution_count": 281,
   "metadata": {},
   "outputs": [
    {
     "data": {
      "text/plain": [
       "Counter({4: 1084, 3: 1518, 0: 5098, 1: 700, 2: 1600})"
      ]
     },
     "execution_count": 281,
     "metadata": {},
     "output_type": "execute_result"
    }
   ],
   "source": [
    "c = Counter()\n",
    "c.update(sample_df.season)\n",
    "c"
   ]
  },
  {
   "cell_type": "code",
   "execution_count": 282,
   "metadata": {},
   "outputs": [
    {
     "data": {
      "text/plain": [
       "(10000, 7313)"
      ]
     },
     "execution_count": 282,
     "metadata": {},
     "output_type": "execute_result"
    }
   ],
   "source": [
    "sample_df.shape"
   ]
  },
  {
   "cell_type": "code",
   "execution_count": 283,
   "metadata": {},
   "outputs": [],
   "source": [
    "spring = []\n",
    "summer = []\n",
    "fall = []\n",
    "winter =[]\n",
    "spring_df = sample_df.tags[sample_df['season']==1].values\n",
    "summer_df = sample_df.tags[sample_df['season']==2].values\n",
    "fall_df = sample_df.tags[sample_df['season']==3].values\n",
    "winter_df = sample_df.tags[sample_df['season']==4].values"
   ]
  },
  {
   "cell_type": "code",
   "execution_count": 302,
   "metadata": {
    "scrolled": false
   },
   "outputs": [
    {
     "name": "stdout",
     "output_type": "stream",
     "text": [
      "Tags list Containing Peanut Ingredient, but not Peanut Free tag 89\n"
     ]
    },
    {
     "data": {
      "text/plain": [
       "[('Peanut', 89),\n",
       " ('Tree Nut Free', 52),\n",
       " ('Soy Free', 45),\n",
       " ('Vegetarian', 45),\n",
       " ('Kosher', 42),\n",
       " ('Bon Appétit', 40),\n",
       " ('Pescatarian', 38),\n",
       " ('Dessert', 36),\n",
       " ('Gourmet', 31),\n",
       " ('Bake', 28)]"
      ]
     },
     "execution_count": 302,
     "metadata": {},
     "output_type": "execute_result"
    }
   ],
   "source": [
    "s = Counter()\n",
    "tags_list = []\n",
    "count = 0\n",
    "for tags in sample_df['tags']:\n",
    "    if('Peanut' in tags):\n",
    "#         print(tags)\n",
    "        count +=1\n",
    "        for i in tags:\n",
    "            tags_list.append(i)\n",
    "\n",
    "print(\"Tags list Containing Peanut Ingredient, but not Peanut Free tag\",count)\n",
    "s.update(tags_list)\n",
    "s.most_common(10)"
   ]
  },
  {
   "cell_type": "code",
   "execution_count": 303,
   "metadata": {
    "scrolled": false
   },
   "outputs": [
    {
     "data": {
      "image/png": "[encoded data removed]",
      "text/plain": [
       "<Figure size 576x396 with 1 Axes>"
      ]
     },
     "metadata": {},
     "output_type": "display_data"
    }
   ],
   "source": [
    "s = Counter()\n",
    "for i in range(len(spring_df)):\n",
    "    s.update(spring_df[i])\n",
    "s = [i for i in s.most_common(30) if(i[0] != 'Spring' and i[0] !='Gourmet' and \"Bon App\" not in i[0])]\n",
    "keys = [x[0] for x in s]\n",
    "values = [x[1] for x in s]\n",
    "plt.barh(keys[::-1],values[::-1])\n",
    "plt.show()"
   ]
  },
  {
   "cell_type": "code",
   "execution_count": 306,
   "metadata": {},
   "outputs": [
    {
     "data": {
      "image/png": "[encoded data removed]",
      "text/plain": [
       "<Figure size 576x396 with 1 Axes>"
      ]
     },
     "metadata": {},
     "output_type": "display_data"
    }
   ],
   "source": [
    "su = Counter()\n",
    "for i in range(len(summer_df)):\n",
    "    su.update(summer_df[i])\n",
    "su = [i for i in su.most_common(30) if(i[0] != 'Summer' and i[0] !='Gourmet' and \"Bon App\" not in i[0])]\n",
    "keys = [x[0] for x in su]\n",
    "values = [x[1] for x in su]\n",
    "plt.barh(keys[::-1],values[::-1])\n",
    "plt.show()"
   ]
  },
  {
   "cell_type": "code",
   "execution_count": 273,
   "metadata": {},
   "outputs": [
    {
     "data": {
      "image/png": "[encoded data removed]",
      "text/plain": [
       "<Figure size 576x396 with 1 Axes>"
      ]
     },
     "metadata": {},
     "output_type": "display_data"
    }
   ],
   "source": [
    "f = Counter()\n",
    "for i in range(len(fall_df)):\n",
    "    f.update(fall_df[i])\n",
    "f = [i for i in f.most_common(30) if(i[0] != 'Fall' and i[0] !='Gourmet' and \"Bon App\" not in i[0])]\n",
    "keys = [x[0] for x in f]\n",
    "values = [x[1] for x in f]\n",
    "plt.barh(keys[::-1],values[::-1])\n",
    "plt.xticks(rotation=90)\n",
    "plt.show()"
   ]
  },
  {
   "cell_type": "code",
   "execution_count": 274,
   "metadata": {},
   "outputs": [
    {
     "data": {
      "image/png": "[encoded data removed]",
      "text/plain": [
       "<Figure size 576x396 with 1 Axes>"
      ]
     },
     "metadata": {},
     "output_type": "display_data"
    }
   ],
   "source": [
    "w = Counter()\n",
    "for i in range(len(winter_df)):\n",
    "    w.update(winter_df[i])\n",
    "w = [i for i in w.most_common(30) if(i[0] != 'Winter' and i[0] !='Gourmet' and \"Bon App\" not in i[0])]\n",
    "keys = [x[0] for x in w]\n",
    "values = [x[1] for x in w]\n",
    "plt.barh(keys[::-1],values[::-1])\n",
    "plt.xticks(rotation=90)\n",
    "plt.show()"
   ]
  },
  {
   "cell_type": "code",
   "execution_count": 135,
   "metadata": {
    "scrolled": false
   },
   "outputs": [],
   "source": [
    "# for i in sample_df.tags:\n",
    "#     for j in i:\n",
    "#         if(j == 'Peanut'):\n",
    "#             print(i)"
   ]
  },
  {
   "cell_type": "code",
   "execution_count": 129,
   "metadata": {},
   "outputs": [
    {
     "name": "stdout",
     "output_type": "stream",
     "text": [
      "10000\n"
     ]
    },
    {
     "data": {
      "text/plain": [
       "10000"
      ]
     },
     "execution_count": 129,
     "metadata": {},
     "output_type": "execute_result"
    }
   ],
   "source": [
    "n = sample_df['tags'].str.contains('Peanut').values\n",
    "print(len(np.isnan(n)))\n",
    "len(n)"
   ]
  },
  {
   "cell_type": "code",
   "execution_count": null,
   "metadata": {
    "scrolled": true
   },
   "outputs": [],
   "source": []
  },
  {
   "cell_type": "code",
   "execution_count": null,
   "metadata": {},
   "outputs": [],
   "source": []
  },
  {
   "cell_type": "markdown",
   "metadata": {},
   "source": [
    "### Plot Correlation for Allergy Features"
   ]
  },
  {
   "cell_type": "code",
   "execution_count": 21,
   "metadata": {},
   "outputs": [],
   "source": [
    "# sns.heatmap(corr, xticklabels=corr.columns, yticklabels=corr.columns, \n",
    "#             cmap=sns.diverging_palette(220, 10, as_cmap=True))"
   ]
  },
  {
   "cell_type": "code",
   "execution_count": 22,
   "metadata": {
    "scrolled": true
   },
   "outputs": [
    {
     "data": {
      "text/plain": [
       "(10000, 7312)"
      ]
     },
     "execution_count": 22,
     "metadata": {},
     "output_type": "execute_result"
    }
   ],
   "source": [
    "sample_df.shape"
   ]
  },
  {
   "cell_type": "code",
   "execution_count": 23,
   "metadata": {},
   "outputs": [
    {
     "data": {
      "text/html": [
       "<div>\n",
       "<style scoped>\n",
       "    .dataframe tbody tr th:only-of-type {\n",
       "        vertical-align: middle;\n",
       "    }\n",
       "\n",
       "    .dataframe tbody tr th {\n",
       "        vertical-align: top;\n",
       "    }\n",
       "\n",
       "    .dataframe thead th {\n",
       "        text-align: right;\n",
       "    }\n",
       "</style>\n",
       "<table border=\"1\" class=\"dataframe\">\n",
       "  <thead>\n",
       "    <tr style=\"text-align: right;\">\n",
       "      <th></th>\n",
       "      <th>\" &gt; panko (japanese bread crumb bread crumb</th>\n",
       "      <th>\" biscuit cutter</th>\n",
       "      <th>\" brown candy \" sugar brown sugar</th>\n",
       "      <th>\" cauliflower floret (cut from 1 large head)</th>\n",
       "      <th>\" cube salt pork</th>\n",
       "      <th>\" large \" egg</th>\n",
       "      <th>\" pie dish</th>\n",
       "      <th>\" piece (about 6 ounce) thick - cut smoke bacon</th>\n",
       "      <th>\" piece ginger, peel, finely grated</th>\n",
       "      <th>\" pita bread</th>\n",
       "      <th>...</th>\n",
       "      <th>num_reviews</th>\n",
       "      <th>tags</th>\n",
       "      <th>title</th>\n",
       "      <th>usa_cuisine</th>\n",
       "      <th>Peanut Free</th>\n",
       "      <th>Soy Free</th>\n",
       "      <th>Tree Nut Free</th>\n",
       "      <th>Wheat/Gluten-Free</th>\n",
       "      <th>Dairy Free</th>\n",
       "      <th>Fat Free</th>\n",
       "    </tr>\n",
       "  </thead>\n",
       "  <tbody>\n",
       "    <tr>\n",
       "      <th>http://www.epicurious.com/recipes/food/views/-adult-pimiento-cheese-100852</th>\n",
       "      <td>0.0</td>\n",
       "      <td>0.0</td>\n",
       "      <td>0.0</td>\n",
       "      <td>0.0</td>\n",
       "      <td>0.0</td>\n",
       "      <td>0.0</td>\n",
       "      <td>0.0</td>\n",
       "      <td>0.0</td>\n",
       "      <td>0.0</td>\n",
       "      <td>0.0</td>\n",
       "      <td>...</td>\n",
       "      <td>25.0</td>\n",
       "      <td>[Cheese, Vegetable, No-Cook, Vegetarian, Quick...</td>\n",
       "      <td>\"Adult\" Pimiento Cheese</td>\n",
       "      <td>1</td>\n",
       "      <td>0</td>\n",
       "      <td>0</td>\n",
       "      <td>0</td>\n",
       "      <td>0</td>\n",
       "      <td>0</td>\n",
       "      <td>0</td>\n",
       "    </tr>\n",
       "  </tbody>\n",
       "</table>\n",
       "<p>1 rows × 7312 columns</p>\n",
       "</div>"
      ],
      "text/plain": [
       "                                                    \" > panko (japanese bread crumb bread crumb  \\\n",
       "http://www.epicurious.com/recipes/food/views/-a...                                          0.0   \n",
       "\n",
       "                                                    \" biscuit cutter  \\\n",
       "http://www.epicurious.com/recipes/food/views/-a...               0.0   \n",
       "\n",
       "                                                    \" brown candy \" sugar brown sugar  \\\n",
       "http://www.epicurious.com/recipes/food/views/-a...                                0.0   \n",
       "\n",
       "                                                    \" cauliflower floret (cut from 1 large head)  \\\n",
       "http://www.epicurious.com/recipes/food/views/-a...                                           0.0   \n",
       "\n",
       "                                                    \" cube salt pork  \\\n",
       "http://www.epicurious.com/recipes/food/views/-a...               0.0   \n",
       "\n",
       "                                                    \" large \" egg  \" pie dish  \\\n",
       "http://www.epicurious.com/recipes/food/views/-a...            0.0         0.0   \n",
       "\n",
       "                                                    \" piece (about 6 ounce) thick - cut smoke bacon  \\\n",
       "http://www.epicurious.com/recipes/food/views/-a...                                              0.0   \n",
       "\n",
       "                                                    \" piece ginger, peel, finely grated  \\\n",
       "http://www.epicurious.com/recipes/food/views/-a...                                  0.0   \n",
       "\n",
       "                                                    \" pita bread  ...  \\\n",
       "http://www.epicurious.com/recipes/food/views/-a...           0.0  ...   \n",
       "\n",
       "                                                    num_reviews  \\\n",
       "http://www.epicurious.com/recipes/food/views/-a...         25.0   \n",
       "\n",
       "                                                                                                 tags  \\\n",
       "http://www.epicurious.com/recipes/food/views/-a...  [Cheese, Vegetable, No-Cook, Vegetarian, Quick...   \n",
       "\n",
       "                                                                       title  \\\n",
       "http://www.epicurious.com/recipes/food/views/-a...  \"Adult\" Pimiento Cheese    \n",
       "\n",
       "                                                    usa_cuisine  Peanut Free  \\\n",
       "http://www.epicurious.com/recipes/food/views/-a...            1            0   \n",
       "\n",
       "                                                    Soy Free  Tree Nut Free  \\\n",
       "http://www.epicurious.com/recipes/food/views/-a...         0              0   \n",
       "\n",
       "                                                    Wheat/Gluten-Free  \\\n",
       "http://www.epicurious.com/recipes/food/views/-a...                  0   \n",
       "\n",
       "                                                    Dairy Free  Fat Free  \n",
       "http://www.epicurious.com/recipes/food/views/-a...           0         0  \n",
       "\n",
       "[1 rows x 7312 columns]"
      ]
     },
     "execution_count": 23,
     "metadata": {},
     "output_type": "execute_result"
    }
   ],
   "source": [
    "allergy = ['Peanut Free','Soy Free','Tree Nut Free','Wheat/Gluten-Free','Dairy Free','Fat Free','usa_cuisine']\n",
    "sample_df[allergy] *= 1\n",
    "sample_df.head(1)"
   ]
  },
  {
   "cell_type": "code",
   "execution_count": 24,
   "metadata": {},
   "outputs": [],
   "source": [
    "allergy_corr_df = sample_df[allergy]"
   ]
  },
  {
   "cell_type": "code",
   "execution_count": 25,
   "metadata": {},
   "outputs": [
    {
     "data": {
      "text/html": [
       "<div>\n",
       "<style scoped>\n",
       "    .dataframe tbody tr th:only-of-type {\n",
       "        vertical-align: middle;\n",
       "    }\n",
       "\n",
       "    .dataframe tbody tr th {\n",
       "        vertical-align: top;\n",
       "    }\n",
       "\n",
       "    .dataframe thead th {\n",
       "        text-align: right;\n",
       "    }\n",
       "</style>\n",
       "<table border=\"1\" class=\"dataframe\">\n",
       "  <thead>\n",
       "    <tr style=\"text-align: right;\">\n",
       "      <th></th>\n",
       "      <th>Peanut Free</th>\n",
       "      <th>Soy Free</th>\n",
       "      <th>Tree Nut Free</th>\n",
       "      <th>Wheat/Gluten-Free</th>\n",
       "      <th>Dairy Free</th>\n",
       "      <th>Fat Free</th>\n",
       "      <th>usa_cuisine</th>\n",
       "    </tr>\n",
       "  </thead>\n",
       "  <tbody>\n",
       "    <tr>\n",
       "      <th>Peanut Free</th>\n",
       "      <td>1.000000</td>\n",
       "      <td>0.936212</td>\n",
       "      <td>0.791655</td>\n",
       "      <td>0.505269</td>\n",
       "      <td>0.385601</td>\n",
       "      <td>0.135089</td>\n",
       "      <td>0.036579</td>\n",
       "    </tr>\n",
       "    <tr>\n",
       "      <th>Soy Free</th>\n",
       "      <td>0.936212</td>\n",
       "      <td>1.000000</td>\n",
       "      <td>0.770314</td>\n",
       "      <td>0.522209</td>\n",
       "      <td>0.330559</td>\n",
       "      <td>0.134076</td>\n",
       "      <td>0.043605</td>\n",
       "    </tr>\n",
       "    <tr>\n",
       "      <th>Tree Nut Free</th>\n",
       "      <td>0.791655</td>\n",
       "      <td>0.770314</td>\n",
       "      <td>1.000000</td>\n",
       "      <td>0.459500</td>\n",
       "      <td>0.408854</td>\n",
       "      <td>0.160164</td>\n",
       "      <td>0.042681</td>\n",
       "    </tr>\n",
       "    <tr>\n",
       "      <th>Wheat/Gluten-Free</th>\n",
       "      <td>0.505269</td>\n",
       "      <td>0.522209</td>\n",
       "      <td>0.459500</td>\n",
       "      <td>1.000000</td>\n",
       "      <td>0.412612</td>\n",
       "      <td>0.199519</td>\n",
       "      <td>0.023238</td>\n",
       "    </tr>\n",
       "    <tr>\n",
       "      <th>Dairy Free</th>\n",
       "      <td>0.385601</td>\n",
       "      <td>0.330559</td>\n",
       "      <td>0.408854</td>\n",
       "      <td>0.412612</td>\n",
       "      <td>1.000000</td>\n",
       "      <td>0.314115</td>\n",
       "      <td>0.002851</td>\n",
       "    </tr>\n",
       "    <tr>\n",
       "      <th>Fat Free</th>\n",
       "      <td>0.135089</td>\n",
       "      <td>0.134076</td>\n",
       "      <td>0.160164</td>\n",
       "      <td>0.199519</td>\n",
       "      <td>0.314115</td>\n",
       "      <td>1.000000</td>\n",
       "      <td>0.020198</td>\n",
       "    </tr>\n",
       "    <tr>\n",
       "      <th>usa_cuisine</th>\n",
       "      <td>0.036579</td>\n",
       "      <td>0.043605</td>\n",
       "      <td>0.042681</td>\n",
       "      <td>0.023238</td>\n",
       "      <td>0.002851</td>\n",
       "      <td>0.020198</td>\n",
       "      <td>1.000000</td>\n",
       "    </tr>\n",
       "  </tbody>\n",
       "</table>\n",
       "</div>"
      ],
      "text/plain": [
       "                   Peanut Free  Soy Free  Tree Nut Free  Wheat/Gluten-Free  \\\n",
       "Peanut Free           1.000000  0.936212       0.791655           0.505269   \n",
       "Soy Free              0.936212  1.000000       0.770314           0.522209   \n",
       "Tree Nut Free         0.791655  0.770314       1.000000           0.459500   \n",
       "Wheat/Gluten-Free     0.505269  0.522209       0.459500           1.000000   \n",
       "Dairy Free            0.385601  0.330559       0.408854           0.412612   \n",
       "Fat Free              0.135089  0.134076       0.160164           0.199519   \n",
       "usa_cuisine           0.036579  0.043605       0.042681           0.023238   \n",
       "\n",
       "                   Dairy Free  Fat Free  usa_cuisine  \n",
       "Peanut Free          0.385601  0.135089     0.036579  \n",
       "Soy Free             0.330559  0.134076     0.043605  \n",
       "Tree Nut Free        0.408854  0.160164     0.042681  \n",
       "Wheat/Gluten-Free    0.412612  0.199519     0.023238  \n",
       "Dairy Free           1.000000  0.314115     0.002851  \n",
       "Fat Free             0.314115  1.000000     0.020198  \n",
       "usa_cuisine          0.002851  0.020198     1.000000  "
      ]
     },
     "execution_count": 25,
     "metadata": {},
     "output_type": "execute_result"
    }
   ],
   "source": [
    "allergy_corr_df.corr()"
   ]
  },
  {
   "cell_type": "code",
   "execution_count": 27,
   "metadata": {},
   "outputs": [
    {
     "data": {
      "image/png": "[encoded data removed]",
      "text/plain": [
       "<Figure size 432x288 with 2 Axes>"
      ]
     },
     "metadata": {
      "needs_background": "light"
     },
     "output_type": "display_data"
    }
   ],
   "source": [
    "sns.heatmap(allergy_corr_df.corr(),xticklabels=allergy_corr_df.columns,yticklabels=allergy_corr_df.columns,linewidth=.5,cmap=sns.diverging_palette(220, 10, as_cmap=True))\n",
    "plt.title(\"Correlation between Allergy Tags\")\n",
    "plt.show()"
   ]
  },
  {
   "cell_type": "code",
   "execution_count": 28,
   "metadata": {
    "scrolled": true
   },
   "outputs": [],
   "source": [
    "reviews = ['avg_rating','best_rating','prepare_again_rating','num_reviews']\n",
    "review_df = sample_df[reviews].dropna()\n",
    "review_df = review_df[review_df.columns].astype(float)\n"
   ]
  },
  {
   "cell_type": "code",
   "execution_count": 29,
   "metadata": {},
   "outputs": [
    {
     "data": {
      "text/html": [
       "<div>\n",
       "<style scoped>\n",
       "    .dataframe tbody tr th:only-of-type {\n",
       "        vertical-align: middle;\n",
       "    }\n",
       "\n",
       "    .dataframe tbody tr th {\n",
       "        vertical-align: top;\n",
       "    }\n",
       "\n",
       "    .dataframe thead th {\n",
       "        text-align: right;\n",
       "    }\n",
       "</style>\n",
       "<table border=\"1\" class=\"dataframe\">\n",
       "  <thead>\n",
       "    <tr style=\"text-align: right;\">\n",
       "      <th></th>\n",
       "      <th>avg_rating</th>\n",
       "      <th>best_rating</th>\n",
       "      <th>prepare_again_rating</th>\n",
       "      <th>num_reviews</th>\n",
       "    </tr>\n",
       "  </thead>\n",
       "  <tbody>\n",
       "    <tr>\n",
       "      <th>avg_rating</th>\n",
       "      <td>1.000000</td>\n",
       "      <td>0.083938</td>\n",
       "      <td>0.819613</td>\n",
       "      <td>0.227283</td>\n",
       "    </tr>\n",
       "    <tr>\n",
       "      <th>best_rating</th>\n",
       "      <td>0.083938</td>\n",
       "      <td>1.000000</td>\n",
       "      <td>0.074258</td>\n",
       "      <td>0.016596</td>\n",
       "    </tr>\n",
       "    <tr>\n",
       "      <th>prepare_again_rating</th>\n",
       "      <td>0.819613</td>\n",
       "      <td>0.074258</td>\n",
       "      <td>1.000000</td>\n",
       "      <td>0.218849</td>\n",
       "    </tr>\n",
       "    <tr>\n",
       "      <th>num_reviews</th>\n",
       "      <td>0.227283</td>\n",
       "      <td>0.016596</td>\n",
       "      <td>0.218849</td>\n",
       "      <td>1.000000</td>\n",
       "    </tr>\n",
       "  </tbody>\n",
       "</table>\n",
       "</div>"
      ],
      "text/plain": [
       "                      avg_rating  best_rating  prepare_again_rating  \\\n",
       "avg_rating              1.000000     0.083938              0.819613   \n",
       "best_rating             0.083938     1.000000              0.074258   \n",
       "prepare_again_rating    0.819613     0.074258              1.000000   \n",
       "num_reviews             0.227283     0.016596              0.218849   \n",
       "\n",
       "                      num_reviews  \n",
       "avg_rating               0.227283  \n",
       "best_rating              0.016596  \n",
       "prepare_again_rating     0.218849  \n",
       "num_reviews              1.000000  "
      ]
     },
     "execution_count": 29,
     "metadata": {},
     "output_type": "execute_result"
    }
   ],
   "source": [
    "review_df.corr()"
   ]
  },
  {
   "cell_type": "code",
   "execution_count": 30,
   "metadata": {},
   "outputs": [
    {
     "data": {
      "image/png": "[encoded data removed]",
      "text/plain": [
       "<Figure size 432x288 with 2 Axes>"
      ]
     },
     "metadata": {
      "needs_background": "light"
     },
     "output_type": "display_data"
    }
   ],
   "source": [
    "sns.heatmap(review_df.corr(),xticklabels=review_df.columns,yticklabels=review_df.columns,linewidth=.5,cmap=sns.diverging_palette(220, 10, as_cmap=True))\n",
    "plt.title(\"Correlation between Recipe Reviews\")\n",
    "plt.show()"
   ]
  },
  {
   "cell_type": "code",
   "execution_count": 31,
   "metadata": {},
   "outputs": [
    {
     "data": {
      "text/plain": [
       "(10000, 7)"
      ]
     },
     "execution_count": 31,
     "metadata": {},
     "output_type": "execute_result"
    }
   ],
   "source": [
    "sample_df[allergy].shape"
   ]
  },
  {
   "cell_type": "code",
   "execution_count": 32,
   "metadata": {
    "scrolled": true
   },
   "outputs": [
    {
     "data": {
      "text/html": [
       "<div>\n",
       "<style scoped>\n",
       "    .dataframe tbody tr th:only-of-type {\n",
       "        vertical-align: middle;\n",
       "    }\n",
       "\n",
       "    .dataframe tbody tr th {\n",
       "        vertical-align: top;\n",
       "    }\n",
       "\n",
       "    .dataframe thead th {\n",
       "        text-align: right;\n",
       "    }\n",
       "</style>\n",
       "<table border=\"1\" class=\"dataframe\">\n",
       "  <thead>\n",
       "    <tr style=\"text-align: right;\">\n",
       "      <th></th>\n",
       "      <th>Peanut Free</th>\n",
       "      <th>Soy Free</th>\n",
       "      <th>Tree Nut Free</th>\n",
       "      <th>Wheat/Gluten-Free</th>\n",
       "      <th>Dairy Free</th>\n",
       "      <th>Fat Free</th>\n",
       "      <th>usa_cuisine</th>\n",
       "    </tr>\n",
       "  </thead>\n",
       "  <tbody>\n",
       "    <tr>\n",
       "      <th>0</th>\n",
       "      <td>5019.0</td>\n",
       "      <td>5127.0</td>\n",
       "      <td>5928.0</td>\n",
       "      <td>7288.0</td>\n",
       "      <td>8410.0</td>\n",
       "      <td>9792.0</td>\n",
       "      <td>115</td>\n",
       "    </tr>\n",
       "    <tr>\n",
       "      <th>1</th>\n",
       "      <td>4981.0</td>\n",
       "      <td>4873.0</td>\n",
       "      <td>4072.0</td>\n",
       "      <td>2712.0</td>\n",
       "      <td>1590.0</td>\n",
       "      <td>208.0</td>\n",
       "      <td>348</td>\n",
       "    </tr>\n",
       "    <tr>\n",
       "      <th>2</th>\n",
       "      <td>NaN</td>\n",
       "      <td>NaN</td>\n",
       "      <td>NaN</td>\n",
       "      <td>NaN</td>\n",
       "      <td>NaN</td>\n",
       "      <td>NaN</td>\n",
       "      <td>9537</td>\n",
       "    </tr>\n",
       "  </tbody>\n",
       "</table>\n",
       "</div>"
      ],
      "text/plain": [
       "   Peanut Free  Soy Free  Tree Nut Free  Wheat/Gluten-Free  Dairy Free  \\\n",
       "0       5019.0    5127.0         5928.0             7288.0      8410.0   \n",
       "1       4981.0    4873.0         4072.0             2712.0      1590.0   \n",
       "2          NaN       NaN            NaN                NaN         NaN   \n",
       "\n",
       "   Fat Free  usa_cuisine  \n",
       "0    9792.0          115  \n",
       "1     208.0          348  \n",
       "2       NaN         9537  "
      ]
     },
     "execution_count": 32,
     "metadata": {},
     "output_type": "execute_result"
    }
   ],
   "source": [
    "sample_df[allergy].apply(pd.value_counts)"
   ]
  },
  {
   "cell_type": "code",
   "execution_count": 33,
   "metadata": {},
   "outputs": [],
   "source": [
    "# sample_df[allergy][(sample_df['Peanut Free'] == 1) & (sample_df['usa_cuisine'] == 1)].shape"
   ]
  },
  {
   "cell_type": "code",
   "execution_count": 34,
   "metadata": {},
   "outputs": [
    {
     "name": "stdout",
     "output_type": "stream",
     "text": [
      "Peanut Free\n",
      "Soy Free\n",
      "Tree Nut Free\n",
      "Wheat/Gluten-Free\n",
      "Dairy Free\n",
      "Fat Free\n"
     ]
    }
   ],
   "source": [
    "for i in allergy[:-1]:\n",
    "    print(i)"
   ]
  },
  {
   "cell_type": "code",
   "execution_count": 35,
   "metadata": {},
   "outputs": [
    {
     "data": {
      "text/html": [
       "<div>\n",
       "<style scoped>\n",
       "    .dataframe tbody tr th:only-of-type {\n",
       "        vertical-align: middle;\n",
       "    }\n",
       "\n",
       "    .dataframe tbody tr th {\n",
       "        vertical-align: top;\n",
       "    }\n",
       "\n",
       "    .dataframe thead th {\n",
       "        text-align: right;\n",
       "    }\n",
       "</style>\n",
       "<table border=\"1\" class=\"dataframe\">\n",
       "  <thead>\n",
       "    <tr style=\"text-align: right;\">\n",
       "      <th></th>\n",
       "      <th>Peanut Free</th>\n",
       "      <th>Soy Free</th>\n",
       "      <th>Tree Nut Free</th>\n",
       "      <th>Wheat/Gluten-Free</th>\n",
       "      <th>Dairy Free</th>\n",
       "      <th>Fat Free</th>\n",
       "      <th>usa_cuisine</th>\n",
       "    </tr>\n",
       "  </thead>\n",
       "  <tbody>\n",
       "    <tr>\n",
       "      <th>http://www.epicurious.com/recipes/food/views/-adult-pimiento-cheese-100852</th>\n",
       "      <td>0</td>\n",
       "      <td>0</td>\n",
       "      <td>0</td>\n",
       "      <td>0</td>\n",
       "      <td>0</td>\n",
       "      <td>0</td>\n",
       "      <td>1</td>\n",
       "    </tr>\n",
       "    <tr>\n",
       "      <th>http://www.epicurious.com/recipes/food/views/-an-apple-a-day-51133430</th>\n",
       "      <td>1</td>\n",
       "      <td>1</td>\n",
       "      <td>0</td>\n",
       "      <td>0</td>\n",
       "      <td>0</td>\n",
       "      <td>0</td>\n",
       "      <td>2</td>\n",
       "    </tr>\n",
       "    <tr>\n",
       "      <th>http://www.epicurious.com/recipes/food/views/-blanketed-eggplant-305</th>\n",
       "      <td>0</td>\n",
       "      <td>0</td>\n",
       "      <td>0</td>\n",
       "      <td>0</td>\n",
       "      <td>0</td>\n",
       "      <td>0</td>\n",
       "      <td>2</td>\n",
       "    </tr>\n",
       "    <tr>\n",
       "      <th>http://www.epicurious.com/recipes/food/views/-bloody-mary-tomato-toast-with-celery-and-horseradish-56389813</th>\n",
       "      <td>1</td>\n",
       "      <td>1</td>\n",
       "      <td>1</td>\n",
       "      <td>0</td>\n",
       "      <td>1</td>\n",
       "      <td>0</td>\n",
       "      <td>2</td>\n",
       "    </tr>\n",
       "    <tr>\n",
       "      <th>http://www.epicurious.com/recipes/food/views/-bow-tie-pasta-with-zucchini-101932</th>\n",
       "      <td>1</td>\n",
       "      <td>1</td>\n",
       "      <td>1</td>\n",
       "      <td>0</td>\n",
       "      <td>0</td>\n",
       "      <td>0</td>\n",
       "      <td>2</td>\n",
       "    </tr>\n",
       "  </tbody>\n",
       "</table>\n",
       "</div>"
      ],
      "text/plain": [
       "                                                    Peanut Free  Soy Free  \\\n",
       "http://www.epicurious.com/recipes/food/views/-a...            0         0   \n",
       "http://www.epicurious.com/recipes/food/views/-a...            1         1   \n",
       "http://www.epicurious.com/recipes/food/views/-b...            0         0   \n",
       "http://www.epicurious.com/recipes/food/views/-b...            1         1   \n",
       "http://www.epicurious.com/recipes/food/views/-b...            1         1   \n",
       "\n",
       "                                                    Tree Nut Free  \\\n",
       "http://www.epicurious.com/recipes/food/views/-a...              0   \n",
       "http://www.epicurious.com/recipes/food/views/-a...              0   \n",
       "http://www.epicurious.com/recipes/food/views/-b...              0   \n",
       "http://www.epicurious.com/recipes/food/views/-b...              1   \n",
       "http://www.epicurious.com/recipes/food/views/-b...              1   \n",
       "\n",
       "                                                    Wheat/Gluten-Free  \\\n",
       "http://www.epicurious.com/recipes/food/views/-a...                  0   \n",
       "http://www.epicurious.com/recipes/food/views/-a...                  0   \n",
       "http://www.epicurious.com/recipes/food/views/-b...                  0   \n",
       "http://www.epicurious.com/recipes/food/views/-b...                  0   \n",
       "http://www.epicurious.com/recipes/food/views/-b...                  0   \n",
       "\n",
       "                                                    Dairy Free  Fat Free  \\\n",
       "http://www.epicurious.com/recipes/food/views/-a...           0         0   \n",
       "http://www.epicurious.com/recipes/food/views/-a...           0         0   \n",
       "http://www.epicurious.com/recipes/food/views/-b...           0         0   \n",
       "http://www.epicurious.com/recipes/food/views/-b...           1         0   \n",
       "http://www.epicurious.com/recipes/food/views/-b...           0         0   \n",
       "\n",
       "                                                    usa_cuisine  \n",
       "http://www.epicurious.com/recipes/food/views/-a...            1  \n",
       "http://www.epicurious.com/recipes/food/views/-a...            2  \n",
       "http://www.epicurious.com/recipes/food/views/-b...            2  \n",
       "http://www.epicurious.com/recipes/food/views/-b...            2  \n",
       "http://www.epicurious.com/recipes/food/views/-b...            2  "
      ]
     },
     "execution_count": 35,
     "metadata": {},
     "output_type": "execute_result"
    }
   ],
   "source": [
    "copy = sample_df[allergy]\n",
    "copy.head()"
   ]
  },
  {
   "cell_type": "code",
   "execution_count": 36,
   "metadata": {},
   "outputs": [],
   "source": [
    "copy = copy[(copy['usa_cuisine'] != 2)]"
   ]
  },
  {
   "cell_type": "code",
   "execution_count": 37,
   "metadata": {},
   "outputs": [],
   "source": [
    "def plotgraph(df,title,x):\n",
    "    df.plot.hist(x=x,y='usa_cuisine',figsize=(5,5),grid=True)\n",
    "    plt.title(title)\n",
    "    plt.xlabel('usa_cuisine')\n",
    "    plt.ylabel(x)\n",
    "    "
   ]
  },
  {
   "cell_type": "code",
   "execution_count": 38,
   "metadata": {},
   "outputs": [
    {
     "data": {
      "text/html": [
       "<div>\n",
       "<style scoped>\n",
       "    .dataframe tbody tr th:only-of-type {\n",
       "        vertical-align: middle;\n",
       "    }\n",
       "\n",
       "    .dataframe tbody tr th {\n",
       "        vertical-align: top;\n",
       "    }\n",
       "\n",
       "    .dataframe thead th {\n",
       "        text-align: right;\n",
       "    }\n",
       "</style>\n",
       "<table border=\"1\" class=\"dataframe\">\n",
       "  <thead>\n",
       "    <tr style=\"text-align: right;\">\n",
       "      <th></th>\n",
       "      <th>tags_count</th>\n",
       "      <th>tag</th>\n",
       "      <th>allergy_tags</th>\n",
       "    </tr>\n",
       "  </thead>\n",
       "  <tbody>\n",
       "    <tr>\n",
       "      <th>19</th>\n",
       "      <td>16546</td>\n",
       "      <td>Peanut Free</td>\n",
       "      <td>True</td>\n",
       "    </tr>\n",
       "    <tr>\n",
       "      <th>20</th>\n",
       "      <td>16106</td>\n",
       "      <td>Soy Free</td>\n",
       "      <td>True</td>\n",
       "    </tr>\n",
       "    <tr>\n",
       "      <th>17</th>\n",
       "      <td>15226</td>\n",
       "      <td>Bon Appétit</td>\n",
       "      <td>False</td>\n",
       "    </tr>\n",
       "    <tr>\n",
       "      <th>34</th>\n",
       "      <td>14030</td>\n",
       "      <td>Tree Nut Free</td>\n",
       "      <td>True</td>\n",
       "    </tr>\n",
       "    <tr>\n",
       "      <th>3</th>\n",
       "      <td>13382</td>\n",
       "      <td>Vegetarian</td>\n",
       "      <td>False</td>\n",
       "    </tr>\n",
       "  </tbody>\n",
       "</table>\n",
       "</div>"
      ],
      "text/plain": [
       "    tags_count            tag  allergy_tags\n",
       "19       16546    Peanut Free          True\n",
       "20       16106       Soy Free          True\n",
       "17       15226    Bon Appétit         False\n",
       "34       14030  Tree Nut Free          True\n",
       "3        13382     Vegetarian         False"
      ]
     },
     "execution_count": 38,
     "metadata": {},
     "output_type": "execute_result"
    }
   ],
   "source": [
    "c.head()"
   ]
  },
  {
   "cell_type": "code",
   "execution_count": 39,
   "metadata": {},
   "outputs": [
    {
     "data": {
      "text/html": [
       "<div>\n",
       "<style scoped>\n",
       "    .dataframe tbody tr th:only-of-type {\n",
       "        vertical-align: middle;\n",
       "    }\n",
       "\n",
       "    .dataframe tbody tr th {\n",
       "        vertical-align: top;\n",
       "    }\n",
       "\n",
       "    .dataframe thead th {\n",
       "        text-align: right;\n",
       "    }\n",
       "</style>\n",
       "<table border=\"1\" class=\"dataframe\">\n",
       "  <thead>\n",
       "    <tr style=\"text-align: right;\">\n",
       "      <th></th>\n",
       "      <th>tags_count</th>\n",
       "      <th>tag</th>\n",
       "      <th>allergy_tags</th>\n",
       "    </tr>\n",
       "  </thead>\n",
       "  <tbody>\n",
       "    <tr>\n",
       "      <th>19</th>\n",
       "      <td>16546</td>\n",
       "      <td>Peanut Free</td>\n",
       "      <td>True</td>\n",
       "    </tr>\n",
       "    <tr>\n",
       "      <th>20</th>\n",
       "      <td>16106</td>\n",
       "      <td>Soy Free</td>\n",
       "      <td>True</td>\n",
       "    </tr>\n",
       "    <tr>\n",
       "      <th>34</th>\n",
       "      <td>14030</td>\n",
       "      <td>Tree Nut Free</td>\n",
       "      <td>True</td>\n",
       "    </tr>\n",
       "    <tr>\n",
       "      <th>57</th>\n",
       "      <td>9581</td>\n",
       "      <td>Wheat/Gluten-Free</td>\n",
       "      <td>True</td>\n",
       "    </tr>\n",
       "    <tr>\n",
       "      <th>33</th>\n",
       "      <td>6020</td>\n",
       "      <td>Dairy Free</td>\n",
       "      <td>True</td>\n",
       "    </tr>\n",
       "    <tr>\n",
       "      <th>288</th>\n",
       "      <td>681</td>\n",
       "      <td>Fat Free</td>\n",
       "      <td>True</td>\n",
       "    </tr>\n",
       "  </tbody>\n",
       "</table>\n",
       "</div>"
      ],
      "text/plain": [
       "     tags_count                tag  allergy_tags\n",
       "19        16546        Peanut Free          True\n",
       "20        16106           Soy Free          True\n",
       "34        14030      Tree Nut Free          True\n",
       "57         9581  Wheat/Gluten-Free          True\n",
       "33         6020         Dairy Free          True\n",
       "288         681           Fat Free          True"
      ]
     },
     "execution_count": 39,
     "metadata": {},
     "output_type": "execute_result"
    }
   ],
   "source": [
    "c[c['allergy_tags']==True]"
   ]
  },
  {
   "cell_type": "code",
   "execution_count": null,
   "metadata": {},
   "outputs": [],
   "source": []
  },
  {
   "cell_type": "code",
   "execution_count": 40,
   "metadata": {
    "scrolled": false
   },
   "outputs": [
    {
     "data": {
      "image/png": "[encoded data removed]",
      "text/plain": [
       "<Figure size 360x360 with 1 Axes>"
      ]
     },
     "metadata": {
      "needs_background": "light"
     },
     "output_type": "display_data"
    },
    {
     "data": {
      "image/png": "[encoded data removed]",
      "text/plain": [
       "<Figure size 360x360 with 1 Axes>"
      ]
     },
     "metadata": {
      "needs_background": "light"
     },
     "output_type": "display_data"
    },
    {
     "data": {
      "image/png": "[encoded data removed]",
      "text/plain": [
       "<Figure size 360x360 with 1 Axes>"
      ]
     },
     "metadata": {
      "needs_background": "light"
     },
     "output_type": "display_data"
    },
    {
     "data": {
      "image/png": "[encoded data removed]",
      "text/plain": [
       "<Figure size 360x360 with 1 Axes>"
      ]
     },
     "metadata": {
      "needs_background": "light"
     },
     "output_type": "display_data"
    },
    {
     "data": {
      "image/png": "[encoded data removed]",
      "text/plain": [
       "<Figure size 360x360 with 1 Axes>"
      ]
     },
     "metadata": {
      "needs_background": "light"
     },
     "output_type": "display_data"
    },
    {
     "data": {
      "image/png": "[encoded data removed]",
      "text/plain": [
       "<Figure size 360x360 with 1 Axes>"
      ]
     },
     "metadata": {
      "needs_background": "light"
     },
     "output_type": "display_data"
    }
   ],
   "source": [
    "# copy = dropColumn(copy,['avg_rating','best_rating','prepare_again_rating','num_reviews','tags','title'])\n",
    "# print(copy.shape)\n",
    "for i in allergy[:-1]:\n",
    "    allergy_df = copy[(copy[i] == 1)]\n",
    "    allergy_df = allergy_df[['usa_cuisine',i]]\n",
    "#     print(allergy_df.head())\n",
    "#     print(allergy_df.shape)\n",
    "    plotgraph(allergy_df,'Cuisine and Allergy',i)\n",
    "    \n"
   ]
  },
  {
   "cell_type": "code",
   "execution_count": 41,
   "metadata": {},
   "outputs": [
    {
     "data": {
      "text/html": [
       "<div>\n",
       "<style scoped>\n",
       "    .dataframe tbody tr th:only-of-type {\n",
       "        vertical-align: middle;\n",
       "    }\n",
       "\n",
       "    .dataframe tbody tr th {\n",
       "        vertical-align: top;\n",
       "    }\n",
       "\n",
       "    .dataframe thead th {\n",
       "        text-align: right;\n",
       "    }\n",
       "</style>\n",
       "<table border=\"1\" class=\"dataframe\">\n",
       "  <thead>\n",
       "    <tr style=\"text-align: right;\">\n",
       "      <th></th>\n",
       "      <th>Peanut Free</th>\n",
       "      <th>Soy Free</th>\n",
       "      <th>Tree Nut Free</th>\n",
       "      <th>Wheat/Gluten-Free</th>\n",
       "      <th>Dairy Free</th>\n",
       "      <th>Fat Free</th>\n",
       "      <th>usa_cuisine</th>\n",
       "    </tr>\n",
       "  </thead>\n",
       "  <tbody>\n",
       "    <tr>\n",
       "      <th>http://www.epicurious.com/recipes/food/views/-adult-pimiento-cheese-100852</th>\n",
       "      <td>0</td>\n",
       "      <td>0</td>\n",
       "      <td>0</td>\n",
       "      <td>0</td>\n",
       "      <td>0</td>\n",
       "      <td>0</td>\n",
       "      <td>1</td>\n",
       "    </tr>\n",
       "    <tr>\n",
       "      <th>http://www.epicurious.com/recipes/food/views/-drunken-pork-chops-427</th>\n",
       "      <td>0</td>\n",
       "      <td>0</td>\n",
       "      <td>0</td>\n",
       "      <td>1</td>\n",
       "      <td>0</td>\n",
       "      <td>0</td>\n",
       "      <td>0</td>\n",
       "    </tr>\n",
       "    <tr>\n",
       "      <th>http://www.epicurious.com/recipes/food/views/-em-polow-em-persian-rice-with-pistachios-and-dill-352469</th>\n",
       "      <td>1</td>\n",
       "      <td>1</td>\n",
       "      <td>0</td>\n",
       "      <td>1</td>\n",
       "      <td>0</td>\n",
       "      <td>0</td>\n",
       "      <td>0</td>\n",
       "    </tr>\n",
       "    <tr>\n",
       "      <th>http://www.epicurious.com/recipes/food/views/-opulent-chicken-15810</th>\n",
       "      <td>0</td>\n",
       "      <td>0</td>\n",
       "      <td>0</td>\n",
       "      <td>0</td>\n",
       "      <td>0</td>\n",
       "      <td>0</td>\n",
       "      <td>1</td>\n",
       "    </tr>\n",
       "    <tr>\n",
       "      <th>http://www.epicurious.com/recipes/food/views/a-nineties-twist-to-a-grandmothers-roast-chicken-102023</th>\n",
       "      <td>0</td>\n",
       "      <td>0</td>\n",
       "      <td>0</td>\n",
       "      <td>0</td>\n",
       "      <td>0</td>\n",
       "      <td>0</td>\n",
       "      <td>0</td>\n",
       "    </tr>\n",
       "  </tbody>\n",
       "</table>\n",
       "</div>"
      ],
      "text/plain": [
       "                                                    Peanut Free  Soy Free  \\\n",
       "http://www.epicurious.com/recipes/food/views/-a...            0         0   \n",
       "http://www.epicurious.com/recipes/food/views/-d...            0         0   \n",
       "http://www.epicurious.com/recipes/food/views/-e...            1         1   \n",
       "http://www.epicurious.com/recipes/food/views/-o...            0         0   \n",
       "http://www.epicurious.com/recipes/food/views/a-...            0         0   \n",
       "\n",
       "                                                    Tree Nut Free  \\\n",
       "http://www.epicurious.com/recipes/food/views/-a...              0   \n",
       "http://www.epicurious.com/recipes/food/views/-d...              0   \n",
       "http://www.epicurious.com/recipes/food/views/-e...              0   \n",
       "http://www.epicurious.com/recipes/food/views/-o...              0   \n",
       "http://www.epicurious.com/recipes/food/views/a-...              0   \n",
       "\n",
       "                                                    Wheat/Gluten-Free  \\\n",
       "http://www.epicurious.com/recipes/food/views/-a...                  0   \n",
       "http://www.epicurious.com/recipes/food/views/-d...                  1   \n",
       "http://www.epicurious.com/recipes/food/views/-e...                  1   \n",
       "http://www.epicurious.com/recipes/food/views/-o...                  0   \n",
       "http://www.epicurious.com/recipes/food/views/a-...                  0   \n",
       "\n",
       "                                                    Dairy Free  Fat Free  \\\n",
       "http://www.epicurious.com/recipes/food/views/-a...           0         0   \n",
       "http://www.epicurious.com/recipes/food/views/-d...           0         0   \n",
       "http://www.epicurious.com/recipes/food/views/-e...           0         0   \n",
       "http://www.epicurious.com/recipes/food/views/-o...           0         0   \n",
       "http://www.epicurious.com/recipes/food/views/a-...           0         0   \n",
       "\n",
       "                                                    usa_cuisine  \n",
       "http://www.epicurious.com/recipes/food/views/-a...            1  \n",
       "http://www.epicurious.com/recipes/food/views/-d...            0  \n",
       "http://www.epicurious.com/recipes/food/views/-e...            0  \n",
       "http://www.epicurious.com/recipes/food/views/-o...            1  \n",
       "http://www.epicurious.com/recipes/food/views/a-...            0  "
      ]
     },
     "execution_count": 41,
     "metadata": {},
     "output_type": "execute_result"
    }
   ],
   "source": [
    "copy.head()"
   ]
  },
  {
   "cell_type": "code",
   "execution_count": 42,
   "metadata": {
    "scrolled": true
   },
   "outputs": [
    {
     "data": {
      "image/png": "[encoded data removed]",
      "text/plain": [
       "<Figure size 432x288 with 1 Axes>"
      ]
     },
     "metadata": {
      "needs_background": "light"
     },
     "output_type": "display_data"
    }
   ],
   "source": [
    "copy.plot.hist(alpha=0.4,density=True,bins=3)\n",
    "plt.show()"
   ]
  },
  {
   "cell_type": "code",
   "execution_count": null,
   "metadata": {},
   "outputs": [],
   "source": []
  },
  {
   "cell_type": "code",
   "execution_count": null,
   "metadata": {},
   "outputs": [],
   "source": []
  },
  {
   "cell_type": "markdown",
   "metadata": {},
   "source": [
    "### Deletes Not used columns"
   ]
  },
  {
   "cell_type": "code",
   "execution_count": 43,
   "metadata": {},
   "outputs": [],
   "source": [
    "drop_column = ['avg_rating','best_rating','prepare_again_rating','num_reviews','usa_cuisine','tags','title']\n",
    "label_column = ['Peanut Free','Soy Free','Tree Nut Free','Wheat/Gluten-Free','Dairy Free','Fat Free']\n",
    "\n",
    "# copy1 = sample_df\n",
    "# copy2 = sample_df\n",
    "# usa_tag_df = deleterows(copy1,'usa_cuisine',2,'',True)\n",
    "# no_cuisine_tag_df = deleterows(copy2,'usa_cuisine',1,0,False)\n"
   ]
  },
  {
   "cell_type": "code",
   "execution_count": 44,
   "metadata": {},
   "outputs": [],
   "source": [
    "sample_df = dropColumn(sample_df,drop_column)"
   ]
  },
  {
   "cell_type": "code",
   "execution_count": 45,
   "metadata": {},
   "outputs": [
    {
     "data": {
      "text/html": [
       "<div>\n",
       "<style scoped>\n",
       "    .dataframe tbody tr th:only-of-type {\n",
       "        vertical-align: middle;\n",
       "    }\n",
       "\n",
       "    .dataframe tbody tr th {\n",
       "        vertical-align: top;\n",
       "    }\n",
       "\n",
       "    .dataframe thead th {\n",
       "        text-align: right;\n",
       "    }\n",
       "</style>\n",
       "<table border=\"1\" class=\"dataframe\">\n",
       "  <thead>\n",
       "    <tr style=\"text-align: right;\">\n",
       "      <th></th>\n",
       "      <th>\" &gt; panko (japanese bread crumb bread crumb</th>\n",
       "      <th>\" biscuit cutter</th>\n",
       "      <th>\" brown candy \" sugar brown sugar</th>\n",
       "      <th>\" cauliflower floret (cut from 1 large head)</th>\n",
       "      <th>\" cube salt pork</th>\n",
       "      <th>\" large \" egg</th>\n",
       "      <th>\" pie dish</th>\n",
       "      <th>\" piece (about 6 ounce) thick - cut smoke bacon</th>\n",
       "      <th>\" piece ginger, peel, finely grated</th>\n",
       "      <th>\" pita bread</th>\n",
       "      <th>...</th>\n",
       "      <th>zucchini squash</th>\n",
       "      <th>zucchini zucchini</th>\n",
       "      <th>zucchini, quarter lengthwise then slice across thinly</th>\n",
       "      <th>zucchinis</th>\n",
       "      <th>Peanut Free</th>\n",
       "      <th>Soy Free</th>\n",
       "      <th>Tree Nut Free</th>\n",
       "      <th>Wheat/Gluten-Free</th>\n",
       "      <th>Dairy Free</th>\n",
       "      <th>Fat Free</th>\n",
       "    </tr>\n",
       "  </thead>\n",
       "  <tbody>\n",
       "    <tr>\n",
       "      <th>http://www.epicurious.com/recipes/food/views/-adult-pimiento-cheese-100852</th>\n",
       "      <td>0.0</td>\n",
       "      <td>0.0</td>\n",
       "      <td>0.0</td>\n",
       "      <td>0.0</td>\n",
       "      <td>0.0</td>\n",
       "      <td>0.0</td>\n",
       "      <td>0.0</td>\n",
       "      <td>0.0</td>\n",
       "      <td>0.0</td>\n",
       "      <td>0.0</td>\n",
       "      <td>...</td>\n",
       "      <td>0.0</td>\n",
       "      <td>0.0</td>\n",
       "      <td>0.0</td>\n",
       "      <td>0.0</td>\n",
       "      <td>0</td>\n",
       "      <td>0</td>\n",
       "      <td>0</td>\n",
       "      <td>0</td>\n",
       "      <td>0</td>\n",
       "      <td>0</td>\n",
       "    </tr>\n",
       "  </tbody>\n",
       "</table>\n",
       "<p>1 rows × 7305 columns</p>\n",
       "</div>"
      ],
      "text/plain": [
       "                                                    \" > panko (japanese bread crumb bread crumb  \\\n",
       "http://www.epicurious.com/recipes/food/views/-a...                                          0.0   \n",
       "\n",
       "                                                    \" biscuit cutter  \\\n",
       "http://www.epicurious.com/recipes/food/views/-a...               0.0   \n",
       "\n",
       "                                                    \" brown candy \" sugar brown sugar  \\\n",
       "http://www.epicurious.com/recipes/food/views/-a...                                0.0   \n",
       "\n",
       "                                                    \" cauliflower floret (cut from 1 large head)  \\\n",
       "http://www.epicurious.com/recipes/food/views/-a...                                           0.0   \n",
       "\n",
       "                                                    \" cube salt pork  \\\n",
       "http://www.epicurious.com/recipes/food/views/-a...               0.0   \n",
       "\n",
       "                                                    \" large \" egg  \" pie dish  \\\n",
       "http://www.epicurious.com/recipes/food/views/-a...            0.0         0.0   \n",
       "\n",
       "                                                    \" piece (about 6 ounce) thick - cut smoke bacon  \\\n",
       "http://www.epicurious.com/recipes/food/views/-a...                                              0.0   \n",
       "\n",
       "                                                    \" piece ginger, peel, finely grated  \\\n",
       "http://www.epicurious.com/recipes/food/views/-a...                                  0.0   \n",
       "\n",
       "                                                    \" pita bread  ...  \\\n",
       "http://www.epicurious.com/recipes/food/views/-a...           0.0  ...   \n",
       "\n",
       "                                                    zucchini squash  \\\n",
       "http://www.epicurious.com/recipes/food/views/-a...              0.0   \n",
       "\n",
       "                                                    zucchini zucchini  \\\n",
       "http://www.epicurious.com/recipes/food/views/-a...                0.0   \n",
       "\n",
       "                                                    zucchini, quarter lengthwise then slice across thinly  \\\n",
       "http://www.epicurious.com/recipes/food/views/-a...                                                0.0       \n",
       "\n",
       "                                                    zucchinis  Peanut Free  \\\n",
       "http://www.epicurious.com/recipes/food/views/-a...        0.0            0   \n",
       "\n",
       "                                                    Soy Free  Tree Nut Free  \\\n",
       "http://www.epicurious.com/recipes/food/views/-a...         0              0   \n",
       "\n",
       "                                                    Wheat/Gluten-Free  \\\n",
       "http://www.epicurious.com/recipes/food/views/-a...                  0   \n",
       "\n",
       "                                                    Dairy Free  Fat Free  \n",
       "http://www.epicurious.com/recipes/food/views/-a...           0         0  \n",
       "\n",
       "[1 rows x 7305 columns]"
      ]
     },
     "execution_count": 45,
     "metadata": {},
     "output_type": "execute_result"
    }
   ],
   "source": [
    "sample_df.head(1)"
   ]
  },
  {
   "cell_type": "code",
   "execution_count": 46,
   "metadata": {},
   "outputs": [],
   "source": [
    "# usa_tag_df"
   ]
  },
  {
   "cell_type": "code",
   "execution_count": 47,
   "metadata": {},
   "outputs": [],
   "source": [
    "training_data,test_data = train_test_split(sample_df,test_size= 0.2)\n",
    "train_data,train_label = getTrianData(training_data,label_column)\n",
    "test_data,test_label = getTrianData(test_data,label_column)"
   ]
  },
  {
   "cell_type": "code",
   "execution_count": 48,
   "metadata": {},
   "outputs": [],
   "source": [
    "# train_data,train_label = getTrianData(training_data,label_column)\n",
    "# test_data,test_label = getTrianData(test_data,label_column)"
   ]
  },
  {
   "cell_type": "code",
   "execution_count": 49,
   "metadata": {},
   "outputs": [
    {
     "data": {
      "text/html": [
       "<div>\n",
       "<style scoped>\n",
       "    .dataframe tbody tr th:only-of-type {\n",
       "        vertical-align: middle;\n",
       "    }\n",
       "\n",
       "    .dataframe tbody tr th {\n",
       "        vertical-align: top;\n",
       "    }\n",
       "\n",
       "    .dataframe thead th {\n",
       "        text-align: right;\n",
       "    }\n",
       "</style>\n",
       "<table border=\"1\" class=\"dataframe\">\n",
       "  <thead>\n",
       "    <tr style=\"text-align: right;\">\n",
       "      <th></th>\n",
       "      <th>\" &gt; panko (japanese bread crumb bread crumb</th>\n",
       "      <th>\" biscuit cutter</th>\n",
       "      <th>\" brown candy \" sugar brown sugar</th>\n",
       "      <th>\" cauliflower floret (cut from 1 large head)</th>\n",
       "      <th>\" cube salt pork</th>\n",
       "      <th>\" large \" egg</th>\n",
       "      <th>\" pie dish</th>\n",
       "      <th>\" piece (about 6 ounce) thick - cut smoke bacon</th>\n",
       "      <th>\" piece ginger, peel, finely grated</th>\n",
       "      <th>\" pita bread</th>\n",
       "      <th>...</th>\n",
       "      <th>zucchini squash</th>\n",
       "      <th>zucchini zucchini</th>\n",
       "      <th>zucchini, quarter lengthwise then slice across thinly</th>\n",
       "      <th>zucchinis</th>\n",
       "      <th>Peanut Free</th>\n",
       "      <th>Soy Free</th>\n",
       "      <th>Tree Nut Free</th>\n",
       "      <th>Wheat/Gluten-Free</th>\n",
       "      <th>Dairy Free</th>\n",
       "      <th>Fat Free</th>\n",
       "    </tr>\n",
       "  </thead>\n",
       "  <tbody>\n",
       "    <tr>\n",
       "      <th>http://www.epicurious.com/recipes/food/views/cider-and-calvados-gelees-with-champagne-grapes-14476</th>\n",
       "      <td>0.0</td>\n",
       "      <td>0.0</td>\n",
       "      <td>0.0</td>\n",
       "      <td>0.0</td>\n",
       "      <td>0.0</td>\n",
       "      <td>0.0</td>\n",
       "      <td>0.0</td>\n",
       "      <td>0.0</td>\n",
       "      <td>0.0</td>\n",
       "      <td>0.0</td>\n",
       "      <td>...</td>\n",
       "      <td>0.0</td>\n",
       "      <td>0.0</td>\n",
       "      <td>0.0</td>\n",
       "      <td>0.0</td>\n",
       "      <td>1</td>\n",
       "      <td>1</td>\n",
       "      <td>1</td>\n",
       "      <td>1</td>\n",
       "      <td>1</td>\n",
       "      <td>1</td>\n",
       "    </tr>\n",
       "    <tr>\n",
       "      <th>http://www.epicurious.com/recipes/food/views/antipasto-salad</th>\n",
       "      <td>0.0</td>\n",
       "      <td>0.0</td>\n",
       "      <td>0.0</td>\n",
       "      <td>0.0</td>\n",
       "      <td>0.0</td>\n",
       "      <td>0.0</td>\n",
       "      <td>0.0</td>\n",
       "      <td>0.0</td>\n",
       "      <td>0.0</td>\n",
       "      <td>0.0</td>\n",
       "      <td>...</td>\n",
       "      <td>0.0</td>\n",
       "      <td>0.0</td>\n",
       "      <td>0.0</td>\n",
       "      <td>0.0</td>\n",
       "      <td>0</td>\n",
       "      <td>0</td>\n",
       "      <td>0</td>\n",
       "      <td>0</td>\n",
       "      <td>0</td>\n",
       "      <td>0</td>\n",
       "    </tr>\n",
       "  </tbody>\n",
       "</table>\n",
       "<p>2 rows × 7305 columns</p>\n",
       "</div>"
      ],
      "text/plain": [
       "                                                    \" > panko (japanese bread crumb bread crumb  \\\n",
       "http://www.epicurious.com/recipes/food/views/ci...                                          0.0   \n",
       "http://www.epicurious.com/recipes/food/views/an...                                          0.0   \n",
       "\n",
       "                                                    \" biscuit cutter  \\\n",
       "http://www.epicurious.com/recipes/food/views/ci...               0.0   \n",
       "http://www.epicurious.com/recipes/food/views/an...               0.0   \n",
       "\n",
       "                                                    \" brown candy \" sugar brown sugar  \\\n",
       "http://www.epicurious.com/recipes/food/views/ci...                                0.0   \n",
       "http://www.epicurious.com/recipes/food/views/an...                                0.0   \n",
       "\n",
       "                                                    \" cauliflower floret (cut from 1 large head)  \\\n",
       "http://www.epicurious.com/recipes/food/views/ci...                                           0.0   \n",
       "http://www.epicurious.com/recipes/food/views/an...                                           0.0   \n",
       "\n",
       "                                                    \" cube salt pork  \\\n",
       "http://www.epicurious.com/recipes/food/views/ci...               0.0   \n",
       "http://www.epicurious.com/recipes/food/views/an...               0.0   \n",
       "\n",
       "                                                    \" large \" egg  \" pie dish  \\\n",
       "http://www.epicurious.com/recipes/food/views/ci...            0.0         0.0   \n",
       "http://www.epicurious.com/recipes/food/views/an...            0.0         0.0   \n",
       "\n",
       "                                                    \" piece (about 6 ounce) thick - cut smoke bacon  \\\n",
       "http://www.epicurious.com/recipes/food/views/ci...                                              0.0   \n",
       "http://www.epicurious.com/recipes/food/views/an...                                              0.0   \n",
       "\n",
       "                                                    \" piece ginger, peel, finely grated  \\\n",
       "http://www.epicurious.com/recipes/food/views/ci...                                  0.0   \n",
       "http://www.epicurious.com/recipes/food/views/an...                                  0.0   \n",
       "\n",
       "                                                    \" pita bread  ...  \\\n",
       "http://www.epicurious.com/recipes/food/views/ci...           0.0  ...   \n",
       "http://www.epicurious.com/recipes/food/views/an...           0.0  ...   \n",
       "\n",
       "                                                    zucchini squash  \\\n",
       "http://www.epicurious.com/recipes/food/views/ci...              0.0   \n",
       "http://www.epicurious.com/recipes/food/views/an...              0.0   \n",
       "\n",
       "                                                    zucchini zucchini  \\\n",
       "http://www.epicurious.com/recipes/food/views/ci...                0.0   \n",
       "http://www.epicurious.com/recipes/food/views/an...                0.0   \n",
       "\n",
       "                                                    zucchini, quarter lengthwise then slice across thinly  \\\n",
       "http://www.epicurious.com/recipes/food/views/ci...                                                0.0       \n",
       "http://www.epicurious.com/recipes/food/views/an...                                                0.0       \n",
       "\n",
       "                                                    zucchinis  Peanut Free  \\\n",
       "http://www.epicurious.com/recipes/food/views/ci...        0.0            1   \n",
       "http://www.epicurious.com/recipes/food/views/an...        0.0            0   \n",
       "\n",
       "                                                    Soy Free  Tree Nut Free  \\\n",
       "http://www.epicurious.com/recipes/food/views/ci...         1              1   \n",
       "http://www.epicurious.com/recipes/food/views/an...         0              0   \n",
       "\n",
       "                                                    Wheat/Gluten-Free  \\\n",
       "http://www.epicurious.com/recipes/food/views/ci...                  1   \n",
       "http://www.epicurious.com/recipes/food/views/an...                  0   \n",
       "\n",
       "                                                    Dairy Free  Fat Free  \n",
       "http://www.epicurious.com/recipes/food/views/ci...           1         1  \n",
       "http://www.epicurious.com/recipes/food/views/an...           0         0  \n",
       "\n",
       "[2 rows x 7305 columns]"
      ]
     },
     "execution_count": 49,
     "metadata": {},
     "output_type": "execute_result"
    }
   ],
   "source": [
    "training_data.head(2)"
   ]
  },
  {
   "cell_type": "code",
   "execution_count": 50,
   "metadata": {},
   "outputs": [
    {
     "data": {
      "text/html": [
       "<div>\n",
       "<style scoped>\n",
       "    .dataframe tbody tr th:only-of-type {\n",
       "        vertical-align: middle;\n",
       "    }\n",
       "\n",
       "    .dataframe tbody tr th {\n",
       "        vertical-align: top;\n",
       "    }\n",
       "\n",
       "    .dataframe thead th {\n",
       "        text-align: right;\n",
       "    }\n",
       "</style>\n",
       "<table border=\"1\" class=\"dataframe\">\n",
       "  <thead>\n",
       "    <tr style=\"text-align: right;\">\n",
       "      <th></th>\n",
       "      <th>Peanut Free</th>\n",
       "      <th>Soy Free</th>\n",
       "      <th>Tree Nut Free</th>\n",
       "      <th>Wheat/Gluten-Free</th>\n",
       "      <th>Dairy Free</th>\n",
       "      <th>Fat Free</th>\n",
       "    </tr>\n",
       "  </thead>\n",
       "  <tbody>\n",
       "    <tr>\n",
       "      <th>http://www.epicurious.com/recipes/food/views/cider-and-calvados-gelees-with-champagne-grapes-14476</th>\n",
       "      <td>1</td>\n",
       "      <td>1</td>\n",
       "      <td>1</td>\n",
       "      <td>1</td>\n",
       "      <td>1</td>\n",
       "      <td>1</td>\n",
       "    </tr>\n",
       "    <tr>\n",
       "      <th>http://www.epicurious.com/recipes/food/views/antipasto-salad</th>\n",
       "      <td>0</td>\n",
       "      <td>0</td>\n",
       "      <td>0</td>\n",
       "      <td>0</td>\n",
       "      <td>0</td>\n",
       "      <td>0</td>\n",
       "    </tr>\n",
       "  </tbody>\n",
       "</table>\n",
       "</div>"
      ],
      "text/plain": [
       "                                                    Peanut Free  Soy Free  \\\n",
       "http://www.epicurious.com/recipes/food/views/ci...            1         1   \n",
       "http://www.epicurious.com/recipes/food/views/an...            0         0   \n",
       "\n",
       "                                                    Tree Nut Free  \\\n",
       "http://www.epicurious.com/recipes/food/views/ci...              1   \n",
       "http://www.epicurious.com/recipes/food/views/an...              0   \n",
       "\n",
       "                                                    Wheat/Gluten-Free  \\\n",
       "http://www.epicurious.com/recipes/food/views/ci...                  1   \n",
       "http://www.epicurious.com/recipes/food/views/an...                  0   \n",
       "\n",
       "                                                    Dairy Free  Fat Free  \n",
       "http://www.epicurious.com/recipes/food/views/ci...           1         1  \n",
       "http://www.epicurious.com/recipes/food/views/an...           0         0  "
      ]
     },
     "execution_count": 50,
     "metadata": {},
     "output_type": "execute_result"
    }
   ],
   "source": [
    "train_label.head(2)"
   ]
  },
  {
   "cell_type": "code",
   "execution_count": 51,
   "metadata": {},
   "outputs": [
    {
     "data": {
      "text/html": [
       "<div>\n",
       "<style scoped>\n",
       "    .dataframe tbody tr th:only-of-type {\n",
       "        vertical-align: middle;\n",
       "    }\n",
       "\n",
       "    .dataframe tbody tr th {\n",
       "        vertical-align: top;\n",
       "    }\n",
       "\n",
       "    .dataframe thead th {\n",
       "        text-align: right;\n",
       "    }\n",
       "</style>\n",
       "<table border=\"1\" class=\"dataframe\">\n",
       "  <thead>\n",
       "    <tr style=\"text-align: right;\">\n",
       "      <th></th>\n",
       "      <th>\" &gt; panko (japanese bread crumb bread crumb</th>\n",
       "      <th>\" biscuit cutter</th>\n",
       "      <th>\" brown candy \" sugar brown sugar</th>\n",
       "      <th>\" cauliflower floret (cut from 1 large head)</th>\n",
       "      <th>\" cube salt pork</th>\n",
       "      <th>\" large \" egg</th>\n",
       "      <th>\" pie dish</th>\n",
       "      <th>\" piece (about 6 ounce) thick - cut smoke bacon</th>\n",
       "      <th>\" piece ginger, peel, finely grated</th>\n",
       "      <th>\" pita bread</th>\n",
       "      <th>...</th>\n",
       "      <th>ziti pasta</th>\n",
       "      <th>zucchini</th>\n",
       "      <th>zucchini (about 5 medium), slice thin</th>\n",
       "      <th>zucchini blossom</th>\n",
       "      <th>zucchini blossom, tear into large piece (optional)</th>\n",
       "      <th>zucchini flower</th>\n",
       "      <th>zucchini squash</th>\n",
       "      <th>zucchini zucchini</th>\n",
       "      <th>zucchini, quarter lengthwise then slice across thinly</th>\n",
       "      <th>zucchinis</th>\n",
       "    </tr>\n",
       "  </thead>\n",
       "  <tbody>\n",
       "    <tr>\n",
       "      <th>http://www.epicurious.com/recipes/food/views/cider-and-calvados-gelees-with-champagne-grapes-14476</th>\n",
       "      <td>0.0</td>\n",
       "      <td>0.0</td>\n",
       "      <td>0.0</td>\n",
       "      <td>0.0</td>\n",
       "      <td>0.0</td>\n",
       "      <td>0.0</td>\n",
       "      <td>0.0</td>\n",
       "      <td>0.0</td>\n",
       "      <td>0.0</td>\n",
       "      <td>0.0</td>\n",
       "      <td>...</td>\n",
       "      <td>0.0</td>\n",
       "      <td>0.0</td>\n",
       "      <td>0.0</td>\n",
       "      <td>0.0</td>\n",
       "      <td>0.0</td>\n",
       "      <td>0.0</td>\n",
       "      <td>0.0</td>\n",
       "      <td>0.0</td>\n",
       "      <td>0.0</td>\n",
       "      <td>0.0</td>\n",
       "    </tr>\n",
       "    <tr>\n",
       "      <th>http://www.epicurious.com/recipes/food/views/antipasto-salad</th>\n",
       "      <td>0.0</td>\n",
       "      <td>0.0</td>\n",
       "      <td>0.0</td>\n",
       "      <td>0.0</td>\n",
       "      <td>0.0</td>\n",
       "      <td>0.0</td>\n",
       "      <td>0.0</td>\n",
       "      <td>0.0</td>\n",
       "      <td>0.0</td>\n",
       "      <td>0.0</td>\n",
       "      <td>...</td>\n",
       "      <td>0.0</td>\n",
       "      <td>0.0</td>\n",
       "      <td>0.0</td>\n",
       "      <td>0.0</td>\n",
       "      <td>0.0</td>\n",
       "      <td>0.0</td>\n",
       "      <td>0.0</td>\n",
       "      <td>0.0</td>\n",
       "      <td>0.0</td>\n",
       "      <td>0.0</td>\n",
       "    </tr>\n",
       "  </tbody>\n",
       "</table>\n",
       "<p>2 rows × 7299 columns</p>\n",
       "</div>"
      ],
      "text/plain": [
       "                                                    \" > panko (japanese bread crumb bread crumb  \\\n",
       "http://www.epicurious.com/recipes/food/views/ci...                                          0.0   \n",
       "http://www.epicurious.com/recipes/food/views/an...                                          0.0   \n",
       "\n",
       "                                                    \" biscuit cutter  \\\n",
       "http://www.epicurious.com/recipes/food/views/ci...               0.0   \n",
       "http://www.epicurious.com/recipes/food/views/an...               0.0   \n",
       "\n",
       "                                                    \" brown candy \" sugar brown sugar  \\\n",
       "http://www.epicurious.com/recipes/food/views/ci...                                0.0   \n",
       "http://www.epicurious.com/recipes/food/views/an...                                0.0   \n",
       "\n",
       "                                                    \" cauliflower floret (cut from 1 large head)  \\\n",
       "http://www.epicurious.com/recipes/food/views/ci...                                           0.0   \n",
       "http://www.epicurious.com/recipes/food/views/an...                                           0.0   \n",
       "\n",
       "                                                    \" cube salt pork  \\\n",
       "http://www.epicurious.com/recipes/food/views/ci...               0.0   \n",
       "http://www.epicurious.com/recipes/food/views/an...               0.0   \n",
       "\n",
       "                                                    \" large \" egg  \" pie dish  \\\n",
       "http://www.epicurious.com/recipes/food/views/ci...            0.0         0.0   \n",
       "http://www.epicurious.com/recipes/food/views/an...            0.0         0.0   \n",
       "\n",
       "                                                    \" piece (about 6 ounce) thick - cut smoke bacon  \\\n",
       "http://www.epicurious.com/recipes/food/views/ci...                                              0.0   \n",
       "http://www.epicurious.com/recipes/food/views/an...                                              0.0   \n",
       "\n",
       "                                                    \" piece ginger, peel, finely grated  \\\n",
       "http://www.epicurious.com/recipes/food/views/ci...                                  0.0   \n",
       "http://www.epicurious.com/recipes/food/views/an...                                  0.0   \n",
       "\n",
       "                                                    \" pita bread  ...  \\\n",
       "http://www.epicurious.com/recipes/food/views/ci...           0.0  ...   \n",
       "http://www.epicurious.com/recipes/food/views/an...           0.0  ...   \n",
       "\n",
       "                                                    ziti pasta  zucchini  \\\n",
       "http://www.epicurious.com/recipes/food/views/ci...         0.0       0.0   \n",
       "http://www.epicurious.com/recipes/food/views/an...         0.0       0.0   \n",
       "\n",
       "                                                    zucchini (about 5 medium), slice thin  \\\n",
       "http://www.epicurious.com/recipes/food/views/ci...                                    0.0   \n",
       "http://www.epicurious.com/recipes/food/views/an...                                    0.0   \n",
       "\n",
       "                                                    zucchini blossom  \\\n",
       "http://www.epicurious.com/recipes/food/views/ci...               0.0   \n",
       "http://www.epicurious.com/recipes/food/views/an...               0.0   \n",
       "\n",
       "                                                    zucchini blossom, tear into large piece (optional)  \\\n",
       "http://www.epicurious.com/recipes/food/views/ci...                                                0.0    \n",
       "http://www.epicurious.com/recipes/food/views/an...                                                0.0    \n",
       "\n",
       "                                                    zucchini flower  \\\n",
       "http://www.epicurious.com/recipes/food/views/ci...              0.0   \n",
       "http://www.epicurious.com/recipes/food/views/an...              0.0   \n",
       "\n",
       "                                                    zucchini squash  \\\n",
       "http://www.epicurious.com/recipes/food/views/ci...              0.0   \n",
       "http://www.epicurious.com/recipes/food/views/an...              0.0   \n",
       "\n",
       "                                                    zucchini zucchini  \\\n",
       "http://www.epicurious.com/recipes/food/views/ci...                0.0   \n",
       "http://www.epicurious.com/recipes/food/views/an...                0.0   \n",
       "\n",
       "                                                    zucchini, quarter lengthwise then slice across thinly  \\\n",
       "http://www.epicurious.com/recipes/food/views/ci...                                                0.0       \n",
       "http://www.epicurious.com/recipes/food/views/an...                                                0.0       \n",
       "\n",
       "                                                    zucchinis  \n",
       "http://www.epicurious.com/recipes/food/views/ci...        0.0  \n",
       "http://www.epicurious.com/recipes/food/views/an...        0.0  \n",
       "\n",
       "[2 rows x 7299 columns]"
      ]
     },
     "execution_count": 51,
     "metadata": {},
     "output_type": "execute_result"
    }
   ],
   "source": [
    "train_data.head(2)"
   ]
  },
  {
   "cell_type": "markdown",
   "metadata": {},
   "source": [
    "## Support Vector Classifier"
   ]
  },
  {
   "cell_type": "markdown",
   "metadata": {},
   "source": [
    "https://scikit-learn.org/stable/modules/generated/sklearn.svm.SVC.html\n",
    "\n",
    "Below website gives good explaination on reading result from SVC\n",
    "\n",
    "https://www.datacamp.com/community/tutorials/svm-classification-scikit-learn-python"
   ]
  },
  {
   "cell_type": "markdown",
   "metadata": {},
   "source": [
    "### Fit model without weights"
   ]
  },
  {
   "cell_type": "markdown",
   "metadata": {},
   "source": [
    "Referenced example from this link: https://www.geeksforgeeks.org/classifying-data-using-support-vector-machinessvms-in-python/"
   ]
  },
  {
   "cell_type": "code",
   "execution_count": 52,
   "metadata": {},
   "outputs": [],
   "source": [
    "svc = svm.SVC(gamma=0.1,kernel='linear')"
   ]
  },
  {
   "cell_type": "code",
   "execution_count": 53,
   "metadata": {},
   "outputs": [
    {
     "data": {
      "text/html": [
       "<div>\n",
       "<style scoped>\n",
       "    .dataframe tbody tr th:only-of-type {\n",
       "        vertical-align: middle;\n",
       "    }\n",
       "\n",
       "    .dataframe tbody tr th {\n",
       "        vertical-align: top;\n",
       "    }\n",
       "\n",
       "    .dataframe thead th {\n",
       "        text-align: right;\n",
       "    }\n",
       "</style>\n",
       "<table border=\"1\" class=\"dataframe\">\n",
       "  <thead>\n",
       "    <tr style=\"text-align: right;\">\n",
       "      <th></th>\n",
       "      <th>Peanut Free</th>\n",
       "      <th>Soy Free</th>\n",
       "      <th>Tree Nut Free</th>\n",
       "      <th>Wheat/Gluten-Free</th>\n",
       "      <th>Dairy Free</th>\n",
       "      <th>Fat Free</th>\n",
       "    </tr>\n",
       "  </thead>\n",
       "  <tbody>\n",
       "    <tr>\n",
       "      <th>http://www.epicurious.com/recipes/food/views/cider-and-calvados-gelees-with-champagne-grapes-14476</th>\n",
       "      <td>1</td>\n",
       "      <td>1</td>\n",
       "      <td>1</td>\n",
       "      <td>1</td>\n",
       "      <td>1</td>\n",
       "      <td>1</td>\n",
       "    </tr>\n",
       "  </tbody>\n",
       "</table>\n",
       "</div>"
      ],
      "text/plain": [
       "                                                    Peanut Free  Soy Free  \\\n",
       "http://www.epicurious.com/recipes/food/views/ci...            1         1   \n",
       "\n",
       "                                                    Tree Nut Free  \\\n",
       "http://www.epicurious.com/recipes/food/views/ci...              1   \n",
       "\n",
       "                                                    Wheat/Gluten-Free  \\\n",
       "http://www.epicurious.com/recipes/food/views/ci...                  1   \n",
       "\n",
       "                                                    Dairy Free  Fat Free  \n",
       "http://www.epicurious.com/recipes/food/views/ci...           1         1  "
      ]
     },
     "execution_count": 53,
     "metadata": {},
     "output_type": "execute_result"
    }
   ],
   "source": [
    "train_label.head(1)"
   ]
  },
  {
   "cell_type": "code",
   "execution_count": 54,
   "metadata": {
    "scrolled": true
   },
   "outputs": [
    {
     "data": {
      "text/plain": [
       "array([[1, 1, 1, 1, 1, 1],\n",
       "       [0, 0, 0, 0, 0, 0],\n",
       "       [0, 0, 0, 0, 0, 0],\n",
       "       ...,\n",
       "       [1, 1, 1, 1, 0, 0],\n",
       "       [1, 1, 1, 1, 0, 0],\n",
       "       [0, 0, 0, 1, 0, 0]])"
      ]
     },
     "execution_count": 54,
     "metadata": {},
     "output_type": "execute_result"
    }
   ],
   "source": [
    "new_labels = np.asarray(train_label.values)\n",
    "new_labels"
   ]
  },
  {
   "cell_type": "code",
   "execution_count": 55,
   "metadata": {},
   "outputs": [
    {
     "data": {
      "text/plain": [
       "(7988, 7299)"
      ]
     },
     "execution_count": 55,
     "metadata": {},
     "output_type": "execute_result"
    }
   ],
   "source": [
    "train_data.shape"
   ]
  },
  {
   "cell_type": "code",
   "execution_count": 56,
   "metadata": {},
   "outputs": [
    {
     "data": {
      "text/plain": [
       "7988"
      ]
     },
     "execution_count": 56,
     "metadata": {},
     "output_type": "execute_result"
    }
   ],
   "source": [
    "len(train_label)"
   ]
  },
  {
   "cell_type": "code",
   "execution_count": 58,
   "metadata": {},
   "outputs": [],
   "source": [
    "train_size = 1000"
   ]
  },
  {
   "cell_type": "code",
   "execution_count": 57,
   "metadata": {
    "scrolled": false
   },
   "outputs": [
    {
     "data": {
      "image/png": "[encoded data removed]",
      "text/plain": [
       "<Figure size 576x396 with 2 Axes>"
      ]
     },
     "metadata": {},
     "output_type": "display_data"
    },
    {
     "name": "stdout",
     "output_type": "stream",
     "text": [
      "CPU times: user 50.7 s, sys: 481 ms, total: 51.2 s\n",
      "Wall time: 56.3 s\n"
     ]
    },
    {
     "data": {
      "text/plain": [
       "<matplotlib.axes._subplots.AxesSubplot at 0x379ed7f60>"
      ]
     },
     "execution_count": 57,
     "metadata": {},
     "output_type": "execute_result"
    }
   ],
   "source": [
    "%%time\n",
    "from yellowbrick.classifier import ClassificationReport\n",
    "visualizer = ClassificationReport(svc, classes=['Peanut Free','Not Peanut Free'], support=True)\n",
    "visualizer.fit(train_data.iloc[:train_size], train_label['Peanut Free'].iloc[:train_size])        # Fit the visualizer and the model\n",
    "visualizer.score(test_data.iloc[:train_size], test_label['Peanut Free'].iloc[:train_size])        # Evaluate the model on the test data\n",
    "visualizer.show() "
   ]
  },
  {
   "cell_type": "code",
   "execution_count": 61,
   "metadata": {},
   "outputs": [
    {
     "data": {
      "image/png": "[encoded data removed]",
      "text/plain": [
       "<Figure size 576x396 with 2 Axes>"
      ]
     },
     "metadata": {},
     "output_type": "display_data"
    },
    {
     "name": "stdout",
     "output_type": "stream",
     "text": [
      "CPU times: user 11.9 s, sys: 98.3 ms, total: 12 s\n",
      "Wall time: 12.4 s\n"
     ]
    },
    {
     "data": {
      "text/plain": [
       "<matplotlib.axes._subplots.AxesSubplot at 0x37ed9a978>"
      ]
     },
     "execution_count": 61,
     "metadata": {},
     "output_type": "execute_result"
    }
   ],
   "source": [
    "%%time\n",
    "from yellowbrick.classifier import ClassificationReport\n",
    "visualizer = ClassificationReport(svc, classes=['Soy Free','Not Soy Free'], support=True)\n",
    "visualizer.fit(train_data.iloc[:train_size], train_label['Soy Free'].iloc[:train_size])        # Fit the visualizer and the model\n",
    "visualizer.score(test_data.iloc[:train_size], test_label['Soy Free'].iloc[:train_size])        # Evaluate the model on the test data\n",
    "visualizer.show() "
   ]
  },
  {
   "cell_type": "code",
   "execution_count": 62,
   "metadata": {},
   "outputs": [
    {
     "data": {
      "image/png": "[encoded data removed]",
      "text/plain": [
       "<Figure size 576x396 with 2 Axes>"
      ]
     },
     "metadata": {},
     "output_type": "display_data"
    },
    {
     "name": "stdout",
     "output_type": "stream",
     "text": [
      "CPU times: user 12.1 s, sys: 90.8 ms, total: 12.2 s\n",
      "Wall time: 14.3 s\n"
     ]
    },
    {
     "data": {
      "text/plain": [
       "<matplotlib.axes._subplots.AxesSubplot at 0x37f1047b8>"
      ]
     },
     "execution_count": 62,
     "metadata": {},
     "output_type": "execute_result"
    }
   ],
   "source": [
    "%%time\n",
    "from yellowbrick.classifier import ClassificationReport\n",
    "visualizer = ClassificationReport(svc, classes=['Tree Nut Free','Not Tree Nut Free'], support=True)\n",
    "visualizer.fit(train_data.iloc[:train_size], train_label['Tree Nut Free'].iloc[:train_size])        # Fit the visualizer and the model\n",
    "visualizer.score(test_data.iloc[:train_size], test_label['Tree Nut Free'].iloc[:train_size])        # Evaluate the model on the test data\n",
    "visualizer.show() "
   ]
  },
  {
   "cell_type": "code",
   "execution_count": 63,
   "metadata": {},
   "outputs": [
    {
     "data": {
      "image/png": "[encoded data removed]",
      "text/plain": [
       "<Figure size 576x396 with 2 Axes>"
      ]
     },
     "metadata": {},
     "output_type": "display_data"
    },
    {
     "name": "stdout",
     "output_type": "stream",
     "text": [
      "CPU times: user 11.9 s, sys: 89.1 ms, total: 12 s\n",
      "Wall time: 12.7 s\n"
     ]
    },
    {
     "data": {
      "text/plain": [
       "<matplotlib.axes._subplots.AxesSubplot at 0x37f04ef28>"
      ]
     },
     "execution_count": 63,
     "metadata": {},
     "output_type": "execute_result"
    }
   ],
   "source": [
    "%%time\n",
    "from yellowbrick.classifier import ClassificationReport\n",
    "visualizer = ClassificationReport(svc, classes=['Dairy Free','Not Dairy Free'], support=True)\n",
    "visualizer.fit(train_data.iloc[:train_size], train_label['Dairy Free'].iloc[:train_size])        # Fit the visualizer and the model\n",
    "visualizer.score(test_data.iloc[:train_size], test_label['Dairy Free'].iloc[:train_size])        # Evaluate the model on the test data\n",
    "visualizer.show() "
   ]
  },
  {
   "cell_type": "code",
   "execution_count": 64,
   "metadata": {
    "scrolled": false
   },
   "outputs": [
    {
     "data": {
      "image/png": "[encoded data removed]",
      "text/plain": [
       "<Figure size 576x396 with 2 Axes>"
      ]
     },
     "metadata": {},
     "output_type": "display_data"
    },
    {
     "name": "stdout",
     "output_type": "stream",
     "text": [
      "CPU times: user 11.8 s, sys: 65.5 ms, total: 11.8 s\n",
      "Wall time: 12.2 s\n"
     ]
    },
    {
     "data": {
      "text/plain": [
       "<matplotlib.axes._subplots.AxesSubplot at 0x37f4d9208>"
      ]
     },
     "execution_count": 64,
     "metadata": {},
     "output_type": "execute_result"
    }
   ],
   "source": [
    "%%time\n",
    "from yellowbrick.classifier import ClassificationReport\n",
    "visualizer = ClassificationReport(svc, classes=['Fat Free','Not Fat Free'], support=True)\n",
    "visualizer.fit(train_data.iloc[:train_size], train_label['Fat Free'].iloc[:train_size])        # Fit the visualizer and the model\n",
    "visualizer.score(test_data.iloc[:train_size], test_label['Fat Free'].iloc[:train_size])        # Evaluate the model on the test data\n",
    "visualizer.show() "
   ]
  },
  {
   "cell_type": "code",
   "execution_count": 50,
   "metadata": {
    "scrolled": true
   },
   "outputs": [
    {
     "name": "stdout",
     "output_type": "stream",
     "text": [
      "CPU times: user 34.4 s, sys: 143 ms, total: 34.6 s\n",
      "Wall time: 35 s\n"
     ]
    },
    {
     "data": {
      "text/plain": [
       "array([1, 0, 0, ..., 1, 0, 0])"
      ]
     },
     "execution_count": 50,
     "metadata": {},
     "output_type": "execute_result"
    }
   ],
   "source": [
    "%%time\n",
    "peanut.predict(test_data)"
   ]
  },
  {
   "cell_type": "code",
   "execution_count": null,
   "metadata": {},
   "outputs": [],
   "source": []
  },
  {
   "cell_type": "code",
   "execution_count": 65,
   "metadata": {},
   "outputs": [],
   "source": [
    "# val = []\n",
    "# for i in train_label:\n",
    "#     v = i.replace(' ','')\n",
    "#     val.append(v)\n",
    "# val"
   ]
  },
  {
   "cell_type": "code",
   "execution_count": 52,
   "metadata": {
    "scrolled": true
   },
   "outputs": [],
   "source": [
    "# allergy_predict = []\n",
    "# j = 0\n",
    "# for i in train_label:\n",
    "#     print(val[j])\n",
    "#     val[j] = svc.fit(train_data.iloc[:train_size], np.asarray(train_label[i].iloc[:train_size].values)) \n",
    "#     allergy_predict.append(val[j])\n",
    "#     j +=1\n",
    "# allergy_predict"
   ]
  },
  {
   "cell_type": "markdown",
   "metadata": {},
   "source": [
    "### Fit model with weights"
   ]
  },
  {
   "cell_type": "markdown",
   "metadata": {},
   "source": [
    "#### Calculate Weight"
   ]
  },
  {
   "cell_type": "markdown",
   "metadata": {},
   "source": [
    "* sample_weight is to be applied to individual samples (rows in your data). So the length of sample_weight must match the number of samples in your X.\n",
    "\n",
    "* class_weight is to make the classifier give more importance and attention to the classes. So the length of class_weight must match the number of classes in your targets."
   ]
  },
  {
   "cell_type": "code",
   "execution_count": 66,
   "metadata": {},
   "outputs": [
    {
     "name": "stdout",
     "output_type": "stream",
     "text": [
      "Neither USA Cuisine or non-USA Cuisine:  9537\n",
      "USA Cuisine:  348\n",
      "Non-USA Cuisine:  115\n"
     ]
    }
   ],
   "source": [
    "count1 = len(cuisine_df.loc[cuisine_df['usa_cuisine'] == 1]) # true\n",
    "count2 = len(cuisine_df.loc[cuisine_df['usa_cuisine'] == 0]) # false\n",
    "count3 = len(cuisine_df.loc[cuisine_df['usa_cuisine'] == 2]) # NA\n",
    "print(\"Neither USA Cuisine or non-USA Cuisine: \",count3)\n",
    "print(\"USA Cuisine: \",count1)\n",
    "print(\"Non-USA Cuisine: \",count2)"
   ]
  },
  {
   "cell_type": "code",
   "execution_count": 67,
   "metadata": {},
   "outputs": [
    {
     "name": "stdout",
     "output_type": "stream",
     "text": [
      "7988\n"
     ]
    }
   ],
   "source": [
    "print(len(train_label))"
   ]
  },
  {
   "cell_type": "code",
   "execution_count": 73,
   "metadata": {},
   "outputs": [
    {
     "name": "stdout",
     "output_type": "stream",
     "text": [
      "[0.5011266900350526, 0.49887330996494744]\n",
      "[0.5120180270405609, 0.4879819729594392]\n",
      "[0.592764146219329, 0.407235853780671]\n",
      "[0.7282173259889835, 0.2717826740110165]\n",
      "[0.8466449674511768, 0.15335503254882324]\n",
      "[0.979594391587381, 0.020405608412618927]\n"
     ]
    },
    {
     "data": {
      "text/plain": [
       "[[0.5011266900350526, 0.49887330996494744],\n",
       " [0.5120180270405609, 0.4879819729594392],\n",
       " [0.592764146219329, 0.407235853780671],\n",
       " [0.7282173259889835, 0.2717826740110165],\n",
       " [0.8466449674511768, 0.15335503254882324],\n",
       " [0.979594391587381, 0.020405608412618927]]"
      ]
     },
     "execution_count": 73,
     "metadata": {},
     "output_type": "execute_result"
    }
   ],
   "source": [
    "weight_ratio = []\n",
    "for i in train_label:\n",
    "    max_v = [int(train_label[i][train_label[i] == 0].value_counts())/len(train_label),int(train_label[i][train_label[i] == 1].value_counts())/len(train_label)]\n",
    "    print(max_v)\n",
    "    weight_ratio.append(max_v)\n",
    "weight_ratio"
   ]
  },
  {
   "cell_type": "code",
   "execution_count": 74,
   "metadata": {},
   "outputs": [
    {
     "data": {
      "text/plain": [
       "0.5011266900350526"
      ]
     },
     "execution_count": 74,
     "metadata": {},
     "output_type": "execute_result"
    }
   ],
   "source": [
    "weight_ratio[0][0]"
   ]
  },
  {
   "cell_type": "code",
   "execution_count": 75,
   "metadata": {},
   "outputs": [],
   "source": [
    "degree = [1, 1, 2, 3, 4, 1, 1, 1, 1, 2, 3, 4, 1, 1, 1, 1, 2]\n",
    "degree\n",
    "kernel =['linear', 'poly', 'poly', 'poly', 'poly', 'rbf', 'sigmoid',\n",
    "        'linear', 'poly', 'poly', 'poly', 'poly', 'rbf', 'sigmoid',\n",
    "        'linear', 'poly', 'poly']\n",
    "nu = [0.05, 0.05, 0.05, 0.05, 0.05, 0.05, 0.05, 0.1 , 0.1 , 0.1 , 0.1 ,\n",
    "        0.1 , 0.1 , 0.1 , 0.15, 0.15, 0.15]\n",
    "acc_list = [0.90653153, 0.90728228, 0.61473974, 0.56681682, 0.53440941,\n",
    "        0.75525526, 0.50287788, 0.90840841, 0.90578078, 0.60047548,\n",
    "        0.56881882, 0.53553554, 0.75575576, 0.5289039 , 0.90515516,\n",
    "        0.90302803, 0.5701952 ]\n",
    "# degree,kernel,nu,acc_list"
   ]
  },
  {
   "cell_type": "code",
   "execution_count": 76,
   "metadata": {},
   "outputs": [],
   "source": [
    "import mplcursors"
   ]
  },
  {
   "cell_type": "code",
   "execution_count": 77,
   "metadata": {
    "scrolled": true
   },
   "outputs": [
    {
     "data": {
      "image/png": "[encoded data removed]",
      "text/plain": [
       "<Figure size 576x396 with 1 Axes>"
      ]
     },
     "metadata": {},
     "output_type": "display_data"
    }
   ],
   "source": [
    "plt.scatter(degree,acc_list,alpha=0.5,color='red',label='Degree')\n",
    "plt.scatter(kernel,acc_list,alpha=0.4,color='blue',label='Kernel')\n",
    "plt.scatter(nu,acc_list,alpha=0.4,color='green',label='Nu')\n",
    "plt.legend()\n",
    "mplcursors.cursor(hover=True)\n",
    "plt.title(\"SVC accuracy based on Input Parameters\")\n",
    "plt.show()"
   ]
  },
  {
   "cell_type": "code",
   "execution_count": 78,
   "metadata": {
    "scrolled": true
   },
   "outputs": [
    {
     "data": {
      "image/png": "[encoded data removed]",
      "text/plain": [
       "<Figure size 576x396 with 1 Axes>"
      ]
     },
     "metadata": {},
     "output_type": "display_data"
    }
   ],
   "source": [
    "plt.scatter(kernel,acc_list,alpha=0.4)\n",
    "plt.title(\"SVC accuracy based on Kernel\")\n",
    "plt.show()"
   ]
  },
  {
   "cell_type": "code",
   "execution_count": 79,
   "metadata": {},
   "outputs": [
    {
     "data": {
      "image/png": "[encoded data removed]",
      "text/plain": [
       "<Figure size 576x396 with 1 Axes>"
      ]
     },
     "metadata": {},
     "output_type": "display_data"
    }
   ],
   "source": [
    "plt.scatter(nu,acc_list,alpha=0.4)\n",
    "plt.title(\"SVC accuracy based on Nu\")\n",
    "plt.show()"
   ]
  },
  {
   "cell_type": "markdown",
   "metadata": {},
   "source": [
    "## Single Class Classification"
   ]
  },
  {
   "cell_type": "code",
   "execution_count": null,
   "metadata": {},
   "outputs": [],
   "source": [
    "train_size"
   ]
  },
  {
   "cell_type": "code",
   "execution_count": 80,
   "metadata": {},
   "outputs": [
    {
     "name": "stdout",
     "output_type": "stream",
     "text": [
      "CPU times: user 51.4 s, sys: 413 ms, total: 51.8 s\n",
      "Wall time: 59.2 s\n"
     ]
    },
    {
     "data": {
      "text/plain": [
       "NuSVC(cache_size=200, class_weight={0: 0.5011266900350526}, coef0=0.0,\n",
       "      decision_function_shape='ovr', degree=3, gamma='auto', kernel='linear',\n",
       "      max_iter=-1, nu=0.1, probability=False, random_state=None, shrinking=True,\n",
       "      tol=0.001, verbose=False)"
      ]
     },
     "execution_count": 80,
     "metadata": {},
     "output_type": "execute_result"
    }
   ],
   "source": [
    "%%time\n",
    "w_svc = svm.NuSVC(nu = 0.1, gamma='auto',class_weight={0:weight_ratio[0][0]},kernel='linear')\n",
    "w_svc.fit(train_data.iloc[:train_size], train_label['Peanut Free'][:train_size])#,sample_weight=cal_w) "
   ]
  },
  {
   "cell_type": "code",
   "execution_count": null,
   "metadata": {},
   "outputs": [],
   "source": [
    "test_data.head()"
   ]
  },
  {
   "cell_type": "code",
   "execution_count": 84,
   "metadata": {},
   "outputs": [],
   "source": [
    "train_size = 1000"
   ]
  },
  {
   "cell_type": "code",
   "execution_count": 85,
   "metadata": {
    "scrolled": true
   },
   "outputs": [
    {
     "data": {
      "image/png": "[encoded data removed]",
      "text/plain": [
       "<Figure size 576x396 with 2 Axes>"
      ]
     },
     "metadata": {},
     "output_type": "display_data"
    },
    {
     "name": "stdout",
     "output_type": "stream",
     "text": [
      "CPU times: user 11.6 s, sys: 126 ms, total: 11.7 s\n",
      "Wall time: 12.7 s\n"
     ]
    },
    {
     "data": {
      "text/plain": [
       "<matplotlib.axes._subplots.AxesSubplot at 0x37e95fd30>"
      ]
     },
     "execution_count": 85,
     "metadata": {},
     "output_type": "execute_result"
    }
   ],
   "source": [
    "%%time\n",
    "from yellowbrick.classifier import ClassificationReport\n",
    "visualizer = ClassificationReport(w_svc, classes=['Peanut Free','Not Peanut Free'], support=True)\n",
    "visualizer.fit(train_data.iloc[:train_size], train_label['Peanut Free'].iloc[:train_size])        # Fit the visualizer and the model\n",
    "visualizer.score(test_data.iloc[:train_size], test_label['Peanut Free'].iloc[:train_size])        # Evaluate the model on the test data\n",
    "visualizer.show() "
   ]
  },
  {
   "cell_type": "code",
   "execution_count": 86,
   "metadata": {},
   "outputs": [
    {
     "data": {
      "image/png": "[encoded data removed]",
      "text/plain": [
       "<Figure size 576x396 with 2 Axes>"
      ]
     },
     "metadata": {},
     "output_type": "display_data"
    },
    {
     "name": "stdout",
     "output_type": "stream",
     "text": [
      "CPU times: user 11.5 s, sys: 87.4 ms, total: 11.5 s\n",
      "Wall time: 12.7 s\n"
     ]
    },
    {
     "data": {
      "text/plain": [
       "<matplotlib.axes._subplots.AxesSubplot at 0x37ecd4a58>"
      ]
     },
     "execution_count": 86,
     "metadata": {},
     "output_type": "execute_result"
    }
   ],
   "source": [
    "%%time\n",
    "from yellowbrick.classifier import ClassificationReport\n",
    "visualizer = ClassificationReport(w_svc, classes=['Soy Free','Not Soy Free'], support=True)\n",
    "visualizer.fit(train_data.iloc[:train_size], train_label['Soy Free'].iloc[:train_size])        # Fit the visualizer and the model\n",
    "visualizer.score(test_data.iloc[:train_size], test_label['Soy Free'].iloc[:train_size])        # Evaluate the model on the test data\n",
    "visualizer.show() "
   ]
  },
  {
   "cell_type": "code",
   "execution_count": 87,
   "metadata": {},
   "outputs": [
    {
     "data": {
      "image/png": "[encoded data removed]",
      "text/plain": [
       "<Figure size 576x396 with 2 Axes>"
      ]
     },
     "metadata": {},
     "output_type": "display_data"
    },
    {
     "name": "stdout",
     "output_type": "stream",
     "text": [
      "CPU times: user 11.8 s, sys: 98.6 ms, total: 11.9 s\n",
      "Wall time: 13.7 s\n"
     ]
    },
    {
     "data": {
      "text/plain": [
       "<matplotlib.axes._subplots.AxesSubplot at 0x37ece7518>"
      ]
     },
     "execution_count": 87,
     "metadata": {},
     "output_type": "execute_result"
    }
   ],
   "source": [
    "%%time\n",
    "from yellowbrick.classifier import ClassificationReport\n",
    "visualizer = ClassificationReport(w_svc, classes=['Tree Nut Free','Not Tree Nut Free'], support=True)\n",
    "visualizer.fit(train_data.iloc[:train_size], train_label['Tree Nut Free'].iloc[:train_size])        # Fit the visualizer and the model\n",
    "visualizer.score(test_data.iloc[:train_size], test_label['Tree Nut Free'].iloc[:train_size])        # Evaluate the model on the test data\n",
    "visualizer.show() "
   ]
  },
  {
   "cell_type": "code",
   "execution_count": 88,
   "metadata": {},
   "outputs": [
    {
     "data": {
      "image/png": "[encoded data removed]",
      "text/plain": [
       "<Figure size 576x396 with 2 Axes>"
      ]
     },
     "metadata": {},
     "output_type": "display_data"
    },
    {
     "name": "stdout",
     "output_type": "stream",
     "text": [
      "CPU times: user 11.7 s, sys: 108 ms, total: 11.8 s\n",
      "Wall time: 13.5 s\n"
     ]
    },
    {
     "data": {
      "text/plain": [
       "<matplotlib.axes._subplots.AxesSubplot at 0x37ec85da0>"
      ]
     },
     "execution_count": 88,
     "metadata": {},
     "output_type": "execute_result"
    }
   ],
   "source": [
    "%%time\n",
    "from yellowbrick.classifier import ClassificationReport\n",
    "visualizer = ClassificationReport(w_svc, classes=['Dairy Free','Not Dairy Free'], support=True)\n",
    "visualizer.fit(train_data.iloc[:train_size], train_label['Dairy Free'].iloc[:train_size])        # Fit the visualizer and the model\n",
    "visualizer.score(test_data.iloc[:train_size], test_label['Dairy Free'].iloc[:train_size])        # Evaluate the model on the test data\n",
    "visualizer.show() "
   ]
  },
  {
   "cell_type": "code",
   "execution_count": 89,
   "metadata": {
    "scrolled": false
   },
   "outputs": [
    {
     "data": {
      "image/png": "[encoded data removed]",
      "text/plain": [
       "<Figure size 576x396 with 2 Axes>"
      ]
     },
     "metadata": {},
     "output_type": "display_data"
    },
    {
     "name": "stdout",
     "output_type": "stream",
     "text": [
      "CPU times: user 12.2 s, sys: 127 ms, total: 12.3 s\n",
      "Wall time: 15.8 s\n"
     ]
    },
    {
     "data": {
      "text/plain": [
       "<matplotlib.axes._subplots.AxesSubplot at 0x37a2a4cc0>"
      ]
     },
     "execution_count": 89,
     "metadata": {},
     "output_type": "execute_result"
    }
   ],
   "source": [
    "%%time\n",
    "from yellowbrick.classifier import ClassificationReport\n",
    "visualizer = ClassificationReport(w_svc, classes=['Fat Free','Not Fat Free'], support=True)\n",
    "visualizer.fit(train_data.iloc[:train_size], train_label['Fat Free'].iloc[:train_size])        # Fit the visualizer and the model\n",
    "visualizer.score(test_data.iloc[:train_size], test_label['Fat Free'].iloc[:train_size])        # Evaluate the model on the test data\n",
    "visualizer.show() "
   ]
  },
  {
   "cell_type": "code",
   "execution_count": 91,
   "metadata": {},
   "outputs": [
    {
     "name": "stdout",
     "output_type": "stream",
     "text": [
      "CPU times: user 11.3 s, sys: 165 ms, total: 11.5 s\n",
      "Wall time: 13.2 s\n"
     ]
    }
   ],
   "source": [
    "%%time\n",
    "p = w_svc.predict(test_data)"
   ]
  },
  {
   "cell_type": "code",
   "execution_count": 94,
   "metadata": {},
   "outputs": [
    {
     "data": {
      "text/plain": [
       "array([0, 1, 1, ..., 0, 1, 0])"
      ]
     },
     "execution_count": 94,
     "metadata": {},
     "output_type": "execute_result"
    }
   ],
   "source": []
  },
  {
   "cell_type": "code",
   "execution_count": 95,
   "metadata": {
    "scrolled": true
   },
   "outputs": [
    {
     "name": "stdout",
     "output_type": "stream",
     "text": [
      "              precision    recall  f1-score   support\n",
      "\n",
      "           0       0.52      0.48      0.50      1009\n",
      "           1       0.51      0.55      0.53       989\n",
      "\n",
      "    accuracy                           0.52      1998\n",
      "   macro avg       0.52      0.52      0.52      1998\n",
      "weighted avg       0.52      0.52      0.52      1998\n",
      "\n"
     ]
    }
   ],
   "source": [
    "from sklearn.metrics import classification_report\n",
    "\n",
    "print(classification_report(test_label['Peanut Free'],p))"
   ]
  },
  {
   "cell_type": "code",
   "execution_count": 98,
   "metadata": {},
   "outputs": [
    {
     "name": "stdout",
     "output_type": "stream",
     "text": [
      "actual label count Counter({0: 1009, 1: 989})\n"
     ]
    }
   ],
   "source": [
    "c = Counter()\n",
    "c.update(test_label['Peanut Free'])\n",
    "print(\"actual label count\",c)"
   ]
  },
  {
   "cell_type": "code",
   "execution_count": 99,
   "metadata": {},
   "outputs": [
    {
     "name": "stdout",
     "output_type": "stream",
     "text": [
      "prediction label count  Counter({1: 1065, 0: 933})\n"
     ]
    }
   ],
   "source": [
    "c = Counter()\n",
    "c.update(p)\n",
    "print(\"prediction label count \",c)"
   ]
  },
  {
   "cell_type": "markdown",
   "metadata": {},
   "source": [
    "## Naive Bayes Classifier"
   ]
  },
  {
   "cell_type": "code",
   "execution_count": 102,
   "metadata": {},
   "outputs": [
    {
     "name": "stdout",
     "output_type": "stream",
     "text": [
      "7.741424978497854e-06\n"
     ]
    }
   ],
   "source": [
    "# # create a guassian classifier\n",
    "bayes_model = GaussianNB()\n",
    "bayes_model.fit(train_data,train_label['Peanut Free'])\n",
    "print(bayes_model.epsilon_)"
   ]
  },
  {
   "cell_type": "code",
   "execution_count": 103,
   "metadata": {},
   "outputs": [],
   "source": [
    "p = bayes_model.predict(test_data)"
   ]
  },
  {
   "cell_type": "code",
   "execution_count": 105,
   "metadata": {},
   "outputs": [
    {
     "name": "stdout",
     "output_type": "stream",
     "text": [
      "              precision    recall  f1-score   support\n",
      "\n",
      "           0       0.64      0.34      0.44      1009\n",
      "           1       0.54      0.81      0.65       989\n",
      "\n",
      "    accuracy                           0.57      1998\n",
      "   macro avg       0.59      0.57      0.55      1998\n",
      "weighted avg       0.59      0.57      0.54      1998\n",
      "\n"
     ]
    }
   ],
   "source": [
    "print(classification_report(test_label['Peanut Free'],p))"
   ]
  },
  {
   "cell_type": "code",
   "execution_count": 107,
   "metadata": {},
   "outputs": [
    {
     "name": "stdout",
     "output_type": "stream",
     "text": [
      "actual label count Counter({0: 1009, 1: 989})\n"
     ]
    }
   ],
   "source": [
    "c = Counter()\n",
    "c.update(test_label['Peanut Free'])\n",
    "print(\"actual label count\",c)"
   ]
  },
  {
   "cell_type": "code",
   "execution_count": 108,
   "metadata": {
    "scrolled": true
   },
   "outputs": [
    {
     "name": "stdout",
     "output_type": "stream",
     "text": [
      "prediction label count  Counter({1: 1467, 0: 531})\n"
     ]
    }
   ],
   "source": [
    "c = Counter()\n",
    "c.update(bayes_model.predict(test_data))\n",
    "print(\"prediction label count \",c)"
   ]
  },
  {
   "cell_type": "markdown",
   "metadata": {},
   "source": [
    "Example of computing class_weight\n",
    "\n",
    "https://programtalk.com/python-examples/sklearn.utils.class_weight.compute_class_weight/"
   ]
  },
  {
   "cell_type": "code",
   "execution_count": 63,
   "metadata": {},
   "outputs": [],
   "source": [
    "# %%time \n",
    "# best_nu = -1\n",
    "# best_acc = -1\n",
    "# best_degree = -1\n",
    "# best_kernel = ''\n",
    "# w = -1\n",
    "\n",
    "# nu = []\n",
    "# degree = []\n",
    "# kernel = []\n",
    "# acc_list = []\n",
    "# for n in range(1,9):\n",
    "#     nu_v = 0.1*n\n",
    "#     w += 1\n",
    "#     for k in [\"linear\", \"poly\", \"rbf\", \"sigmoid\"]:\n",
    "#         for d in range(1,10):\n",
    "#             avg_acc = 0\n",
    "#             for i in range(10):\n",
    "#                 training_data,test_data = train_test_split(sample_df,test_size= 0.2)\n",
    "#                 train_data,train_label = getTrianData(training_data,label_column[0])\n",
    "#                 test_data,test_label = getTrianData(test_data,label_column[0])\n",
    "# #                 new_labels = np.asarray(train_label.values)\n",
    "# #                 c = Counter()\n",
    "# #                 c.update(new_labels)\n",
    "# #                       #degree_v = 0.05*i\n",
    "#                 w_svc = svm.NuSVC(nu = nu_v, kernel=k, gamma='auto',degree = d, class_weight={0:weight_ratio[0][0]},probability=True)\n",
    "# #                 print(\"fitting model\")\n",
    "#                 w_svc.fit(train_data.iloc[:train_size], train_label.iloc[:train_size])#,sample_weight=cal_w) \n",
    "# #                 print(\"predicting now\")\n",
    "#                 y_pred = w_svc.predict(test_data)\n",
    "#                 acc = 0\n",
    "#                 for idx, val in enumerate(y_pred):\n",
    "#                     #print(test_label)\n",
    "#                     if val == test_label.values[idx]:\n",
    "#                         acc += 1\n",
    "#                 acc /= len(y_pred)\n",
    "#                 avg_acc += acc\n",
    "#                 print('{}: {}'.format(i,acc))\n",
    "#             avg_acc /= 4\n",
    "#             print('Kernel: {}, nu: {}, Degree: {} , Avg Acc: {} '.format(k,nu_v, d, avg_acc))\n",
    "#             if avg_acc > best_acc:\n",
    "#                 degree.append(d)\n",
    "#                 kernel.append(k)\n",
    "#                 nu.append(nu_v)\n",
    "#                 acc_list.append(avg_acc)\n",
    "#             if k != \"poly\":\n",
    "#                 break\n",
    "\n",
    "                "
   ]
  },
  {
   "cell_type": "code",
   "execution_count": 71,
   "metadata": {},
   "outputs": [],
   "source": [
    "# svc_para = pd.DataFrame()\n",
    "# svc_para['best_degree'] = degree\n",
    "# svc_para['best_kernel'] = kernel\n",
    "# svc_para['best_nu'] = nu\n",
    "# svc_para['best_acc'] = acc_list"
   ]
  },
  {
   "cell_type": "code",
   "execution_count": 72,
   "metadata": {
    "scrolled": true
   },
   "outputs": [],
   "source": [
    "# svc_para"
   ]
  },
  {
   "cell_type": "code",
   "execution_count": null,
   "metadata": {},
   "outputs": [],
   "source": [
    "# # gca stands for 'get current axis'\n",
    "# ax = plt.gca()\n",
    "\n",
    "# svc_para.plot(kind='line',x='best_acc',y='best_degree',ax=ax)\n",
    "# # svc_para.plot(kind='line',x='best_acc',y='best_kernel', color='red', ax=ax)\n",
    "# svc_para.plot(kind='line',x='best_acc',y='best_nu', color='yellow', ax=ax)\n",
    "\n",
    "# plt.show()"
   ]
  },
  {
   "cell_type": "code",
   "execution_count": null,
   "metadata": {
    "scrolled": true
   },
   "outputs": [],
   "source": [
    "# svc_para.plot.bar(x=['best_acc'],y=['best_degree','best_kernel','best_nu'],alpha=0.4)\n",
    "# plt.title(\"SVC accuracy based on Nu\")\n",
    "# plt.show()"
   ]
  },
  {
   "cell_type": "code",
   "execution_count": null,
   "metadata": {},
   "outputs": [],
   "source": []
  },
  {
   "cell_type": "markdown",
   "metadata": {},
   "source": [
    "## Not Used Code"
   ]
  },
  {
   "cell_type": "code",
   "execution_count": null,
   "metadata": {},
   "outputs": [],
   "source": [
    "# uncomment below lines to replace column with number greater than 0 to 1 to make it binary.\n",
    "# columns = ['avg_rating','best_rating','worst_rating','prepare_again_rating','num_reviews','total_time', 'tags', 'title']\n",
    "# df = sample_df.copy()\n",
    "# for col in sample_df.columns:\n",
    "#     if col not in columns:\n",
    "#         df.loc[df[col] > 0, col] = 1\n",
    "# df.head(25)"
   ]
  },
  {
   "cell_type": "code",
   "execution_count": null,
   "metadata": {},
   "outputs": [],
   "source": [
    "# len(sample_df[[\"Breakfast\" in x for x in sample_df.tags]])"
   ]
  },
  {
   "cell_type": "code",
   "execution_count": null,
   "metadata": {},
   "outputs": [],
   "source": [
    "# Uncomment below if need to encode data into unique value \n",
    "\n",
    "\n",
    "# from sklearn import preprocessing\n",
    "# # label encoder\n",
    "# le = preprocessing.LabelEncoder()\n",
    "\n",
    "# # Converting string labels into numbers\n",
    "# label = le.fit_transform(Y) # 0 ==> False, 1 ==> True\n",
    "# label\n",
    "\n",
    "# Uncomment below if need to convert X data into encoder and turn it into tuple list\n",
    "#data.apply(le.fit_transform)\n",
    "#data = [tuple(r) for r in data.values.tolist()]"
   ]
  },
  {
   "cell_type": "code",
   "execution_count": null,
   "metadata": {},
   "outputs": [],
   "source": [
    "# uncomment below if need to look for inf value in data \n",
    "# for col in X.columns:\n",
    "#     print(X.loc[X[col] > 100000, col])"
   ]
  },
  {
   "cell_type": "markdown",
   "metadata": {},
   "source": [
    "### Example from Sklearn Website\n",
    "\n",
    "https://scikit-learn.org/stable/auto_examples/svm/plot_weighted_samples.html"
   ]
  },
  {
   "cell_type": "code",
   "execution_count": null,
   "metadata": {},
   "outputs": [],
   "source": [
    "print(__doc__)\n",
    "\n",
    "def plot_decision_function(classifier, sample_weight, axis, title):\n",
    "    # plot the decision function\n",
    "    xx, yy = np.meshgrid(np.linspace(-4, 5, 500), np.linspace(-4, 5, 500))\n",
    "\n",
    "    Z = classifier.decision_function(np.c_[xx.ravel(), yy.ravel()])\n",
    "    Z = Z.reshape(xx.shape)\n",
    "\n",
    "    # plot the line, the points, and the nearest vectors to the plane\n",
    "    axis.contourf(xx, yy, Z, alpha=0.75, cmap=plt.cm.bone)\n",
    "    axis.scatter(X[:, 0], X[:, 1], c=y, s=100 * sample_weight, alpha=0.9,\n",
    "                 cmap=plt.cm.bone, edgecolors='black')\n",
    "\n",
    "    axis.axis('off')\n",
    "    axis.set_title(title)\n",
    "\n",
    "\n",
    "# we create 20 points\n",
    "np.random.seed(0)\n",
    "X = np.r_[np.random.randn(10, 2) + [1, 1], np.random.randn(10, 2)]\n",
    "y = [1] * 10 + [-1] * 10\n",
    "sample_weight_last_ten = abs(np.random.randn(len(X)))\n",
    "sample_weight_constant = np.ones(len(X))\n",
    "# and bigger weights to some outliers\n",
    "sample_weight_last_ten[15:] *= 5\n",
    "sample_weight_last_ten[9] *= 15\n",
    "\n",
    "# for reference, first fit without sample weights\n",
    "print(sample_weight_last_ten)\n",
    "# fit the model\n",
    "clf_weights = svm.SVC(gamma=1)\n",
    "clf_weights.fit(X, y, sample_weight=sample_weight_last_ten)\n",
    "\n",
    "clf_no_weights = svm.SVC(gamma=1)\n",
    "clf_no_weights.fit(X, y)\n",
    "\n",
    "fig, axes = plt.subplots(1, 2, figsize=(14, 6))\n",
    "plot_decision_function(clf_no_weights, sample_weight_constant, axes[0],\n",
    "                       \"Constant weights\")\n",
    "plot_decision_function(clf_weights, sample_weight_last_ten, axes[1],\n",
    "                       \"Modified weights\")\n",
    "\n",
    "plt.show()"
   ]
  },
  {
   "cell_type": "code",
   "execution_count": null,
   "metadata": {},
   "outputs": [],
   "source": [
    "# a = -class_weight[0] / class_weight[1]\n",
    "\n",
    "# xx = np.linspace(0,50)\n",
    "# yy = a * xx - feature_weight[0].max() / class_weight[1]\n",
    "# print(xx.min(),yy.max())\n",
    "# h0 = plt.plot(xx, yy, 'k-', label=\"non weighted div\")\n",
    "\n",
    "# plt.scatter(x, y,c=y)\n",
    "# plt.ylim(yy.min(),50)\n",
    "# plt.xlim(xx.min(),50)\n",
    "# plt.legend()\n",
    "# plt.show()"
   ]
  },
  {
   "cell_type": "code",
   "execution_count": null,
   "metadata": {},
   "outputs": [],
   "source": [
    "\n",
    "# import numpy as np\n",
    "# import matplotlib.pyplot as plt\n",
    "# from sklearn import svm, datasets\n",
    "\n",
    "# # import some data to play with\n",
    "# iris = datasets.load_iris()\n",
    "# X = data.iloc[:1000, :100]  # we only take the first two features. We could\n",
    "#                       # avoid this ugly slicing by using a two-dim dataset\n",
    "# y = label.iloc[:1000]\n",
    "\n",
    "# h = .02  # step size in the mesh\n",
    "\n",
    "# # we create an instance of SVM and fit out data. We do not scale our\n",
    "# # data since we want to plot the support vectors\n",
    "# C = 1.0  # SVM regularization parameter\n",
    "# svc = svm.SVC(kernel='linear', C=C).fit(X, y)\n",
    "# rbf_svc = svm.SVC(kernel='rbf', gamma=0.7, C=C).fit(X, y)\n",
    "# poly_svc = svm.SVC(kernel='poly', degree=3, C=C).fit(X, y)\n",
    "# lin_svc = svm.LinearSVC(C=C).fit(X, y)\n",
    "\n",
    "# # create a mesh to plot in\n",
    "# x_min, x_max = X.iloc[:, 0].min() - 1, X.iloc[:, 0].max() + 1\n",
    "# y_min, y_max = X.iloc[:, 100].min() - 1, X.iloc[:, 100].max() + 1\n",
    "# xx, yy = np.meshgrid(np.arange(x_min, x_max, h),\n",
    "#                      np.arange(y_min, y_max, h))\n",
    "\n",
    "# # title for the plots\n",
    "# titles = ['SVC with linear kernel',\n",
    "#           'LinearSVC (linear kernel)',\n",
    "#           'SVC with RBF kernel',\n",
    "#           'SVC with polynomial (degree 3) kernel']\n",
    "\n",
    "\n",
    "# for i, clf in enumerate((svc, lin_svc, rbf_svc, poly_svc)):\n",
    "#     # Plot the decision boundary. For that, we will assign a color to each\n",
    "#     # point in the mesh [x_min, x_max]x[y_min, y_max].\n",
    "#     plt.subplot(2, 2, i + 1)\n",
    "#     plt.subplots_adjust(wspace=0.4, hspace=0.4)\n",
    "\n",
    "#     Z = clf.predict(np.c_[xx.ravel(), yy.ravel()])\n",
    "\n",
    "#     # Put the result into a color plot\n",
    "#     Z = Z.reshape(xx.shape)\n",
    "#     plt.contourf(xx, yy, Z, cmap=plt.cm.coolwarm, alpha=0.8)\n",
    "\n",
    "#     # Plot also the training points\n",
    "#     plt.scatter(X.iloc[:, 0], X.iloc[:, 1], c=y, cmap=plt.cm.coolwarm)\n",
    "#     plt.xlabel('Sepal length')\n",
    "#     plt.ylabel('Sepal width')\n",
    "#     plt.xlim(xx.min(), xx.max())\n",
    "#     plt.ylim(yy.min(), yy.max())\n",
    "#     plt.xticks(())\n",
    "#     plt.yticks(())\n",
    "#     plt.title(titles[i])\n",
    "\n",
    "# plt.show()"
   ]
  },
  {
   "cell_type": "code",
   "execution_count": null,
   "metadata": {},
   "outputs": [],
   "source": [
    "# plot_decision_function(clf,clf.class_weight_,axes[0],'SVC without weights')"
   ]
  },
  {
   "cell_type": "code",
   "execution_count": null,
   "metadata": {},
   "outputs": [],
   "source": [
    "# from sklearn.datasets.samples_generator import make_blobs \n",
    "\n",
    "# x,y = make_blobs(n_samples=100,centers=3,n_features=3)\n",
    "# plt.scatter(x[:, 0], x[:, 1], c=y, s=50, cmap='spring'); \n",
    "# plt.show()  "
   ]
  }
 ],
 "metadata": {
  "kernelspec": {
   "display_name": "Python 3",
   "language": "python",
   "name": "python3"
  },
  "language_info": {
   "codemirror_mode": {
    "name": "ipython",
    "version": 3
   },
   "file_extension": ".py",
   "mimetype": "text/x-python",
   "name": "python",
   "nbconvert_exporter": "python",
   "pygments_lexer": "ipython3",
   "version": "3.6.6rc1"
  }
 },
 "nbformat": 4,
 "nbformat_minor": 2
}
