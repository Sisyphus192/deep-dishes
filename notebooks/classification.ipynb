{
 "cells": [
  {
   "cell_type": "code",
   "execution_count": 1,
   "metadata": {},
   "outputs": [],
   "source": [
    "import numpy as np\n",
    "import pandas as pd\n",
    "import matplotlib.pyplot as plt\n"
   ]
  },
  {
   "cell_type": "code",
   "execution_count": 2,
   "metadata": {},
   "outputs": [],
   "source": [
    "# importing class object that I created\n",
    "import sys  \n",
    "sys.path.insert(0, '../src/')\n",
    "import utils"
   ]
  },
  {
   "cell_type": "code",
   "execution_count": 3,
   "metadata": {},
   "outputs": [],
   "source": [
    "tools = utils.tools() # create object"
   ]
  },
  {
   "cell_type": "code",
   "execution_count": 4,
   "metadata": {},
   "outputs": [],
   "source": [
    "epi_data_df = tools.readfile('../data/processed/epi_vector.h5')\n",
    "epi_data_df = tools.df"
   ]
  },
  {
   "cell_type": "markdown",
   "metadata": {},
   "source": [
    "## Helper functions"
   ]
  },
  {
   "cell_type": "code",
   "execution_count": null,
   "metadata": {},
   "outputs": [],
   "source": []
  },
  {
   "cell_type": "code",
   "execution_count": 279,
   "metadata": {},
   "outputs": [],
   "source": [
    "# Drop column with all zeros\n",
    "def dropZeroColumns(sample_df):\n",
    "    sample_df = sample_df.loc[:, (sample_df != 0).any(axis=0)]\n",
    "    return sample_df"
   ]
  },
  {
   "cell_type": "code",
   "execution_count": 280,
   "metadata": {},
   "outputs": [],
   "source": [
    "def deleterows(df,column,value):\n",
    "    df.drop(df [df[column] == value].index,inplace=True)\n",
    "#     df.drop(df [df[column] == value2].index,inplace=True)\n",
    "    return df"
   ]
  },
  {
   "cell_type": "code",
   "execution_count": 281,
   "metadata": {},
   "outputs": [],
   "source": [
    "# Create column in sample_df for allergy tags\n",
    "def addallergytoDF(df):\n",
    "    for i in allergy_df.tag:\n",
    "        df[i] = [i in tags for tags in df.tags]\n",
    "    return df"
   ]
  },
  {
   "cell_type": "code",
   "execution_count": 282,
   "metadata": {},
   "outputs": [],
   "source": [
    "# drop not relevent columns and drop rest of allergy column except one you are analyzing\n",
    "def dropAllergyColumn(sample_df,allergy_col):\n",
    "    sample_df = sample_df.drop(columns=['avg_rating','best_rating','prepare_again_rating','num_reviews'],axis=0)\n",
    "\n",
    "    sample_df = sample_df.drop(columns=allergy_col,axis=0)\n",
    "\n",
    "    return sample_df"
   ]
  },
  {
   "cell_type": "code",
   "execution_count": 283,
   "metadata": {},
   "outputs": [],
   "source": [
    "# Seperate data and label to classify, \n",
    "# X are attribute columns used to classify, Y is the label\n",
    "# first delete all infinity values in data\n",
    "def getTrianData(sample_df,data_column,label_column):\n",
    "    sample_df = sample_df[(sample_df != np.inf).all(axis=1)]\n",
    "    data = sample_df.drop(columns=data_column, axis=1)\n",
    "    label = sample_df[label_column]\n",
    "    return data,label\n",
    "# print(label.head(1))\n",
    "# #X = X.astype('int32') # convert to int if needed\n",
    "# data.head(25)"
   ]
  },
  {
   "cell_type": "code",
   "execution_count": 284,
   "metadata": {},
   "outputs": [],
   "source": [
    "class SVCmodel(object):\n",
    "    def __init__(self):\n",
    "        pass\n",
    "    def getSupport(self,model):\n",
    "        '''Indices of support vectors'''\n",
    "        return model.support_\n",
    "    def getClassWeight(self,model):\n",
    "        '''Support vectors'''\n",
    "        return model.class_weight_\n",
    "    def getNsupport(self,model):\n",
    "        '''# of support vector for each class'''\n",
    "        return model.n_support_\n",
    "    def getsupportcoef(self,model):\n",
    "        '''related to support vector in the decision function.'''\n",
    "        return model.dual_coef_\n",
    "    def getfeaturesweight(self,model):\n",
    "        '''weight assigned to the features'''\n",
    "        return model.coef_\n",
    "    def getintercept(self,model):\n",
    "        '''constants in decision function'''\n",
    "        return model.intercept_\n",
    "    def getfitstatus(self,model):\n",
    "        '''0 if correctly fitted, 1 otherwise(will raise warning)'''\n",
    "        return model.fit_status_\n",
    "    def getclasses(self,model):\n",
    "        '''The class label'''\n",
    "        return model.classes_\n",
    "    def getprobA(self,model):\n",
    "        '''array type, shape = [n_class*(n_classes-1)/2]'''\n",
    "        return model.probA_\n",
    "    def getprobB(self,model):\n",
    "        '''array type, shape = [n_class*(n_classes-1)/2].\n",
    "        If probability=True, it corresponds to the parameters \n",
    "        learned in Platt scaling to produce probability estimates \n",
    "        from decision values. If probability=False, it’s an empty array. \n",
    "        Platt scaling uses the logistic function \n",
    "        1 / (1 + exp(decision_value * probA_ + probB_)) \n",
    "        where probA_ and probB_ are learned from the dataset \n",
    "        '''\n",
    "        return model.probA_\n",
    "    def getclassweight(self,model):\n",
    "        '''multipliers of parameter C for each class.'''\n",
    "        return model.class_weight_\n",
    "    def getshapefit(self,model):\n",
    "        return model.shape_fit_"
   ]
  },
  {
   "cell_type": "markdown",
   "metadata": {},
   "source": [
    "## Data Preparation for Classification"
   ]
  },
  {
   "cell_type": "code",
   "execution_count": 5,
   "metadata": {},
   "outputs": [],
   "source": [
    "sample_df = epi_data_df.head(10000)\n",
    "# sample_df\n",
    "# list(sample_df.columns.values)"
   ]
  },
  {
   "cell_type": "code",
   "execution_count": 7,
   "metadata": {},
   "outputs": [
    {
     "data": {
      "text/html": [
       "<div>\n",
       "<style scoped>\n",
       "    .dataframe tbody tr th:only-of-type {\n",
       "        vertical-align: middle;\n",
       "    }\n",
       "\n",
       "    .dataframe tbody tr th {\n",
       "        vertical-align: top;\n",
       "    }\n",
       "\n",
       "    .dataframe thead th {\n",
       "        text-align: right;\n",
       "    }\n",
       "</style>\n",
       "<table border=\"1\" class=\"dataframe\">\n",
       "  <thead>\n",
       "    <tr style=\"text-align: right;\">\n",
       "      <th></th>\n",
       "      <th>\" &gt; panko (japanese bread crumb bread crumb</th>\n",
       "      <th>\" biscuit cutter</th>\n",
       "      <th>\" brown candy \" sugar brown sugar</th>\n",
       "      <th>\" cauliflower floret (cut from 1 large head)</th>\n",
       "      <th>\" cube salt pork</th>\n",
       "      <th>\" large \" egg</th>\n",
       "      <th>\" pie dish</th>\n",
       "      <th>\" piece (about 6 ounce) thick - cut smoke bacon</th>\n",
       "      <th>\" piece ginger, peel, finely grated</th>\n",
       "      <th>\" pita bread</th>\n",
       "      <th>...</th>\n",
       "      <th>zucchini squash</th>\n",
       "      <th>zucchini zucchini</th>\n",
       "      <th>zucchini, quarter lengthwise then slice across thinly</th>\n",
       "      <th>zucchinis</th>\n",
       "      <th>avg_rating</th>\n",
       "      <th>best_rating</th>\n",
       "      <th>prepare_again_rating</th>\n",
       "      <th>num_reviews</th>\n",
       "      <th>tags</th>\n",
       "      <th>title</th>\n",
       "    </tr>\n",
       "  </thead>\n",
       "  <tbody>\n",
       "    <tr>\n",
       "      <th>http://www.epicurious.com/recipes/food/views/-adult-pimiento-cheese-100852</th>\n",
       "      <td>0.0</td>\n",
       "      <td>0.0</td>\n",
       "      <td>0.0</td>\n",
       "      <td>0.0</td>\n",
       "      <td>0.0</td>\n",
       "      <td>0.0</td>\n",
       "      <td>0.0</td>\n",
       "      <td>0.0</td>\n",
       "      <td>0.0</td>\n",
       "      <td>0.0</td>\n",
       "      <td>...</td>\n",
       "      <td>0.0</td>\n",
       "      <td>0.0</td>\n",
       "      <td>0.0</td>\n",
       "      <td>0.0</td>\n",
       "      <td>2.5</td>\n",
       "      <td>4.0</td>\n",
       "      <td>0.85</td>\n",
       "      <td>25.0</td>\n",
       "      <td>[Cheese, Vegetable, No-Cook, Vegetarian, Quick...</td>\n",
       "      <td>\"Adult\" Pimiento Cheese</td>\n",
       "    </tr>\n",
       "    <tr>\n",
       "      <th>http://www.epicurious.com/recipes/food/views/-an-apple-a-day-51133430</th>\n",
       "      <td>0.0</td>\n",
       "      <td>0.0</td>\n",
       "      <td>0.0</td>\n",
       "      <td>0.0</td>\n",
       "      <td>0.0</td>\n",
       "      <td>0.0</td>\n",
       "      <td>0.0</td>\n",
       "      <td>0.0</td>\n",
       "      <td>0.0</td>\n",
       "      <td>0.0</td>\n",
       "      <td>...</td>\n",
       "      <td>0.0</td>\n",
       "      <td>0.0</td>\n",
       "      <td>0.0</td>\n",
       "      <td>0.0</td>\n",
       "      <td>3.5</td>\n",
       "      <td>4.0</td>\n",
       "      <td>0.67</td>\n",
       "      <td>3.0</td>\n",
       "      <td>[Ginger, Dessert, Bake, Apple, Almond, Fall, R...</td>\n",
       "      <td>\"An Apple a Day\"</td>\n",
       "    </tr>\n",
       "    <tr>\n",
       "      <th>http://www.epicurious.com/recipes/food/views/-blanketed-eggplant-305</th>\n",
       "      <td>0.0</td>\n",
       "      <td>0.0</td>\n",
       "      <td>0.0</td>\n",
       "      <td>0.0</td>\n",
       "      <td>0.0</td>\n",
       "      <td>0.0</td>\n",
       "      <td>0.0</td>\n",
       "      <td>0.0</td>\n",
       "      <td>0.0</td>\n",
       "      <td>0.0</td>\n",
       "      <td>...</td>\n",
       "      <td>0.0</td>\n",
       "      <td>0.0</td>\n",
       "      <td>0.0</td>\n",
       "      <td>0.0</td>\n",
       "      <td>3.0</td>\n",
       "      <td>4.0</td>\n",
       "      <td>0.75</td>\n",
       "      <td>4.0</td>\n",
       "      <td>[Tomato, Vegetable, Appetizer, Side, Vegetaria...</td>\n",
       "      <td>\"Blanketed\" Eggplant</td>\n",
       "    </tr>\n",
       "  </tbody>\n",
       "</table>\n",
       "<p>3 rows × 7305 columns</p>\n",
       "</div>"
      ],
      "text/plain": [
       "                                                    \" > panko (japanese bread crumb bread crumb  \\\n",
       "http://www.epicurious.com/recipes/food/views/-a...                                          0.0   \n",
       "http://www.epicurious.com/recipes/food/views/-a...                                          0.0   \n",
       "http://www.epicurious.com/recipes/food/views/-b...                                          0.0   \n",
       "\n",
       "                                                    \" biscuit cutter  \\\n",
       "http://www.epicurious.com/recipes/food/views/-a...               0.0   \n",
       "http://www.epicurious.com/recipes/food/views/-a...               0.0   \n",
       "http://www.epicurious.com/recipes/food/views/-b...               0.0   \n",
       "\n",
       "                                                    \" brown candy \" sugar brown sugar  \\\n",
       "http://www.epicurious.com/recipes/food/views/-a...                                0.0   \n",
       "http://www.epicurious.com/recipes/food/views/-a...                                0.0   \n",
       "http://www.epicurious.com/recipes/food/views/-b...                                0.0   \n",
       "\n",
       "                                                    \" cauliflower floret (cut from 1 large head)  \\\n",
       "http://www.epicurious.com/recipes/food/views/-a...                                           0.0   \n",
       "http://www.epicurious.com/recipes/food/views/-a...                                           0.0   \n",
       "http://www.epicurious.com/recipes/food/views/-b...                                           0.0   \n",
       "\n",
       "                                                    \" cube salt pork  \\\n",
       "http://www.epicurious.com/recipes/food/views/-a...               0.0   \n",
       "http://www.epicurious.com/recipes/food/views/-a...               0.0   \n",
       "http://www.epicurious.com/recipes/food/views/-b...               0.0   \n",
       "\n",
       "                                                    \" large \" egg  \" pie dish  \\\n",
       "http://www.epicurious.com/recipes/food/views/-a...            0.0         0.0   \n",
       "http://www.epicurious.com/recipes/food/views/-a...            0.0         0.0   \n",
       "http://www.epicurious.com/recipes/food/views/-b...            0.0         0.0   \n",
       "\n",
       "                                                    \" piece (about 6 ounce) thick - cut smoke bacon  \\\n",
       "http://www.epicurious.com/recipes/food/views/-a...                                              0.0   \n",
       "http://www.epicurious.com/recipes/food/views/-a...                                              0.0   \n",
       "http://www.epicurious.com/recipes/food/views/-b...                                              0.0   \n",
       "\n",
       "                                                    \" piece ginger, peel, finely grated  \\\n",
       "http://www.epicurious.com/recipes/food/views/-a...                                  0.0   \n",
       "http://www.epicurious.com/recipes/food/views/-a...                                  0.0   \n",
       "http://www.epicurious.com/recipes/food/views/-b...                                  0.0   \n",
       "\n",
       "                                                    \" pita bread  ...  \\\n",
       "http://www.epicurious.com/recipes/food/views/-a...           0.0  ...   \n",
       "http://www.epicurious.com/recipes/food/views/-a...           0.0  ...   \n",
       "http://www.epicurious.com/recipes/food/views/-b...           0.0  ...   \n",
       "\n",
       "                                                    zucchini squash  \\\n",
       "http://www.epicurious.com/recipes/food/views/-a...              0.0   \n",
       "http://www.epicurious.com/recipes/food/views/-a...              0.0   \n",
       "http://www.epicurious.com/recipes/food/views/-b...              0.0   \n",
       "\n",
       "                                                    zucchini zucchini  \\\n",
       "http://www.epicurious.com/recipes/food/views/-a...                0.0   \n",
       "http://www.epicurious.com/recipes/food/views/-a...                0.0   \n",
       "http://www.epicurious.com/recipes/food/views/-b...                0.0   \n",
       "\n",
       "                                                    zucchini, quarter lengthwise then slice across thinly  \\\n",
       "http://www.epicurious.com/recipes/food/views/-a...                                                0.0       \n",
       "http://www.epicurious.com/recipes/food/views/-a...                                                0.0       \n",
       "http://www.epicurious.com/recipes/food/views/-b...                                                0.0       \n",
       "\n",
       "                                                    zucchinis  avg_rating  \\\n",
       "http://www.epicurious.com/recipes/food/views/-a...        0.0         2.5   \n",
       "http://www.epicurious.com/recipes/food/views/-a...        0.0         3.5   \n",
       "http://www.epicurious.com/recipes/food/views/-b...        0.0         3.0   \n",
       "\n",
       "                                                    best_rating  \\\n",
       "http://www.epicurious.com/recipes/food/views/-a...          4.0   \n",
       "http://www.epicurious.com/recipes/food/views/-a...          4.0   \n",
       "http://www.epicurious.com/recipes/food/views/-b...          4.0   \n",
       "\n",
       "                                                    prepare_again_rating  \\\n",
       "http://www.epicurious.com/recipes/food/views/-a...                  0.85   \n",
       "http://www.epicurious.com/recipes/food/views/-a...                  0.67   \n",
       "http://www.epicurious.com/recipes/food/views/-b...                  0.75   \n",
       "\n",
       "                                                    num_reviews  \\\n",
       "http://www.epicurious.com/recipes/food/views/-a...         25.0   \n",
       "http://www.epicurious.com/recipes/food/views/-a...          3.0   \n",
       "http://www.epicurious.com/recipes/food/views/-b...          4.0   \n",
       "\n",
       "                                                                                                 tags  \\\n",
       "http://www.epicurious.com/recipes/food/views/-a...  [Cheese, Vegetable, No-Cook, Vegetarian, Quick...   \n",
       "http://www.epicurious.com/recipes/food/views/-a...  [Ginger, Dessert, Bake, Apple, Almond, Fall, R...   \n",
       "http://www.epicurious.com/recipes/food/views/-b...  [Tomato, Vegetable, Appetizer, Side, Vegetaria...   \n",
       "\n",
       "                                                                       title  \n",
       "http://www.epicurious.com/recipes/food/views/-a...  \"Adult\" Pimiento Cheese   \n",
       "http://www.epicurious.com/recipes/food/views/-a...         \"An Apple a Day\"   \n",
       "http://www.epicurious.com/recipes/food/views/-b...     \"Blanketed\" Eggplant   \n",
       "\n",
       "[3 rows x 7305 columns]"
      ]
     },
     "execution_count": 7,
     "metadata": {},
     "output_type": "execute_result"
    }
   ],
   "source": [
    "sample_df.head(3)"
   ]
  },
  {
   "cell_type": "code",
   "execution_count": 8,
   "metadata": {},
   "outputs": [],
   "source": [
    "# uncomment below lines to replace column with number greater than 0 to 1 to make it binary.\n",
    "# columns = ['avg_rating','best_rating','worst_rating','prepare_again_rating','num_reviews','total_time', 'tags', 'title']\n",
    "# df = sample_df.copy()\n",
    "# for col in sample_df.columns:\n",
    "#     if col not in columns:\n",
    "#         df.loc[df[col] > 0, col] = 1\n",
    "# df.head(25)"
   ]
  },
  {
   "cell_type": "code",
   "execution_count": 9,
   "metadata": {},
   "outputs": [],
   "source": [
    "# Get count of tags\n",
    "from collections import Counter\n",
    "c = Counter()  \n",
    "sample_df[\"tags\"].apply(lambda x: c.update(x))\n",
    "pass\n",
    "# print(c)"
   ]
  },
  {
   "cell_type": "code",
   "execution_count": 10,
   "metadata": {},
   "outputs": [
    {
     "data": {
      "text/html": [
       "<div>\n",
       "<style scoped>\n",
       "    .dataframe tbody tr th:only-of-type {\n",
       "        vertical-align: middle;\n",
       "    }\n",
       "\n",
       "    .dataframe tbody tr th {\n",
       "        vertical-align: top;\n",
       "    }\n",
       "\n",
       "    .dataframe thead th {\n",
       "        text-align: right;\n",
       "    }\n",
       "</style>\n",
       "<table border=\"1\" class=\"dataframe\">\n",
       "  <thead>\n",
       "    <tr style=\"text-align: right;\">\n",
       "      <th></th>\n",
       "      <th>tags_count</th>\n",
       "      <th>tag</th>\n",
       "    </tr>\n",
       "  </thead>\n",
       "  <tbody>\n",
       "    <tr>\n",
       "      <th>19</th>\n",
       "      <td>4981</td>\n",
       "      <td>Peanut Free</td>\n",
       "    </tr>\n",
       "    <tr>\n",
       "      <th>20</th>\n",
       "      <td>4873</td>\n",
       "      <td>Soy Free</td>\n",
       "    </tr>\n",
       "    <tr>\n",
       "      <th>17</th>\n",
       "      <td>4372</td>\n",
       "      <td>Bon Appétit</td>\n",
       "    </tr>\n",
       "    <tr>\n",
       "      <th>3</th>\n",
       "      <td>4075</td>\n",
       "      <td>Vegetarian</td>\n",
       "    </tr>\n",
       "    <tr>\n",
       "      <th>34</th>\n",
       "      <td>4072</td>\n",
       "      <td>Tree Nut Free</td>\n",
       "    </tr>\n",
       "    <tr>\n",
       "      <th>...</th>\n",
       "      <td>...</td>\n",
       "      <td>...</td>\n",
       "    </tr>\n",
       "    <tr>\n",
       "      <th>123</th>\n",
       "      <td>31</td>\n",
       "      <td>Veal</td>\n",
       "    </tr>\n",
       "    <tr>\n",
       "      <th>212</th>\n",
       "      <td>31</td>\n",
       "      <td>Cookie</td>\n",
       "    </tr>\n",
       "    <tr>\n",
       "      <th>539</th>\n",
       "      <td>31</td>\n",
       "      <td>Beef Rib</td>\n",
       "    </tr>\n",
       "    <tr>\n",
       "      <th>354</th>\n",
       "      <td>31</td>\n",
       "      <td>New York</td>\n",
       "    </tr>\n",
       "    <tr>\n",
       "      <th>330</th>\n",
       "      <td>31</td>\n",
       "      <td>Fortified Wine</td>\n",
       "    </tr>\n",
       "  </tbody>\n",
       "</table>\n",
       "<p>339 rows × 2 columns</p>\n",
       "</div>"
      ],
      "text/plain": [
       "     tags_count             tag\n",
       "19         4981     Peanut Free\n",
       "20         4873        Soy Free\n",
       "17         4372     Bon Appétit\n",
       "3          4075      Vegetarian\n",
       "34         4072   Tree Nut Free\n",
       "..          ...             ...\n",
       "123          31            Veal\n",
       "212          31          Cookie\n",
       "539          31        Beef Rib\n",
       "354          31        New York\n",
       "330          31  Fortified Wine\n",
       "\n",
       "[339 rows x 2 columns]"
      ]
     },
     "execution_count": 10,
     "metadata": {},
     "output_type": "execute_result"
    }
   ],
   "source": [
    "# store tag count in df\n",
    "count = pd.DataFrame()\n",
    "count['tags_count'] = [c[i] for i in c]\n",
    "count['tag'] = [i for i in c]\n",
    "count = count.sort_values(by='tags_count',ascending=False)\n",
    "\n",
    "# delete row with value < n\n",
    "indexNames = count[ count['tags_count'] <= 30 ].index\n",
    " \n",
    "# Delete these row indexes from dataFrame\n",
    "count.drop(indexNames , inplace=True)\n",
    "count"
   ]
  },
  {
   "cell_type": "code",
   "execution_count": 11,
   "metadata": {},
   "outputs": [
    {
     "data": {
      "text/html": [
       "<div>\n",
       "<style scoped>\n",
       "    .dataframe tbody tr th:only-of-type {\n",
       "        vertical-align: middle;\n",
       "    }\n",
       "\n",
       "    .dataframe tbody tr th {\n",
       "        vertical-align: top;\n",
       "    }\n",
       "\n",
       "    .dataframe thead th {\n",
       "        text-align: right;\n",
       "    }\n",
       "</style>\n",
       "<table border=\"1\" class=\"dataframe\">\n",
       "  <thead>\n",
       "    <tr style=\"text-align: right;\">\n",
       "      <th></th>\n",
       "      <th>tags_count</th>\n",
       "      <th>tag</th>\n",
       "      <th>allergy_tags</th>\n",
       "    </tr>\n",
       "  </thead>\n",
       "  <tbody>\n",
       "    <tr>\n",
       "      <th>19</th>\n",
       "      <td>4981</td>\n",
       "      <td>Peanut Free</td>\n",
       "      <td>True</td>\n",
       "    </tr>\n",
       "    <tr>\n",
       "      <th>20</th>\n",
       "      <td>4873</td>\n",
       "      <td>Soy Free</td>\n",
       "      <td>True</td>\n",
       "    </tr>\n",
       "    <tr>\n",
       "      <th>34</th>\n",
       "      <td>4072</td>\n",
       "      <td>Tree Nut Free</td>\n",
       "      <td>True</td>\n",
       "    </tr>\n",
       "    <tr>\n",
       "      <th>57</th>\n",
       "      <td>2712</td>\n",
       "      <td>Wheat/Gluten-Free</td>\n",
       "      <td>True</td>\n",
       "    </tr>\n",
       "    <tr>\n",
       "      <th>33</th>\n",
       "      <td>1590</td>\n",
       "      <td>Dairy Free</td>\n",
       "      <td>True</td>\n",
       "    </tr>\n",
       "    <tr>\n",
       "      <th>288</th>\n",
       "      <td>208</td>\n",
       "      <td>Fat Free</td>\n",
       "      <td>True</td>\n",
       "    </tr>\n",
       "  </tbody>\n",
       "</table>\n",
       "</div>"
      ],
      "text/plain": [
       "     tags_count                tag  allergy_tags\n",
       "19         4981        Peanut Free          True\n",
       "20         4873           Soy Free          True\n",
       "34         4072      Tree Nut Free          True\n",
       "57         2712  Wheat/Gluten-Free          True\n",
       "33         1590         Dairy Free          True\n",
       "288         208           Fat Free          True"
      ]
     },
     "execution_count": 11,
     "metadata": {},
     "output_type": "execute_result"
    }
   ],
   "source": [
    "# look for ### Free tags\n",
    "count['allergy_tags'] = count['tag'].str.endswith('Free')\n",
    "\n",
    "allergy_df = count[count['allergy_tags'] == True]\n",
    "allergy_df"
   ]
  },
  {
   "cell_type": "code",
   "execution_count": 13,
   "metadata": {},
   "outputs": [
    {
     "data": {
      "text/html": [
       "<div>\n",
       "<style scoped>\n",
       "    .dataframe tbody tr th:only-of-type {\n",
       "        vertical-align: middle;\n",
       "    }\n",
       "\n",
       "    .dataframe tbody tr th {\n",
       "        vertical-align: top;\n",
       "    }\n",
       "\n",
       "    .dataframe thead th {\n",
       "        text-align: right;\n",
       "    }\n",
       "</style>\n",
       "<table border=\"1\" class=\"dataframe\">\n",
       "  <thead>\n",
       "    <tr style=\"text-align: right;\">\n",
       "      <th></th>\n",
       "      <th>\" &gt; panko (japanese bread crumb bread crumb</th>\n",
       "      <th>\" biscuit cutter</th>\n",
       "      <th>\" brown candy \" sugar brown sugar</th>\n",
       "      <th>\" cauliflower floret (cut from 1 large head)</th>\n",
       "      <th>\" cube salt pork</th>\n",
       "      <th>\" large \" egg</th>\n",
       "      <th>\" pie dish</th>\n",
       "      <th>\" piece (about 6 ounce) thick - cut smoke bacon</th>\n",
       "      <th>\" piece ginger, peel, finely grated</th>\n",
       "      <th>\" pita bread</th>\n",
       "      <th>...</th>\n",
       "      <th>prepare_again_rating</th>\n",
       "      <th>num_reviews</th>\n",
       "      <th>tags</th>\n",
       "      <th>title</th>\n",
       "      <th>Peanut Free</th>\n",
       "      <th>Soy Free</th>\n",
       "      <th>Tree Nut Free</th>\n",
       "      <th>Wheat/Gluten-Free</th>\n",
       "      <th>Dairy Free</th>\n",
       "      <th>Fat Free</th>\n",
       "    </tr>\n",
       "  </thead>\n",
       "  <tbody>\n",
       "    <tr>\n",
       "      <th>http://www.epicurious.com/recipes/food/views/-adult-pimiento-cheese-100852</th>\n",
       "      <td>0.0</td>\n",
       "      <td>0.0</td>\n",
       "      <td>0.0</td>\n",
       "      <td>0.0</td>\n",
       "      <td>0.0</td>\n",
       "      <td>0.0</td>\n",
       "      <td>0.0</td>\n",
       "      <td>0.0</td>\n",
       "      <td>0.0</td>\n",
       "      <td>0.0</td>\n",
       "      <td>...</td>\n",
       "      <td>0.85</td>\n",
       "      <td>25.0</td>\n",
       "      <td>[Cheese, Vegetable, No-Cook, Vegetarian, Quick...</td>\n",
       "      <td>\"Adult\" Pimiento Cheese</td>\n",
       "      <td>False</td>\n",
       "      <td>False</td>\n",
       "      <td>False</td>\n",
       "      <td>False</td>\n",
       "      <td>False</td>\n",
       "      <td>False</td>\n",
       "    </tr>\n",
       "  </tbody>\n",
       "</table>\n",
       "<p>1 rows × 7311 columns</p>\n",
       "</div>"
      ],
      "text/plain": [
       "                                                    \" > panko (japanese bread crumb bread crumb  \\\n",
       "http://www.epicurious.com/recipes/food/views/-a...                                          0.0   \n",
       "\n",
       "                                                    \" biscuit cutter  \\\n",
       "http://www.epicurious.com/recipes/food/views/-a...               0.0   \n",
       "\n",
       "                                                    \" brown candy \" sugar brown sugar  \\\n",
       "http://www.epicurious.com/recipes/food/views/-a...                                0.0   \n",
       "\n",
       "                                                    \" cauliflower floret (cut from 1 large head)  \\\n",
       "http://www.epicurious.com/recipes/food/views/-a...                                           0.0   \n",
       "\n",
       "                                                    \" cube salt pork  \\\n",
       "http://www.epicurious.com/recipes/food/views/-a...               0.0   \n",
       "\n",
       "                                                    \" large \" egg  \" pie dish  \\\n",
       "http://www.epicurious.com/recipes/food/views/-a...            0.0         0.0   \n",
       "\n",
       "                                                    \" piece (about 6 ounce) thick - cut smoke bacon  \\\n",
       "http://www.epicurious.com/recipes/food/views/-a...                                              0.0   \n",
       "\n",
       "                                                    \" piece ginger, peel, finely grated  \\\n",
       "http://www.epicurious.com/recipes/food/views/-a...                                  0.0   \n",
       "\n",
       "                                                    \" pita bread  ...  \\\n",
       "http://www.epicurious.com/recipes/food/views/-a...           0.0  ...   \n",
       "\n",
       "                                                    prepare_again_rating  \\\n",
       "http://www.epicurious.com/recipes/food/views/-a...                  0.85   \n",
       "\n",
       "                                                    num_reviews  \\\n",
       "http://www.epicurious.com/recipes/food/views/-a...         25.0   \n",
       "\n",
       "                                                                                                 tags  \\\n",
       "http://www.epicurious.com/recipes/food/views/-a...  [Cheese, Vegetable, No-Cook, Vegetarian, Quick...   \n",
       "\n",
       "                                                                       title  \\\n",
       "http://www.epicurious.com/recipes/food/views/-a...  \"Adult\" Pimiento Cheese    \n",
       "\n",
       "                                                    Peanut Free  Soy Free  \\\n",
       "http://www.epicurious.com/recipes/food/views/-a...        False     False   \n",
       "\n",
       "                                                    Tree Nut Free  \\\n",
       "http://www.epicurious.com/recipes/food/views/-a...          False   \n",
       "\n",
       "                                                    Wheat/Gluten-Free  \\\n",
       "http://www.epicurious.com/recipes/food/views/-a...              False   \n",
       "\n",
       "                                                    Dairy Free  Fat Free  \n",
       "http://www.epicurious.com/recipes/food/views/-a...       False     False  \n",
       "\n",
       "[1 rows x 7311 columns]"
      ]
     },
     "execution_count": 13,
     "metadata": {},
     "output_type": "execute_result"
    }
   ],
   "source": [
    "sample_df.head(1)"
   ]
  },
  {
   "cell_type": "code",
   "execution_count": 16,
   "metadata": {},
   "outputs": [],
   "source": [
    "# len(sample_df[[\"Breakfast\" in x for x in sample_df.tags]])"
   ]
  },
  {
   "cell_type": "code",
   "execution_count": 17,
   "metadata": {},
   "outputs": [],
   "source": [
    "# Uncomment below if need to encode data into unique value \n",
    "\n",
    "\n",
    "# from sklearn import preprocessing\n",
    "# # label encoder\n",
    "# le = preprocessing.LabelEncoder()\n",
    "\n",
    "# # Converting string labels into numbers\n",
    "# label = le.fit_transform(Y) # 0 ==> False, 1 ==> True\n",
    "# label\n",
    "\n",
    "# Uncomment below if need to convert X data into encoder and turn it into tuple list\n",
    "#data.apply(le.fit_transform)\n",
    "#data = [tuple(r) for r in data.values.tolist()]"
   ]
  },
  {
   "cell_type": "code",
   "execution_count": 18,
   "metadata": {},
   "outputs": [],
   "source": [
    "# uncomment below if need to look for inf value in data \n",
    "# for col in X.columns:\n",
    "#     print(X.loc[X[col] > 100000, col])"
   ]
  },
  {
   "cell_type": "code",
   "execution_count": 19,
   "metadata": {},
   "outputs": [],
   "source": [
    "data1 = data[(data != np.inf).all(axis=1)]"
   ]
  },
  {
   "cell_type": "code",
   "execution_count": 20,
   "metadata": {},
   "outputs": [
    {
     "data": {
      "text/html": [
       "<div>\n",
       "<style scoped>\n",
       "    .dataframe tbody tr th:only-of-type {\n",
       "        vertical-align: middle;\n",
       "    }\n",
       "\n",
       "    .dataframe tbody tr th {\n",
       "        vertical-align: top;\n",
       "    }\n",
       "\n",
       "    .dataframe thead th {\n",
       "        text-align: right;\n",
       "    }\n",
       "</style>\n",
       "<table border=\"1\" class=\"dataframe\">\n",
       "  <thead>\n",
       "    <tr style=\"text-align: right;\">\n",
       "      <th></th>\n",
       "      <th>\" &gt; panko (japanese bread crumb bread crumb</th>\n",
       "      <th>\" biscuit cutter</th>\n",
       "      <th>\" brown candy \" sugar brown sugar</th>\n",
       "      <th>\" cauliflower floret (cut from 1 large head)</th>\n",
       "      <th>\" cube salt pork</th>\n",
       "      <th>\" large \" egg</th>\n",
       "      <th>\" pie dish</th>\n",
       "      <th>\" piece (about 6 ounce) thick - cut smoke bacon</th>\n",
       "      <th>\" piece ginger, peel, finely grated</th>\n",
       "      <th>\" pita bread</th>\n",
       "      <th>...</th>\n",
       "      <th>ziti pasta</th>\n",
       "      <th>zucchini</th>\n",
       "      <th>zucchini (about 5 medium), slice thin</th>\n",
       "      <th>zucchini blossom</th>\n",
       "      <th>zucchini blossom, tear into large piece (optional)</th>\n",
       "      <th>zucchini flower</th>\n",
       "      <th>zucchini squash</th>\n",
       "      <th>zucchini zucchini</th>\n",
       "      <th>zucchini, quarter lengthwise then slice across thinly</th>\n",
       "      <th>zucchinis</th>\n",
       "    </tr>\n",
       "  </thead>\n",
       "  <tbody>\n",
       "    <tr>\n",
       "      <th>http://www.epicurious.com/recipes/food/views/-adult-pimiento-cheese-100852</th>\n",
       "      <td>0.0</td>\n",
       "      <td>0.0</td>\n",
       "      <td>0.0</td>\n",
       "      <td>0.0</td>\n",
       "      <td>0.0</td>\n",
       "      <td>0.0</td>\n",
       "      <td>0.0</td>\n",
       "      <td>0.0</td>\n",
       "      <td>0.0</td>\n",
       "      <td>0.0</td>\n",
       "      <td>...</td>\n",
       "      <td>0.0</td>\n",
       "      <td>0.0</td>\n",
       "      <td>0.0</td>\n",
       "      <td>0.0</td>\n",
       "      <td>0.0</td>\n",
       "      <td>0.0</td>\n",
       "      <td>0.0</td>\n",
       "      <td>0.0</td>\n",
       "      <td>0.0</td>\n",
       "      <td>0.0</td>\n",
       "    </tr>\n",
       "    <tr>\n",
       "      <th>http://www.epicurious.com/recipes/food/views/-an-apple-a-day-51133430</th>\n",
       "      <td>0.0</td>\n",
       "      <td>0.0</td>\n",
       "      <td>0.0</td>\n",
       "      <td>0.0</td>\n",
       "      <td>0.0</td>\n",
       "      <td>0.0</td>\n",
       "      <td>0.0</td>\n",
       "      <td>0.0</td>\n",
       "      <td>0.0</td>\n",
       "      <td>0.0</td>\n",
       "      <td>...</td>\n",
       "      <td>0.0</td>\n",
       "      <td>0.0</td>\n",
       "      <td>0.0</td>\n",
       "      <td>0.0</td>\n",
       "      <td>0.0</td>\n",
       "      <td>0.0</td>\n",
       "      <td>0.0</td>\n",
       "      <td>0.0</td>\n",
       "      <td>0.0</td>\n",
       "      <td>0.0</td>\n",
       "    </tr>\n",
       "    <tr>\n",
       "      <th>http://www.epicurious.com/recipes/food/views/-blanketed-eggplant-305</th>\n",
       "      <td>0.0</td>\n",
       "      <td>0.0</td>\n",
       "      <td>0.0</td>\n",
       "      <td>0.0</td>\n",
       "      <td>0.0</td>\n",
       "      <td>0.0</td>\n",
       "      <td>0.0</td>\n",
       "      <td>0.0</td>\n",
       "      <td>0.0</td>\n",
       "      <td>0.0</td>\n",
       "      <td>...</td>\n",
       "      <td>0.0</td>\n",
       "      <td>0.0</td>\n",
       "      <td>0.0</td>\n",
       "      <td>0.0</td>\n",
       "      <td>0.0</td>\n",
       "      <td>0.0</td>\n",
       "      <td>0.0</td>\n",
       "      <td>0.0</td>\n",
       "      <td>0.0</td>\n",
       "      <td>0.0</td>\n",
       "    </tr>\n",
       "    <tr>\n",
       "      <th>http://www.epicurious.com/recipes/food/views/-bloody-mary-tomato-toast-with-celery-and-horseradish-56389813</th>\n",
       "      <td>0.0</td>\n",
       "      <td>0.0</td>\n",
       "      <td>0.0</td>\n",
       "      <td>0.0</td>\n",
       "      <td>0.0</td>\n",
       "      <td>0.0</td>\n",
       "      <td>0.0</td>\n",
       "      <td>0.0</td>\n",
       "      <td>0.0</td>\n",
       "      <td>0.0</td>\n",
       "      <td>...</td>\n",
       "      <td>0.0</td>\n",
       "      <td>0.0</td>\n",
       "      <td>0.0</td>\n",
       "      <td>0.0</td>\n",
       "      <td>0.0</td>\n",
       "      <td>0.0</td>\n",
       "      <td>0.0</td>\n",
       "      <td>0.0</td>\n",
       "      <td>0.0</td>\n",
       "      <td>0.0</td>\n",
       "    </tr>\n",
       "    <tr>\n",
       "      <th>http://www.epicurious.com/recipes/food/views/-bow-tie-pasta-with-zucchini-101932</th>\n",
       "      <td>0.0</td>\n",
       "      <td>0.0</td>\n",
       "      <td>0.0</td>\n",
       "      <td>0.0</td>\n",
       "      <td>0.0</td>\n",
       "      <td>0.0</td>\n",
       "      <td>0.0</td>\n",
       "      <td>0.0</td>\n",
       "      <td>0.0</td>\n",
       "      <td>0.0</td>\n",
       "      <td>...</td>\n",
       "      <td>0.0</td>\n",
       "      <td>1.5</td>\n",
       "      <td>0.0</td>\n",
       "      <td>0.0</td>\n",
       "      <td>0.0</td>\n",
       "      <td>0.0</td>\n",
       "      <td>0.0</td>\n",
       "      <td>0.0</td>\n",
       "      <td>0.0</td>\n",
       "      <td>0.0</td>\n",
       "    </tr>\n",
       "  </tbody>\n",
       "</table>\n",
       "<p>5 rows × 7299 columns</p>\n",
       "</div>"
      ],
      "text/plain": [
       "                                                    \" > panko (japanese bread crumb bread crumb  \\\n",
       "http://www.epicurious.com/recipes/food/views/-a...                                          0.0   \n",
       "http://www.epicurious.com/recipes/food/views/-a...                                          0.0   \n",
       "http://www.epicurious.com/recipes/food/views/-b...                                          0.0   \n",
       "http://www.epicurious.com/recipes/food/views/-b...                                          0.0   \n",
       "http://www.epicurious.com/recipes/food/views/-b...                                          0.0   \n",
       "\n",
       "                                                    \" biscuit cutter  \\\n",
       "http://www.epicurious.com/recipes/food/views/-a...               0.0   \n",
       "http://www.epicurious.com/recipes/food/views/-a...               0.0   \n",
       "http://www.epicurious.com/recipes/food/views/-b...               0.0   \n",
       "http://www.epicurious.com/recipes/food/views/-b...               0.0   \n",
       "http://www.epicurious.com/recipes/food/views/-b...               0.0   \n",
       "\n",
       "                                                    \" brown candy \" sugar brown sugar  \\\n",
       "http://www.epicurious.com/recipes/food/views/-a...                                0.0   \n",
       "http://www.epicurious.com/recipes/food/views/-a...                                0.0   \n",
       "http://www.epicurious.com/recipes/food/views/-b...                                0.0   \n",
       "http://www.epicurious.com/recipes/food/views/-b...                                0.0   \n",
       "http://www.epicurious.com/recipes/food/views/-b...                                0.0   \n",
       "\n",
       "                                                    \" cauliflower floret (cut from 1 large head)  \\\n",
       "http://www.epicurious.com/recipes/food/views/-a...                                           0.0   \n",
       "http://www.epicurious.com/recipes/food/views/-a...                                           0.0   \n",
       "http://www.epicurious.com/recipes/food/views/-b...                                           0.0   \n",
       "http://www.epicurious.com/recipes/food/views/-b...                                           0.0   \n",
       "http://www.epicurious.com/recipes/food/views/-b...                                           0.0   \n",
       "\n",
       "                                                    \" cube salt pork  \\\n",
       "http://www.epicurious.com/recipes/food/views/-a...               0.0   \n",
       "http://www.epicurious.com/recipes/food/views/-a...               0.0   \n",
       "http://www.epicurious.com/recipes/food/views/-b...               0.0   \n",
       "http://www.epicurious.com/recipes/food/views/-b...               0.0   \n",
       "http://www.epicurious.com/recipes/food/views/-b...               0.0   \n",
       "\n",
       "                                                    \" large \" egg  \" pie dish  \\\n",
       "http://www.epicurious.com/recipes/food/views/-a...            0.0         0.0   \n",
       "http://www.epicurious.com/recipes/food/views/-a...            0.0         0.0   \n",
       "http://www.epicurious.com/recipes/food/views/-b...            0.0         0.0   \n",
       "http://www.epicurious.com/recipes/food/views/-b...            0.0         0.0   \n",
       "http://www.epicurious.com/recipes/food/views/-b...            0.0         0.0   \n",
       "\n",
       "                                                    \" piece (about 6 ounce) thick - cut smoke bacon  \\\n",
       "http://www.epicurious.com/recipes/food/views/-a...                                              0.0   \n",
       "http://www.epicurious.com/recipes/food/views/-a...                                              0.0   \n",
       "http://www.epicurious.com/recipes/food/views/-b...                                              0.0   \n",
       "http://www.epicurious.com/recipes/food/views/-b...                                              0.0   \n",
       "http://www.epicurious.com/recipes/food/views/-b...                                              0.0   \n",
       "\n",
       "                                                    \" piece ginger, peel, finely grated  \\\n",
       "http://www.epicurious.com/recipes/food/views/-a...                                  0.0   \n",
       "http://www.epicurious.com/recipes/food/views/-a...                                  0.0   \n",
       "http://www.epicurious.com/recipes/food/views/-b...                                  0.0   \n",
       "http://www.epicurious.com/recipes/food/views/-b...                                  0.0   \n",
       "http://www.epicurious.com/recipes/food/views/-b...                                  0.0   \n",
       "\n",
       "                                                    \" pita bread  ...  \\\n",
       "http://www.epicurious.com/recipes/food/views/-a...           0.0  ...   \n",
       "http://www.epicurious.com/recipes/food/views/-a...           0.0  ...   \n",
       "http://www.epicurious.com/recipes/food/views/-b...           0.0  ...   \n",
       "http://www.epicurious.com/recipes/food/views/-b...           0.0  ...   \n",
       "http://www.epicurious.com/recipes/food/views/-b...           0.0  ...   \n",
       "\n",
       "                                                    ziti pasta  zucchini  \\\n",
       "http://www.epicurious.com/recipes/food/views/-a...         0.0       0.0   \n",
       "http://www.epicurious.com/recipes/food/views/-a...         0.0       0.0   \n",
       "http://www.epicurious.com/recipes/food/views/-b...         0.0       0.0   \n",
       "http://www.epicurious.com/recipes/food/views/-b...         0.0       0.0   \n",
       "http://www.epicurious.com/recipes/food/views/-b...         0.0       1.5   \n",
       "\n",
       "                                                    zucchini (about 5 medium), slice thin  \\\n",
       "http://www.epicurious.com/recipes/food/views/-a...                                    0.0   \n",
       "http://www.epicurious.com/recipes/food/views/-a...                                    0.0   \n",
       "http://www.epicurious.com/recipes/food/views/-b...                                    0.0   \n",
       "http://www.epicurious.com/recipes/food/views/-b...                                    0.0   \n",
       "http://www.epicurious.com/recipes/food/views/-b...                                    0.0   \n",
       "\n",
       "                                                    zucchini blossom  \\\n",
       "http://www.epicurious.com/recipes/food/views/-a...               0.0   \n",
       "http://www.epicurious.com/recipes/food/views/-a...               0.0   \n",
       "http://www.epicurious.com/recipes/food/views/-b...               0.0   \n",
       "http://www.epicurious.com/recipes/food/views/-b...               0.0   \n",
       "http://www.epicurious.com/recipes/food/views/-b...               0.0   \n",
       "\n",
       "                                                    zucchini blossom, tear into large piece (optional)  \\\n",
       "http://www.epicurious.com/recipes/food/views/-a...                                                0.0    \n",
       "http://www.epicurious.com/recipes/food/views/-a...                                                0.0    \n",
       "http://www.epicurious.com/recipes/food/views/-b...                                                0.0    \n",
       "http://www.epicurious.com/recipes/food/views/-b...                                                0.0    \n",
       "http://www.epicurious.com/recipes/food/views/-b...                                                0.0    \n",
       "\n",
       "                                                    zucchini flower  \\\n",
       "http://www.epicurious.com/recipes/food/views/-a...              0.0   \n",
       "http://www.epicurious.com/recipes/food/views/-a...              0.0   \n",
       "http://www.epicurious.com/recipes/food/views/-b...              0.0   \n",
       "http://www.epicurious.com/recipes/food/views/-b...              0.0   \n",
       "http://www.epicurious.com/recipes/food/views/-b...              0.0   \n",
       "\n",
       "                                                    zucchini squash  \\\n",
       "http://www.epicurious.com/recipes/food/views/-a...              0.0   \n",
       "http://www.epicurious.com/recipes/food/views/-a...              0.0   \n",
       "http://www.epicurious.com/recipes/food/views/-b...              0.0   \n",
       "http://www.epicurious.com/recipes/food/views/-b...              0.0   \n",
       "http://www.epicurious.com/recipes/food/views/-b...              0.0   \n",
       "\n",
       "                                                    zucchini zucchini  \\\n",
       "http://www.epicurious.com/recipes/food/views/-a...                0.0   \n",
       "http://www.epicurious.com/recipes/food/views/-a...                0.0   \n",
       "http://www.epicurious.com/recipes/food/views/-b...                0.0   \n",
       "http://www.epicurious.com/recipes/food/views/-b...                0.0   \n",
       "http://www.epicurious.com/recipes/food/views/-b...                0.0   \n",
       "\n",
       "                                                    zucchini, quarter lengthwise then slice across thinly  \\\n",
       "http://www.epicurious.com/recipes/food/views/-a...                                                0.0       \n",
       "http://www.epicurious.com/recipes/food/views/-a...                                                0.0       \n",
       "http://www.epicurious.com/recipes/food/views/-b...                                                0.0       \n",
       "http://www.epicurious.com/recipes/food/views/-b...                                                0.0       \n",
       "http://www.epicurious.com/recipes/food/views/-b...                                                0.0       \n",
       "\n",
       "                                                    zucchinis  \n",
       "http://www.epicurious.com/recipes/food/views/-a...        0.0  \n",
       "http://www.epicurious.com/recipes/food/views/-a...        0.0  \n",
       "http://www.epicurious.com/recipes/food/views/-b...        0.0  \n",
       "http://www.epicurious.com/recipes/food/views/-b...        0.0  \n",
       "http://www.epicurious.com/recipes/food/views/-b...        0.0  \n",
       "\n",
       "[5 rows x 7299 columns]"
      ]
     },
     "execution_count": 20,
     "metadata": {},
     "output_type": "execute_result"
    }
   ],
   "source": [
    "data1.head()"
   ]
  },
  {
   "cell_type": "markdown",
   "metadata": {},
   "source": [
    "## Calculate Weight"
   ]
  },
  {
   "cell_type": "markdown",
   "metadata": {},
   "source": [
    "* sample_weight is to be applied to individual samples (rows in your data). So the length of sample_weight must match the number of samples in your X.\n",
    "\n",
    "* class_weight is to make the classifier give more importance and attention to the classes. So the length of class_weight must match the number of classes in your targets."
   ]
  },
  {
   "cell_type": "code",
   "execution_count": 21,
   "metadata": {},
   "outputs": [],
   "source": [
    "# Not need to do below to calculate weights. \n",
    "\n",
    "# from sklearn.utils import class_weight\n",
    "\n",
    "# data_idx = data.idxmax(axis=1)\n",
    "\n",
    "# class_weights = class_weight.compute_sample_weight('balanced',\n",
    "#                                                   np.unique(data.values),\n",
    "#                                                   label.values)\n",
    "\n",
    "# y_ints = [y.argmax() for y in data_idx]\n",
    "# type(y_ints)\n",
    "# class_weight_dict = dict(enumerate(class_weight))"
   ]
  },
  {
   "cell_type": "markdown",
   "metadata": {},
   "source": [
    "### Example from Sklearn Website\n",
    "\n",
    "https://scikit-learn.org/stable/auto_examples/svm/plot_weighted_samples.html"
   ]
  },
  {
   "cell_type": "code",
   "execution_count": 22,
   "metadata": {},
   "outputs": [
    {
     "name": "stdout",
     "output_type": "stream",
     "text": [
      "Automatically created module for IPython interactive environment\n"
     ]
    },
    {
     "data": {
      "image/png": "[encoded data removed]",
      "text/plain": [
       "<Figure size 1008x432 with 2 Axes>"
      ]
     },
     "metadata": {
      "needs_background": "light"
     },
     "output_type": "display_data"
    }
   ],
   "source": [
    "print(__doc__)\n",
    "\n",
    "import numpy as np\n",
    "import matplotlib.pyplot as plt\n",
    "from sklearn import svm\n",
    "\n",
    "\n",
    "def plot_decision_function(classifier, sample_weight, axis, title):\n",
    "    # plot the decision function\n",
    "    xx, yy = np.meshgrid(np.linspace(-4, 5, 500), np.linspace(-4, 5, 500))\n",
    "\n",
    "    Z = classifier.decision_function(np.c_[xx.ravel(), yy.ravel()])\n",
    "    Z = Z.reshape(xx.shape)\n",
    "\n",
    "    # plot the line, the points, and the nearest vectors to the plane\n",
    "    axis.contourf(xx, yy, Z, alpha=0.75, cmap=plt.cm.bone)\n",
    "    axis.scatter(X[:, 0], X[:, 1], c=y, s=100 * sample_weight, alpha=0.9,\n",
    "                 cmap=plt.cm.bone, edgecolors='black')\n",
    "\n",
    "    axis.axis('off')\n",
    "    axis.set_title(title)\n",
    "\n",
    "\n",
    "# we create 20 points\n",
    "np.random.seed(0)\n",
    "X = np.r_[np.random.randn(10, 2) + [1, 1], np.random.randn(10, 2)]\n",
    "y = [1] * 10 + [-1] * 10\n",
    "sample_weight_last_ten = abs(np.random.randn(len(X)))\n",
    "sample_weight_constant = np.ones(len(X))\n",
    "# and bigger weights to some outliers\n",
    "sample_weight_last_ten[15:] *= 5\n",
    "sample_weight_last_ten[9] *= 15\n",
    "\n",
    "# for reference, first fit without sample weights\n",
    "\n",
    "# fit the model\n",
    "clf_weights = svm.SVC(gamma=1)\n",
    "clf_weights.fit(X, y, sample_weight=sample_weight_last_ten)\n",
    "\n",
    "clf_no_weights = svm.SVC(gamma=1)\n",
    "clf_no_weights.fit(X, y)\n",
    "\n",
    "fig, axes = plt.subplots(1, 2, figsize=(14, 6))\n",
    "plot_decision_function(clf_no_weights, sample_weight_constant, axes[0],\n",
    "                       \"Constant weights\")\n",
    "plot_decision_function(clf_weights, sample_weight_last_ten, axes[1],\n",
    "                       \"Modified weights\")\n",
    "\n",
    "plt.show()"
   ]
  },
  {
   "cell_type": "markdown",
   "metadata": {},
   "source": [
    "## Support Vector Classifier"
   ]
  },
  {
   "cell_type": "markdown",
   "metadata": {},
   "source": [
    "https://scikit-learn.org/stable/modules/generated/sklearn.svm.SVC.html\n",
    "\n",
    "Below website gives good explaination on reading result from SVC\n",
    "\n",
    "https://www.datacamp.com/community/tutorials/svm-classification-scikit-learn-python"
   ]
  },
  {
   "cell_type": "markdown",
   "metadata": {},
   "source": [
    "#### Fit model without weights"
   ]
  },
  {
   "cell_type": "code",
   "execution_count": 66,
   "metadata": {},
   "outputs": [],
   "source": [
    "from sklearn import svm\n",
    "C = 1\n",
    "svc = svm.SVC(gamma=0.1,kernel='linear', C=C).fit(data.iloc[:1000], label[:1000]) "
   ]
  },
  {
   "cell_type": "code",
   "execution_count": 67,
   "metadata": {},
   "outputs": [
    {
     "data": {
      "text/plain": [
       "array([1., 1.])"
      ]
     },
     "execution_count": 67,
     "metadata": {},
     "output_type": "execute_result"
    }
   ],
   "source": [
    "result = model()\n",
    "result.getClassWeight(svc)"
   ]
  },
  {
   "cell_type": "code",
   "execution_count": 68,
   "metadata": {},
   "outputs": [],
   "source": [
    "predict = []\n",
    "predict.append(svc.predict(data.iloc[0:2]))"
   ]
  },
  {
   "cell_type": "code",
   "execution_count": 69,
   "metadata": {},
   "outputs": [
    {
     "data": {
      "text/plain": [
       "SVC(C=1, cache_size=200, class_weight=None, coef0=0.0,\n",
       "    decision_function_shape='ovr', degree=3, gamma=0.1, kernel='linear',\n",
       "    max_iter=-1, probability=False, random_state=None, shrinking=True,\n",
       "    tol=0.001, verbose=False)"
      ]
     },
     "execution_count": 69,
     "metadata": {},
     "output_type": "execute_result"
    }
   ],
   "source": [
    "svc"
   ]
  },
  {
   "cell_type": "code",
   "execution_count": 70,
   "metadata": {},
   "outputs": [
    {
     "data": {
      "text/plain": [
       "array([False,  True])"
      ]
     },
     "execution_count": 70,
     "metadata": {},
     "output_type": "execute_result"
    }
   ],
   "source": [
    "classes = result.getclasses(svc)\n",
    "classes"
   ]
  },
  {
   "cell_type": "code",
   "execution_count": 99,
   "metadata": {},
   "outputs": [
    {
     "data": {
      "text/plain": [
       "array([1., 1.])"
      ]
     },
     "execution_count": 99,
     "metadata": {},
     "output_type": "execute_result"
    }
   ],
   "source": [
    "class_weight = result.getClassWeight(svc)\n",
    "class_weight"
   ]
  },
  {
   "cell_type": "code",
   "execution_count": 101,
   "metadata": {},
   "outputs": [
    {
     "data": {
      "text/plain": [
       "(1, 7299)"
      ]
     },
     "execution_count": 101,
     "metadata": {},
     "output_type": "execute_result"
    }
   ],
   "source": [
    "feature_weight = result.getfeaturesweight(svc)\n",
    "# feature_weight = [x for x in feature_weight if x > 0.0]\n",
    "# np.where(feature_weight > 0)\n",
    "feature_weight.shape"
   ]
  },
  {
   "cell_type": "code",
   "execution_count": 29,
   "metadata": {},
   "outputs": [],
   "source": [
    "x = data.iloc[:,:10].values"
   ]
  },
  {
   "cell_type": "code",
   "execution_count": 30,
   "metadata": {},
   "outputs": [],
   "source": [
    "y = data.iloc[:,:10].values"
   ]
  },
  {
   "cell_type": "code",
   "execution_count": 32,
   "metadata": {},
   "outputs": [
    {
     "data": {
      "text/plain": [
       "99860"
      ]
     },
     "execution_count": 32,
     "metadata": {},
     "output_type": "execute_result"
    }
   ],
   "source": [
    "x.size"
   ]
  },
  {
   "cell_type": "code",
   "execution_count": 33,
   "metadata": {},
   "outputs": [
    {
     "data": {
      "text/plain": [
       "99860"
      ]
     },
     "execution_count": 33,
     "metadata": {},
     "output_type": "execute_result"
    }
   ],
   "source": [
    "y.size"
   ]
  },
  {
   "cell_type": "code",
   "execution_count": 43,
   "metadata": {},
   "outputs": [],
   "source": [
    "# a = -class_weight[0] / class_weight[1]\n",
    "\n",
    "# xx = np.linspace(0,50)\n",
    "# yy = a * xx - feature_weight[0].max() / class_weight[1]\n",
    "# print(xx.min(),yy.max())\n",
    "# h0 = plt.plot(xx, yy, 'k-', label=\"non weighted div\")\n",
    "\n",
    "# plt.scatter(x, y,c=y)\n",
    "# plt.ylim(yy.min(),50)\n",
    "# plt.xlim(xx.min(),50)\n",
    "# plt.legend()\n",
    "# plt.show()"
   ]
  },
  {
   "cell_type": "code",
   "execution_count": 45,
   "metadata": {},
   "outputs": [],
   "source": [
    "\n",
    "# import numpy as np\n",
    "# import matplotlib.pyplot as plt\n",
    "# from sklearn import svm, datasets\n",
    "\n",
    "# # import some data to play with\n",
    "# iris = datasets.load_iris()\n",
    "# X = data.iloc[:1000, :100]  # we only take the first two features. We could\n",
    "#                       # avoid this ugly slicing by using a two-dim dataset\n",
    "# y = label.iloc[:1000]\n",
    "\n",
    "# h = .02  # step size in the mesh\n",
    "\n",
    "# # we create an instance of SVM and fit out data. We do not scale our\n",
    "# # data since we want to plot the support vectors\n",
    "# C = 1.0  # SVM regularization parameter\n",
    "# svc = svm.SVC(kernel='linear', C=C).fit(X, y)\n",
    "# rbf_svc = svm.SVC(kernel='rbf', gamma=0.7, C=C).fit(X, y)\n",
    "# poly_svc = svm.SVC(kernel='poly', degree=3, C=C).fit(X, y)\n",
    "# lin_svc = svm.LinearSVC(C=C).fit(X, y)\n",
    "\n",
    "# # create a mesh to plot in\n",
    "# x_min, x_max = X.iloc[:, 0].min() - 1, X.iloc[:, 0].max() + 1\n",
    "# y_min, y_max = X.iloc[:, 100].min() - 1, X.iloc[:, 100].max() + 1\n",
    "# xx, yy = np.meshgrid(np.arange(x_min, x_max, h),\n",
    "#                      np.arange(y_min, y_max, h))\n",
    "\n",
    "# # title for the plots\n",
    "# titles = ['SVC with linear kernel',\n",
    "#           'LinearSVC (linear kernel)',\n",
    "#           'SVC with RBF kernel',\n",
    "#           'SVC with polynomial (degree 3) kernel']\n",
    "\n",
    "\n",
    "# for i, clf in enumerate((svc, lin_svc, rbf_svc, poly_svc)):\n",
    "#     # Plot the decision boundary. For that, we will assign a color to each\n",
    "#     # point in the mesh [x_min, x_max]x[y_min, y_max].\n",
    "#     plt.subplot(2, 2, i + 1)\n",
    "#     plt.subplots_adjust(wspace=0.4, hspace=0.4)\n",
    "\n",
    "#     Z = clf.predict(np.c_[xx.ravel(), yy.ravel()])\n",
    "\n",
    "#     # Put the result into a color plot\n",
    "#     Z = Z.reshape(xx.shape)\n",
    "#     plt.contourf(xx, yy, Z, cmap=plt.cm.coolwarm, alpha=0.8)\n",
    "\n",
    "#     # Plot also the training points\n",
    "#     plt.scatter(X.iloc[:, 0], X.iloc[:, 1], c=y, cmap=plt.cm.coolwarm)\n",
    "#     plt.xlabel('Sepal length')\n",
    "#     plt.ylabel('Sepal width')\n",
    "#     plt.xlim(xx.min(), xx.max())\n",
    "#     plt.ylim(yy.min(), yy.max())\n",
    "#     plt.xticks(())\n",
    "#     plt.yticks(())\n",
    "#     plt.title(titles[i])\n",
    "\n",
    "# plt.show()"
   ]
  },
  {
   "cell_type": "code",
   "execution_count": null,
   "metadata": {},
   "outputs": [],
   "source": [
    "# plot_decision_function(clf,clf.class_weight_,axes[0],'SVC without weights')"
   ]
  },
  {
   "cell_type": "markdown",
   "metadata": {},
   "source": [
    "#### Fit model with weights"
   ]
  },
  {
   "cell_type": "code",
   "execution_count": 47,
   "metadata": {},
   "outputs": [],
   "source": [
    "w_svc = svm.SVC(gamma=0.1,class_weight='balanced',probability=True).fit(data.iloc[:1000], label[:1000]) "
   ]
  },
  {
   "cell_type": "code",
   "execution_count": 49,
   "metadata": {},
   "outputs": [
    {
     "data": {
      "text/plain": [
       "array([False,  True])"
      ]
     },
     "execution_count": 49,
     "metadata": {},
     "output_type": "execute_result"
    }
   ],
   "source": [
    "w_svc.predict(data.iloc[0:2])"
   ]
  },
  {
   "cell_type": "code",
   "execution_count": 50,
   "metadata": {},
   "outputs": [
    {
     "data": {
      "text/plain": [
       "array([False,  True])"
      ]
     },
     "execution_count": 50,
     "metadata": {},
     "output_type": "execute_result"
    }
   ],
   "source": [
    "w_svc.classes_"
   ]
  },
  {
   "cell_type": "code",
   "execution_count": 51,
   "metadata": {},
   "outputs": [
    {
     "data": {
      "text/plain": [
       "array([1.01832994, 0.98231827])"
      ]
     },
     "execution_count": 51,
     "metadata": {},
     "output_type": "execute_result"
    }
   ],
   "source": [
    "weights = w_svc.class_weight_\n",
    "weights"
   ]
  },
  {
   "cell_type": "markdown",
   "metadata": {},
   "source": [
    "## Naive Bayes Classifier"
   ]
  },
  {
   "cell_type": "code",
   "execution_count": 143,
   "metadata": {},
   "outputs": [
    {
     "name": "stdout",
     "output_type": "stream",
     "text": [
      "7.838258389368502e-06\n"
     ]
    }
   ],
   "source": [
    "from sklearn.naive_bayes import GaussianNB\n",
    "\n",
    "# # create a guassian classifier\n",
    "bayes_model = GaussianNB()\n",
    "bayes_model.fit(data,label)\n",
    "print(bayes_model.epsilon_)"
   ]
  },
  {
   "cell_type": "code",
   "execution_count": 144,
   "metadata": {},
   "outputs": [
    {
     "data": {
      "text/plain": [
       "array([False,  True])"
      ]
     },
     "execution_count": 144,
     "metadata": {},
     "output_type": "execute_result"
    }
   ],
   "source": [
    "bayes_model.predict(data.iloc[0:2])"
   ]
  },
  {
   "cell_type": "code",
   "execution_count": null,
   "metadata": {},
   "outputs": [],
   "source": []
  },
  {
   "cell_type": "code",
   "execution_count": null,
   "metadata": {},
   "outputs": [],
   "source": []
  },
  {
   "cell_type": "code",
   "execution_count": null,
   "metadata": {
    "scrolled": true
   },
   "outputs": [],
   "source": []
  },
  {
   "cell_type": "code",
   "execution_count": null,
   "metadata": {},
   "outputs": [],
   "source": []
  },
  {
   "cell_type": "code",
   "execution_count": null,
   "metadata": {},
   "outputs": [],
   "source": []
  },
  {
   "cell_type": "markdown",
   "metadata": {},
   "source": [
    "## Other Stuff"
   ]
  },
  {
   "cell_type": "code",
   "execution_count": null,
   "metadata": {},
   "outputs": [],
   "source": []
  },
  {
   "cell_type": "code",
   "execution_count": 115,
   "metadata": {},
   "outputs": [],
   "source": [
    "# I manually took out tags that are not recipe ingredients. And clean input. \n",
    "# Uncomment below if  cuisine type is needed\n",
    "\n",
    "cuisinetype = pd.read_csv('cuisinetype.txt',header=None)\n",
    "cuisinetype = cuisinetype.transpose()\n",
    "cuisinetype = np.array(cuisinetype[0])\n",
    "cuisinetype = [x.replace('\\'','') for x in cuisinetype]\n",
    "cuisinetype = [x.replace('[','') for x in cuisinetype]\n",
    "cuisinetype = [x.replace(']','') for x in cuisinetype]\n",
    "cuisinetype = [x.lstrip() for x in cuisinetype]\n",
    "# cuisinetype"
   ]
  },
  {
   "cell_type": "code",
   "execution_count": 116,
   "metadata": {
    "scrolled": true
   },
   "outputs": [],
   "source": [
    "# Uncomment below if states are needed\n",
    "\n",
    "states = pd.read_csv('states.csv',header=None)\n",
    "states = states.transpose()\n",
    "states = np.array(states[0])\n",
    "states = [x.lstrip() for x in states]\n",
    "# states"
   ]
  },
  {
   "cell_type": "code",
   "execution_count": 117,
   "metadata": {
    "scrolled": true
   },
   "outputs": [],
   "source": [
    "# I manually took out cities of USA in the tag list.\n",
    "# Uncomment below if usa_cuisine is needed\n",
    "\n",
    "city = pd.read_csv('usa_city.csv',header=None)\n",
    "city = city.transpose()\n",
    "city = np.array(city[0])\n",
    "city = [x.replace('\\'','') for x in city]\n",
    "city = [x.replace('[','') for x in city]\n",
    "city = [x.replace(']','') for x in city]\n",
    "city = [x.lstrip() for x in city]\n",
    "usa_cuisine =states+city\n",
    "# usa_cuisine"
   ]
  },
  {
   "cell_type": "code",
   "execution_count": 118,
   "metadata": {},
   "outputs": [],
   "source": [
    "# create non_usa_cuisine list\n",
    "\n",
    "non_usa_cuisine = []\n",
    "for i in cuisinetype:\n",
    "    if i not in usa_cuisine:\n",
    "        non_usa_cuisine.append(i)\n"
   ]
  },
  {
   "cell_type": "code",
   "execution_count": 148,
   "metadata": {
    "scrolled": true
   },
   "outputs": [],
   "source": [
    "# non_usa_cuisine"
   ]
  },
  {
   "cell_type": "code",
   "execution_count": 123,
   "metadata": {},
   "outputs": [],
   "source": [
    "tags_value=[]\n",
    "for tags in corr_df['tags']:\n",
    "    if(set(tags).intersection(usa_cuisine)):\n",
    "        tags_value.append('True')\n",
    "        continue\n",
    "    else:\n",
    "        if(set(tags).intersection(non_usa_cuisine)):\n",
    "            tags_value.append('False')\n",
    "        else:\n",
    "            tags_value.append('NA')"
   ]
  },
  {
   "cell_type": "code",
   "execution_count": 285,
   "metadata": {},
   "outputs": [],
   "source": [
    "def setupDataForCorr(corr_df,sample_size,data_column,label_column):\n",
    "    corr_df = epi_data_df.head(sample_size)\n",
    "    corr_df['usa_cuisine'] = tags_value\n",
    "    # add allergy tags to df\n",
    "    corr_df = addallergytoDF(corr_df)\n",
    "    print(\"added allergy to DF\", corr_df.shape)\n",
    "    \n",
    "    corr_df = dropZeroColumns(corr_df)\n",
    "    print(\"Droped zero column\",corr_df.shape)\n",
    "    \n",
    "    # delete rows with usa_cuisine ==> NA\n",
    "    corr_df = deleterows(corr_df,'usa_cuisine','NA')\n",
    "    corr_data,corr_label = getTrianData(corr_df,data_column,label_column)\n",
    "    return corr_data,corr_label"
   ]
  },
  {
   "cell_type": "code",
   "execution_count": 286,
   "metadata": {},
   "outputs": [
    {
     "name": "stderr",
     "output_type": "stream",
     "text": [
      "/Library/Frameworks/Python.framework/Versions/3.6/lib/python3.6/site-packages/ipykernel_launcher.py:3: SettingWithCopyWarning: \n",
      "A value is trying to be set on a copy of a slice from a DataFrame.\n",
      "Try using .loc[row_indexer,col_indexer] = value instead\n",
      "\n",
      "See the caveats in the documentation: http://pandas.pydata.org/pandas-docs/stable/user_guide/indexing.html#returning-a-view-versus-a-copy\n",
      "  This is separate from the ipykernel package so we can avoid doing imports until\n",
      "/Library/Frameworks/Python.framework/Versions/3.6/lib/python3.6/site-packages/ipykernel_launcher.py:4: SettingWithCopyWarning: \n",
      "A value is trying to be set on a copy of a slice from a DataFrame.\n",
      "Try using .loc[row_indexer,col_indexer] = value instead\n",
      "\n",
      "See the caveats in the documentation: http://pandas.pydata.org/pandas-docs/stable/user_guide/indexing.html#returning-a-view-versus-a-copy\n",
      "  after removing the cwd from sys.path.\n"
     ]
    },
    {
     "name": "stdout",
     "output_type": "stream",
     "text": [
      "added allergy to DF (10000, 17979)\n",
      "Droped zero column (10000, 7312)\n"
     ]
    }
   ],
   "source": [
    "drop_column = ['avg_rating','best_rating','prepare_again_rating','num_reviews','Peanut Free','Soy Free','Tree Nut Free','Wheat/Gluten-Free','Dairy Free','Fat Free','usa_cuisine','tags','title']\n",
    "label_column = ['usa_cuisine']\n",
    "corr_data,corr_label = setupDataForCorr(corr_df,10000,drop_column,label_column)"
   ]
  },
  {
   "cell_type": "code",
   "execution_count": 287,
   "metadata": {
    "scrolled": true
   },
   "outputs": [
    {
     "data": {
      "text/html": [
       "<div>\n",
       "<style scoped>\n",
       "    .dataframe tbody tr th:only-of-type {\n",
       "        vertical-align: middle;\n",
       "    }\n",
       "\n",
       "    .dataframe tbody tr th {\n",
       "        vertical-align: top;\n",
       "    }\n",
       "\n",
       "    .dataframe thead th {\n",
       "        text-align: right;\n",
       "    }\n",
       "</style>\n",
       "<table border=\"1\" class=\"dataframe\">\n",
       "  <thead>\n",
       "    <tr style=\"text-align: right;\">\n",
       "      <th></th>\n",
       "      <th>\" &gt; panko (japanese bread crumb bread crumb</th>\n",
       "      <th>\" biscuit cutter</th>\n",
       "      <th>\" brown candy \" sugar brown sugar</th>\n",
       "      <th>\" cauliflower floret (cut from 1 large head)</th>\n",
       "      <th>\" cube salt pork</th>\n",
       "      <th>\" large \" egg</th>\n",
       "      <th>\" pie dish</th>\n",
       "      <th>\" piece (about 6 ounce) thick - cut smoke bacon</th>\n",
       "      <th>\" piece ginger, peel, finely grated</th>\n",
       "      <th>\" pita bread</th>\n",
       "      <th>...</th>\n",
       "      <th>ziti pasta</th>\n",
       "      <th>zucchini</th>\n",
       "      <th>zucchini (about 5 medium), slice thin</th>\n",
       "      <th>zucchini blossom</th>\n",
       "      <th>zucchini blossom, tear into large piece (optional)</th>\n",
       "      <th>zucchini flower</th>\n",
       "      <th>zucchini squash</th>\n",
       "      <th>zucchini zucchini</th>\n",
       "      <th>zucchini, quarter lengthwise then slice across thinly</th>\n",
       "      <th>zucchinis</th>\n",
       "    </tr>\n",
       "  </thead>\n",
       "  <tbody>\n",
       "    <tr>\n",
       "      <th>http://www.epicurious.com/recipes/food/views/-adult-pimiento-cheese-100852</th>\n",
       "      <td>0.0</td>\n",
       "      <td>0.0</td>\n",
       "      <td>0.0</td>\n",
       "      <td>0.0</td>\n",
       "      <td>0.0</td>\n",
       "      <td>0.0</td>\n",
       "      <td>0.0</td>\n",
       "      <td>0.0</td>\n",
       "      <td>0.0</td>\n",
       "      <td>0.0</td>\n",
       "      <td>...</td>\n",
       "      <td>0.0</td>\n",
       "      <td>0.0</td>\n",
       "      <td>0.0</td>\n",
       "      <td>0.0</td>\n",
       "      <td>0.0</td>\n",
       "      <td>0.0</td>\n",
       "      <td>0.0</td>\n",
       "      <td>0.0</td>\n",
       "      <td>0.0</td>\n",
       "      <td>0.0</td>\n",
       "    </tr>\n",
       "    <tr>\n",
       "      <th>http://www.epicurious.com/recipes/food/views/-drunken-pork-chops-427</th>\n",
       "      <td>0.0</td>\n",
       "      <td>0.0</td>\n",
       "      <td>0.0</td>\n",
       "      <td>0.0</td>\n",
       "      <td>0.0</td>\n",
       "      <td>0.0</td>\n",
       "      <td>0.0</td>\n",
       "      <td>0.0</td>\n",
       "      <td>0.0</td>\n",
       "      <td>0.0</td>\n",
       "      <td>...</td>\n",
       "      <td>0.0</td>\n",
       "      <td>0.0</td>\n",
       "      <td>0.0</td>\n",
       "      <td>0.0</td>\n",
       "      <td>0.0</td>\n",
       "      <td>0.0</td>\n",
       "      <td>0.0</td>\n",
       "      <td>0.0</td>\n",
       "      <td>0.0</td>\n",
       "      <td>0.0</td>\n",
       "    </tr>\n",
       "    <tr>\n",
       "      <th>http://www.epicurious.com/recipes/food/views/-em-polow-em-persian-rice-with-pistachios-and-dill-352469</th>\n",
       "      <td>0.0</td>\n",
       "      <td>0.0</td>\n",
       "      <td>0.0</td>\n",
       "      <td>0.0</td>\n",
       "      <td>0.0</td>\n",
       "      <td>0.0</td>\n",
       "      <td>0.0</td>\n",
       "      <td>0.0</td>\n",
       "      <td>0.0</td>\n",
       "      <td>0.0</td>\n",
       "      <td>...</td>\n",
       "      <td>0.0</td>\n",
       "      <td>0.0</td>\n",
       "      <td>0.0</td>\n",
       "      <td>0.0</td>\n",
       "      <td>0.0</td>\n",
       "      <td>0.0</td>\n",
       "      <td>0.0</td>\n",
       "      <td>0.0</td>\n",
       "      <td>0.0</td>\n",
       "      <td>0.0</td>\n",
       "    </tr>\n",
       "    <tr>\n",
       "      <th>http://www.epicurious.com/recipes/food/views/-opulent-chicken-15810</th>\n",
       "      <td>0.0</td>\n",
       "      <td>0.0</td>\n",
       "      <td>0.0</td>\n",
       "      <td>0.0</td>\n",
       "      <td>0.0</td>\n",
       "      <td>0.0</td>\n",
       "      <td>0.0</td>\n",
       "      <td>0.0</td>\n",
       "      <td>0.0</td>\n",
       "      <td>0.0</td>\n",
       "      <td>...</td>\n",
       "      <td>0.0</td>\n",
       "      <td>0.0</td>\n",
       "      <td>0.0</td>\n",
       "      <td>0.0</td>\n",
       "      <td>0.0</td>\n",
       "      <td>0.0</td>\n",
       "      <td>0.0</td>\n",
       "      <td>0.0</td>\n",
       "      <td>0.0</td>\n",
       "      <td>0.0</td>\n",
       "    </tr>\n",
       "    <tr>\n",
       "      <th>http://www.epicurious.com/recipes/food/views/a-nineties-twist-to-a-grandmothers-roast-chicken-102023</th>\n",
       "      <td>0.0</td>\n",
       "      <td>0.0</td>\n",
       "      <td>0.0</td>\n",
       "      <td>0.0</td>\n",
       "      <td>0.0</td>\n",
       "      <td>0.0</td>\n",
       "      <td>0.0</td>\n",
       "      <td>0.0</td>\n",
       "      <td>0.0</td>\n",
       "      <td>0.0</td>\n",
       "      <td>...</td>\n",
       "      <td>0.0</td>\n",
       "      <td>0.0</td>\n",
       "      <td>0.0</td>\n",
       "      <td>0.0</td>\n",
       "      <td>0.0</td>\n",
       "      <td>0.0</td>\n",
       "      <td>0.0</td>\n",
       "      <td>0.0</td>\n",
       "      <td>0.0</td>\n",
       "      <td>0.0</td>\n",
       "    </tr>\n",
       "  </tbody>\n",
       "</table>\n",
       "<p>5 rows × 7299 columns</p>\n",
       "</div>"
      ],
      "text/plain": [
       "                                                    \" > panko (japanese bread crumb bread crumb  \\\n",
       "http://www.epicurious.com/recipes/food/views/-a...                                          0.0   \n",
       "http://www.epicurious.com/recipes/food/views/-d...                                          0.0   \n",
       "http://www.epicurious.com/recipes/food/views/-e...                                          0.0   \n",
       "http://www.epicurious.com/recipes/food/views/-o...                                          0.0   \n",
       "http://www.epicurious.com/recipes/food/views/a-...                                          0.0   \n",
       "\n",
       "                                                    \" biscuit cutter  \\\n",
       "http://www.epicurious.com/recipes/food/views/-a...               0.0   \n",
       "http://www.epicurious.com/recipes/food/views/-d...               0.0   \n",
       "http://www.epicurious.com/recipes/food/views/-e...               0.0   \n",
       "http://www.epicurious.com/recipes/food/views/-o...               0.0   \n",
       "http://www.epicurious.com/recipes/food/views/a-...               0.0   \n",
       "\n",
       "                                                    \" brown candy \" sugar brown sugar  \\\n",
       "http://www.epicurious.com/recipes/food/views/-a...                                0.0   \n",
       "http://www.epicurious.com/recipes/food/views/-d...                                0.0   \n",
       "http://www.epicurious.com/recipes/food/views/-e...                                0.0   \n",
       "http://www.epicurious.com/recipes/food/views/-o...                                0.0   \n",
       "http://www.epicurious.com/recipes/food/views/a-...                                0.0   \n",
       "\n",
       "                                                    \" cauliflower floret (cut from 1 large head)  \\\n",
       "http://www.epicurious.com/recipes/food/views/-a...                                           0.0   \n",
       "http://www.epicurious.com/recipes/food/views/-d...                                           0.0   \n",
       "http://www.epicurious.com/recipes/food/views/-e...                                           0.0   \n",
       "http://www.epicurious.com/recipes/food/views/-o...                                           0.0   \n",
       "http://www.epicurious.com/recipes/food/views/a-...                                           0.0   \n",
       "\n",
       "                                                    \" cube salt pork  \\\n",
       "http://www.epicurious.com/recipes/food/views/-a...               0.0   \n",
       "http://www.epicurious.com/recipes/food/views/-d...               0.0   \n",
       "http://www.epicurious.com/recipes/food/views/-e...               0.0   \n",
       "http://www.epicurious.com/recipes/food/views/-o...               0.0   \n",
       "http://www.epicurious.com/recipes/food/views/a-...               0.0   \n",
       "\n",
       "                                                    \" large \" egg  \" pie dish  \\\n",
       "http://www.epicurious.com/recipes/food/views/-a...            0.0         0.0   \n",
       "http://www.epicurious.com/recipes/food/views/-d...            0.0         0.0   \n",
       "http://www.epicurious.com/recipes/food/views/-e...            0.0         0.0   \n",
       "http://www.epicurious.com/recipes/food/views/-o...            0.0         0.0   \n",
       "http://www.epicurious.com/recipes/food/views/a-...            0.0         0.0   \n",
       "\n",
       "                                                    \" piece (about 6 ounce) thick - cut smoke bacon  \\\n",
       "http://www.epicurious.com/recipes/food/views/-a...                                              0.0   \n",
       "http://www.epicurious.com/recipes/food/views/-d...                                              0.0   \n",
       "http://www.epicurious.com/recipes/food/views/-e...                                              0.0   \n",
       "http://www.epicurious.com/recipes/food/views/-o...                                              0.0   \n",
       "http://www.epicurious.com/recipes/food/views/a-...                                              0.0   \n",
       "\n",
       "                                                    \" piece ginger, peel, finely grated  \\\n",
       "http://www.epicurious.com/recipes/food/views/-a...                                  0.0   \n",
       "http://www.epicurious.com/recipes/food/views/-d...                                  0.0   \n",
       "http://www.epicurious.com/recipes/food/views/-e...                                  0.0   \n",
       "http://www.epicurious.com/recipes/food/views/-o...                                  0.0   \n",
       "http://www.epicurious.com/recipes/food/views/a-...                                  0.0   \n",
       "\n",
       "                                                    \" pita bread  ...  \\\n",
       "http://www.epicurious.com/recipes/food/views/-a...           0.0  ...   \n",
       "http://www.epicurious.com/recipes/food/views/-d...           0.0  ...   \n",
       "http://www.epicurious.com/recipes/food/views/-e...           0.0  ...   \n",
       "http://www.epicurious.com/recipes/food/views/-o...           0.0  ...   \n",
       "http://www.epicurious.com/recipes/food/views/a-...           0.0  ...   \n",
       "\n",
       "                                                    ziti pasta  zucchini  \\\n",
       "http://www.epicurious.com/recipes/food/views/-a...         0.0       0.0   \n",
       "http://www.epicurious.com/recipes/food/views/-d...         0.0       0.0   \n",
       "http://www.epicurious.com/recipes/food/views/-e...         0.0       0.0   \n",
       "http://www.epicurious.com/recipes/food/views/-o...         0.0       0.0   \n",
       "http://www.epicurious.com/recipes/food/views/a-...         0.0       0.0   \n",
       "\n",
       "                                                    zucchini (about 5 medium), slice thin  \\\n",
       "http://www.epicurious.com/recipes/food/views/-a...                                    0.0   \n",
       "http://www.epicurious.com/recipes/food/views/-d...                                    0.0   \n",
       "http://www.epicurious.com/recipes/food/views/-e...                                    0.0   \n",
       "http://www.epicurious.com/recipes/food/views/-o...                                    0.0   \n",
       "http://www.epicurious.com/recipes/food/views/a-...                                    0.0   \n",
       "\n",
       "                                                    zucchini blossom  \\\n",
       "http://www.epicurious.com/recipes/food/views/-a...               0.0   \n",
       "http://www.epicurious.com/recipes/food/views/-d...               0.0   \n",
       "http://www.epicurious.com/recipes/food/views/-e...               0.0   \n",
       "http://www.epicurious.com/recipes/food/views/-o...               0.0   \n",
       "http://www.epicurious.com/recipes/food/views/a-...               0.0   \n",
       "\n",
       "                                                    zucchini blossom, tear into large piece (optional)  \\\n",
       "http://www.epicurious.com/recipes/food/views/-a...                                                0.0    \n",
       "http://www.epicurious.com/recipes/food/views/-d...                                                0.0    \n",
       "http://www.epicurious.com/recipes/food/views/-e...                                                0.0    \n",
       "http://www.epicurious.com/recipes/food/views/-o...                                                0.0    \n",
       "http://www.epicurious.com/recipes/food/views/a-...                                                0.0    \n",
       "\n",
       "                                                    zucchini flower  \\\n",
       "http://www.epicurious.com/recipes/food/views/-a...              0.0   \n",
       "http://www.epicurious.com/recipes/food/views/-d...              0.0   \n",
       "http://www.epicurious.com/recipes/food/views/-e...              0.0   \n",
       "http://www.epicurious.com/recipes/food/views/-o...              0.0   \n",
       "http://www.epicurious.com/recipes/food/views/a-...              0.0   \n",
       "\n",
       "                                                    zucchini squash  \\\n",
       "http://www.epicurious.com/recipes/food/views/-a...              0.0   \n",
       "http://www.epicurious.com/recipes/food/views/-d...              0.0   \n",
       "http://www.epicurious.com/recipes/food/views/-e...              0.0   \n",
       "http://www.epicurious.com/recipes/food/views/-o...              0.0   \n",
       "http://www.epicurious.com/recipes/food/views/a-...              0.0   \n",
       "\n",
       "                                                    zucchini zucchini  \\\n",
       "http://www.epicurious.com/recipes/food/views/-a...                0.0   \n",
       "http://www.epicurious.com/recipes/food/views/-d...                0.0   \n",
       "http://www.epicurious.com/recipes/food/views/-e...                0.0   \n",
       "http://www.epicurious.com/recipes/food/views/-o...                0.0   \n",
       "http://www.epicurious.com/recipes/food/views/a-...                0.0   \n",
       "\n",
       "                                                    zucchini, quarter lengthwise then slice across thinly  \\\n",
       "http://www.epicurious.com/recipes/food/views/-a...                                                0.0       \n",
       "http://www.epicurious.com/recipes/food/views/-d...                                                0.0       \n",
       "http://www.epicurious.com/recipes/food/views/-e...                                                0.0       \n",
       "http://www.epicurious.com/recipes/food/views/-o...                                                0.0       \n",
       "http://www.epicurious.com/recipes/food/views/a-...                                                0.0       \n",
       "\n",
       "                                                    zucchinis  \n",
       "http://www.epicurious.com/recipes/food/views/-a...        0.0  \n",
       "http://www.epicurious.com/recipes/food/views/-d...        0.0  \n",
       "http://www.epicurious.com/recipes/food/views/-e...        0.0  \n",
       "http://www.epicurious.com/recipes/food/views/-o...        0.0  \n",
       "http://www.epicurious.com/recipes/food/views/a-...        0.0  \n",
       "\n",
       "[5 rows x 7299 columns]"
      ]
     },
     "execution_count": 287,
     "metadata": {},
     "output_type": "execute_result"
    }
   ],
   "source": [
    "corr_data.head()"
   ]
  },
  {
   "cell_type": "code",
   "execution_count": 258,
   "metadata": {},
   "outputs": [],
   "source": [
    "corr_df = epi_data_df.head(10000)"
   ]
  },
  {
   "cell_type": "code",
   "execution_count": 259,
   "metadata": {},
   "outputs": [
    {
     "name": "stderr",
     "output_type": "stream",
     "text": [
      "/Library/Frameworks/Python.framework/Versions/3.6/lib/python3.6/site-packages/ipykernel_launcher.py:1: SettingWithCopyWarning: \n",
      "A value is trying to be set on a copy of a slice from a DataFrame.\n",
      "Try using .loc[row_indexer,col_indexer] = value instead\n",
      "\n",
      "See the caveats in the documentation: http://pandas.pydata.org/pandas-docs/stable/user_guide/indexing.html#returning-a-view-versus-a-copy\n",
      "  \"\"\"Entry point for launching an IPython kernel.\n"
     ]
    },
    {
     "data": {
      "text/html": [
       "<div>\n",
       "<style scoped>\n",
       "    .dataframe tbody tr th:only-of-type {\n",
       "        vertical-align: middle;\n",
       "    }\n",
       "\n",
       "    .dataframe tbody tr th {\n",
       "        vertical-align: top;\n",
       "    }\n",
       "\n",
       "    .dataframe thead th {\n",
       "        text-align: right;\n",
       "    }\n",
       "</style>\n",
       "<table border=\"1\" class=\"dataframe\">\n",
       "  <thead>\n",
       "    <tr style=\"text-align: right;\">\n",
       "      <th></th>\n",
       "      <th>\" 00 \" (soft wheat) flour * or cake flour</th>\n",
       "      <th>\" 00 \" flour</th>\n",
       "      <th>\" 00 \" flour, divide</th>\n",
       "      <th>\" &gt; chicken stock chicken broth</th>\n",
       "      <th>\" &gt; panko (japanese bread crumb bread crumb</th>\n",
       "      <th>\" baby \" Pattypan squash</th>\n",
       "      <th>\" biscuit cutter</th>\n",
       "      <th>\" brown candy \" sugar brown sugar</th>\n",
       "      <th>\" cauliflower floret (cut from 1 large head)</th>\n",
       "      <th>\" circular wire rack</th>\n",
       "      <th>...</th>\n",
       "      <th>ﬁne salt</th>\n",
       "      <th>avg_rating</th>\n",
       "      <th>best_rating</th>\n",
       "      <th>worst_rating</th>\n",
       "      <th>prepare_again_rating</th>\n",
       "      <th>num_reviews</th>\n",
       "      <th>total_time</th>\n",
       "      <th>tags</th>\n",
       "      <th>title</th>\n",
       "      <th>usa_cuisine</th>\n",
       "    </tr>\n",
       "  </thead>\n",
       "  <tbody>\n",
       "    <tr>\n",
       "      <th>http://www.epicurious.com/recipes/food/views/-adult-pimiento-cheese-100852</th>\n",
       "      <td>0.0</td>\n",
       "      <td>0.0</td>\n",
       "      <td>0.0</td>\n",
       "      <td>0.0</td>\n",
       "      <td>0.0</td>\n",
       "      <td>0.0</td>\n",
       "      <td>0.0</td>\n",
       "      <td>0.0</td>\n",
       "      <td>0.0</td>\n",
       "      <td>0.0</td>\n",
       "      <td>...</td>\n",
       "      <td>0.0</td>\n",
       "      <td>2.5</td>\n",
       "      <td>4.0</td>\n",
       "      <td>0.0</td>\n",
       "      <td>0.85</td>\n",
       "      <td>25.0</td>\n",
       "      <td>0.0</td>\n",
       "      <td>[Cheese, Vegetable, No-Cook, Vegetarian, Quick...</td>\n",
       "      <td>\"Adult\" Pimiento Cheese</td>\n",
       "      <td>True</td>\n",
       "    </tr>\n",
       "  </tbody>\n",
       "</table>\n",
       "<p>1 rows × 17973 columns</p>\n",
       "</div>"
      ],
      "text/plain": [
       "                                                    \" 00 \" (soft wheat) flour * or cake flour  \\\n",
       "http://www.epicurious.com/recipes/food/views/-a...                                        0.0   \n",
       "\n",
       "                                                    \" 00 \" flour  \\\n",
       "http://www.epicurious.com/recipes/food/views/-a...           0.0   \n",
       "\n",
       "                                                    \" 00 \" flour, divide  \\\n",
       "http://www.epicurious.com/recipes/food/views/-a...                   0.0   \n",
       "\n",
       "                                                    \" > chicken stock chicken broth  \\\n",
       "http://www.epicurious.com/recipes/food/views/-a...                              0.0   \n",
       "\n",
       "                                                    \" > panko (japanese bread crumb bread crumb  \\\n",
       "http://www.epicurious.com/recipes/food/views/-a...                                          0.0   \n",
       "\n",
       "                                                    \" baby \" Pattypan squash  \\\n",
       "http://www.epicurious.com/recipes/food/views/-a...                       0.0   \n",
       "\n",
       "                                                    \" biscuit cutter  \\\n",
       "http://www.epicurious.com/recipes/food/views/-a...               0.0   \n",
       "\n",
       "                                                    \" brown candy \" sugar brown sugar  \\\n",
       "http://www.epicurious.com/recipes/food/views/-a...                                0.0   \n",
       "\n",
       "                                                    \" cauliflower floret (cut from 1 large head)  \\\n",
       "http://www.epicurious.com/recipes/food/views/-a...                                           0.0   \n",
       "\n",
       "                                                    \" circular wire rack  ...  \\\n",
       "http://www.epicurious.com/recipes/food/views/-a...                   0.0  ...   \n",
       "\n",
       "                                                    ﬁne salt  avg_rating  \\\n",
       "http://www.epicurious.com/recipes/food/views/-a...       0.0         2.5   \n",
       "\n",
       "                                                    best_rating  worst_rating  \\\n",
       "http://www.epicurious.com/recipes/food/views/-a...          4.0           0.0   \n",
       "\n",
       "                                                    prepare_again_rating  \\\n",
       "http://www.epicurious.com/recipes/food/views/-a...                  0.85   \n",
       "\n",
       "                                                    num_reviews  total_time  \\\n",
       "http://www.epicurious.com/recipes/food/views/-a...         25.0         0.0   \n",
       "\n",
       "                                                                                                 tags  \\\n",
       "http://www.epicurious.com/recipes/food/views/-a...  [Cheese, Vegetable, No-Cook, Vegetarian, Quick...   \n",
       "\n",
       "                                                                       title  \\\n",
       "http://www.epicurious.com/recipes/food/views/-a...  \"Adult\" Pimiento Cheese    \n",
       "\n",
       "                                                    usa_cuisine  \n",
       "http://www.epicurious.com/recipes/food/views/-a...         True  \n",
       "\n",
       "[1 rows x 17973 columns]"
      ]
     },
     "execution_count": 259,
     "metadata": {},
     "output_type": "execute_result"
    }
   ],
   "source": [
    "corr_df['usa_cuisine'] = tags_value\n",
    "corr_df.head(1)"
   ]
  },
  {
   "cell_type": "code",
   "execution_count": 260,
   "metadata": {},
   "outputs": [
    {
     "name": "stderr",
     "output_type": "stream",
     "text": [
      "/Library/Frameworks/Python.framework/Versions/3.6/lib/python3.6/site-packages/ipykernel_launcher.py:4: SettingWithCopyWarning: \n",
      "A value is trying to be set on a copy of a slice from a DataFrame.\n",
      "Try using .loc[row_indexer,col_indexer] = value instead\n",
      "\n",
      "See the caveats in the documentation: http://pandas.pydata.org/pandas-docs/stable/user_guide/indexing.html#returning-a-view-versus-a-copy\n",
      "  after removing the cwd from sys.path.\n"
     ]
    },
    {
     "data": {
      "text/html": [
       "<div>\n",
       "<style scoped>\n",
       "    .dataframe tbody tr th:only-of-type {\n",
       "        vertical-align: middle;\n",
       "    }\n",
       "\n",
       "    .dataframe tbody tr th {\n",
       "        vertical-align: top;\n",
       "    }\n",
       "\n",
       "    .dataframe thead th {\n",
       "        text-align: right;\n",
       "    }\n",
       "</style>\n",
       "<table border=\"1\" class=\"dataframe\">\n",
       "  <thead>\n",
       "    <tr style=\"text-align: right;\">\n",
       "      <th></th>\n",
       "      <th>\" 00 \" (soft wheat) flour * or cake flour</th>\n",
       "      <th>\" 00 \" flour</th>\n",
       "      <th>\" 00 \" flour, divide</th>\n",
       "      <th>\" &gt; chicken stock chicken broth</th>\n",
       "      <th>\" &gt; panko (japanese bread crumb bread crumb</th>\n",
       "      <th>\" baby \" Pattypan squash</th>\n",
       "      <th>\" biscuit cutter</th>\n",
       "      <th>\" brown candy \" sugar brown sugar</th>\n",
       "      <th>\" cauliflower floret (cut from 1 large head)</th>\n",
       "      <th>\" circular wire rack</th>\n",
       "      <th>...</th>\n",
       "      <th>total_time</th>\n",
       "      <th>tags</th>\n",
       "      <th>title</th>\n",
       "      <th>usa_cuisine</th>\n",
       "      <th>Peanut Free</th>\n",
       "      <th>Soy Free</th>\n",
       "      <th>Tree Nut Free</th>\n",
       "      <th>Wheat/Gluten-Free</th>\n",
       "      <th>Dairy Free</th>\n",
       "      <th>Fat Free</th>\n",
       "    </tr>\n",
       "  </thead>\n",
       "  <tbody>\n",
       "    <tr>\n",
       "      <th>http://www.epicurious.com/recipes/food/views/-adult-pimiento-cheese-100852</th>\n",
       "      <td>0.0</td>\n",
       "      <td>0.0</td>\n",
       "      <td>0.0</td>\n",
       "      <td>0.0</td>\n",
       "      <td>0.0</td>\n",
       "      <td>0.0</td>\n",
       "      <td>0.0</td>\n",
       "      <td>0.0</td>\n",
       "      <td>0.0</td>\n",
       "      <td>0.0</td>\n",
       "      <td>...</td>\n",
       "      <td>0.0</td>\n",
       "      <td>[Cheese, Vegetable, No-Cook, Vegetarian, Quick...</td>\n",
       "      <td>\"Adult\" Pimiento Cheese</td>\n",
       "      <td>True</td>\n",
       "      <td>False</td>\n",
       "      <td>False</td>\n",
       "      <td>False</td>\n",
       "      <td>False</td>\n",
       "      <td>False</td>\n",
       "      <td>False</td>\n",
       "    </tr>\n",
       "  </tbody>\n",
       "</table>\n",
       "<p>1 rows × 17979 columns</p>\n",
       "</div>"
      ],
      "text/plain": [
       "                                                    \" 00 \" (soft wheat) flour * or cake flour  \\\n",
       "http://www.epicurious.com/recipes/food/views/-a...                                        0.0   \n",
       "\n",
       "                                                    \" 00 \" flour  \\\n",
       "http://www.epicurious.com/recipes/food/views/-a...           0.0   \n",
       "\n",
       "                                                    \" 00 \" flour, divide  \\\n",
       "http://www.epicurious.com/recipes/food/views/-a...                   0.0   \n",
       "\n",
       "                                                    \" > chicken stock chicken broth  \\\n",
       "http://www.epicurious.com/recipes/food/views/-a...                              0.0   \n",
       "\n",
       "                                                    \" > panko (japanese bread crumb bread crumb  \\\n",
       "http://www.epicurious.com/recipes/food/views/-a...                                          0.0   \n",
       "\n",
       "                                                    \" baby \" Pattypan squash  \\\n",
       "http://www.epicurious.com/recipes/food/views/-a...                       0.0   \n",
       "\n",
       "                                                    \" biscuit cutter  \\\n",
       "http://www.epicurious.com/recipes/food/views/-a...               0.0   \n",
       "\n",
       "                                                    \" brown candy \" sugar brown sugar  \\\n",
       "http://www.epicurious.com/recipes/food/views/-a...                                0.0   \n",
       "\n",
       "                                                    \" cauliflower floret (cut from 1 large head)  \\\n",
       "http://www.epicurious.com/recipes/food/views/-a...                                           0.0   \n",
       "\n",
       "                                                    \" circular wire rack  ...  \\\n",
       "http://www.epicurious.com/recipes/food/views/-a...                   0.0  ...   \n",
       "\n",
       "                                                    total_time  \\\n",
       "http://www.epicurious.com/recipes/food/views/-a...         0.0   \n",
       "\n",
       "                                                                                                 tags  \\\n",
       "http://www.epicurious.com/recipes/food/views/-a...  [Cheese, Vegetable, No-Cook, Vegetarian, Quick...   \n",
       "\n",
       "                                                                       title  \\\n",
       "http://www.epicurious.com/recipes/food/views/-a...  \"Adult\" Pimiento Cheese    \n",
       "\n",
       "                                                    usa_cuisine  Peanut Free  \\\n",
       "http://www.epicurious.com/recipes/food/views/-a...         True        False   \n",
       "\n",
       "                                                    Soy Free  Tree Nut Free  \\\n",
       "http://www.epicurious.com/recipes/food/views/-a...     False          False   \n",
       "\n",
       "                                                    Wheat/Gluten-Free  \\\n",
       "http://www.epicurious.com/recipes/food/views/-a...              False   \n",
       "\n",
       "                                                    Dairy Free  Fat Free  \n",
       "http://www.epicurious.com/recipes/food/views/-a...       False     False  \n",
       "\n",
       "[1 rows x 17979 columns]"
      ]
     },
     "execution_count": 260,
     "metadata": {},
     "output_type": "execute_result"
    }
   ],
   "source": [
    "# add allergy tags to df\n",
    "corr_df = addallergytoDF(corr_df)\n",
    "corr_df.head(1)"
   ]
  },
  {
   "cell_type": "code",
   "execution_count": 261,
   "metadata": {},
   "outputs": [
    {
     "data": {
      "text/html": [
       "<div>\n",
       "<style scoped>\n",
       "    .dataframe tbody tr th:only-of-type {\n",
       "        vertical-align: middle;\n",
       "    }\n",
       "\n",
       "    .dataframe tbody tr th {\n",
       "        vertical-align: top;\n",
       "    }\n",
       "\n",
       "    .dataframe thead th {\n",
       "        text-align: right;\n",
       "    }\n",
       "</style>\n",
       "<table border=\"1\" class=\"dataframe\">\n",
       "  <thead>\n",
       "    <tr style=\"text-align: right;\">\n",
       "      <th></th>\n",
       "      <th>\" &gt; panko (japanese bread crumb bread crumb</th>\n",
       "      <th>\" biscuit cutter</th>\n",
       "      <th>\" brown candy \" sugar brown sugar</th>\n",
       "      <th>\" cauliflower floret (cut from 1 large head)</th>\n",
       "      <th>\" cube salt pork</th>\n",
       "      <th>\" large \" egg</th>\n",
       "      <th>\" pie dish</th>\n",
       "      <th>\" piece (about 6 ounce) thick - cut smoke bacon</th>\n",
       "      <th>\" piece ginger, peel, finely grated</th>\n",
       "      <th>\" pita bread</th>\n",
       "      <th>...</th>\n",
       "      <th>num_reviews</th>\n",
       "      <th>tags</th>\n",
       "      <th>title</th>\n",
       "      <th>usa_cuisine</th>\n",
       "      <th>Peanut Free</th>\n",
       "      <th>Soy Free</th>\n",
       "      <th>Tree Nut Free</th>\n",
       "      <th>Wheat/Gluten-Free</th>\n",
       "      <th>Dairy Free</th>\n",
       "      <th>Fat Free</th>\n",
       "    </tr>\n",
       "  </thead>\n",
       "  <tbody>\n",
       "    <tr>\n",
       "      <th>http://www.epicurious.com/recipes/food/views/-adult-pimiento-cheese-100852</th>\n",
       "      <td>0.0</td>\n",
       "      <td>0.0</td>\n",
       "      <td>0.0</td>\n",
       "      <td>0.0</td>\n",
       "      <td>0.0</td>\n",
       "      <td>0.0</td>\n",
       "      <td>0.0</td>\n",
       "      <td>0.0</td>\n",
       "      <td>0.0</td>\n",
       "      <td>0.0</td>\n",
       "      <td>...</td>\n",
       "      <td>25.0</td>\n",
       "      <td>[Cheese, Vegetable, No-Cook, Vegetarian, Quick...</td>\n",
       "      <td>\"Adult\" Pimiento Cheese</td>\n",
       "      <td>True</td>\n",
       "      <td>False</td>\n",
       "      <td>False</td>\n",
       "      <td>False</td>\n",
       "      <td>False</td>\n",
       "      <td>False</td>\n",
       "      <td>False</td>\n",
       "    </tr>\n",
       "    <tr>\n",
       "      <th>http://www.epicurious.com/recipes/food/views/-an-apple-a-day-51133430</th>\n",
       "      <td>0.0</td>\n",
       "      <td>0.0</td>\n",
       "      <td>0.0</td>\n",
       "      <td>0.0</td>\n",
       "      <td>0.0</td>\n",
       "      <td>0.0</td>\n",
       "      <td>0.0</td>\n",
       "      <td>0.0</td>\n",
       "      <td>0.0</td>\n",
       "      <td>0.0</td>\n",
       "      <td>...</td>\n",
       "      <td>3.0</td>\n",
       "      <td>[Ginger, Dessert, Bake, Apple, Almond, Fall, R...</td>\n",
       "      <td>\"An Apple a Day\"</td>\n",
       "      <td>NA</td>\n",
       "      <td>True</td>\n",
       "      <td>True</td>\n",
       "      <td>False</td>\n",
       "      <td>False</td>\n",
       "      <td>False</td>\n",
       "      <td>False</td>\n",
       "    </tr>\n",
       "    <tr>\n",
       "      <th>http://www.epicurious.com/recipes/food/views/-blanketed-eggplant-305</th>\n",
       "      <td>0.0</td>\n",
       "      <td>0.0</td>\n",
       "      <td>0.0</td>\n",
       "      <td>0.0</td>\n",
       "      <td>0.0</td>\n",
       "      <td>0.0</td>\n",
       "      <td>0.0</td>\n",
       "      <td>0.0</td>\n",
       "      <td>0.0</td>\n",
       "      <td>0.0</td>\n",
       "      <td>...</td>\n",
       "      <td>4.0</td>\n",
       "      <td>[Tomato, Vegetable, Appetizer, Side, Vegetaria...</td>\n",
       "      <td>\"Blanketed\" Eggplant</td>\n",
       "      <td>NA</td>\n",
       "      <td>False</td>\n",
       "      <td>False</td>\n",
       "      <td>False</td>\n",
       "      <td>False</td>\n",
       "      <td>False</td>\n",
       "      <td>False</td>\n",
       "    </tr>\n",
       "    <tr>\n",
       "      <th>http://www.epicurious.com/recipes/food/views/-bloody-mary-tomato-toast-with-celery-and-horseradish-56389813</th>\n",
       "      <td>0.0</td>\n",
       "      <td>0.0</td>\n",
       "      <td>0.0</td>\n",
       "      <td>0.0</td>\n",
       "      <td>0.0</td>\n",
       "      <td>0.0</td>\n",
       "      <td>0.0</td>\n",
       "      <td>0.0</td>\n",
       "      <td>0.0</td>\n",
       "      <td>0.0</td>\n",
       "      <td>...</td>\n",
       "      <td>2.0</td>\n",
       "      <td>[Condiment/Spread, Tomato, Appetizer, Kid-Frie...</td>\n",
       "      <td>\"Bloody Mary\" Tomato Toast with Celery and Hor...</td>\n",
       "      <td>NA</td>\n",
       "      <td>True</td>\n",
       "      <td>True</td>\n",
       "      <td>True</td>\n",
       "      <td>False</td>\n",
       "      <td>True</td>\n",
       "      <td>False</td>\n",
       "    </tr>\n",
       "    <tr>\n",
       "      <th>http://www.epicurious.com/recipes/food/views/-bow-tie-pasta-with-zucchini-101932</th>\n",
       "      <td>0.0</td>\n",
       "      <td>0.0</td>\n",
       "      <td>0.0</td>\n",
       "      <td>0.0</td>\n",
       "      <td>0.0</td>\n",
       "      <td>0.0</td>\n",
       "      <td>0.0</td>\n",
       "      <td>0.0</td>\n",
       "      <td>0.0</td>\n",
       "      <td>0.0</td>\n",
       "      <td>...</td>\n",
       "      <td>48.0</td>\n",
       "      <td>[Pasta, Vegetarian, Quick &amp; Easy, Dinner, Basi...</td>\n",
       "      <td>\"Bow-Tie\" Pasta with Zucchini</td>\n",
       "      <td>NA</td>\n",
       "      <td>True</td>\n",
       "      <td>True</td>\n",
       "      <td>True</td>\n",
       "      <td>False</td>\n",
       "      <td>False</td>\n",
       "      <td>False</td>\n",
       "    </tr>\n",
       "  </tbody>\n",
       "</table>\n",
       "<p>5 rows × 7312 columns</p>\n",
       "</div>"
      ],
      "text/plain": [
       "                                                    \" > panko (japanese bread crumb bread crumb  \\\n",
       "http://www.epicurious.com/recipes/food/views/-a...                                          0.0   \n",
       "http://www.epicurious.com/recipes/food/views/-a...                                          0.0   \n",
       "http://www.epicurious.com/recipes/food/views/-b...                                          0.0   \n",
       "http://www.epicurious.com/recipes/food/views/-b...                                          0.0   \n",
       "http://www.epicurious.com/recipes/food/views/-b...                                          0.0   \n",
       "\n",
       "                                                    \" biscuit cutter  \\\n",
       "http://www.epicurious.com/recipes/food/views/-a...               0.0   \n",
       "http://www.epicurious.com/recipes/food/views/-a...               0.0   \n",
       "http://www.epicurious.com/recipes/food/views/-b...               0.0   \n",
       "http://www.epicurious.com/recipes/food/views/-b...               0.0   \n",
       "http://www.epicurious.com/recipes/food/views/-b...               0.0   \n",
       "\n",
       "                                                    \" brown candy \" sugar brown sugar  \\\n",
       "http://www.epicurious.com/recipes/food/views/-a...                                0.0   \n",
       "http://www.epicurious.com/recipes/food/views/-a...                                0.0   \n",
       "http://www.epicurious.com/recipes/food/views/-b...                                0.0   \n",
       "http://www.epicurious.com/recipes/food/views/-b...                                0.0   \n",
       "http://www.epicurious.com/recipes/food/views/-b...                                0.0   \n",
       "\n",
       "                                                    \" cauliflower floret (cut from 1 large head)  \\\n",
       "http://www.epicurious.com/recipes/food/views/-a...                                           0.0   \n",
       "http://www.epicurious.com/recipes/food/views/-a...                                           0.0   \n",
       "http://www.epicurious.com/recipes/food/views/-b...                                           0.0   \n",
       "http://www.epicurious.com/recipes/food/views/-b...                                           0.0   \n",
       "http://www.epicurious.com/recipes/food/views/-b...                                           0.0   \n",
       "\n",
       "                                                    \" cube salt pork  \\\n",
       "http://www.epicurious.com/recipes/food/views/-a...               0.0   \n",
       "http://www.epicurious.com/recipes/food/views/-a...               0.0   \n",
       "http://www.epicurious.com/recipes/food/views/-b...               0.0   \n",
       "http://www.epicurious.com/recipes/food/views/-b...               0.0   \n",
       "http://www.epicurious.com/recipes/food/views/-b...               0.0   \n",
       "\n",
       "                                                    \" large \" egg  \" pie dish  \\\n",
       "http://www.epicurious.com/recipes/food/views/-a...            0.0         0.0   \n",
       "http://www.epicurious.com/recipes/food/views/-a...            0.0         0.0   \n",
       "http://www.epicurious.com/recipes/food/views/-b...            0.0         0.0   \n",
       "http://www.epicurious.com/recipes/food/views/-b...            0.0         0.0   \n",
       "http://www.epicurious.com/recipes/food/views/-b...            0.0         0.0   \n",
       "\n",
       "                                                    \" piece (about 6 ounce) thick - cut smoke bacon  \\\n",
       "http://www.epicurious.com/recipes/food/views/-a...                                              0.0   \n",
       "http://www.epicurious.com/recipes/food/views/-a...                                              0.0   \n",
       "http://www.epicurious.com/recipes/food/views/-b...                                              0.0   \n",
       "http://www.epicurious.com/recipes/food/views/-b...                                              0.0   \n",
       "http://www.epicurious.com/recipes/food/views/-b...                                              0.0   \n",
       "\n",
       "                                                    \" piece ginger, peel, finely grated  \\\n",
       "http://www.epicurious.com/recipes/food/views/-a...                                  0.0   \n",
       "http://www.epicurious.com/recipes/food/views/-a...                                  0.0   \n",
       "http://www.epicurious.com/recipes/food/views/-b...                                  0.0   \n",
       "http://www.epicurious.com/recipes/food/views/-b...                                  0.0   \n",
       "http://www.epicurious.com/recipes/food/views/-b...                                  0.0   \n",
       "\n",
       "                                                    \" pita bread  ...  \\\n",
       "http://www.epicurious.com/recipes/food/views/-a...           0.0  ...   \n",
       "http://www.epicurious.com/recipes/food/views/-a...           0.0  ...   \n",
       "http://www.epicurious.com/recipes/food/views/-b...           0.0  ...   \n",
       "http://www.epicurious.com/recipes/food/views/-b...           0.0  ...   \n",
       "http://www.epicurious.com/recipes/food/views/-b...           0.0  ...   \n",
       "\n",
       "                                                    num_reviews  \\\n",
       "http://www.epicurious.com/recipes/food/views/-a...         25.0   \n",
       "http://www.epicurious.com/recipes/food/views/-a...          3.0   \n",
       "http://www.epicurious.com/recipes/food/views/-b...          4.0   \n",
       "http://www.epicurious.com/recipes/food/views/-b...          2.0   \n",
       "http://www.epicurious.com/recipes/food/views/-b...         48.0   \n",
       "\n",
       "                                                                                                 tags  \\\n",
       "http://www.epicurious.com/recipes/food/views/-a...  [Cheese, Vegetable, No-Cook, Vegetarian, Quick...   \n",
       "http://www.epicurious.com/recipes/food/views/-a...  [Ginger, Dessert, Bake, Apple, Almond, Fall, R...   \n",
       "http://www.epicurious.com/recipes/food/views/-b...  [Tomato, Vegetable, Appetizer, Side, Vegetaria...   \n",
       "http://www.epicurious.com/recipes/food/views/-b...  [Condiment/Spread, Tomato, Appetizer, Kid-Frie...   \n",
       "http://www.epicurious.com/recipes/food/views/-b...  [Pasta, Vegetarian, Quick & Easy, Dinner, Basi...   \n",
       "\n",
       "                                                                                                title  \\\n",
       "http://www.epicurious.com/recipes/food/views/-a...                           \"Adult\" Pimiento Cheese    \n",
       "http://www.epicurious.com/recipes/food/views/-a...                                  \"An Apple a Day\"    \n",
       "http://www.epicurious.com/recipes/food/views/-b...                              \"Blanketed\" Eggplant    \n",
       "http://www.epicurious.com/recipes/food/views/-b...  \"Bloody Mary\" Tomato Toast with Celery and Hor...   \n",
       "http://www.epicurious.com/recipes/food/views/-b...                     \"Bow-Tie\" Pasta with Zucchini    \n",
       "\n",
       "                                                    usa_cuisine  Peanut Free  \\\n",
       "http://www.epicurious.com/recipes/food/views/-a...         True        False   \n",
       "http://www.epicurious.com/recipes/food/views/-a...           NA         True   \n",
       "http://www.epicurious.com/recipes/food/views/-b...           NA        False   \n",
       "http://www.epicurious.com/recipes/food/views/-b...           NA         True   \n",
       "http://www.epicurious.com/recipes/food/views/-b...           NA         True   \n",
       "\n",
       "                                                    Soy Free  Tree Nut Free  \\\n",
       "http://www.epicurious.com/recipes/food/views/-a...     False          False   \n",
       "http://www.epicurious.com/recipes/food/views/-a...      True          False   \n",
       "http://www.epicurious.com/recipes/food/views/-b...     False          False   \n",
       "http://www.epicurious.com/recipes/food/views/-b...      True           True   \n",
       "http://www.epicurious.com/recipes/food/views/-b...      True           True   \n",
       "\n",
       "                                                    Wheat/Gluten-Free  \\\n",
       "http://www.epicurious.com/recipes/food/views/-a...              False   \n",
       "http://www.epicurious.com/recipes/food/views/-a...              False   \n",
       "http://www.epicurious.com/recipes/food/views/-b...              False   \n",
       "http://www.epicurious.com/recipes/food/views/-b...              False   \n",
       "http://www.epicurious.com/recipes/food/views/-b...              False   \n",
       "\n",
       "                                                    Dairy Free  Fat Free  \n",
       "http://www.epicurious.com/recipes/food/views/-a...       False     False  \n",
       "http://www.epicurious.com/recipes/food/views/-a...       False     False  \n",
       "http://www.epicurious.com/recipes/food/views/-b...       False     False  \n",
       "http://www.epicurious.com/recipes/food/views/-b...        True     False  \n",
       "http://www.epicurious.com/recipes/food/views/-b...       False     False  \n",
       "\n",
       "[5 rows x 7312 columns]"
      ]
     },
     "execution_count": 261,
     "metadata": {},
     "output_type": "execute_result"
    }
   ],
   "source": [
    "corr_df = dropZeroColumns(corr_df)\n",
    "corr_df.head(5)"
   ]
  },
  {
   "cell_type": "code",
   "execution_count": 262,
   "metadata": {},
   "outputs": [
    {
     "data": {
      "text/plain": [
       "(10000, 7312)"
      ]
     },
     "execution_count": 262,
     "metadata": {},
     "output_type": "execute_result"
    }
   ],
   "source": [
    "corr_df.shape"
   ]
  },
  {
   "cell_type": "code",
   "execution_count": 272,
   "metadata": {},
   "outputs": [
    {
     "data": {
      "text/plain": [
       "(9537, 7312)"
      ]
     },
     "execution_count": 272,
     "metadata": {},
     "output_type": "execute_result"
    }
   ],
   "source": [
    "corr_df.drop(corr_df[corr_df['usa_cuisine'] == 'False'].index,inplace=True)\n",
    "corr_df.drop(corr_df[corr_df['usa_cuisine'] == 'True'].index,inplace=True)\n",
    "corr_df.shape\n",
    "# corr_df.drop(corr_df.loc[corr_df['usa_cuisine'] == 'False'].index,inplace=True)"
   ]
  },
  {
   "cell_type": "code",
   "execution_count": 225,
   "metadata": {},
   "outputs": [
    {
     "data": {
      "text/plain": [
       "(9537, 7312)"
      ]
     },
     "execution_count": 225,
     "metadata": {},
     "output_type": "execute_result"
    }
   ],
   "source": [
    "corr_df.shape"
   ]
  },
  {
   "cell_type": "code",
   "execution_count": 252,
   "metadata": {},
   "outputs": [],
   "source": [
    "# corr_df = deleterows(corr_df,'usa_cuisine','True','False')"
   ]
  },
  {
   "cell_type": "code",
   "execution_count": 274,
   "metadata": {},
   "outputs": [],
   "source": [
    "\n",
    "# data_column = ['usa_cuisine','tags','title']\n",
    "# label_column = ['usa_cuisine']\n",
    "corr_data,corr_label = getTrianData(corr_df,data_column,label_column)"
   ]
  },
  {
   "cell_type": "code",
   "execution_count": 277,
   "metadata": {},
   "outputs": [
    {
     "data": {
      "text/plain": [
       "(9523, 7309)"
      ]
     },
     "execution_count": 277,
     "metadata": {},
     "output_type": "execute_result"
    }
   ],
   "source": [
    "corr_data.shape"
   ]
  },
  {
   "cell_type": "code",
   "execution_count": 276,
   "metadata": {},
   "outputs": [
    {
     "data": {
      "text/plain": [
       "(9523, 1)"
      ]
     },
     "execution_count": 276,
     "metadata": {},
     "output_type": "execute_result"
    }
   ],
   "source": [
    "corr_label.shape"
   ]
  },
  {
   "cell_type": "code",
   "execution_count": 288,
   "metadata": {},
   "outputs": [
    {
     "name": "stderr",
     "output_type": "stream",
     "text": [
      "/Library/Frameworks/Python.framework/Versions/3.6/lib/python3.6/site-packages/sklearn/utils/validation.py:724: DataConversionWarning: A column-vector y was passed when a 1d array was expected. Please change the shape of y to (n_samples, ), for example using ravel().\n",
      "  y = column_or_1d(y, warn=True)\n"
     ]
    },
    {
     "data": {
      "text/plain": [
       "GaussianNB(priors=None, var_smoothing=1e-09)"
      ]
     },
     "execution_count": 288,
     "metadata": {},
     "output_type": "execute_result"
    }
   ],
   "source": [
    "bayes_model.fit(corr_data,corr_label)"
   ]
  },
  {
   "cell_type": "code",
   "execution_count": 289,
   "metadata": {},
   "outputs": [
    {
     "data": {
      "text/plain": [
       "array(['True', 'True'], dtype='<U5')"
      ]
     },
     "execution_count": 289,
     "metadata": {},
     "output_type": "execute_result"
    }
   ],
   "source": [
    "bayes_model.predict(corr_data.iloc[0:2])"
   ]
  },
  {
   "cell_type": "code",
   "execution_count": 216,
   "metadata": {},
   "outputs": [
    {
     "name": "stdout",
     "output_type": "stream",
     "text": [
      "Neither USA Cuisine or non-USA Cuisine:  9537\n",
      "USA Cuisine:  353\n",
      "Non-USA Cuisine:  110\n"
     ]
    }
   ],
   "source": [
    "print(\"Neither USA Cuisine or non-USA Cuisine: \",len(corr_df.loc[corr_df['usa_cuisine'] == 'NA']))\n",
    "print(\"USA Cuisine: \",len(corr_df.loc[corr_df['usa_cuisine'] == 'True']))\n",
    "print(\"Non-USA Cuisine: \",len(corr_df.loc[corr_df['usa_cuisine'] == 'False']))"
   ]
  },
  {
   "cell_type": "code",
   "execution_count": null,
   "metadata": {},
   "outputs": [],
   "source": []
  },
  {
   "cell_type": "code",
   "execution_count": null,
   "metadata": {},
   "outputs": [],
   "source": []
  },
  {
   "cell_type": "code",
   "execution_count": null,
   "metadata": {},
   "outputs": [],
   "source": [
    "import plotly.express as px\n",
    "import cufflinks as cf\n",
    "from  plotly.offline import plot\n"
   ]
  },
  {
   "cell_type": "code",
   "execution_count": null,
   "metadata": {},
   "outputs": [],
   "source": [
    "from sklearn.datasets.samples_generator import make_blobs \n",
    "\n",
    "x,y = make_blobs(n_samples=100,centers=3,n_features=3)\n",
    "plt.scatter(x[:, 0], x[:, 1], c=y, s=50, cmap='spring'); \n",
    "plt.show()  "
   ]
  },
  {
   "cell_type": "markdown",
   "metadata": {},
   "source": [
    "from this link: https://www.geeksforgeeks.org/classifying-data-using-support-vector-machinessvms-in-python/"
   ]
  },
  {
   "cell_type": "code",
   "execution_count": null,
   "metadata": {
    "scrolled": true
   },
   "outputs": [],
   "source": [
    "from sklearn.naive_bayes import GaussianNB\n",
    "\n",
    "# create a guassian classifier\n",
    "model = GaussianNB()\n",
    "# print(len(X_train))\n",
    "# print(len(y_train))\n",
    "model.fit(X_train,y_train)\n",
    "y_pred = model.predict(X_test)\n",
    "print(y_pred)\n",
    "# print(model.epsilon_)"
   ]
  },
  {
   "cell_type": "code",
   "execution_count": null,
   "metadata": {},
   "outputs": [],
   "source": [
    "from sklearn.model_selection import train_test_split\n",
    "X_train, X_test, y_train, y_test = train_test_split(x,y,test_size=0.3,random_state=109)"
   ]
  },
  {
   "cell_type": "code",
   "execution_count": null,
   "metadata": {
    "scrolled": true
   },
   "outputs": [],
   "source": [
    "x = list(zip(X.Weather_Condition,X.Driver_Condition,X.Traffic_Violation))\n",
    "# x\n",
    "y = Y.Crash_Severity + Y.Seat_Belt\n",
    "# print(y)\n",
    "# y = list(zip(Y.Crash_Severity,Y.Seat_Belt))\n",
    "# x\n",
    "print(x[:5])\n",
    "print(\"\\n\\n\",y[:5])"
   ]
  }
 ],
 "metadata": {
  "kernelspec": {
   "display_name": "Python 3",
   "language": "python",
   "name": "python3"
  },
  "language_info": {
   "codemirror_mode": {
    "name": "ipython",
    "version": 3
   },
   "file_extension": ".py",
   "mimetype": "text/x-python",
   "name": "python",
   "nbconvert_exporter": "python",
   "pygments_lexer": "ipython3",
   "version": "3.6.6rc1"
  }
 },
 "nbformat": 4,
 "nbformat_minor": 2
}
