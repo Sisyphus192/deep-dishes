{
 "cells": [
  {
   "cell_type": "code",
   "execution_count": 57,
   "metadata": {},
   "outputs": [],
   "source": [
    "import numpy as np\n",
    "import pandas as pd\n",
    "import matplotlib.pyplot as plt\n",
    "from collections import Counter\n",
    "from sklearn import svm\n",
    "from sklearn.naive_bayes import GaussianNB\n",
    "import plotly.express as px\n",
    "import cufflinks as cf\n",
    "from  plotly.offline import plot\n",
    "\n",
    "from sklearn.utils import class_weight"
   ]
  },
  {
   "cell_type": "code",
   "execution_count": 2,
   "metadata": {},
   "outputs": [],
   "source": [
    "# importing class object that I created\n",
    "import sys  \n",
    "sys.path.insert(0, '../src/')\n",
    "import utils"
   ]
  },
  {
   "cell_type": "code",
   "execution_count": 3,
   "metadata": {},
   "outputs": [],
   "source": [
    "tools = utils.tools() # create object"
   ]
  },
  {
   "cell_type": "code",
   "execution_count": 4,
   "metadata": {},
   "outputs": [],
   "source": [
    "epi_data_df = tools.readfile('../data/processed/epi_vector.h5')\n",
    "epi_data_df = tools.df"
   ]
  },
  {
   "cell_type": "markdown",
   "metadata": {},
   "source": [
    "## Helper functions"
   ]
  },
  {
   "cell_type": "code",
   "execution_count": 5,
   "metadata": {},
   "outputs": [
    {
     "data": {
      "text/plain": [
       "(34626, 17972)"
      ]
     },
     "execution_count": 5,
     "metadata": {},
     "output_type": "execute_result"
    }
   ],
   "source": [
    "epi_data_df.shape"
   ]
  },
  {
   "cell_type": "code",
   "execution_count": 6,
   "metadata": {},
   "outputs": [],
   "source": [
    "def countTags(sample_df):\n",
    "    # Get count of tags\n",
    "\n",
    "    c = Counter()  \n",
    "    sample_df[\"tags\"].apply(lambda x: c.update(x))\n",
    "    # store tag count in df\n",
    "    count = pd.DataFrame()\n",
    "    count['tags_count'] = [c[i] for i in c]\n",
    "    count['tag'] = [i for i in c]\n",
    "    count = count.sort_values(by='tags_count',ascending=False)\n",
    "\n",
    "    # delete row with value < n\n",
    "    indexNames = count[ count['tags_count'] <= 30 ].index\n",
    "\n",
    "    # Delete these row indexes from dataFrame\n",
    "    count.drop(indexNames , inplace=True)\n",
    "    return count\n"
   ]
  },
  {
   "cell_type": "code",
   "execution_count": 7,
   "metadata": {},
   "outputs": [],
   "source": [
    "def getallergyTags(count):\n",
    "    # look for ### Free tags\n",
    "    count['allergy_tags'] = count['tag'].str.endswith('Free')\n",
    "\n",
    "    allergy_df = count[count['allergy_tags'] == True]\n",
    "    return allergy_df"
   ]
  },
  {
   "cell_type": "code",
   "execution_count": 8,
   "metadata": {},
   "outputs": [],
   "source": [
    "# Create column in sample_df for allergy tags\n",
    "def addallergytoDF(allergy_df,df):\n",
    "    for i in allergy_df.tag:\n",
    "        df[i] = [i in tags for tags in df.tags]\n",
    "    return df"
   ]
  },
  {
   "cell_type": "code",
   "execution_count": 9,
   "metadata": {},
   "outputs": [],
   "source": [
    "# I manually took out tags that are not recipe ingredients. And clean input. \n",
    "# Uncomment below if  cuisine type is needed\n",
    "def loadCuisineType():\n",
    "    cuisinetype = pd.read_csv('cuisinetype.txt',header=None)\n",
    "    cuisinetype = cuisinetype.transpose()\n",
    "    cuisinetype = np.array(cuisinetype[0])\n",
    "    cuisinetype = [x.replace('\\'','') for x in cuisinetype]\n",
    "    cuisinetype = [x.replace('[','') for x in cuisinetype]\n",
    "    cuisinetype = [x.replace(']','') for x in cuisinetype]\n",
    "    cuisinetype = [x.lstrip() for x in cuisinetype]\n",
    "    # print(cuisinetype)\n",
    "    \n",
    "    # Uncomment below if states are needed\n",
    "\n",
    "    states = pd.read_csv('states.csv',header=None)\n",
    "    states = states.transpose()\n",
    "    states = np.array(states[0])\n",
    "    states = [x.lstrip() for x in states]\n",
    "    # print(states)\n",
    "    \n",
    "    # Uncomment below if usa_cuisine is needed\n",
    "\n",
    "    city = pd.read_csv('usa_city.csv',header=None)\n",
    "    city = city.transpose()\n",
    "    city = np.array(city[0])\n",
    "    city = [x.replace('\\'','') for x in city]\n",
    "    city = [x.replace('[','') for x in city]\n",
    "    city = [x.replace(']','') for x in city]\n",
    "    city = [x.lstrip() for x in city]\n",
    "    usa_cuisine =states+city\n",
    "    # print(usa_cuisine)\n",
    "    \n",
    "    non_usa_cuisine = []\n",
    "    for i in cuisinetype:\n",
    "        if i not in usa_cuisine:\n",
    "            non_usa_cuisine.append(i)\n",
    "    return usa_cuisine,non_usa_cuisine\n",
    "    "
   ]
  },
  {
   "cell_type": "code",
   "execution_count": 10,
   "metadata": {},
   "outputs": [],
   "source": [
    "def addCuisinetypesToDF(sample_df,usa_cuisine,non_usa_cuisine):\n",
    "    tags_value=[]\n",
    "    for tags in sample_df['tags']:\n",
    "        if(set(tags).intersection(usa_cuisine)):\n",
    "            tags_value.append(1)\n",
    "            continue\n",
    "        else:\n",
    "            if(set(tags).intersection(non_usa_cuisine)):\n",
    "                tags_value.append(0)\n",
    "            else:\n",
    "                tags_value.append(2)\n",
    "    sample_df['usa_cuisine'] = tags_value\n",
    "    return sample_df"
   ]
  },
  {
   "cell_type": "code",
   "execution_count": 11,
   "metadata": {},
   "outputs": [],
   "source": [
    "# Drop column with all zeros\n",
    "def dropZeroColumns(sample_df):\n",
    "    sample_df = sample_df.loc[:, (sample_df != 0).any(axis=0)]\n",
    "    return sample_df"
   ]
  },
  {
   "cell_type": "code",
   "execution_count": 12,
   "metadata": {},
   "outputs": [],
   "source": [
    "def deleterows(df,column,value1,value2,yes):\n",
    "    if(yes): # deleted row based on two values\n",
    "        df = df.drop(df[df[column] == value1].index)\n",
    "        df = df.drop(df[df[column] == value2].index)\n",
    "    else:\n",
    "        df = df.drop(df [df[column] == value1].index)\n",
    "    return df"
   ]
  },
  {
   "cell_type": "code",
   "execution_count": 13,
   "metadata": {},
   "outputs": [],
   "source": [
    "# drop not relevent columns and drop rest of allergy column except one you are analyzing\n",
    "def dropAllergyColumn(sample_df,allergy_col):\n",
    "    sample_df = sample_df.drop(columns=['avg_rating','best_rating','prepare_again_rating','num_reviews'],axis=0)\n",
    "\n",
    "    sample_df = sample_df.drop(columns=allergy_col,axis=0)\n",
    "\n",
    "    return sample_df"
   ]
  },
  {
   "cell_type": "code",
   "execution_count": 14,
   "metadata": {},
   "outputs": [],
   "source": [
    "\n",
    "def getTrianData(sample_df,data_column,label_column):\n",
    "    '''Seperate data and label to classify, \n",
    "    X are attribute columns used to classify, Y is the label\n",
    "    first delete all infinity values in data. It also drop columns that are not needed.'''\n",
    "    sample_df = sample_df[(sample_df != np.inf).all(axis=1)]\n",
    "    data = sample_df.drop(columns=data_column, axis=1)\n",
    "    label = sample_df[label_column]\n",
    "    return data,label\n"
   ]
  },
  {
   "cell_type": "code",
   "execution_count": 15,
   "metadata": {},
   "outputs": [],
   "source": [
    "class SVCmodel(object):\n",
    "    def __init__(self):\n",
    "        pass\n",
    "    def getSupport(self,model):\n",
    "        '''Indices of support vectors'''\n",
    "        return model.support_\n",
    "    def getClassWeight(self,model):\n",
    "        '''Support vectors'''\n",
    "        return model.class_weight_\n",
    "    def getNsupport(self,model):\n",
    "        '''# of support vector for each class'''\n",
    "        return model.n_support_\n",
    "    def getsupportcoef(self,model):\n",
    "        '''related to support vector in the decision function.'''\n",
    "        return model.dual_coef_\n",
    "    def getfeaturesweight(self,model):\n",
    "        '''weight assigned to the features'''\n",
    "        return model.coef_\n",
    "    def getintercept(self,model):\n",
    "        '''constants in decision function'''\n",
    "        return model.intercept_\n",
    "    def getfitstatus(self,model):\n",
    "        '''0 if correctly fitted, 1 otherwise(will raise warning)'''\n",
    "        return model.fit_status_\n",
    "    def getclasses(self,model):\n",
    "        '''The class label'''\n",
    "        return model.classes_\n",
    "    def getprobA(self,model):\n",
    "        '''array type, shape = [n_class*(n_classes-1)/2]'''\n",
    "        return model.probA_\n",
    "    def getprobB(self,model):\n",
    "        '''array type, shape = [n_class*(n_classes-1)/2].\n",
    "        If probability=True, it corresponds to the parameters \n",
    "        learned in Platt scaling to produce probability estimates \n",
    "        from decision values. If probability=False, it’s an empty array. \n",
    "        Platt scaling uses the logistic function \n",
    "        1 / (1 + exp(decision_value * probA_ + probB_)) \n",
    "        where probA_ and probB_ are learned from the dataset \n",
    "        '''\n",
    "        return model.probA_\n",
    "    def getclassweight(self,model):\n",
    "        '''multipliers of parameter C for each class.'''\n",
    "        return model.class_weight_\n",
    "    def getshapefit(self,model):\n",
    "        return model.shape_fit_"
   ]
  },
  {
   "cell_type": "markdown",
   "metadata": {},
   "source": [
    "## Data Preparation for Classification"
   ]
  },
  {
   "cell_type": "code",
   "execution_count": 16,
   "metadata": {},
   "outputs": [],
   "source": [
    "# Cuisine Types: usa_cuisine ==> 1, non_usa_cuisine ==> 1, no_tags ==> 2\n",
    "c = countTags(epi_data_df)\n",
    "usa_cuisine,non_usa_cuisine = loadCuisineType()\n",
    "allergy_tags = getallergyTags(c)\n",
    "sample_df = epi_data_df.head(10000)\n",
    "sample_df = addCuisinetypesToDF(sample_df,usa_cuisine,non_usa_cuisine)\n",
    "cuisine_df = sample_df\n",
    "sample_df = addallergytoDF(allergy_tags,sample_df)\n",
    "sample_df = dropZeroColumns(sample_df)\n"
   ]
  },
  {
   "cell_type": "code",
   "execution_count": 49,
   "metadata": {},
   "outputs": [
    {
     "name": "stdout",
     "output_type": "stream",
     "text": [
      "Neither USA Cuisine or non-USA Cuisine:  9537\n",
      "USA Cuisine:  348\n",
      "Non-USA Cuisine:  115\n"
     ]
    }
   ],
   "source": [
    "count1 = len(cuisine_df.loc[cuisine_df['usa_cuisine'] == 1]) # true\n",
    "count2 = len(cuisine_df.loc[cuisine_df['usa_cuisine'] == 0]) # false\n",
    "count3 = len(cuisine_df.loc[cuisine_df['usa_cuisine'] == 2]) # NA\n",
    "print(\"Neither USA Cuisine or non-USA Cuisine: \",count3)\n",
    "print(\"USA Cuisine: \",count1)\n",
    "print(\"Non-USA Cuisine: \",count2)"
   ]
  },
  {
   "cell_type": "code",
   "execution_count": 18,
   "metadata": {},
   "outputs": [
    {
     "name": "stderr",
     "output_type": "stream",
     "text": [
      "/Library/Frameworks/Python.framework/Versions/3.6/lib/python3.6/site-packages/pandas/core/ops/__init__.py:1115: FutureWarning:\n",
      "\n",
      "elementwise comparison failed; returning scalar instead, but in the future will perform elementwise comparison\n",
      "\n"
     ]
    }
   ],
   "source": [
    "drop_column = ['avg_rating','best_rating','prepare_again_rating','num_reviews','Peanut Free','Soy Free','Tree Nut Free','Wheat/Gluten-Free','Dairy Free','Fat Free','usa_cuisine','tags','title']\n",
    "label_column = ['usa_cuisine']\n",
    "\n",
    "copy1 = sample_df\n",
    "copy2 = sample_df\n",
    "usa_tag_df = deleterows(copy1,'usa_cuisine',2,'',True)\n",
    "no_cuisine_tag_df = deleterows(copy2,'usa_cuisine',1,0,False)\n",
    "\n",
    "corr_data,corr_label = getTrianData(usa_tag_df,drop_column,label_column)\n",
    "test_data,test_label = getTrianData(no_cuisine_tag_df,drop_column,label_column)"
   ]
  },
  {
   "cell_type": "code",
   "execution_count": 19,
   "metadata": {},
   "outputs": [
    {
     "data": {
      "text/html": [
       "<div>\n",
       "<style scoped>\n",
       "    .dataframe tbody tr th:only-of-type {\n",
       "        vertical-align: middle;\n",
       "    }\n",
       "\n",
       "    .dataframe tbody tr th {\n",
       "        vertical-align: top;\n",
       "    }\n",
       "\n",
       "    .dataframe thead th {\n",
       "        text-align: right;\n",
       "    }\n",
       "</style>\n",
       "<table border=\"1\" class=\"dataframe\">\n",
       "  <thead>\n",
       "    <tr style=\"text-align: right;\">\n",
       "      <th></th>\n",
       "      <th>\" &gt; panko (japanese bread crumb bread crumb</th>\n",
       "      <th>\" biscuit cutter</th>\n",
       "      <th>\" brown candy \" sugar brown sugar</th>\n",
       "      <th>\" cauliflower floret (cut from 1 large head)</th>\n",
       "      <th>\" cube salt pork</th>\n",
       "      <th>\" large \" egg</th>\n",
       "      <th>\" pie dish</th>\n",
       "      <th>\" piece (about 6 ounce) thick - cut smoke bacon</th>\n",
       "      <th>\" piece ginger, peel, finely grated</th>\n",
       "      <th>\" pita bread</th>\n",
       "      <th>...</th>\n",
       "      <th>ziti pasta</th>\n",
       "      <th>zucchini</th>\n",
       "      <th>zucchini (about 5 medium), slice thin</th>\n",
       "      <th>zucchini blossom</th>\n",
       "      <th>zucchini blossom, tear into large piece (optional)</th>\n",
       "      <th>zucchini flower</th>\n",
       "      <th>zucchini squash</th>\n",
       "      <th>zucchini zucchini</th>\n",
       "      <th>zucchini, quarter lengthwise then slice across thinly</th>\n",
       "      <th>zucchinis</th>\n",
       "    </tr>\n",
       "  </thead>\n",
       "  <tbody>\n",
       "    <tr>\n",
       "      <th>http://www.epicurious.com/recipes/food/views/-an-apple-a-day-51133430</th>\n",
       "      <td>0.0</td>\n",
       "      <td>0.0</td>\n",
       "      <td>0.0</td>\n",
       "      <td>0.0</td>\n",
       "      <td>0.0</td>\n",
       "      <td>0.0</td>\n",
       "      <td>0.0</td>\n",
       "      <td>0.0</td>\n",
       "      <td>0.0</td>\n",
       "      <td>0.0</td>\n",
       "      <td>...</td>\n",
       "      <td>0.0</td>\n",
       "      <td>0.0</td>\n",
       "      <td>0.0</td>\n",
       "      <td>0.0</td>\n",
       "      <td>0.0</td>\n",
       "      <td>0.0</td>\n",
       "      <td>0.0</td>\n",
       "      <td>0.0</td>\n",
       "      <td>0.0</td>\n",
       "      <td>0.0</td>\n",
       "    </tr>\n",
       "    <tr>\n",
       "      <th>http://www.epicurious.com/recipes/food/views/-blanketed-eggplant-305</th>\n",
       "      <td>0.0</td>\n",
       "      <td>0.0</td>\n",
       "      <td>0.0</td>\n",
       "      <td>0.0</td>\n",
       "      <td>0.0</td>\n",
       "      <td>0.0</td>\n",
       "      <td>0.0</td>\n",
       "      <td>0.0</td>\n",
       "      <td>0.0</td>\n",
       "      <td>0.0</td>\n",
       "      <td>...</td>\n",
       "      <td>0.0</td>\n",
       "      <td>0.0</td>\n",
       "      <td>0.0</td>\n",
       "      <td>0.0</td>\n",
       "      <td>0.0</td>\n",
       "      <td>0.0</td>\n",
       "      <td>0.0</td>\n",
       "      <td>0.0</td>\n",
       "      <td>0.0</td>\n",
       "      <td>0.0</td>\n",
       "    </tr>\n",
       "  </tbody>\n",
       "</table>\n",
       "<p>2 rows × 7299 columns</p>\n",
       "</div>"
      ],
      "text/plain": [
       "                                                    \" > panko (japanese bread crumb bread crumb  \\\n",
       "http://www.epicurious.com/recipes/food/views/-a...                                          0.0   \n",
       "http://www.epicurious.com/recipes/food/views/-b...                                          0.0   \n",
       "\n",
       "                                                    \" biscuit cutter  \\\n",
       "http://www.epicurious.com/recipes/food/views/-a...               0.0   \n",
       "http://www.epicurious.com/recipes/food/views/-b...               0.0   \n",
       "\n",
       "                                                    \" brown candy \" sugar brown sugar  \\\n",
       "http://www.epicurious.com/recipes/food/views/-a...                                0.0   \n",
       "http://www.epicurious.com/recipes/food/views/-b...                                0.0   \n",
       "\n",
       "                                                    \" cauliflower floret (cut from 1 large head)  \\\n",
       "http://www.epicurious.com/recipes/food/views/-a...                                           0.0   \n",
       "http://www.epicurious.com/recipes/food/views/-b...                                           0.0   \n",
       "\n",
       "                                                    \" cube salt pork  \\\n",
       "http://www.epicurious.com/recipes/food/views/-a...               0.0   \n",
       "http://www.epicurious.com/recipes/food/views/-b...               0.0   \n",
       "\n",
       "                                                    \" large \" egg  \" pie dish  \\\n",
       "http://www.epicurious.com/recipes/food/views/-a...            0.0         0.0   \n",
       "http://www.epicurious.com/recipes/food/views/-b...            0.0         0.0   \n",
       "\n",
       "                                                    \" piece (about 6 ounce) thick - cut smoke bacon  \\\n",
       "http://www.epicurious.com/recipes/food/views/-a...                                              0.0   \n",
       "http://www.epicurious.com/recipes/food/views/-b...                                              0.0   \n",
       "\n",
       "                                                    \" piece ginger, peel, finely grated  \\\n",
       "http://www.epicurious.com/recipes/food/views/-a...                                  0.0   \n",
       "http://www.epicurious.com/recipes/food/views/-b...                                  0.0   \n",
       "\n",
       "                                                    \" pita bread  ...  \\\n",
       "http://www.epicurious.com/recipes/food/views/-a...           0.0  ...   \n",
       "http://www.epicurious.com/recipes/food/views/-b...           0.0  ...   \n",
       "\n",
       "                                                    ziti pasta  zucchini  \\\n",
       "http://www.epicurious.com/recipes/food/views/-a...         0.0       0.0   \n",
       "http://www.epicurious.com/recipes/food/views/-b...         0.0       0.0   \n",
       "\n",
       "                                                    zucchini (about 5 medium), slice thin  \\\n",
       "http://www.epicurious.com/recipes/food/views/-a...                                    0.0   \n",
       "http://www.epicurious.com/recipes/food/views/-b...                                    0.0   \n",
       "\n",
       "                                                    zucchini blossom  \\\n",
       "http://www.epicurious.com/recipes/food/views/-a...               0.0   \n",
       "http://www.epicurious.com/recipes/food/views/-b...               0.0   \n",
       "\n",
       "                                                    zucchini blossom, tear into large piece (optional)  \\\n",
       "http://www.epicurious.com/recipes/food/views/-a...                                                0.0    \n",
       "http://www.epicurious.com/recipes/food/views/-b...                                                0.0    \n",
       "\n",
       "                                                    zucchini flower  \\\n",
       "http://www.epicurious.com/recipes/food/views/-a...              0.0   \n",
       "http://www.epicurious.com/recipes/food/views/-b...              0.0   \n",
       "\n",
       "                                                    zucchini squash  \\\n",
       "http://www.epicurious.com/recipes/food/views/-a...              0.0   \n",
       "http://www.epicurious.com/recipes/food/views/-b...              0.0   \n",
       "\n",
       "                                                    zucchini zucchini  \\\n",
       "http://www.epicurious.com/recipes/food/views/-a...                0.0   \n",
       "http://www.epicurious.com/recipes/food/views/-b...                0.0   \n",
       "\n",
       "                                                    zucchini, quarter lengthwise then slice across thinly  \\\n",
       "http://www.epicurious.com/recipes/food/views/-a...                                                0.0       \n",
       "http://www.epicurious.com/recipes/food/views/-b...                                                0.0       \n",
       "\n",
       "                                                    zucchinis  \n",
       "http://www.epicurious.com/recipes/food/views/-a...        0.0  \n",
       "http://www.epicurious.com/recipes/food/views/-b...        0.0  \n",
       "\n",
       "[2 rows x 7299 columns]"
      ]
     },
     "execution_count": 19,
     "metadata": {},
     "output_type": "execute_result"
    }
   ],
   "source": [
    "test_data.head(2)"
   ]
  },
  {
   "cell_type": "code",
   "execution_count": 20,
   "metadata": {},
   "outputs": [
    {
     "data": {
      "text/html": [
       "<div>\n",
       "<style scoped>\n",
       "    .dataframe tbody tr th:only-of-type {\n",
       "        vertical-align: middle;\n",
       "    }\n",
       "\n",
       "    .dataframe tbody tr th {\n",
       "        vertical-align: top;\n",
       "    }\n",
       "\n",
       "    .dataframe thead th {\n",
       "        text-align: right;\n",
       "    }\n",
       "</style>\n",
       "<table border=\"1\" class=\"dataframe\">\n",
       "  <thead>\n",
       "    <tr style=\"text-align: right;\">\n",
       "      <th></th>\n",
       "      <th>usa_cuisine</th>\n",
       "    </tr>\n",
       "  </thead>\n",
       "  <tbody>\n",
       "    <tr>\n",
       "      <th>http://www.epicurious.com/recipes/food/views/-an-apple-a-day-51133430</th>\n",
       "      <td>2</td>\n",
       "    </tr>\n",
       "    <tr>\n",
       "      <th>http://www.epicurious.com/recipes/food/views/-blanketed-eggplant-305</th>\n",
       "      <td>2</td>\n",
       "    </tr>\n",
       "  </tbody>\n",
       "</table>\n",
       "</div>"
      ],
      "text/plain": [
       "                                                    usa_cuisine\n",
       "http://www.epicurious.com/recipes/food/views/-a...            2\n",
       "http://www.epicurious.com/recipes/food/views/-b...            2"
      ]
     },
     "execution_count": 20,
     "metadata": {},
     "output_type": "execute_result"
    }
   ],
   "source": [
    "test_label.head(2)"
   ]
  },
  {
   "cell_type": "markdown",
   "metadata": {},
   "source": [
    "## Naive Bayes Classifier"
   ]
  },
  {
   "cell_type": "code",
   "execution_count": 21,
   "metadata": {},
   "outputs": [
    {
     "name": "stderr",
     "output_type": "stream",
     "text": [
      "/Library/Frameworks/Python.framework/Versions/3.6/lib/python3.6/site-packages/sklearn/utils/validation.py:724: DataConversionWarning:\n",
      "\n",
      "A column-vector y was passed when a 1d array was expected. Please change the shape of y to (n_samples, ), for example using ravel().\n",
      "\n"
     ]
    },
    {
     "name": "stdout",
     "output_type": "stream",
     "text": [
      "7.727470203912951e-06\n"
     ]
    }
   ],
   "source": [
    "\n",
    "# # create a guassian classifier\n",
    "bayes_model = GaussianNB()\n",
    "bayes_model.fit(corr_data,corr_label)\n",
    "print(bayes_model.epsilon_)"
   ]
  },
  {
   "cell_type": "code",
   "execution_count": 22,
   "metadata": {
    "scrolled": true
   },
   "outputs": [
    {
     "data": {
      "text/plain": [
       "array([1, 0])"
      ]
     },
     "execution_count": 22,
     "metadata": {},
     "output_type": "execute_result"
    }
   ],
   "source": [
    "bayes_model.predict(corr_data.iloc[0:2])"
   ]
  },
  {
   "cell_type": "code",
   "execution_count": 23,
   "metadata": {},
   "outputs": [],
   "source": [
    "results = bayes_model.predict(test_data)"
   ]
  },
  {
   "cell_type": "code",
   "execution_count": 24,
   "metadata": {},
   "outputs": [
    {
     "name": "stdout",
     "output_type": "stream",
     "text": [
      "[1 1 1 ... 0 0 1]\n"
     ]
    }
   ],
   "source": [
    "print(results)"
   ]
  },
  {
   "cell_type": "markdown",
   "metadata": {},
   "source": [
    "## Support Vector Classifier"
   ]
  },
  {
   "cell_type": "markdown",
   "metadata": {},
   "source": [
    "https://scikit-learn.org/stable/modules/generated/sklearn.svm.SVC.html\n",
    "\n",
    "Below website gives good explaination on reading result from SVC\n",
    "\n",
    "https://www.datacamp.com/community/tutorials/svm-classification-scikit-learn-python"
   ]
  },
  {
   "cell_type": "markdown",
   "metadata": {},
   "source": [
    "### Fit model without weights"
   ]
  },
  {
   "cell_type": "markdown",
   "metadata": {},
   "source": [
    "Referenced example from this link: https://www.geeksforgeeks.org/classifying-data-using-support-vector-machinessvms-in-python/"
   ]
  },
  {
   "cell_type": "code",
   "execution_count": 25,
   "metadata": {
    "scrolled": true
   },
   "outputs": [
    {
     "name": "stderr",
     "output_type": "stream",
     "text": [
      "/Library/Frameworks/Python.framework/Versions/3.6/lib/python3.6/site-packages/sklearn/utils/validation.py:724: DataConversionWarning:\n",
      "\n",
      "A column-vector y was passed when a 1d array was expected. Please change the shape of y to (n_samples, ), for example using ravel().\n",
      "\n"
     ]
    }
   ],
   "source": [
    "C = 1\n",
    "svc = svm.SVC(gamma=0.1,kernel='linear', C=C).fit(corr_data.iloc[:1000], corr_label[:1000]) "
   ]
  },
  {
   "cell_type": "code",
   "execution_count": 91,
   "metadata": {},
   "outputs": [
    {
     "data": {
      "text/plain": [
       "array([1., 1.])"
      ]
     },
     "execution_count": 91,
     "metadata": {},
     "output_type": "execute_result"
    }
   ],
   "source": [
    "result = SVCmodel()\n",
    "result.getClassWeight(svc)"
   ]
  },
  {
   "cell_type": "code",
   "execution_count": 92,
   "metadata": {},
   "outputs": [],
   "source": [
    "predict = []\n",
    "predict.append(svc.predict(corr_data.iloc[0:2]))"
   ]
  },
  {
   "cell_type": "code",
   "execution_count": 93,
   "metadata": {},
   "outputs": [
    {
     "data": {
      "text/plain": [
       "SVC(C=1, cache_size=200, class_weight=None, coef0=0.0,\n",
       "    decision_function_shape='ovr', degree=3, gamma=0.1, kernel='linear',\n",
       "    max_iter=-1, probability=False, random_state=None, shrinking=True,\n",
       "    tol=0.001, verbose=False)"
      ]
     },
     "execution_count": 93,
     "metadata": {},
     "output_type": "execute_result"
    }
   ],
   "source": [
    "svc"
   ]
  },
  {
   "cell_type": "code",
   "execution_count": 94,
   "metadata": {},
   "outputs": [
    {
     "data": {
      "text/plain": [
       "array([0, 1])"
      ]
     },
     "execution_count": 94,
     "metadata": {},
     "output_type": "execute_result"
    }
   ],
   "source": [
    "classes = result.getclasses(svc)\n",
    "classes"
   ]
  },
  {
   "cell_type": "code",
   "execution_count": 95,
   "metadata": {},
   "outputs": [
    {
     "data": {
      "text/plain": [
       "array([1., 1.])"
      ]
     },
     "execution_count": 95,
     "metadata": {},
     "output_type": "execute_result"
    }
   ],
   "source": [
    "class_weight = result.getClassWeight(svc)\n",
    "class_weight"
   ]
  },
  {
   "cell_type": "code",
   "execution_count": 96,
   "metadata": {},
   "outputs": [
    {
     "data": {
      "text/plain": [
       "array([1, 0])"
      ]
     },
     "execution_count": 96,
     "metadata": {},
     "output_type": "execute_result"
    }
   ],
   "source": [
    "bayes_model.predict(corr_data.iloc[0:2])"
   ]
  },
  {
   "cell_type": "markdown",
   "metadata": {},
   "source": [
    "### Fit model with weights"
   ]
  },
  {
   "cell_type": "markdown",
   "metadata": {},
   "source": [
    "#### Calculate Weight"
   ]
  },
  {
   "cell_type": "markdown",
   "metadata": {},
   "source": [
    "* sample_weight is to be applied to individual samples (rows in your data). So the length of sample_weight must match the number of samples in your X.\n",
    "\n",
    "* class_weight is to make the classifier give more importance and attention to the classes. So the length of class_weight must match the number of classes in your targets."
   ]
  },
  {
   "cell_type": "code",
   "execution_count": 61,
   "metadata": {},
   "outputs": [
    {
     "data": {
      "text/plain": [
       "[{0: 0.24838012958963282, 1: 0.7516198704103672},\n",
       " {0: 0.24838012958963282, 1: 0.7516198704103672}]"
      ]
     },
     "execution_count": 61,
     "metadata": {},
     "output_type": "execute_result"
    }
   ],
   "source": [
    "total = count1 + count2\n",
    "cal_w = [count1/total,count2/total]\n",
    "cal_w = [{0:cal_w[1],1:cal_w[0]},{0:cal_w[1],1:cal_w[0]}]\n",
    "cal_w"
   ]
  },
  {
   "cell_type": "markdown",
   "metadata": {},
   "source": [
    "Example of computing class_weight\n",
    "\n",
    "https://programtalk.com/python-examples/sklearn.utils.class_weight.compute_class_weight/"
   ]
  },
  {
   "cell_type": "code",
   "execution_count": 76,
   "metadata": {},
   "outputs": [],
   "source": [
    "y = corr_label[:1000].values.tolist()\n",
    "y = np.where(y=='[','',y)#[x.replace('[','') for x in y]\n",
    "# y = [x.replace(']','') for x in y]"
   ]
  },
  {
   "cell_type": "code",
   "execution_count": 77,
   "metadata": {},
   "outputs": [
    {
     "data": {
      "text/plain": [
       "array([['1'],\n",
       "       ['0'],\n",
       "       ['0'],\n",
       "       ['1'],\n",
       "       ['0'],\n",
       "       ['0'],\n",
       "       ['1'],\n",
       "       ['1'],\n",
       "       ['1'],\n",
       "       ['0'],\n",
       "       ['1'],\n",
       "       ['1'],\n",
       "       ['1'],\n",
       "       ['1'],\n",
       "       ['0'],\n",
       "       ['0'],\n",
       "       ['1'],\n",
       "       ['1'],\n",
       "       ['0'],\n",
       "       ['1'],\n",
       "       ['1'],\n",
       "       ['1'],\n",
       "       ['1'],\n",
       "       ['1'],\n",
       "       ['1'],\n",
       "       ['1'],\n",
       "       ['1'],\n",
       "       ['0'],\n",
       "       ['1'],\n",
       "       ['1'],\n",
       "       ['0'],\n",
       "       ['1'],\n",
       "       ['1'],\n",
       "       ['1'],\n",
       "       ['1'],\n",
       "       ['1'],\n",
       "       ['0'],\n",
       "       ['1'],\n",
       "       ['1'],\n",
       "       ['1'],\n",
       "       ['0'],\n",
       "       ['0'],\n",
       "       ['1'],\n",
       "       ['1'],\n",
       "       ['1'],\n",
       "       ['1'],\n",
       "       ['0'],\n",
       "       ['0'],\n",
       "       ['0'],\n",
       "       ['1'],\n",
       "       ['1'],\n",
       "       ['0'],\n",
       "       ['1'],\n",
       "       ['1'],\n",
       "       ['0'],\n",
       "       ['0'],\n",
       "       ['1'],\n",
       "       ['1'],\n",
       "       ['1'],\n",
       "       ['1'],\n",
       "       ['0'],\n",
       "       ['1'],\n",
       "       ['1'],\n",
       "       ['1'],\n",
       "       ['0'],\n",
       "       ['1'],\n",
       "       ['1'],\n",
       "       ['0'],\n",
       "       ['1'],\n",
       "       ['1'],\n",
       "       ['1'],\n",
       "       ['1'],\n",
       "       ['1'],\n",
       "       ['1'],\n",
       "       ['1'],\n",
       "       ['1'],\n",
       "       ['1'],\n",
       "       ['1'],\n",
       "       ['1'],\n",
       "       ['0'],\n",
       "       ['1'],\n",
       "       ['0'],\n",
       "       ['1'],\n",
       "       ['1'],\n",
       "       ['1'],\n",
       "       ['1'],\n",
       "       ['1'],\n",
       "       ['1'],\n",
       "       ['1'],\n",
       "       ['1'],\n",
       "       ['1'],\n",
       "       ['1'],\n",
       "       ['1'],\n",
       "       ['1'],\n",
       "       ['1'],\n",
       "       ['1'],\n",
       "       ['0'],\n",
       "       ['1'],\n",
       "       ['1'],\n",
       "       ['1'],\n",
       "       ['1'],\n",
       "       ['1'],\n",
       "       ['0'],\n",
       "       ['1'],\n",
       "       ['1'],\n",
       "       ['1'],\n",
       "       ['1'],\n",
       "       ['0'],\n",
       "       ['1'],\n",
       "       ['1'],\n",
       "       ['1'],\n",
       "       ['1'],\n",
       "       ['1'],\n",
       "       ['1'],\n",
       "       ['1'],\n",
       "       ['1'],\n",
       "       ['1'],\n",
       "       ['1'],\n",
       "       ['0'],\n",
       "       ['1'],\n",
       "       ['1'],\n",
       "       ['1'],\n",
       "       ['1'],\n",
       "       ['1'],\n",
       "       ['1'],\n",
       "       ['1'],\n",
       "       ['1'],\n",
       "       ['0'],\n",
       "       ['0'],\n",
       "       ['1'],\n",
       "       ['1'],\n",
       "       ['0'],\n",
       "       ['1'],\n",
       "       ['1'],\n",
       "       ['0'],\n",
       "       ['0'],\n",
       "       ['1'],\n",
       "       ['1'],\n",
       "       ['1'],\n",
       "       ['1'],\n",
       "       ['0'],\n",
       "       ['1'],\n",
       "       ['1'],\n",
       "       ['1'],\n",
       "       ['1'],\n",
       "       ['1'],\n",
       "       ['0'],\n",
       "       ['0'],\n",
       "       ['0'],\n",
       "       ['1'],\n",
       "       ['1'],\n",
       "       ['0'],\n",
       "       ['1'],\n",
       "       ['0'],\n",
       "       ['0'],\n",
       "       ['1'],\n",
       "       ['1'],\n",
       "       ['1'],\n",
       "       ['1'],\n",
       "       ['1'],\n",
       "       ['1'],\n",
       "       ['1'],\n",
       "       ['0'],\n",
       "       ['1'],\n",
       "       ['1'],\n",
       "       ['1'],\n",
       "       ['1'],\n",
       "       ['1'],\n",
       "       ['1'],\n",
       "       ['1'],\n",
       "       ['1'],\n",
       "       ['1'],\n",
       "       ['1'],\n",
       "       ['1'],\n",
       "       ['1'],\n",
       "       ['1'],\n",
       "       ['1'],\n",
       "       ['1'],\n",
       "       ['0'],\n",
       "       ['1'],\n",
       "       ['1'],\n",
       "       ['1'],\n",
       "       ['1'],\n",
       "       ['0'],\n",
       "       ['1'],\n",
       "       ['1'],\n",
       "       ['1'],\n",
       "       ['1'],\n",
       "       ['1'],\n",
       "       ['1'],\n",
       "       ['1'],\n",
       "       ['1'],\n",
       "       ['1'],\n",
       "       ['1'],\n",
       "       ['0'],\n",
       "       ['0'],\n",
       "       ['0'],\n",
       "       ['0'],\n",
       "       ['1'],\n",
       "       ['1'],\n",
       "       ['1'],\n",
       "       ['0'],\n",
       "       ['1'],\n",
       "       ['1'],\n",
       "       ['1'],\n",
       "       ['1'],\n",
       "       ['1'],\n",
       "       ['1'],\n",
       "       ['1'],\n",
       "       ['1'],\n",
       "       ['1'],\n",
       "       ['0'],\n",
       "       ['1'],\n",
       "       ['0'],\n",
       "       ['1'],\n",
       "       ['1'],\n",
       "       ['1'],\n",
       "       ['0'],\n",
       "       ['0'],\n",
       "       ['1'],\n",
       "       ['1'],\n",
       "       ['1'],\n",
       "       ['0'],\n",
       "       ['0'],\n",
       "       ['1'],\n",
       "       ['1'],\n",
       "       ['1'],\n",
       "       ['1'],\n",
       "       ['1'],\n",
       "       ['0'],\n",
       "       ['0'],\n",
       "       ['0'],\n",
       "       ['0'],\n",
       "       ['0'],\n",
       "       ['1'],\n",
       "       ['0'],\n",
       "       ['1'],\n",
       "       ['0'],\n",
       "       ['1'],\n",
       "       ['1'],\n",
       "       ['1'],\n",
       "       ['0'],\n",
       "       ['0'],\n",
       "       ['1'],\n",
       "       ['1'],\n",
       "       ['1'],\n",
       "       ['1'],\n",
       "       ['1'],\n",
       "       ['1'],\n",
       "       ['1'],\n",
       "       ['1'],\n",
       "       ['1'],\n",
       "       ['0'],\n",
       "       ['1'],\n",
       "       ['1'],\n",
       "       ['1'],\n",
       "       ['1'],\n",
       "       ['1'],\n",
       "       ['1'],\n",
       "       ['1'],\n",
       "       ['1'],\n",
       "       ['1'],\n",
       "       ['1'],\n",
       "       ['0'],\n",
       "       ['1'],\n",
       "       ['1'],\n",
       "       ['1'],\n",
       "       ['1'],\n",
       "       ['0'],\n",
       "       ['0'],\n",
       "       ['1'],\n",
       "       ['1'],\n",
       "       ['1'],\n",
       "       ['1'],\n",
       "       ['1'],\n",
       "       ['1'],\n",
       "       ['1'],\n",
       "       ['1'],\n",
       "       ['0'],\n",
       "       ['0'],\n",
       "       ['1'],\n",
       "       ['1'],\n",
       "       ['0'],\n",
       "       ['1'],\n",
       "       ['0'],\n",
       "       ['0'],\n",
       "       ['0'],\n",
       "       ['1'],\n",
       "       ['1'],\n",
       "       ['1'],\n",
       "       ['0'],\n",
       "       ['1'],\n",
       "       ['0'],\n",
       "       ['0'],\n",
       "       ['1'],\n",
       "       ['1'],\n",
       "       ['1'],\n",
       "       ['1'],\n",
       "       ['0'],\n",
       "       ['1'],\n",
       "       ['1'],\n",
       "       ['0'],\n",
       "       ['0'],\n",
       "       ['1'],\n",
       "       ['1'],\n",
       "       ['0'],\n",
       "       ['0'],\n",
       "       ['1'],\n",
       "       ['1'],\n",
       "       ['0'],\n",
       "       ['1'],\n",
       "       ['1'],\n",
       "       ['0'],\n",
       "       ['1'],\n",
       "       ['1'],\n",
       "       ['1'],\n",
       "       ['1'],\n",
       "       ['1'],\n",
       "       ['1'],\n",
       "       ['1'],\n",
       "       ['1'],\n",
       "       ['1'],\n",
       "       ['1'],\n",
       "       ['1'],\n",
       "       ['1'],\n",
       "       ['1'],\n",
       "       ['1'],\n",
       "       ['1'],\n",
       "       ['1'],\n",
       "       ['1'],\n",
       "       ['1'],\n",
       "       ['0'],\n",
       "       ['0'],\n",
       "       ['1'],\n",
       "       ['1'],\n",
       "       ['1'],\n",
       "       ['1'],\n",
       "       ['1'],\n",
       "       ['1'],\n",
       "       ['1'],\n",
       "       ['1'],\n",
       "       ['1'],\n",
       "       ['1'],\n",
       "       ['1'],\n",
       "       ['1'],\n",
       "       ['1'],\n",
       "       ['1'],\n",
       "       ['0'],\n",
       "       ['1'],\n",
       "       ['1'],\n",
       "       ['0'],\n",
       "       ['1'],\n",
       "       ['1'],\n",
       "       ['1'],\n",
       "       ['1'],\n",
       "       ['0'],\n",
       "       ['1'],\n",
       "       ['1'],\n",
       "       ['1'],\n",
       "       ['1'],\n",
       "       ['1'],\n",
       "       ['0'],\n",
       "       ['0'],\n",
       "       ['1'],\n",
       "       ['1'],\n",
       "       ['1'],\n",
       "       ['0'],\n",
       "       ['1'],\n",
       "       ['1'],\n",
       "       ['1'],\n",
       "       ['1'],\n",
       "       ['1'],\n",
       "       ['1'],\n",
       "       ['1'],\n",
       "       ['1'],\n",
       "       ['1'],\n",
       "       ['0'],\n",
       "       ['0'],\n",
       "       ['1'],\n",
       "       ['0'],\n",
       "       ['1'],\n",
       "       ['0'],\n",
       "       ['1'],\n",
       "       ['1'],\n",
       "       ['0'],\n",
       "       ['1'],\n",
       "       ['0'],\n",
       "       ['1'],\n",
       "       ['1'],\n",
       "       ['1'],\n",
       "       ['1'],\n",
       "       ['1'],\n",
       "       ['1'],\n",
       "       ['1'],\n",
       "       ['1'],\n",
       "       ['0'],\n",
       "       ['1'],\n",
       "       ['1'],\n",
       "       ['1'],\n",
       "       ['1'],\n",
       "       ['1'],\n",
       "       ['0'],\n",
       "       ['1'],\n",
       "       ['1'],\n",
       "       ['1'],\n",
       "       ['1'],\n",
       "       ['0'],\n",
       "       ['1'],\n",
       "       ['1'],\n",
       "       ['1'],\n",
       "       ['1'],\n",
       "       ['1'],\n",
       "       ['1'],\n",
       "       ['0'],\n",
       "       ['1'],\n",
       "       ['1'],\n",
       "       ['1'],\n",
       "       ['0'],\n",
       "       ['1'],\n",
       "       ['1'],\n",
       "       ['1'],\n",
       "       ['1'],\n",
       "       ['1'],\n",
       "       ['1'],\n",
       "       ['1'],\n",
       "       ['1'],\n",
       "       ['1'],\n",
       "       ['0'],\n",
       "       ['1'],\n",
       "       ['0'],\n",
       "       ['1'],\n",
       "       ['1'],\n",
       "       ['0'],\n",
       "       ['1'],\n",
       "       ['0'],\n",
       "       ['0'],\n",
       "       ['1'],\n",
       "       ['0'],\n",
       "       ['1'],\n",
       "       ['0'],\n",
       "       ['1'],\n",
       "       ['1'],\n",
       "       ['0'],\n",
       "       ['1'],\n",
       "       ['1'],\n",
       "       ['1'],\n",
       "       ['1'],\n",
       "       ['1'],\n",
       "       ['0'],\n",
       "       ['0'],\n",
       "       ['1'],\n",
       "       ['1'],\n",
       "       ['0'],\n",
       "       ['1'],\n",
       "       ['0'],\n",
       "       ['1'],\n",
       "       ['1'],\n",
       "       ['1'],\n",
       "       ['1'],\n",
       "       ['1'],\n",
       "       ['1'],\n",
       "       ['0'],\n",
       "       ['1']], dtype='<U21')"
      ]
     },
     "execution_count": 77,
     "metadata": {},
     "output_type": "execute_result"
    }
   ],
   "source": [
    "y"
   ]
  },
  {
   "cell_type": "code",
   "execution_count": 67,
   "metadata": {},
   "outputs": [
    {
     "ename": "TypeError",
     "evalue": "unhashable type: 'list'",
     "output_type": "error",
     "traceback": [
      "\u001b[0;31m---------------------------------------------------------------------------\u001b[0m",
      "\u001b[0;31mTypeError\u001b[0m                                 Traceback (most recent call last)",
      "\u001b[0;32m<ipython-input-67-ecfb9e6ab0bb>\u001b[0m in \u001b[0;36m<module>\u001b[0;34m\u001b[0m\n\u001b[1;32m      1\u001b[0m \u001b[0my\u001b[0m \u001b[0;34m=\u001b[0m \u001b[0mcorr_label\u001b[0m\u001b[0;34m[\u001b[0m\u001b[0;34m:\u001b[0m\u001b[0;36m1000\u001b[0m\u001b[0;34m]\u001b[0m\u001b[0;34m.\u001b[0m\u001b[0mvalues\u001b[0m\u001b[0;34m.\u001b[0m\u001b[0mtolist\u001b[0m\u001b[0;34m(\u001b[0m\u001b[0;34m)\u001b[0m\u001b[0;34m\u001b[0m\u001b[0m\n\u001b[1;32m      2\u001b[0m \u001b[0mclasses\u001b[0m \u001b[0;34m=\u001b[0m \u001b[0mnp\u001b[0m\u001b[0;34m.\u001b[0m\u001b[0munique\u001b[0m\u001b[0;34m(\u001b[0m\u001b[0my\u001b[0m\u001b[0;34m)\u001b[0m\u001b[0;34m\u001b[0m\u001b[0m\n\u001b[0;32m----> 3\u001b[0;31m \u001b[0mclass_weight\u001b[0m\u001b[0;34m.\u001b[0m\u001b[0mcompute_class_weight\u001b[0m\u001b[0;34m(\u001b[0m\u001b[0;34m'balanced'\u001b[0m\u001b[0;34m,\u001b[0m\u001b[0mclasses\u001b[0m\u001b[0;34m,\u001b[0m\u001b[0my\u001b[0m\u001b[0;34m)\u001b[0m\u001b[0;34m\u001b[0m\u001b[0m\n\u001b[0m",
      "\u001b[0;32m/Library/Frameworks/Python.framework/Versions/3.6/lib/python3.6/site-packages/sklearn/utils/class_weight.py\u001b[0m in \u001b[0;36mcompute_class_weight\u001b[0;34m(class_weight, classes, y)\u001b[0m\n\u001b[1;32m     38\u001b[0m     \u001b[0;32mfrom\u001b[0m \u001b[0;34m.\u001b[0m\u001b[0;34m.\u001b[0m\u001b[0mpreprocessing\u001b[0m \u001b[0;32mimport\u001b[0m \u001b[0mLabelEncoder\u001b[0m\u001b[0;34m\u001b[0m\u001b[0m\n\u001b[1;32m     39\u001b[0m \u001b[0;34m\u001b[0m\u001b[0m\n\u001b[0;32m---> 40\u001b[0;31m     \u001b[0;32mif\u001b[0m \u001b[0mset\u001b[0m\u001b[0;34m(\u001b[0m\u001b[0my\u001b[0m\u001b[0;34m)\u001b[0m \u001b[0;34m-\u001b[0m \u001b[0mset\u001b[0m\u001b[0;34m(\u001b[0m\u001b[0mclasses\u001b[0m\u001b[0;34m)\u001b[0m\u001b[0;34m:\u001b[0m\u001b[0;34m\u001b[0m\u001b[0m\n\u001b[0m\u001b[1;32m     41\u001b[0m         raise ValueError(\"classes should include all valid labels that can \"\n\u001b[1;32m     42\u001b[0m                          \"be in y\")\n",
      "\u001b[0;31mTypeError\u001b[0m: unhashable type: 'list'"
     ]
    }
   ],
   "source": [
    "y = corr_label[:1000].values.tolist()\n",
    "classes = np.unique(y)\n",
    "class_weight.compute_class_weight('balanced',classes,y)"
   ]
  },
  {
   "cell_type": "code",
   "execution_count": 88,
   "metadata": {},
   "outputs": [],
   "source": [
    "corr_label.usa_cuisine = corr_label.usa_cuisine.apply(int)"
   ]
  },
  {
   "cell_type": "code",
   "execution_count": 90,
   "metadata": {
    "scrolled": true
   },
   "outputs": [
    {
     "name": "stderr",
     "output_type": "stream",
     "text": [
      "/Library/Frameworks/Python.framework/Versions/3.6/lib/python3.6/site-packages/sklearn/utils/validation.py:724: DataConversionWarning:\n",
      "\n",
      "A column-vector y was passed when a 1d array was expected. Please change the shape of y to (n_samples, ), for example using ravel().\n",
      "\n"
     ]
    },
    {
     "data": {
      "text/plain": [
       "SVC(C=1.0, cache_size=200, class_weight={0: 3}, coef0=0.0,\n",
       "    decision_function_shape='ovr', degree=3, gamma=0.1, kernel='rbf',\n",
       "    max_iter=-1, probability=True, random_state=None, shrinking=True, tol=0.001,\n",
       "    verbose=False)"
      ]
     },
     "execution_count": 90,
     "metadata": {},
     "output_type": "execute_result"
    }
   ],
   "source": [
    "w_svc = svm.SVC(gamma=0.1,class_weight={0:3},probability=True)\n",
    "w_svc.fit(corr_data.iloc[:1000], corr_label[:1000])#,sample_weight=cal_w) "
   ]
  },
  {
   "cell_type": "code",
   "execution_count": 97,
   "metadata": {},
   "outputs": [
    {
     "data": {
      "text/plain": [
       "array([1, 0])"
      ]
     },
     "execution_count": 97,
     "metadata": {},
     "output_type": "execute_result"
    }
   ],
   "source": [
    "w_svc.predict(corr_data.iloc[0:2])"
   ]
  },
  {
   "cell_type": "code",
   "execution_count": 98,
   "metadata": {},
   "outputs": [
    {
     "data": {
      "text/plain": [
       "array([0, 1])"
      ]
     },
     "execution_count": 98,
     "metadata": {},
     "output_type": "execute_result"
    }
   ],
   "source": [
    "w_svc.classes_"
   ]
  },
  {
   "cell_type": "code",
   "execution_count": 99,
   "metadata": {},
   "outputs": [
    {
     "data": {
      "text/plain": [
       "array([3., 1.])"
      ]
     },
     "execution_count": 99,
     "metadata": {},
     "output_type": "execute_result"
    }
   ],
   "source": [
    "weights = w_svc.class_weight_\n",
    "weights"
   ]
  },
  {
   "cell_type": "code",
   "execution_count": 100,
   "metadata": {},
   "outputs": [
    {
     "data": {
      "text/plain": [
       "(1, 7299)"
      ]
     },
     "execution_count": 100,
     "metadata": {},
     "output_type": "execute_result"
    }
   ],
   "source": [
    "feature_weight = result.getfeaturesweight(svc)\n",
    "# feature_weight = [x for x in feature_weight if x > 0.0]\n",
    "# np.where(feature_weight > 0)\n",
    "feature_weight.shape"
   ]
  },
  {
   "cell_type": "code",
   "execution_count": null,
   "metadata": {},
   "outputs": [],
   "source": [
    "predict_result = w_svc.predict(test_data)"
   ]
  },
  {
   "cell_type": "code",
   "execution_count": null,
   "metadata": {},
   "outputs": [],
   "source": []
  },
  {
   "cell_type": "code",
   "execution_count": null,
   "metadata": {},
   "outputs": [],
   "source": []
  },
  {
   "cell_type": "markdown",
   "metadata": {},
   "source": [
    "## Not Used Code"
   ]
  },
  {
   "cell_type": "code",
   "execution_count": 39,
   "metadata": {},
   "outputs": [],
   "source": [
    "# uncomment below lines to replace column with number greater than 0 to 1 to make it binary.\n",
    "# columns = ['avg_rating','best_rating','worst_rating','prepare_again_rating','num_reviews','total_time', 'tags', 'title']\n",
    "# df = sample_df.copy()\n",
    "# for col in sample_df.columns:\n",
    "#     if col not in columns:\n",
    "#         df.loc[df[col] > 0, col] = 1\n",
    "# df.head(25)"
   ]
  },
  {
   "cell_type": "code",
   "execution_count": 40,
   "metadata": {},
   "outputs": [],
   "source": [
    "# len(sample_df[[\"Breakfast\" in x for x in sample_df.tags]])"
   ]
  },
  {
   "cell_type": "code",
   "execution_count": 41,
   "metadata": {},
   "outputs": [],
   "source": [
    "# Uncomment below if need to encode data into unique value \n",
    "\n",
    "\n",
    "# from sklearn import preprocessing\n",
    "# # label encoder\n",
    "# le = preprocessing.LabelEncoder()\n",
    "\n",
    "# # Converting string labels into numbers\n",
    "# label = le.fit_transform(Y) # 0 ==> False, 1 ==> True\n",
    "# label\n",
    "\n",
    "# Uncomment below if need to convert X data into encoder and turn it into tuple list\n",
    "#data.apply(le.fit_transform)\n",
    "#data = [tuple(r) for r in data.values.tolist()]"
   ]
  },
  {
   "cell_type": "code",
   "execution_count": 42,
   "metadata": {},
   "outputs": [],
   "source": [
    "# uncomment below if need to look for inf value in data \n",
    "# for col in X.columns:\n",
    "#     print(X.loc[X[col] > 100000, col])"
   ]
  },
  {
   "cell_type": "markdown",
   "metadata": {},
   "source": [
    "### Example from Sklearn Website\n",
    "\n",
    "https://scikit-learn.org/stable/auto_examples/svm/plot_weighted_samples.html"
   ]
  },
  {
   "cell_type": "code",
   "execution_count": 48,
   "metadata": {},
   "outputs": [
    {
     "name": "stdout",
     "output_type": "stream",
     "text": [
      "Automatically created module for IPython interactive environment\n",
      "[1.04855297 1.42001794 1.70627019 1.9507754  0.50965218 0.4380743\n",
      " 1.25279536 0.77749036 1.61389785 3.1911042  0.89546656 0.3869025\n",
      " 0.51080514 1.18063218 0.02818223 2.14165935 0.33258611 1.51235949\n",
      " 3.17161047 1.81370583]\n"
     ]
    },
    {
     "data": {
      "image/png": "[encoded data removed]",
      "text/plain": [
       "<Figure size 1008x432 with 2 Axes>"
      ]
     },
     "metadata": {
      "needs_background": "light"
     },
     "output_type": "display_data"
    }
   ],
   "source": [
    "print(__doc__)\n",
    "\n",
    "def plot_decision_function(classifier, sample_weight, axis, title):\n",
    "    # plot the decision function\n",
    "    xx, yy = np.meshgrid(np.linspace(-4, 5, 500), np.linspace(-4, 5, 500))\n",
    "\n",
    "    Z = classifier.decision_function(np.c_[xx.ravel(), yy.ravel()])\n",
    "    Z = Z.reshape(xx.shape)\n",
    "\n",
    "    # plot the line, the points, and the nearest vectors to the plane\n",
    "    axis.contourf(xx, yy, Z, alpha=0.75, cmap=plt.cm.bone)\n",
    "    axis.scatter(X[:, 0], X[:, 1], c=y, s=100 * sample_weight, alpha=0.9,\n",
    "                 cmap=plt.cm.bone, edgecolors='black')\n",
    "\n",
    "    axis.axis('off')\n",
    "    axis.set_title(title)\n",
    "\n",
    "\n",
    "# we create 20 points\n",
    "np.random.seed(0)\n",
    "X = np.r_[np.random.randn(10, 2) + [1, 1], np.random.randn(10, 2)]\n",
    "y = [1] * 10 + [-1] * 10\n",
    "sample_weight_last_ten = abs(np.random.randn(len(X)))\n",
    "sample_weight_constant = np.ones(len(X))\n",
    "# and bigger weights to some outliers\n",
    "sample_weight_last_ten[15:] *= 5\n",
    "sample_weight_last_ten[9] *= 15\n",
    "\n",
    "# for reference, first fit without sample weights\n",
    "print(sample_weight_last_ten)\n",
    "# fit the model\n",
    "clf_weights = svm.SVC(gamma=1)\n",
    "clf_weights.fit(X, y, sample_weight=sample_weight_last_ten)\n",
    "\n",
    "clf_no_weights = svm.SVC(gamma=1)\n",
    "clf_no_weights.fit(X, y)\n",
    "\n",
    "fig, axes = plt.subplots(1, 2, figsize=(14, 6))\n",
    "plot_decision_function(clf_no_weights, sample_weight_constant, axes[0],\n",
    "                       \"Constant weights\")\n",
    "plot_decision_function(clf_weights, sample_weight_last_ten, axes[1],\n",
    "                       \"Modified weights\")\n",
    "\n",
    "plt.show()"
   ]
  },
  {
   "cell_type": "code",
   "execution_count": 44,
   "metadata": {},
   "outputs": [],
   "source": [
    "# a = -class_weight[0] / class_weight[1]\n",
    "\n",
    "# xx = np.linspace(0,50)\n",
    "# yy = a * xx - feature_weight[0].max() / class_weight[1]\n",
    "# print(xx.min(),yy.max())\n",
    "# h0 = plt.plot(xx, yy, 'k-', label=\"non weighted div\")\n",
    "\n",
    "# plt.scatter(x, y,c=y)\n",
    "# plt.ylim(yy.min(),50)\n",
    "# plt.xlim(xx.min(),50)\n",
    "# plt.legend()\n",
    "# plt.show()"
   ]
  },
  {
   "cell_type": "code",
   "execution_count": 45,
   "metadata": {},
   "outputs": [],
   "source": [
    "\n",
    "# import numpy as np\n",
    "# import matplotlib.pyplot as plt\n",
    "# from sklearn import svm, datasets\n",
    "\n",
    "# # import some data to play with\n",
    "# iris = datasets.load_iris()\n",
    "# X = data.iloc[:1000, :100]  # we only take the first two features. We could\n",
    "#                       # avoid this ugly slicing by using a two-dim dataset\n",
    "# y = label.iloc[:1000]\n",
    "\n",
    "# h = .02  # step size in the mesh\n",
    "\n",
    "# # we create an instance of SVM and fit out data. We do not scale our\n",
    "# # data since we want to plot the support vectors\n",
    "# C = 1.0  # SVM regularization parameter\n",
    "# svc = svm.SVC(kernel='linear', C=C).fit(X, y)\n",
    "# rbf_svc = svm.SVC(kernel='rbf', gamma=0.7, C=C).fit(X, y)\n",
    "# poly_svc = svm.SVC(kernel='poly', degree=3, C=C).fit(X, y)\n",
    "# lin_svc = svm.LinearSVC(C=C).fit(X, y)\n",
    "\n",
    "# # create a mesh to plot in\n",
    "# x_min, x_max = X.iloc[:, 0].min() - 1, X.iloc[:, 0].max() + 1\n",
    "# y_min, y_max = X.iloc[:, 100].min() - 1, X.iloc[:, 100].max() + 1\n",
    "# xx, yy = np.meshgrid(np.arange(x_min, x_max, h),\n",
    "#                      np.arange(y_min, y_max, h))\n",
    "\n",
    "# # title for the plots\n",
    "# titles = ['SVC with linear kernel',\n",
    "#           'LinearSVC (linear kernel)',\n",
    "#           'SVC with RBF kernel',\n",
    "#           'SVC with polynomial (degree 3) kernel']\n",
    "\n",
    "\n",
    "# for i, clf in enumerate((svc, lin_svc, rbf_svc, poly_svc)):\n",
    "#     # Plot the decision boundary. For that, we will assign a color to each\n",
    "#     # point in the mesh [x_min, x_max]x[y_min, y_max].\n",
    "#     plt.subplot(2, 2, i + 1)\n",
    "#     plt.subplots_adjust(wspace=0.4, hspace=0.4)\n",
    "\n",
    "#     Z = clf.predict(np.c_[xx.ravel(), yy.ravel()])\n",
    "\n",
    "#     # Put the result into a color plot\n",
    "#     Z = Z.reshape(xx.shape)\n",
    "#     plt.contourf(xx, yy, Z, cmap=plt.cm.coolwarm, alpha=0.8)\n",
    "\n",
    "#     # Plot also the training points\n",
    "#     plt.scatter(X.iloc[:, 0], X.iloc[:, 1], c=y, cmap=plt.cm.coolwarm)\n",
    "#     plt.xlabel('Sepal length')\n",
    "#     plt.ylabel('Sepal width')\n",
    "#     plt.xlim(xx.min(), xx.max())\n",
    "#     plt.ylim(yy.min(), yy.max())\n",
    "#     plt.xticks(())\n",
    "#     plt.yticks(())\n",
    "#     plt.title(titles[i])\n",
    "\n",
    "# plt.show()"
   ]
  },
  {
   "cell_type": "code",
   "execution_count": 46,
   "metadata": {},
   "outputs": [],
   "source": [
    "# plot_decision_function(clf,clf.class_weight_,axes[0],'SVC without weights')"
   ]
  },
  {
   "cell_type": "code",
   "execution_count": 47,
   "metadata": {},
   "outputs": [
    {
     "data": {
      "image/png": "[encoded data removed]",
      "text/plain": [
       "<Figure size 432x288 with 1 Axes>"
      ]
     },
     "metadata": {
      "needs_background": "light"
     },
     "output_type": "display_data"
    }
   ],
   "source": [
    "from sklearn.datasets.samples_generator import make_blobs \n",
    "\n",
    "x,y = make_blobs(n_samples=100,centers=3,n_features=3)\n",
    "plt.scatter(x[:, 0], x[:, 1], c=y, s=50, cmap='spring'); \n",
    "plt.show()  "
   ]
  }
 ],
 "metadata": {
  "kernelspec": {
   "display_name": "Python 3",
   "language": "python",
   "name": "python3"
  },
  "language_info": {
   "codemirror_mode": {
    "name": "ipython",
    "version": 3
   },
   "file_extension": ".py",
   "mimetype": "text/x-python",
   "name": "python",
   "nbconvert_exporter": "python",
   "pygments_lexer": "ipython3",
   "version": "3.6.6rc1"
  }
 },
 "nbformat": 4,
 "nbformat_minor": 2
}
