{
 "cells": [
  {
   "cell_type": "code",
   "execution_count": 86,
   "metadata": {},
   "outputs": [],
   "source": [
    "import numpy as np\n",
    "import pandas as pd\n",
    "import matplotlib.pyplot as plt\n",
    "from collections import Counter\n",
    "from sklearn import svm\n",
    "from sklearn.naive_bayes import GaussianNB\n",
    "import plotly.express as px\n",
    "import cufflinks as cf\n",
    "from  plotly.offline import plot\n",
    "\n",
    "from sklearn.utils import class_weight\n",
    "from sklearn.model_selection import train_test_split\n",
    "import seaborn as sns\n",
    "from sklearn.metrics import classification_report\n",
    "import collections\n",
    "from sklearn.metrics import classification_report\n"
   ]
  },
  {
   "cell_type": "code",
   "execution_count": 87,
   "metadata": {},
   "outputs": [],
   "source": [
    "# importing class object that I created\n",
    "import sys  \n",
    "sys.path.insert(0, '../src/')\n",
    "import utils"
   ]
  },
  {
   "cell_type": "code",
   "execution_count": 88,
   "metadata": {},
   "outputs": [],
   "source": [
    "epi_data_df = pd.read_hdf('../data/processed/recipe_vectors.h5')"
   ]
  },
  {
   "cell_type": "code",
   "execution_count": 89,
   "metadata": {},
   "outputs": [
    {
     "data": {
      "text/plain": [
       "(48817, 4756)"
      ]
     },
     "execution_count": 89,
     "metadata": {},
     "output_type": "execute_result"
    }
   ],
   "source": [
    "epi_data_df.shape"
   ]
  },
  {
   "cell_type": "code",
   "execution_count": 90,
   "metadata": {},
   "outputs": [],
   "source": [
    "epi_vector = pd.read_hdf('../data/processed/epi_vector.h5')"
   ]
  },
  {
   "cell_type": "code",
   "execution_count": 91,
   "metadata": {},
   "outputs": [],
   "source": [
    "# tools = utils.tools() # create object"
   ]
  },
  {
   "cell_type": "code",
   "execution_count": 92,
   "metadata": {},
   "outputs": [],
   "source": [
    "# epi_data_df = tools.readfile('../data/processed/epi_vector.h5')\n",
    "# epi_data_df = tools.df"
   ]
  },
  {
   "cell_type": "code",
   "execution_count": 93,
   "metadata": {},
   "outputs": [],
   "source": [
    "# new_data_df = tools.readfile('../data/processed/recipe_vectors.pickle')"
   ]
  },
  {
   "cell_type": "code",
   "execution_count": 94,
   "metadata": {},
   "outputs": [],
   "source": [
    "# newdata_h5_df = tools.readfile('../data/processed/recipe_vectors.h5')"
   ]
  },
  {
   "cell_type": "code",
   "execution_count": 95,
   "metadata": {},
   "outputs": [],
   "source": [
    "# newdata_h5_df = tools.df"
   ]
  },
  {
   "cell_type": "code",
   "execution_count": 96,
   "metadata": {},
   "outputs": [],
   "source": [
    "# newdata_h5_df.shape"
   ]
  },
  {
   "cell_type": "code",
   "execution_count": 97,
   "metadata": {},
   "outputs": [],
   "source": [
    "# new_data_df = tools.df"
   ]
  },
  {
   "cell_type": "code",
   "execution_count": 98,
   "metadata": {},
   "outputs": [],
   "source": [
    "# new_data_df.tail(1)"
   ]
  },
  {
   "cell_type": "code",
   "execution_count": 99,
   "metadata": {},
   "outputs": [
    {
     "data": {
      "text/plain": [
       "(48817, 4756)"
      ]
     },
     "execution_count": 99,
     "metadata": {},
     "output_type": "execute_result"
    }
   ],
   "source": [
    "epi_data_df.shape"
   ]
  },
  {
   "cell_type": "markdown",
   "metadata": {},
   "source": [
    "## Helper functions"
   ]
  },
  {
   "cell_type": "code",
   "execution_count": 100,
   "metadata": {},
   "outputs": [
    {
     "data": {
      "text/plain": [
       "(48817, 4756)"
      ]
     },
     "execution_count": 100,
     "metadata": {},
     "output_type": "execute_result"
    }
   ],
   "source": [
    "epi_data_df.shape\n"
   ]
  },
  {
   "cell_type": "code",
   "execution_count": 101,
   "metadata": {},
   "outputs": [],
   "source": [
    "def countTags(sample_df):\n",
    "    # Get count of tags\n",
    "\n",
    "    c = Counter()  \n",
    "    sample_df[\"tags\"].apply(lambda x: c.update(x))\n",
    "    # store tag count in df\n",
    "    count = pd.DataFrame()\n",
    "    count['tags_count'] = [c[i] for i in c]\n",
    "    count['tag'] = [i for i in c]\n",
    "    count = count.sort_values(by='tags_count',ascending=False)\n",
    "\n",
    "    # delete row with value < n\n",
    "    indexNames = count[ count['tags_count'] <= 30 ].index\n",
    "\n",
    "    # Delete these row indexes from dataFrame\n",
    "    count.drop(indexNames , inplace=True)\n",
    "    return count\n"
   ]
  },
  {
   "cell_type": "code",
   "execution_count": 102,
   "metadata": {},
   "outputs": [],
   "source": [
    "def getallergyTags(count):\n",
    "    # look for ### Free tags\n",
    "    count['allergy_tags'] = count['tag'].str.endswith('Free')\n",
    "\n",
    "    allergy_df = count[count['allergy_tags'] == True]\n",
    "    return allergy_df"
   ]
  },
  {
   "cell_type": "code",
   "execution_count": 103,
   "metadata": {},
   "outputs": [],
   "source": [
    "# Create column in sample_df for allergy tags\n",
    "def addallergytoDF(allergy_df,df):\n",
    "    for i in allergy_df.tag:\n",
    "        df[i] = [i in tags for tags in df.tags]\n",
    "    return df"
   ]
  },
  {
   "cell_type": "code",
   "execution_count": null,
   "metadata": {},
   "outputs": [],
   "source": []
  },
  {
   "cell_type": "code",
   "execution_count": 104,
   "metadata": {},
   "outputs": [],
   "source": [
    "# I manually took out tags that are not recipe ingredients. And clean input. \n",
    "# Uncomment below if  cuisine type is needed\n",
    "def loadCuisineType():\n",
    "    cuisinetype = pd.read_csv('cuisinetype.txt',header=None)\n",
    "    cuisinetype = cuisinetype.transpose()\n",
    "    cuisinetype = np.array(cuisinetype[0])\n",
    "    cuisinetype = [x.replace('\\'','') for x in cuisinetype]\n",
    "    cuisinetype = [x.replace('[','') for x in cuisinetype]\n",
    "    cuisinetype = [x.replace(']','') for x in cuisinetype]\n",
    "    cuisinetype = [x.lstrip() for x in cuisinetype]\n",
    "    # print(cuisinetype)\n",
    "    \n",
    "    # Uncomment below if states are needed\n",
    "\n",
    "    states = pd.read_csv('states.csv',header=None)\n",
    "    states = states.transpose()\n",
    "    states = np.array(states[0])\n",
    "    states = [x.lstrip() for x in states]\n",
    "    # print(states)\n",
    "    \n",
    "    # Uncomment below if usa_cuisine is needed\n",
    "\n",
    "    city = pd.read_csv('usa_city.csv',header=None)\n",
    "    city = city.transpose()\n",
    "    city = np.array(city[0])\n",
    "    city = [x.replace('\\'','') for x in city]\n",
    "    city = [x.replace('[','') for x in city]\n",
    "    city = [x.replace(']','') for x in city]\n",
    "    city = [x.lstrip() for x in city]\n",
    "    usa_cuisine =states+city\n",
    "    # print(usa_cuisine)\n",
    "    \n",
    "    non_usa_cuisine = []\n",
    "    for i in cuisinetype:\n",
    "        if i not in usa_cuisine:\n",
    "            non_usa_cuisine.append(i)\n",
    "    return usa_cuisine,non_usa_cuisine\n",
    "    "
   ]
  },
  {
   "cell_type": "code",
   "execution_count": 105,
   "metadata": {},
   "outputs": [],
   "source": [
    "def addCuisinetypesToDF(sample_df,usa_cuisine,non_usa_cuisine):\n",
    "    tags_value=[]\n",
    "    for tags in sample_df['tags']:\n",
    "        if(set(tags).intersection(usa_cuisine)):\n",
    "            tags_value.append(1)\n",
    "            continue\n",
    "        else:\n",
    "            if(set(tags).intersection(non_usa_cuisine)):\n",
    "                tags_value.append(0)\n",
    "            else:\n",
    "                tags_value.append(2)\n",
    "    sample_df['usa_cuisine'] = tags_value\n",
    "    return sample_df"
   ]
  },
  {
   "cell_type": "code",
   "execution_count": 106,
   "metadata": {},
   "outputs": [],
   "source": [
    "# Drop column with all zeros\n",
    "def dropZeroColumns(sample_df):\n",
    "    sample_df = sample_df.loc[:, (sample_df != 0).any(axis=0)]\n",
    "    return sample_df"
   ]
  },
  {
   "cell_type": "code",
   "execution_count": 107,
   "metadata": {},
   "outputs": [],
   "source": [
    "def deleterows(df,column,value1,value2,yes):\n",
    "    if(yes): # deleted row based on two values\n",
    "        df = df.drop(df[df[column] == value1].index)\n",
    "        df = df.drop(df[df[column] == value2].index)\n",
    "    else:\n",
    "        df = df.drop(df [df[column] == value1].index)\n",
    "    return df"
   ]
  },
  {
   "cell_type": "code",
   "execution_count": 108,
   "metadata": {},
   "outputs": [],
   "source": [
    "# drop not relevent columns and drop rest of allergy column except one you are analyzing\n",
    "def dropColumn(sample_df,col):\n",
    "#     sample_df = sample_df.drop(columns=['avg_rating','best_rating','prepare_again_rating','num_reviews'],axis=0)\n",
    "    sample_df = sample_df[(sample_df != np.inf).all(axis=1)]\n",
    "    sample_df = sample_df.drop(columns=col,axis=1)\n",
    "\n",
    "    return sample_df"
   ]
  },
  {
   "cell_type": "code",
   "execution_count": 109,
   "metadata": {},
   "outputs": [],
   "source": [
    "\n",
    "def getTrianData(sample_df,label_column):\n",
    "    '''Seperate data and label to classify, \n",
    "    X are attribute columns used to classify, Y is the label\n",
    "    first delete all infinity values in data. It also drop columns that are not needed.'''\n",
    "    data = sample_df.drop(columns=label_column, axis=1)\n",
    "    label = sample_df[label_column]\n",
    "    return data,label\n"
   ]
  },
  {
   "cell_type": "code",
   "execution_count": 110,
   "metadata": {},
   "outputs": [],
   "source": [
    "class SVCmodel(object):\n",
    "    def __init__(self):\n",
    "        pass\n",
    "    def getSupport(self,model):\n",
    "        '''Indices of support vectors'''\n",
    "        return model.support_\n",
    "    def getClassWeight(self,model):\n",
    "        '''Support vectors'''\n",
    "        return model.class_weight_\n",
    "    def getNsupport(self,model):\n",
    "        '''# of support vector for each class'''\n",
    "        return model.n_support_\n",
    "    def getsupportcoef(self,model):\n",
    "        '''related to support vector in the decision function.'''\n",
    "        return model.dual_coef_\n",
    "    def getfeaturesweight(self,model):\n",
    "        '''weight assigned to the features'''\n",
    "        return model.coef_\n",
    "    def getintercept(self,model):\n",
    "        '''constants in decision function'''\n",
    "        return model.intercept_\n",
    "    def getfitstatus(self,model):\n",
    "        '''0 if correctly fitted, 1 otherwise(will raise warning)'''\n",
    "        return model.fit_status_\n",
    "    def getclasses(self,model):\n",
    "        '''The class label'''\n",
    "        return model.classes_\n",
    "    def getprobA(self,model):\n",
    "        '''array type, shape = [n_class*(n_classes-1)/2]'''\n",
    "        return model.probA_\n",
    "    def getprobB(self,model):\n",
    "        '''array type, shape = [n_class*(n_classes-1)/2].\n",
    "        If probability=True, it corresponds to the parameters \n",
    "        learned in Platt scaling to produce probability estimates \n",
    "        from decision values. If probability=False, it’s an empty array. \n",
    "        Platt scaling uses the logistic function \n",
    "        1 / (1 + exp(decision_value * probA_ + probB_)) \n",
    "        where probA_ and probB_ are learned from the dataset \n",
    "        '''\n",
    "        return model.probA_\n",
    "    def getclassweight(self,model):\n",
    "        '''multipliers of parameter C for each class.'''\n",
    "        return model.class_weight_\n",
    "    def getshapefit(self,model):\n",
    "        return model.shape_fit_"
   ]
  },
  {
   "cell_type": "markdown",
   "metadata": {},
   "source": [
    "## Data Preparation for Classification"
   ]
  },
  {
   "cell_type": "code",
   "execution_count": 111,
   "metadata": {},
   "outputs": [
    {
     "name": "stdout",
     "output_type": "stream",
     "text": [
      "CPU times: user 4.79 s, sys: 1.09 s, total: 5.88 s\n",
      "Wall time: 7.27 s\n"
     ]
    }
   ],
   "source": [
    "%%time\n",
    "# Cuisine Types: usa_cuisine ==> 1, non_usa_cuisine ==> 1, no_tags ==> 2\n",
    "tags_count = countTags(epi_data_df)\n",
    "usa_cuisine,non_usa_cuisine = loadCuisineType()\n",
    "allergy_tags = getallergyTags(tags_count)\n",
    "sample_df = epi_data_df.head(20000)\n",
    "sample_df = addCuisinetypesToDF(sample_df,usa_cuisine,non_usa_cuisine)\n",
    "cuisine_df = sample_df\n",
    "sample_df = addallergytoDF(allergy_tags,sample_df)\n",
    "sample_df = dropZeroColumns(sample_df)\n"
   ]
  },
  {
   "cell_type": "code",
   "execution_count": 112,
   "metadata": {},
   "outputs": [
    {
     "data": {
      "text/plain": [
       "(465, 2)"
      ]
     },
     "execution_count": 112,
     "metadata": {},
     "output_type": "execute_result"
    }
   ],
   "source": [
    "epi_tags = countTags(epi_vector)\n",
    "epi_tags.shape"
   ]
  },
  {
   "cell_type": "code",
   "execution_count": 113,
   "metadata": {
    "scrolled": false
   },
   "outputs": [
    {
     "data": {
      "text/html": [
       "<div>\n",
       "<style scoped>\n",
       "    .dataframe tbody tr th:only-of-type {\n",
       "        vertical-align: middle;\n",
       "    }\n",
       "\n",
       "    .dataframe tbody tr th {\n",
       "        vertical-align: top;\n",
       "    }\n",
       "\n",
       "    .dataframe thead th {\n",
       "        text-align: right;\n",
       "    }\n",
       "</style>\n",
       "<table border=\"1\" class=\"dataframe\">\n",
       "  <thead>\n",
       "    <tr style=\"text-align: right;\">\n",
       "      <th></th>\n",
       "      <th>Aleppo chili</th>\n",
       "      <th>Aleppo chili flake</th>\n",
       "      <th>Aleppo pepper</th>\n",
       "      <th>Amaretto</th>\n",
       "      <th>Amaretto liqueur</th>\n",
       "      <th>Amaro Montenegro</th>\n",
       "      <th>Amontillado sherry</th>\n",
       "      <th>Anaheim chili</th>\n",
       "      <th>Anaheim pepper</th>\n",
       "      <th>Ancho Chili Sauce</th>\n",
       "      <th>...</th>\n",
       "      <th>num_reviews</th>\n",
       "      <th>tags</th>\n",
       "      <th>title</th>\n",
       "      <th>usa_cuisine</th>\n",
       "      <th>Peanut Free</th>\n",
       "      <th>Soy Free</th>\n",
       "      <th>Tree Nut Free</th>\n",
       "      <th>Wheat/Gluten-Free</th>\n",
       "      <th>Dairy Free</th>\n",
       "      <th>Fat Free</th>\n",
       "    </tr>\n",
       "  </thead>\n",
       "  <tbody>\n",
       "    <tr>\n",
       "      <th>http://www.epicurious.com/recipes/food/views/-adult-pimiento-cheese-100852</th>\n",
       "      <td>0.0</td>\n",
       "      <td>0.0</td>\n",
       "      <td>0.0</td>\n",
       "      <td>0.0</td>\n",
       "      <td>0.0</td>\n",
       "      <td>0.0</td>\n",
       "      <td>0.0</td>\n",
       "      <td>0.0</td>\n",
       "      <td>0.0</td>\n",
       "      <td>0.0</td>\n",
       "      <td>...</td>\n",
       "      <td>25.0</td>\n",
       "      <td>[Cheese, Vegetable, No-Cook, Vegetarian, Quick...</td>\n",
       "      <td>\"Adult\" Pimiento Cheese</td>\n",
       "      <td>1</td>\n",
       "      <td>False</td>\n",
       "      <td>False</td>\n",
       "      <td>False</td>\n",
       "      <td>False</td>\n",
       "      <td>False</td>\n",
       "      <td>False</td>\n",
       "    </tr>\n",
       "    <tr>\n",
       "      <th>http://www.epicurious.com/recipes/food/views/-an-apple-a-day-51133430</th>\n",
       "      <td>0.0</td>\n",
       "      <td>0.0</td>\n",
       "      <td>0.0</td>\n",
       "      <td>0.0</td>\n",
       "      <td>0.0</td>\n",
       "      <td>0.0</td>\n",
       "      <td>0.0</td>\n",
       "      <td>0.0</td>\n",
       "      <td>0.0</td>\n",
       "      <td>0.0</td>\n",
       "      <td>...</td>\n",
       "      <td>3.0</td>\n",
       "      <td>[Ginger, Dessert, Bake, Apple, Almond, Fall, R...</td>\n",
       "      <td>\"An Apple a Day\"</td>\n",
       "      <td>2</td>\n",
       "      <td>True</td>\n",
       "      <td>True</td>\n",
       "      <td>False</td>\n",
       "      <td>False</td>\n",
       "      <td>False</td>\n",
       "      <td>False</td>\n",
       "    </tr>\n",
       "  </tbody>\n",
       "</table>\n",
       "<p>2 rows × 3883 columns</p>\n",
       "</div>"
      ],
      "text/plain": [
       "                                                    Aleppo chili  \\\n",
       "http://www.epicurious.com/recipes/food/views/-a...           0.0   \n",
       "http://www.epicurious.com/recipes/food/views/-a...           0.0   \n",
       "\n",
       "                                                    Aleppo chili flake  \\\n",
       "http://www.epicurious.com/recipes/food/views/-a...                 0.0   \n",
       "http://www.epicurious.com/recipes/food/views/-a...                 0.0   \n",
       "\n",
       "                                                    Aleppo pepper  Amaretto  \\\n",
       "http://www.epicurious.com/recipes/food/views/-a...            0.0       0.0   \n",
       "http://www.epicurious.com/recipes/food/views/-a...            0.0       0.0   \n",
       "\n",
       "                                                    Amaretto liqueur  \\\n",
       "http://www.epicurious.com/recipes/food/views/-a...               0.0   \n",
       "http://www.epicurious.com/recipes/food/views/-a...               0.0   \n",
       "\n",
       "                                                    Amaro Montenegro  \\\n",
       "http://www.epicurious.com/recipes/food/views/-a...               0.0   \n",
       "http://www.epicurious.com/recipes/food/views/-a...               0.0   \n",
       "\n",
       "                                                    Amontillado sherry  \\\n",
       "http://www.epicurious.com/recipes/food/views/-a...                 0.0   \n",
       "http://www.epicurious.com/recipes/food/views/-a...                 0.0   \n",
       "\n",
       "                                                    Anaheim chili  \\\n",
       "http://www.epicurious.com/recipes/food/views/-a...            0.0   \n",
       "http://www.epicurious.com/recipes/food/views/-a...            0.0   \n",
       "\n",
       "                                                    Anaheim pepper  \\\n",
       "http://www.epicurious.com/recipes/food/views/-a...             0.0   \n",
       "http://www.epicurious.com/recipes/food/views/-a...             0.0   \n",
       "\n",
       "                                                    Ancho Chili Sauce  ...  \\\n",
       "http://www.epicurious.com/recipes/food/views/-a...                0.0  ...   \n",
       "http://www.epicurious.com/recipes/food/views/-a...                0.0  ...   \n",
       "\n",
       "                                                    num_reviews  \\\n",
       "http://www.epicurious.com/recipes/food/views/-a...         25.0   \n",
       "http://www.epicurious.com/recipes/food/views/-a...          3.0   \n",
       "\n",
       "                                                                                                 tags  \\\n",
       "http://www.epicurious.com/recipes/food/views/-a...  [Cheese, Vegetable, No-Cook, Vegetarian, Quick...   \n",
       "http://www.epicurious.com/recipes/food/views/-a...  [Ginger, Dessert, Bake, Apple, Almond, Fall, R...   \n",
       "\n",
       "                                                                       title  \\\n",
       "http://www.epicurious.com/recipes/food/views/-a...  \"Adult\" Pimiento Cheese    \n",
       "http://www.epicurious.com/recipes/food/views/-a...         \"An Apple a Day\"    \n",
       "\n",
       "                                                    usa_cuisine  Peanut Free  \\\n",
       "http://www.epicurious.com/recipes/food/views/-a...            1        False   \n",
       "http://www.epicurious.com/recipes/food/views/-a...            2         True   \n",
       "\n",
       "                                                    Soy Free  Tree Nut Free  \\\n",
       "http://www.epicurious.com/recipes/food/views/-a...     False          False   \n",
       "http://www.epicurious.com/recipes/food/views/-a...      True          False   \n",
       "\n",
       "                                                    Wheat/Gluten-Free  \\\n",
       "http://www.epicurious.com/recipes/food/views/-a...              False   \n",
       "http://www.epicurious.com/recipes/food/views/-a...              False   \n",
       "\n",
       "                                                    Dairy Free  Fat Free  \n",
       "http://www.epicurious.com/recipes/food/views/-a...       False     False  \n",
       "http://www.epicurious.com/recipes/food/views/-a...       False     False  \n",
       "\n",
       "[2 rows x 3883 columns]"
      ]
     },
     "execution_count": 113,
     "metadata": {},
     "output_type": "execute_result"
    }
   ],
   "source": [
    "sample_df.head(2)"
   ]
  },
  {
   "cell_type": "code",
   "execution_count": 114,
   "metadata": {},
   "outputs": [
    {
     "data": {
      "text/plain": [
       "(20000, 3883)"
      ]
     },
     "execution_count": 114,
     "metadata": {},
     "output_type": "execute_result"
    }
   ],
   "source": [
    "sample_df.shape"
   ]
  },
  {
   "cell_type": "code",
   "execution_count": 115,
   "metadata": {},
   "outputs": [],
   "source": [
    "# c[c['tag'] == 'Peanut']"
   ]
  },
  {
   "cell_type": "code",
   "execution_count": 116,
   "metadata": {},
   "outputs": [],
   "source": [
    "# c[c['tag'] == 'Summer']\n",
    "# c[c['tag'] == 'Winter']\n",
    "# c[c['tag'] == 'Fall']\n",
    "# c[c['tag'] == 'Spring']\n"
   ]
  },
  {
   "cell_type": "code",
   "execution_count": 117,
   "metadata": {},
   "outputs": [],
   "source": [
    "def addSeasontypesToDF(sample_df,season,label):\n",
    "    tags_value=[]\n",
    "    print(season[0])\n",
    "    for tags in sample_df['tags']:\n",
    "        if(season[0] in set(tags)): #spring\n",
    "            tags_value.append(1)\n",
    "        elif(season[1] in set(tags)): #summer\n",
    "            tags_value.append(2)\n",
    "        elif(season[2] in set(tags)): #fall\n",
    "            tags_value.append(3)\n",
    "        elif(season[3] in set(tags)): #winter\n",
    "            tags_value.append(4)\n",
    "        else:\n",
    "            tags_value.append(0) # for non-season food\n",
    "    sample_df[label] = tags_value\n",
    "    return sample_df"
   ]
  },
  {
   "cell_type": "code",
   "execution_count": 118,
   "metadata": {},
   "outputs": [
    {
     "name": "stdout",
     "output_type": "stream",
     "text": [
      "Spring\n"
     ]
    },
    {
     "data": {
      "text/html": [
       "<div>\n",
       "<style scoped>\n",
       "    .dataframe tbody tr th:only-of-type {\n",
       "        vertical-align: middle;\n",
       "    }\n",
       "\n",
       "    .dataframe tbody tr th {\n",
       "        vertical-align: top;\n",
       "    }\n",
       "\n",
       "    .dataframe thead th {\n",
       "        text-align: right;\n",
       "    }\n",
       "</style>\n",
       "<table border=\"1\" class=\"dataframe\">\n",
       "  <thead>\n",
       "    <tr style=\"text-align: right;\">\n",
       "      <th></th>\n",
       "      <th>Aleppo chili</th>\n",
       "      <th>Aleppo chili flake</th>\n",
       "      <th>Aleppo pepper</th>\n",
       "      <th>Amaretto</th>\n",
       "      <th>Amaretto liqueur</th>\n",
       "      <th>Amaro Montenegro</th>\n",
       "      <th>Amontillado sherry</th>\n",
       "      <th>Anaheim chili</th>\n",
       "      <th>Anaheim pepper</th>\n",
       "      <th>Ancho Chili Sauce</th>\n",
       "      <th>...</th>\n",
       "      <th>tags</th>\n",
       "      <th>title</th>\n",
       "      <th>usa_cuisine</th>\n",
       "      <th>Peanut Free</th>\n",
       "      <th>Soy Free</th>\n",
       "      <th>Tree Nut Free</th>\n",
       "      <th>Wheat/Gluten-Free</th>\n",
       "      <th>Dairy Free</th>\n",
       "      <th>Fat Free</th>\n",
       "      <th>season</th>\n",
       "    </tr>\n",
       "  </thead>\n",
       "  <tbody>\n",
       "    <tr>\n",
       "      <th>http://www.epicurious.com/recipes/food/views/-adult-pimiento-cheese-100852</th>\n",
       "      <td>0.0</td>\n",
       "      <td>0.0</td>\n",
       "      <td>0.0</td>\n",
       "      <td>0.0</td>\n",
       "      <td>0.0</td>\n",
       "      <td>0.0</td>\n",
       "      <td>0.0</td>\n",
       "      <td>0.0</td>\n",
       "      <td>0.0</td>\n",
       "      <td>0.0</td>\n",
       "      <td>...</td>\n",
       "      <td>[Cheese, Vegetable, No-Cook, Vegetarian, Quick...</td>\n",
       "      <td>\"Adult\" Pimiento Cheese</td>\n",
       "      <td>1</td>\n",
       "      <td>False</td>\n",
       "      <td>False</td>\n",
       "      <td>False</td>\n",
       "      <td>False</td>\n",
       "      <td>False</td>\n",
       "      <td>False</td>\n",
       "      <td>4</td>\n",
       "    </tr>\n",
       "    <tr>\n",
       "      <th>http://www.epicurious.com/recipes/food/views/-an-apple-a-day-51133430</th>\n",
       "      <td>0.0</td>\n",
       "      <td>0.0</td>\n",
       "      <td>0.0</td>\n",
       "      <td>0.0</td>\n",
       "      <td>0.0</td>\n",
       "      <td>0.0</td>\n",
       "      <td>0.0</td>\n",
       "      <td>0.0</td>\n",
       "      <td>0.0</td>\n",
       "      <td>0.0</td>\n",
       "      <td>...</td>\n",
       "      <td>[Ginger, Dessert, Bake, Apple, Almond, Fall, R...</td>\n",
       "      <td>\"An Apple a Day\"</td>\n",
       "      <td>2</td>\n",
       "      <td>True</td>\n",
       "      <td>True</td>\n",
       "      <td>False</td>\n",
       "      <td>False</td>\n",
       "      <td>False</td>\n",
       "      <td>False</td>\n",
       "      <td>3</td>\n",
       "    </tr>\n",
       "    <tr>\n",
       "      <th>http://www.epicurious.com/recipes/food/views/-blanketed-eggplant-305</th>\n",
       "      <td>0.0</td>\n",
       "      <td>0.0</td>\n",
       "      <td>0.0</td>\n",
       "      <td>0.0</td>\n",
       "      <td>0.0</td>\n",
       "      <td>0.0</td>\n",
       "      <td>0.0</td>\n",
       "      <td>0.0</td>\n",
       "      <td>0.0</td>\n",
       "      <td>0.0</td>\n",
       "      <td>...</td>\n",
       "      <td>[Tomato, Vegetable, Appetizer, Side, Vegetaria...</td>\n",
       "      <td>\"Blanketed\" Eggplant</td>\n",
       "      <td>2</td>\n",
       "      <td>False</td>\n",
       "      <td>False</td>\n",
       "      <td>False</td>\n",
       "      <td>False</td>\n",
       "      <td>False</td>\n",
       "      <td>False</td>\n",
       "      <td>0</td>\n",
       "    </tr>\n",
       "    <tr>\n",
       "      <th>http://www.epicurious.com/recipes/food/views/-bloody-mary-tomato-toast-with-celery-and-horseradish-56389813</th>\n",
       "      <td>0.0</td>\n",
       "      <td>0.0</td>\n",
       "      <td>0.0</td>\n",
       "      <td>0.0</td>\n",
       "      <td>0.0</td>\n",
       "      <td>0.0</td>\n",
       "      <td>0.0</td>\n",
       "      <td>0.0</td>\n",
       "      <td>0.0</td>\n",
       "      <td>0.0</td>\n",
       "      <td>...</td>\n",
       "      <td>[Condiment/Spread, Tomato, Appetizer, Kid-Frie...</td>\n",
       "      <td>\"Bloody Mary\" Tomato Toast with Celery and Hor...</td>\n",
       "      <td>2</td>\n",
       "      <td>True</td>\n",
       "      <td>True</td>\n",
       "      <td>True</td>\n",
       "      <td>False</td>\n",
       "      <td>True</td>\n",
       "      <td>False</td>\n",
       "      <td>1</td>\n",
       "    </tr>\n",
       "    <tr>\n",
       "      <th>http://www.epicurious.com/recipes/food/views/-bow-tie-pasta-with-zucchini-101932</th>\n",
       "      <td>0.0</td>\n",
       "      <td>0.0</td>\n",
       "      <td>0.0</td>\n",
       "      <td>0.0</td>\n",
       "      <td>0.0</td>\n",
       "      <td>0.0</td>\n",
       "      <td>0.0</td>\n",
       "      <td>0.0</td>\n",
       "      <td>0.0</td>\n",
       "      <td>0.0</td>\n",
       "      <td>...</td>\n",
       "      <td>[Pasta, Vegetarian, Quick &amp; Easy, Dinner, Basi...</td>\n",
       "      <td>\"Bow-Tie\" Pasta with Zucchini</td>\n",
       "      <td>2</td>\n",
       "      <td>True</td>\n",
       "      <td>True</td>\n",
       "      <td>True</td>\n",
       "      <td>False</td>\n",
       "      <td>False</td>\n",
       "      <td>False</td>\n",
       "      <td>2</td>\n",
       "    </tr>\n",
       "  </tbody>\n",
       "</table>\n",
       "<p>5 rows × 3884 columns</p>\n",
       "</div>"
      ],
      "text/plain": [
       "                                                    Aleppo chili  \\\n",
       "http://www.epicurious.com/recipes/food/views/-a...           0.0   \n",
       "http://www.epicurious.com/recipes/food/views/-a...           0.0   \n",
       "http://www.epicurious.com/recipes/food/views/-b...           0.0   \n",
       "http://www.epicurious.com/recipes/food/views/-b...           0.0   \n",
       "http://www.epicurious.com/recipes/food/views/-b...           0.0   \n",
       "\n",
       "                                                    Aleppo chili flake  \\\n",
       "http://www.epicurious.com/recipes/food/views/-a...                 0.0   \n",
       "http://www.epicurious.com/recipes/food/views/-a...                 0.0   \n",
       "http://www.epicurious.com/recipes/food/views/-b...                 0.0   \n",
       "http://www.epicurious.com/recipes/food/views/-b...                 0.0   \n",
       "http://www.epicurious.com/recipes/food/views/-b...                 0.0   \n",
       "\n",
       "                                                    Aleppo pepper  Amaretto  \\\n",
       "http://www.epicurious.com/recipes/food/views/-a...            0.0       0.0   \n",
       "http://www.epicurious.com/recipes/food/views/-a...            0.0       0.0   \n",
       "http://www.epicurious.com/recipes/food/views/-b...            0.0       0.0   \n",
       "http://www.epicurious.com/recipes/food/views/-b...            0.0       0.0   \n",
       "http://www.epicurious.com/recipes/food/views/-b...            0.0       0.0   \n",
       "\n",
       "                                                    Amaretto liqueur  \\\n",
       "http://www.epicurious.com/recipes/food/views/-a...               0.0   \n",
       "http://www.epicurious.com/recipes/food/views/-a...               0.0   \n",
       "http://www.epicurious.com/recipes/food/views/-b...               0.0   \n",
       "http://www.epicurious.com/recipes/food/views/-b...               0.0   \n",
       "http://www.epicurious.com/recipes/food/views/-b...               0.0   \n",
       "\n",
       "                                                    Amaro Montenegro  \\\n",
       "http://www.epicurious.com/recipes/food/views/-a...               0.0   \n",
       "http://www.epicurious.com/recipes/food/views/-a...               0.0   \n",
       "http://www.epicurious.com/recipes/food/views/-b...               0.0   \n",
       "http://www.epicurious.com/recipes/food/views/-b...               0.0   \n",
       "http://www.epicurious.com/recipes/food/views/-b...               0.0   \n",
       "\n",
       "                                                    Amontillado sherry  \\\n",
       "http://www.epicurious.com/recipes/food/views/-a...                 0.0   \n",
       "http://www.epicurious.com/recipes/food/views/-a...                 0.0   \n",
       "http://www.epicurious.com/recipes/food/views/-b...                 0.0   \n",
       "http://www.epicurious.com/recipes/food/views/-b...                 0.0   \n",
       "http://www.epicurious.com/recipes/food/views/-b...                 0.0   \n",
       "\n",
       "                                                    Anaheim chili  \\\n",
       "http://www.epicurious.com/recipes/food/views/-a...            0.0   \n",
       "http://www.epicurious.com/recipes/food/views/-a...            0.0   \n",
       "http://www.epicurious.com/recipes/food/views/-b...            0.0   \n",
       "http://www.epicurious.com/recipes/food/views/-b...            0.0   \n",
       "http://www.epicurious.com/recipes/food/views/-b...            0.0   \n",
       "\n",
       "                                                    Anaheim pepper  \\\n",
       "http://www.epicurious.com/recipes/food/views/-a...             0.0   \n",
       "http://www.epicurious.com/recipes/food/views/-a...             0.0   \n",
       "http://www.epicurious.com/recipes/food/views/-b...             0.0   \n",
       "http://www.epicurious.com/recipes/food/views/-b...             0.0   \n",
       "http://www.epicurious.com/recipes/food/views/-b...             0.0   \n",
       "\n",
       "                                                    Ancho Chili Sauce  ...  \\\n",
       "http://www.epicurious.com/recipes/food/views/-a...                0.0  ...   \n",
       "http://www.epicurious.com/recipes/food/views/-a...                0.0  ...   \n",
       "http://www.epicurious.com/recipes/food/views/-b...                0.0  ...   \n",
       "http://www.epicurious.com/recipes/food/views/-b...                0.0  ...   \n",
       "http://www.epicurious.com/recipes/food/views/-b...                0.0  ...   \n",
       "\n",
       "                                                                                                 tags  \\\n",
       "http://www.epicurious.com/recipes/food/views/-a...  [Cheese, Vegetable, No-Cook, Vegetarian, Quick...   \n",
       "http://www.epicurious.com/recipes/food/views/-a...  [Ginger, Dessert, Bake, Apple, Almond, Fall, R...   \n",
       "http://www.epicurious.com/recipes/food/views/-b...  [Tomato, Vegetable, Appetizer, Side, Vegetaria...   \n",
       "http://www.epicurious.com/recipes/food/views/-b...  [Condiment/Spread, Tomato, Appetizer, Kid-Frie...   \n",
       "http://www.epicurious.com/recipes/food/views/-b...  [Pasta, Vegetarian, Quick & Easy, Dinner, Basi...   \n",
       "\n",
       "                                                                                                title  \\\n",
       "http://www.epicurious.com/recipes/food/views/-a...                           \"Adult\" Pimiento Cheese    \n",
       "http://www.epicurious.com/recipes/food/views/-a...                                  \"An Apple a Day\"    \n",
       "http://www.epicurious.com/recipes/food/views/-b...                              \"Blanketed\" Eggplant    \n",
       "http://www.epicurious.com/recipes/food/views/-b...  \"Bloody Mary\" Tomato Toast with Celery and Hor...   \n",
       "http://www.epicurious.com/recipes/food/views/-b...                     \"Bow-Tie\" Pasta with Zucchini    \n",
       "\n",
       "                                                    usa_cuisine  Peanut Free  \\\n",
       "http://www.epicurious.com/recipes/food/views/-a...            1        False   \n",
       "http://www.epicurious.com/recipes/food/views/-a...            2         True   \n",
       "http://www.epicurious.com/recipes/food/views/-b...            2        False   \n",
       "http://www.epicurious.com/recipes/food/views/-b...            2         True   \n",
       "http://www.epicurious.com/recipes/food/views/-b...            2         True   \n",
       "\n",
       "                                                    Soy Free  Tree Nut Free  \\\n",
       "http://www.epicurious.com/recipes/food/views/-a...     False          False   \n",
       "http://www.epicurious.com/recipes/food/views/-a...      True          False   \n",
       "http://www.epicurious.com/recipes/food/views/-b...     False          False   \n",
       "http://www.epicurious.com/recipes/food/views/-b...      True           True   \n",
       "http://www.epicurious.com/recipes/food/views/-b...      True           True   \n",
       "\n",
       "                                                    Wheat/Gluten-Free  \\\n",
       "http://www.epicurious.com/recipes/food/views/-a...              False   \n",
       "http://www.epicurious.com/recipes/food/views/-a...              False   \n",
       "http://www.epicurious.com/recipes/food/views/-b...              False   \n",
       "http://www.epicurious.com/recipes/food/views/-b...              False   \n",
       "http://www.epicurious.com/recipes/food/views/-b...              False   \n",
       "\n",
       "                                                    Dairy Free  Fat Free  \\\n",
       "http://www.epicurious.com/recipes/food/views/-a...       False     False   \n",
       "http://www.epicurious.com/recipes/food/views/-a...       False     False   \n",
       "http://www.epicurious.com/recipes/food/views/-b...       False     False   \n",
       "http://www.epicurious.com/recipes/food/views/-b...        True     False   \n",
       "http://www.epicurious.com/recipes/food/views/-b...       False     False   \n",
       "\n",
       "                                                    season  \n",
       "http://www.epicurious.com/recipes/food/views/-a...       4  \n",
       "http://www.epicurious.com/recipes/food/views/-a...       3  \n",
       "http://www.epicurious.com/recipes/food/views/-b...       0  \n",
       "http://www.epicurious.com/recipes/food/views/-b...       1  \n",
       "http://www.epicurious.com/recipes/food/views/-b...       2  \n",
       "\n",
       "[5 rows x 3884 columns]"
      ]
     },
     "execution_count": 118,
     "metadata": {},
     "output_type": "execute_result"
    }
   ],
   "source": [
    "addSeasontypesToDF(sample_df,['Spring','Summer','Fall','Winter'],'season').head()"
   ]
  },
  {
   "cell_type": "code",
   "execution_count": 119,
   "metadata": {},
   "outputs": [
    {
     "data": {
      "text/plain": [
       "Counter({4: 2023, 3: 2533, 0: 10232, 1: 1528, 2: 3684})"
      ]
     },
     "execution_count": 119,
     "metadata": {},
     "output_type": "execute_result"
    }
   ],
   "source": [
    "c = Counter()\n",
    "c.update(sample_df.season)\n",
    "c"
   ]
  },
  {
   "cell_type": "code",
   "execution_count": 120,
   "metadata": {},
   "outputs": [
    {
     "data": {
      "text/plain": [
       "(20000, 3884)"
      ]
     },
     "execution_count": 120,
     "metadata": {},
     "output_type": "execute_result"
    }
   ],
   "source": [
    "sample_df.shape"
   ]
  },
  {
   "cell_type": "code",
   "execution_count": 121,
   "metadata": {},
   "outputs": [],
   "source": [
    "spring = []\n",
    "summer = []\n",
    "fall = []\n",
    "winter =[]\n",
    "spring_df = sample_df.tags[sample_df['season']==1].values\n",
    "summer_df = sample_df.tags[sample_df['season']==2].values\n",
    "fall_df = sample_df.tags[sample_df['season']==3].values\n",
    "winter_df = sample_df.tags[sample_df['season']==4].values\n",
    "non_season_df = sample_df.tags[sample_df['season'] == 0].values"
   ]
  },
  {
   "cell_type": "code",
   "execution_count": 122,
   "metadata": {
    "scrolled": false
   },
   "outputs": [
    {
     "name": "stdout",
     "output_type": "stream",
     "text": [
      "Tags list Containing Peanut Ingredient, but not Peanut Free tag 157\n"
     ]
    },
    {
     "data": {
      "text/plain": [
       "[('Peanut', 157),\n",
       " ('Tree Nut Free', 82),\n",
       " ('Soy Free', 76),\n",
       " ('Vegetarian', 72),\n",
       " ('Bon Appétit', 68),\n",
       " ('Pescatarian', 66),\n",
       " ('Kosher', 66),\n",
       " ('Dessert', 61),\n",
       " ('Gourmet', 54),\n",
       " ('Kid-Friendly', 50)]"
      ]
     },
     "execution_count": 122,
     "metadata": {},
     "output_type": "execute_result"
    }
   ],
   "source": [
    "s = Counter()\n",
    "tags_list = []\n",
    "count = 0\n",
    "for tags in sample_df['tags']:\n",
    "    if('Peanut' in tags):\n",
    "#         print(tags)\n",
    "        count +=1\n",
    "        for i in tags:\n",
    "            tags_list.append(i)\n",
    "\n",
    "print(\"Tags list Containing Peanut Ingredient, but not Peanut Free tag\",count)\n",
    "s.update(tags_list)\n",
    "s.most_common(10)"
   ]
  },
  {
   "cell_type": "code",
   "execution_count": 123,
   "metadata": {},
   "outputs": [
    {
     "data": {
      "text/html": [
       "<div>\n",
       "<style scoped>\n",
       "    .dataframe tbody tr th:only-of-type {\n",
       "        vertical-align: middle;\n",
       "    }\n",
       "\n",
       "    .dataframe tbody tr th {\n",
       "        vertical-align: top;\n",
       "    }\n",
       "\n",
       "    .dataframe thead th {\n",
       "        text-align: right;\n",
       "    }\n",
       "</style>\n",
       "<table border=\"1\" class=\"dataframe\">\n",
       "  <thead>\n",
       "    <tr style=\"text-align: right;\">\n",
       "      <th></th>\n",
       "      <th>tags_count</th>\n",
       "      <th>tag</th>\n",
       "      <th>allergy_tags</th>\n",
       "    </tr>\n",
       "  </thead>\n",
       "  <tbody>\n",
       "    <tr>\n",
       "      <th>19</th>\n",
       "      <td>16565</td>\n",
       "      <td>Peanut Free</td>\n",
       "      <td>True</td>\n",
       "    </tr>\n",
       "    <tr>\n",
       "      <th>20</th>\n",
       "      <td>16131</td>\n",
       "      <td>Soy Free</td>\n",
       "      <td>True</td>\n",
       "    </tr>\n",
       "    <tr>\n",
       "      <th>17</th>\n",
       "      <td>15512</td>\n",
       "      <td>Bon Appétit</td>\n",
       "      <td>False</td>\n",
       "    </tr>\n",
       "    <tr>\n",
       "      <th>34</th>\n",
       "      <td>14049</td>\n",
       "      <td>Tree Nut Free</td>\n",
       "      <td>True</td>\n",
       "    </tr>\n",
       "    <tr>\n",
       "      <th>3</th>\n",
       "      <td>13552</td>\n",
       "      <td>Vegetarian</td>\n",
       "      <td>False</td>\n",
       "    </tr>\n",
       "  </tbody>\n",
       "</table>\n",
       "</div>"
      ],
      "text/plain": [
       "    tags_count            tag  allergy_tags\n",
       "19       16565    Peanut Free          True\n",
       "20       16131       Soy Free          True\n",
       "17       15512    Bon Appétit         False\n",
       "34       14049  Tree Nut Free          True\n",
       "3        13552     Vegetarian         False"
      ]
     },
     "execution_count": 123,
     "metadata": {},
     "output_type": "execute_result"
    }
   ],
   "source": [
    "tags_count.head()"
   ]
  },
  {
   "cell_type": "code",
   "execution_count": 124,
   "metadata": {},
   "outputs": [
    {
     "data": {
      "text/html": [
       "<div>\n",
       "<style scoped>\n",
       "    .dataframe tbody tr th:only-of-type {\n",
       "        vertical-align: middle;\n",
       "    }\n",
       "\n",
       "    .dataframe tbody tr th {\n",
       "        vertical-align: top;\n",
       "    }\n",
       "\n",
       "    .dataframe thead th {\n",
       "        text-align: right;\n",
       "    }\n",
       "</style>\n",
       "<table border=\"1\" class=\"dataframe\">\n",
       "  <thead>\n",
       "    <tr style=\"text-align: right;\">\n",
       "      <th></th>\n",
       "      <th>tags_count</th>\n",
       "      <th>tag</th>\n",
       "      <th>allergy_tags</th>\n",
       "    </tr>\n",
       "  </thead>\n",
       "  <tbody>\n",
       "    <tr>\n",
       "      <th>19</th>\n",
       "      <td>16565</td>\n",
       "      <td>Peanut Free</td>\n",
       "      <td>True</td>\n",
       "    </tr>\n",
       "    <tr>\n",
       "      <th>20</th>\n",
       "      <td>16131</td>\n",
       "      <td>Soy Free</td>\n",
       "      <td>True</td>\n",
       "    </tr>\n",
       "    <tr>\n",
       "      <th>17</th>\n",
       "      <td>15512</td>\n",
       "      <td>Bon Appétit</td>\n",
       "      <td>False</td>\n",
       "    </tr>\n",
       "    <tr>\n",
       "      <th>34</th>\n",
       "      <td>14049</td>\n",
       "      <td>Tree Nut Free</td>\n",
       "      <td>True</td>\n",
       "    </tr>\n",
       "    <tr>\n",
       "      <th>3</th>\n",
       "      <td>13552</td>\n",
       "      <td>Vegetarian</td>\n",
       "      <td>False</td>\n",
       "    </tr>\n",
       "    <tr>\n",
       "      <th>...</th>\n",
       "      <td>...</td>\n",
       "      <td>...</td>\n",
       "      <td>...</td>\n",
       "    </tr>\n",
       "    <tr>\n",
       "      <th>3437</th>\n",
       "      <td>31</td>\n",
       "      <td>dumpling</td>\n",
       "      <td>False</td>\n",
       "    </tr>\n",
       "    <tr>\n",
       "      <th>4774</th>\n",
       "      <td>31</td>\n",
       "      <td>cocktail ingredients</td>\n",
       "      <td>False</td>\n",
       "    </tr>\n",
       "    <tr>\n",
       "      <th>821</th>\n",
       "      <td>31</td>\n",
       "      <td>jalapenos</td>\n",
       "      <td>False</td>\n",
       "    </tr>\n",
       "    <tr>\n",
       "      <th>4385</th>\n",
       "      <td>31</td>\n",
       "      <td>buttercream</td>\n",
       "      <td>False</td>\n",
       "    </tr>\n",
       "    <tr>\n",
       "      <th>1493</th>\n",
       "      <td>31</td>\n",
       "      <td>entertaining</td>\n",
       "      <td>False</td>\n",
       "    </tr>\n",
       "  </tbody>\n",
       "</table>\n",
       "<p>881 rows × 3 columns</p>\n",
       "</div>"
      ],
      "text/plain": [
       "      tags_count                   tag  allergy_tags\n",
       "19         16565           Peanut Free          True\n",
       "20         16131              Soy Free          True\n",
       "17         15512           Bon Appétit         False\n",
       "34         14049         Tree Nut Free          True\n",
       "3          13552            Vegetarian         False\n",
       "...          ...                   ...           ...\n",
       "3437          31              dumpling         False\n",
       "4774          31  cocktail ingredients         False\n",
       "821           31             jalapenos         False\n",
       "4385          31           buttercream         False\n",
       "1493          31          entertaining         False\n",
       "\n",
       "[881 rows x 3 columns]"
      ]
     },
     "execution_count": 124,
     "metadata": {},
     "output_type": "execute_result"
    }
   ],
   "source": [
    "tags_count"
   ]
  },
  {
   "cell_type": "code",
   "execution_count": 125,
   "metadata": {},
   "outputs": [
    {
     "data": {
      "text/plain": [
       "(881, 3)"
      ]
     },
     "execution_count": 125,
     "metadata": {},
     "output_type": "execute_result"
    }
   ],
   "source": [
    "tags_count.shape"
   ]
  },
  {
   "cell_type": "code",
   "execution_count": 126,
   "metadata": {
    "scrolled": false
   },
   "outputs": [
    {
     "data": {
      "image/png": "[encoded data removed]",
      "text/plain": [
       "<Figure size 432x288 with 1 Axes>"
      ]
     },
     "metadata": {
      "needs_background": "light"
     },
     "output_type": "display_data"
    }
   ],
   "source": [
    "s = Counter()\n",
    "for i in range(len(spring_df)):\n",
    "#     print(spring_df[i])\n",
    "    s.update(spring_df[i])\n",
    "# for i in s.most_common(30):\n",
    "#     if(i[0] != 'Spring' and i[0] !='Gourmet' and \"Bon App\" not in i[0]):\n",
    "#         total = tags_count.tags_count[tags_count['tag'] == i[0]].values[0]\n",
    "        \n",
    "# print(s.most_common(10))\n",
    "s = [(i[0],i[1]/tags_count.tags_count[tags_count['tag'] == i[0]].values[0]) for i in s.most_common(30) if(i[0] != 'Spring' and i[0] !='Gourmet' and \"Bon App\" not in i[0])]\n",
    "# print('\\n\\n',s)\n",
    "s = sorted(s, key = lambda x: x[1]) \n",
    "# print('\\n\\n',s)\n",
    "keys = [x[0] for x in s]\n",
    "values = [x[1] for x in s]\n",
    "plt.barh(keys,values)\n",
    "plt.title(\"Top 30 Tags for Spring\")\n",
    "plt.savefig('plots/springtag.png', bbox_inches='tight')\n",
    "plt.show()"
   ]
  },
  {
   "cell_type": "code",
   "execution_count": 127,
   "metadata": {},
   "outputs": [
    {
     "data": {
      "image/png": "[encoded data removed]",
      "text/plain": [
       "<Figure size 432x288 with 1 Axes>"
      ]
     },
     "metadata": {
      "needs_background": "light"
     },
     "output_type": "display_data"
    }
   ],
   "source": [
    "su = Counter()\n",
    "for i in range(len(summer_df)):\n",
    "    su.update(summer_df[i])\n",
    "su = [(i[0],i[1]/tags_count.tags_count[tags_count['tag'] == i[0]].values[0]) for i in su.most_common(30) if(i[0] != 'Summer' and i[0] !='Gourmet' and \"Bon App\" not in i[0])]\n",
    "su = sorted(su, key = lambda x: x[1]) \n",
    "keys = [x[0] for x in su]\n",
    "values = [x[1] for x in su]\n",
    "plt.barh(keys,values)\n",
    "plt.title(\"Top 30 Tags for Summer\")\n",
    "plt.savefig('plots/summertag.png', bbox_inches='tight')\n",
    "plt.show()"
   ]
  },
  {
   "cell_type": "code",
   "execution_count": 128,
   "metadata": {},
   "outputs": [
    {
     "data": {
      "image/png": "[encoded data removed]",
      "text/plain": [
       "<Figure size 432x288 with 1 Axes>"
      ]
     },
     "metadata": {
      "needs_background": "light"
     },
     "output_type": "display_data"
    }
   ],
   "source": [
    "f = Counter()\n",
    "for i in range(len(fall_df)):\n",
    "    f.update(fall_df[i])\n",
    "f = [(i[0],i[1]/tags_count.tags_count[tags_count['tag'] == i[0]].values[0]) for i in f.most_common(30) if(i[0] != 'Fall' and i[0] !='Gourmet' and \"Bon App\" not in i[0])]\n",
    "f = sorted(f, key = lambda x: x[1]) \n",
    "keys = [x[0] for x in f]\n",
    "values = [x[1] for x in f]\n",
    "plt.barh(keys,values)\n",
    "plt.title(\"Top 30 Tags for Fall\")\n",
    "plt.savefig('plots/falltag.png', bbox_inches='tight')\n",
    "plt.show()"
   ]
  },
  {
   "cell_type": "code",
   "execution_count": 129,
   "metadata": {},
   "outputs": [
    {
     "data": {
      "image/png": "[encoded data removed]",
      "text/plain": [
       "<Figure size 432x288 with 1 Axes>"
      ]
     },
     "metadata": {
      "needs_background": "light"
     },
     "output_type": "display_data"
    }
   ],
   "source": [
    "w = Counter()\n",
    "for i in range(len(winter_df)):\n",
    "    w.update(winter_df[i])\n",
    "w = [(i[0],i[1]/tags_count.tags_count[tags_count['tag'] == i[0]].values[0]) for i in w.most_common(30) if(i[0] != 'Winter' and i[0] !='Gourmet' and \"Bon App\" not in i[0])]\n",
    "w = sorted(w,key= lambda x:x[1])\n",
    "keys = [x[0] for x in w]\n",
    "values = [x[1] for x in w]\n",
    "plt.barh(keys,values)\n",
    "plt.title(\"Top 30 Tags for Winter\")\n",
    "plt.savefig('plots/wintertag.png', bbox_inches='tight')\n",
    "plt.show()"
   ]
  },
  {
   "cell_type": "code",
   "execution_count": 130,
   "metadata": {
    "scrolled": false
   },
   "outputs": [],
   "source": [
    "# for i in sample_df.tags:\n",
    "#     for j in i:\n",
    "#         if(j == 'Peanut'):\n",
    "#             print(i)"
   ]
  },
  {
   "cell_type": "code",
   "execution_count": 131,
   "metadata": {},
   "outputs": [
    {
     "name": "stdout",
     "output_type": "stream",
     "text": [
      "20000\n"
     ]
    },
    {
     "data": {
      "text/plain": [
       "20000"
      ]
     },
     "execution_count": 131,
     "metadata": {},
     "output_type": "execute_result"
    }
   ],
   "source": [
    "n = sample_df['tags'].str.contains('Peanut').values\n",
    "print(len(np.isnan(n)))\n",
    "len(n)"
   ]
  },
  {
   "cell_type": "code",
   "execution_count": null,
   "metadata": {
    "scrolled": true
   },
   "outputs": [],
   "source": []
  },
  {
   "cell_type": "code",
   "execution_count": null,
   "metadata": {},
   "outputs": [],
   "source": []
  },
  {
   "cell_type": "markdown",
   "metadata": {},
   "source": [
    "### Plot Correlation for Allergy Features"
   ]
  },
  {
   "cell_type": "code",
   "execution_count": 132,
   "metadata": {},
   "outputs": [],
   "source": [
    "# sns.heatmap(corr, xticklabels=corr.columns, yticklabels=corr.columns, \n",
    "#             cmap=sns.diverging_palette(220, 10, as_cmap=True))"
   ]
  },
  {
   "cell_type": "code",
   "execution_count": 133,
   "metadata": {
    "scrolled": true
   },
   "outputs": [
    {
     "data": {
      "text/plain": [
       "(20000, 3884)"
      ]
     },
     "execution_count": 133,
     "metadata": {},
     "output_type": "execute_result"
    }
   ],
   "source": [
    "sample_df.shape"
   ]
  },
  {
   "cell_type": "code",
   "execution_count": 134,
   "metadata": {},
   "outputs": [
    {
     "data": {
      "text/html": [
       "<div>\n",
       "<style scoped>\n",
       "    .dataframe tbody tr th:only-of-type {\n",
       "        vertical-align: middle;\n",
       "    }\n",
       "\n",
       "    .dataframe tbody tr th {\n",
       "        vertical-align: top;\n",
       "    }\n",
       "\n",
       "    .dataframe thead th {\n",
       "        text-align: right;\n",
       "    }\n",
       "</style>\n",
       "<table border=\"1\" class=\"dataframe\">\n",
       "  <thead>\n",
       "    <tr style=\"text-align: right;\">\n",
       "      <th></th>\n",
       "      <th>Aleppo chili</th>\n",
       "      <th>Aleppo chili flake</th>\n",
       "      <th>Aleppo pepper</th>\n",
       "      <th>Amaretto</th>\n",
       "      <th>Amaretto liqueur</th>\n",
       "      <th>Amaro Montenegro</th>\n",
       "      <th>Amontillado sherry</th>\n",
       "      <th>Anaheim chili</th>\n",
       "      <th>Anaheim pepper</th>\n",
       "      <th>Ancho Chili Sauce</th>\n",
       "      <th>...</th>\n",
       "      <th>tags</th>\n",
       "      <th>title</th>\n",
       "      <th>usa_cuisine</th>\n",
       "      <th>Peanut Free</th>\n",
       "      <th>Soy Free</th>\n",
       "      <th>Tree Nut Free</th>\n",
       "      <th>Wheat/Gluten-Free</th>\n",
       "      <th>Dairy Free</th>\n",
       "      <th>Fat Free</th>\n",
       "      <th>season</th>\n",
       "    </tr>\n",
       "  </thead>\n",
       "  <tbody>\n",
       "    <tr>\n",
       "      <th>http://www.epicurious.com/recipes/food/views/-adult-pimiento-cheese-100852</th>\n",
       "      <td>0.0</td>\n",
       "      <td>0.0</td>\n",
       "      <td>0.0</td>\n",
       "      <td>0.0</td>\n",
       "      <td>0.0</td>\n",
       "      <td>0.0</td>\n",
       "      <td>0.0</td>\n",
       "      <td>0.0</td>\n",
       "      <td>0.0</td>\n",
       "      <td>0.0</td>\n",
       "      <td>...</td>\n",
       "      <td>[Cheese, Vegetable, No-Cook, Vegetarian, Quick...</td>\n",
       "      <td>\"Adult\" Pimiento Cheese</td>\n",
       "      <td>1</td>\n",
       "      <td>0</td>\n",
       "      <td>0</td>\n",
       "      <td>0</td>\n",
       "      <td>0</td>\n",
       "      <td>0</td>\n",
       "      <td>0</td>\n",
       "      <td>4</td>\n",
       "    </tr>\n",
       "  </tbody>\n",
       "</table>\n",
       "<p>1 rows × 3884 columns</p>\n",
       "</div>"
      ],
      "text/plain": [
       "                                                    Aleppo chili  \\\n",
       "http://www.epicurious.com/recipes/food/views/-a...           0.0   \n",
       "\n",
       "                                                    Aleppo chili flake  \\\n",
       "http://www.epicurious.com/recipes/food/views/-a...                 0.0   \n",
       "\n",
       "                                                    Aleppo pepper  Amaretto  \\\n",
       "http://www.epicurious.com/recipes/food/views/-a...            0.0       0.0   \n",
       "\n",
       "                                                    Amaretto liqueur  \\\n",
       "http://www.epicurious.com/recipes/food/views/-a...               0.0   \n",
       "\n",
       "                                                    Amaro Montenegro  \\\n",
       "http://www.epicurious.com/recipes/food/views/-a...               0.0   \n",
       "\n",
       "                                                    Amontillado sherry  \\\n",
       "http://www.epicurious.com/recipes/food/views/-a...                 0.0   \n",
       "\n",
       "                                                    Anaheim chili  \\\n",
       "http://www.epicurious.com/recipes/food/views/-a...            0.0   \n",
       "\n",
       "                                                    Anaheim pepper  \\\n",
       "http://www.epicurious.com/recipes/food/views/-a...             0.0   \n",
       "\n",
       "                                                    Ancho Chili Sauce  ...  \\\n",
       "http://www.epicurious.com/recipes/food/views/-a...                0.0  ...   \n",
       "\n",
       "                                                                                                 tags  \\\n",
       "http://www.epicurious.com/recipes/food/views/-a...  [Cheese, Vegetable, No-Cook, Vegetarian, Quick...   \n",
       "\n",
       "                                                                       title  \\\n",
       "http://www.epicurious.com/recipes/food/views/-a...  \"Adult\" Pimiento Cheese    \n",
       "\n",
       "                                                    usa_cuisine  Peanut Free  \\\n",
       "http://www.epicurious.com/recipes/food/views/-a...            1            0   \n",
       "\n",
       "                                                    Soy Free  Tree Nut Free  \\\n",
       "http://www.epicurious.com/recipes/food/views/-a...         0              0   \n",
       "\n",
       "                                                    Wheat/Gluten-Free  \\\n",
       "http://www.epicurious.com/recipes/food/views/-a...                  0   \n",
       "\n",
       "                                                    Dairy Free  Fat Free  \\\n",
       "http://www.epicurious.com/recipes/food/views/-a...           0         0   \n",
       "\n",
       "                                                    season  \n",
       "http://www.epicurious.com/recipes/food/views/-a...       4  \n",
       "\n",
       "[1 rows x 3884 columns]"
      ]
     },
     "execution_count": 134,
     "metadata": {},
     "output_type": "execute_result"
    }
   ],
   "source": [
    "allergy = ['Peanut Free','Soy Free','Tree Nut Free','Wheat/Gluten-Free','Dairy Free','Fat Free']\n",
    "sample_df[allergy] *= 1\n",
    "sample_df.head(1)"
   ]
  },
  {
   "cell_type": "code",
   "execution_count": 135,
   "metadata": {},
   "outputs": [],
   "source": [
    "allergy_corr_df = sample_df[allergy]"
   ]
  },
  {
   "cell_type": "code",
   "execution_count": 136,
   "metadata": {},
   "outputs": [
    {
     "name": "stdout",
     "output_type": "stream",
     "text": [
      "Correlation Table for Allergy Tags\n"
     ]
    },
    {
     "data": {
      "text/html": [
       "<div>\n",
       "<style scoped>\n",
       "    .dataframe tbody tr th:only-of-type {\n",
       "        vertical-align: middle;\n",
       "    }\n",
       "\n",
       "    .dataframe tbody tr th {\n",
       "        vertical-align: top;\n",
       "    }\n",
       "\n",
       "    .dataframe thead th {\n",
       "        text-align: right;\n",
       "    }\n",
       "</style>\n",
       "<table border=\"1\" class=\"dataframe\">\n",
       "  <thead>\n",
       "    <tr style=\"text-align: right;\">\n",
       "      <th></th>\n",
       "      <th>Peanut Free</th>\n",
       "      <th>Soy Free</th>\n",
       "      <th>Tree Nut Free</th>\n",
       "      <th>Wheat/Gluten-Free</th>\n",
       "      <th>Dairy Free</th>\n",
       "      <th>Fat Free</th>\n",
       "    </tr>\n",
       "  </thead>\n",
       "  <tbody>\n",
       "    <tr>\n",
       "      <th>Peanut Free</th>\n",
       "      <td>1.000000</td>\n",
       "      <td>0.940356</td>\n",
       "      <td>0.818149</td>\n",
       "      <td>0.530327</td>\n",
       "      <td>0.414655</td>\n",
       "      <td>0.138566</td>\n",
       "    </tr>\n",
       "    <tr>\n",
       "      <th>Soy Free</th>\n",
       "      <td>0.940356</td>\n",
       "      <td>1.000000</td>\n",
       "      <td>0.795322</td>\n",
       "      <td>0.544888</td>\n",
       "      <td>0.365398</td>\n",
       "      <td>0.138807</td>\n",
       "    </tr>\n",
       "    <tr>\n",
       "      <th>Tree Nut Free</th>\n",
       "      <td>0.818149</td>\n",
       "      <td>0.795322</td>\n",
       "      <td>1.000000</td>\n",
       "      <td>0.490006</td>\n",
       "      <td>0.428717</td>\n",
       "      <td>0.155550</td>\n",
       "    </tr>\n",
       "    <tr>\n",
       "      <th>Wheat/Gluten-Free</th>\n",
       "      <td>0.530327</td>\n",
       "      <td>0.544888</td>\n",
       "      <td>0.490006</td>\n",
       "      <td>1.000000</td>\n",
       "      <td>0.428693</td>\n",
       "      <td>0.194546</td>\n",
       "    </tr>\n",
       "    <tr>\n",
       "      <th>Dairy Free</th>\n",
       "      <td>0.414655</td>\n",
       "      <td>0.365398</td>\n",
       "      <td>0.428717</td>\n",
       "      <td>0.428693</td>\n",
       "      <td>1.000000</td>\n",
       "      <td>0.285322</td>\n",
       "    </tr>\n",
       "    <tr>\n",
       "      <th>Fat Free</th>\n",
       "      <td>0.138566</td>\n",
       "      <td>0.138807</td>\n",
       "      <td>0.155550</td>\n",
       "      <td>0.194546</td>\n",
       "      <td>0.285322</td>\n",
       "      <td>1.000000</td>\n",
       "    </tr>\n",
       "  </tbody>\n",
       "</table>\n",
       "</div>"
      ],
      "text/plain": [
       "                   Peanut Free  Soy Free  Tree Nut Free  Wheat/Gluten-Free  \\\n",
       "Peanut Free           1.000000  0.940356       0.818149           0.530327   \n",
       "Soy Free              0.940356  1.000000       0.795322           0.544888   \n",
       "Tree Nut Free         0.818149  0.795322       1.000000           0.490006   \n",
       "Wheat/Gluten-Free     0.530327  0.544888       0.490006           1.000000   \n",
       "Dairy Free            0.414655  0.365398       0.428717           0.428693   \n",
       "Fat Free              0.138566  0.138807       0.155550           0.194546   \n",
       "\n",
       "                   Dairy Free  Fat Free  \n",
       "Peanut Free          0.414655  0.138566  \n",
       "Soy Free             0.365398  0.138807  \n",
       "Tree Nut Free        0.428717  0.155550  \n",
       "Wheat/Gluten-Free    0.428693  0.194546  \n",
       "Dairy Free           1.000000  0.285322  \n",
       "Fat Free             0.285322  1.000000  "
      ]
     },
     "execution_count": 136,
     "metadata": {},
     "output_type": "execute_result"
    }
   ],
   "source": [
    "print(\"Correlation Table for Allergy Tags\")\n",
    "allergy_corr_df.corr()"
   ]
  },
  {
   "cell_type": "code",
   "execution_count": 137,
   "metadata": {},
   "outputs": [
    {
     "data": {
      "image/png": "[encoded data removed]",
      "text/plain": [
       "<Figure size 432x288 with 2 Axes>"
      ]
     },
     "metadata": {
      "needs_background": "light"
     },
     "output_type": "display_data"
    }
   ],
   "source": [
    "sns.heatmap(allergy_corr_df.corr(),xticklabels=allergy_corr_df.columns,yticklabels=allergy_corr_df.columns,linewidth=.5,cmap=sns.diverging_palette(220, 10, as_cmap=True))\n",
    "plt.title(\"Correlation between Allergy Tags\")\n",
    "plt.savefig(\"allergycorr.png\")\n",
    "plt.show()"
   ]
  },
  {
   "cell_type": "code",
   "execution_count": 138,
   "metadata": {
    "scrolled": true
   },
   "outputs": [],
   "source": [
    "reviews = ['avg_rating','best_rating','prepare_again_rating','num_reviews']\n",
    "review_df = sample_df[reviews].dropna()\n",
    "review_df = review_df[review_df.columns].astype(float)\n"
   ]
  },
  {
   "cell_type": "code",
   "execution_count": 139,
   "metadata": {},
   "outputs": [
    {
     "data": {
      "text/html": [
       "<div>\n",
       "<style scoped>\n",
       "    .dataframe tbody tr th:only-of-type {\n",
       "        vertical-align: middle;\n",
       "    }\n",
       "\n",
       "    .dataframe tbody tr th {\n",
       "        vertical-align: top;\n",
       "    }\n",
       "\n",
       "    .dataframe thead th {\n",
       "        text-align: right;\n",
       "    }\n",
       "</style>\n",
       "<table border=\"1\" class=\"dataframe\">\n",
       "  <thead>\n",
       "    <tr style=\"text-align: right;\">\n",
       "      <th></th>\n",
       "      <th>avg_rating</th>\n",
       "      <th>best_rating</th>\n",
       "      <th>prepare_again_rating</th>\n",
       "      <th>num_reviews</th>\n",
       "    </tr>\n",
       "  </thead>\n",
       "  <tbody>\n",
       "    <tr>\n",
       "      <th>avg_rating</th>\n",
       "      <td>1.000000</td>\n",
       "      <td>0.073654</td>\n",
       "      <td>0.824393</td>\n",
       "      <td>0.218885</td>\n",
       "    </tr>\n",
       "    <tr>\n",
       "      <th>best_rating</th>\n",
       "      <td>0.073654</td>\n",
       "      <td>1.000000</td>\n",
       "      <td>0.065569</td>\n",
       "      <td>0.014233</td>\n",
       "    </tr>\n",
       "    <tr>\n",
       "      <th>prepare_again_rating</th>\n",
       "      <td>0.824393</td>\n",
       "      <td>0.065569</td>\n",
       "      <td>1.000000</td>\n",
       "      <td>0.211160</td>\n",
       "    </tr>\n",
       "    <tr>\n",
       "      <th>num_reviews</th>\n",
       "      <td>0.218885</td>\n",
       "      <td>0.014233</td>\n",
       "      <td>0.211160</td>\n",
       "      <td>1.000000</td>\n",
       "    </tr>\n",
       "  </tbody>\n",
       "</table>\n",
       "</div>"
      ],
      "text/plain": [
       "                      avg_rating  best_rating  prepare_again_rating  \\\n",
       "avg_rating              1.000000     0.073654              0.824393   \n",
       "best_rating             0.073654     1.000000              0.065569   \n",
       "prepare_again_rating    0.824393     0.065569              1.000000   \n",
       "num_reviews             0.218885     0.014233              0.211160   \n",
       "\n",
       "                      num_reviews  \n",
       "avg_rating               0.218885  \n",
       "best_rating              0.014233  \n",
       "prepare_again_rating     0.211160  \n",
       "num_reviews              1.000000  "
      ]
     },
     "execution_count": 139,
     "metadata": {},
     "output_type": "execute_result"
    }
   ],
   "source": [
    "review_df.corr()"
   ]
  },
  {
   "cell_type": "code",
   "execution_count": 140,
   "metadata": {},
   "outputs": [
    {
     "data": {
      "image/png": "[encoded data removed]",
      "text/plain": [
       "<Figure size 432x288 with 2 Axes>"
      ]
     },
     "metadata": {
      "needs_background": "light"
     },
     "output_type": "display_data"
    }
   ],
   "source": [
    "sns.heatmap(review_df.corr(),xticklabels=review_df.columns,yticklabels=review_df.columns,linewidth=.5,cmap=sns.diverging_palette(220, 10, as_cmap=True))\n",
    "plt.title(\"Correlation between Recipe Reviews\")\n",
    "plt.savefig(\"reiviewcorr.png\")\n",
    "plt.show()"
   ]
  },
  {
   "cell_type": "code",
   "execution_count": 141,
   "metadata": {},
   "outputs": [
    {
     "data": {
      "text/plain": [
       "(20000, 6)"
      ]
     },
     "execution_count": 141,
     "metadata": {},
     "output_type": "execute_result"
    }
   ],
   "source": [
    "sample_df[allergy].shape"
   ]
  },
  {
   "cell_type": "code",
   "execution_count": 142,
   "metadata": {
    "scrolled": true
   },
   "outputs": [
    {
     "data": {
      "text/html": [
       "<div>\n",
       "<style scoped>\n",
       "    .dataframe tbody tr th:only-of-type {\n",
       "        vertical-align: middle;\n",
       "    }\n",
       "\n",
       "    .dataframe tbody tr th {\n",
       "        vertical-align: top;\n",
       "    }\n",
       "\n",
       "    .dataframe thead th {\n",
       "        text-align: right;\n",
       "    }\n",
       "</style>\n",
       "<table border=\"1\" class=\"dataframe\">\n",
       "  <thead>\n",
       "    <tr style=\"text-align: right;\">\n",
       "      <th></th>\n",
       "      <th>Peanut Free</th>\n",
       "      <th>Soy Free</th>\n",
       "      <th>Tree Nut Free</th>\n",
       "      <th>Wheat/Gluten-Free</th>\n",
       "      <th>Dairy Free</th>\n",
       "      <th>Fat Free</th>\n",
       "    </tr>\n",
       "  </thead>\n",
       "  <tbody>\n",
       "    <tr>\n",
       "      <th>0</th>\n",
       "      <td>10687</td>\n",
       "      <td>10906</td>\n",
       "      <td>12220</td>\n",
       "      <td>14718</td>\n",
       "      <td>16845</td>\n",
       "      <td>19635</td>\n",
       "    </tr>\n",
       "    <tr>\n",
       "      <th>1</th>\n",
       "      <td>9313</td>\n",
       "      <td>9094</td>\n",
       "      <td>7780</td>\n",
       "      <td>5282</td>\n",
       "      <td>3155</td>\n",
       "      <td>365</td>\n",
       "    </tr>\n",
       "  </tbody>\n",
       "</table>\n",
       "</div>"
      ],
      "text/plain": [
       "   Peanut Free  Soy Free  Tree Nut Free  Wheat/Gluten-Free  Dairy Free  \\\n",
       "0        10687     10906          12220              14718       16845   \n",
       "1         9313      9094           7780               5282        3155   \n",
       "\n",
       "   Fat Free  \n",
       "0     19635  \n",
       "1       365  "
      ]
     },
     "execution_count": 142,
     "metadata": {},
     "output_type": "execute_result"
    }
   ],
   "source": [
    "sample_df[allergy].apply(pd.value_counts)"
   ]
  },
  {
   "cell_type": "code",
   "execution_count": 143,
   "metadata": {},
   "outputs": [],
   "source": [
    "# sample_df[allergy][(sample_df['Peanut Free'] == 1) & (sample_df['usa_cuisine'] == 1)].shape"
   ]
  },
  {
   "cell_type": "code",
   "execution_count": 144,
   "metadata": {},
   "outputs": [
    {
     "name": "stdout",
     "output_type": "stream",
     "text": [
      "Peanut Free\n",
      "Soy Free\n",
      "Tree Nut Free\n",
      "Wheat/Gluten-Free\n",
      "Dairy Free\n"
     ]
    }
   ],
   "source": [
    "for i in allergy[:-1]:\n",
    "    print(i)"
   ]
  },
  {
   "cell_type": "code",
   "execution_count": 145,
   "metadata": {},
   "outputs": [
    {
     "data": {
      "text/html": [
       "<div>\n",
       "<style scoped>\n",
       "    .dataframe tbody tr th:only-of-type {\n",
       "        vertical-align: middle;\n",
       "    }\n",
       "\n",
       "    .dataframe tbody tr th {\n",
       "        vertical-align: top;\n",
       "    }\n",
       "\n",
       "    .dataframe thead th {\n",
       "        text-align: right;\n",
       "    }\n",
       "</style>\n",
       "<table border=\"1\" class=\"dataframe\">\n",
       "  <thead>\n",
       "    <tr style=\"text-align: right;\">\n",
       "      <th></th>\n",
       "      <th>Peanut Free</th>\n",
       "      <th>Soy Free</th>\n",
       "      <th>Tree Nut Free</th>\n",
       "      <th>Wheat/Gluten-Free</th>\n",
       "      <th>Dairy Free</th>\n",
       "      <th>Fat Free</th>\n",
       "    </tr>\n",
       "  </thead>\n",
       "  <tbody>\n",
       "    <tr>\n",
       "      <th>http://www.epicurious.com/recipes/food/views/-adult-pimiento-cheese-100852</th>\n",
       "      <td>0</td>\n",
       "      <td>0</td>\n",
       "      <td>0</td>\n",
       "      <td>0</td>\n",
       "      <td>0</td>\n",
       "      <td>0</td>\n",
       "    </tr>\n",
       "    <tr>\n",
       "      <th>http://www.epicurious.com/recipes/food/views/-an-apple-a-day-51133430</th>\n",
       "      <td>1</td>\n",
       "      <td>1</td>\n",
       "      <td>0</td>\n",
       "      <td>0</td>\n",
       "      <td>0</td>\n",
       "      <td>0</td>\n",
       "    </tr>\n",
       "    <tr>\n",
       "      <th>http://www.epicurious.com/recipes/food/views/-blanketed-eggplant-305</th>\n",
       "      <td>0</td>\n",
       "      <td>0</td>\n",
       "      <td>0</td>\n",
       "      <td>0</td>\n",
       "      <td>0</td>\n",
       "      <td>0</td>\n",
       "    </tr>\n",
       "    <tr>\n",
       "      <th>http://www.epicurious.com/recipes/food/views/-bloody-mary-tomato-toast-with-celery-and-horseradish-56389813</th>\n",
       "      <td>1</td>\n",
       "      <td>1</td>\n",
       "      <td>1</td>\n",
       "      <td>0</td>\n",
       "      <td>1</td>\n",
       "      <td>0</td>\n",
       "    </tr>\n",
       "    <tr>\n",
       "      <th>http://www.epicurious.com/recipes/food/views/-bow-tie-pasta-with-zucchini-101932</th>\n",
       "      <td>1</td>\n",
       "      <td>1</td>\n",
       "      <td>1</td>\n",
       "      <td>0</td>\n",
       "      <td>0</td>\n",
       "      <td>0</td>\n",
       "    </tr>\n",
       "  </tbody>\n",
       "</table>\n",
       "</div>"
      ],
      "text/plain": [
       "                                                    Peanut Free  Soy Free  \\\n",
       "http://www.epicurious.com/recipes/food/views/-a...            0         0   \n",
       "http://www.epicurious.com/recipes/food/views/-a...            1         1   \n",
       "http://www.epicurious.com/recipes/food/views/-b...            0         0   \n",
       "http://www.epicurious.com/recipes/food/views/-b...            1         1   \n",
       "http://www.epicurious.com/recipes/food/views/-b...            1         1   \n",
       "\n",
       "                                                    Tree Nut Free  \\\n",
       "http://www.epicurious.com/recipes/food/views/-a...              0   \n",
       "http://www.epicurious.com/recipes/food/views/-a...              0   \n",
       "http://www.epicurious.com/recipes/food/views/-b...              0   \n",
       "http://www.epicurious.com/recipes/food/views/-b...              1   \n",
       "http://www.epicurious.com/recipes/food/views/-b...              1   \n",
       "\n",
       "                                                    Wheat/Gluten-Free  \\\n",
       "http://www.epicurious.com/recipes/food/views/-a...                  0   \n",
       "http://www.epicurious.com/recipes/food/views/-a...                  0   \n",
       "http://www.epicurious.com/recipes/food/views/-b...                  0   \n",
       "http://www.epicurious.com/recipes/food/views/-b...                  0   \n",
       "http://www.epicurious.com/recipes/food/views/-b...                  0   \n",
       "\n",
       "                                                    Dairy Free  Fat Free  \n",
       "http://www.epicurious.com/recipes/food/views/-a...           0         0  \n",
       "http://www.epicurious.com/recipes/food/views/-a...           0         0  \n",
       "http://www.epicurious.com/recipes/food/views/-b...           0         0  \n",
       "http://www.epicurious.com/recipes/food/views/-b...           1         0  \n",
       "http://www.epicurious.com/recipes/food/views/-b...           0         0  "
      ]
     },
     "execution_count": 145,
     "metadata": {},
     "output_type": "execute_result"
    }
   ],
   "source": [
    "copy = sample_df[allergy]\n",
    "copy.head()"
   ]
  },
  {
   "cell_type": "code",
   "execution_count": 146,
   "metadata": {},
   "outputs": [],
   "source": [
    "# copy = copy[(copy['usa_cuisine'] != 2)]"
   ]
  },
  {
   "cell_type": "code",
   "execution_count": 147,
   "metadata": {},
   "outputs": [],
   "source": [
    "def plotgraph(df,title,x):\n",
    "    df.plot.hist(x=x,y='usa_cuisine',figsize=(5,5),grid=True)\n",
    "    plt.title(title)\n",
    "    plt.xlabel('usa_cuisine')\n",
    "    plt.ylabel(x)\n",
    "    "
   ]
  },
  {
   "cell_type": "code",
   "execution_count": null,
   "metadata": {},
   "outputs": [],
   "source": []
  },
  {
   "cell_type": "code",
   "execution_count": 148,
   "metadata": {},
   "outputs": [
    {
     "data": {
      "text/plain": [
       "10232"
      ]
     },
     "execution_count": 148,
     "metadata": {},
     "output_type": "execute_result"
    }
   ],
   "source": [
    "c[c['allergy_tags']==True]"
   ]
  },
  {
   "cell_type": "code",
   "execution_count": null,
   "metadata": {},
   "outputs": [],
   "source": []
  },
  {
   "cell_type": "code",
   "execution_count": 149,
   "metadata": {
    "scrolled": false
   },
   "outputs": [],
   "source": [
    "# # copy = dropColumn(copy,['avg_rating','best_rating','prepare_again_rating','num_reviews','tags','title'])\n",
    "# # print(copy.shape)\n",
    "# for i in allergy:\n",
    "#     allergy_df = copy[(copy[i] == 1)]\n",
    "#     allergy_df = allergy_df[['usa_cuisine',i]]\n",
    "# #     print(allergy_df.head())\n",
    "# #     print(allergy_df.shape)\n",
    "#     allergy_df.plot.hist(x=i,y='usa_cuisine',figsize=(5,3),grid=True)\n",
    "#     plt.title('Cuisine and Allergy')\n",
    "#     plt.xlabel('usa_cuisine')\n",
    "#     plt.ylabel(i)\n",
    "# #     plotgraph(allergy_df,'Cuisine and Allergy',i)\n",
    "    \n"
   ]
  },
  {
   "cell_type": "code",
   "execution_count": 150,
   "metadata": {},
   "outputs": [
    {
     "data": {
      "text/html": [
       "<div>\n",
       "<style scoped>\n",
       "    .dataframe tbody tr th:only-of-type {\n",
       "        vertical-align: middle;\n",
       "    }\n",
       "\n",
       "    .dataframe tbody tr th {\n",
       "        vertical-align: top;\n",
       "    }\n",
       "\n",
       "    .dataframe thead th {\n",
       "        text-align: right;\n",
       "    }\n",
       "</style>\n",
       "<table border=\"1\" class=\"dataframe\">\n",
       "  <thead>\n",
       "    <tr style=\"text-align: right;\">\n",
       "      <th></th>\n",
       "      <th>Peanut Free</th>\n",
       "      <th>Soy Free</th>\n",
       "      <th>Tree Nut Free</th>\n",
       "      <th>Wheat/Gluten-Free</th>\n",
       "      <th>Dairy Free</th>\n",
       "      <th>Fat Free</th>\n",
       "    </tr>\n",
       "  </thead>\n",
       "  <tbody>\n",
       "    <tr>\n",
       "      <th>http://www.epicurious.com/recipes/food/views/-adult-pimiento-cheese-100852</th>\n",
       "      <td>0</td>\n",
       "      <td>0</td>\n",
       "      <td>0</td>\n",
       "      <td>0</td>\n",
       "      <td>0</td>\n",
       "      <td>0</td>\n",
       "    </tr>\n",
       "    <tr>\n",
       "      <th>http://www.epicurious.com/recipes/food/views/-an-apple-a-day-51133430</th>\n",
       "      <td>1</td>\n",
       "      <td>1</td>\n",
       "      <td>0</td>\n",
       "      <td>0</td>\n",
       "      <td>0</td>\n",
       "      <td>0</td>\n",
       "    </tr>\n",
       "    <tr>\n",
       "      <th>http://www.epicurious.com/recipes/food/views/-blanketed-eggplant-305</th>\n",
       "      <td>0</td>\n",
       "      <td>0</td>\n",
       "      <td>0</td>\n",
       "      <td>0</td>\n",
       "      <td>0</td>\n",
       "      <td>0</td>\n",
       "    </tr>\n",
       "    <tr>\n",
       "      <th>http://www.epicurious.com/recipes/food/views/-bloody-mary-tomato-toast-with-celery-and-horseradish-56389813</th>\n",
       "      <td>1</td>\n",
       "      <td>1</td>\n",
       "      <td>1</td>\n",
       "      <td>0</td>\n",
       "      <td>1</td>\n",
       "      <td>0</td>\n",
       "    </tr>\n",
       "    <tr>\n",
       "      <th>http://www.epicurious.com/recipes/food/views/-bow-tie-pasta-with-zucchini-101932</th>\n",
       "      <td>1</td>\n",
       "      <td>1</td>\n",
       "      <td>1</td>\n",
       "      <td>0</td>\n",
       "      <td>0</td>\n",
       "      <td>0</td>\n",
       "    </tr>\n",
       "  </tbody>\n",
       "</table>\n",
       "</div>"
      ],
      "text/plain": [
       "                                                    Peanut Free  Soy Free  \\\n",
       "http://www.epicurious.com/recipes/food/views/-a...            0         0   \n",
       "http://www.epicurious.com/recipes/food/views/-a...            1         1   \n",
       "http://www.epicurious.com/recipes/food/views/-b...            0         0   \n",
       "http://www.epicurious.com/recipes/food/views/-b...            1         1   \n",
       "http://www.epicurious.com/recipes/food/views/-b...            1         1   \n",
       "\n",
       "                                                    Tree Nut Free  \\\n",
       "http://www.epicurious.com/recipes/food/views/-a...              0   \n",
       "http://www.epicurious.com/recipes/food/views/-a...              0   \n",
       "http://www.epicurious.com/recipes/food/views/-b...              0   \n",
       "http://www.epicurious.com/recipes/food/views/-b...              1   \n",
       "http://www.epicurious.com/recipes/food/views/-b...              1   \n",
       "\n",
       "                                                    Wheat/Gluten-Free  \\\n",
       "http://www.epicurious.com/recipes/food/views/-a...                  0   \n",
       "http://www.epicurious.com/recipes/food/views/-a...                  0   \n",
       "http://www.epicurious.com/recipes/food/views/-b...                  0   \n",
       "http://www.epicurious.com/recipes/food/views/-b...                  0   \n",
       "http://www.epicurious.com/recipes/food/views/-b...                  0   \n",
       "\n",
       "                                                    Dairy Free  Fat Free  \n",
       "http://www.epicurious.com/recipes/food/views/-a...           0         0  \n",
       "http://www.epicurious.com/recipes/food/views/-a...           0         0  \n",
       "http://www.epicurious.com/recipes/food/views/-b...           0         0  \n",
       "http://www.epicurious.com/recipes/food/views/-b...           1         0  \n",
       "http://www.epicurious.com/recipes/food/views/-b...           0         0  "
      ]
     },
     "execution_count": 150,
     "metadata": {},
     "output_type": "execute_result"
    }
   ],
   "source": [
    "copy.head()"
   ]
  },
  {
   "cell_type": "code",
   "execution_count": 151,
   "metadata": {
    "scrolled": true
   },
   "outputs": [
    {
     "data": {
      "image/png": "[encoded data removed]",
      "text/plain": [
       "<Figure size 432x288 with 1 Axes>"
      ]
     },
     "metadata": {
      "needs_background": "light"
     },
     "output_type": "display_data"
    }
   ],
   "source": [
    "copy.plot.hist(alpha=0.4,density=True,bins=3)\n",
    "plt.show()"
   ]
  },
  {
   "cell_type": "code",
   "execution_count": null,
   "metadata": {},
   "outputs": [],
   "source": []
  },
  {
   "cell_type": "code",
   "execution_count": null,
   "metadata": {},
   "outputs": [],
   "source": []
  },
  {
   "cell_type": "markdown",
   "metadata": {},
   "source": [
    "### Deletes Not used columns"
   ]
  },
  {
   "cell_type": "code",
   "execution_count": 152,
   "metadata": {},
   "outputs": [],
   "source": [
    "drop_column = ['avg_rating','best_rating','prepare_again_rating','num_reviews','usa_cuisine','tags','title','season']\n",
    "label_column = ['Peanut Free','Soy Free','Tree Nut Free','Wheat/Gluten-Free','Dairy Free','Fat Free']\n",
    "\n",
    "# copy1 = sample_df\n",
    "# copy2 = sample_df\n",
    "# usa_tag_df = deleterows(copy1,'usa_cuisine',2,'',True)\n",
    "# no_cuisine_tag_df = deleterows(copy2,'usa_cuisine',1,0,False)\n"
   ]
  },
  {
   "cell_type": "code",
   "execution_count": 153,
   "metadata": {},
   "outputs": [
    {
     "data": {
      "text/html": [
       "<div>\n",
       "<style scoped>\n",
       "    .dataframe tbody tr th:only-of-type {\n",
       "        vertical-align: middle;\n",
       "    }\n",
       "\n",
       "    .dataframe tbody tr th {\n",
       "        vertical-align: top;\n",
       "    }\n",
       "\n",
       "    .dataframe thead th {\n",
       "        text-align: right;\n",
       "    }\n",
       "</style>\n",
       "<table border=\"1\" class=\"dataframe\">\n",
       "  <thead>\n",
       "    <tr style=\"text-align: right;\">\n",
       "      <th></th>\n",
       "      <th>Aleppo chili</th>\n",
       "      <th>Aleppo chili flake</th>\n",
       "      <th>Aleppo pepper</th>\n",
       "      <th>Amaretto</th>\n",
       "      <th>Amaretto liqueur</th>\n",
       "      <th>Amaro Montenegro</th>\n",
       "      <th>Amontillado sherry</th>\n",
       "      <th>Anaheim chili</th>\n",
       "      <th>Anaheim pepper</th>\n",
       "      <th>Ancho Chili Sauce</th>\n",
       "      <th>...</th>\n",
       "      <th>tags</th>\n",
       "      <th>title</th>\n",
       "      <th>usa_cuisine</th>\n",
       "      <th>Peanut Free</th>\n",
       "      <th>Soy Free</th>\n",
       "      <th>Tree Nut Free</th>\n",
       "      <th>Wheat/Gluten-Free</th>\n",
       "      <th>Dairy Free</th>\n",
       "      <th>Fat Free</th>\n",
       "      <th>season</th>\n",
       "    </tr>\n",
       "  </thead>\n",
       "  <tbody>\n",
       "    <tr>\n",
       "      <th>http://www.epicurious.com/recipes/food/views/-adult-pimiento-cheese-100852</th>\n",
       "      <td>0.0</td>\n",
       "      <td>0.0</td>\n",
       "      <td>0.0</td>\n",
       "      <td>0.0</td>\n",
       "      <td>0.0</td>\n",
       "      <td>0.0</td>\n",
       "      <td>0.0</td>\n",
       "      <td>0.0</td>\n",
       "      <td>0.0</td>\n",
       "      <td>0.0</td>\n",
       "      <td>...</td>\n",
       "      <td>[Cheese, Vegetable, No-Cook, Vegetarian, Quick...</td>\n",
       "      <td>\"Adult\" Pimiento Cheese</td>\n",
       "      <td>1</td>\n",
       "      <td>0</td>\n",
       "      <td>0</td>\n",
       "      <td>0</td>\n",
       "      <td>0</td>\n",
       "      <td>0</td>\n",
       "      <td>0</td>\n",
       "      <td>4</td>\n",
       "    </tr>\n",
       "    <tr>\n",
       "      <th>http://www.epicurious.com/recipes/food/views/-an-apple-a-day-51133430</th>\n",
       "      <td>0.0</td>\n",
       "      <td>0.0</td>\n",
       "      <td>0.0</td>\n",
       "      <td>0.0</td>\n",
       "      <td>0.0</td>\n",
       "      <td>0.0</td>\n",
       "      <td>0.0</td>\n",
       "      <td>0.0</td>\n",
       "      <td>0.0</td>\n",
       "      <td>0.0</td>\n",
       "      <td>...</td>\n",
       "      <td>[Ginger, Dessert, Bake, Apple, Almond, Fall, R...</td>\n",
       "      <td>\"An Apple a Day\"</td>\n",
       "      <td>2</td>\n",
       "      <td>1</td>\n",
       "      <td>1</td>\n",
       "      <td>0</td>\n",
       "      <td>0</td>\n",
       "      <td>0</td>\n",
       "      <td>0</td>\n",
       "      <td>3</td>\n",
       "    </tr>\n",
       "    <tr>\n",
       "      <th>http://www.epicurious.com/recipes/food/views/-blanketed-eggplant-305</th>\n",
       "      <td>0.0</td>\n",
       "      <td>0.0</td>\n",
       "      <td>0.0</td>\n",
       "      <td>0.0</td>\n",
       "      <td>0.0</td>\n",
       "      <td>0.0</td>\n",
       "      <td>0.0</td>\n",
       "      <td>0.0</td>\n",
       "      <td>0.0</td>\n",
       "      <td>0.0</td>\n",
       "      <td>...</td>\n",
       "      <td>[Tomato, Vegetable, Appetizer, Side, Vegetaria...</td>\n",
       "      <td>\"Blanketed\" Eggplant</td>\n",
       "      <td>2</td>\n",
       "      <td>0</td>\n",
       "      <td>0</td>\n",
       "      <td>0</td>\n",
       "      <td>0</td>\n",
       "      <td>0</td>\n",
       "      <td>0</td>\n",
       "      <td>0</td>\n",
       "    </tr>\n",
       "    <tr>\n",
       "      <th>http://www.epicurious.com/recipes/food/views/-bloody-mary-tomato-toast-with-celery-and-horseradish-56389813</th>\n",
       "      <td>0.0</td>\n",
       "      <td>0.0</td>\n",
       "      <td>0.0</td>\n",
       "      <td>0.0</td>\n",
       "      <td>0.0</td>\n",
       "      <td>0.0</td>\n",
       "      <td>0.0</td>\n",
       "      <td>0.0</td>\n",
       "      <td>0.0</td>\n",
       "      <td>0.0</td>\n",
       "      <td>...</td>\n",
       "      <td>[Condiment/Spread, Tomato, Appetizer, Kid-Frie...</td>\n",
       "      <td>\"Bloody Mary\" Tomato Toast with Celery and Hor...</td>\n",
       "      <td>2</td>\n",
       "      <td>1</td>\n",
       "      <td>1</td>\n",
       "      <td>1</td>\n",
       "      <td>0</td>\n",
       "      <td>1</td>\n",
       "      <td>0</td>\n",
       "      <td>1</td>\n",
       "    </tr>\n",
       "    <tr>\n",
       "      <th>http://www.epicurious.com/recipes/food/views/-bow-tie-pasta-with-zucchini-101932</th>\n",
       "      <td>0.0</td>\n",
       "      <td>0.0</td>\n",
       "      <td>0.0</td>\n",
       "      <td>0.0</td>\n",
       "      <td>0.0</td>\n",
       "      <td>0.0</td>\n",
       "      <td>0.0</td>\n",
       "      <td>0.0</td>\n",
       "      <td>0.0</td>\n",
       "      <td>0.0</td>\n",
       "      <td>...</td>\n",
       "      <td>[Pasta, Vegetarian, Quick &amp; Easy, Dinner, Basi...</td>\n",
       "      <td>\"Bow-Tie\" Pasta with Zucchini</td>\n",
       "      <td>2</td>\n",
       "      <td>1</td>\n",
       "      <td>1</td>\n",
       "      <td>1</td>\n",
       "      <td>0</td>\n",
       "      <td>0</td>\n",
       "      <td>0</td>\n",
       "      <td>2</td>\n",
       "    </tr>\n",
       "  </tbody>\n",
       "</table>\n",
       "<p>5 rows × 3884 columns</p>\n",
       "</div>"
      ],
      "text/plain": [
       "                                                    Aleppo chili  \\\n",
       "http://www.epicurious.com/recipes/food/views/-a...           0.0   \n",
       "http://www.epicurious.com/recipes/food/views/-a...           0.0   \n",
       "http://www.epicurious.com/recipes/food/views/-b...           0.0   \n",
       "http://www.epicurious.com/recipes/food/views/-b...           0.0   \n",
       "http://www.epicurious.com/recipes/food/views/-b...           0.0   \n",
       "\n",
       "                                                    Aleppo chili flake  \\\n",
       "http://www.epicurious.com/recipes/food/views/-a...                 0.0   \n",
       "http://www.epicurious.com/recipes/food/views/-a...                 0.0   \n",
       "http://www.epicurious.com/recipes/food/views/-b...                 0.0   \n",
       "http://www.epicurious.com/recipes/food/views/-b...                 0.0   \n",
       "http://www.epicurious.com/recipes/food/views/-b...                 0.0   \n",
       "\n",
       "                                                    Aleppo pepper  Amaretto  \\\n",
       "http://www.epicurious.com/recipes/food/views/-a...            0.0       0.0   \n",
       "http://www.epicurious.com/recipes/food/views/-a...            0.0       0.0   \n",
       "http://www.epicurious.com/recipes/food/views/-b...            0.0       0.0   \n",
       "http://www.epicurious.com/recipes/food/views/-b...            0.0       0.0   \n",
       "http://www.epicurious.com/recipes/food/views/-b...            0.0       0.0   \n",
       "\n",
       "                                                    Amaretto liqueur  \\\n",
       "http://www.epicurious.com/recipes/food/views/-a...               0.0   \n",
       "http://www.epicurious.com/recipes/food/views/-a...               0.0   \n",
       "http://www.epicurious.com/recipes/food/views/-b...               0.0   \n",
       "http://www.epicurious.com/recipes/food/views/-b...               0.0   \n",
       "http://www.epicurious.com/recipes/food/views/-b...               0.0   \n",
       "\n",
       "                                                    Amaro Montenegro  \\\n",
       "http://www.epicurious.com/recipes/food/views/-a...               0.0   \n",
       "http://www.epicurious.com/recipes/food/views/-a...               0.0   \n",
       "http://www.epicurious.com/recipes/food/views/-b...               0.0   \n",
       "http://www.epicurious.com/recipes/food/views/-b...               0.0   \n",
       "http://www.epicurious.com/recipes/food/views/-b...               0.0   \n",
       "\n",
       "                                                    Amontillado sherry  \\\n",
       "http://www.epicurious.com/recipes/food/views/-a...                 0.0   \n",
       "http://www.epicurious.com/recipes/food/views/-a...                 0.0   \n",
       "http://www.epicurious.com/recipes/food/views/-b...                 0.0   \n",
       "http://www.epicurious.com/recipes/food/views/-b...                 0.0   \n",
       "http://www.epicurious.com/recipes/food/views/-b...                 0.0   \n",
       "\n",
       "                                                    Anaheim chili  \\\n",
       "http://www.epicurious.com/recipes/food/views/-a...            0.0   \n",
       "http://www.epicurious.com/recipes/food/views/-a...            0.0   \n",
       "http://www.epicurious.com/recipes/food/views/-b...            0.0   \n",
       "http://www.epicurious.com/recipes/food/views/-b...            0.0   \n",
       "http://www.epicurious.com/recipes/food/views/-b...            0.0   \n",
       "\n",
       "                                                    Anaheim pepper  \\\n",
       "http://www.epicurious.com/recipes/food/views/-a...             0.0   \n",
       "http://www.epicurious.com/recipes/food/views/-a...             0.0   \n",
       "http://www.epicurious.com/recipes/food/views/-b...             0.0   \n",
       "http://www.epicurious.com/recipes/food/views/-b...             0.0   \n",
       "http://www.epicurious.com/recipes/food/views/-b...             0.0   \n",
       "\n",
       "                                                    Ancho Chili Sauce  ...  \\\n",
       "http://www.epicurious.com/recipes/food/views/-a...                0.0  ...   \n",
       "http://www.epicurious.com/recipes/food/views/-a...                0.0  ...   \n",
       "http://www.epicurious.com/recipes/food/views/-b...                0.0  ...   \n",
       "http://www.epicurious.com/recipes/food/views/-b...                0.0  ...   \n",
       "http://www.epicurious.com/recipes/food/views/-b...                0.0  ...   \n",
       "\n",
       "                                                                                                 tags  \\\n",
       "http://www.epicurious.com/recipes/food/views/-a...  [Cheese, Vegetable, No-Cook, Vegetarian, Quick...   \n",
       "http://www.epicurious.com/recipes/food/views/-a...  [Ginger, Dessert, Bake, Apple, Almond, Fall, R...   \n",
       "http://www.epicurious.com/recipes/food/views/-b...  [Tomato, Vegetable, Appetizer, Side, Vegetaria...   \n",
       "http://www.epicurious.com/recipes/food/views/-b...  [Condiment/Spread, Tomato, Appetizer, Kid-Frie...   \n",
       "http://www.epicurious.com/recipes/food/views/-b...  [Pasta, Vegetarian, Quick & Easy, Dinner, Basi...   \n",
       "\n",
       "                                                                                                title  \\\n",
       "http://www.epicurious.com/recipes/food/views/-a...                           \"Adult\" Pimiento Cheese    \n",
       "http://www.epicurious.com/recipes/food/views/-a...                                  \"An Apple a Day\"    \n",
       "http://www.epicurious.com/recipes/food/views/-b...                              \"Blanketed\" Eggplant    \n",
       "http://www.epicurious.com/recipes/food/views/-b...  \"Bloody Mary\" Tomato Toast with Celery and Hor...   \n",
       "http://www.epicurious.com/recipes/food/views/-b...                     \"Bow-Tie\" Pasta with Zucchini    \n",
       "\n",
       "                                                    usa_cuisine  Peanut Free  \\\n",
       "http://www.epicurious.com/recipes/food/views/-a...            1            0   \n",
       "http://www.epicurious.com/recipes/food/views/-a...            2            1   \n",
       "http://www.epicurious.com/recipes/food/views/-b...            2            0   \n",
       "http://www.epicurious.com/recipes/food/views/-b...            2            1   \n",
       "http://www.epicurious.com/recipes/food/views/-b...            2            1   \n",
       "\n",
       "                                                    Soy Free  Tree Nut Free  \\\n",
       "http://www.epicurious.com/recipes/food/views/-a...         0              0   \n",
       "http://www.epicurious.com/recipes/food/views/-a...         1              0   \n",
       "http://www.epicurious.com/recipes/food/views/-b...         0              0   \n",
       "http://www.epicurious.com/recipes/food/views/-b...         1              1   \n",
       "http://www.epicurious.com/recipes/food/views/-b...         1              1   \n",
       "\n",
       "                                                    Wheat/Gluten-Free  \\\n",
       "http://www.epicurious.com/recipes/food/views/-a...                  0   \n",
       "http://www.epicurious.com/recipes/food/views/-a...                  0   \n",
       "http://www.epicurious.com/recipes/food/views/-b...                  0   \n",
       "http://www.epicurious.com/recipes/food/views/-b...                  0   \n",
       "http://www.epicurious.com/recipes/food/views/-b...                  0   \n",
       "\n",
       "                                                    Dairy Free  Fat Free  \\\n",
       "http://www.epicurious.com/recipes/food/views/-a...           0         0   \n",
       "http://www.epicurious.com/recipes/food/views/-a...           0         0   \n",
       "http://www.epicurious.com/recipes/food/views/-b...           0         0   \n",
       "http://www.epicurious.com/recipes/food/views/-b...           1         0   \n",
       "http://www.epicurious.com/recipes/food/views/-b...           0         0   \n",
       "\n",
       "                                                    season  \n",
       "http://www.epicurious.com/recipes/food/views/-a...       4  \n",
       "http://www.epicurious.com/recipes/food/views/-a...       3  \n",
       "http://www.epicurious.com/recipes/food/views/-b...       0  \n",
       "http://www.epicurious.com/recipes/food/views/-b...       1  \n",
       "http://www.epicurious.com/recipes/food/views/-b...       2  \n",
       "\n",
       "[5 rows x 3884 columns]"
      ]
     },
     "execution_count": 153,
     "metadata": {},
     "output_type": "execute_result"
    }
   ],
   "source": [
    "sample_df.head()"
   ]
  },
  {
   "cell_type": "code",
   "execution_count": 154,
   "metadata": {},
   "outputs": [],
   "source": [
    "sample_df = dropColumn(sample_df,drop_column)"
   ]
  },
  {
   "cell_type": "code",
   "execution_count": 155,
   "metadata": {},
   "outputs": [
    {
     "data": {
      "text/html": [
       "<div>\n",
       "<style scoped>\n",
       "    .dataframe tbody tr th:only-of-type {\n",
       "        vertical-align: middle;\n",
       "    }\n",
       "\n",
       "    .dataframe tbody tr th {\n",
       "        vertical-align: top;\n",
       "    }\n",
       "\n",
       "    .dataframe thead th {\n",
       "        text-align: right;\n",
       "    }\n",
       "</style>\n",
       "<table border=\"1\" class=\"dataframe\">\n",
       "  <thead>\n",
       "    <tr style=\"text-align: right;\">\n",
       "      <th></th>\n",
       "      <th>Aleppo chili</th>\n",
       "      <th>Aleppo chili flake</th>\n",
       "      <th>Aleppo pepper</th>\n",
       "      <th>Amaretto</th>\n",
       "      <th>Amaretto liqueur</th>\n",
       "      <th>Amaro Montenegro</th>\n",
       "      <th>Amontillado sherry</th>\n",
       "      <th>Anaheim chili</th>\n",
       "      <th>Anaheim pepper</th>\n",
       "      <th>Ancho Chili Sauce</th>\n",
       "      <th>...</th>\n",
       "      <th>zucchini</th>\n",
       "      <th>zucchini blossom</th>\n",
       "      <th>zucchini flower</th>\n",
       "      <th>zucchini squash</th>\n",
       "      <th>Peanut Free</th>\n",
       "      <th>Soy Free</th>\n",
       "      <th>Tree Nut Free</th>\n",
       "      <th>Wheat/Gluten-Free</th>\n",
       "      <th>Dairy Free</th>\n",
       "      <th>Fat Free</th>\n",
       "    </tr>\n",
       "  </thead>\n",
       "  <tbody>\n",
       "    <tr>\n",
       "      <th>http://www.epicurious.com/recipes/food/views/-adult-pimiento-cheese-100852</th>\n",
       "      <td>0.0</td>\n",
       "      <td>0.0</td>\n",
       "      <td>0.0</td>\n",
       "      <td>0.0</td>\n",
       "      <td>0.0</td>\n",
       "      <td>0.0</td>\n",
       "      <td>0.0</td>\n",
       "      <td>0.0</td>\n",
       "      <td>0.0</td>\n",
       "      <td>0.0</td>\n",
       "      <td>...</td>\n",
       "      <td>0.0</td>\n",
       "      <td>0.0</td>\n",
       "      <td>0.0</td>\n",
       "      <td>0.0</td>\n",
       "      <td>0</td>\n",
       "      <td>0</td>\n",
       "      <td>0</td>\n",
       "      <td>0</td>\n",
       "      <td>0</td>\n",
       "      <td>0</td>\n",
       "    </tr>\n",
       "  </tbody>\n",
       "</table>\n",
       "<p>1 rows × 3876 columns</p>\n",
       "</div>"
      ],
      "text/plain": [
       "                                                    Aleppo chili  \\\n",
       "http://www.epicurious.com/recipes/food/views/-a...           0.0   \n",
       "\n",
       "                                                    Aleppo chili flake  \\\n",
       "http://www.epicurious.com/recipes/food/views/-a...                 0.0   \n",
       "\n",
       "                                                    Aleppo pepper  Amaretto  \\\n",
       "http://www.epicurious.com/recipes/food/views/-a...            0.0       0.0   \n",
       "\n",
       "                                                    Amaretto liqueur  \\\n",
       "http://www.epicurious.com/recipes/food/views/-a...               0.0   \n",
       "\n",
       "                                                    Amaro Montenegro  \\\n",
       "http://www.epicurious.com/recipes/food/views/-a...               0.0   \n",
       "\n",
       "                                                    Amontillado sherry  \\\n",
       "http://www.epicurious.com/recipes/food/views/-a...                 0.0   \n",
       "\n",
       "                                                    Anaheim chili  \\\n",
       "http://www.epicurious.com/recipes/food/views/-a...            0.0   \n",
       "\n",
       "                                                    Anaheim pepper  \\\n",
       "http://www.epicurious.com/recipes/food/views/-a...             0.0   \n",
       "\n",
       "                                                    Ancho Chili Sauce  ...  \\\n",
       "http://www.epicurious.com/recipes/food/views/-a...                0.0  ...   \n",
       "\n",
       "                                                    zucchini  \\\n",
       "http://www.epicurious.com/recipes/food/views/-a...       0.0   \n",
       "\n",
       "                                                    zucchini blossom  \\\n",
       "http://www.epicurious.com/recipes/food/views/-a...               0.0   \n",
       "\n",
       "                                                    zucchini flower  \\\n",
       "http://www.epicurious.com/recipes/food/views/-a...              0.0   \n",
       "\n",
       "                                                    zucchini squash  \\\n",
       "http://www.epicurious.com/recipes/food/views/-a...              0.0   \n",
       "\n",
       "                                                    Peanut Free  Soy Free  \\\n",
       "http://www.epicurious.com/recipes/food/views/-a...            0         0   \n",
       "\n",
       "                                                    Tree Nut Free  \\\n",
       "http://www.epicurious.com/recipes/food/views/-a...              0   \n",
       "\n",
       "                                                    Wheat/Gluten-Free  \\\n",
       "http://www.epicurious.com/recipes/food/views/-a...                  0   \n",
       "\n",
       "                                                    Dairy Free  Fat Free  \n",
       "http://www.epicurious.com/recipes/food/views/-a...           0         0  \n",
       "\n",
       "[1 rows x 3876 columns]"
      ]
     },
     "execution_count": 155,
     "metadata": {},
     "output_type": "execute_result"
    }
   ],
   "source": [
    "sample_df.head(1)"
   ]
  },
  {
   "cell_type": "code",
   "execution_count": 156,
   "metadata": {},
   "outputs": [],
   "source": [
    "# usa_tag_df\n",
    "# label_column"
   ]
  },
  {
   "cell_type": "code",
   "execution_count": 157,
   "metadata": {},
   "outputs": [],
   "source": [
    "training_data,test_data = train_test_split(sample_df,test_size= 0.2)\n",
    "train_data,train_label = getTrianData(training_data,label_column)\n",
    "test_data,test_label = getTrianData(test_data,label_column)"
   ]
  },
  {
   "cell_type": "code",
   "execution_count": 158,
   "metadata": {},
   "outputs": [],
   "source": [
    "# train_data,train_label = getTrianData(training_data,label_column)\n",
    "# test_data,test_label = getTrianData(test_data,label_column)"
   ]
  },
  {
   "cell_type": "code",
   "execution_count": 159,
   "metadata": {},
   "outputs": [
    {
     "data": {
      "text/html": [
       "<div>\n",
       "<style scoped>\n",
       "    .dataframe tbody tr th:only-of-type {\n",
       "        vertical-align: middle;\n",
       "    }\n",
       "\n",
       "    .dataframe tbody tr th {\n",
       "        vertical-align: top;\n",
       "    }\n",
       "\n",
       "    .dataframe thead th {\n",
       "        text-align: right;\n",
       "    }\n",
       "</style>\n",
       "<table border=\"1\" class=\"dataframe\">\n",
       "  <thead>\n",
       "    <tr style=\"text-align: right;\">\n",
       "      <th></th>\n",
       "      <th>Aleppo chili</th>\n",
       "      <th>Aleppo chili flake</th>\n",
       "      <th>Aleppo pepper</th>\n",
       "      <th>Amaretto</th>\n",
       "      <th>Amaretto liqueur</th>\n",
       "      <th>Amaro Montenegro</th>\n",
       "      <th>Amontillado sherry</th>\n",
       "      <th>Anaheim chili</th>\n",
       "      <th>Anaheim pepper</th>\n",
       "      <th>Ancho Chili Sauce</th>\n",
       "      <th>...</th>\n",
       "      <th>zest lemon</th>\n",
       "      <th>zest lime</th>\n",
       "      <th>zest navel orange</th>\n",
       "      <th>zest orange</th>\n",
       "      <th>ziti</th>\n",
       "      <th>ziti pasta</th>\n",
       "      <th>zucchini</th>\n",
       "      <th>zucchini blossom</th>\n",
       "      <th>zucchini flower</th>\n",
       "      <th>zucchini squash</th>\n",
       "    </tr>\n",
       "  </thead>\n",
       "  <tbody>\n",
       "    <tr>\n",
       "      <th>http://www.epicurious.com/recipes/food/views/baked-apples-with-prunes-almonds-and-amaretto</th>\n",
       "      <td>0.0</td>\n",
       "      <td>0.0</td>\n",
       "      <td>0.0</td>\n",
       "      <td>0.0</td>\n",
       "      <td>0.0</td>\n",
       "      <td>0.0</td>\n",
       "      <td>0.0</td>\n",
       "      <td>0.0</td>\n",
       "      <td>0.0</td>\n",
       "      <td>0.0</td>\n",
       "      <td>...</td>\n",
       "      <td>0.0</td>\n",
       "      <td>0.0</td>\n",
       "      <td>0.0</td>\n",
       "      <td>0.0</td>\n",
       "      <td>0.0</td>\n",
       "      <td>0.0</td>\n",
       "      <td>0.0</td>\n",
       "      <td>0.0</td>\n",
       "      <td>0.0</td>\n",
       "      <td>0.0</td>\n",
       "    </tr>\n",
       "    <tr>\n",
       "      <th>http://www.epicurious.com/recipes/food/views/endive-and-asiago-salad-240084</th>\n",
       "      <td>0.0</td>\n",
       "      <td>0.0</td>\n",
       "      <td>0.0</td>\n",
       "      <td>0.0</td>\n",
       "      <td>0.0</td>\n",
       "      <td>0.0</td>\n",
       "      <td>0.0</td>\n",
       "      <td>0.0</td>\n",
       "      <td>0.0</td>\n",
       "      <td>0.0</td>\n",
       "      <td>...</td>\n",
       "      <td>0.0</td>\n",
       "      <td>0.0</td>\n",
       "      <td>0.0</td>\n",
       "      <td>0.0</td>\n",
       "      <td>0.0</td>\n",
       "      <td>0.0</td>\n",
       "      <td>0.0</td>\n",
       "      <td>0.0</td>\n",
       "      <td>0.0</td>\n",
       "      <td>0.0</td>\n",
       "    </tr>\n",
       "  </tbody>\n",
       "</table>\n",
       "<p>2 rows × 3870 columns</p>\n",
       "</div>"
      ],
      "text/plain": [
       "                                                    Aleppo chili  \\\n",
       "http://www.epicurious.com/recipes/food/views/ba...           0.0   \n",
       "http://www.epicurious.com/recipes/food/views/en...           0.0   \n",
       "\n",
       "                                                    Aleppo chili flake  \\\n",
       "http://www.epicurious.com/recipes/food/views/ba...                 0.0   \n",
       "http://www.epicurious.com/recipes/food/views/en...                 0.0   \n",
       "\n",
       "                                                    Aleppo pepper  Amaretto  \\\n",
       "http://www.epicurious.com/recipes/food/views/ba...            0.0       0.0   \n",
       "http://www.epicurious.com/recipes/food/views/en...            0.0       0.0   \n",
       "\n",
       "                                                    Amaretto liqueur  \\\n",
       "http://www.epicurious.com/recipes/food/views/ba...               0.0   \n",
       "http://www.epicurious.com/recipes/food/views/en...               0.0   \n",
       "\n",
       "                                                    Amaro Montenegro  \\\n",
       "http://www.epicurious.com/recipes/food/views/ba...               0.0   \n",
       "http://www.epicurious.com/recipes/food/views/en...               0.0   \n",
       "\n",
       "                                                    Amontillado sherry  \\\n",
       "http://www.epicurious.com/recipes/food/views/ba...                 0.0   \n",
       "http://www.epicurious.com/recipes/food/views/en...                 0.0   \n",
       "\n",
       "                                                    Anaheim chili  \\\n",
       "http://www.epicurious.com/recipes/food/views/ba...            0.0   \n",
       "http://www.epicurious.com/recipes/food/views/en...            0.0   \n",
       "\n",
       "                                                    Anaheim pepper  \\\n",
       "http://www.epicurious.com/recipes/food/views/ba...             0.0   \n",
       "http://www.epicurious.com/recipes/food/views/en...             0.0   \n",
       "\n",
       "                                                    Ancho Chili Sauce  ...  \\\n",
       "http://www.epicurious.com/recipes/food/views/ba...                0.0  ...   \n",
       "http://www.epicurious.com/recipes/food/views/en...                0.0  ...   \n",
       "\n",
       "                                                    zest lemon  zest lime  \\\n",
       "http://www.epicurious.com/recipes/food/views/ba...         0.0        0.0   \n",
       "http://www.epicurious.com/recipes/food/views/en...         0.0        0.0   \n",
       "\n",
       "                                                    zest navel orange  \\\n",
       "http://www.epicurious.com/recipes/food/views/ba...                0.0   \n",
       "http://www.epicurious.com/recipes/food/views/en...                0.0   \n",
       "\n",
       "                                                    zest orange  ziti  \\\n",
       "http://www.epicurious.com/recipes/food/views/ba...          0.0   0.0   \n",
       "http://www.epicurious.com/recipes/food/views/en...          0.0   0.0   \n",
       "\n",
       "                                                    ziti pasta  zucchini  \\\n",
       "http://www.epicurious.com/recipes/food/views/ba...         0.0       0.0   \n",
       "http://www.epicurious.com/recipes/food/views/en...         0.0       0.0   \n",
       "\n",
       "                                                    zucchini blossom  \\\n",
       "http://www.epicurious.com/recipes/food/views/ba...               0.0   \n",
       "http://www.epicurious.com/recipes/food/views/en...               0.0   \n",
       "\n",
       "                                                    zucchini flower  \\\n",
       "http://www.epicurious.com/recipes/food/views/ba...              0.0   \n",
       "http://www.epicurious.com/recipes/food/views/en...              0.0   \n",
       "\n",
       "                                                    zucchini squash  \n",
       "http://www.epicurious.com/recipes/food/views/ba...              0.0  \n",
       "http://www.epicurious.com/recipes/food/views/en...              0.0  \n",
       "\n",
       "[2 rows x 3870 columns]"
      ]
     },
     "execution_count": 159,
     "metadata": {},
     "output_type": "execute_result"
    }
   ],
   "source": [
    "train_data.head(2)"
   ]
  },
  {
   "cell_type": "code",
   "execution_count": 160,
   "metadata": {},
   "outputs": [
    {
     "data": {
      "text/html": [
       "<div>\n",
       "<style scoped>\n",
       "    .dataframe tbody tr th:only-of-type {\n",
       "        vertical-align: middle;\n",
       "    }\n",
       "\n",
       "    .dataframe tbody tr th {\n",
       "        vertical-align: top;\n",
       "    }\n",
       "\n",
       "    .dataframe thead th {\n",
       "        text-align: right;\n",
       "    }\n",
       "</style>\n",
       "<table border=\"1\" class=\"dataframe\">\n",
       "  <thead>\n",
       "    <tr style=\"text-align: right;\">\n",
       "      <th></th>\n",
       "      <th>Peanut Free</th>\n",
       "      <th>Soy Free</th>\n",
       "      <th>Tree Nut Free</th>\n",
       "      <th>Wheat/Gluten-Free</th>\n",
       "      <th>Dairy Free</th>\n",
       "      <th>Fat Free</th>\n",
       "    </tr>\n",
       "  </thead>\n",
       "  <tbody>\n",
       "    <tr>\n",
       "      <th>http://www.epicurious.com/recipes/food/views/baked-apples-with-prunes-almonds-and-amaretto</th>\n",
       "      <td>0</td>\n",
       "      <td>0</td>\n",
       "      <td>0</td>\n",
       "      <td>1</td>\n",
       "      <td>0</td>\n",
       "      <td>0</td>\n",
       "    </tr>\n",
       "    <tr>\n",
       "      <th>http://www.epicurious.com/recipes/food/views/endive-and-asiago-salad-240084</th>\n",
       "      <td>1</td>\n",
       "      <td>1</td>\n",
       "      <td>1</td>\n",
       "      <td>1</td>\n",
       "      <td>0</td>\n",
       "      <td>0</td>\n",
       "    </tr>\n",
       "  </tbody>\n",
       "</table>\n",
       "</div>"
      ],
      "text/plain": [
       "                                                    Peanut Free  Soy Free  \\\n",
       "http://www.epicurious.com/recipes/food/views/ba...            0         0   \n",
       "http://www.epicurious.com/recipes/food/views/en...            1         1   \n",
       "\n",
       "                                                    Tree Nut Free  \\\n",
       "http://www.epicurious.com/recipes/food/views/ba...              0   \n",
       "http://www.epicurious.com/recipes/food/views/en...              1   \n",
       "\n",
       "                                                    Wheat/Gluten-Free  \\\n",
       "http://www.epicurious.com/recipes/food/views/ba...                  1   \n",
       "http://www.epicurious.com/recipes/food/views/en...                  1   \n",
       "\n",
       "                                                    Dairy Free  Fat Free  \n",
       "http://www.epicurious.com/recipes/food/views/ba...           0         0  \n",
       "http://www.epicurious.com/recipes/food/views/en...           0         0  "
      ]
     },
     "execution_count": 160,
     "metadata": {},
     "output_type": "execute_result"
    }
   ],
   "source": [
    "train_label.head(2)"
   ]
  },
  {
   "cell_type": "code",
   "execution_count": 161,
   "metadata": {},
   "outputs": [
    {
     "data": {
      "text/html": [
       "<div>\n",
       "<style scoped>\n",
       "    .dataframe tbody tr th:only-of-type {\n",
       "        vertical-align: middle;\n",
       "    }\n",
       "\n",
       "    .dataframe tbody tr th {\n",
       "        vertical-align: top;\n",
       "    }\n",
       "\n",
       "    .dataframe thead th {\n",
       "        text-align: right;\n",
       "    }\n",
       "</style>\n",
       "<table border=\"1\" class=\"dataframe\">\n",
       "  <thead>\n",
       "    <tr style=\"text-align: right;\">\n",
       "      <th></th>\n",
       "      <th>Aleppo chili</th>\n",
       "      <th>Aleppo chili flake</th>\n",
       "      <th>Aleppo pepper</th>\n",
       "      <th>Amaretto</th>\n",
       "      <th>Amaretto liqueur</th>\n",
       "      <th>Amaro Montenegro</th>\n",
       "      <th>Amontillado sherry</th>\n",
       "      <th>Anaheim chili</th>\n",
       "      <th>Anaheim pepper</th>\n",
       "      <th>Ancho Chili Sauce</th>\n",
       "      <th>...</th>\n",
       "      <th>zest lemon</th>\n",
       "      <th>zest lime</th>\n",
       "      <th>zest navel orange</th>\n",
       "      <th>zest orange</th>\n",
       "      <th>ziti</th>\n",
       "      <th>ziti pasta</th>\n",
       "      <th>zucchini</th>\n",
       "      <th>zucchini blossom</th>\n",
       "      <th>zucchini flower</th>\n",
       "      <th>zucchini squash</th>\n",
       "    </tr>\n",
       "  </thead>\n",
       "  <tbody>\n",
       "    <tr>\n",
       "      <th>http://www.epicurious.com/recipes/food/views/danish-celeriac-salad-20116</th>\n",
       "      <td>0.0</td>\n",
       "      <td>0.0</td>\n",
       "      <td>0.0</td>\n",
       "      <td>0.0</td>\n",
       "      <td>0.0</td>\n",
       "      <td>0.0</td>\n",
       "      <td>0.0</td>\n",
       "      <td>0.0</td>\n",
       "      <td>0.0</td>\n",
       "      <td>0.0</td>\n",
       "      <td>...</td>\n",
       "      <td>0.0</td>\n",
       "      <td>0.0</td>\n",
       "      <td>0.0</td>\n",
       "      <td>0.0</td>\n",
       "      <td>0.0</td>\n",
       "      <td>0.0</td>\n",
       "      <td>0.0</td>\n",
       "      <td>0.0</td>\n",
       "      <td>0.0</td>\n",
       "      <td>0.0</td>\n",
       "    </tr>\n",
       "    <tr>\n",
       "      <th>http://www.epicurious.com/recipes/food/views/duck-with-port-cherry-sauce-104189</th>\n",
       "      <td>0.0</td>\n",
       "      <td>0.0</td>\n",
       "      <td>0.0</td>\n",
       "      <td>0.0</td>\n",
       "      <td>0.0</td>\n",
       "      <td>0.0</td>\n",
       "      <td>0.0</td>\n",
       "      <td>0.0</td>\n",
       "      <td>0.0</td>\n",
       "      <td>0.0</td>\n",
       "      <td>...</td>\n",
       "      <td>0.0</td>\n",
       "      <td>0.0</td>\n",
       "      <td>0.0</td>\n",
       "      <td>0.0</td>\n",
       "      <td>0.0</td>\n",
       "      <td>0.0</td>\n",
       "      <td>0.0</td>\n",
       "      <td>0.0</td>\n",
       "      <td>0.0</td>\n",
       "      <td>0.0</td>\n",
       "    </tr>\n",
       "  </tbody>\n",
       "</table>\n",
       "<p>2 rows × 3870 columns</p>\n",
       "</div>"
      ],
      "text/plain": [
       "                                                    Aleppo chili  \\\n",
       "http://www.epicurious.com/recipes/food/views/da...           0.0   \n",
       "http://www.epicurious.com/recipes/food/views/du...           0.0   \n",
       "\n",
       "                                                    Aleppo chili flake  \\\n",
       "http://www.epicurious.com/recipes/food/views/da...                 0.0   \n",
       "http://www.epicurious.com/recipes/food/views/du...                 0.0   \n",
       "\n",
       "                                                    Aleppo pepper  Amaretto  \\\n",
       "http://www.epicurious.com/recipes/food/views/da...            0.0       0.0   \n",
       "http://www.epicurious.com/recipes/food/views/du...            0.0       0.0   \n",
       "\n",
       "                                                    Amaretto liqueur  \\\n",
       "http://www.epicurious.com/recipes/food/views/da...               0.0   \n",
       "http://www.epicurious.com/recipes/food/views/du...               0.0   \n",
       "\n",
       "                                                    Amaro Montenegro  \\\n",
       "http://www.epicurious.com/recipes/food/views/da...               0.0   \n",
       "http://www.epicurious.com/recipes/food/views/du...               0.0   \n",
       "\n",
       "                                                    Amontillado sherry  \\\n",
       "http://www.epicurious.com/recipes/food/views/da...                 0.0   \n",
       "http://www.epicurious.com/recipes/food/views/du...                 0.0   \n",
       "\n",
       "                                                    Anaheim chili  \\\n",
       "http://www.epicurious.com/recipes/food/views/da...            0.0   \n",
       "http://www.epicurious.com/recipes/food/views/du...            0.0   \n",
       "\n",
       "                                                    Anaheim pepper  \\\n",
       "http://www.epicurious.com/recipes/food/views/da...             0.0   \n",
       "http://www.epicurious.com/recipes/food/views/du...             0.0   \n",
       "\n",
       "                                                    Ancho Chili Sauce  ...  \\\n",
       "http://www.epicurious.com/recipes/food/views/da...                0.0  ...   \n",
       "http://www.epicurious.com/recipes/food/views/du...                0.0  ...   \n",
       "\n",
       "                                                    zest lemon  zest lime  \\\n",
       "http://www.epicurious.com/recipes/food/views/da...         0.0        0.0   \n",
       "http://www.epicurious.com/recipes/food/views/du...         0.0        0.0   \n",
       "\n",
       "                                                    zest navel orange  \\\n",
       "http://www.epicurious.com/recipes/food/views/da...                0.0   \n",
       "http://www.epicurious.com/recipes/food/views/du...                0.0   \n",
       "\n",
       "                                                    zest orange  ziti  \\\n",
       "http://www.epicurious.com/recipes/food/views/da...          0.0   0.0   \n",
       "http://www.epicurious.com/recipes/food/views/du...          0.0   0.0   \n",
       "\n",
       "                                                    ziti pasta  zucchini  \\\n",
       "http://www.epicurious.com/recipes/food/views/da...         0.0       0.0   \n",
       "http://www.epicurious.com/recipes/food/views/du...         0.0       0.0   \n",
       "\n",
       "                                                    zucchini blossom  \\\n",
       "http://www.epicurious.com/recipes/food/views/da...               0.0   \n",
       "http://www.epicurious.com/recipes/food/views/du...               0.0   \n",
       "\n",
       "                                                    zucchini flower  \\\n",
       "http://www.epicurious.com/recipes/food/views/da...              0.0   \n",
       "http://www.epicurious.com/recipes/food/views/du...              0.0   \n",
       "\n",
       "                                                    zucchini squash  \n",
       "http://www.epicurious.com/recipes/food/views/da...              0.0  \n",
       "http://www.epicurious.com/recipes/food/views/du...              0.0  \n",
       "\n",
       "[2 rows x 3870 columns]"
      ]
     },
     "execution_count": 161,
     "metadata": {},
     "output_type": "execute_result"
    }
   ],
   "source": [
    "test_data.head(2)"
   ]
  },
  {
   "cell_type": "markdown",
   "metadata": {},
   "source": [
    "## Support Vector Classifier"
   ]
  },
  {
   "cell_type": "markdown",
   "metadata": {},
   "source": [
    "https://scikit-learn.org/stable/modules/generated/sklearn.svm.SVC.html\n",
    "\n",
    "Below website gives good explaination on reading result from SVC\n",
    "\n",
    "https://www.datacamp.com/community/tutorials/svm-classification-scikit-learn-python"
   ]
  },
  {
   "cell_type": "markdown",
   "metadata": {},
   "source": [
    "### Fit model without weights"
   ]
  },
  {
   "cell_type": "markdown",
   "metadata": {},
   "source": [
    "Referenced example from this link: https://www.geeksforgeeks.org/classifying-data-using-support-vector-machinessvms-in-python/"
   ]
  },
  {
   "cell_type": "code",
   "execution_count": 176,
   "metadata": {},
   "outputs": [
    {
     "data": {
      "text/html": [
       "<div>\n",
       "<style scoped>\n",
       "    .dataframe tbody tr th:only-of-type {\n",
       "        vertical-align: middle;\n",
       "    }\n",
       "\n",
       "    .dataframe tbody tr th {\n",
       "        vertical-align: top;\n",
       "    }\n",
       "\n",
       "    .dataframe thead th {\n",
       "        text-align: right;\n",
       "    }\n",
       "</style>\n",
       "<table border=\"1\" class=\"dataframe\">\n",
       "  <thead>\n",
       "    <tr style=\"text-align: right;\">\n",
       "      <th></th>\n",
       "      <th>tags_count</th>\n",
       "      <th>tag</th>\n",
       "      <th>allergy_tags</th>\n",
       "    </tr>\n",
       "  </thead>\n",
       "  <tbody>\n",
       "    <tr>\n",
       "      <th>19</th>\n",
       "      <td>16565</td>\n",
       "      <td>Peanut Free</td>\n",
       "      <td>True</td>\n",
       "    </tr>\n",
       "  </tbody>\n",
       "</table>\n",
       "</div>"
      ],
      "text/plain": [
       "    tags_count          tag  allergy_tags\n",
       "19       16565  Peanut Free          True"
      ]
     },
     "execution_count": 176,
     "metadata": {},
     "output_type": "execute_result"
    }
   ],
   "source": [
    "tags_count.head(1)"
   ]
  },
  {
   "cell_type": "code",
   "execution_count": 197,
   "metadata": {},
   "outputs": [
    {
     "data": {
      "image/png": "[encoded data removed]",
      "text/plain": [
       "<Figure size 432x288 with 1 Axes>"
      ]
     },
     "metadata": {
      "needs_background": "light"
     },
     "output_type": "display_data"
    }
   ],
   "source": [
    "tags_count[tags_count['tags_count'] >= 3000].plot(kind='bar',y='tags_count',x='tag')\n",
    "plt.savefig('plots/tags_freq.png',bbox_inches='tight')\n",
    "plt.show()"
   ]
  },
  {
   "cell_type": "code",
   "execution_count": 169,
   "metadata": {},
   "outputs": [],
   "source": [
    "svc = svm.SVC(kernel='linear')\n",
    "# w_svc = svm.NuSVC(nu = 0.1, gamma='auto',class_weight={0:weight_ratio[0][0]},kernel='linear')\n"
   ]
  },
  {
   "cell_type": "code",
   "execution_count": 170,
   "metadata": {},
   "outputs": [
    {
     "data": {
      "text/html": [
       "<div>\n",
       "<style scoped>\n",
       "    .dataframe tbody tr th:only-of-type {\n",
       "        vertical-align: middle;\n",
       "    }\n",
       "\n",
       "    .dataframe tbody tr th {\n",
       "        vertical-align: top;\n",
       "    }\n",
       "\n",
       "    .dataframe thead th {\n",
       "        text-align: right;\n",
       "    }\n",
       "</style>\n",
       "<table border=\"1\" class=\"dataframe\">\n",
       "  <thead>\n",
       "    <tr style=\"text-align: right;\">\n",
       "      <th></th>\n",
       "      <th>Peanut Free</th>\n",
       "      <th>Soy Free</th>\n",
       "      <th>Tree Nut Free</th>\n",
       "      <th>Wheat/Gluten-Free</th>\n",
       "      <th>Dairy Free</th>\n",
       "      <th>Fat Free</th>\n",
       "    </tr>\n",
       "  </thead>\n",
       "  <tbody>\n",
       "    <tr>\n",
       "      <th>http://www.epicurious.com/recipes/food/views/baked-apples-with-prunes-almonds-and-amaretto</th>\n",
       "      <td>0</td>\n",
       "      <td>0</td>\n",
       "      <td>0</td>\n",
       "      <td>1</td>\n",
       "      <td>0</td>\n",
       "      <td>0</td>\n",
       "    </tr>\n",
       "  </tbody>\n",
       "</table>\n",
       "</div>"
      ],
      "text/plain": [
       "                                                    Peanut Free  Soy Free  \\\n",
       "http://www.epicurious.com/recipes/food/views/ba...            0         0   \n",
       "\n",
       "                                                    Tree Nut Free  \\\n",
       "http://www.epicurious.com/recipes/food/views/ba...              0   \n",
       "\n",
       "                                                    Wheat/Gluten-Free  \\\n",
       "http://www.epicurious.com/recipes/food/views/ba...                  1   \n",
       "\n",
       "                                                    Dairy Free  Fat Free  \n",
       "http://www.epicurious.com/recipes/food/views/ba...           0         0  "
      ]
     },
     "execution_count": 170,
     "metadata": {},
     "output_type": "execute_result"
    }
   ],
   "source": [
    "train_label.head(1)"
   ]
  },
  {
   "cell_type": "code",
   "execution_count": 171,
   "metadata": {
    "scrolled": true
   },
   "outputs": [
    {
     "data": {
      "text/plain": [
       "array([[0, 0, 0, 1, 0, 0],\n",
       "       [1, 1, 1, 1, 0, 0],\n",
       "       [0, 0, 0, 0, 0, 0],\n",
       "       ...,\n",
       "       [0, 0, 0, 0, 0, 0],\n",
       "       [0, 0, 0, 0, 0, 0],\n",
       "       [0, 0, 0, 0, 0, 0]], dtype=int64)"
      ]
     },
     "execution_count": 171,
     "metadata": {},
     "output_type": "execute_result"
    }
   ],
   "source": [
    "new_labels = np.asarray(train_label.values)\n",
    "new_labels"
   ]
  },
  {
   "cell_type": "code",
   "execution_count": 172,
   "metadata": {},
   "outputs": [
    {
     "data": {
      "text/plain": [
       "(4000, 3870)"
      ]
     },
     "execution_count": 172,
     "metadata": {},
     "output_type": "execute_result"
    }
   ],
   "source": [
    "test_data.shape"
   ]
  },
  {
   "cell_type": "code",
   "execution_count": 175,
   "metadata": {},
   "outputs": [
    {
     "ename": "NotFittedError",
     "evalue": "This SVC instance is not fitted yet. Call 'fit' with appropriate arguments before using this method.",
     "output_type": "error",
     "traceback": [
      "\u001b[0;31m---------------------------------------------------------------------------\u001b[0m",
      "\u001b[0;31mNotFittedError\u001b[0m                            Traceback (most recent call last)",
      "\u001b[0;32m<ipython-input-175-99f2cf7e63b8>\u001b[0m in \u001b[0;36m<module>\u001b[0;34m\u001b[0m\n\u001b[0;32m----> 1\u001b[0;31m \u001b[0mp\u001b[0m \u001b[0;34m=\u001b[0m \u001b[0msvc\u001b[0m\u001b[0;34m.\u001b[0m\u001b[0mpredict\u001b[0m\u001b[0;34m(\u001b[0m\u001b[0mtest_data\u001b[0m\u001b[0;34m.\u001b[0m\u001b[0miloc\u001b[0m\u001b[0;34m[\u001b[0m\u001b[0;34m:\u001b[0m\u001b[0;34m]\u001b[0m\u001b[0;34m)\u001b[0m\u001b[0;34m\u001b[0m\u001b[0m\n\u001b[0m",
      "\u001b[0;32m/Library/Frameworks/Python.framework/Versions/3.6/lib/python3.6/site-packages/sklearn/svm/base.py\u001b[0m in \u001b[0;36mpredict\u001b[0;34m(self, X)\u001b[0m\n\u001b[1;32m    572\u001b[0m             \u001b[0mClass\u001b[0m \u001b[0mlabels\u001b[0m \u001b[0;32mfor\u001b[0m \u001b[0msamples\u001b[0m \u001b[0;32min\u001b[0m \u001b[0mX\u001b[0m\u001b[0;34m.\u001b[0m\u001b[0;34m\u001b[0m\u001b[0m\n\u001b[1;32m    573\u001b[0m         \"\"\"\n\u001b[0;32m--> 574\u001b[0;31m         \u001b[0my\u001b[0m \u001b[0;34m=\u001b[0m \u001b[0msuper\u001b[0m\u001b[0;34m(\u001b[0m\u001b[0;34m)\u001b[0m\u001b[0;34m.\u001b[0m\u001b[0mpredict\u001b[0m\u001b[0;34m(\u001b[0m\u001b[0mX\u001b[0m\u001b[0;34m)\u001b[0m\u001b[0;34m\u001b[0m\u001b[0m\n\u001b[0m\u001b[1;32m    575\u001b[0m         \u001b[0;32mreturn\u001b[0m \u001b[0mself\u001b[0m\u001b[0;34m.\u001b[0m\u001b[0mclasses_\u001b[0m\u001b[0;34m.\u001b[0m\u001b[0mtake\u001b[0m\u001b[0;34m(\u001b[0m\u001b[0mnp\u001b[0m\u001b[0;34m.\u001b[0m\u001b[0masarray\u001b[0m\u001b[0;34m(\u001b[0m\u001b[0my\u001b[0m\u001b[0;34m,\u001b[0m \u001b[0mdtype\u001b[0m\u001b[0;34m=\u001b[0m\u001b[0mnp\u001b[0m\u001b[0;34m.\u001b[0m\u001b[0mintp\u001b[0m\u001b[0;34m)\u001b[0m\u001b[0;34m)\u001b[0m\u001b[0;34m\u001b[0m\u001b[0m\n\u001b[1;32m    576\u001b[0m \u001b[0;34m\u001b[0m\u001b[0m\n",
      "\u001b[0;32m/Library/Frameworks/Python.framework/Versions/3.6/lib/python3.6/site-packages/sklearn/svm/base.py\u001b[0m in \u001b[0;36mpredict\u001b[0;34m(self, X)\u001b[0m\n\u001b[1;32m    320\u001b[0m         \u001b[0my_pred\u001b[0m \u001b[0;34m:\u001b[0m \u001b[0marray\u001b[0m\u001b[0;34m,\u001b[0m \u001b[0mshape\u001b[0m \u001b[0;34m(\u001b[0m\u001b[0mn_samples\u001b[0m\u001b[0;34m,\u001b[0m\u001b[0;34m)\u001b[0m\u001b[0;34m\u001b[0m\u001b[0m\n\u001b[1;32m    321\u001b[0m         \"\"\"\n\u001b[0;32m--> 322\u001b[0;31m         \u001b[0mX\u001b[0m \u001b[0;34m=\u001b[0m \u001b[0mself\u001b[0m\u001b[0;34m.\u001b[0m\u001b[0m_validate_for_predict\u001b[0m\u001b[0;34m(\u001b[0m\u001b[0mX\u001b[0m\u001b[0;34m)\u001b[0m\u001b[0;34m\u001b[0m\u001b[0m\n\u001b[0m\u001b[1;32m    323\u001b[0m         \u001b[0mpredict\u001b[0m \u001b[0;34m=\u001b[0m \u001b[0mself\u001b[0m\u001b[0;34m.\u001b[0m\u001b[0m_sparse_predict\u001b[0m \u001b[0;32mif\u001b[0m \u001b[0mself\u001b[0m\u001b[0;34m.\u001b[0m\u001b[0m_sparse\u001b[0m \u001b[0;32melse\u001b[0m \u001b[0mself\u001b[0m\u001b[0;34m.\u001b[0m\u001b[0m_dense_predict\u001b[0m\u001b[0;34m\u001b[0m\u001b[0m\n\u001b[1;32m    324\u001b[0m         \u001b[0;32mreturn\u001b[0m \u001b[0mpredict\u001b[0m\u001b[0;34m(\u001b[0m\u001b[0mX\u001b[0m\u001b[0;34m)\u001b[0m\u001b[0;34m\u001b[0m\u001b[0m\n",
      "\u001b[0;32m/Library/Frameworks/Python.framework/Versions/3.6/lib/python3.6/site-packages/sklearn/svm/base.py\u001b[0m in \u001b[0;36m_validate_for_predict\u001b[0;34m(self, X)\u001b[0m\n\u001b[1;32m    449\u001b[0m \u001b[0;34m\u001b[0m\u001b[0m\n\u001b[1;32m    450\u001b[0m     \u001b[0;32mdef\u001b[0m \u001b[0m_validate_for_predict\u001b[0m\u001b[0;34m(\u001b[0m\u001b[0mself\u001b[0m\u001b[0;34m,\u001b[0m \u001b[0mX\u001b[0m\u001b[0;34m)\u001b[0m\u001b[0;34m:\u001b[0m\u001b[0;34m\u001b[0m\u001b[0m\n\u001b[0;32m--> 451\u001b[0;31m         \u001b[0mcheck_is_fitted\u001b[0m\u001b[0;34m(\u001b[0m\u001b[0mself\u001b[0m\u001b[0;34m,\u001b[0m \u001b[0;34m'support_'\u001b[0m\u001b[0;34m)\u001b[0m\u001b[0;34m\u001b[0m\u001b[0m\n\u001b[0m\u001b[1;32m    452\u001b[0m \u001b[0;34m\u001b[0m\u001b[0m\n\u001b[1;32m    453\u001b[0m         X = check_array(X, accept_sparse='csr', dtype=np.float64, order=\"C\",\n",
      "\u001b[0;32m/Library/Frameworks/Python.framework/Versions/3.6/lib/python3.6/site-packages/sklearn/utils/validation.py\u001b[0m in \u001b[0;36mcheck_is_fitted\u001b[0;34m(estimator, attributes, msg, all_or_any)\u001b[0m\n\u001b[1;32m    912\u001b[0m \u001b[0;34m\u001b[0m\u001b[0m\n\u001b[1;32m    913\u001b[0m     \u001b[0;32mif\u001b[0m \u001b[0;32mnot\u001b[0m \u001b[0mall_or_any\u001b[0m\u001b[0;34m(\u001b[0m\u001b[0;34m[\u001b[0m\u001b[0mhasattr\u001b[0m\u001b[0;34m(\u001b[0m\u001b[0mestimator\u001b[0m\u001b[0;34m,\u001b[0m \u001b[0mattr\u001b[0m\u001b[0;34m)\u001b[0m \u001b[0;32mfor\u001b[0m \u001b[0mattr\u001b[0m \u001b[0;32min\u001b[0m \u001b[0mattributes\u001b[0m\u001b[0;34m]\u001b[0m\u001b[0;34m)\u001b[0m\u001b[0;34m:\u001b[0m\u001b[0;34m\u001b[0m\u001b[0m\n\u001b[0;32m--> 914\u001b[0;31m         \u001b[0;32mraise\u001b[0m \u001b[0mNotFittedError\u001b[0m\u001b[0;34m(\u001b[0m\u001b[0mmsg\u001b[0m \u001b[0;34m%\u001b[0m \u001b[0;34m{\u001b[0m\u001b[0;34m'name'\u001b[0m\u001b[0;34m:\u001b[0m \u001b[0mtype\u001b[0m\u001b[0;34m(\u001b[0m\u001b[0mestimator\u001b[0m\u001b[0;34m)\u001b[0m\u001b[0;34m.\u001b[0m\u001b[0m__name__\u001b[0m\u001b[0;34m}\u001b[0m\u001b[0;34m)\u001b[0m\u001b[0;34m\u001b[0m\u001b[0m\n\u001b[0m\u001b[1;32m    915\u001b[0m \u001b[0;34m\u001b[0m\u001b[0m\n\u001b[1;32m    916\u001b[0m \u001b[0;34m\u001b[0m\u001b[0m\n",
      "\u001b[0;31mNotFittedError\u001b[0m: This SVC instance is not fitted yet. Call 'fit' with appropriate arguments before using this method."
     ]
    }
   ],
   "source": [
    "p = svc.predict(test_data.iloc[:])"
   ]
  },
  {
   "cell_type": "code",
   "execution_count": 174,
   "metadata": {},
   "outputs": [
    {
     "name": "stdout",
     "output_type": "stream",
     "text": [
      "SVC-No Weight\n",
      "Actual label count  Counter({0: 2131, 1: 1869})\n"
     ]
    },
    {
     "ename": "NameError",
     "evalue": "name 'p' is not defined",
     "output_type": "error",
     "traceback": [
      "\u001b[0;31m---------------------------------------------------------------------------\u001b[0m",
      "\u001b[0;31mNameError\u001b[0m                                 Traceback (most recent call last)",
      "\u001b[0;32m<ipython-input-174-6144dd4e2844>\u001b[0m in \u001b[0;36m<module>\u001b[0;34m\u001b[0m\n\u001b[1;32m      4\u001b[0m \u001b[0mprint\u001b[0m\u001b[0;34m(\u001b[0m\u001b[0;34m\"Actual label count \"\u001b[0m\u001b[0;34m,\u001b[0m\u001b[0mc\u001b[0m\u001b[0;34m)\u001b[0m\u001b[0;34m\u001b[0m\u001b[0m\n\u001b[1;32m      5\u001b[0m \u001b[0mc\u001b[0m \u001b[0;34m=\u001b[0m \u001b[0mCounter\u001b[0m\u001b[0;34m(\u001b[0m\u001b[0;34m)\u001b[0m\u001b[0;34m\u001b[0m\u001b[0m\n\u001b[0;32m----> 6\u001b[0;31m \u001b[0mc\u001b[0m\u001b[0;34m.\u001b[0m\u001b[0mupdate\u001b[0m\u001b[0;34m(\u001b[0m\u001b[0mp\u001b[0m\u001b[0;34m)\u001b[0m\u001b[0;34m\u001b[0m\u001b[0m\n\u001b[0m\u001b[1;32m      7\u001b[0m \u001b[0mprint\u001b[0m\u001b[0;34m(\u001b[0m\u001b[0;34m\"prediction label count \"\u001b[0m\u001b[0;34m,\u001b[0m\u001b[0mc\u001b[0m\u001b[0;34m)\u001b[0m\u001b[0;34m\u001b[0m\u001b[0m\n",
      "\u001b[0;31mNameError\u001b[0m: name 'p' is not defined"
     ]
    }
   ],
   "source": [
    "c = Counter()\n",
    "c.update(test_label['Peanut Free'])\n",
    "print(\"SVC-No Weight\")\n",
    "print(\"Actual label count \",c)\n",
    "c = Counter()\n",
    "c.update(p)\n",
    "print(\"prediction label count \",c)"
   ]
  },
  {
   "cell_type": "code",
   "execution_count": null,
   "metadata": {},
   "outputs": [],
   "source": [
    "print(\"\\n\\n          SVC Classificatin Report-No Weight\\n\\n\")\n",
    "print(classification_report(test_label['Peanut Free'],p))"
   ]
  },
  {
   "cell_type": "code",
   "execution_count": null,
   "metadata": {},
   "outputs": [],
   "source": [
    "train_size = 1000"
   ]
  },
  {
   "cell_type": "code",
   "execution_count": null,
   "metadata": {
    "scrolled": false
   },
   "outputs": [],
   "source": [
    "%%time\n",
    "from yellowbrick.classifier import ClassificationReport\n",
    "visualizer = ClassificationReport(svc, classes=['Peanut Free','Not Peanut Free'], support=True)\n",
    "visualizer.fit(train_data.iloc[:train_size], train_label['Peanut Free'].iloc[:train_size])        # Fit the visualizer and the model\n",
    "visualizer.score(test_data.iloc[:train_size], test_label['Peanut Free'].iloc[:train_size])        # Evaluate the model on the test data\n",
    "plt.title(\"SVC Classification Report-Peanut\")\n",
    "plt.savefig('no_weight_peanut_svc_result.png')\n",
    "visualizer.show() "
   ]
  },
  {
   "cell_type": "code",
   "execution_count": null,
   "metadata": {},
   "outputs": [],
   "source": [
    "%%time\n",
    "from yellowbrick.classifier import ClassificationReport\n",
    "visualizer = ClassificationReport(svc, classes=['Soy Free','Not Soy Free'], support=True)\n",
    "visualizer.fit(train_data.iloc[:train_size], train_label['Soy Free'].iloc[:train_size])        # Fit the visualizer and the model\n",
    "visualizer.score(test_data.iloc[:train_size], test_label['Soy Free'].iloc[:train_size])        # Evaluate the model on the test data\n",
    "plt.title(\"SVC Classification Report-Soy\")\n",
    "plt.savefig('no_weight_soy_svc_result.png')\n",
    "visualizer.show() "
   ]
  },
  {
   "cell_type": "code",
   "execution_count": null,
   "metadata": {},
   "outputs": [],
   "source": [
    "%%time\n",
    "from yellowbrick.classifier import ClassificationReport\n",
    "visualizer = ClassificationReport(svc, classes=['Tree Nut Free','Not Tree Nut Free'], support=True)\n",
    "visualizer.fit(train_data.iloc[:train_size], train_label['Tree Nut Free'].iloc[:train_size])        # Fit the visualizer and the model\n",
    "visualizer.score(test_data.iloc[:train_size], test_label['Tree Nut Free'].iloc[:train_size])        # Evaluate the model on the test data\n",
    "plt.title(\"SVC Classification Report-Tree Nut\")\n",
    "plt.savefig('no_weight_treenut_svc_result.png')\n",
    "visualizer.show() "
   ]
  },
  {
   "cell_type": "code",
   "execution_count": null,
   "metadata": {},
   "outputs": [],
   "source": [
    "%%time\n",
    "from yellowbrick.classifier import ClassificationReport\n",
    "visualizer = ClassificationReport(svc, classes=['Dairy Free','Not Dairy Free'], support=True)\n",
    "visualizer.fit(train_data.iloc[:train_size], train_label['Dairy Free'].iloc[:train_size])        # Fit the visualizer and the model\n",
    "visualizer.score(test_data.iloc[:train_size], test_label['Dairy Free'].iloc[:train_size])        # Evaluate the model on the test data\n",
    "plt.title(\"SVC Classification Report-Dairy\")\n",
    "plt.savefig('no_weight_dairy_svc_result.png')\n",
    "visualizer.show() "
   ]
  },
  {
   "cell_type": "code",
   "execution_count": null,
   "metadata": {
    "scrolled": false
   },
   "outputs": [],
   "source": [
    "%%time\n",
    "from yellowbrick.classifier import ClassificationReport\n",
    "visualizer = ClassificationReport(svc, classes=['Fat Free','Not Fat Free'], support=True)\n",
    "visualizer.fit(train_data.iloc[:train_size], train_label['Fat Free'].iloc[:train_size])        # Fit the visualizer and the model\n",
    "visualizer.score(test_data.iloc[:train_size], test_label['Fat Free'].iloc[:train_size])        # Evaluate the model on the test data\n",
    "plt.title(\"SVC Classification Report-Fat\")\n",
    "plt.savefig('no_weight_fat_svc_result.png')\n",
    "visualizer.show() "
   ]
  },
  {
   "cell_type": "code",
   "execution_count": null,
   "metadata": {
    "scrolled": true
   },
   "outputs": [],
   "source": [
    "%%time\n",
    "peanut.predict(test_data)"
   ]
  },
  {
   "cell_type": "code",
   "execution_count": null,
   "metadata": {},
   "outputs": [],
   "source": []
  },
  {
   "cell_type": "code",
   "execution_count": null,
   "metadata": {},
   "outputs": [],
   "source": [
    "# val = []\n",
    "# for i in train_label:\n",
    "#     v = i.replace(' ','')\n",
    "#     val.append(v)\n",
    "# val"
   ]
  },
  {
   "cell_type": "code",
   "execution_count": null,
   "metadata": {
    "scrolled": true
   },
   "outputs": [],
   "source": [
    "# allergy_predict = []\n",
    "# j = 0\n",
    "# for i in train_label:\n",
    "#     print(val[j])\n",
    "#     val[j] = svc.fit(train_data.iloc[:train_size], np.asarray(train_label[i].iloc[:train_size].values)) \n",
    "#     allergy_predict.append(val[j])\n",
    "#     j +=1\n",
    "# allergy_predict"
   ]
  },
  {
   "cell_type": "markdown",
   "metadata": {},
   "source": [
    "### Fit model with weights"
   ]
  },
  {
   "cell_type": "markdown",
   "metadata": {},
   "source": [
    "#### Calculate Weight"
   ]
  },
  {
   "cell_type": "markdown",
   "metadata": {},
   "source": [
    "* sample_weight is to be applied to individual samples (rows in your data). So the length of sample_weight must match the number of samples in your X.\n",
    "\n",
    "* class_weight is to make the classifier give more importance and attention to the classes. So the length of class_weight must match the number of classes in your targets."
   ]
  },
  {
   "cell_type": "code",
   "execution_count": null,
   "metadata": {},
   "outputs": [],
   "source": [
    "count1 = len(cuisine_df.loc[cuisine_df['usa_cuisine'] == 1]) # true\n",
    "count2 = len(cuisine_df.loc[cuisine_df['usa_cuisine'] == 0]) # false\n",
    "count3 = len(cuisine_df.loc[cuisine_df['usa_cuisine'] == 2]) # NA\n",
    "print(\"Neither USA Cuisine or non-USA Cuisine: \",count3)\n",
    "print(\"USA Cuisine: \",count1)\n",
    "print(\"Non-USA Cuisine: \",count2)"
   ]
  },
  {
   "cell_type": "code",
   "execution_count": null,
   "metadata": {},
   "outputs": [],
   "source": [
    "print(len(train_label))"
   ]
  },
  {
   "cell_type": "code",
   "execution_count": null,
   "metadata": {},
   "outputs": [],
   "source": [
    "weight_ratio = []\n",
    "for i in train_label:\n",
    "    max_v = [int(train_label[i][train_label[i] == 0].value_counts())/len(train_label),int(train_label[i][train_label[i] == 1].value_counts())/len(train_label)]\n",
    "    print(max_v)\n",
    "    weight_ratio.append(max_v)\n",
    "weight_ratio"
   ]
  },
  {
   "cell_type": "code",
   "execution_count": null,
   "metadata": {},
   "outputs": [],
   "source": [
    "weight_ratio[0][0]"
   ]
  },
  {
   "cell_type": "code",
   "execution_count": null,
   "metadata": {},
   "outputs": [],
   "source": [
    "degree = [1, 1, 2, 3, 4, 1, 1, 1, 1, 2, 3, 4, 1, 1, 1, 1, 2]\n",
    "degree\n",
    "kernel =['linear', 'poly', 'poly', 'poly', 'poly', 'rbf', 'sigmoid',\n",
    "        'linear', 'poly', 'poly', 'poly', 'poly', 'rbf', 'sigmoid',\n",
    "        'linear', 'poly', 'poly']\n",
    "nu = [0.05, 0.05, 0.05, 0.05, 0.05, 0.05, 0.05, 0.1 , 0.1 , 0.1 , 0.1 ,\n",
    "        0.1 , 0.1 , 0.1 , 0.15, 0.15, 0.15]\n",
    "acc_list = [0.90653153, 0.90728228, 0.61473974, 0.56681682, 0.53440941,\n",
    "        0.75525526, 0.50287788, 0.90840841, 0.90578078, 0.60047548,\n",
    "        0.56881882, 0.53553554, 0.75575576, 0.5289039 , 0.90515516,\n",
    "        0.90302803, 0.5701952 ]\n",
    "# degree,kernel,nu,acc_list"
   ]
  },
  {
   "cell_type": "code",
   "execution_count": null,
   "metadata": {},
   "outputs": [],
   "source": [
    "svc_df = pd.DataFrame()\n",
    "svc_df['Degree'] = degree\n",
    "svc_df['Kernel'] = kernel\n",
    "svc_df['Nu'] = nu\n",
    "svc_df['Accuracy'] = acc_list\n",
    "svc_df"
   ]
  },
  {
   "cell_type": "code",
   "execution_count": null,
   "metadata": {},
   "outputs": [],
   "source": [
    "import mplcursors"
   ]
  },
  {
   "cell_type": "code",
   "execution_count": null,
   "metadata": {
    "scrolled": true
   },
   "outputs": [],
   "source": [
    "plt.scatter(degree,acc_list,alpha=0.5,color='red',label='Degree')\n",
    "plt.scatter(kernel,acc_list,alpha=0.4,color='blue',label='Kernel')\n",
    "plt.scatter(nu,acc_list,alpha=0.4,color='green',label='Nu')\n",
    "plt.legend()\n",
    "mplcursors.cursor(hover=True)\n",
    "plt.title(\"SVC accuracy based on Input Parameters\")\n",
    "plt.savefig(\"svc_accury_by_parameters.png\")\n",
    "plt.show()"
   ]
  },
  {
   "cell_type": "code",
   "execution_count": null,
   "metadata": {
    "scrolled": true
   },
   "outputs": [],
   "source": [
    "plt.scatter(kernel,acc_list,alpha=0.4)\n",
    "plt.title(\"SVC accuracy based on Kernel\")\n",
    "plt.savefig(\"accuracy_by_kernel.png\")\n",
    "plt.show()"
   ]
  },
  {
   "cell_type": "code",
   "execution_count": null,
   "metadata": {},
   "outputs": [],
   "source": [
    "plt.scatter(nu,acc_list,alpha=0.4)\n",
    "plt.title(\"SVC accuracy based on Nu\")\n",
    "plt.savefig(\"accuracy_by_nu.png\")\n",
    "plt.show()"
   ]
  },
  {
   "cell_type": "markdown",
   "metadata": {},
   "source": [
    "## Single Class Classification"
   ]
  },
  {
   "cell_type": "code",
   "execution_count": null,
   "metadata": {},
   "outputs": [],
   "source": [
    "train_size"
   ]
  },
  {
   "cell_type": "code",
   "execution_count": null,
   "metadata": {},
   "outputs": [],
   "source": [
    "%%time\n",
    "w_svc = svm.NuSVC(nu = 0.1, gamma='auto',class_weight={0:weight_ratio[0][0]},kernel='linear')\n",
    "w_svc.fit(train_data.iloc[:train_size], train_label['Peanut Free'][:train_size])#,sample_weight=cal_w) "
   ]
  },
  {
   "cell_type": "code",
   "execution_count": null,
   "metadata": {},
   "outputs": [],
   "source": [
    "test_data.head()"
   ]
  },
  {
   "cell_type": "code",
   "execution_count": null,
   "metadata": {},
   "outputs": [],
   "source": [
    "train_size = 1000"
   ]
  },
  {
   "cell_type": "code",
   "execution_count": null,
   "metadata": {
    "scrolled": true
   },
   "outputs": [],
   "source": [
    "%%time\n",
    "from yellowbrick.classifier import ClassificationReport\n",
    "visualizer = ClassificationReport(w_svc, classes=['Peanut Free','Not Peanut Free'], support=True)\n",
    "visualizer.fit(train_data.iloc[:train_size], train_label['Peanut Free'].iloc[:train_size])        # Fit the visualizer and the model\n",
    "visualizer.score(test_data.iloc[:train_size], test_label['Peanut Free'].iloc[:train_size])        # Evaluate the model on the test data\n",
    "visualizer.show() "
   ]
  },
  {
   "cell_type": "code",
   "execution_count": null,
   "metadata": {},
   "outputs": [],
   "source": [
    "%%time\n",
    "from yellowbrick.classifier import ClassificationReport\n",
    "visualizer = ClassificationReport(w_svc, classes=['Soy Free','Not Soy Free'], support=True)\n",
    "visualizer.fit(train_data.iloc[:train_size], train_label['Soy Free'].iloc[:train_size])        # Fit the visualizer and the model\n",
    "visualizer.score(test_data.iloc[:train_size], test_label['Soy Free'].iloc[:train_size])        # Evaluate the model on the test data\n",
    "visualizer.show() "
   ]
  },
  {
   "cell_type": "code",
   "execution_count": null,
   "metadata": {},
   "outputs": [],
   "source": [
    "%%time\n",
    "from yellowbrick.classifier import ClassificationReport\n",
    "visualizer = ClassificationReport(w_svc, classes=['Tree Nut Free','Not Tree Nut Free'], support=True)\n",
    "visualizer.fit(train_data.iloc[:train_size], train_label['Tree Nut Free'].iloc[:train_size])        # Fit the visualizer and the model\n",
    "visualizer.score(test_data.iloc[:train_size], test_label['Tree Nut Free'].iloc[:train_size])        # Evaluate the model on the test data\n",
    "visualizer.show() "
   ]
  },
  {
   "cell_type": "code",
   "execution_count": null,
   "metadata": {},
   "outputs": [],
   "source": [
    "%%time\n",
    "from yellowbrick.classifier import ClassificationReport\n",
    "visualizer = ClassificationReport(w_svc, classes=['Dairy Free','Not Dairy Free'], support=True)\n",
    "visualizer.fit(train_data.iloc[:train_size], train_label['Dairy Free'].iloc[:train_size])        # Fit the visualizer and the model\n",
    "visualizer.score(test_data.iloc[:train_size], test_label['Dairy Free'].iloc[:train_size])        # Evaluate the model on the test data\n",
    "visualizer.show() "
   ]
  },
  {
   "cell_type": "code",
   "execution_count": null,
   "metadata": {
    "scrolled": false
   },
   "outputs": [],
   "source": [
    "%%time\n",
    "from yellowbrick.classifier import ClassificationReport\n",
    "visualizer = ClassificationReport(w_svc, classes=['Fat Free','Not Fat Free'], support=True)\n",
    "visualizer.fit(train_data.iloc[:train_size], train_label['Fat Free'].iloc[:train_size])        # Fit the visualizer and the model\n",
    "visualizer.score(test_data.iloc[:train_size], test_label['Fat Free'].iloc[:train_size])        # Evaluate the model on the test data\n",
    "visualizer.show() "
   ]
  },
  {
   "cell_type": "code",
   "execution_count": null,
   "metadata": {},
   "outputs": [],
   "source": [
    "%%time\n",
    "p = w_svc.predict(test_data)"
   ]
  },
  {
   "cell_type": "code",
   "execution_count": null,
   "metadata": {},
   "outputs": [],
   "source": []
  },
  {
   "cell_type": "code",
   "execution_count": null,
   "metadata": {
    "scrolled": true
   },
   "outputs": [],
   "source": [
    "print(\"\\n\\n          SVC Classificatin Report-With Weight\\n\\n\")\n",
    "\n",
    "print(classification_report(test_label['Peanut Free'],p))"
   ]
  },
  {
   "cell_type": "code",
   "execution_count": null,
   "metadata": {},
   "outputs": [],
   "source": [
    "c = Counter()\n",
    "c.update(test_label['Peanut Free'])\n",
    "print(\"SVC - With Weight\")\n",
    "print(\"actual label count:\",c)\n",
    "c = Counter()\n",
    "c.update(p)\n",
    "print(\"prediction label count:\",c)"
   ]
  },
  {
   "cell_type": "code",
   "execution_count": null,
   "metadata": {},
   "outputs": [],
   "source": [
    "c = Counter()\n",
    "c.update(p)\n",
    "print(\"prediction label count \",c)"
   ]
  },
  {
   "cell_type": "markdown",
   "metadata": {},
   "source": [
    "## Naive Bayes Classifier"
   ]
  },
  {
   "cell_type": "code",
   "execution_count": null,
   "metadata": {},
   "outputs": [],
   "source": [
    "# # create a guassian classifier\n",
    "bayes_model = GaussianNB()\n",
    "bayes_model.fit(train_data,train_label['Peanut Free'])\n",
    "print(bayes_model.epsilon_)"
   ]
  },
  {
   "cell_type": "code",
   "execution_count": null,
   "metadata": {},
   "outputs": [],
   "source": [
    "p = bayes_model.predict(test_data)"
   ]
  },
  {
   "cell_type": "code",
   "execution_count": null,
   "metadata": {},
   "outputs": [],
   "source": [
    "print(\"\\n\\n          Naive Bayes Classificatin Report\\n\\n\")\n",
    "\n",
    "print(classification_report(test_label['Peanut Free'],p))"
   ]
  },
  {
   "cell_type": "code",
   "execution_count": null,
   "metadata": {},
   "outputs": [],
   "source": [
    "c = Counter()\n",
    "c.update(test_label['Peanut Free'])\n",
    "print(\"Naive Bayes Classifier\")\n",
    "print(\"actual label count:\",c)\n",
    "c = Counter()\n",
    "c.update(bayes_model.predict(test_data))\n",
    "print(\"prediction label count:\",c)"
   ]
  },
  {
   "cell_type": "code",
   "execution_count": null,
   "metadata": {
    "scrolled": true
   },
   "outputs": [],
   "source": [
    "c = Counter()\n",
    "c.update(bayes_model.predict(test_data))\n",
    "print(\"prediction label count \",c)"
   ]
  },
  {
   "cell_type": "markdown",
   "metadata": {},
   "source": [
    "Example of computing class_weight\n",
    "\n",
    "https://programtalk.com/python-examples/sklearn.utils.class_weight.compute_class_weight/"
   ]
  },
  {
   "cell_type": "code",
   "execution_count": null,
   "metadata": {},
   "outputs": [],
   "source": [
    "# %%time \n",
    "# best_nu = -1\n",
    "# best_acc = -1\n",
    "# best_degree = -1\n",
    "# best_kernel = ''\n",
    "# w = -1\n",
    "\n",
    "# nu = []\n",
    "# degree = []\n",
    "# kernel = []\n",
    "# acc_list = []\n",
    "# for n in range(1,9):\n",
    "#     nu_v = 0.1*n\n",
    "#     w += 1\n",
    "#     for k in [\"linear\", \"poly\", \"rbf\", \"sigmoid\"]:\n",
    "#         for d in range(1,10):\n",
    "#             avg_acc = 0\n",
    "#             for i in range(10):\n",
    "#                 training_data,test_data = train_test_split(sample_df,test_size= 0.2)\n",
    "#                 train_data,train_label = getTrianData(training_data,label_column[0])\n",
    "#                 test_data,test_label = getTrianData(test_data,label_column[0])\n",
    "# #                 new_labels = np.asarray(train_label.values)\n",
    "# #                 c = Counter()\n",
    "# #                 c.update(new_labels)\n",
    "# #                       #degree_v = 0.05*i\n",
    "#                 w_svc = svm.NuSVC(nu = nu_v, kernel=k, gamma='auto',degree = d, class_weight={0:weight_ratio[0][0]},probability=True)\n",
    "# #                 print(\"fitting model\")\n",
    "#                 w_svc.fit(train_data.iloc[:train_size], train_label.iloc[:train_size])#,sample_weight=cal_w) \n",
    "# #                 print(\"predicting now\")\n",
    "#                 y_pred = w_svc.predict(test_data)\n",
    "#                 acc = 0\n",
    "#                 for idx, val in enumerate(y_pred):\n",
    "#                     #print(test_label)\n",
    "#                     if val == test_label.values[idx]:\n",
    "#                         acc += 1\n",
    "#                 acc /= len(y_pred)\n",
    "#                 avg_acc += acc\n",
    "#                 print('{}: {}'.format(i,acc))\n",
    "#             avg_acc /= 4\n",
    "#             print('Kernel: {}, nu: {}, Degree: {} , Avg Acc: {} '.format(k,nu_v, d, avg_acc))\n",
    "#             if avg_acc > best_acc:\n",
    "#                 degree.append(d)\n",
    "#                 kernel.append(k)\n",
    "#                 nu.append(nu_v)\n",
    "#                 acc_list.append(avg_acc)\n",
    "#             if k != \"poly\":\n",
    "#                 break\n",
    "\n",
    "                "
   ]
  },
  {
   "cell_type": "code",
   "execution_count": null,
   "metadata": {},
   "outputs": [],
   "source": [
    "# svc_para = pd.DataFrame()\n",
    "# svc_para['best_degree'] = degree\n",
    "# svc_para['best_kernel'] = kernel\n",
    "# svc_para['best_nu'] = nu\n",
    "# svc_para['best_acc'] = acc_list"
   ]
  },
  {
   "cell_type": "code",
   "execution_count": null,
   "metadata": {
    "scrolled": true
   },
   "outputs": [],
   "source": [
    "# svc_para"
   ]
  },
  {
   "cell_type": "code",
   "execution_count": null,
   "metadata": {},
   "outputs": [],
   "source": [
    "# # gca stands for 'get current axis'\n",
    "# ax = plt.gca()\n",
    "\n",
    "# svc_para.plot(kind='line',x='best_acc',y='best_degree',ax=ax)\n",
    "# # svc_para.plot(kind='line',x='best_acc',y='best_kernel', color='red', ax=ax)\n",
    "# svc_para.plot(kind='line',x='best_acc',y='best_nu', color='yellow', ax=ax)\n",
    "\n",
    "# plt.show()"
   ]
  },
  {
   "cell_type": "code",
   "execution_count": null,
   "metadata": {
    "scrolled": true
   },
   "outputs": [],
   "source": [
    "# svc_para.plot.bar(x=['best_acc'],y=['best_degree','best_kernel','best_nu'],alpha=0.4)\n",
    "# plt.title(\"SVC accuracy based on Nu\")\n",
    "# plt.show()"
   ]
  },
  {
   "cell_type": "code",
   "execution_count": null,
   "metadata": {},
   "outputs": [],
   "source": []
  },
  {
   "cell_type": "markdown",
   "metadata": {},
   "source": [
    "## Not Used Code"
   ]
  },
  {
   "cell_type": "code",
   "execution_count": null,
   "metadata": {},
   "outputs": [],
   "source": [
    "# uncomment below lines to replace column with number greater than 0 to 1 to make it binary.\n",
    "# columns = ['avg_rating','best_rating','worst_rating','prepare_again_rating','num_reviews','total_time', 'tags', 'title']\n",
    "# df = sample_df.copy()\n",
    "# for col in sample_df.columns:\n",
    "#     if col not in columns:\n",
    "#         df.loc[df[col] > 0, col] = 1\n",
    "# df.head(25)"
   ]
  },
  {
   "cell_type": "code",
   "execution_count": null,
   "metadata": {},
   "outputs": [],
   "source": [
    "# len(sample_df[[\"Breakfast\" in x for x in sample_df.tags]])"
   ]
  },
  {
   "cell_type": "code",
   "execution_count": null,
   "metadata": {},
   "outputs": [],
   "source": [
    "# Uncomment below if need to encode data into unique value \n",
    "\n",
    "\n",
    "# from sklearn import preprocessing\n",
    "# # label encoder\n",
    "# le = preprocessing.LabelEncoder()\n",
    "\n",
    "# # Converting string labels into numbers\n",
    "# label = le.fit_transform(Y) # 0 ==> False, 1 ==> True\n",
    "# label\n",
    "\n",
    "# Uncomment below if need to convert X data into encoder and turn it into tuple list\n",
    "#data.apply(le.fit_transform)\n",
    "#data = [tuple(r) for r in data.values.tolist()]"
   ]
  },
  {
   "cell_type": "code",
   "execution_count": null,
   "metadata": {},
   "outputs": [],
   "source": [
    "# uncomment below if need to look for inf value in data \n",
    "# for col in X.columns:\n",
    "#     print(X.loc[X[col] > 100000, col])"
   ]
  },
  {
   "cell_type": "markdown",
   "metadata": {},
   "source": [
    "### Example from Sklearn Website\n",
    "\n",
    "https://scikit-learn.org/stable/auto_examples/svm/plot_weighted_samples.html"
   ]
  },
  {
   "cell_type": "code",
   "execution_count": null,
   "metadata": {},
   "outputs": [],
   "source": [
    "print(__doc__)\n",
    "\n",
    "def plot_decision_function(classifier, sample_weight, axis, title):\n",
    "    # plot the decision function\n",
    "    xx, yy = np.meshgrid(np.linspace(-4, 5, 500), np.linspace(-4, 5, 500))\n",
    "\n",
    "    Z = classifier.decision_function(np.c_[xx.ravel(), yy.ravel()])\n",
    "    Z = Z.reshape(xx.shape)\n",
    "\n",
    "    # plot the line, the points, and the nearest vectors to the plane\n",
    "    axis.contourf(xx, yy, Z, alpha=0.75, cmap=plt.cm.bone)\n",
    "    axis.scatter(X[:, 0], X[:, 1], c=y, s=100 * sample_weight, alpha=0.9,\n",
    "                 cmap=plt.cm.bone, edgecolors='black')\n",
    "\n",
    "    axis.axis('off')\n",
    "    axis.set_title(title)\n",
    "\n",
    "\n",
    "# we create 20 points\n",
    "np.random.seed(0)\n",
    "X = np.r_[np.random.randn(10, 2) + [1, 1], np.random.randn(10, 2)]\n",
    "y = [1] * 10 + [-1] * 10\n",
    "sample_weight_last_ten = abs(np.random.randn(len(X)))\n",
    "sample_weight_constant = np.ones(len(X))\n",
    "# and bigger weights to some outliers\n",
    "sample_weight_last_ten[15:] *= 5\n",
    "sample_weight_last_ten[9] *= 15\n",
    "\n",
    "# for reference, first fit without sample weights\n",
    "print(sample_weight_last_ten)\n",
    "# fit the model\n",
    "clf_weights = svm.SVC(gamma=1)\n",
    "clf_weights.fit(X, y, sample_weight=sample_weight_last_ten)\n",
    "\n",
    "clf_no_weights = svm.SVC(gamma=1)\n",
    "clf_no_weights.fit(X, y)\n",
    "\n",
    "fig, axes = plt.subplots(1, 2, figsize=(14, 6))\n",
    "plot_decision_function(clf_no_weights, sample_weight_constant, axes[0],\n",
    "                       \"Constant weights\")\n",
    "plot_decision_function(clf_weights, sample_weight_last_ten, axes[1],\n",
    "                       \"Modified weights\")\n",
    "\n",
    "plt.show()"
   ]
  },
  {
   "cell_type": "code",
   "execution_count": null,
   "metadata": {},
   "outputs": [],
   "source": [
    "# a = -class_weight[0] / class_weight[1]\n",
    "\n",
    "# xx = np.linspace(0,50)\n",
    "# yy = a * xx - feature_weight[0].max() / class_weight[1]\n",
    "# print(xx.min(),yy.max())\n",
    "# h0 = plt.plot(xx, yy, 'k-', label=\"non weighted div\")\n",
    "\n",
    "# plt.scatter(x, y,c=y)\n",
    "# plt.ylim(yy.min(),50)\n",
    "# plt.xlim(xx.min(),50)\n",
    "# plt.legend()\n",
    "# plt.show()"
   ]
  },
  {
   "cell_type": "code",
   "execution_count": null,
   "metadata": {},
   "outputs": [],
   "source": [
    "\n",
    "# import numpy as np\n",
    "# import matplotlib.pyplot as plt\n",
    "# from sklearn import svm, datasets\n",
    "\n",
    "# # import some data to play with\n",
    "# iris = datasets.load_iris()\n",
    "# X = data.iloc[:1000, :100]  # we only take the first two features. We could\n",
    "#                       # avoid this ugly slicing by using a two-dim dataset\n",
    "# y = label.iloc[:1000]\n",
    "\n",
    "# h = .02  # step size in the mesh\n",
    "\n",
    "# # we create an instance of SVM and fit out data. We do not scale our\n",
    "# # data since we want to plot the support vectors\n",
    "# C = 1.0  # SVM regularization parameter\n",
    "# svc = svm.SVC(kernel='linear', C=C).fit(X, y)\n",
    "# rbf_svc = svm.SVC(kernel='rbf', gamma=0.7, C=C).fit(X, y)\n",
    "# poly_svc = svm.SVC(kernel='poly', degree=3, C=C).fit(X, y)\n",
    "# lin_svc = svm.LinearSVC(C=C).fit(X, y)\n",
    "\n",
    "# # create a mesh to plot in\n",
    "# x_min, x_max = X.iloc[:, 0].min() - 1, X.iloc[:, 0].max() + 1\n",
    "# y_min, y_max = X.iloc[:, 100].min() - 1, X.iloc[:, 100].max() + 1\n",
    "# xx, yy = np.meshgrid(np.arange(x_min, x_max, h),\n",
    "#                      np.arange(y_min, y_max, h))\n",
    "\n",
    "# # title for the plots\n",
    "# titles = ['SVC with linear kernel',\n",
    "#           'LinearSVC (linear kernel)',\n",
    "#           'SVC with RBF kernel',\n",
    "#           'SVC with polynomial (degree 3) kernel']\n",
    "\n",
    "\n",
    "# for i, clf in enumerate((svc, lin_svc, rbf_svc, poly_svc)):\n",
    "#     # Plot the decision boundary. For that, we will assign a color to each\n",
    "#     # point in the mesh [x_min, x_max]x[y_min, y_max].\n",
    "#     plt.subplot(2, 2, i + 1)\n",
    "#     plt.subplots_adjust(wspace=0.4, hspace=0.4)\n",
    "\n",
    "#     Z = clf.predict(np.c_[xx.ravel(), yy.ravel()])\n",
    "\n",
    "#     # Put the result into a color plot\n",
    "#     Z = Z.reshape(xx.shape)\n",
    "#     plt.contourf(xx, yy, Z, cmap=plt.cm.coolwarm, alpha=0.8)\n",
    "\n",
    "#     # Plot also the training points\n",
    "#     plt.scatter(X.iloc[:, 0], X.iloc[:, 1], c=y, cmap=plt.cm.coolwarm)\n",
    "#     plt.xlabel('Sepal length')\n",
    "#     plt.ylabel('Sepal width')\n",
    "#     plt.xlim(xx.min(), xx.max())\n",
    "#     plt.ylim(yy.min(), yy.max())\n",
    "#     plt.xticks(())\n",
    "#     plt.yticks(())\n",
    "#     plt.title(titles[i])\n",
    "\n",
    "# plt.show()"
   ]
  },
  {
   "cell_type": "code",
   "execution_count": null,
   "metadata": {},
   "outputs": [],
   "source": [
    "# plot_decision_function(clf,clf.class_weight_,axes[0],'SVC without weights')"
   ]
  },
  {
   "cell_type": "code",
   "execution_count": null,
   "metadata": {},
   "outputs": [],
   "source": [
    "# from sklearn.datasets.samples_generator import make_blobs \n",
    "\n",
    "# x,y = make_blobs(n_samples=100,centers=3,n_features=3)\n",
    "# plt.scatter(x[:, 0], x[:, 1], c=y, s=50, cmap='spring'); \n",
    "# plt.show()  "
   ]
  }
 ],
 "metadata": {
  "kernelspec": {
   "display_name": "Python 3",
   "language": "python",
   "name": "python3"
  },
  "language_info": {
   "codemirror_mode": {
    "name": "ipython",
    "version": 3
   },
   "file_extension": ".py",
   "mimetype": "text/x-python",
   "name": "python",
   "nbconvert_exporter": "python",
   "pygments_lexer": "ipython3",
   "version": "3.6.6rc1"
  }
 },
 "nbformat": 4,
 "nbformat_minor": 2
}
