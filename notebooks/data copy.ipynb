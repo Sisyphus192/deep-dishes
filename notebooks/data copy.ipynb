{
 "cells": [
  {
   "cell_type": "code",
   "execution_count": 11,
   "metadata": {},
   "outputs": [
    {
     "ename": "SyntaxError",
     "evalue": "EOL while scanning string literal (<ipython-input-11-e66c1e31a746>, line 1)",
     "output_type": "error",
     "traceback": [
      "\u001b[0;36m  File \u001b[0;32m\"<ipython-input-11-e66c1e31a746>\"\u001b[0;36m, line \u001b[0;32m1\u001b[0m\n\u001b[0;31m    string = \"1 linear 0.05 0.906532\\n\u001b[0m\n\u001b[0m                                      ^\u001b[0m\n\u001b[0;31mSyntaxError\u001b[0m\u001b[0;31m:\u001b[0m EOL while scanning string literal\n"
     ]
    }
   ],
   "source": [
    "string = \"1 linear 0.05 0.906532\\n\n",
    "1 poly 0.05  0.907282\\n\n",
    "2 poly 0.05 0.614740\\n\n",
    "3 poly 0.05 0.566817\\n\n",
    "4 poly 0.05 0.534409\\n\n",
    "1 rbf 0.05 0.755255\\n\n",
    "1 sigmoid 0.05 0.502878\\n\n",
    "1 linear 0.10 0.908408\\n\n",
    "1 poly 0.10 0.905781\\n\n",
    "2 poly 0.10 0.600475\\n\n",
    "3 poly 0.10 0.568819\\n\n",
    "4 poly 0.10 0.535536\\n\n",
    "1 rbf 0.10 0.755756\\n\n",
    "1 sigmoid 0.10 0.528904\\n\n",
    "1 linear 0.15 0.905155\\n\n",
    "1 poly 0.15 0.903028\\n\n",
    "2 poly 0.15 0.570195\""
   ]
  },
  {
   "cell_type": "code",
   "execution_count": 8,
   "metadata": {
    "scrolled": true
   },
   "outputs": [
    {
     "ename": "NameError",
     "evalue": "name 'svc_para' is not defined",
     "output_type": "error",
     "traceback": [
      "\u001b[0;31m---------------------------------------------------------------------------\u001b[0m",
      "\u001b[0;31mNameError\u001b[0m                                 Traceback (most recent call last)",
      "\u001b[0;32m<ipython-input-8-574d7111d438>\u001b[0m in \u001b[0;36m<module>\u001b[0;34m\u001b[0m\n\u001b[0;32m----> 1\u001b[0;31m \u001b[0mcopy\u001b[0m \u001b[0;34m=\u001b[0m \u001b[0msvc_para\u001b[0m\u001b[0;34m\u001b[0m\u001b[0m\n\u001b[0m",
      "\u001b[0;31mNameError\u001b[0m: name 'svc_para' is not defined"
     ]
    }
   ],
   "source": [
    "copy = svc_para"
   ]
  },
  {
   "cell_type": "code",
   "execution_count": null,
   "metadata": {},
   "outputs": [],
   "source": [
    "svc_para"
   ]
  },
  {
   "cell_type": "code",
   "execution_count": null,
   "metadata": {},
   "outputs": [],
   "source": []
  }
 ],
 "metadata": {
  "kernelspec": {
   "display_name": "Python 3",
   "language": "python",
   "name": "python3"
  },
  "language_info": {
   "codemirror_mode": {
    "name": "ipython",
    "version": 3
   },
   "file_extension": ".py",
   "mimetype": "text/x-python",
   "name": "python",
   "nbconvert_exporter": "python",
   "pygments_lexer": "ipython3",
   "version": "3.6.6rc1"
  }
 },
 "nbformat": 4,
 "nbformat_minor": 2
}
